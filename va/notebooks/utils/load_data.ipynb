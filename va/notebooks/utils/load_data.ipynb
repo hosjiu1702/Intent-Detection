{
 "cells": [
  {
   "cell_type": "code",
   "execution_count": 5,
   "id": "91f5fa6e",
   "metadata": {},
   "outputs": [],
   "source": [
    "\"\"\" Load PhoATIS\n",
    "\"\"\"\n",
    "import os\n",
    "\n",
    "\n",
    "data_path = \"../../data/phoatis/\"\n",
    "train_path = os.path.join(data_path, \"train\")\n",
    "val_path = os.path.join(data_path, \"dev\")\n",
    "test_path = os.path.join(data_path, \"test\")\n",
    "\n",
    "\n",
    "def load_file(path):\n",
    "    lines = []\n",
    "    with open(path, \"r\") as f:\n",
    "        lines = f.readlines()\n",
    "\n",
    "    return lines\n",
    "\n",
    "\n",
    "def load_data(path):\n",
    "    X, y = [], []\n",
    "    X_path = os.path.join(path, \"seq.in\")\n",
    "    y_path = os.path.join(path, \"label\")\n",
    "    X = load_file(X_path)\n",
    "    y = load_file(y_path)\n",
    "\n",
    "    return X, y\n",
    "\n",
    "\n",
    "def load_phoatis(data_root_path, split=\"all\"):\n",
    "    if split == \"all\":\n",
    "        train_X, val_X, test_X = [], [], []\n",
    "        train_y, val_y, test_y = [], [], []\n",
    "\n",
    "        train_path = os.path.join(data_root_path, \"train\")\n",
    "        val_path = os.path.join(data_root_path, \"dev\")\n",
    "        test_path = os.path.join(data_root_path, \"test\")\n",
    "\n",
    "        train_X, train_y = load_data(train_path)\n",
    "        val_X, val_y = load_data(val_path)\n",
    "        test_X, test_y = load_data(test_path)\n",
    "        \n",
    "        return (train_X, train_y), (val_X, val_y), (test_X, test_y)"
   ]
  },
  {
   "cell_type": "code",
   "execution_count": 15,
   "id": "2bf9e60f",
   "metadata": {},
   "outputs": [],
   "source": [
    "train, val, test = load_phoatis(data_path, split=\"all\")\n",
    "train_X, train_y = train[0], train[1]\n",
    "val_X, val_y = val[0], val[1]\n",
    "test_X, test_y = test[0], test[1]"
   ]
  },
  {
   "cell_type": "code",
   "execution_count": 6,
   "id": "5a21a113",
   "metadata": {},
   "outputs": [],
   "source": [
    "\"\"\" Load VA-style based data\n",
    "\"\"\"\n",
    "import pandas as pd\n",
    "\n",
    "\n",
    "def load_va_data(path):\n",
    "    \"\"\" Load raw data\n",
    "    \n",
    "    Supported foramt: xlsx\n",
    "    \"\"\"\n",
    "    X, y = [], []\n",
    "\n",
    "    data = pd.read_excel(path, engine=\"openpyxl\")\n",
    "    X = data[\"Sample\"].tolist()\n",
    "    y = data[\"Intent\"].tolist()\n",
    "\n",
    "    return X, y"
   ]
  },
  {
   "cell_type": "code",
   "execution_count": 8,
   "id": "626bd3de-989b-421e-9fd1-cc70a2a58fa1",
   "metadata": {
    "tags": []
   },
   "outputs": [],
   "source": [
    "PATH = \"../../data/trungquan/trainset.xlsx\"\n",
    "X, y = load_va_data(PATH)"
   ]
  }
 ],
 "metadata": {
  "kernelspec": {
   "display_name": "Python 3 (ipykernel)",
   "language": "python",
   "name": "python3"
  },
  "language_info": {
   "codemirror_mode": {
    "name": "ipython",
    "version": 3
   },
   "file_extension": ".py",
   "mimetype": "text/x-python",
   "name": "python",
   "nbconvert_exporter": "python",
   "pygments_lexer": "ipython3",
   "version": "3.7.12"
  }
 },
 "nbformat": 4,
 "nbformat_minor": 5
}
