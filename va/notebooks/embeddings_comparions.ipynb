{
 "cells": [
  {
   "cell_type": "code",
   "execution_count": 30,
   "id": "fc1999fe-ccd4-41d2-9eed-7e346490c417",
   "metadata": {},
   "outputs": [],
   "source": [
    "import os\n",
    "from typing import List, Text, Tuple, Union\n",
    "from pprint import pprint\n",
    "from datetime import timedelta, datetime\n",
    "\n",
    "from pyvi import ViTokenizer\n",
    "import numpy as np\n",
    "import pandas as pd\n",
    "from sklearn.linear_model import LogisticRegression as LR\n",
    "from sklearn.feature_extraction.text import TfidfVectorizer\n",
    "from sklearn.preprocessing import LabelBinarizer, MultiLabelBinarizer, FunctionTransformer\n",
    "from sklearn.multiclass import OneVsRestClassifier as OVRStrategy\n",
    "from sklearn.pipeline import Pipeline\n",
    "from sklearn.model_selection import cross_val_score, cross_validate, GridSearchCV\n",
    "from sklearn.utils.validation import check_is_fitted\n",
    "from sentence_transformers import SentenceTransformer\n",
    "import torch\n",
    "from transformers import AutoModelForSequenceClassification, AutoTokenizer\n",
    "from emandai.utils import load_data_from_botid\n",
    "from tqdm import tqdm\n",
    "from bokeh.io import output_file, output_notebook, export_png, show\n",
    "from bokeh.models import ColumnDataSource\n",
    "from bokeh.plotting import figure\n",
    "from bokeh.transform import dodge\n",
    "from bokeh.layouts import gridplot\n",
    "\n",
    "from va.src.utils.data import load_va_data"
   ]
  },
  {
   "cell_type": "markdown",
   "id": "b2fb98aa-abfc-4d96-9255-369286ba5de3",
   "metadata": {},
   "source": [
    "# First Look"
   ]
  },
  {
   "cell_type": "markdown",
   "id": "cbf03662-5321-4e02-a7bf-d6f6534a3a40",
   "metadata": {},
   "source": [
    "## Load Data"
   ]
  },
  {
   "cell_type": "code",
   "execution_count": 85,
   "id": "cc251d40-b617-49b8-b398-10c96723a1a6",
   "metadata": {},
   "outputs": [],
   "source": [
    "PATH = \"../data/trungquan/trainset.xlsx\"\n",
    "X, y = load_va_data(PATH)"
   ]
  },
  {
   "cell_type": "markdown",
   "id": "dcb7cb53-b45c-40d9-b616-a80d33f6d97f",
   "metadata": {},
   "source": [
    "## Preprocess Text"
   ]
  },
  {
   "cell_type": "code",
   "execution_count": 86,
   "id": "631bca38-2e37-455f-95e1-ba99d460adcf",
   "metadata": {},
   "outputs": [],
   "source": [
    "def preprocess(texts):\n",
    "    \"\"\" Word Segmentation \"\"\"\n",
    "    tokenize = lambda x: ViTokenizer.tokenize(x)\n",
    "\n",
    "    return [tokenize(text) for text in texts]"
   ]
  },
  {
   "cell_type": "code",
   "execution_count": 87,
   "id": "555553c3-fe19-4069-ab5d-43baccdc8565",
   "metadata": {},
   "outputs": [],
   "source": [
    "X = preprocess(X)"
   ]
  },
  {
   "cell_type": "markdown",
   "id": "6eb8b3d3-76d4-4967-bb03-2e5ff7840597",
   "metadata": {},
   "source": [
    "## Encode Label"
   ]
  },
  {
   "cell_type": "code",
   "execution_count": 88,
   "id": "4704a4d1-7ad4-4c82-a8dd-eadba7799086",
   "metadata": {},
   "outputs": [
    {
     "name": "stdout",
     "output_type": "stream",
     "text": [
      "array(['C2A_TUVAN', 'C2B_GLS', 'C3_KQT'], dtype='<U9')\n",
      "array([[0, 0, 1],\n",
      "       [0, 0, 1],\n",
      "       [0, 0, 1],\n",
      "       ...,\n",
      "       [1, 0, 0],\n",
      "       [1, 0, 0],\n",
      "       [1, 0, 0]])\n"
     ]
    }
   ],
   "source": [
    "lb = LabelBinarizer()\n",
    "y = lb.fit_transform(y)\n",
    "pprint(lb.classes_)\n",
    "pprint(y)"
   ]
  },
  {
   "cell_type": "code",
   "execution_count": 89,
   "id": "124c7c0d-cc24-465c-b1d3-796ee9787dbd",
   "metadata": {},
   "outputs": [],
   "source": [
    "def encode_label(labels):\n",
    "    lb = LabelBinarizer()\n",
    "    lb.fit(labels)\n",
    "    return lb"
   ]
  },
  {
   "cell_type": "markdown",
   "id": "59b5a1bb-dad2-40f0-84b3-e49e2245a063",
   "metadata": {},
   "source": [
    "## Text Embedding"
   ]
  },
  {
   "cell_type": "markdown",
   "id": "de6a555c-a72a-4ed7-b92e-ef047e34aeb9",
   "metadata": {
    "tags": []
   },
   "source": [
    "### TF-IDF"
   ]
  },
  {
   "cell_type": "code",
   "execution_count": 90,
   "id": "f64c314a-268d-45a3-9840-75af36da9583",
   "metadata": {},
   "outputs": [],
   "source": [
    "tfidf = TfidfVectorizer(token_pattern=r\"(?u)\\b\\w+\\b\", ngram_range=(1, 2))"
   ]
  },
  {
   "cell_type": "code",
   "execution_count": 91,
   "id": "c5b6c4d8-3de2-48b5-9a06-9b9c6e6f2ca8",
   "metadata": {},
   "outputs": [],
   "source": [
    "tfidf_X = tfidf.fit_transform(X)"
   ]
  },
  {
   "cell_type": "code",
   "execution_count": 92,
   "id": "e466d360-3ad7-431b-a479-b89a9f38d74d",
   "metadata": {},
   "outputs": [
    {
     "data": {
      "text/plain": [
       "1281"
      ]
     },
     "execution_count": 92,
     "metadata": {},
     "output_type": "execute_result"
    }
   ],
   "source": [
    "len(tfidf.vocabulary_)"
   ]
  },
  {
   "cell_type": "markdown",
   "id": "f87d60b9-2b81-4b88-8c00-a031205ae551",
   "metadata": {},
   "source": [
    "### Vietnamese SBERT"
   ]
  },
  {
   "cell_type": "code",
   "execution_count": 229,
   "id": "fa92572c-7791-4f9c-a97c-d363b0218a18",
   "metadata": {},
   "outputs": [],
   "source": [
    "sbert = SentenceTransformer('keepitreal/vietnamese-sbert')"
   ]
  },
  {
   "cell_type": "code",
   "execution_count": 93,
   "id": "f5a4f623-4549-4f13-bfe7-fc6f53a77731",
   "metadata": {},
   "outputs": [
    {
     "data": {
      "application/vnd.jupyter.widget-view+json": {
       "model_id": "14fece094fb545aabed7de4752d4552f",
       "version_major": 2,
       "version_minor": 0
      },
      "text/plain": [
       "Batches:   0%|          | 0/13 [00:00<?, ?it/s]"
      ]
     },
     "metadata": {},
     "output_type": "display_data"
    }
   ],
   "source": [
    "sbert_X = sbert.encode(X)"
   ]
  },
  {
   "cell_type": "code",
   "execution_count": 94,
   "id": "4e29e8cd-6582-453b-8ad4-d492c8d7cb91",
   "metadata": {},
   "outputs": [
    {
     "data": {
      "text/plain": [
       "(396, 768)"
      ]
     },
     "execution_count": 94,
     "metadata": {},
     "output_type": "execute_result"
    }
   ],
   "source": [
    "sbert_X.shape"
   ]
  },
  {
   "cell_type": "markdown",
   "id": "b0976f64-8b94-45a9-a261-c01c84e7cbad",
   "metadata": {
    "tags": []
   },
   "source": [
    "### PhoBERT"
   ]
  },
  {
   "cell_type": "code",
   "execution_count": 331,
   "id": "56218750-3216-4f6e-b9c0-edc9dbc1f806",
   "metadata": {},
   "outputs": [
    {
     "name": "stderr",
     "output_type": "stream",
     "text": [
      "Some weights of the model checkpoint at vinai/phobert-base were not used when initializing RobertaForSequenceClassification: ['roberta.pooler.dense.weight', 'lm_head.layer_norm.weight', 'lm_head.decoder.bias', 'lm_head.dense.bias', 'lm_head.bias', 'lm_head.dense.weight', 'lm_head.layer_norm.bias', 'lm_head.decoder.weight', 'roberta.pooler.dense.bias']\n",
      "- This IS expected if you are initializing RobertaForSequenceClassification from the checkpoint of a model trained on another task or with another architecture (e.g. initializing a BertForSequenceClassification model from a BertForPreTraining model).\n",
      "- This IS NOT expected if you are initializing RobertaForSequenceClassification from the checkpoint of a model that you expect to be exactly identical (initializing a BertForSequenceClassification model from a BertForSequenceClassification model).\n",
      "Some weights of RobertaForSequenceClassification were not initialized from the model checkpoint at vinai/phobert-base and are newly initialized: ['classifier.out_proj.bias', 'classifier.dense.weight', 'classifier.dense.bias', 'classifier.out_proj.weight']\n",
      "You should probably TRAIN this model on a down-stream task to be able to use it for predictions and inference.\n",
      "Special tokens have been added in the vocabulary, make sure the associated word embeddings are fine-tuned or trained.\n"
     ]
    }
   ],
   "source": [
    "phobert = AutoModelForSequenceClassification.from_pretrained(\"vinai/phobert-base\")\n",
    "photokenizer = AutoTokenizer.from_pretrained(\"vinai/phobert-base\")"
   ]
  },
  {
   "cell_type": "code",
   "execution_count": 95,
   "id": "163a0b91-8a61-4bb6-8c61-dda38ec4a3dc",
   "metadata": {},
   "outputs": [],
   "source": [
    "def phobert_encode(text: Union[Text, List[Text]],\n",
    "                   phobert,\n",
    "                   photokenizer) -> np.ndarray:\n",
    "    \"\"\" Get sentence embedding from [CLS] token of the given text.\n",
    "    reference: https://discuss.huggingface.co/t/how-to-get-cls-embeddings-from-bertfortokenclassification-model/9276/3\n",
    "    \"\"\"\n",
    "    embeddings = None\n",
    "\n",
    "    encoded_text = photokenizer(text, padding=True, truncation=True, return_tensors=\"pt\")\n",
    "    text_ids = encoded_text[\"input_ids\"]\n",
    "    with torch.no_grad():\n",
    "        outputs = phobert(text_ids, output_hidden_states=True)\n",
    "        last_hidden_state = outputs.hidden_states[-1]\n",
    "        embeddings = last_hidden_state[:, 0, :]\n",
    "\n",
    "        if isinstance(embeddings, torch.Tensor):\n",
    "            embeddings = embeddings.detach().cpu().numpy()\n",
    "\n",
    "        return embeddings"
   ]
  },
  {
   "cell_type": "code",
   "execution_count": 2,
   "id": "f6d6b999-cc45-4f2f-a48e-8767fb969a50",
   "metadata": {},
   "outputs": [],
   "source": [
    "class PhoBertWrapper:\n",
    "    def __init__(self):\n",
    "        self.model = AutoModelForSequenceClassification.from_pretrained(\"vinai/phobert-base\")\n",
    "        self.tokenizer = AutoTokenizer.from_pretrained(\"vinai/phobert-base\")\n",
    "\n",
    "    def encode(self, X: Union[Text, List[Text]]):\n",
    "        embeddings = None\n",
    "\n",
    "        encoded_text = self.tokenizer(X, padding=True, truncation=True, return_tensors=\"pt\")\n",
    "        text_ids = encoded_text[\"input_ids\"]\n",
    "        with torch.no_grad():\n",
    "            outputs = self.model(text_ids, output_hidden_states=True)\n",
    "            last_hidden_state = outputs.hidden_states[-1]\n",
    "            embeddings = last_hidden_state[:, 0, :]\n",
    "            if isinstance(embeddings, torch.Tensor):\n",
    "                embeddings = embeddings.detach().cpu().numpy()\n",
    "\n",
    "        return embeddings"
   ]
  },
  {
   "cell_type": "code",
   "execution_count": null,
   "id": "d7d53d48-e200-4683-ba21-f036995153a4",
   "metadata": {},
   "outputs": [],
   "source": [
    "phobert_X = phobert_encode(X, phobert, photokenizer)"
   ]
  },
  {
   "cell_type": "code",
   "execution_count": 80,
   "id": "01ee758d-f76e-43cf-94f8-df662315a1bf",
   "metadata": {},
   "outputs": [
    {
     "data": {
      "text/plain": [
       "(396, 768)"
      ]
     },
     "execution_count": 80,
     "metadata": {},
     "output_type": "execute_result"
    }
   ],
   "source": [
    "phobert_X.shape"
   ]
  },
  {
   "cell_type": "markdown",
   "id": "23039145-ad71-4340-be63-22e1ae8bf931",
   "metadata": {},
   "source": [
    "## Classifier"
   ]
  },
  {
   "cell_type": "markdown",
   "id": "24d69ee9-2ef0-4fde-a1dc-3ff091919f5e",
   "metadata": {
    "tags": []
   },
   "source": [
    "### Logistic Regression"
   ]
  },
  {
   "cell_type": "code",
   "execution_count": null,
   "id": "370f799e-ea87-44a0-8cc7-6d026875e001",
   "metadata": {
    "tags": []
   },
   "outputs": [],
   "source": [
    "clf = {}\n",
    "clf[\"tfidf\"] = OneVsRestClassifier(LogisticRegression()).fit(tfidf_X, y)\n",
    "clf[\"sbert\"] = OneVsRestClassifier(LogisticRegression()).fit(sbert_X, y)\n",
    "clf[\"phobert\"] = OneVsRestClassifier(LogisticRegression()).fit(phobert_X, y)"
   ]
  },
  {
   "cell_type": "code",
   "execution_count": 77,
   "id": "d98d7416-ac7d-4a76-8565-0fd9a99f4b8f",
   "metadata": {},
   "outputs": [],
   "source": [
    "\"\"\" Inference \"\"\"\n",
    "def infer(text: Text,\n",
    "          embedding_type: Text = \"tfidf\",\n",
    "          with_prob: bool = False\n",
    "    ) -> Union[np.ndarray, Tuple[np.ndarray, np.ndarray]]:\n",
    "    pred = []\n",
    "\n",
    "    if not isinstance(text, List):\n",
    "        text = [text]\n",
    "\n",
    "    if embedding_type == \"tfidf\":\n",
    "        vectorizer = tfidf\n",
    "        _clf = clf[\"tfidf\"]\n",
    "    elif embedding_type == \"sbert\":\n",
    "        vectorizer = sbert\n",
    "        _clf = clf[\"sbert\"]\n",
    "    elif embedding_type == \"phobert\":\n",
    "        vectorizer = phobert\n",
    "        _clf = clf[\"phobert\"]\n",
    "    else:\n",
    "        raise ValueError\n",
    "\n",
    "    # preprocess\n",
    "    text = preprocess(text)\n",
    "\n",
    "    # vectorize\n",
    "    if embedding_type == \"tfidf\":\n",
    "        features = vectorizer.transform(text)\n",
    "    elif embedding_type == \"sbert\":\n",
    "        features = vectorizer.encode(text)\n",
    "    elif embedding_type == \"phobert\":\n",
    "        features = phobert.encode(text)\n",
    "    else:\n",
    "        raise ValueError\n",
    "\n",
    "    # classify\n",
    "    pred = _clf.predict(features)\n",
    "\n",
    "    if with_prob:\n",
    "        prob = _clf.predict_proba(features)\n",
    "        prob = np.max(prob, axis=1)\n",
    "        return pred, prob\n",
    "\n",
    "    return pred"
   ]
  },
  {
   "cell_type": "markdown",
   "id": "e560c8b5-ebd8-4e83-a665-684a6c1e2227",
   "metadata": {},
   "source": [
    "#### Features"
   ]
  },
  {
   "cell_type": "markdown",
   "id": "0bec528a-26ad-46d8-b2c6-c45d194336f0",
   "metadata": {},
   "source": [
    "##### TF-IDF"
   ]
  },
  {
   "cell_type": "code",
   "execution_count": 242,
   "id": "5bd7c0c8-debe-4da9-b3b9-2596e019d0ab",
   "metadata": {},
   "outputs": [],
   "source": [
    "def test1(text):\n",
    "    pred, prob = infer(text, embedding_type=\"tfidf\", with_prob=True)\n",
    "    pprint(pred)\n",
    "    pprint(lb.inverse_transform(pred))\n",
    "    pprint(prob)"
   ]
  },
  {
   "cell_type": "code",
   "execution_count": 243,
   "id": "5d0a2944-a227-41d1-ba41-354e71aee0ba",
   "metadata": {},
   "outputs": [
    {
     "name": "stdout",
     "output_type": "stream",
     "text": [
      "array([[0, 0, 0]])\n",
      "array(['C2A_TUVAN'], dtype='<U9')\n",
      "array([0.34704396])\n"
     ]
    }
   ],
   "source": [
    "text = \"em có thể diễn giải chi tiết hơn được không\"\n",
    "test1(text)"
   ]
  },
  {
   "cell_type": "code",
   "execution_count": 246,
   "id": "85e6eea7-d35d-4e93-96a6-62e3992082f3",
   "metadata": {},
   "outputs": [
    {
     "name": "stdout",
     "output_type": "stream",
     "text": [
      "array([[0, 1, 0]])\n",
      "array(['C2B_GLS'], dtype='<U9')\n",
      "array([0.51182048])\n"
     ]
    }
   ],
   "source": [
    "text = \"hay là chút nữa liên lạc lại em nhé\"\n",
    "test1(text)"
   ]
  },
  {
   "cell_type": "code",
   "execution_count": 248,
   "id": "6f3c9d75-fe15-4bdf-a57c-df2d44a47bb2",
   "metadata": {},
   "outputs": [
    {
     "name": "stdout",
     "output_type": "stream",
     "text": [
      "array([[0, 0, 1]])\n",
      "array(['C3_KQT'], dtype='<U9')\n",
      "array([0.62048898])\n"
     ]
    }
   ],
   "source": [
    "text = \"cảm ơn em nhưng chắc là anh không hứng thú\"\n",
    "test1(text)"
   ]
  },
  {
   "cell_type": "code",
   "execution_count": 251,
   "id": "0050c9a8-0744-4974-9d2c-5c56e7079cd2",
   "metadata": {},
   "outputs": [
    {
     "name": "stdout",
     "output_type": "stream",
     "text": [
      "array([[0, 0, 0]])\n",
      "array(['C2A_TUVAN'], dtype='<U9')\n",
      "array([0.46300921])\n"
     ]
    }
   ],
   "source": [
    "text = \"anh nghĩ là em nên dừng lại\"\n",
    "test1(text)"
   ]
  },
  {
   "cell_type": "code",
   "execution_count": 253,
   "id": "4bbd9ecf-e1c2-4023-bb2a-fab0e660ba02",
   "metadata": {},
   "outputs": [
    {
     "name": "stdout",
     "output_type": "stream",
     "text": [
      "array([[0, 0, 0]])\n",
      "array(['C2A_TUVAN'], dtype='<U9')\n",
      "array([0.46125805])\n"
     ]
    }
   ],
   "source": [
    "text = \"dạ không ạ\"\n",
    "test1(text)"
   ]
  },
  {
   "cell_type": "code",
   "execution_count": 257,
   "id": "190db567-71f9-43ca-9e38-df7a5566c8ad",
   "metadata": {},
   "outputs": [
    {
     "name": "stdout",
     "output_type": "stream",
     "text": [
      "array([[0, 0, 0]])\n",
      "array(['C2A_TUVAN'], dtype='<U9')\n",
      "array([0.36902174])\n"
     ]
    }
   ],
   "source": [
    "text = \"không đâu chị ơi\"\n",
    "test1(text)"
   ]
  },
  {
   "cell_type": "code",
   "execution_count": 265,
   "id": "d26debd3-57d9-4b22-a7c8-84d1c92168a2",
   "metadata": {},
   "outputs": [
    {
     "name": "stdout",
     "output_type": "stream",
     "text": [
      "array([[0, 0, 0]])\n",
      "array(['C2A_TUVAN'], dtype='<U9')\n",
      "array([0.38223752])\n"
     ]
    }
   ],
   "source": [
    "text = \"ừ không, mình đang làm rồi bạn nha\"\n",
    "test1(text)"
   ]
  },
  {
   "cell_type": "markdown",
   "id": "b5729f50-f058-4a22-8807-b0279c730260",
   "metadata": {
    "tags": []
   },
   "source": [
    "##### SBERT"
   ]
  },
  {
   "cell_type": "code",
   "execution_count": 244,
   "id": "91c06266-377a-46f8-aaec-472e051c4817",
   "metadata": {},
   "outputs": [],
   "source": [
    "def test2(text):\n",
    "    pred, prob = infer(text, embedding_type=\"sbert\", with_prob=True)\n",
    "    pprint(pred)\n",
    "    pprint(lb.inverse_transform(pred))\n",
    "    pprint(prob)"
   ]
  },
  {
   "cell_type": "code",
   "execution_count": 245,
   "id": "6d44e1f3-bf2e-48b1-a943-6e5b59828a1b",
   "metadata": {},
   "outputs": [
    {
     "name": "stdout",
     "output_type": "stream",
     "text": [
      "array([[1, 0, 0]])\n",
      "array(['C2A_TUVAN'], dtype='<U9')\n",
      "array([0.69315568])\n"
     ]
    }
   ],
   "source": [
    "text = \"em có thể diễn giải chi tiết hơn được không\"\n",
    "test2(text)"
   ]
  },
  {
   "cell_type": "code",
   "execution_count": 247,
   "id": "4eda13b3-ba7f-481d-8a32-53a587f1ee4a",
   "metadata": {},
   "outputs": [
    {
     "name": "stdout",
     "output_type": "stream",
     "text": [
      "array([[0, 1, 0]])\n",
      "array(['C2B_GLS'], dtype='<U9')\n",
      "array([0.95827348])\n"
     ]
    }
   ],
   "source": [
    "text = \"hay là chút nữa liên lạc lại em nhé\"\n",
    "test2(text)"
   ]
  },
  {
   "cell_type": "code",
   "execution_count": 249,
   "id": "102c3afa-1753-4d12-a63d-b1f2ae85fb3a",
   "metadata": {},
   "outputs": [
    {
     "name": "stdout",
     "output_type": "stream",
     "text": [
      "array([[0, 0, 1]])\n",
      "array(['C3_KQT'], dtype='<U9')\n",
      "array([0.77097445])\n"
     ]
    }
   ],
   "source": [
    "text = \"cảm ơn em nhưng chắc là anh không hứng thú\"\n",
    "test2(text)"
   ]
  },
  {
   "cell_type": "code",
   "execution_count": 252,
   "id": "e240515a-a4c4-4866-a705-a70c460df720",
   "metadata": {},
   "outputs": [
    {
     "name": "stdout",
     "output_type": "stream",
     "text": [
      "array([[0, 0, 0]])\n",
      "array(['C2A_TUVAN'], dtype='<U9')\n",
      "array([0.21407058])\n"
     ]
    }
   ],
   "source": [
    "text = \"anh nghĩ là em nên dừng lại\"\n",
    "test2(text)"
   ]
  },
  {
   "cell_type": "code",
   "execution_count": 256,
   "id": "ef39d785-a004-426d-983a-9c6df7f20c7a",
   "metadata": {},
   "outputs": [
    {
     "name": "stdout",
     "output_type": "stream",
     "text": [
      "array([[1, 0, 0]])\n",
      "array(['C2A_TUVAN'], dtype='<U9')\n",
      "array([0.89481114])\n"
     ]
    }
   ],
   "source": [
    "text = \"dạ không ạ\"\n",
    "test2(text)"
   ]
  },
  {
   "cell_type": "code",
   "execution_count": 258,
   "id": "3f9c199b-cc4a-4bad-9e6f-d21f26d972fc",
   "metadata": {},
   "outputs": [
    {
     "name": "stdout",
     "output_type": "stream",
     "text": [
      "array([[0, 0, 1]])\n",
      "array(['C3_KQT'], dtype='<U9')\n",
      "array([0.66558446])\n"
     ]
    }
   ],
   "source": [
    "text = \"không đâu chị ơi\"\n",
    "test2(text)"
   ]
  },
  {
   "cell_type": "code",
   "execution_count": 267,
   "id": "4853b06c-98fe-4f2a-932b-7b50a9e7529f",
   "metadata": {},
   "outputs": [
    {
     "name": "stdout",
     "output_type": "stream",
     "text": [
      "array([[0, 0, 1]])\n",
      "array(['C3_KQT'], dtype='<U9')\n",
      "array([0.80773914])\n"
     ]
    }
   ],
   "source": [
    "text = \"ừ không, mình đang làm rồi bạn nha\"\n",
    "test2(text)"
   ]
  },
  {
   "cell_type": "markdown",
   "id": "c59b19c4-3ecc-4d9c-94f7-47c639ba4647",
   "metadata": {
    "toc-hr-collapsed": true
   },
   "source": [
    "##### PhoBERT"
   ]
  },
  {
   "cell_type": "code",
   "execution_count": 78,
   "id": "a3c8a690-46a5-41b2-a6d6-807af2566a3d",
   "metadata": {},
   "outputs": [],
   "source": [
    "def test3(text):\n",
    "    pred, prob = infer(text, embedding_type=\"phobert\", with_prob=True)\n",
    "    pprint(pred)\n",
    "    pprint(lb.inverse_transform(pred))\n",
    "    pprint(prob)"
   ]
  },
  {
   "cell_type": "code",
   "execution_count": null,
   "id": "21d34ebe-463b-4b32-ab17-8c8768dc8ba7",
   "metadata": {},
   "outputs": [],
   "source": [
    "text = \"em có thể diễn giải chi tiết hơn được không\"\n",
    "test3(text)"
   ]
  },
  {
   "cell_type": "code",
   "execution_count": 457,
   "id": "8db496e5-685a-4d3d-98bc-4c3e8a511855",
   "metadata": {},
   "outputs": [
    {
     "name": "stdout",
     "output_type": "stream",
     "text": [
      "array([[0, 0, 0]])\n",
      "array(['C2A_TUVAN'], dtype='<U9')\n",
      "array([0.37629714])\n"
     ]
    }
   ],
   "source": [
    "text = \"hay là chút nữa liên lạc lại em nhé\"\n",
    "test3(text)"
   ]
  },
  {
   "cell_type": "markdown",
   "id": "c82528a4-095c-4c69-9bf9-0cff24b7240d",
   "metadata": {},
   "source": [
    "# Benchmark"
   ]
  },
  {
   "cell_type": "code",
   "execution_count": 2,
   "id": "625e71f3-fd02-46a1-93d7-e66be22186cb",
   "metadata": {},
   "outputs": [],
   "source": [
    "embedding_types = [\"tfidf\", \"sbert\", \"phobert\"]"
   ]
  },
  {
   "cell_type": "code",
   "execution_count": 3,
   "id": "d37dcd00-af6f-4dd4-b6de-9011b8f302b0",
   "metadata": {},
   "outputs": [],
   "source": [
    "os.environ[\"CUDA_VISIBLE_DEVICES\"] = \"\""
   ]
  },
  {
   "cell_type": "code",
   "execution_count": 4,
   "id": "af3504bd-67cf-42c4-9dff-aacf36c6d0d7",
   "metadata": {},
   "outputs": [],
   "source": [
    "class PhoBertWrapper:\n",
    "    def __init__(self):\n",
    "        self.model = AutoModelForSequenceClassification.from_pretrained(\"vinai/phobert-base\")\n",
    "        self.tokenizer = AutoTokenizer.from_pretrained(\"vinai/phobert-base\")\n",
    "\n",
    "    def encode(self, X: Union[Text, List[Text]]):\n",
    "        embeddings = None\n",
    "\n",
    "        encoded_text = self.tokenizer(X, padding=True, truncation=True, return_tensors=\"pt\")\n",
    "        text_ids = encoded_text[\"input_ids\"]\n",
    "        with torch.no_grad():\n",
    "            outputs = self.model(text_ids, output_hidden_states=True)\n",
    "            last_hidden_state = outputs.hidden_states[-1]\n",
    "            embeddings = last_hidden_state[:, 0, :]\n",
    "            if isinstance(embeddings, torch.Tensor):\n",
    "                embeddings = embeddings.detach().cpu().numpy()\n",
    "\n",
    "        return embeddings"
   ]
  },
  {
   "cell_type": "code",
   "execution_count": 5,
   "id": "660ec73f-f97c-4d09-b938-4abd4c285b69",
   "metadata": {},
   "outputs": [
    {
     "name": "stderr",
     "output_type": "stream",
     "text": [
      "INFO:sentence_transformers.SentenceTransformer:Load pretrained SentenceTransformer: keepitreal/vietnamese-sbert\n",
      "INFO:sentence_transformers.SentenceTransformer:Use pytorch device: cpu\n",
      "Some weights of the model checkpoint at vinai/phobert-base were not used when initializing RobertaForSequenceClassification: ['lm_head.dense.weight', 'roberta.pooler.dense.bias', 'lm_head.decoder.bias', 'lm_head.layer_norm.bias', 'lm_head.decoder.weight', 'lm_head.bias', 'lm_head.dense.bias', 'lm_head.layer_norm.weight', 'roberta.pooler.dense.weight']\n",
      "- This IS expected if you are initializing RobertaForSequenceClassification from the checkpoint of a model trained on another task or with another architecture (e.g. initializing a BertForSequenceClassification model from a BertForPreTraining model).\n",
      "- This IS NOT expected if you are initializing RobertaForSequenceClassification from the checkpoint of a model that you expect to be exactly identical (initializing a BertForSequenceClassification model from a BertForSequenceClassification model).\n",
      "Some weights of RobertaForSequenceClassification were not initialized from the model checkpoint at vinai/phobert-base and are newly initialized: ['classifier.dense.bias', 'classifier.out_proj.bias', 'classifier.dense.weight', 'classifier.out_proj.weight']\n",
      "You should probably TRAIN this model on a down-stream task to be able to use it for predictions and inference.\n",
      "Special tokens have been added in the vocabulary, make sure the associated word embeddings are fine-tuned or trained.\n"
     ]
    }
   ],
   "source": [
    "sbert = SentenceTransformer('keepitreal/vietnamese-sbert')\n",
    "phobert = PhoBertWrapper()"
   ]
  },
  {
   "cell_type": "markdown",
   "id": "5076000b-7241-4d4a-907c-0a5df346742a",
   "metadata": {},
   "source": [
    "## Load Data"
   ]
  },
  {
   "cell_type": "code",
   "execution_count": 6,
   "id": "750bc2ed-47d4-4054-af75-d1580135997b",
   "metadata": {},
   "outputs": [],
   "source": [
    "botid = {\n",
    "    \"sunlaw\": \"6268f7e49f455cd4ea292d88\",\n",
    "    \"lamhaian\": \"6268f8049f455c653b292e29\",\n",
    "    \"giang.nguyen\": \"6268f7f89f455cd9eb292df4\",\n",
    "    \"panasonic\": \"628c83a46c9e4c57fdbc5df6\",\n",
    "    \"trung.quan\": \"628a14af6c9e4c08cebc3e34\"\n",
    "}"
   ]
  },
  {
   "cell_type": "markdown",
   "id": "a8f430b4-7a64-4e11-803e-03503767a58a",
   "metadata": {},
   "source": [
    "### Training Set"
   ]
  },
  {
   "cell_type": "code",
   "execution_count": 7,
   "id": "060648c1-cb11-4b2d-98fd-940fc3ff7502",
   "metadata": {},
   "outputs": [
    {
     "name": "stderr",
     "output_type": "stream",
     "text": [
      "INFO:oauth2client.transport:Attempting refresh to obtain initial access_token\n",
      "INFO:oauth2client.client:Refreshing access_token\n",
      "INFO:oauth2client.transport:Attempting refresh to obtain initial access_token\n",
      "INFO:oauth2client.client:Refreshing access_token\n",
      "INFO:oauth2client.transport:Attempting refresh to obtain initial access_token\n",
      "INFO:oauth2client.client:Refreshing access_token\n",
      "INFO:oauth2client.transport:Attempting refresh to obtain initial access_token\n",
      "INFO:oauth2client.client:Refreshing access_token\n",
      "INFO:oauth2client.transport:Attempting refresh to obtain initial access_token\n",
      "INFO:oauth2client.client:Refreshing access_token\n"
     ]
    }
   ],
   "source": [
    "# load data\n",
    "data = {k: load_data_from_botid(v) for k, v in botid.items()}"
   ]
  },
  {
   "cell_type": "markdown",
   "id": "7f67275f-159b-493e-94a5-29903d844494",
   "metadata": {},
   "source": [
    "### Test set"
   ]
  },
  {
   "cell_type": "code",
   "execution_count": null,
   "id": "c19d9c70-3fa9-4a51-ba03-09afaaff0bd6",
   "metadata": {},
   "outputs": [],
   "source": []
  },
  {
   "cell_type": "markdown",
   "id": "6c9520fb-c3e6-474a-824c-b8d6daf16b35",
   "metadata": {},
   "source": [
    "## Preprocess Data"
   ]
  },
  {
   "cell_type": "code",
   "execution_count": 8,
   "id": "929d7169-daa6-44df-8781-40c75da3b371",
   "metadata": {},
   "outputs": [],
   "source": [
    "# preprocess\n",
    "def preprocess(data: pd.DataFrame) -> pd.DataFrame:\n",
    "    \"\"\" Text preprocessing\n",
    "    \"\"\"\n",
    "    # remove duplicate\n",
    "    data = data.drop_duplicates(\"Sentence\")\n",
    "\n",
    "    # lower\n",
    "    data[\"Sentence\"] = data[\"Sentence\"].map(lambda x: x.lower())\n",
    "    data.head(n=10)\n",
    "\n",
    "    # word segmenation\n",
    "    data[\"Sentence\"] = data[\"Sentence\"].map(ViTokenizer.tokenize)\n",
    "\n",
    "    return data"
   ]
  },
  {
   "cell_type": "code",
   "execution_count": 9,
   "id": "3e2a348e-13db-48dd-b011-a7a4a48e17e0",
   "metadata": {},
   "outputs": [],
   "source": [
    "preprocessed_data = {k: preprocess(v) for k, v in data.items()}"
   ]
  },
  {
   "cell_type": "code",
   "execution_count": 10,
   "id": "41313300-5727-4d97-ab04-c81b40fae351",
   "metadata": {},
   "outputs": [],
   "source": [
    "X = {k: v[\"Sentence\"].tolist() for k, v in preprocessed_data.items()}"
   ]
  },
  {
   "cell_type": "markdown",
   "id": "bb8a5cba-9a0e-4ca3-a68e-cd4fccd08484",
   "metadata": {
    "jp-MarkdownHeadingCollapsed": true,
    "tags": []
   },
   "source": [
    "## Get Features (DEPRECATED)"
   ]
  },
  {
   "cell_type": "code",
   "execution_count": 7,
   "id": "22cf42a6-355f-4d6f-82e3-db65ff00a087",
   "metadata": {},
   "outputs": [
    {
     "name": "stderr",
     "output_type": "stream",
     "text": [
      "INFO:sentence_transformers.SentenceTransformer:Load pretrained SentenceTransformer: keepitreal/vietnamese-sbert\n",
      "INFO:sentence_transformers.SentenceTransformer:Use pytorch device: cuda\n",
      "Some weights of the model checkpoint at vinai/phobert-base were not used when initializing RobertaForSequenceClassification: ['lm_head.dense.weight', 'lm_head.bias', 'lm_head.layer_norm.weight', 'lm_head.decoder.weight', 'roberta.pooler.dense.weight', 'lm_head.layer_norm.bias', 'roberta.pooler.dense.bias', 'lm_head.decoder.bias', 'lm_head.dense.bias']\n",
      "- This IS expected if you are initializing RobertaForSequenceClassification from the checkpoint of a model trained on another task or with another architecture (e.g. initializing a BertForSequenceClassification model from a BertForPreTraining model).\n",
      "- This IS NOT expected if you are initializing RobertaForSequenceClassification from the checkpoint of a model that you expect to be exactly identical (initializing a BertForSequenceClassification model from a BertForSequenceClassification model).\n",
      "Some weights of RobertaForSequenceClassification were not initialized from the model checkpoint at vinai/phobert-base and are newly initialized: ['classifier.dense.weight', 'classifier.out_proj.bias', 'classifier.out_proj.weight', 'classifier.dense.bias']\n",
      "You should probably TRAIN this model on a down-stream task to be able to use it for predictions and inference.\n",
      "Special tokens have been added in the vocabulary, make sure the associated word embeddings are fine-tuned or trained.\n"
     ]
    }
   ],
   "source": [
    "\"\"\" Inititialize featurizers \n",
    "\"\"\"\n",
    "tfidf = TfidfVectorizer(token_pattern=r\"(?u)\\b\\w+\\b\", ngram_range=(1, 2))\n",
    "sbert = SentenceTransformer('keepitreal/vietnamese-sbert')\n",
    "phobert = PhoBertWrapper()"
   ]
  },
  {
   "cell_type": "code",
   "execution_count": 8,
   "id": "981107df-e79c-4a12-a888-7df865340564",
   "metadata": {},
   "outputs": [],
   "source": [
    "def get_features(X: Union[Text, List[Text]],\n",
    "                 embedding_type: Text) -> np.ndarray:\n",
    "    if embedding_type == \"tfidf\":\n",
    "        X = tfidf.fit_transform(X).toarray()\n",
    "    elif embedding_type == \"sbert\":\n",
    "        X = sbert.encode(X)\n",
    "    elif embedding_type == \"phobert\":\n",
    "        X = phobert.encode(X)\n",
    "    else:\n",
    "        raise ValueError(\"Current supported text encoders: ['tfidf', 'sbert', 'phobert']\")\n",
    "\n",
    "    return X"
   ]
  },
  {
   "cell_type": "code",
   "execution_count": 9,
   "id": "b63e5a20-7107-470a-b318-b1cf04ebd603",
   "metadata": {},
   "outputs": [],
   "source": [
    "X = {k: v[\"Sentence\"].tolist() for k, v in preprocessed_data.items()}"
   ]
  },
  {
   "cell_type": "code",
   "execution_count": 10,
   "id": "031f98ae-d35d-4c8a-a69d-f30fcf77d672",
   "metadata": {},
   "outputs": [
    {
     "name": "stderr",
     "output_type": "stream",
     "text": [
      "  0%|                                                                                                           | 0/3 [00:00<?, ?it/s]"
     ]
    },
    {
     "data": {
      "application/vnd.jupyter.widget-view+json": {
       "model_id": "c98ac39991504ac79ea4a90e9f5aa3fe",
       "version_major": 2,
       "version_minor": 0
      },
      "text/plain": [
       "Batches:   0%|          | 0/26 [00:00<?, ?it/s]"
      ]
     },
     "metadata": {},
     "output_type": "display_data"
    },
    {
     "name": "stderr",
     "output_type": "stream",
     "text": [
      " 33%|█████████████████████████████████                                                                  | 1/3 [00:07<00:15,  7.71s/it]"
     ]
    },
    {
     "data": {
      "application/vnd.jupyter.widget-view+json": {
       "model_id": "ca112becd54f4922a79509512d32ba27",
       "version_major": 2,
       "version_minor": 0
      },
      "text/plain": [
       "Batches:   0%|          | 0/23 [00:00<?, ?it/s]"
      ]
     },
     "metadata": {},
     "output_type": "display_data"
    },
    {
     "name": "stderr",
     "output_type": "stream",
     "text": [
      " 67%|██████████████████████████████████████████████████████████████████                                 | 2/3 [00:11<00:05,  5.63s/it]"
     ]
    },
    {
     "data": {
      "application/vnd.jupyter.widget-view+json": {
       "model_id": "c2507080db5341e5b439570d70a619c3",
       "version_major": 2,
       "version_minor": 0
      },
      "text/plain": [
       "Batches:   0%|          | 0/29 [00:00<?, ?it/s]"
      ]
     },
     "metadata": {},
     "output_type": "display_data"
    },
    {
     "name": "stderr",
     "output_type": "stream",
     "text": [
      "100%|███████████████████████████████████████████████████████████████████████████████████████████████████| 3/3 [00:17<00:00,  5.70s/it]\n"
     ]
    }
   ],
   "source": [
    "features = {k: {t: get_features(X[k], t) for t in embedding_types} for k, v in tqdm(X.items())}"
   ]
  },
  {
   "cell_type": "markdown",
   "id": "40eeffc2-ac7c-498c-96ca-0c3dc2894883",
   "metadata": {},
   "source": [
    "## Encode Labels"
   ]
  },
  {
   "cell_type": "code",
   "execution_count": 11,
   "id": "615581d7-9f3b-49a7-b51b-3c50ed2aabd9",
   "metadata": {},
   "outputs": [],
   "source": [
    "f = lambda x: [row[row == 1].index.tolist() for _, row in x.iterrows()]\n",
    "y = {k: f(v) for k, v in preprocessed_data.items()}\n",
    "label_encoders = {k: MultiLabelBinarizer().fit(v) for k, v in y.items()}\n",
    "y = {k: label_encoders[k].transform(v) for k, v in y.items()}"
   ]
  },
  {
   "cell_type": "markdown",
   "id": "a68f9692-29c8-492e-8d98-bfead127a012",
   "metadata": {},
   "source": [
    "## Training"
   ]
  },
  {
   "cell_type": "code",
   "execution_count": 12,
   "id": "12b981ca-b016-497b-b0e0-293513bfc88c",
   "metadata": {},
   "outputs": [],
   "source": [
    "MAX_CPU = 4\n",
    "\n",
    "def make_model(embs_type: Text, run_gridsearch=False) -> Pipeline:\n",
    "    assert isinstance(embs_type, Text)\n",
    "\n",
    "    if embs_type == \"tfidf\":\n",
    "        pipeline = Pipeline(steps=[\n",
    "            (\"vect\", TfidfVectorizer(token_pattern=r\"(?u)\\b\\w+\\b\", ngram_range=(1, 2))),\n",
    "            (\"clf\", OVRStrategy(LR(max_iter=1000, n_jobs=MAX_CPU), n_jobs=MAX_CPU))\n",
    "        ])\n",
    "    elif embs_type == \"sbert\":\n",
    "        pipeline = Pipeline(steps=[\n",
    "            (\"vect\", FunctionTransformer(sbert.encode)),\n",
    "            (\"clf\", OVRStrategy(LR(max_iter=1000, n_jobs=MAX_CPU), n_jobs=MAX_CPU))\n",
    "        ])\n",
    "    elif embs_type == \"phobert\":\n",
    "        pipeline = Pipeline(steps=[\n",
    "            (\"vect\", FunctionTransformer(phobert.encode)),\n",
    "            (\"clf\", OVRStrategy(LR(max_iter=1000, n_jobs=MAX_CPU), n_jobs=MAX_CPU))\n",
    "        ])\n",
    "    else:\n",
    "        raise ValueError(\"Current supported text encoders: ['tfidf', 'sbert', 'phobert']\")\n",
    "\n",
    "    if run_gridsearch:\n",
    "        if embs_type == \"tfidf\":\n",
    "            params = {\n",
    "                \"vect__ngram_range\": [(1, 1), (1, 2), (1, 2), (2, 3)],\n",
    "                \"vect__sublinear_tf\": [True, False],\n",
    "                \"vect__max_df\": [0.25, 0.33, 0.5, 1.0],\n",
    "                \"clf__estimator__C\": [1e-3, 1e-2, 1e-1, 1],\n",
    "                \"clf__estimator__class_weight\": [\"balanced\", None]\n",
    "            }\n",
    "        else:\n",
    "            params = {\n",
    "                \"clf__estimator__C\": [1e-3, 1e-2, 1e-1, 1],\n",
    "                \"clf__estimator__class_weight\": [\"balanced\", None]\n",
    "            }\n",
    "        pipeline = GridSearchCV(pipeline, param_grid=params,\n",
    "                                n_jobs=MAX_CPU, cv=5, scoring=\"f1_micro\")\n",
    "        \n",
    "    return pipeline"
   ]
  },
  {
   "cell_type": "code",
   "execution_count": 13,
   "id": "1e758d4d-1e5a-40f3-8eb7-7d3cb8ac1cf5",
   "metadata": {},
   "outputs": [],
   "source": [
    "models = {k: {t: make_model(t, run_gridsearch=True) for t in embedding_types} for k in botid.keys()}"
   ]
  },
  {
   "cell_type": "code",
   "execution_count": 13,
   "id": "da8fe035-a447-4ee0-bd7a-19030deb7747",
   "metadata": {
    "collapsed": true,
    "jupyter": {
     "outputs_hidden": true
    },
    "tags": []
   },
   "outputs": [
    {
     "name": "stdout",
     "output_type": "stream",
     "text": [
      "{'giang.nguyen': {'phobert': GridSearchCV(cv=5,\n",
      "             estimator=Pipeline(steps=[('vect',\n",
      "                                        FunctionTransformer(func=<bound method PhoBertWrapper.encode of <__main__.PhoBertWrapper object at 0x7f6b52186b50>>)),\n",
      "                                       ('clf',\n",
      "                                        OneVsRestClassifier(estimator=LogisticRegression(max_iter=1000,\n",
      "                                                                                         n_jobs=-1),\n",
      "                                                            n_jobs=-1))]),\n",
      "             n_jobs=-1,\n",
      "             param_grid={'clf__estimator__C': [0.001, 0.01, 0.1, 1],\n",
      "                         'clf__estimator__class_weight': ['balanced', None]},\n",
      "             scoring='f1_micro'),\n",
      "                  'sbert': GridSearchCV(cv=5,\n",
      "             estimator=Pipeline(steps=[('vect',\n",
      "                                        FunctionTransformer(func=<bound method SentenceTransformer.encode of SentenceTransformer(\n",
      "  (0): Transformer({'max_seq_length': 256, 'do_lower_case': False}) with Transformer model: RobertaModel \n",
      "  (1): Pooling({'word_embedding_dimension': 768, 'pooling_mode_cls_token': False, 'pooling_mode_mean_tokens': True, 'pooling_mode_max_tokens': False, 'pooling_mode_mean_sqrt_len_tokens': False})\n",
      ")>)),\n",
      "                                       ('clf',\n",
      "                                        OneVsRestClassifier(estimator=LogisticRegression(max_iter=1000,\n",
      "                                                                                         n_jobs=-1),\n",
      "                                                            n_jobs=-1))]),\n",
      "             n_jobs=-1,\n",
      "             param_grid={'clf__estimator__C': [0.001, 0.01, 0.1, 1],\n",
      "                         'clf__estimator__class_weight': ['balanced', None]},\n",
      "             scoring='f1_micro'),\n",
      "                  'tfidf': GridSearchCV(cv=5,\n",
      "             estimator=Pipeline(steps=[('vect',\n",
      "                                        TfidfVectorizer(ngram_range=(1, 2),\n",
      "                                                        token_pattern='(?u)\\\\b\\\\w+\\\\b')),\n",
      "                                       ('clf',\n",
      "                                        OneVsRestClassifier(estimator=LogisticRegression(max_iter=1000,\n",
      "                                                                                         n_jobs=-1),\n",
      "                                                            n_jobs=-1))]),\n",
      "             n_jobs=-1,\n",
      "             param_grid={'clf__estimator__C': [0.001, 0.01, 0.1, 1],\n",
      "                         'clf__estimator__class_weight': ['balanced', None],\n",
      "                         'vect__max_df': [0.25, 0.33, 0.5, 1.0],\n",
      "                         'vect__ngram_range': [(1, 1), (1, 2), (1, 2), (2, 3)],\n",
      "                         'vect__sublinear_tf': [True, False]},\n",
      "             scoring='f1_micro')},\n",
      " 'lamhaian': {'phobert': GridSearchCV(cv=5,\n",
      "             estimator=Pipeline(steps=[('vect',\n",
      "                                        FunctionTransformer(func=<bound method PhoBertWrapper.encode of <__main__.PhoBertWrapper object at 0x7f6b52186b50>>)),\n",
      "                                       ('clf',\n",
      "                                        OneVsRestClassifier(estimator=LogisticRegression(max_iter=1000,\n",
      "                                                                                         n_jobs=-1),\n",
      "                                                            n_jobs=-1))]),\n",
      "             n_jobs=-1,\n",
      "             param_grid={'clf__estimator__C': [0.001, 0.01, 0.1, 1],\n",
      "                         'clf__estimator__class_weight': ['balanced', None]},\n",
      "             scoring='f1_micro'),\n",
      "              'sbert': GridSearchCV(cv=5,\n",
      "             estimator=Pipeline(steps=[('vect',\n",
      "                                        FunctionTransformer(func=<bound method SentenceTransformer.encode of SentenceTransformer(\n",
      "  (0): Transformer({'max_seq_length': 256, 'do_lower_case': False}) with Transformer model: RobertaModel \n",
      "  (1): Pooling({'word_embedding_dimension': 768, 'pooling_mode_cls_token': False, 'pooling_mode_mean_tokens': True, 'pooling_mode_max_tokens': False, 'pooling_mode_mean_sqrt_len_tokens': False})\n",
      ")>)),\n",
      "                                       ('clf',\n",
      "                                        OneVsRestClassifier(estimator=LogisticRegression(max_iter=1000,\n",
      "                                                                                         n_jobs=-1),\n",
      "                                                            n_jobs=-1))]),\n",
      "             n_jobs=-1,\n",
      "             param_grid={'clf__estimator__C': [0.001, 0.01, 0.1, 1],\n",
      "                         'clf__estimator__class_weight': ['balanced', None]},\n",
      "             scoring='f1_micro'),\n",
      "              'tfidf': GridSearchCV(cv=5,\n",
      "             estimator=Pipeline(steps=[('vect',\n",
      "                                        TfidfVectorizer(ngram_range=(1, 2),\n",
      "                                                        token_pattern='(?u)\\\\b\\\\w+\\\\b')),\n",
      "                                       ('clf',\n",
      "                                        OneVsRestClassifier(estimator=LogisticRegression(max_iter=1000,\n",
      "                                                                                         n_jobs=-1),\n",
      "                                                            n_jobs=-1))]),\n",
      "             n_jobs=-1,\n",
      "             param_grid={'clf__estimator__C': [0.001, 0.01, 0.1, 1],\n",
      "                         'clf__estimator__class_weight': ['balanced', None],\n",
      "                         'vect__max_df': [0.25, 0.33, 0.5, 1.0],\n",
      "                         'vect__ngram_range': [(1, 1), (1, 2), (1, 2), (2, 3)],\n",
      "                         'vect__sublinear_tf': [True, False]},\n",
      "             scoring='f1_micro')},\n",
      " 'panasonic': {'phobert': GridSearchCV(cv=5,\n",
      "             estimator=Pipeline(steps=[('vect',\n",
      "                                        FunctionTransformer(func=<bound method PhoBertWrapper.encode of <__main__.PhoBertWrapper object at 0x7f6b52186b50>>)),\n",
      "                                       ('clf',\n",
      "                                        OneVsRestClassifier(estimator=LogisticRegression(max_iter=1000,\n",
      "                                                                                         n_jobs=-1),\n",
      "                                                            n_jobs=-1))]),\n",
      "             n_jobs=-1,\n",
      "             param_grid={'clf__estimator__C': [0.001, 0.01, 0.1, 1],\n",
      "                         'clf__estimator__class_weight': ['balanced', None]},\n",
      "             scoring='f1_micro'),\n",
      "               'sbert': GridSearchCV(cv=5,\n",
      "             estimator=Pipeline(steps=[('vect',\n",
      "                                        FunctionTransformer(func=<bound method SentenceTransformer.encode of SentenceTransformer(\n",
      "  (0): Transformer({'max_seq_length': 256, 'do_lower_case': False}) with Transformer model: RobertaModel \n",
      "  (1): Pooling({'word_embedding_dimension': 768, 'pooling_mode_cls_token': False, 'pooling_mode_mean_tokens': True, 'pooling_mode_max_tokens': False, 'pooling_mode_mean_sqrt_len_tokens': False})\n",
      ")>)),\n",
      "                                       ('clf',\n",
      "                                        OneVsRestClassifier(estimator=LogisticRegression(max_iter=1000,\n",
      "                                                                                         n_jobs=-1),\n",
      "                                                            n_jobs=-1))]),\n",
      "             n_jobs=-1,\n",
      "             param_grid={'clf__estimator__C': [0.001, 0.01, 0.1, 1],\n",
      "                         'clf__estimator__class_weight': ['balanced', None]},\n",
      "             scoring='f1_micro'),\n",
      "               'tfidf': GridSearchCV(cv=5,\n",
      "             estimator=Pipeline(steps=[('vect',\n",
      "                                        TfidfVectorizer(ngram_range=(1, 2),\n",
      "                                                        token_pattern='(?u)\\\\b\\\\w+\\\\b')),\n",
      "                                       ('clf',\n",
      "                                        OneVsRestClassifier(estimator=LogisticRegression(max_iter=1000,\n",
      "                                                                                         n_jobs=-1),\n",
      "                                                            n_jobs=-1))]),\n",
      "             n_jobs=-1,\n",
      "             param_grid={'clf__estimator__C': [0.001, 0.01, 0.1, 1],\n",
      "                         'clf__estimator__class_weight': ['balanced', None],\n",
      "                         'vect__max_df': [0.25, 0.33, 0.5, 1.0],\n",
      "                         'vect__ngram_range': [(1, 1), (1, 2), (1, 2), (2, 3)],\n",
      "                         'vect__sublinear_tf': [True, False]},\n",
      "             scoring='f1_micro')},\n",
      " 'sunlaw': {'phobert': GridSearchCV(cv=5,\n",
      "             estimator=Pipeline(steps=[('vect',\n",
      "                                        FunctionTransformer(func=<bound method PhoBertWrapper.encode of <__main__.PhoBertWrapper object at 0x7f6b52186b50>>)),\n",
      "                                       ('clf',\n",
      "                                        OneVsRestClassifier(estimator=LogisticRegression(max_iter=1000,\n",
      "                                                                                         n_jobs=-1),\n",
      "                                                            n_jobs=-1))]),\n",
      "             n_jobs=-1,\n",
      "             param_grid={'clf__estimator__C': [0.001, 0.01, 0.1, 1],\n",
      "                         'clf__estimator__class_weight': ['balanced', None]},\n",
      "             scoring='f1_micro'),\n",
      "            'sbert': GridSearchCV(cv=5,\n",
      "             estimator=Pipeline(steps=[('vect',\n",
      "                                        FunctionTransformer(func=<bound method SentenceTransformer.encode of SentenceTransformer(\n",
      "  (0): Transformer({'max_seq_length': 256, 'do_lower_case': False}) with Transformer model: RobertaModel \n",
      "  (1): Pooling({'word_embedding_dimension': 768, 'pooling_mode_cls_token': False, 'pooling_mode_mean_tokens': True, 'pooling_mode_max_tokens': False, 'pooling_mode_mean_sqrt_len_tokens': False})\n",
      ")>)),\n",
      "                                       ('clf',\n",
      "                                        OneVsRestClassifier(estimator=LogisticRegression(max_iter=1000,\n",
      "                                                                                         n_jobs=-1),\n",
      "                                                            n_jobs=-1))]),\n",
      "             n_jobs=-1,\n",
      "             param_grid={'clf__estimator__C': [0.001, 0.01, 0.1, 1],\n",
      "                         'clf__estimator__class_weight': ['balanced', None]},\n",
      "             scoring='f1_micro'),\n",
      "            'tfidf': GridSearchCV(cv=5,\n",
      "             estimator=Pipeline(steps=[('vect',\n",
      "                                        TfidfVectorizer(ngram_range=(1, 2),\n",
      "                                                        token_pattern='(?u)\\\\b\\\\w+\\\\b')),\n",
      "                                       ('clf',\n",
      "                                        OneVsRestClassifier(estimator=LogisticRegression(max_iter=1000,\n",
      "                                                                                         n_jobs=-1),\n",
      "                                                            n_jobs=-1))]),\n",
      "             n_jobs=-1,\n",
      "             param_grid={'clf__estimator__C': [0.001, 0.01, 0.1, 1],\n",
      "                         'clf__estimator__class_weight': ['balanced', None],\n",
      "                         'vect__max_df': [0.25, 0.33, 0.5, 1.0],\n",
      "                         'vect__ngram_range': [(1, 1), (1, 2), (1, 2), (2, 3)],\n",
      "                         'vect__sublinear_tf': [True, False]},\n",
      "             scoring='f1_micro')},\n",
      " 'trung.quan': {'phobert': GridSearchCV(cv=5,\n",
      "             estimator=Pipeline(steps=[('vect',\n",
      "                                        FunctionTransformer(func=<bound method PhoBertWrapper.encode of <__main__.PhoBertWrapper object at 0x7f6b52186b50>>)),\n",
      "                                       ('clf',\n",
      "                                        OneVsRestClassifier(estimator=LogisticRegression(max_iter=1000,\n",
      "                                                                                         n_jobs=-1),\n",
      "                                                            n_jobs=-1))]),\n",
      "             n_jobs=-1,\n",
      "             param_grid={'clf__estimator__C': [0.001, 0.01, 0.1, 1],\n",
      "                         'clf__estimator__class_weight': ['balanced', None]},\n",
      "             scoring='f1_micro'),\n",
      "                'sbert': GridSearchCV(cv=5,\n",
      "             estimator=Pipeline(steps=[('vect',\n",
      "                                        FunctionTransformer(func=<bound method SentenceTransformer.encode of SentenceTransformer(\n",
      "  (0): Transformer({'max_seq_length': 256, 'do_lower_case': False}) with Transformer model: RobertaModel \n",
      "  (1): Pooling({'word_embedding_dimension': 768, 'pooling_mode_cls_token': False, 'pooling_mode_mean_tokens': True, 'pooling_mode_max_tokens': False, 'pooling_mode_mean_sqrt_len_tokens': False})\n",
      ")>)),\n",
      "                                       ('clf',\n",
      "                                        OneVsRestClassifier(estimator=LogisticRegression(max_iter=1000,\n",
      "                                                                                         n_jobs=-1),\n",
      "                                                            n_jobs=-1))]),\n",
      "             n_jobs=-1,\n",
      "             param_grid={'clf__estimator__C': [0.001, 0.01, 0.1, 1],\n",
      "                         'clf__estimator__class_weight': ['balanced', None]},\n",
      "             scoring='f1_micro'),\n",
      "                'tfidf': GridSearchCV(cv=5,\n",
      "             estimator=Pipeline(steps=[('vect',\n",
      "                                        TfidfVectorizer(ngram_range=(1, 2),\n",
      "                                                        token_pattern='(?u)\\\\b\\\\w+\\\\b')),\n",
      "                                       ('clf',\n",
      "                                        OneVsRestClassifier(estimator=LogisticRegression(max_iter=1000,\n",
      "                                                                                         n_jobs=-1),\n",
      "                                                            n_jobs=-1))]),\n",
      "             n_jobs=-1,\n",
      "             param_grid={'clf__estimator__C': [0.001, 0.01, 0.1, 1],\n",
      "                         'clf__estimator__class_weight': ['balanced', None],\n",
      "                         'vect__max_df': [0.25, 0.33, 0.5, 1.0],\n",
      "                         'vect__ngram_range': [(1, 1), (1, 2), (1, 2), (2, 3)],\n",
      "                         'vect__sublinear_tf': [True, False]},\n",
      "             scoring='f1_micro')}}\n"
     ]
    }
   ],
   "source": [
    "pprint(models)"
   ]
  },
  {
   "cell_type": "code",
   "execution_count": 15,
   "id": "3fabc90a-87e5-417c-a4d5-10d8a08174a3",
   "metadata": {},
   "outputs": [],
   "source": [
    "f1_micro = {k: {t: None for t in embedding_types} for k in botid.keys()}"
   ]
  },
  {
   "cell_type": "code",
   "execution_count": 37,
   "id": "6eef08f9-0ab1-4cb4-a1fe-15fc0d9ec7f1",
   "metadata": {
    "collapsed": true,
    "jupyter": {
     "outputs_hidden": true
    },
    "tags": []
   },
   "outputs": [
    {
     "name": "stderr",
     "output_type": "stream",
     "text": [
      "  0%|                                                                                                                 | 0/5 [00:00<?, ?it/s]"
     ]
    },
    {
     "data": {
      "application/vnd.jupyter.widget-view+json": {
       "model_id": "fb825e2ebf954255aa2950a89d103009",
       "version_major": 2,
       "version_minor": 0
      },
      "text/plain": [
       "Batches:   0%|          | 0/23 [00:00<?, ?it/s]"
      ]
     },
     "metadata": {},
     "output_type": "display_data"
    },
    {
     "data": {
      "application/vnd.jupyter.widget-view+json": {
       "model_id": "60b8b1d958004b02b964eb90546c44b8",
       "version_major": 2,
       "version_minor": 0
      },
      "text/plain": [
       "Batches:   0%|          | 0/3 [00:00<?, ?it/s]"
      ]
     },
     "metadata": {},
     "output_type": "display_data"
    },
    {
     "data": {
      "application/vnd.jupyter.widget-view+json": {
       "model_id": "d256223f82c14b91bf3f3640230987a3",
       "version_major": 2,
       "version_minor": 0
      },
      "text/plain": [
       "Batches:   0%|          | 0/23 [00:00<?, ?it/s]"
      ]
     },
     "metadata": {},
     "output_type": "display_data"
    },
    {
     "data": {
      "application/vnd.jupyter.widget-view+json": {
       "model_id": "7a147c3a13d04ec899a69f81edee5bd6",
       "version_major": 2,
       "version_minor": 0
      },
      "text/plain": [
       "Batches:   0%|          | 0/3 [00:00<?, ?it/s]"
      ]
     },
     "metadata": {},
     "output_type": "display_data"
    },
    {
     "data": {
      "application/vnd.jupyter.widget-view+json": {
       "model_id": "f0e71f6ab6b4482b9ffea3a897581a70",
       "version_major": 2,
       "version_minor": 0
      },
      "text/plain": [
       "Batches:   0%|          | 0/23 [00:00<?, ?it/s]"
      ]
     },
     "metadata": {},
     "output_type": "display_data"
    },
    {
     "data": {
      "application/vnd.jupyter.widget-view+json": {
       "model_id": "c54534fdeef0472fb72dd4673a22a0ac",
       "version_major": 2,
       "version_minor": 0
      },
      "text/plain": [
       "Batches:   0%|          | 0/3 [00:00<?, ?it/s]"
      ]
     },
     "metadata": {},
     "output_type": "display_data"
    },
    {
     "data": {
      "application/vnd.jupyter.widget-view+json": {
       "model_id": "a75dd98a3c9545e39d7c632797ddf3bd",
       "version_major": 2,
       "version_minor": 0
      },
      "text/plain": [
       "Batches:   0%|          | 0/23 [00:00<?, ?it/s]"
      ]
     },
     "metadata": {},
     "output_type": "display_data"
    },
    {
     "data": {
      "application/vnd.jupyter.widget-view+json": {
       "model_id": "8c9b7dce575248d4a3f381c2f17f964f",
       "version_major": 2,
       "version_minor": 0
      },
      "text/plain": [
       "Batches:   0%|          | 0/3 [00:00<?, ?it/s]"
      ]
     },
     "metadata": {},
     "output_type": "display_data"
    },
    {
     "data": {
      "application/vnd.jupyter.widget-view+json": {
       "model_id": "1a861b4aa7eb48e595a147349d1975a7",
       "version_major": 2,
       "version_minor": 0
      },
      "text/plain": [
       "Batches:   0%|          | 0/23 [00:00<?, ?it/s]"
      ]
     },
     "metadata": {},
     "output_type": "display_data"
    },
    {
     "data": {
      "application/vnd.jupyter.widget-view+json": {
       "model_id": "eb68044be3a44b34a2e61f93611aa091",
       "version_major": 2,
       "version_minor": 0
      },
      "text/plain": [
       "Batches:   0%|          | 0/3 [00:00<?, ?it/s]"
      ]
     },
     "metadata": {},
     "output_type": "display_data"
    },
    {
     "data": {
      "application/vnd.jupyter.widget-view+json": {
       "model_id": "6daab0ecce794ffd958df5e9029ab735",
       "version_major": 2,
       "version_minor": 0
      },
      "text/plain": [
       "Batches:   0%|          | 0/23 [00:00<?, ?it/s]"
      ]
     },
     "metadata": {},
     "output_type": "display_data"
    },
    {
     "data": {
      "application/vnd.jupyter.widget-view+json": {
       "model_id": "9779e5f3b7514833b9c06107e0e11302",
       "version_major": 2,
       "version_minor": 0
      },
      "text/plain": [
       "Batches:   0%|          | 0/3 [00:00<?, ?it/s]"
      ]
     },
     "metadata": {},
     "output_type": "display_data"
    },
    {
     "data": {
      "application/vnd.jupyter.widget-view+json": {
       "model_id": "e9295e6117584fa7b88771532b9de51c",
       "version_major": 2,
       "version_minor": 0
      },
      "text/plain": [
       "Batches:   0%|          | 0/23 [00:00<?, ?it/s]"
      ]
     },
     "metadata": {},
     "output_type": "display_data"
    },
    {
     "data": {
      "application/vnd.jupyter.widget-view+json": {
       "model_id": "425ca249339f47d8a2bc6c0c1e1110b4",
       "version_major": 2,
       "version_minor": 0
      },
      "text/plain": [
       "Batches:   0%|          | 0/3 [00:00<?, ?it/s]"
      ]
     },
     "metadata": {},
     "output_type": "display_data"
    },
    {
     "data": {
      "application/vnd.jupyter.widget-view+json": {
       "model_id": "4ad168956bb84357b21d2f94ea418a7a",
       "version_major": 2,
       "version_minor": 0
      },
      "text/plain": [
       "Batches:   0%|          | 0/23 [00:00<?, ?it/s]"
      ]
     },
     "metadata": {},
     "output_type": "display_data"
    },
    {
     "data": {
      "application/vnd.jupyter.widget-view+json": {
       "model_id": "4632aa6a59d6469882b4e82ee3b4498c",
       "version_major": 2,
       "version_minor": 0
      },
      "text/plain": [
       "Batches:   0%|          | 0/3 [00:00<?, ?it/s]"
      ]
     },
     "metadata": {},
     "output_type": "display_data"
    },
    {
     "data": {
      "application/vnd.jupyter.widget-view+json": {
       "model_id": "cb6d9f8519214d7984a56dd2d4a66d65",
       "version_major": 2,
       "version_minor": 0
      },
      "text/plain": [
       "Batches:   0%|          | 0/23 [00:00<?, ?it/s]"
      ]
     },
     "metadata": {},
     "output_type": "display_data"
    },
    {
     "data": {
      "application/vnd.jupyter.widget-view+json": {
       "model_id": "7174969191f046578dc5b15324998217",
       "version_major": 2,
       "version_minor": 0
      },
      "text/plain": [
       "Batches:   0%|          | 0/3 [00:00<?, ?it/s]"
      ]
     },
     "metadata": {},
     "output_type": "display_data"
    },
    {
     "data": {
      "application/vnd.jupyter.widget-view+json": {
       "model_id": "c9efce2383164332a2a091179f83424f",
       "version_major": 2,
       "version_minor": 0
      },
      "text/plain": [
       "Batches:   0%|          | 0/23 [00:00<?, ?it/s]"
      ]
     },
     "metadata": {},
     "output_type": "display_data"
    },
    {
     "data": {
      "application/vnd.jupyter.widget-view+json": {
       "model_id": "05d03d92215b41b1984d8f37d2576f14",
       "version_major": 2,
       "version_minor": 0
      },
      "text/plain": [
       "Batches:   0%|          | 0/3 [00:00<?, ?it/s]"
      ]
     },
     "metadata": {},
     "output_type": "display_data"
    },
    {
     "name": "stderr",
     "output_type": "stream",
     "text": [
      " 20%|█████████████████████                                                                                    | 1/5 [01:05<04:21, 65.47s/it]"
     ]
    },
    {
     "data": {
      "application/vnd.jupyter.widget-view+json": {
       "model_id": "0d8f54a6eaab4dedade5803795b376ea",
       "version_major": 2,
       "version_minor": 0
      },
      "text/plain": [
       "Batches:   0%|          | 0/21 [00:00<?, ?it/s]"
      ]
     },
     "metadata": {},
     "output_type": "display_data"
    },
    {
     "data": {
      "application/vnd.jupyter.widget-view+json": {
       "model_id": "4566957181e54754888882b6f2f1ac8b",
       "version_major": 2,
       "version_minor": 0
      },
      "text/plain": [
       "Batches:   0%|          | 0/3 [00:00<?, ?it/s]"
      ]
     },
     "metadata": {},
     "output_type": "display_data"
    },
    {
     "data": {
      "application/vnd.jupyter.widget-view+json": {
       "model_id": "133178815758468797eefc1d073ba347",
       "version_major": 2,
       "version_minor": 0
      },
      "text/plain": [
       "Batches:   0%|          | 0/21 [00:00<?, ?it/s]"
      ]
     },
     "metadata": {},
     "output_type": "display_data"
    },
    {
     "data": {
      "application/vnd.jupyter.widget-view+json": {
       "model_id": "3a57a1d64e8045adbb737c701bfb67d1",
       "version_major": 2,
       "version_minor": 0
      },
      "text/plain": [
       "Batches:   0%|          | 0/3 [00:00<?, ?it/s]"
      ]
     },
     "metadata": {},
     "output_type": "display_data"
    },
    {
     "data": {
      "application/vnd.jupyter.widget-view+json": {
       "model_id": "272830024a5a4e97875e750981df77ea",
       "version_major": 2,
       "version_minor": 0
      },
      "text/plain": [
       "Batches:   0%|          | 0/21 [00:00<?, ?it/s]"
      ]
     },
     "metadata": {},
     "output_type": "display_data"
    },
    {
     "data": {
      "application/vnd.jupyter.widget-view+json": {
       "model_id": "1f008a80b9544d559b15c56add8aacdb",
       "version_major": 2,
       "version_minor": 0
      },
      "text/plain": [
       "Batches:   0%|          | 0/3 [00:00<?, ?it/s]"
      ]
     },
     "metadata": {},
     "output_type": "display_data"
    },
    {
     "data": {
      "application/vnd.jupyter.widget-view+json": {
       "model_id": "88f1a069fc2742118884ce79ac835b13",
       "version_major": 2,
       "version_minor": 0
      },
      "text/plain": [
       "Batches:   0%|          | 0/21 [00:00<?, ?it/s]"
      ]
     },
     "metadata": {},
     "output_type": "display_data"
    },
    {
     "data": {
      "application/vnd.jupyter.widget-view+json": {
       "model_id": "c1c0ed1d513d4f889465639420142468",
       "version_major": 2,
       "version_minor": 0
      },
      "text/plain": [
       "Batches:   0%|          | 0/3 [00:00<?, ?it/s]"
      ]
     },
     "metadata": {},
     "output_type": "display_data"
    },
    {
     "data": {
      "application/vnd.jupyter.widget-view+json": {
       "model_id": "e47e2f4534544f99b84a44b2955f065d",
       "version_major": 2,
       "version_minor": 0
      },
      "text/plain": [
       "Batches:   0%|          | 0/21 [00:00<?, ?it/s]"
      ]
     },
     "metadata": {},
     "output_type": "display_data"
    },
    {
     "data": {
      "application/vnd.jupyter.widget-view+json": {
       "model_id": "9d72e9287bcb43cd8b99b3ef924990df",
       "version_major": 2,
       "version_minor": 0
      },
      "text/plain": [
       "Batches:   0%|          | 0/3 [00:00<?, ?it/s]"
      ]
     },
     "metadata": {},
     "output_type": "display_data"
    },
    {
     "data": {
      "application/vnd.jupyter.widget-view+json": {
       "model_id": "9e7858de4796409e93df8a98f92b1392",
       "version_major": 2,
       "version_minor": 0
      },
      "text/plain": [
       "Batches:   0%|          | 0/21 [00:00<?, ?it/s]"
      ]
     },
     "metadata": {},
     "output_type": "display_data"
    },
    {
     "data": {
      "application/vnd.jupyter.widget-view+json": {
       "model_id": "98da95da2dbb4dadbf33c9b2f487ce15",
       "version_major": 2,
       "version_minor": 0
      },
      "text/plain": [
       "Batches:   0%|          | 0/3 [00:00<?, ?it/s]"
      ]
     },
     "metadata": {},
     "output_type": "display_data"
    },
    {
     "data": {
      "application/vnd.jupyter.widget-view+json": {
       "model_id": "2f1f90281bc2496cbefc7ebb5cd6a21e",
       "version_major": 2,
       "version_minor": 0
      },
      "text/plain": [
       "Batches:   0%|          | 0/21 [00:00<?, ?it/s]"
      ]
     },
     "metadata": {},
     "output_type": "display_data"
    },
    {
     "data": {
      "application/vnd.jupyter.widget-view+json": {
       "model_id": "5cf351d3a63c42fbbdab3bd3d7639e94",
       "version_major": 2,
       "version_minor": 0
      },
      "text/plain": [
       "Batches:   0%|          | 0/3 [00:00<?, ?it/s]"
      ]
     },
     "metadata": {},
     "output_type": "display_data"
    },
    {
     "data": {
      "application/vnd.jupyter.widget-view+json": {
       "model_id": "14a191732b3840e8b55b3e0e72cc9977",
       "version_major": 2,
       "version_minor": 0
      },
      "text/plain": [
       "Batches:   0%|          | 0/21 [00:00<?, ?it/s]"
      ]
     },
     "metadata": {},
     "output_type": "display_data"
    },
    {
     "data": {
      "application/vnd.jupyter.widget-view+json": {
       "model_id": "d040f84d6be445aebb2193dc232c60ec",
       "version_major": 2,
       "version_minor": 0
      },
      "text/plain": [
       "Batches:   0%|          | 0/3 [00:00<?, ?it/s]"
      ]
     },
     "metadata": {},
     "output_type": "display_data"
    },
    {
     "data": {
      "application/vnd.jupyter.widget-view+json": {
       "model_id": "505fa99354c74f7cb1664312016b07e4",
       "version_major": 2,
       "version_minor": 0
      },
      "text/plain": [
       "Batches:   0%|          | 0/21 [00:00<?, ?it/s]"
      ]
     },
     "metadata": {},
     "output_type": "display_data"
    },
    {
     "data": {
      "application/vnd.jupyter.widget-view+json": {
       "model_id": "a36b6e57809249ff9611f8837b85b8cf",
       "version_major": 2,
       "version_minor": 0
      },
      "text/plain": [
       "Batches:   0%|          | 0/3 [00:00<?, ?it/s]"
      ]
     },
     "metadata": {},
     "output_type": "display_data"
    },
    {
     "data": {
      "application/vnd.jupyter.widget-view+json": {
       "model_id": "a948fcba0f674c1ab85b2bcd9de194de",
       "version_major": 2,
       "version_minor": 0
      },
      "text/plain": [
       "Batches:   0%|          | 0/21 [00:00<?, ?it/s]"
      ]
     },
     "metadata": {},
     "output_type": "display_data"
    },
    {
     "data": {
      "application/vnd.jupyter.widget-view+json": {
       "model_id": "054d4b3b8a604c1bbf36654f6d5857b1",
       "version_major": 2,
       "version_minor": 0
      },
      "text/plain": [
       "Batches:   0%|          | 0/3 [00:00<?, ?it/s]"
      ]
     },
     "metadata": {},
     "output_type": "display_data"
    },
    {
     "name": "stderr",
     "output_type": "stream",
     "text": [
      " 40%|██████████████████████████████████████████                                                               | 2/5 [02:01<03:00, 60.02s/it]"
     ]
    },
    {
     "data": {
      "application/vnd.jupyter.widget-view+json": {
       "model_id": "4c117512c7e04e32a6aa9c0e3bbde28f",
       "version_major": 2,
       "version_minor": 0
      },
      "text/plain": [
       "Batches:   0%|          | 0/26 [00:00<?, ?it/s]"
      ]
     },
     "metadata": {},
     "output_type": "display_data"
    },
    {
     "data": {
      "application/vnd.jupyter.widget-view+json": {
       "model_id": "677bea9f61e54619b2db5cc74c538926",
       "version_major": 2,
       "version_minor": 0
      },
      "text/plain": [
       "Batches:   0%|          | 0/3 [00:00<?, ?it/s]"
      ]
     },
     "metadata": {},
     "output_type": "display_data"
    },
    {
     "data": {
      "application/vnd.jupyter.widget-view+json": {
       "model_id": "2fd1c7d7d31644c1a603b2c8df7bad04",
       "version_major": 2,
       "version_minor": 0
      },
      "text/plain": [
       "Batches:   0%|          | 0/26 [00:00<?, ?it/s]"
      ]
     },
     "metadata": {},
     "output_type": "display_data"
    },
    {
     "data": {
      "application/vnd.jupyter.widget-view+json": {
       "model_id": "615aecf884c144e4b7c1f818679896bb",
       "version_major": 2,
       "version_minor": 0
      },
      "text/plain": [
       "Batches:   0%|          | 0/3 [00:00<?, ?it/s]"
      ]
     },
     "metadata": {},
     "output_type": "display_data"
    },
    {
     "data": {
      "application/vnd.jupyter.widget-view+json": {
       "model_id": "b2166d12cb3a46b2ab38c73bb2fd07cf",
       "version_major": 2,
       "version_minor": 0
      },
      "text/plain": [
       "Batches:   0%|          | 0/26 [00:00<?, ?it/s]"
      ]
     },
     "metadata": {},
     "output_type": "display_data"
    },
    {
     "data": {
      "application/vnd.jupyter.widget-view+json": {
       "model_id": "29a598cfad644b57a542403ffd7d4938",
       "version_major": 2,
       "version_minor": 0
      },
      "text/plain": [
       "Batches:   0%|          | 0/3 [00:00<?, ?it/s]"
      ]
     },
     "metadata": {},
     "output_type": "display_data"
    },
    {
     "data": {
      "application/vnd.jupyter.widget-view+json": {
       "model_id": "fd3470e951794c06953ad2eec9910370",
       "version_major": 2,
       "version_minor": 0
      },
      "text/plain": [
       "Batches:   0%|          | 0/26 [00:00<?, ?it/s]"
      ]
     },
     "metadata": {},
     "output_type": "display_data"
    },
    {
     "data": {
      "application/vnd.jupyter.widget-view+json": {
       "model_id": "c2561ae8b1fa4fbc87afdf4f147d7e05",
       "version_major": 2,
       "version_minor": 0
      },
      "text/plain": [
       "Batches:   0%|          | 0/3 [00:00<?, ?it/s]"
      ]
     },
     "metadata": {},
     "output_type": "display_data"
    },
    {
     "data": {
      "application/vnd.jupyter.widget-view+json": {
       "model_id": "2f833be5f51c4579a3efcfb442488780",
       "version_major": 2,
       "version_minor": 0
      },
      "text/plain": [
       "Batches:   0%|          | 0/26 [00:00<?, ?it/s]"
      ]
     },
     "metadata": {},
     "output_type": "display_data"
    },
    {
     "data": {
      "application/vnd.jupyter.widget-view+json": {
       "model_id": "23db14774caf4cbbb3988a5eed0e0d25",
       "version_major": 2,
       "version_minor": 0
      },
      "text/plain": [
       "Batches:   0%|          | 0/3 [00:00<?, ?it/s]"
      ]
     },
     "metadata": {},
     "output_type": "display_data"
    },
    {
     "data": {
      "application/vnd.jupyter.widget-view+json": {
       "model_id": "ad621bc2dc114441ac6fda6aad97fc81",
       "version_major": 2,
       "version_minor": 0
      },
      "text/plain": [
       "Batches:   0%|          | 0/26 [00:00<?, ?it/s]"
      ]
     },
     "metadata": {},
     "output_type": "display_data"
    },
    {
     "data": {
      "application/vnd.jupyter.widget-view+json": {
       "model_id": "557a88ed35cf4e49b8d9aada8b13b6cd",
       "version_major": 2,
       "version_minor": 0
      },
      "text/plain": [
       "Batches:   0%|          | 0/3 [00:00<?, ?it/s]"
      ]
     },
     "metadata": {},
     "output_type": "display_data"
    },
    {
     "data": {
      "application/vnd.jupyter.widget-view+json": {
       "model_id": "d4cf364f4de54c80892eb6af3b0dec47",
       "version_major": 2,
       "version_minor": 0
      },
      "text/plain": [
       "Batches:   0%|          | 0/26 [00:00<?, ?it/s]"
      ]
     },
     "metadata": {},
     "output_type": "display_data"
    },
    {
     "data": {
      "application/vnd.jupyter.widget-view+json": {
       "model_id": "8de2cd8643f34d219d9accf79207fec0",
       "version_major": 2,
       "version_minor": 0
      },
      "text/plain": [
       "Batches:   0%|          | 0/3 [00:00<?, ?it/s]"
      ]
     },
     "metadata": {},
     "output_type": "display_data"
    },
    {
     "data": {
      "application/vnd.jupyter.widget-view+json": {
       "model_id": "46cd4dccd4a044a7908e671752e60b02",
       "version_major": 2,
       "version_minor": 0
      },
      "text/plain": [
       "Batches:   0%|          | 0/26 [00:00<?, ?it/s]"
      ]
     },
     "metadata": {},
     "output_type": "display_data"
    },
    {
     "data": {
      "application/vnd.jupyter.widget-view+json": {
       "model_id": "345699333c2945769e25a96cf49ecf77",
       "version_major": 2,
       "version_minor": 0
      },
      "text/plain": [
       "Batches:   0%|          | 0/3 [00:00<?, ?it/s]"
      ]
     },
     "metadata": {},
     "output_type": "display_data"
    },
    {
     "data": {
      "application/vnd.jupyter.widget-view+json": {
       "model_id": "79998cbdb90946fba1241891fdd369c5",
       "version_major": 2,
       "version_minor": 0
      },
      "text/plain": [
       "Batches:   0%|          | 0/26 [00:00<?, ?it/s]"
      ]
     },
     "metadata": {},
     "output_type": "display_data"
    },
    {
     "data": {
      "application/vnd.jupyter.widget-view+json": {
       "model_id": "9d6b6d0b3051480f8901212fe9ff8586",
       "version_major": 2,
       "version_minor": 0
      },
      "text/plain": [
       "Batches:   0%|          | 0/3 [00:00<?, ?it/s]"
      ]
     },
     "metadata": {},
     "output_type": "display_data"
    },
    {
     "data": {
      "application/vnd.jupyter.widget-view+json": {
       "model_id": "96f4bceee8fb445ebe52df23b0e40bf3",
       "version_major": 2,
       "version_minor": 0
      },
      "text/plain": [
       "Batches:   0%|          | 0/26 [00:00<?, ?it/s]"
      ]
     },
     "metadata": {},
     "output_type": "display_data"
    },
    {
     "data": {
      "application/vnd.jupyter.widget-view+json": {
       "model_id": "0786037d9c404776bae218a2124212c7",
       "version_major": 2,
       "version_minor": 0
      },
      "text/plain": [
       "Batches:   0%|          | 0/3 [00:00<?, ?it/s]"
      ]
     },
     "metadata": {},
     "output_type": "display_data"
    },
    {
     "name": "stderr",
     "output_type": "stream",
     "text": [
      " 60%|███████████████████████████████████████████████████████████████                                          | 3/5 [03:09<02:07, 63.66s/it]"
     ]
    },
    {
     "data": {
      "application/vnd.jupyter.widget-view+json": {
       "model_id": "c3c0bdff8b8b48c1ad34807e073daef3",
       "version_major": 2,
       "version_minor": 0
      },
      "text/plain": [
       "Batches:   0%|          | 0/45 [00:00<?, ?it/s]"
      ]
     },
     "metadata": {},
     "output_type": "display_data"
    },
    {
     "data": {
      "application/vnd.jupyter.widget-view+json": {
       "model_id": "ad88c51951a64dff85a697f9873e1d17",
       "version_major": 2,
       "version_minor": 0
      },
      "text/plain": [
       "Batches:   0%|          | 0/5 [00:00<?, ?it/s]"
      ]
     },
     "metadata": {},
     "output_type": "display_data"
    },
    {
     "data": {
      "application/vnd.jupyter.widget-view+json": {
       "model_id": "8976fc2919e643058df178f0aaae0ac3",
       "version_major": 2,
       "version_minor": 0
      },
      "text/plain": [
       "Batches:   0%|          | 0/45 [00:00<?, ?it/s]"
      ]
     },
     "metadata": {},
     "output_type": "display_data"
    },
    {
     "data": {
      "application/vnd.jupyter.widget-view+json": {
       "model_id": "12de8506f9a249e8b7004c8c61511dc8",
       "version_major": 2,
       "version_minor": 0
      },
      "text/plain": [
       "Batches:   0%|          | 0/5 [00:00<?, ?it/s]"
      ]
     },
     "metadata": {},
     "output_type": "display_data"
    },
    {
     "data": {
      "application/vnd.jupyter.widget-view+json": {
       "model_id": "afd73f00d256467c89303a44ad7bf3cf",
       "version_major": 2,
       "version_minor": 0
      },
      "text/plain": [
       "Batches:   0%|          | 0/45 [00:00<?, ?it/s]"
      ]
     },
     "metadata": {},
     "output_type": "display_data"
    },
    {
     "data": {
      "application/vnd.jupyter.widget-view+json": {
       "model_id": "870c97c6b4dc4c5aa752f2b4014e1d7d",
       "version_major": 2,
       "version_minor": 0
      },
      "text/plain": [
       "Batches:   0%|          | 0/5 [00:00<?, ?it/s]"
      ]
     },
     "metadata": {},
     "output_type": "display_data"
    },
    {
     "data": {
      "application/vnd.jupyter.widget-view+json": {
       "model_id": "ca4b834595544dbd8856153eb4a4112f",
       "version_major": 2,
       "version_minor": 0
      },
      "text/plain": [
       "Batches:   0%|          | 0/45 [00:00<?, ?it/s]"
      ]
     },
     "metadata": {},
     "output_type": "display_data"
    },
    {
     "data": {
      "application/vnd.jupyter.widget-view+json": {
       "model_id": "b3b170b165b04586bdb3813ee12d8ae4",
       "version_major": 2,
       "version_minor": 0
      },
      "text/plain": [
       "Batches:   0%|          | 0/5 [00:00<?, ?it/s]"
      ]
     },
     "metadata": {},
     "output_type": "display_data"
    },
    {
     "data": {
      "application/vnd.jupyter.widget-view+json": {
       "model_id": "5ecf5f81bf704ee7af4ed64ec9e40742",
       "version_major": 2,
       "version_minor": 0
      },
      "text/plain": [
       "Batches:   0%|          | 0/45 [00:00<?, ?it/s]"
      ]
     },
     "metadata": {},
     "output_type": "display_data"
    },
    {
     "data": {
      "application/vnd.jupyter.widget-view+json": {
       "model_id": "f251ca03b51e4ae099c4d0092f4fb438",
       "version_major": 2,
       "version_minor": 0
      },
      "text/plain": [
       "Batches:   0%|          | 0/5 [00:00<?, ?it/s]"
      ]
     },
     "metadata": {},
     "output_type": "display_data"
    },
    {
     "data": {
      "application/vnd.jupyter.widget-view+json": {
       "model_id": "23553087327e4c6f9b8a9a744a60d5ed",
       "version_major": 2,
       "version_minor": 0
      },
      "text/plain": [
       "Batches:   0%|          | 0/45 [00:00<?, ?it/s]"
      ]
     },
     "metadata": {},
     "output_type": "display_data"
    },
    {
     "data": {
      "application/vnd.jupyter.widget-view+json": {
       "model_id": "fa4ff8a799c344fc80359481fe78effa",
       "version_major": 2,
       "version_minor": 0
      },
      "text/plain": [
       "Batches:   0%|          | 0/5 [00:00<?, ?it/s]"
      ]
     },
     "metadata": {},
     "output_type": "display_data"
    },
    {
     "data": {
      "application/vnd.jupyter.widget-view+json": {
       "model_id": "4856869623674bb98101432791cc6474",
       "version_major": 2,
       "version_minor": 0
      },
      "text/plain": [
       "Batches:   0%|          | 0/45 [00:00<?, ?it/s]"
      ]
     },
     "metadata": {},
     "output_type": "display_data"
    },
    {
     "data": {
      "application/vnd.jupyter.widget-view+json": {
       "model_id": "5f892e639adf4e11897c27ee54d59fd4",
       "version_major": 2,
       "version_minor": 0
      },
      "text/plain": [
       "Batches:   0%|          | 0/5 [00:00<?, ?it/s]"
      ]
     },
     "metadata": {},
     "output_type": "display_data"
    },
    {
     "data": {
      "application/vnd.jupyter.widget-view+json": {
       "model_id": "a4d5897737d74fa18ebb9cf90cf5ef7e",
       "version_major": 2,
       "version_minor": 0
      },
      "text/plain": [
       "Batches:   0%|          | 0/45 [00:00<?, ?it/s]"
      ]
     },
     "metadata": {},
     "output_type": "display_data"
    },
    {
     "data": {
      "application/vnd.jupyter.widget-view+json": {
       "model_id": "3d1e4dcf9a7445f88e38de88501e8580",
       "version_major": 2,
       "version_minor": 0
      },
      "text/plain": [
       "Batches:   0%|          | 0/5 [00:00<?, ?it/s]"
      ]
     },
     "metadata": {},
     "output_type": "display_data"
    },
    {
     "data": {
      "application/vnd.jupyter.widget-view+json": {
       "model_id": "8c0abff136ba4550a47e03a6983d3713",
       "version_major": 2,
       "version_minor": 0
      },
      "text/plain": [
       "Batches:   0%|          | 0/45 [00:00<?, ?it/s]"
      ]
     },
     "metadata": {},
     "output_type": "display_data"
    },
    {
     "data": {
      "application/vnd.jupyter.widget-view+json": {
       "model_id": "777eb185d7004700af9dd2985b47ad9d",
       "version_major": 2,
       "version_minor": 0
      },
      "text/plain": [
       "Batches:   0%|          | 0/5 [00:00<?, ?it/s]"
      ]
     },
     "metadata": {},
     "output_type": "display_data"
    },
    {
     "data": {
      "application/vnd.jupyter.widget-view+json": {
       "model_id": "e9c2197fa5b647f882bca6b06f3d8433",
       "version_major": 2,
       "version_minor": 0
      },
      "text/plain": [
       "Batches:   0%|          | 0/45 [00:00<?, ?it/s]"
      ]
     },
     "metadata": {},
     "output_type": "display_data"
    },
    {
     "data": {
      "application/vnd.jupyter.widget-view+json": {
       "model_id": "f6cc2653ad104cf396b8c2d311667778",
       "version_major": 2,
       "version_minor": 0
      },
      "text/plain": [
       "Batches:   0%|          | 0/5 [00:00<?, ?it/s]"
      ]
     },
     "metadata": {},
     "output_type": "display_data"
    },
    {
     "name": "stderr",
     "output_type": "stream",
     "text": [
      " 80%|████████████████████████████████████████████████████████████████████████████████████                     | 4/5 [05:43<01:39, 99.19s/it]"
     ]
    },
    {
     "data": {
      "application/vnd.jupyter.widget-view+json": {
       "model_id": "19e7ee46306f476e945810ba1986483e",
       "version_major": 2,
       "version_minor": 0
      },
      "text/plain": [
       "Batches:   0%|          | 0/12 [00:00<?, ?it/s]"
      ]
     },
     "metadata": {},
     "output_type": "display_data"
    },
    {
     "data": {
      "application/vnd.jupyter.widget-view+json": {
       "model_id": "709dce8fee7042289346ee3a8958d585",
       "version_major": 2,
       "version_minor": 0
      },
      "text/plain": [
       "Batches:   0%|          | 0/2 [00:00<?, ?it/s]"
      ]
     },
     "metadata": {},
     "output_type": "display_data"
    },
    {
     "data": {
      "application/vnd.jupyter.widget-view+json": {
       "model_id": "375248bb811c474f870c4524f9245c1e",
       "version_major": 2,
       "version_minor": 0
      },
      "text/plain": [
       "Batches:   0%|          | 0/12 [00:00<?, ?it/s]"
      ]
     },
     "metadata": {},
     "output_type": "display_data"
    },
    {
     "data": {
      "application/vnd.jupyter.widget-view+json": {
       "model_id": "f850874a37b148c59e170bbd4f27c201",
       "version_major": 2,
       "version_minor": 0
      },
      "text/plain": [
       "Batches:   0%|          | 0/2 [00:00<?, ?it/s]"
      ]
     },
     "metadata": {},
     "output_type": "display_data"
    },
    {
     "data": {
      "application/vnd.jupyter.widget-view+json": {
       "model_id": "8aaf1ed1e3a1437eab0351a1549e6f4c",
       "version_major": 2,
       "version_minor": 0
      },
      "text/plain": [
       "Batches:   0%|          | 0/12 [00:00<?, ?it/s]"
      ]
     },
     "metadata": {},
     "output_type": "display_data"
    },
    {
     "data": {
      "application/vnd.jupyter.widget-view+json": {
       "model_id": "dd0a007b1cd847ea8a2610af0c843ae7",
       "version_major": 2,
       "version_minor": 0
      },
      "text/plain": [
       "Batches:   0%|          | 0/2 [00:00<?, ?it/s]"
      ]
     },
     "metadata": {},
     "output_type": "display_data"
    },
    {
     "data": {
      "application/vnd.jupyter.widget-view+json": {
       "model_id": "aed4f5ff17584a0b8809731e94c77227",
       "version_major": 2,
       "version_minor": 0
      },
      "text/plain": [
       "Batches:   0%|          | 0/12 [00:00<?, ?it/s]"
      ]
     },
     "metadata": {},
     "output_type": "display_data"
    },
    {
     "data": {
      "application/vnd.jupyter.widget-view+json": {
       "model_id": "ee50de7ad5e4401f81681678ebb8fa44",
       "version_major": 2,
       "version_minor": 0
      },
      "text/plain": [
       "Batches:   0%|          | 0/2 [00:00<?, ?it/s]"
      ]
     },
     "metadata": {},
     "output_type": "display_data"
    },
    {
     "data": {
      "application/vnd.jupyter.widget-view+json": {
       "model_id": "19ded93d422d4cc8822de2feb1c3ef39",
       "version_major": 2,
       "version_minor": 0
      },
      "text/plain": [
       "Batches:   0%|          | 0/12 [00:00<?, ?it/s]"
      ]
     },
     "metadata": {},
     "output_type": "display_data"
    },
    {
     "data": {
      "application/vnd.jupyter.widget-view+json": {
       "model_id": "ee4ee61e092747559f1cc06b42435e5f",
       "version_major": 2,
       "version_minor": 0
      },
      "text/plain": [
       "Batches:   0%|          | 0/2 [00:00<?, ?it/s]"
      ]
     },
     "metadata": {},
     "output_type": "display_data"
    },
    {
     "data": {
      "application/vnd.jupyter.widget-view+json": {
       "model_id": "b0a56ba0fd64485c94ba3c272dacc087",
       "version_major": 2,
       "version_minor": 0
      },
      "text/plain": [
       "Batches:   0%|          | 0/12 [00:00<?, ?it/s]"
      ]
     },
     "metadata": {},
     "output_type": "display_data"
    },
    {
     "data": {
      "application/vnd.jupyter.widget-view+json": {
       "model_id": "b2000870b3c646b2a00114ff68c2e0d5",
       "version_major": 2,
       "version_minor": 0
      },
      "text/plain": [
       "Batches:   0%|          | 0/2 [00:00<?, ?it/s]"
      ]
     },
     "metadata": {},
     "output_type": "display_data"
    },
    {
     "data": {
      "application/vnd.jupyter.widget-view+json": {
       "model_id": "e148261b745a482fa76de5403868afe2",
       "version_major": 2,
       "version_minor": 0
      },
      "text/plain": [
       "Batches:   0%|          | 0/12 [00:00<?, ?it/s]"
      ]
     },
     "metadata": {},
     "output_type": "display_data"
    },
    {
     "data": {
      "application/vnd.jupyter.widget-view+json": {
       "model_id": "40bcee1848c1446d942a375245ef6b39",
       "version_major": 2,
       "version_minor": 0
      },
      "text/plain": [
       "Batches:   0%|          | 0/2 [00:00<?, ?it/s]"
      ]
     },
     "metadata": {},
     "output_type": "display_data"
    },
    {
     "data": {
      "application/vnd.jupyter.widget-view+json": {
       "model_id": "ee11f0e9ebfa4a99bf36a31105ddb1ac",
       "version_major": 2,
       "version_minor": 0
      },
      "text/plain": [
       "Batches:   0%|          | 0/12 [00:00<?, ?it/s]"
      ]
     },
     "metadata": {},
     "output_type": "display_data"
    },
    {
     "data": {
      "application/vnd.jupyter.widget-view+json": {
       "model_id": "0ba496ac73904995afa8e7bb45b36d97",
       "version_major": 2,
       "version_minor": 0
      },
      "text/plain": [
       "Batches:   0%|          | 0/2 [00:00<?, ?it/s]"
      ]
     },
     "metadata": {},
     "output_type": "display_data"
    },
    {
     "data": {
      "application/vnd.jupyter.widget-view+json": {
       "model_id": "39fe12a7f34b4abf9a151aaf3fd2ce02",
       "version_major": 2,
       "version_minor": 0
      },
      "text/plain": [
       "Batches:   0%|          | 0/12 [00:00<?, ?it/s]"
      ]
     },
     "metadata": {},
     "output_type": "display_data"
    },
    {
     "data": {
      "application/vnd.jupyter.widget-view+json": {
       "model_id": "c7cb9bbbc2dc44e5a1950ffcb91de9a5",
       "version_major": 2,
       "version_minor": 0
      },
      "text/plain": [
       "Batches:   0%|          | 0/2 [00:00<?, ?it/s]"
      ]
     },
     "metadata": {},
     "output_type": "display_data"
    },
    {
     "data": {
      "application/vnd.jupyter.widget-view+json": {
       "model_id": "37215db52eb0413d98b5da31e85a81ea",
       "version_major": 2,
       "version_minor": 0
      },
      "text/plain": [
       "Batches:   0%|          | 0/12 [00:00<?, ?it/s]"
      ]
     },
     "metadata": {},
     "output_type": "display_data"
    },
    {
     "data": {
      "application/vnd.jupyter.widget-view+json": {
       "model_id": "703fccb97b184d5c8b59f12822238276",
       "version_major": 2,
       "version_minor": 0
      },
      "text/plain": [
       "Batches:   0%|          | 0/2 [00:00<?, ?it/s]"
      ]
     },
     "metadata": {},
     "output_type": "display_data"
    },
    {
     "name": "stderr",
     "output_type": "stream",
     "text": [
      "100%|█████████████████████████████████████████████████████████████████████████████████████████████████████████| 5/5 [06:16<00:00, 75.24s/it]\n"
     ]
    }
   ],
   "source": [
    "KFOLD = 10 # https://cran.r-project.org/web/packages/cvms/vignettes/picking_the_number_of_folds_for_cross-validation.html#:~:text=When%20performing%20cross%2Dvalidation%2C%20it,common%20to%20use%2010%20folds.\n",
    "\n",
    "# Training\n",
    "for botname in tqdm(botid.keys()):\n",
    "    for emb_type in embedding_types:\n",
    "        model = models[botname][emb_type]\n",
    "        _X = X[botname]\n",
    "        _y = y[botname]\n",
    "        scores = cross_validate(model, _X, _y,\n",
    "                                scoring=(\"f1_micro\"),\n",
    "                                cv=KFOLD, n_jobs=1)\n",
    "        f1_micro[botname][emb_type] = scores[\"test_score\"].mean().round(2)"
   ]
  },
  {
   "cell_type": "code",
   "execution_count": 18,
   "id": "82914077-0b39-447b-b2d8-0325ff8a9a23",
   "metadata": {},
   "outputs": [
    {
     "data": {
      "text/plain": [
       "{'sunlaw': {'tfidf': 0.65, 'sbert': 0.81, 'phobert': 0.59},\n",
       " 'lamhaian': {'tfidf': 0.23, 'sbert': 0.39, 'phobert': 0.22},\n",
       " 'giang.nguyen': {'tfidf': 0.26, 'sbert': 0.48, 'phobert': 0.31},\n",
       " 'panasonic': {'tfidf': 0.35, 'sbert': 0.63, 'phobert': 0.3},\n",
       " 'trung.quan': {'tfidf': 0.69, 'sbert': 0.81, 'phobert': 0.68}}"
      ]
     },
     "execution_count": 18,
     "metadata": {},
     "output_type": "execute_result"
    }
   ],
   "source": [
    "f1_micro"
   ]
  },
  {
   "cell_type": "markdown",
   "id": "55371677-a6ed-4964-b08a-d130665e0674",
   "metadata": {},
   "source": [
    "### Visualize"
   ]
  },
  {
   "cell_type": "code",
   "execution_count": 248,
   "id": "9802e83e-f393-4dc6-8f9f-1c279ad2f31e",
   "metadata": {},
   "outputs": [
    {
     "data": {
      "text/html": [
       "<div class=\"bk-root\">\n",
       "        <a href=\"https://bokeh.org\" target=\"_blank\" class=\"bk-logo bk-logo-small bk-logo-notebook\"></a>\n",
       "        <span id=\"7601\">Loading BokehJS ...</span>\n",
       "    </div>\n"
      ]
     },
     "metadata": {},
     "output_type": "display_data"
    },
    {
     "data": {
      "application/javascript": [
       "(function(root) {\n",
       "  function now() {\n",
       "    return new Date();\n",
       "  }\n",
       "\n",
       "  const force = true;\n",
       "\n",
       "  if (typeof root._bokeh_onload_callbacks === \"undefined\" || force === true) {\n",
       "    root._bokeh_onload_callbacks = [];\n",
       "    root._bokeh_is_loading = undefined;\n",
       "  }\n",
       "\n",
       "const JS_MIME_TYPE = 'application/javascript';\n",
       "  const HTML_MIME_TYPE = 'text/html';\n",
       "  const EXEC_MIME_TYPE = 'application/vnd.bokehjs_exec.v0+json';\n",
       "  const CLASS_NAME = 'output_bokeh rendered_html';\n",
       "\n",
       "  /**\n",
       "   * Render data to the DOM node\n",
       "   */\n",
       "  function render(props, node) {\n",
       "    const script = document.createElement(\"script\");\n",
       "    node.appendChild(script);\n",
       "  }\n",
       "\n",
       "  /**\n",
       "   * Handle when an output is cleared or removed\n",
       "   */\n",
       "  function handleClearOutput(event, handle) {\n",
       "    const cell = handle.cell;\n",
       "\n",
       "    const id = cell.output_area._bokeh_element_id;\n",
       "    const server_id = cell.output_area._bokeh_server_id;\n",
       "    // Clean up Bokeh references\n",
       "    if (id != null && id in Bokeh.index) {\n",
       "      Bokeh.index[id].model.document.clear();\n",
       "      delete Bokeh.index[id];\n",
       "    }\n",
       "\n",
       "    if (server_id !== undefined) {\n",
       "      // Clean up Bokeh references\n",
       "      const cmd_clean = \"from bokeh.io.state import curstate; print(curstate().uuid_to_server['\" + server_id + \"'].get_sessions()[0].document.roots[0]._id)\";\n",
       "      cell.notebook.kernel.execute(cmd_clean, {\n",
       "        iopub: {\n",
       "          output: function(msg) {\n",
       "            const id = msg.content.text.trim();\n",
       "            if (id in Bokeh.index) {\n",
       "              Bokeh.index[id].model.document.clear();\n",
       "              delete Bokeh.index[id];\n",
       "            }\n",
       "          }\n",
       "        }\n",
       "      });\n",
       "      // Destroy server and session\n",
       "      const cmd_destroy = \"import bokeh.io.notebook as ion; ion.destroy_server('\" + server_id + \"')\";\n",
       "      cell.notebook.kernel.execute(cmd_destroy);\n",
       "    }\n",
       "  }\n",
       "\n",
       "  /**\n",
       "   * Handle when a new output is added\n",
       "   */\n",
       "  function handleAddOutput(event, handle) {\n",
       "    const output_area = handle.output_area;\n",
       "    const output = handle.output;\n",
       "\n",
       "    // limit handleAddOutput to display_data with EXEC_MIME_TYPE content only\n",
       "    if ((output.output_type != \"display_data\") || (!Object.prototype.hasOwnProperty.call(output.data, EXEC_MIME_TYPE))) {\n",
       "      return\n",
       "    }\n",
       "\n",
       "    const toinsert = output_area.element.find(\".\" + CLASS_NAME.split(' ')[0]);\n",
       "\n",
       "    if (output.metadata[EXEC_MIME_TYPE][\"id\"] !== undefined) {\n",
       "      toinsert[toinsert.length - 1].firstChild.textContent = output.data[JS_MIME_TYPE];\n",
       "      // store reference to embed id on output_area\n",
       "      output_area._bokeh_element_id = output.metadata[EXEC_MIME_TYPE][\"id\"];\n",
       "    }\n",
       "    if (output.metadata[EXEC_MIME_TYPE][\"server_id\"] !== undefined) {\n",
       "      const bk_div = document.createElement(\"div\");\n",
       "      bk_div.innerHTML = output.data[HTML_MIME_TYPE];\n",
       "      const script_attrs = bk_div.children[0].attributes;\n",
       "      for (let i = 0; i < script_attrs.length; i++) {\n",
       "        toinsert[toinsert.length - 1].firstChild.setAttribute(script_attrs[i].name, script_attrs[i].value);\n",
       "        toinsert[toinsert.length - 1].firstChild.textContent = bk_div.children[0].textContent\n",
       "      }\n",
       "      // store reference to server id on output_area\n",
       "      output_area._bokeh_server_id = output.metadata[EXEC_MIME_TYPE][\"server_id\"];\n",
       "    }\n",
       "  }\n",
       "\n",
       "  function register_renderer(events, OutputArea) {\n",
       "\n",
       "    function append_mime(data, metadata, element) {\n",
       "      // create a DOM node to render to\n",
       "      const toinsert = this.create_output_subarea(\n",
       "        metadata,\n",
       "        CLASS_NAME,\n",
       "        EXEC_MIME_TYPE\n",
       "      );\n",
       "      this.keyboard_manager.register_events(toinsert);\n",
       "      // Render to node\n",
       "      const props = {data: data, metadata: metadata[EXEC_MIME_TYPE]};\n",
       "      render(props, toinsert[toinsert.length - 1]);\n",
       "      element.append(toinsert);\n",
       "      return toinsert\n",
       "    }\n",
       "\n",
       "    /* Handle when an output is cleared or removed */\n",
       "    events.on('clear_output.CodeCell', handleClearOutput);\n",
       "    events.on('delete.Cell', handleClearOutput);\n",
       "\n",
       "    /* Handle when a new output is added */\n",
       "    events.on('output_added.OutputArea', handleAddOutput);\n",
       "\n",
       "    /**\n",
       "     * Register the mime type and append_mime function with output_area\n",
       "     */\n",
       "    OutputArea.prototype.register_mime_type(EXEC_MIME_TYPE, append_mime, {\n",
       "      /* Is output safe? */\n",
       "      safe: true,\n",
       "      /* Index of renderer in `output_area.display_order` */\n",
       "      index: 0\n",
       "    });\n",
       "  }\n",
       "\n",
       "  // register the mime type if in Jupyter Notebook environment and previously unregistered\n",
       "  if (root.Jupyter !== undefined) {\n",
       "    const events = require('base/js/events');\n",
       "    const OutputArea = require('notebook/js/outputarea').OutputArea;\n",
       "\n",
       "    if (OutputArea.prototype.mime_types().indexOf(EXEC_MIME_TYPE) == -1) {\n",
       "      register_renderer(events, OutputArea);\n",
       "    }\n",
       "  }\n",
       "  if (typeof (root._bokeh_timeout) === \"undefined\" || force === true) {\n",
       "    root._bokeh_timeout = Date.now() + 5000;\n",
       "    root._bokeh_failed_load = false;\n",
       "  }\n",
       "\n",
       "  const NB_LOAD_WARNING = {'data': {'text/html':\n",
       "     \"<div style='background-color: #fdd'>\\n\"+\n",
       "     \"<p>\\n\"+\n",
       "     \"BokehJS does not appear to have successfully loaded. If loading BokehJS from CDN, this \\n\"+\n",
       "     \"may be due to a slow or bad network connection. Possible fixes:\\n\"+\n",
       "     \"</p>\\n\"+\n",
       "     \"<ul>\\n\"+\n",
       "     \"<li>re-rerun `output_notebook()` to attempt to load from CDN again, or</li>\\n\"+\n",
       "     \"<li>use INLINE resources instead, as so:</li>\\n\"+\n",
       "     \"</ul>\\n\"+\n",
       "     \"<code>\\n\"+\n",
       "     \"from bokeh.resources import INLINE\\n\"+\n",
       "     \"output_notebook(resources=INLINE)\\n\"+\n",
       "     \"</code>\\n\"+\n",
       "     \"</div>\"}};\n",
       "\n",
       "  function display_loaded() {\n",
       "    const el = document.getElementById(\"7601\");\n",
       "    if (el != null) {\n",
       "      el.textContent = \"BokehJS is loading...\";\n",
       "    }\n",
       "    if (root.Bokeh !== undefined) {\n",
       "      if (el != null) {\n",
       "        el.textContent = \"BokehJS \" + root.Bokeh.version + \" successfully loaded.\";\n",
       "      }\n",
       "    } else if (Date.now() < root._bokeh_timeout) {\n",
       "      setTimeout(display_loaded, 100)\n",
       "    }\n",
       "  }\n",
       "\n",
       "  function run_callbacks() {\n",
       "    try {\n",
       "      root._bokeh_onload_callbacks.forEach(function(callback) {\n",
       "        if (callback != null)\n",
       "          callback();\n",
       "      });\n",
       "    } finally {\n",
       "      delete root._bokeh_onload_callbacks\n",
       "    }\n",
       "    console.debug(\"Bokeh: all callbacks have finished\");\n",
       "  }\n",
       "\n",
       "  function load_libs(css_urls, js_urls, callback) {\n",
       "    if (css_urls == null) css_urls = [];\n",
       "    if (js_urls == null) js_urls = [];\n",
       "\n",
       "    root._bokeh_onload_callbacks.push(callback);\n",
       "    if (root._bokeh_is_loading > 0) {\n",
       "      console.debug(\"Bokeh: BokehJS is being loaded, scheduling callback at\", now());\n",
       "      return null;\n",
       "    }\n",
       "    if (js_urls == null || js_urls.length === 0) {\n",
       "      run_callbacks();\n",
       "      return null;\n",
       "    }\n",
       "    console.debug(\"Bokeh: BokehJS not loaded, scheduling load and callback at\", now());\n",
       "    root._bokeh_is_loading = css_urls.length + js_urls.length;\n",
       "\n",
       "    function on_load() {\n",
       "      root._bokeh_is_loading--;\n",
       "      if (root._bokeh_is_loading === 0) {\n",
       "        console.debug(\"Bokeh: all BokehJS libraries/stylesheets loaded\");\n",
       "        run_callbacks()\n",
       "      }\n",
       "    }\n",
       "\n",
       "    function on_error(url) {\n",
       "      console.error(\"failed to load \" + url);\n",
       "    }\n",
       "\n",
       "    for (let i = 0; i < css_urls.length; i++) {\n",
       "      const url = css_urls[i];\n",
       "      const element = document.createElement(\"link\");\n",
       "      element.onload = on_load;\n",
       "      element.onerror = on_error.bind(null, url);\n",
       "      element.rel = \"stylesheet\";\n",
       "      element.type = \"text/css\";\n",
       "      element.href = url;\n",
       "      console.debug(\"Bokeh: injecting link tag for BokehJS stylesheet: \", url);\n",
       "      document.body.appendChild(element);\n",
       "    }\n",
       "\n",
       "    for (let i = 0; i < js_urls.length; i++) {\n",
       "      const url = js_urls[i];\n",
       "      const element = document.createElement('script');\n",
       "      element.onload = on_load;\n",
       "      element.onerror = on_error.bind(null, url);\n",
       "      element.async = false;\n",
       "      element.src = url;\n",
       "      console.debug(\"Bokeh: injecting script tag for BokehJS library: \", url);\n",
       "      document.head.appendChild(element);\n",
       "    }\n",
       "  };\n",
       "\n",
       "  function inject_raw_css(css) {\n",
       "    const element = document.createElement(\"style\");\n",
       "    element.appendChild(document.createTextNode(css));\n",
       "    document.body.appendChild(element);\n",
       "  }\n",
       "\n",
       "  const js_urls = [\"https://cdn.bokeh.org/bokeh/release/bokeh-2.4.3.min.js\", \"https://cdn.bokeh.org/bokeh/release/bokeh-gl-2.4.3.min.js\", \"https://cdn.bokeh.org/bokeh/release/bokeh-widgets-2.4.3.min.js\", \"https://cdn.bokeh.org/bokeh/release/bokeh-tables-2.4.3.min.js\", \"https://cdn.bokeh.org/bokeh/release/bokeh-mathjax-2.4.3.min.js\"];\n",
       "  const css_urls = [];\n",
       "\n",
       "  const inline_js = [    function(Bokeh) {\n",
       "      Bokeh.set_log_level(\"info\");\n",
       "    },\n",
       "function(Bokeh) {\n",
       "    }\n",
       "  ];\n",
       "\n",
       "  function run_inline_js() {\n",
       "    if (root.Bokeh !== undefined || force === true) {\n",
       "          for (let i = 0; i < inline_js.length; i++) {\n",
       "      inline_js[i].call(root, root.Bokeh);\n",
       "    }\n",
       "if (force === true) {\n",
       "        display_loaded();\n",
       "      }} else if (Date.now() < root._bokeh_timeout) {\n",
       "      setTimeout(run_inline_js, 100);\n",
       "    } else if (!root._bokeh_failed_load) {\n",
       "      console.log(\"Bokeh: BokehJS failed to load within specified timeout.\");\n",
       "      root._bokeh_failed_load = true;\n",
       "    } else if (force !== true) {\n",
       "      const cell = $(document.getElementById(\"7601\")).parents('.cell').data().cell;\n",
       "      cell.output_area.append_execute_result(NB_LOAD_WARNING)\n",
       "    }\n",
       "  }\n",
       "\n",
       "  if (root._bokeh_is_loading === 0) {\n",
       "    console.debug(\"Bokeh: BokehJS loaded, going straight to plotting\");\n",
       "    run_inline_js();\n",
       "  } else {\n",
       "    load_libs(css_urls, js_urls, function() {\n",
       "      console.debug(\"Bokeh: BokehJS plotting callback run at\", now());\n",
       "      run_inline_js();\n",
       "    });\n",
       "  }\n",
       "}(window));"
      ],
      "application/vnd.bokehjs_load.v0+json": "(function(root) {\n  function now() {\n    return new Date();\n  }\n\n  const force = true;\n\n  if (typeof root._bokeh_onload_callbacks === \"undefined\" || force === true) {\n    root._bokeh_onload_callbacks = [];\n    root._bokeh_is_loading = undefined;\n  }\n\n\n  if (typeof (root._bokeh_timeout) === \"undefined\" || force === true) {\n    root._bokeh_timeout = Date.now() + 5000;\n    root._bokeh_failed_load = false;\n  }\n\n  const NB_LOAD_WARNING = {'data': {'text/html':\n     \"<div style='background-color: #fdd'>\\n\"+\n     \"<p>\\n\"+\n     \"BokehJS does not appear to have successfully loaded. If loading BokehJS from CDN, this \\n\"+\n     \"may be due to a slow or bad network connection. Possible fixes:\\n\"+\n     \"</p>\\n\"+\n     \"<ul>\\n\"+\n     \"<li>re-rerun `output_notebook()` to attempt to load from CDN again, or</li>\\n\"+\n     \"<li>use INLINE resources instead, as so:</li>\\n\"+\n     \"</ul>\\n\"+\n     \"<code>\\n\"+\n     \"from bokeh.resources import INLINE\\n\"+\n     \"output_notebook(resources=INLINE)\\n\"+\n     \"</code>\\n\"+\n     \"</div>\"}};\n\n  function display_loaded() {\n    const el = document.getElementById(\"7601\");\n    if (el != null) {\n      el.textContent = \"BokehJS is loading...\";\n    }\n    if (root.Bokeh !== undefined) {\n      if (el != null) {\n        el.textContent = \"BokehJS \" + root.Bokeh.version + \" successfully loaded.\";\n      }\n    } else if (Date.now() < root._bokeh_timeout) {\n      setTimeout(display_loaded, 100)\n    }\n  }\n\n  function run_callbacks() {\n    try {\n      root._bokeh_onload_callbacks.forEach(function(callback) {\n        if (callback != null)\n          callback();\n      });\n    } finally {\n      delete root._bokeh_onload_callbacks\n    }\n    console.debug(\"Bokeh: all callbacks have finished\");\n  }\n\n  function load_libs(css_urls, js_urls, callback) {\n    if (css_urls == null) css_urls = [];\n    if (js_urls == null) js_urls = [];\n\n    root._bokeh_onload_callbacks.push(callback);\n    if (root._bokeh_is_loading > 0) {\n      console.debug(\"Bokeh: BokehJS is being loaded, scheduling callback at\", now());\n      return null;\n    }\n    if (js_urls == null || js_urls.length === 0) {\n      run_callbacks();\n      return null;\n    }\n    console.debug(\"Bokeh: BokehJS not loaded, scheduling load and callback at\", now());\n    root._bokeh_is_loading = css_urls.length + js_urls.length;\n\n    function on_load() {\n      root._bokeh_is_loading--;\n      if (root._bokeh_is_loading === 0) {\n        console.debug(\"Bokeh: all BokehJS libraries/stylesheets loaded\");\n        run_callbacks()\n      }\n    }\n\n    function on_error(url) {\n      console.error(\"failed to load \" + url);\n    }\n\n    for (let i = 0; i < css_urls.length; i++) {\n      const url = css_urls[i];\n      const element = document.createElement(\"link\");\n      element.onload = on_load;\n      element.onerror = on_error.bind(null, url);\n      element.rel = \"stylesheet\";\n      element.type = \"text/css\";\n      element.href = url;\n      console.debug(\"Bokeh: injecting link tag for BokehJS stylesheet: \", url);\n      document.body.appendChild(element);\n    }\n\n    for (let i = 0; i < js_urls.length; i++) {\n      const url = js_urls[i];\n      const element = document.createElement('script');\n      element.onload = on_load;\n      element.onerror = on_error.bind(null, url);\n      element.async = false;\n      element.src = url;\n      console.debug(\"Bokeh: injecting script tag for BokehJS library: \", url);\n      document.head.appendChild(element);\n    }\n  };\n\n  function inject_raw_css(css) {\n    const element = document.createElement(\"style\");\n    element.appendChild(document.createTextNode(css));\n    document.body.appendChild(element);\n  }\n\n  const js_urls = [\"https://cdn.bokeh.org/bokeh/release/bokeh-2.4.3.min.js\", \"https://cdn.bokeh.org/bokeh/release/bokeh-gl-2.4.3.min.js\", \"https://cdn.bokeh.org/bokeh/release/bokeh-widgets-2.4.3.min.js\", \"https://cdn.bokeh.org/bokeh/release/bokeh-tables-2.4.3.min.js\", \"https://cdn.bokeh.org/bokeh/release/bokeh-mathjax-2.4.3.min.js\"];\n  const css_urls = [];\n\n  const inline_js = [    function(Bokeh) {\n      Bokeh.set_log_level(\"info\");\n    },\nfunction(Bokeh) {\n    }\n  ];\n\n  function run_inline_js() {\n    if (root.Bokeh !== undefined || force === true) {\n          for (let i = 0; i < inline_js.length; i++) {\n      inline_js[i].call(root, root.Bokeh);\n    }\nif (force === true) {\n        display_loaded();\n      }} else if (Date.now() < root._bokeh_timeout) {\n      setTimeout(run_inline_js, 100);\n    } else if (!root._bokeh_failed_load) {\n      console.log(\"Bokeh: BokehJS failed to load within specified timeout.\");\n      root._bokeh_failed_load = true;\n    } else if (force !== true) {\n      const cell = $(document.getElementById(\"7601\")).parents('.cell').data().cell;\n      cell.output_area.append_execute_result(NB_LOAD_WARNING)\n    }\n  }\n\n  if (root._bokeh_is_loading === 0) {\n    console.debug(\"Bokeh: BokehJS loaded, going straight to plotting\");\n    run_inline_js();\n  } else {\n    load_libs(css_urls, js_urls, function() {\n      console.debug(\"Bokeh: BokehJS plotting callback run at\", now());\n      run_inline_js();\n    });\n  }\n}(window));"
     },
     "metadata": {},
     "output_type": "display_data"
    },
    {
     "data": {
      "text/html": [
       "\n",
       "  <div class=\"bk-root\" id=\"0442f8dd-a093-4b8e-bafd-cbff54856ec3\" data-root-id=\"7603\"></div>\n"
      ]
     },
     "metadata": {},
     "output_type": "display_data"
    },
    {
     "data": {
      "application/javascript": [
       "(function(root) {\n",
       "  function embed_document(root) {\n",
       "  const docs_json = {\"dce1c319-d273-4076-94a5-0ae47badeea4\":{\"defs\":[],\"roots\":{\"references\":[{\"attributes\":{\"below\":[{\"id\":\"7614\"}],\"center\":[{\"id\":\"7616\"},{\"id\":\"7620\"},{\"id\":\"7638\"}],\"height\":500,\"left\":[{\"id\":\"7617\"}],\"renderers\":[{\"id\":\"7627\"},{\"id\":\"7645\"},{\"id\":\"7662\"}],\"title\":{\"id\":\"7604\"},\"toolbar\":{\"id\":\"7621\"},\"toolbar_location\":null,\"x_range\":{\"id\":\"7606\"},\"x_scale\":{\"id\":\"7610\"},\"y_range\":{\"id\":\"7608\"},\"y_scale\":{\"id\":\"7612\"}},\"id\":\"7603\",\"subtype\":\"Figure\",\"type\":\"Plot\"},{\"attributes\":{},\"id\":\"7621\",\"type\":\"Toolbar\"},{\"attributes\":{\"fill_alpha\":{\"value\":0.2},\"fill_color\":{\"value\":\"#e84d60\"},\"hatch_alpha\":{\"value\":0.2},\"hatch_color\":{\"value\":\"#e84d60\"},\"line_alpha\":{\"value\":0.2},\"line_color\":{\"value\":\"#e84d60\"},\"top\":{\"field\":\"phobert\"},\"width\":{\"value\":0.2},\"x\":{\"field\":\"botnames\",\"transform\":{\"id\":\"7657\"}}},\"id\":\"7661\",\"type\":\"VBar\"},{\"attributes\":{},\"id\":\"7635\",\"type\":\"AllLabels\"},{\"attributes\":{\"coordinates\":null,\"data_source\":{\"id\":\"7602\"},\"glyph\":{\"id\":\"7659\"},\"group\":null,\"hover_glyph\":null,\"muted_glyph\":{\"id\":\"7661\"},\"nonselection_glyph\":{\"id\":\"7660\"},\"view\":{\"id\":\"7663\"}},\"id\":\"7662\",\"type\":\"GlyphRenderer\"},{\"attributes\":{},\"id\":\"7636\",\"type\":\"UnionRenderers\"},{\"attributes\":{},\"id\":\"7610\",\"type\":\"CategoricalScale\"},{\"attributes\":{\"axis\":{\"id\":\"7617\"},\"coordinates\":null,\"dimension\":1,\"group\":null,\"ticker\":null},\"id\":\"7620\",\"type\":\"Grid\"},{\"attributes\":{\"fill_alpha\":{\"value\":0.2},\"fill_color\":{\"value\":\"#c9d9d3\"},\"hatch_alpha\":{\"value\":0.2},\"hatch_color\":{\"value\":\"#c9d9d3\"},\"line_alpha\":{\"value\":0.2},\"line_color\":{\"value\":\"#c9d9d3\"},\"top\":{\"field\":\"tfidf\"},\"width\":{\"value\":0.2},\"x\":{\"field\":\"botnames\",\"transform\":{\"id\":\"7622\"}}},\"id\":\"7626\",\"type\":\"VBar\"},{\"attributes\":{},\"id\":\"7637\",\"type\":\"Selection\"},{\"attributes\":{\"label\":{\"value\":\"TF-IDF (Baseline)\"},\"renderers\":[{\"id\":\"7627\"}]},\"id\":\"7639\",\"type\":\"LegendItem\"},{\"attributes\":{\"axis_label\":\"f1 micro\",\"coordinates\":null,\"formatter\":{\"id\":\"7631\"},\"group\":null,\"major_label_policy\":{\"id\":\"7632\"},\"ticker\":{\"id\":\"7618\"}},\"id\":\"7617\",\"type\":\"LinearAxis\"},{\"attributes\":{\"source\":{\"id\":\"7602\"}},\"id\":\"7663\",\"type\":\"CDSView\"},{\"attributes\":{\"range\":{\"id\":\"7606\"},\"value\":0.25},\"id\":\"7657\",\"type\":\"Dodge\"},{\"attributes\":{},\"id\":\"7612\",\"type\":\"LinearScale\"},{\"attributes\":{\"range\":{\"id\":\"7606\"},\"value\":-0.25},\"id\":\"7622\",\"type\":\"Dodge\"},{\"attributes\":{\"coordinates\":null,\"formatter\":{\"id\":\"7634\"},\"group\":null,\"major_label_policy\":{\"id\":\"7635\"},\"ticker\":{\"id\":\"7615\"}},\"id\":\"7614\",\"type\":\"CategoricalAxis\"},{\"attributes\":{\"fill_color\":{\"value\":\"#718dbf\"},\"hatch_color\":{\"value\":\"#718dbf\"},\"line_color\":{\"value\":\"#718dbf\"},\"top\":{\"field\":\"sbert\"},\"width\":{\"value\":0.2},\"x\":{\"field\":\"botnames\",\"transform\":{\"id\":\"7640\"}}},\"id\":\"7642\",\"type\":\"VBar\"},{\"attributes\":{},\"id\":\"7615\",\"type\":\"CategoricalTicker\"},{\"attributes\":{\"fill_color\":{\"value\":\"#c9d9d3\"},\"hatch_color\":{\"value\":\"#c9d9d3\"},\"line_color\":{\"value\":\"#c9d9d3\"},\"top\":{\"field\":\"tfidf\"},\"width\":{\"value\":0.2},\"x\":{\"field\":\"botnames\",\"transform\":{\"id\":\"7622\"}}},\"id\":\"7624\",\"type\":\"VBar\"},{\"attributes\":{\"axis\":{\"id\":\"7614\"},\"coordinates\":null,\"grid_line_color\":null,\"group\":null,\"ticker\":null},\"id\":\"7616\",\"type\":\"Grid\"},{\"attributes\":{\"fill_alpha\":{\"value\":0.2},\"fill_color\":{\"value\":\"#718dbf\"},\"hatch_alpha\":{\"value\":0.2},\"hatch_color\":{\"value\":\"#718dbf\"},\"line_alpha\":{\"value\":0.2},\"line_color\":{\"value\":\"#718dbf\"},\"top\":{\"field\":\"sbert\"},\"width\":{\"value\":0.2},\"x\":{\"field\":\"botnames\",\"transform\":{\"id\":\"7640\"}}},\"id\":\"7644\",\"type\":\"VBar\"},{\"attributes\":{\"label\":{\"value\":\"Vietnamese SBERT (No FT)\"},\"renderers\":[{\"id\":\"7645\"}]},\"id\":\"7656\",\"type\":\"LegendItem\"},{\"attributes\":{\"data\":{\"botnames\":[\"sunlaw\",\"lamhaian\",\"giang.nguyen\",\"panasonic\",\"trung.quan\"],\"phobert\":[0.59,0.22,0.31,0.3,0.68],\"sbert\":[0.81,0.39,0.48,0.63,0.81],\"tfidf\":[0.65,0.23,0.26,0.35,0.69]},\"selected\":{\"id\":\"7637\"},\"selection_policy\":{\"id\":\"7636\"}},\"id\":\"7602\",\"type\":\"ColumnDataSource\"},{\"attributes\":{},\"id\":\"7631\",\"type\":\"BasicTickFormatter\"},{\"attributes\":{\"coordinates\":null,\"data_source\":{\"id\":\"7602\"},\"glyph\":{\"id\":\"7642\"},\"group\":null,\"hover_glyph\":null,\"muted_glyph\":{\"id\":\"7644\"},\"nonselection_glyph\":{\"id\":\"7643\"},\"view\":{\"id\":\"7646\"}},\"id\":\"7645\",\"type\":\"GlyphRenderer\"},{\"attributes\":{\"coordinates\":null,\"data_source\":{\"id\":\"7602\"},\"glyph\":{\"id\":\"7624\"},\"group\":null,\"hover_glyph\":null,\"muted_glyph\":{\"id\":\"7626\"},\"nonselection_glyph\":{\"id\":\"7625\"},\"view\":{\"id\":\"7628\"}},\"id\":\"7627\",\"type\":\"GlyphRenderer\"},{\"attributes\":{\"fill_alpha\":{\"value\":0.1},\"fill_color\":{\"value\":\"#718dbf\"},\"hatch_alpha\":{\"value\":0.1},\"hatch_color\":{\"value\":\"#718dbf\"},\"line_alpha\":{\"value\":0.1},\"line_color\":{\"value\":\"#718dbf\"},\"top\":{\"field\":\"sbert\"},\"width\":{\"value\":0.2},\"x\":{\"field\":\"botnames\",\"transform\":{\"id\":\"7640\"}}},\"id\":\"7643\",\"type\":\"VBar\"},{\"attributes\":{},\"id\":\"7634\",\"type\":\"CategoricalTickFormatter\"},{\"attributes\":{\"source\":{\"id\":\"7602\"}},\"id\":\"7646\",\"type\":\"CDSView\"},{\"attributes\":{\"fill_color\":{\"value\":\"#e84d60\"},\"hatch_color\":{\"value\":\"#e84d60\"},\"line_color\":{\"value\":\"#e84d60\"},\"top\":{\"field\":\"phobert\"},\"width\":{\"value\":0.2},\"x\":{\"field\":\"botnames\",\"transform\":{\"id\":\"7657\"}}},\"id\":\"7659\",\"type\":\"VBar\"},{\"attributes\":{\"coordinates\":null,\"group\":null,\"items\":[{\"id\":\"7639\"},{\"id\":\"7656\"},{\"id\":\"7673\"}],\"location\":\"top_center\"},\"id\":\"7638\",\"type\":\"Legend\"},{\"attributes\":{\"factors\":[\"sunlaw\",\"lamhaian\",\"giang.nguyen\",\"panasonic\",\"trung.quan\"],\"range_padding\":0.1},\"id\":\"7606\",\"type\":\"FactorRange\"},{\"attributes\":{\"source\":{\"id\":\"7602\"}},\"id\":\"7628\",\"type\":\"CDSView\"},{\"attributes\":{\"fill_alpha\":{\"value\":0.1},\"fill_color\":{\"value\":\"#e84d60\"},\"hatch_alpha\":{\"value\":0.1},\"hatch_color\":{\"value\":\"#e84d60\"},\"line_alpha\":{\"value\":0.1},\"line_color\":{\"value\":\"#e84d60\"},\"top\":{\"field\":\"phobert\"},\"width\":{\"value\":0.2},\"x\":{\"field\":\"botnames\",\"transform\":{\"id\":\"7657\"}}},\"id\":\"7660\",\"type\":\"VBar\"},{\"attributes\":{},\"id\":\"7618\",\"type\":\"BasicTicker\"},{\"attributes\":{\"fill_alpha\":{\"value\":0.1},\"fill_color\":{\"value\":\"#c9d9d3\"},\"hatch_alpha\":{\"value\":0.1},\"hatch_color\":{\"value\":\"#c9d9d3\"},\"line_alpha\":{\"value\":0.1},\"line_color\":{\"value\":\"#c9d9d3\"},\"top\":{\"field\":\"tfidf\"},\"width\":{\"value\":0.2},\"x\":{\"field\":\"botnames\",\"transform\":{\"id\":\"7622\"}}},\"id\":\"7625\",\"type\":\"VBar\"},{\"attributes\":{\"range\":{\"id\":\"7606\"}},\"id\":\"7640\",\"type\":\"Dodge\"},{\"attributes\":{\"label\":{\"value\":\"PhoBERT-base (No FT)\"},\"renderers\":[{\"id\":\"7662\"}]},\"id\":\"7673\",\"type\":\"LegendItem\"},{\"attributes\":{\"coordinates\":null,\"group\":null,\"text\":\"Models Benchmark (w/ diff vectorizer)\"},\"id\":\"7604\",\"type\":\"Title\"},{\"attributes\":{},\"id\":\"7632\",\"type\":\"AllLabels\"},{\"attributes\":{},\"id\":\"7608\",\"type\":\"Range1d\"}],\"root_ids\":[\"7603\"]},\"title\":\"Bokeh Application\",\"version\":\"2.4.3\"}};\n",
       "  const render_items = [{\"docid\":\"dce1c319-d273-4076-94a5-0ae47badeea4\",\"root_ids\":[\"7603\"],\"roots\":{\"7603\":\"0442f8dd-a093-4b8e-bafd-cbff54856ec3\"}}];\n",
       "  root.Bokeh.embed.embed_items_notebook(docs_json, render_items);\n",
       "  }\n",
       "  if (root.Bokeh !== undefined) {\n",
       "    embed_document(root);\n",
       "  } else {\n",
       "    let attempts = 0;\n",
       "    const timer = setInterval(function(root) {\n",
       "      if (root.Bokeh !== undefined) {\n",
       "        clearInterval(timer);\n",
       "        embed_document(root);\n",
       "      } else {\n",
       "        attempts++;\n",
       "        if (attempts > 100) {\n",
       "          clearInterval(timer);\n",
       "          console.log(\"Bokeh: ERROR: Unable to run BokehJS code because BokehJS library is missing\");\n",
       "        }\n",
       "      }\n",
       "    }, 10, root)\n",
       "  }\n",
       "})(window);"
      ],
      "application/vnd.bokehjs_exec.v0+json": ""
     },
     "metadata": {
      "application/vnd.bokehjs_exec.v0+json": {
       "id": "7603"
      }
     },
     "output_type": "display_data"
    }
   ],
   "source": [
    "# Ref: https://docs.bokeh.org/en/latest/docs/user_guide/categorical.html#visual-offset\n",
    "\n",
    "output_notebook()\n",
    "# output_file(\"./dodged_bars.html\")\n",
    "\n",
    "botnames = [botname for botname in botid.keys()]\n",
    "vis_tfidf = [f1_micro[botname][\"tfidf\"] for botname in botnames]\n",
    "vis_sbert = [f1_micro[botname][\"sbert\"] for botname in botnames]\n",
    "vis_phobert = [f1_micro[botname][\"phobert\"] for botname in botnames]\n",
    "\n",
    "vis_data = {\n",
    "    \"botnames\": botnames,\n",
    "    \"tfidf\": vis_tfidf,\n",
    "    \"sbert\": vis_sbert,\n",
    "    \"phobert\": vis_phobert\n",
    "}\n",
    "\n",
    "source = ColumnDataSource(data=vis_data)\n",
    "\n",
    "TITLE = \"Models Benchmark (w/ diff vectorizer)\"\n",
    "p = figure(x_range=botnames, y_range=(0, 1), height=500,\n",
    "           title=TITLE, toolbar_location=None, tools=\"\")\n",
    "\n",
    "p.vbar(x=dodge(\"botnames\", -0.25, range=p.x_range),\n",
    "       top=\"tfidf\", width=0.2, source=source,\n",
    "       color=\"#c9d9d3\", legend_label=\"TF-IDF (Baseline)\")\n",
    "\n",
    "p.vbar(x=dodge(\"botnames\", 0.0, range=p.x_range),\n",
    "       top=\"sbert\", width=0.2, source=source,\n",
    "       color=\"#718dbf\", legend_label=\"Vietnamese SBERT (No FT)\")\n",
    "\n",
    "p.vbar(x=dodge(\"botnames\", 0.25, range=p.x_range),\n",
    "       top=\"phobert\", width=0.2, source=source,\n",
    "       color=\"#e84d60\", legend_label=\"PhoBERT-base (No FT)\")\n",
    "\n",
    "p.x_range.range_padding = 0.1\n",
    "p.xgrid.grid_line_color = None\n",
    "p.yaxis.axis_label = \"f1 micro\"\n",
    "p.legend.orientation = \"vertical\"\n",
    "p.legend.location = \"top_center\"\n",
    "\n",
    "show(p)\n",
    "\n",
    "# p.background_fill_color = None\n",
    "# p.border_fill_color = None\n",
    "# export_png(p, filename=\"../imgs/emb_benchmark.png\")"
   ]
  },
  {
   "cell_type": "markdown",
   "id": "f645f9ac-0e40-4db7-a3b6-3bb54616272e",
   "metadata": {},
   "source": [
    "## Timing"
   ]
  },
  {
   "cell_type": "markdown",
   "id": "7b3a3fc5-0464-42af-b051-cec2d761d5ec",
   "metadata": {},
   "source": [
    "### Inference Time"
   ]
  },
  {
   "cell_type": "code",
   "execution_count": 266,
   "id": "2f56cc26-bda3-4fda-a9c7-12a71706869b",
   "metadata": {},
   "outputs": [
    {
     "data": {
      "application/vnd.jupyter.widget-view+json": {
       "model_id": "b889e572efe5479d9508b04d0cd897c8",
       "version_major": 2,
       "version_minor": 0
      },
      "text/plain": [
       "Batches:   0%|          | 0/13 [00:00<?, ?it/s]"
      ]
     },
     "metadata": {},
     "output_type": "display_data"
    }
   ],
   "source": [
    "botname = \"trung.quan\"\n",
    "for e in embedding_types:\n",
    "    models[botname][e].fit(X[botname], y[botname])"
   ]
  },
  {
   "cell_type": "code",
   "execution_count": 278,
   "id": "3c9287f6-400b-4932-b6b1-2459dc932780",
   "metadata": {
    "tags": []
   },
   "outputs": [],
   "source": [
    "sorted_infer_X = sorted(X[botname], key=lambda x: len(x))\n",
    "len_intervals = [5, 10, 15, 20]\n",
    "grouped_X = {str(i): [] for i in len_intervals}\n",
    "\n",
    "c = 0\n",
    "for i in len_intervals:\n",
    "    while c < len(sorted_infer_X):\n",
    "        text = sorted_infer_X[c]\n",
    "        text_len = len(text.split())\n",
    "        if text_len <= i:\n",
    "            grouped_X[str(i)].append(sorted_infer_X[c])\n",
    "            c += 1\n",
    "            continue\n",
    "        break"
   ]
  },
  {
   "cell_type": "code",
   "execution_count": 279,
   "id": "dcf15e77-bda2-4987-a966-fd1c644074d3",
   "metadata": {
    "collapsed": true,
    "jupyter": {
     "outputs_hidden": true
    },
    "tags": []
   },
   "outputs": [
    {
     "data": {
      "application/vnd.jupyter.widget-view+json": {
       "model_id": "6aecf5578ead4044bbd8637fd18c6e35",
       "version_major": 2,
       "version_minor": 0
      },
      "text/plain": [
       "Batches:   0%|          | 0/1 [00:00<?, ?it/s]"
      ]
     },
     "metadata": {},
     "output_type": "display_data"
    },
    {
     "data": {
      "application/vnd.jupyter.widget-view+json": {
       "model_id": "2b369b26628248668ccf05982ab74df0",
       "version_major": 2,
       "version_minor": 0
      },
      "text/plain": [
       "Batches:   0%|          | 0/1 [00:00<?, ?it/s]"
      ]
     },
     "metadata": {},
     "output_type": "display_data"
    },
    {
     "data": {
      "application/vnd.jupyter.widget-view+json": {
       "model_id": "7763ea7b5ae247b2936af6d57790d482",
       "version_major": 2,
       "version_minor": 0
      },
      "text/plain": [
       "Batches:   0%|          | 0/1 [00:00<?, ?it/s]"
      ]
     },
     "metadata": {},
     "output_type": "display_data"
    },
    {
     "data": {
      "application/vnd.jupyter.widget-view+json": {
       "model_id": "a018c2090dfa44e481da29c53f1f8478",
       "version_major": 2,
       "version_minor": 0
      },
      "text/plain": [
       "Batches:   0%|          | 0/1 [00:00<?, ?it/s]"
      ]
     },
     "metadata": {},
     "output_type": "display_data"
    },
    {
     "data": {
      "application/vnd.jupyter.widget-view+json": {
       "model_id": "e34108dd30f144d7873e1d2a3d78cab0",
       "version_major": 2,
       "version_minor": 0
      },
      "text/plain": [
       "Batches:   0%|          | 0/1 [00:00<?, ?it/s]"
      ]
     },
     "metadata": {},
     "output_type": "display_data"
    },
    {
     "data": {
      "application/vnd.jupyter.widget-view+json": {
       "model_id": "bab6ab98d39c494e97f0a8f29b5a0259",
       "version_major": 2,
       "version_minor": 0
      },
      "text/plain": [
       "Batches:   0%|          | 0/1 [00:00<?, ?it/s]"
      ]
     },
     "metadata": {},
     "output_type": "display_data"
    },
    {
     "data": {
      "application/vnd.jupyter.widget-view+json": {
       "model_id": "26e4a6d7174a4309843945b9cc319445",
       "version_major": 2,
       "version_minor": 0
      },
      "text/plain": [
       "Batches:   0%|          | 0/1 [00:00<?, ?it/s]"
      ]
     },
     "metadata": {},
     "output_type": "display_data"
    },
    {
     "data": {
      "application/vnd.jupyter.widget-view+json": {
       "model_id": "b08dccecfd384b08897cadfb7834b5f5",
       "version_major": 2,
       "version_minor": 0
      },
      "text/plain": [
       "Batches:   0%|          | 0/1 [00:00<?, ?it/s]"
      ]
     },
     "metadata": {},
     "output_type": "display_data"
    },
    {
     "data": {
      "application/vnd.jupyter.widget-view+json": {
       "model_id": "b7a8a1538e4f4a30a89a6ee85a556f69",
       "version_major": 2,
       "version_minor": 0
      },
      "text/plain": [
       "Batches:   0%|          | 0/1 [00:00<?, ?it/s]"
      ]
     },
     "metadata": {},
     "output_type": "display_data"
    },
    {
     "data": {
      "application/vnd.jupyter.widget-view+json": {
       "model_id": "f6a9edb969f74c0495b61a66be6680d8",
       "version_major": 2,
       "version_minor": 0
      },
      "text/plain": [
       "Batches:   0%|          | 0/1 [00:00<?, ?it/s]"
      ]
     },
     "metadata": {},
     "output_type": "display_data"
    },
    {
     "data": {
      "application/vnd.jupyter.widget-view+json": {
       "model_id": "7c87b385cd1b4f76bb8ee24cca0a6541",
       "version_major": 2,
       "version_minor": 0
      },
      "text/plain": [
       "Batches:   0%|          | 0/1 [00:00<?, ?it/s]"
      ]
     },
     "metadata": {},
     "output_type": "display_data"
    },
    {
     "data": {
      "application/vnd.jupyter.widget-view+json": {
       "model_id": "362e95d0704f40faa662e1bd4e88ba05",
       "version_major": 2,
       "version_minor": 0
      },
      "text/plain": [
       "Batches:   0%|          | 0/1 [00:00<?, ?it/s]"
      ]
     },
     "metadata": {},
     "output_type": "display_data"
    },
    {
     "data": {
      "application/vnd.jupyter.widget-view+json": {
       "model_id": "ac4b746a1c154296bc5fca9178646f95",
       "version_major": 2,
       "version_minor": 0
      },
      "text/plain": [
       "Batches:   0%|          | 0/1 [00:00<?, ?it/s]"
      ]
     },
     "metadata": {},
     "output_type": "display_data"
    },
    {
     "data": {
      "application/vnd.jupyter.widget-view+json": {
       "model_id": "f70fbe681bfd44ce8e957e5ca10c2cd4",
       "version_major": 2,
       "version_minor": 0
      },
      "text/plain": [
       "Batches:   0%|          | 0/1 [00:00<?, ?it/s]"
      ]
     },
     "metadata": {},
     "output_type": "display_data"
    },
    {
     "data": {
      "application/vnd.jupyter.widget-view+json": {
       "model_id": "7297691053b046918d7d1229d73ca58b",
       "version_major": 2,
       "version_minor": 0
      },
      "text/plain": [
       "Batches:   0%|          | 0/1 [00:00<?, ?it/s]"
      ]
     },
     "metadata": {},
     "output_type": "display_data"
    },
    {
     "data": {
      "application/vnd.jupyter.widget-view+json": {
       "model_id": "f824d393f6284e238e401fcbec137543",
       "version_major": 2,
       "version_minor": 0
      },
      "text/plain": [
       "Batches:   0%|          | 0/1 [00:00<?, ?it/s]"
      ]
     },
     "metadata": {},
     "output_type": "display_data"
    },
    {
     "data": {
      "application/vnd.jupyter.widget-view+json": {
       "model_id": "1488895492fd44d197f051ad967932e4",
       "version_major": 2,
       "version_minor": 0
      },
      "text/plain": [
       "Batches:   0%|          | 0/1 [00:00<?, ?it/s]"
      ]
     },
     "metadata": {},
     "output_type": "display_data"
    },
    {
     "data": {
      "application/vnd.jupyter.widget-view+json": {
       "model_id": "811567a32edb4ff6b58b3e6049ab306a",
       "version_major": 2,
       "version_minor": 0
      },
      "text/plain": [
       "Batches:   0%|          | 0/1 [00:00<?, ?it/s]"
      ]
     },
     "metadata": {},
     "output_type": "display_data"
    },
    {
     "data": {
      "application/vnd.jupyter.widget-view+json": {
       "model_id": "62813d80ae6d476c92486266cb1f2a94",
       "version_major": 2,
       "version_minor": 0
      },
      "text/plain": [
       "Batches:   0%|          | 0/1 [00:00<?, ?it/s]"
      ]
     },
     "metadata": {},
     "output_type": "display_data"
    },
    {
     "data": {
      "application/vnd.jupyter.widget-view+json": {
       "model_id": "6ef72c3e4bb0422688d56189712fd1ee",
       "version_major": 2,
       "version_minor": 0
      },
      "text/plain": [
       "Batches:   0%|          | 0/1 [00:00<?, ?it/s]"
      ]
     },
     "metadata": {},
     "output_type": "display_data"
    },
    {
     "data": {
      "application/vnd.jupyter.widget-view+json": {
       "model_id": "a15c14f571004f658e769d7819486c8f",
       "version_major": 2,
       "version_minor": 0
      },
      "text/plain": [
       "Batches:   0%|          | 0/1 [00:00<?, ?it/s]"
      ]
     },
     "metadata": {},
     "output_type": "display_data"
    },
    {
     "data": {
      "application/vnd.jupyter.widget-view+json": {
       "model_id": "3c3533be6ff943489d0bc5be4f586dc3",
       "version_major": 2,
       "version_minor": 0
      },
      "text/plain": [
       "Batches:   0%|          | 0/1 [00:00<?, ?it/s]"
      ]
     },
     "metadata": {},
     "output_type": "display_data"
    },
    {
     "data": {
      "application/vnd.jupyter.widget-view+json": {
       "model_id": "be6c72332a8d4326838da27ed0fc602e",
       "version_major": 2,
       "version_minor": 0
      },
      "text/plain": [
       "Batches:   0%|          | 0/1 [00:00<?, ?it/s]"
      ]
     },
     "metadata": {},
     "output_type": "display_data"
    },
    {
     "data": {
      "application/vnd.jupyter.widget-view+json": {
       "model_id": "9576a354853d4bc384f967c8c5c32407",
       "version_major": 2,
       "version_minor": 0
      },
      "text/plain": [
       "Batches:   0%|          | 0/1 [00:00<?, ?it/s]"
      ]
     },
     "metadata": {},
     "output_type": "display_data"
    },
    {
     "data": {
      "application/vnd.jupyter.widget-view+json": {
       "model_id": "b5ddcc3c90fb44968eb7e0be95a305ed",
       "version_major": 2,
       "version_minor": 0
      },
      "text/plain": [
       "Batches:   0%|          | 0/1 [00:00<?, ?it/s]"
      ]
     },
     "metadata": {},
     "output_type": "display_data"
    },
    {
     "data": {
      "application/vnd.jupyter.widget-view+json": {
       "model_id": "00b46d5e692c42259d33aa5180fa2014",
       "version_major": 2,
       "version_minor": 0
      },
      "text/plain": [
       "Batches:   0%|          | 0/1 [00:00<?, ?it/s]"
      ]
     },
     "metadata": {},
     "output_type": "display_data"
    },
    {
     "data": {
      "application/vnd.jupyter.widget-view+json": {
       "model_id": "494f04fa80b54773b685fd95296c4eb2",
       "version_major": 2,
       "version_minor": 0
      },
      "text/plain": [
       "Batches:   0%|          | 0/1 [00:00<?, ?it/s]"
      ]
     },
     "metadata": {},
     "output_type": "display_data"
    },
    {
     "data": {
      "application/vnd.jupyter.widget-view+json": {
       "model_id": "075194ef42164db281c9c4e86bc618ce",
       "version_major": 2,
       "version_minor": 0
      },
      "text/plain": [
       "Batches:   0%|          | 0/1 [00:00<?, ?it/s]"
      ]
     },
     "metadata": {},
     "output_type": "display_data"
    },
    {
     "data": {
      "application/vnd.jupyter.widget-view+json": {
       "model_id": "f7134bd902f7466da4c9294370ab4503",
       "version_major": 2,
       "version_minor": 0
      },
      "text/plain": [
       "Batches:   0%|          | 0/1 [00:00<?, ?it/s]"
      ]
     },
     "metadata": {},
     "output_type": "display_data"
    },
    {
     "data": {
      "application/vnd.jupyter.widget-view+json": {
       "model_id": "6e77236c90ef42a5bf1799f45235cb72",
       "version_major": 2,
       "version_minor": 0
      },
      "text/plain": [
       "Batches:   0%|          | 0/1 [00:00<?, ?it/s]"
      ]
     },
     "metadata": {},
     "output_type": "display_data"
    },
    {
     "data": {
      "application/vnd.jupyter.widget-view+json": {
       "model_id": "07c466407c244bab85718d860cfc17a0",
       "version_major": 2,
       "version_minor": 0
      },
      "text/plain": [
       "Batches:   0%|          | 0/1 [00:00<?, ?it/s]"
      ]
     },
     "metadata": {},
     "output_type": "display_data"
    },
    {
     "data": {
      "application/vnd.jupyter.widget-view+json": {
       "model_id": "aab4c1a892214f6696ad7ab14ea1c8fc",
       "version_major": 2,
       "version_minor": 0
      },
      "text/plain": [
       "Batches:   0%|          | 0/1 [00:00<?, ?it/s]"
      ]
     },
     "metadata": {},
     "output_type": "display_data"
    },
    {
     "data": {
      "application/vnd.jupyter.widget-view+json": {
       "model_id": "b0e3d70a15f146c0b9b0052a660ba5a8",
       "version_major": 2,
       "version_minor": 0
      },
      "text/plain": [
       "Batches:   0%|          | 0/1 [00:00<?, ?it/s]"
      ]
     },
     "metadata": {},
     "output_type": "display_data"
    },
    {
     "data": {
      "application/vnd.jupyter.widget-view+json": {
       "model_id": "ff4cef6cc7094ffa9eaca1b5e1c6983a",
       "version_major": 2,
       "version_minor": 0
      },
      "text/plain": [
       "Batches:   0%|          | 0/1 [00:00<?, ?it/s]"
      ]
     },
     "metadata": {},
     "output_type": "display_data"
    },
    {
     "data": {
      "application/vnd.jupyter.widget-view+json": {
       "model_id": "f033a8dd54b34ee8801234aa37f698f7",
       "version_major": 2,
       "version_minor": 0
      },
      "text/plain": [
       "Batches:   0%|          | 0/1 [00:00<?, ?it/s]"
      ]
     },
     "metadata": {},
     "output_type": "display_data"
    },
    {
     "data": {
      "application/vnd.jupyter.widget-view+json": {
       "model_id": "1e5258d6c36f4554a512e784cceb8e38",
       "version_major": 2,
       "version_minor": 0
      },
      "text/plain": [
       "Batches:   0%|          | 0/1 [00:00<?, ?it/s]"
      ]
     },
     "metadata": {},
     "output_type": "display_data"
    },
    {
     "data": {
      "application/vnd.jupyter.widget-view+json": {
       "model_id": "55fd1bee6e194252b733212c79831115",
       "version_major": 2,
       "version_minor": 0
      },
      "text/plain": [
       "Batches:   0%|          | 0/1 [00:00<?, ?it/s]"
      ]
     },
     "metadata": {},
     "output_type": "display_data"
    },
    {
     "data": {
      "application/vnd.jupyter.widget-view+json": {
       "model_id": "72d6f6d6dfea4291b05f1d4bef67b3c7",
       "version_major": 2,
       "version_minor": 0
      },
      "text/plain": [
       "Batches:   0%|          | 0/1 [00:00<?, ?it/s]"
      ]
     },
     "metadata": {},
     "output_type": "display_data"
    },
    {
     "data": {
      "application/vnd.jupyter.widget-view+json": {
       "model_id": "33b2f7046210452fbeccf27a28fac9e3",
       "version_major": 2,
       "version_minor": 0
      },
      "text/plain": [
       "Batches:   0%|          | 0/1 [00:00<?, ?it/s]"
      ]
     },
     "metadata": {},
     "output_type": "display_data"
    },
    {
     "data": {
      "application/vnd.jupyter.widget-view+json": {
       "model_id": "819b8a4fdec14e8cb96dd5b9016c5767",
       "version_major": 2,
       "version_minor": 0
      },
      "text/plain": [
       "Batches:   0%|          | 0/1 [00:00<?, ?it/s]"
      ]
     },
     "metadata": {},
     "output_type": "display_data"
    },
    {
     "data": {
      "application/vnd.jupyter.widget-view+json": {
       "model_id": "4006d44ae1ed4a2dbd7df4d9205fba7e",
       "version_major": 2,
       "version_minor": 0
      },
      "text/plain": [
       "Batches:   0%|          | 0/1 [00:00<?, ?it/s]"
      ]
     },
     "metadata": {},
     "output_type": "display_data"
    },
    {
     "data": {
      "application/vnd.jupyter.widget-view+json": {
       "model_id": "0b8f928610b046caba8fb2d991b14bef",
       "version_major": 2,
       "version_minor": 0
      },
      "text/plain": [
       "Batches:   0%|          | 0/1 [00:00<?, ?it/s]"
      ]
     },
     "metadata": {},
     "output_type": "display_data"
    },
    {
     "data": {
      "application/vnd.jupyter.widget-view+json": {
       "model_id": "80efdfaea9ff49078b439e61ed6254d3",
       "version_major": 2,
       "version_minor": 0
      },
      "text/plain": [
       "Batches:   0%|          | 0/1 [00:00<?, ?it/s]"
      ]
     },
     "metadata": {},
     "output_type": "display_data"
    },
    {
     "data": {
      "application/vnd.jupyter.widget-view+json": {
       "model_id": "3c02917f07b14fd7b9e41da9abba8a62",
       "version_major": 2,
       "version_minor": 0
      },
      "text/plain": [
       "Batches:   0%|          | 0/1 [00:00<?, ?it/s]"
      ]
     },
     "metadata": {},
     "output_type": "display_data"
    },
    {
     "data": {
      "application/vnd.jupyter.widget-view+json": {
       "model_id": "bc39c47b9d3e4d8e85580266835497ec",
       "version_major": 2,
       "version_minor": 0
      },
      "text/plain": [
       "Batches:   0%|          | 0/1 [00:00<?, ?it/s]"
      ]
     },
     "metadata": {},
     "output_type": "display_data"
    },
    {
     "data": {
      "application/vnd.jupyter.widget-view+json": {
       "model_id": "d5e7ff36fb53471586717af7dcc0d9b8",
       "version_major": 2,
       "version_minor": 0
      },
      "text/plain": [
       "Batches:   0%|          | 0/1 [00:00<?, ?it/s]"
      ]
     },
     "metadata": {},
     "output_type": "display_data"
    },
    {
     "data": {
      "application/vnd.jupyter.widget-view+json": {
       "model_id": "36b5f9d9ce0449df83e812f343804a6b",
       "version_major": 2,
       "version_minor": 0
      },
      "text/plain": [
       "Batches:   0%|          | 0/1 [00:00<?, ?it/s]"
      ]
     },
     "metadata": {},
     "output_type": "display_data"
    },
    {
     "data": {
      "application/vnd.jupyter.widget-view+json": {
       "model_id": "460bcc783659473c94da03be54c0defc",
       "version_major": 2,
       "version_minor": 0
      },
      "text/plain": [
       "Batches:   0%|          | 0/1 [00:00<?, ?it/s]"
      ]
     },
     "metadata": {},
     "output_type": "display_data"
    },
    {
     "data": {
      "application/vnd.jupyter.widget-view+json": {
       "model_id": "244218b5d03542c4ba565287d201e8e2",
       "version_major": 2,
       "version_minor": 0
      },
      "text/plain": [
       "Batches:   0%|          | 0/1 [00:00<?, ?it/s]"
      ]
     },
     "metadata": {},
     "output_type": "display_data"
    },
    {
     "data": {
      "application/vnd.jupyter.widget-view+json": {
       "model_id": "838c00931eba4855a232710ea27a6c3e",
       "version_major": 2,
       "version_minor": 0
      },
      "text/plain": [
       "Batches:   0%|          | 0/1 [00:00<?, ?it/s]"
      ]
     },
     "metadata": {},
     "output_type": "display_data"
    },
    {
     "data": {
      "application/vnd.jupyter.widget-view+json": {
       "model_id": "c5a7b113385241d0a63f58d4f374f12b",
       "version_major": 2,
       "version_minor": 0
      },
      "text/plain": [
       "Batches:   0%|          | 0/1 [00:00<?, ?it/s]"
      ]
     },
     "metadata": {},
     "output_type": "display_data"
    },
    {
     "data": {
      "application/vnd.jupyter.widget-view+json": {
       "model_id": "07abf46b17f74cd0a96147b992075b94",
       "version_major": 2,
       "version_minor": 0
      },
      "text/plain": [
       "Batches:   0%|          | 0/1 [00:00<?, ?it/s]"
      ]
     },
     "metadata": {},
     "output_type": "display_data"
    },
    {
     "data": {
      "application/vnd.jupyter.widget-view+json": {
       "model_id": "acab04624ed34eaba8f2a7e1402e53e0",
       "version_major": 2,
       "version_minor": 0
      },
      "text/plain": [
       "Batches:   0%|          | 0/1 [00:00<?, ?it/s]"
      ]
     },
     "metadata": {},
     "output_type": "display_data"
    },
    {
     "data": {
      "application/vnd.jupyter.widget-view+json": {
       "model_id": "58dd293e41a743459dc213953f1cf2b8",
       "version_major": 2,
       "version_minor": 0
      },
      "text/plain": [
       "Batches:   0%|          | 0/1 [00:00<?, ?it/s]"
      ]
     },
     "metadata": {},
     "output_type": "display_data"
    },
    {
     "data": {
      "application/vnd.jupyter.widget-view+json": {
       "model_id": "da63a71233ba48aba4f8516bcf74f018",
       "version_major": 2,
       "version_minor": 0
      },
      "text/plain": [
       "Batches:   0%|          | 0/1 [00:00<?, ?it/s]"
      ]
     },
     "metadata": {},
     "output_type": "display_data"
    },
    {
     "data": {
      "application/vnd.jupyter.widget-view+json": {
       "model_id": "ad2018e134e54645974a50d4ed50dd70",
       "version_major": 2,
       "version_minor": 0
      },
      "text/plain": [
       "Batches:   0%|          | 0/1 [00:00<?, ?it/s]"
      ]
     },
     "metadata": {},
     "output_type": "display_data"
    },
    {
     "data": {
      "application/vnd.jupyter.widget-view+json": {
       "model_id": "2ba6f821b1234b5785c60950ddbdf039",
       "version_major": 2,
       "version_minor": 0
      },
      "text/plain": [
       "Batches:   0%|          | 0/1 [00:00<?, ?it/s]"
      ]
     },
     "metadata": {},
     "output_type": "display_data"
    },
    {
     "data": {
      "application/vnd.jupyter.widget-view+json": {
       "model_id": "9c3efe8178b1434682d4e0e5104260a6",
       "version_major": 2,
       "version_minor": 0
      },
      "text/plain": [
       "Batches:   0%|          | 0/1 [00:00<?, ?it/s]"
      ]
     },
     "metadata": {},
     "output_type": "display_data"
    },
    {
     "data": {
      "application/vnd.jupyter.widget-view+json": {
       "model_id": "31f34d9cfb9449f3875ddec5ef731664",
       "version_major": 2,
       "version_minor": 0
      },
      "text/plain": [
       "Batches:   0%|          | 0/1 [00:00<?, ?it/s]"
      ]
     },
     "metadata": {},
     "output_type": "display_data"
    },
    {
     "data": {
      "application/vnd.jupyter.widget-view+json": {
       "model_id": "ffb915175d8b4433993eedb57d11a4eb",
       "version_major": 2,
       "version_minor": 0
      },
      "text/plain": [
       "Batches:   0%|          | 0/1 [00:00<?, ?it/s]"
      ]
     },
     "metadata": {},
     "output_type": "display_data"
    },
    {
     "data": {
      "application/vnd.jupyter.widget-view+json": {
       "model_id": "48450ae967a446e588b8ffbd9ee4d2e1",
       "version_major": 2,
       "version_minor": 0
      },
      "text/plain": [
       "Batches:   0%|          | 0/1 [00:00<?, ?it/s]"
      ]
     },
     "metadata": {},
     "output_type": "display_data"
    },
    {
     "data": {
      "application/vnd.jupyter.widget-view+json": {
       "model_id": "2ccbc9fa426740bdb32c58c345902c11",
       "version_major": 2,
       "version_minor": 0
      },
      "text/plain": [
       "Batches:   0%|          | 0/1 [00:00<?, ?it/s]"
      ]
     },
     "metadata": {},
     "output_type": "display_data"
    },
    {
     "data": {
      "application/vnd.jupyter.widget-view+json": {
       "model_id": "ad80a89d46da408d82bf519ecdcf4144",
       "version_major": 2,
       "version_minor": 0
      },
      "text/plain": [
       "Batches:   0%|          | 0/1 [00:00<?, ?it/s]"
      ]
     },
     "metadata": {},
     "output_type": "display_data"
    },
    {
     "data": {
      "application/vnd.jupyter.widget-view+json": {
       "model_id": "2ccb8b3c635444c083d8d46efe4e13c3",
       "version_major": 2,
       "version_minor": 0
      },
      "text/plain": [
       "Batches:   0%|          | 0/1 [00:00<?, ?it/s]"
      ]
     },
     "metadata": {},
     "output_type": "display_data"
    },
    {
     "data": {
      "application/vnd.jupyter.widget-view+json": {
       "model_id": "7bff98a83ffa48fcb0f85b4f21b464fe",
       "version_major": 2,
       "version_minor": 0
      },
      "text/plain": [
       "Batches:   0%|          | 0/1 [00:00<?, ?it/s]"
      ]
     },
     "metadata": {},
     "output_type": "display_data"
    },
    {
     "data": {
      "application/vnd.jupyter.widget-view+json": {
       "model_id": "4ce8bc670ec04f3cbc41a9fd02336516",
       "version_major": 2,
       "version_minor": 0
      },
      "text/plain": [
       "Batches:   0%|          | 0/1 [00:00<?, ?it/s]"
      ]
     },
     "metadata": {},
     "output_type": "display_data"
    },
    {
     "data": {
      "application/vnd.jupyter.widget-view+json": {
       "model_id": "d9781add7b164f86be1da99b82dbc64e",
       "version_major": 2,
       "version_minor": 0
      },
      "text/plain": [
       "Batches:   0%|          | 0/1 [00:00<?, ?it/s]"
      ]
     },
     "metadata": {},
     "output_type": "display_data"
    },
    {
     "data": {
      "application/vnd.jupyter.widget-view+json": {
       "model_id": "07e4cebcf40c4fdea5e952b07435e782",
       "version_major": 2,
       "version_minor": 0
      },
      "text/plain": [
       "Batches:   0%|          | 0/1 [00:00<?, ?it/s]"
      ]
     },
     "metadata": {},
     "output_type": "display_data"
    },
    {
     "data": {
      "application/vnd.jupyter.widget-view+json": {
       "model_id": "1066ba5d0bc449c6bc019b56330b007e",
       "version_major": 2,
       "version_minor": 0
      },
      "text/plain": [
       "Batches:   0%|          | 0/1 [00:00<?, ?it/s]"
      ]
     },
     "metadata": {},
     "output_type": "display_data"
    },
    {
     "data": {
      "application/vnd.jupyter.widget-view+json": {
       "model_id": "a37b554f084d4696a865bf50a999f1a7",
       "version_major": 2,
       "version_minor": 0
      },
      "text/plain": [
       "Batches:   0%|          | 0/1 [00:00<?, ?it/s]"
      ]
     },
     "metadata": {},
     "output_type": "display_data"
    },
    {
     "data": {
      "application/vnd.jupyter.widget-view+json": {
       "model_id": "9317d184ac6242198f17b3e2ce23fabe",
       "version_major": 2,
       "version_minor": 0
      },
      "text/plain": [
       "Batches:   0%|          | 0/1 [00:00<?, ?it/s]"
      ]
     },
     "metadata": {},
     "output_type": "display_data"
    },
    {
     "data": {
      "application/vnd.jupyter.widget-view+json": {
       "model_id": "8600d6c81881437bbdfec310cf89abe9",
       "version_major": 2,
       "version_minor": 0
      },
      "text/plain": [
       "Batches:   0%|          | 0/1 [00:00<?, ?it/s]"
      ]
     },
     "metadata": {},
     "output_type": "display_data"
    },
    {
     "data": {
      "application/vnd.jupyter.widget-view+json": {
       "model_id": "561dbc1069f94afb875aeb11ad0e6c30",
       "version_major": 2,
       "version_minor": 0
      },
      "text/plain": [
       "Batches:   0%|          | 0/1 [00:00<?, ?it/s]"
      ]
     },
     "metadata": {},
     "output_type": "display_data"
    },
    {
     "data": {
      "application/vnd.jupyter.widget-view+json": {
       "model_id": "5a43560d05df4bd98e8e6ec6556d2daa",
       "version_major": 2,
       "version_minor": 0
      },
      "text/plain": [
       "Batches:   0%|          | 0/1 [00:00<?, ?it/s]"
      ]
     },
     "metadata": {},
     "output_type": "display_data"
    },
    {
     "data": {
      "application/vnd.jupyter.widget-view+json": {
       "model_id": "2952195d0f4e4397b966f58bcfedc1e9",
       "version_major": 2,
       "version_minor": 0
      },
      "text/plain": [
       "Batches:   0%|          | 0/1 [00:00<?, ?it/s]"
      ]
     },
     "metadata": {},
     "output_type": "display_data"
    },
    {
     "data": {
      "application/vnd.jupyter.widget-view+json": {
       "model_id": "fb5261f276af40028e5e684d759e3811",
       "version_major": 2,
       "version_minor": 0
      },
      "text/plain": [
       "Batches:   0%|          | 0/1 [00:00<?, ?it/s]"
      ]
     },
     "metadata": {},
     "output_type": "display_data"
    },
    {
     "data": {
      "application/vnd.jupyter.widget-view+json": {
       "model_id": "1f8acde853d24cc886559bf4b485991e",
       "version_major": 2,
       "version_minor": 0
      },
      "text/plain": [
       "Batches:   0%|          | 0/1 [00:00<?, ?it/s]"
      ]
     },
     "metadata": {},
     "output_type": "display_data"
    },
    {
     "data": {
      "application/vnd.jupyter.widget-view+json": {
       "model_id": "7bac2236fa0c4ec8a551adbfe008dc8e",
       "version_major": 2,
       "version_minor": 0
      },
      "text/plain": [
       "Batches:   0%|          | 0/1 [00:00<?, ?it/s]"
      ]
     },
     "metadata": {},
     "output_type": "display_data"
    },
    {
     "data": {
      "application/vnd.jupyter.widget-view+json": {
       "model_id": "850d3dc5ac3b43f5a871cc21d365af04",
       "version_major": 2,
       "version_minor": 0
      },
      "text/plain": [
       "Batches:   0%|          | 0/1 [00:00<?, ?it/s]"
      ]
     },
     "metadata": {},
     "output_type": "display_data"
    },
    {
     "data": {
      "application/vnd.jupyter.widget-view+json": {
       "model_id": "c14ec3207f354cc49045922c0d145f2b",
       "version_major": 2,
       "version_minor": 0
      },
      "text/plain": [
       "Batches:   0%|          | 0/1 [00:00<?, ?it/s]"
      ]
     },
     "metadata": {},
     "output_type": "display_data"
    },
    {
     "data": {
      "application/vnd.jupyter.widget-view+json": {
       "model_id": "68e0911368e04d57a45b6b4a39ea4923",
       "version_major": 2,
       "version_minor": 0
      },
      "text/plain": [
       "Batches:   0%|          | 0/1 [00:00<?, ?it/s]"
      ]
     },
     "metadata": {},
     "output_type": "display_data"
    },
    {
     "data": {
      "application/vnd.jupyter.widget-view+json": {
       "model_id": "2679fd2dce0e43c599a5f90c845f5add",
       "version_major": 2,
       "version_minor": 0
      },
      "text/plain": [
       "Batches:   0%|          | 0/1 [00:00<?, ?it/s]"
      ]
     },
     "metadata": {},
     "output_type": "display_data"
    },
    {
     "data": {
      "application/vnd.jupyter.widget-view+json": {
       "model_id": "7a369cf158df483a9edc2707dac9721e",
       "version_major": 2,
       "version_minor": 0
      },
      "text/plain": [
       "Batches:   0%|          | 0/1 [00:00<?, ?it/s]"
      ]
     },
     "metadata": {},
     "output_type": "display_data"
    },
    {
     "data": {
      "application/vnd.jupyter.widget-view+json": {
       "model_id": "2754c9fa63694b0ba58614839f177cff",
       "version_major": 2,
       "version_minor": 0
      },
      "text/plain": [
       "Batches:   0%|          | 0/1 [00:00<?, ?it/s]"
      ]
     },
     "metadata": {},
     "output_type": "display_data"
    },
    {
     "data": {
      "application/vnd.jupyter.widget-view+json": {
       "model_id": "3b008f23d06946cf93031011ad9e26cd",
       "version_major": 2,
       "version_minor": 0
      },
      "text/plain": [
       "Batches:   0%|          | 0/1 [00:00<?, ?it/s]"
      ]
     },
     "metadata": {},
     "output_type": "display_data"
    },
    {
     "data": {
      "application/vnd.jupyter.widget-view+json": {
       "model_id": "52bef7790f704959aa88d1dd53342529",
       "version_major": 2,
       "version_minor": 0
      },
      "text/plain": [
       "Batches:   0%|          | 0/1 [00:00<?, ?it/s]"
      ]
     },
     "metadata": {},
     "output_type": "display_data"
    },
    {
     "data": {
      "application/vnd.jupyter.widget-view+json": {
       "model_id": "4461dd31562b4bd1984cf943cdbec350",
       "version_major": 2,
       "version_minor": 0
      },
      "text/plain": [
       "Batches:   0%|          | 0/1 [00:00<?, ?it/s]"
      ]
     },
     "metadata": {},
     "output_type": "display_data"
    },
    {
     "data": {
      "application/vnd.jupyter.widget-view+json": {
       "model_id": "4d0e003ea32d48429153369caca7ebcd",
       "version_major": 2,
       "version_minor": 0
      },
      "text/plain": [
       "Batches:   0%|          | 0/1 [00:00<?, ?it/s]"
      ]
     },
     "metadata": {},
     "output_type": "display_data"
    },
    {
     "data": {
      "application/vnd.jupyter.widget-view+json": {
       "model_id": "cc6fffe9998b4ba3aab462cb80bf94d3",
       "version_major": 2,
       "version_minor": 0
      },
      "text/plain": [
       "Batches:   0%|          | 0/1 [00:00<?, ?it/s]"
      ]
     },
     "metadata": {},
     "output_type": "display_data"
    },
    {
     "data": {
      "application/vnd.jupyter.widget-view+json": {
       "model_id": "e5770457c83249fd9a8e8f7ceb13db44",
       "version_major": 2,
       "version_minor": 0
      },
      "text/plain": [
       "Batches:   0%|          | 0/1 [00:00<?, ?it/s]"
      ]
     },
     "metadata": {},
     "output_type": "display_data"
    },
    {
     "data": {
      "application/vnd.jupyter.widget-view+json": {
       "model_id": "4fa8e16efd3a41ae935f260c830d7e9e",
       "version_major": 2,
       "version_minor": 0
      },
      "text/plain": [
       "Batches:   0%|          | 0/1 [00:00<?, ?it/s]"
      ]
     },
     "metadata": {},
     "output_type": "display_data"
    },
    {
     "data": {
      "application/vnd.jupyter.widget-view+json": {
       "model_id": "512af1e2075e41fc80bf2da95ef34463",
       "version_major": 2,
       "version_minor": 0
      },
      "text/plain": [
       "Batches:   0%|          | 0/1 [00:00<?, ?it/s]"
      ]
     },
     "metadata": {},
     "output_type": "display_data"
    },
    {
     "data": {
      "application/vnd.jupyter.widget-view+json": {
       "model_id": "e71c5e205702406f9711b2bac4e7b47a",
       "version_major": 2,
       "version_minor": 0
      },
      "text/plain": [
       "Batches:   0%|          | 0/1 [00:00<?, ?it/s]"
      ]
     },
     "metadata": {},
     "output_type": "display_data"
    },
    {
     "data": {
      "application/vnd.jupyter.widget-view+json": {
       "model_id": "10d9eb531db84c1892fae02b7f120725",
       "version_major": 2,
       "version_minor": 0
      },
      "text/plain": [
       "Batches:   0%|          | 0/1 [00:00<?, ?it/s]"
      ]
     },
     "metadata": {},
     "output_type": "display_data"
    },
    {
     "data": {
      "application/vnd.jupyter.widget-view+json": {
       "model_id": "135c609f24de47de88e2a9904cbf2025",
       "version_major": 2,
       "version_minor": 0
      },
      "text/plain": [
       "Batches:   0%|          | 0/1 [00:00<?, ?it/s]"
      ]
     },
     "metadata": {},
     "output_type": "display_data"
    },
    {
     "data": {
      "application/vnd.jupyter.widget-view+json": {
       "model_id": "410bf50a8c974c21b36d6d656a6c12f7",
       "version_major": 2,
       "version_minor": 0
      },
      "text/plain": [
       "Batches:   0%|          | 0/1 [00:00<?, ?it/s]"
      ]
     },
     "metadata": {},
     "output_type": "display_data"
    },
    {
     "data": {
      "application/vnd.jupyter.widget-view+json": {
       "model_id": "ffac6a2de0c043f2b5ecc8f8eca47a5d",
       "version_major": 2,
       "version_minor": 0
      },
      "text/plain": [
       "Batches:   0%|          | 0/1 [00:00<?, ?it/s]"
      ]
     },
     "metadata": {},
     "output_type": "display_data"
    },
    {
     "data": {
      "application/vnd.jupyter.widget-view+json": {
       "model_id": "d164363bdd784cde809b1d7448c4be9e",
       "version_major": 2,
       "version_minor": 0
      },
      "text/plain": [
       "Batches:   0%|          | 0/1 [00:00<?, ?it/s]"
      ]
     },
     "metadata": {},
     "output_type": "display_data"
    },
    {
     "data": {
      "application/vnd.jupyter.widget-view+json": {
       "model_id": "77bfad5d12084a84ac4b8386bd9a4a0c",
       "version_major": 2,
       "version_minor": 0
      },
      "text/plain": [
       "Batches:   0%|          | 0/1 [00:00<?, ?it/s]"
      ]
     },
     "metadata": {},
     "output_type": "display_data"
    },
    {
     "data": {
      "application/vnd.jupyter.widget-view+json": {
       "model_id": "e29d0c0b27a64721b8790751d514e149",
       "version_major": 2,
       "version_minor": 0
      },
      "text/plain": [
       "Batches:   0%|          | 0/1 [00:00<?, ?it/s]"
      ]
     },
     "metadata": {},
     "output_type": "display_data"
    },
    {
     "data": {
      "application/vnd.jupyter.widget-view+json": {
       "model_id": "c82b79d85da14128a0e31222e9eedc78",
       "version_major": 2,
       "version_minor": 0
      },
      "text/plain": [
       "Batches:   0%|          | 0/1 [00:00<?, ?it/s]"
      ]
     },
     "metadata": {},
     "output_type": "display_data"
    },
    {
     "data": {
      "application/vnd.jupyter.widget-view+json": {
       "model_id": "c0057a968ddf47f9afec0111edf08957",
       "version_major": 2,
       "version_minor": 0
      },
      "text/plain": [
       "Batches:   0%|          | 0/1 [00:00<?, ?it/s]"
      ]
     },
     "metadata": {},
     "output_type": "display_data"
    },
    {
     "data": {
      "application/vnd.jupyter.widget-view+json": {
       "model_id": "c4a2612ece0542cbbf607258ae6d565f",
       "version_major": 2,
       "version_minor": 0
      },
      "text/plain": [
       "Batches:   0%|          | 0/1 [00:00<?, ?it/s]"
      ]
     },
     "metadata": {},
     "output_type": "display_data"
    },
    {
     "data": {
      "application/vnd.jupyter.widget-view+json": {
       "model_id": "d186afe6c9124130b135b828741343ad",
       "version_major": 2,
       "version_minor": 0
      },
      "text/plain": [
       "Batches:   0%|          | 0/1 [00:00<?, ?it/s]"
      ]
     },
     "metadata": {},
     "output_type": "display_data"
    },
    {
     "data": {
      "application/vnd.jupyter.widget-view+json": {
       "model_id": "20a1d261bc0e44b785c5db6470f218e0",
       "version_major": 2,
       "version_minor": 0
      },
      "text/plain": [
       "Batches:   0%|          | 0/1 [00:00<?, ?it/s]"
      ]
     },
     "metadata": {},
     "output_type": "display_data"
    },
    {
     "data": {
      "application/vnd.jupyter.widget-view+json": {
       "model_id": "80af8d7357664a9c86ba1b8786b134d5",
       "version_major": 2,
       "version_minor": 0
      },
      "text/plain": [
       "Batches:   0%|          | 0/1 [00:00<?, ?it/s]"
      ]
     },
     "metadata": {},
     "output_type": "display_data"
    },
    {
     "data": {
      "application/vnd.jupyter.widget-view+json": {
       "model_id": "3c39e6695c054767abe184a7527c1663",
       "version_major": 2,
       "version_minor": 0
      },
      "text/plain": [
       "Batches:   0%|          | 0/1 [00:00<?, ?it/s]"
      ]
     },
     "metadata": {},
     "output_type": "display_data"
    },
    {
     "data": {
      "application/vnd.jupyter.widget-view+json": {
       "model_id": "1f2ceb2caf6d44a9803e14cca38e8b09",
       "version_major": 2,
       "version_minor": 0
      },
      "text/plain": [
       "Batches:   0%|          | 0/1 [00:00<?, ?it/s]"
      ]
     },
     "metadata": {},
     "output_type": "display_data"
    },
    {
     "data": {
      "application/vnd.jupyter.widget-view+json": {
       "model_id": "e27d93c74be64399911e9302a5d7493a",
       "version_major": 2,
       "version_minor": 0
      },
      "text/plain": [
       "Batches:   0%|          | 0/1 [00:00<?, ?it/s]"
      ]
     },
     "metadata": {},
     "output_type": "display_data"
    },
    {
     "data": {
      "application/vnd.jupyter.widget-view+json": {
       "model_id": "17737fdad6254e5e89d4b415ec9231b5",
       "version_major": 2,
       "version_minor": 0
      },
      "text/plain": [
       "Batches:   0%|          | 0/1 [00:00<?, ?it/s]"
      ]
     },
     "metadata": {},
     "output_type": "display_data"
    },
    {
     "data": {
      "application/vnd.jupyter.widget-view+json": {
       "model_id": "1c143afcb6834354a4421287d7ba50b2",
       "version_major": 2,
       "version_minor": 0
      },
      "text/plain": [
       "Batches:   0%|          | 0/1 [00:00<?, ?it/s]"
      ]
     },
     "metadata": {},
     "output_type": "display_data"
    },
    {
     "data": {
      "application/vnd.jupyter.widget-view+json": {
       "model_id": "fb1b966b71354749afeb408d0414f658",
       "version_major": 2,
       "version_minor": 0
      },
      "text/plain": [
       "Batches:   0%|          | 0/1 [00:00<?, ?it/s]"
      ]
     },
     "metadata": {},
     "output_type": "display_data"
    },
    {
     "data": {
      "application/vnd.jupyter.widget-view+json": {
       "model_id": "d67c5da162444252879cb83c45c50290",
       "version_major": 2,
       "version_minor": 0
      },
      "text/plain": [
       "Batches:   0%|          | 0/1 [00:00<?, ?it/s]"
      ]
     },
     "metadata": {},
     "output_type": "display_data"
    },
    {
     "data": {
      "application/vnd.jupyter.widget-view+json": {
       "model_id": "ca23079ae278454dbafa725c6c13efb0",
       "version_major": 2,
       "version_minor": 0
      },
      "text/plain": [
       "Batches:   0%|          | 0/1 [00:00<?, ?it/s]"
      ]
     },
     "metadata": {},
     "output_type": "display_data"
    },
    {
     "data": {
      "application/vnd.jupyter.widget-view+json": {
       "model_id": "c0a8de5bf70049b1bb3622e315fbe9a9",
       "version_major": 2,
       "version_minor": 0
      },
      "text/plain": [
       "Batches:   0%|          | 0/1 [00:00<?, ?it/s]"
      ]
     },
     "metadata": {},
     "output_type": "display_data"
    },
    {
     "data": {
      "application/vnd.jupyter.widget-view+json": {
       "model_id": "be5647243024465c9cc6b155152f6d07",
       "version_major": 2,
       "version_minor": 0
      },
      "text/plain": [
       "Batches:   0%|          | 0/1 [00:00<?, ?it/s]"
      ]
     },
     "metadata": {},
     "output_type": "display_data"
    },
    {
     "data": {
      "application/vnd.jupyter.widget-view+json": {
       "model_id": "5844ca16991545acbfc310d04d774834",
       "version_major": 2,
       "version_minor": 0
      },
      "text/plain": [
       "Batches:   0%|          | 0/1 [00:00<?, ?it/s]"
      ]
     },
     "metadata": {},
     "output_type": "display_data"
    },
    {
     "data": {
      "application/vnd.jupyter.widget-view+json": {
       "model_id": "0daafee216cb42dba7c9f46c255d5b9e",
       "version_major": 2,
       "version_minor": 0
      },
      "text/plain": [
       "Batches:   0%|          | 0/1 [00:00<?, ?it/s]"
      ]
     },
     "metadata": {},
     "output_type": "display_data"
    },
    {
     "data": {
      "application/vnd.jupyter.widget-view+json": {
       "model_id": "35f63945005c43e2948378a9b12021df",
       "version_major": 2,
       "version_minor": 0
      },
      "text/plain": [
       "Batches:   0%|          | 0/1 [00:00<?, ?it/s]"
      ]
     },
     "metadata": {},
     "output_type": "display_data"
    },
    {
     "data": {
      "application/vnd.jupyter.widget-view+json": {
       "model_id": "23d128c0758f4198a99e04acdb84ee04",
       "version_major": 2,
       "version_minor": 0
      },
      "text/plain": [
       "Batches:   0%|          | 0/1 [00:00<?, ?it/s]"
      ]
     },
     "metadata": {},
     "output_type": "display_data"
    },
    {
     "data": {
      "application/vnd.jupyter.widget-view+json": {
       "model_id": "83c389b3959842eda1df1b3848375018",
       "version_major": 2,
       "version_minor": 0
      },
      "text/plain": [
       "Batches:   0%|          | 0/1 [00:00<?, ?it/s]"
      ]
     },
     "metadata": {},
     "output_type": "display_data"
    },
    {
     "data": {
      "application/vnd.jupyter.widget-view+json": {
       "model_id": "1b49183bb4f549ff826ab9208e0e3347",
       "version_major": 2,
       "version_minor": 0
      },
      "text/plain": [
       "Batches:   0%|          | 0/1 [00:00<?, ?it/s]"
      ]
     },
     "metadata": {},
     "output_type": "display_data"
    },
    {
     "data": {
      "application/vnd.jupyter.widget-view+json": {
       "model_id": "034bde37646146d399a04b71526cc722",
       "version_major": 2,
       "version_minor": 0
      },
      "text/plain": [
       "Batches:   0%|          | 0/1 [00:00<?, ?it/s]"
      ]
     },
     "metadata": {},
     "output_type": "display_data"
    },
    {
     "data": {
      "application/vnd.jupyter.widget-view+json": {
       "model_id": "bfa08d70e65c49c8acea868ecf543cdc",
       "version_major": 2,
       "version_minor": 0
      },
      "text/plain": [
       "Batches:   0%|          | 0/1 [00:00<?, ?it/s]"
      ]
     },
     "metadata": {},
     "output_type": "display_data"
    },
    {
     "data": {
      "application/vnd.jupyter.widget-view+json": {
       "model_id": "ae4797788c514c90ad80f956ec240f3f",
       "version_major": 2,
       "version_minor": 0
      },
      "text/plain": [
       "Batches:   0%|          | 0/1 [00:00<?, ?it/s]"
      ]
     },
     "metadata": {},
     "output_type": "display_data"
    },
    {
     "data": {
      "application/vnd.jupyter.widget-view+json": {
       "model_id": "10607915801b48989e2bfedf581bebac",
       "version_major": 2,
       "version_minor": 0
      },
      "text/plain": [
       "Batches:   0%|          | 0/1 [00:00<?, ?it/s]"
      ]
     },
     "metadata": {},
     "output_type": "display_data"
    },
    {
     "data": {
      "application/vnd.jupyter.widget-view+json": {
       "model_id": "0deba1c4e9a64942a601caa928afadc3",
       "version_major": 2,
       "version_minor": 0
      },
      "text/plain": [
       "Batches:   0%|          | 0/1 [00:00<?, ?it/s]"
      ]
     },
     "metadata": {},
     "output_type": "display_data"
    },
    {
     "data": {
      "application/vnd.jupyter.widget-view+json": {
       "model_id": "4ce60e9892794fbda3c39df7aee8df2e",
       "version_major": 2,
       "version_minor": 0
      },
      "text/plain": [
       "Batches:   0%|          | 0/1 [00:00<?, ?it/s]"
      ]
     },
     "metadata": {},
     "output_type": "display_data"
    },
    {
     "data": {
      "application/vnd.jupyter.widget-view+json": {
       "model_id": "51cc812bcba7409986f7913465ec46f8",
       "version_major": 2,
       "version_minor": 0
      },
      "text/plain": [
       "Batches:   0%|          | 0/1 [00:00<?, ?it/s]"
      ]
     },
     "metadata": {},
     "output_type": "display_data"
    },
    {
     "data": {
      "application/vnd.jupyter.widget-view+json": {
       "model_id": "6b1e48fd07e64840b2e7c99ee8d6bf28",
       "version_major": 2,
       "version_minor": 0
      },
      "text/plain": [
       "Batches:   0%|          | 0/1 [00:00<?, ?it/s]"
      ]
     },
     "metadata": {},
     "output_type": "display_data"
    },
    {
     "data": {
      "application/vnd.jupyter.widget-view+json": {
       "model_id": "d7d462e5c7074e9fb17fe8c3cf6f9ec4",
       "version_major": 2,
       "version_minor": 0
      },
      "text/plain": [
       "Batches:   0%|          | 0/1 [00:00<?, ?it/s]"
      ]
     },
     "metadata": {},
     "output_type": "display_data"
    },
    {
     "data": {
      "application/vnd.jupyter.widget-view+json": {
       "model_id": "1debdd4cf3f743e085601fcab777a941",
       "version_major": 2,
       "version_minor": 0
      },
      "text/plain": [
       "Batches:   0%|          | 0/1 [00:00<?, ?it/s]"
      ]
     },
     "metadata": {},
     "output_type": "display_data"
    },
    {
     "data": {
      "application/vnd.jupyter.widget-view+json": {
       "model_id": "4900b1f7bc7f403bb0b7b4e25921fed2",
       "version_major": 2,
       "version_minor": 0
      },
      "text/plain": [
       "Batches:   0%|          | 0/1 [00:00<?, ?it/s]"
      ]
     },
     "metadata": {},
     "output_type": "display_data"
    },
    {
     "data": {
      "application/vnd.jupyter.widget-view+json": {
       "model_id": "6adc74ff80074a118388c965f673be9a",
       "version_major": 2,
       "version_minor": 0
      },
      "text/plain": [
       "Batches:   0%|          | 0/1 [00:00<?, ?it/s]"
      ]
     },
     "metadata": {},
     "output_type": "display_data"
    },
    {
     "data": {
      "application/vnd.jupyter.widget-view+json": {
       "model_id": "90183a1e2c734d159b6e62c05ee25d62",
       "version_major": 2,
       "version_minor": 0
      },
      "text/plain": [
       "Batches:   0%|          | 0/1 [00:00<?, ?it/s]"
      ]
     },
     "metadata": {},
     "output_type": "display_data"
    },
    {
     "data": {
      "application/vnd.jupyter.widget-view+json": {
       "model_id": "214ea562faed46998ffb8d4f2c7c6af6",
       "version_major": 2,
       "version_minor": 0
      },
      "text/plain": [
       "Batches:   0%|          | 0/1 [00:00<?, ?it/s]"
      ]
     },
     "metadata": {},
     "output_type": "display_data"
    },
    {
     "data": {
      "application/vnd.jupyter.widget-view+json": {
       "model_id": "a80647ba72094876937afebc4ea5cc22",
       "version_major": 2,
       "version_minor": 0
      },
      "text/plain": [
       "Batches:   0%|          | 0/1 [00:00<?, ?it/s]"
      ]
     },
     "metadata": {},
     "output_type": "display_data"
    },
    {
     "data": {
      "application/vnd.jupyter.widget-view+json": {
       "model_id": "45cb129fba5643238c648501ece4df7b",
       "version_major": 2,
       "version_minor": 0
      },
      "text/plain": [
       "Batches:   0%|          | 0/1 [00:00<?, ?it/s]"
      ]
     },
     "metadata": {},
     "output_type": "display_data"
    },
    {
     "data": {
      "application/vnd.jupyter.widget-view+json": {
       "model_id": "337323c30c554b61bb7e71321b525da9",
       "version_major": 2,
       "version_minor": 0
      },
      "text/plain": [
       "Batches:   0%|          | 0/1 [00:00<?, ?it/s]"
      ]
     },
     "metadata": {},
     "output_type": "display_data"
    },
    {
     "data": {
      "application/vnd.jupyter.widget-view+json": {
       "model_id": "50632cf73cb14b4498e3f2532c25e1b7",
       "version_major": 2,
       "version_minor": 0
      },
      "text/plain": [
       "Batches:   0%|          | 0/1 [00:00<?, ?it/s]"
      ]
     },
     "metadata": {},
     "output_type": "display_data"
    },
    {
     "data": {
      "application/vnd.jupyter.widget-view+json": {
       "model_id": "a209a872a0db4bfb8c6336e08e797f24",
       "version_major": 2,
       "version_minor": 0
      },
      "text/plain": [
       "Batches:   0%|          | 0/1 [00:00<?, ?it/s]"
      ]
     },
     "metadata": {},
     "output_type": "display_data"
    },
    {
     "data": {
      "application/vnd.jupyter.widget-view+json": {
       "model_id": "e2814bb23bce422b878f68d82c6dffcd",
       "version_major": 2,
       "version_minor": 0
      },
      "text/plain": [
       "Batches:   0%|          | 0/1 [00:00<?, ?it/s]"
      ]
     },
     "metadata": {},
     "output_type": "display_data"
    },
    {
     "data": {
      "application/vnd.jupyter.widget-view+json": {
       "model_id": "1a01648042a84a8d907bb41cbecde5a9",
       "version_major": 2,
       "version_minor": 0
      },
      "text/plain": [
       "Batches:   0%|          | 0/1 [00:00<?, ?it/s]"
      ]
     },
     "metadata": {},
     "output_type": "display_data"
    },
    {
     "data": {
      "application/vnd.jupyter.widget-view+json": {
       "model_id": "9aaedd46e0ea42e3a0efaa360bf31e80",
       "version_major": 2,
       "version_minor": 0
      },
      "text/plain": [
       "Batches:   0%|          | 0/1 [00:00<?, ?it/s]"
      ]
     },
     "metadata": {},
     "output_type": "display_data"
    },
    {
     "data": {
      "application/vnd.jupyter.widget-view+json": {
       "model_id": "6682a3504ee0435ea5474e7a393ff4db",
       "version_major": 2,
       "version_minor": 0
      },
      "text/plain": [
       "Batches:   0%|          | 0/1 [00:00<?, ?it/s]"
      ]
     },
     "metadata": {},
     "output_type": "display_data"
    },
    {
     "data": {
      "application/vnd.jupyter.widget-view+json": {
       "model_id": "1bdfc0d68a044baabae4d783afdd63b7",
       "version_major": 2,
       "version_minor": 0
      },
      "text/plain": [
       "Batches:   0%|          | 0/1 [00:00<?, ?it/s]"
      ]
     },
     "metadata": {},
     "output_type": "display_data"
    },
    {
     "data": {
      "application/vnd.jupyter.widget-view+json": {
       "model_id": "dea308b1f917447baf23b06cdb41911b",
       "version_major": 2,
       "version_minor": 0
      },
      "text/plain": [
       "Batches:   0%|          | 0/1 [00:00<?, ?it/s]"
      ]
     },
     "metadata": {},
     "output_type": "display_data"
    },
    {
     "data": {
      "application/vnd.jupyter.widget-view+json": {
       "model_id": "34a7976056a44a7ab1d2ebd980f2b1b0",
       "version_major": 2,
       "version_minor": 0
      },
      "text/plain": [
       "Batches:   0%|          | 0/1 [00:00<?, ?it/s]"
      ]
     },
     "metadata": {},
     "output_type": "display_data"
    },
    {
     "data": {
      "application/vnd.jupyter.widget-view+json": {
       "model_id": "17530f9d3e22450fbad2e3ac770745ef",
       "version_major": 2,
       "version_minor": 0
      },
      "text/plain": [
       "Batches:   0%|          | 0/1 [00:00<?, ?it/s]"
      ]
     },
     "metadata": {},
     "output_type": "display_data"
    },
    {
     "data": {
      "application/vnd.jupyter.widget-view+json": {
       "model_id": "7caad6b862d34b6f82c402179572fd0c",
       "version_major": 2,
       "version_minor": 0
      },
      "text/plain": [
       "Batches:   0%|          | 0/1 [00:00<?, ?it/s]"
      ]
     },
     "metadata": {},
     "output_type": "display_data"
    },
    {
     "data": {
      "application/vnd.jupyter.widget-view+json": {
       "model_id": "3f24245e08ad489ca876bca5d5aa7387",
       "version_major": 2,
       "version_minor": 0
      },
      "text/plain": [
       "Batches:   0%|          | 0/1 [00:00<?, ?it/s]"
      ]
     },
     "metadata": {},
     "output_type": "display_data"
    },
    {
     "data": {
      "application/vnd.jupyter.widget-view+json": {
       "model_id": "7aa24d421da748db9d5d7b374fb87f00",
       "version_major": 2,
       "version_minor": 0
      },
      "text/plain": [
       "Batches:   0%|          | 0/1 [00:00<?, ?it/s]"
      ]
     },
     "metadata": {},
     "output_type": "display_data"
    },
    {
     "data": {
      "application/vnd.jupyter.widget-view+json": {
       "model_id": "972c1135f2c144eabaf5d1f6ef1a45a0",
       "version_major": 2,
       "version_minor": 0
      },
      "text/plain": [
       "Batches:   0%|          | 0/1 [00:00<?, ?it/s]"
      ]
     },
     "metadata": {},
     "output_type": "display_data"
    },
    {
     "data": {
      "application/vnd.jupyter.widget-view+json": {
       "model_id": "3392e6974e7047ffb79558177da54af2",
       "version_major": 2,
       "version_minor": 0
      },
      "text/plain": [
       "Batches:   0%|          | 0/1 [00:00<?, ?it/s]"
      ]
     },
     "metadata": {},
     "output_type": "display_data"
    },
    {
     "data": {
      "application/vnd.jupyter.widget-view+json": {
       "model_id": "d3c4d0ef74144572bf395d63ee24351a",
       "version_major": 2,
       "version_minor": 0
      },
      "text/plain": [
       "Batches:   0%|          | 0/1 [00:00<?, ?it/s]"
      ]
     },
     "metadata": {},
     "output_type": "display_data"
    },
    {
     "data": {
      "application/vnd.jupyter.widget-view+json": {
       "model_id": "66a46db0e1ba49e2908b5bdfee781ec8",
       "version_major": 2,
       "version_minor": 0
      },
      "text/plain": [
       "Batches:   0%|          | 0/1 [00:00<?, ?it/s]"
      ]
     },
     "metadata": {},
     "output_type": "display_data"
    },
    {
     "data": {
      "application/vnd.jupyter.widget-view+json": {
       "model_id": "a26f362c5a6648f7b57f432add1d1d39",
       "version_major": 2,
       "version_minor": 0
      },
      "text/plain": [
       "Batches:   0%|          | 0/1 [00:00<?, ?it/s]"
      ]
     },
     "metadata": {},
     "output_type": "display_data"
    },
    {
     "data": {
      "application/vnd.jupyter.widget-view+json": {
       "model_id": "caa9ba0abfc4494d89a4d4d5553590d1",
       "version_major": 2,
       "version_minor": 0
      },
      "text/plain": [
       "Batches:   0%|          | 0/1 [00:00<?, ?it/s]"
      ]
     },
     "metadata": {},
     "output_type": "display_data"
    },
    {
     "data": {
      "application/vnd.jupyter.widget-view+json": {
       "model_id": "8b45409ff7994d7b83a2a56951316558",
       "version_major": 2,
       "version_minor": 0
      },
      "text/plain": [
       "Batches:   0%|          | 0/1 [00:00<?, ?it/s]"
      ]
     },
     "metadata": {},
     "output_type": "display_data"
    },
    {
     "data": {
      "application/vnd.jupyter.widget-view+json": {
       "model_id": "7e989095b46e44be9c7eeb8e3ee93cba",
       "version_major": 2,
       "version_minor": 0
      },
      "text/plain": [
       "Batches:   0%|          | 0/1 [00:00<?, ?it/s]"
      ]
     },
     "metadata": {},
     "output_type": "display_data"
    },
    {
     "data": {
      "application/vnd.jupyter.widget-view+json": {
       "model_id": "60e121715ae74bb5a777ec6a0beae464",
       "version_major": 2,
       "version_minor": 0
      },
      "text/plain": [
       "Batches:   0%|          | 0/1 [00:00<?, ?it/s]"
      ]
     },
     "metadata": {},
     "output_type": "display_data"
    },
    {
     "data": {
      "application/vnd.jupyter.widget-view+json": {
       "model_id": "ee3de35c8c8a44eba17e32807df44093",
       "version_major": 2,
       "version_minor": 0
      },
      "text/plain": [
       "Batches:   0%|          | 0/1 [00:00<?, ?it/s]"
      ]
     },
     "metadata": {},
     "output_type": "display_data"
    },
    {
     "data": {
      "application/vnd.jupyter.widget-view+json": {
       "model_id": "8230914c1260457ea9bac182c73c7c11",
       "version_major": 2,
       "version_minor": 0
      },
      "text/plain": [
       "Batches:   0%|          | 0/1 [00:00<?, ?it/s]"
      ]
     },
     "metadata": {},
     "output_type": "display_data"
    },
    {
     "data": {
      "application/vnd.jupyter.widget-view+json": {
       "model_id": "fd3e173fd7ed4e48a50c42ac98877b55",
       "version_major": 2,
       "version_minor": 0
      },
      "text/plain": [
       "Batches:   0%|          | 0/1 [00:00<?, ?it/s]"
      ]
     },
     "metadata": {},
     "output_type": "display_data"
    },
    {
     "data": {
      "application/vnd.jupyter.widget-view+json": {
       "model_id": "3896e339673a4be7b287ee5cf025d065",
       "version_major": 2,
       "version_minor": 0
      },
      "text/plain": [
       "Batches:   0%|          | 0/1 [00:00<?, ?it/s]"
      ]
     },
     "metadata": {},
     "output_type": "display_data"
    },
    {
     "data": {
      "application/vnd.jupyter.widget-view+json": {
       "model_id": "f42ab8be209742cc8c2c5e8c1df2f868",
       "version_major": 2,
       "version_minor": 0
      },
      "text/plain": [
       "Batches:   0%|          | 0/1 [00:00<?, ?it/s]"
      ]
     },
     "metadata": {},
     "output_type": "display_data"
    },
    {
     "data": {
      "application/vnd.jupyter.widget-view+json": {
       "model_id": "0c0fe7f57ef7487c841c71d076bd6721",
       "version_major": 2,
       "version_minor": 0
      },
      "text/plain": [
       "Batches:   0%|          | 0/1 [00:00<?, ?it/s]"
      ]
     },
     "metadata": {},
     "output_type": "display_data"
    },
    {
     "data": {
      "application/vnd.jupyter.widget-view+json": {
       "model_id": "369e54bd71af4693a460585cccdbfdaf",
       "version_major": 2,
       "version_minor": 0
      },
      "text/plain": [
       "Batches:   0%|          | 0/1 [00:00<?, ?it/s]"
      ]
     },
     "metadata": {},
     "output_type": "display_data"
    },
    {
     "data": {
      "application/vnd.jupyter.widget-view+json": {
       "model_id": "a4c2c0b0c7f54755bb4001dba1b57fb5",
       "version_major": 2,
       "version_minor": 0
      },
      "text/plain": [
       "Batches:   0%|          | 0/1 [00:00<?, ?it/s]"
      ]
     },
     "metadata": {},
     "output_type": "display_data"
    },
    {
     "data": {
      "application/vnd.jupyter.widget-view+json": {
       "model_id": "8ac1b8ae4f464094bb47a8a8e252977b",
       "version_major": 2,
       "version_minor": 0
      },
      "text/plain": [
       "Batches:   0%|          | 0/1 [00:00<?, ?it/s]"
      ]
     },
     "metadata": {},
     "output_type": "display_data"
    },
    {
     "data": {
      "application/vnd.jupyter.widget-view+json": {
       "model_id": "bb4a28bc9f834c1789eadb4214049e36",
       "version_major": 2,
       "version_minor": 0
      },
      "text/plain": [
       "Batches:   0%|          | 0/1 [00:00<?, ?it/s]"
      ]
     },
     "metadata": {},
     "output_type": "display_data"
    },
    {
     "data": {
      "application/vnd.jupyter.widget-view+json": {
       "model_id": "2424f1a96301412894c20d59fe00e950",
       "version_major": 2,
       "version_minor": 0
      },
      "text/plain": [
       "Batches:   0%|          | 0/1 [00:00<?, ?it/s]"
      ]
     },
     "metadata": {},
     "output_type": "display_data"
    },
    {
     "data": {
      "application/vnd.jupyter.widget-view+json": {
       "model_id": "c5f21b55ab9c4c4e9a7bfc8126aa1155",
       "version_major": 2,
       "version_minor": 0
      },
      "text/plain": [
       "Batches:   0%|          | 0/1 [00:00<?, ?it/s]"
      ]
     },
     "metadata": {},
     "output_type": "display_data"
    },
    {
     "data": {
      "application/vnd.jupyter.widget-view+json": {
       "model_id": "1b9bf86fee10446faa231a534d16eb39",
       "version_major": 2,
       "version_minor": 0
      },
      "text/plain": [
       "Batches:   0%|          | 0/1 [00:00<?, ?it/s]"
      ]
     },
     "metadata": {},
     "output_type": "display_data"
    },
    {
     "data": {
      "application/vnd.jupyter.widget-view+json": {
       "model_id": "b401a2805a63412ba40c73ac318cec86",
       "version_major": 2,
       "version_minor": 0
      },
      "text/plain": [
       "Batches:   0%|          | 0/1 [00:00<?, ?it/s]"
      ]
     },
     "metadata": {},
     "output_type": "display_data"
    },
    {
     "data": {
      "application/vnd.jupyter.widget-view+json": {
       "model_id": "f90b449d079d471391501a7152018275",
       "version_major": 2,
       "version_minor": 0
      },
      "text/plain": [
       "Batches:   0%|          | 0/1 [00:00<?, ?it/s]"
      ]
     },
     "metadata": {},
     "output_type": "display_data"
    },
    {
     "data": {
      "application/vnd.jupyter.widget-view+json": {
       "model_id": "f04a02a6c95e4a678538fcf134508949",
       "version_major": 2,
       "version_minor": 0
      },
      "text/plain": [
       "Batches:   0%|          | 0/1 [00:00<?, ?it/s]"
      ]
     },
     "metadata": {},
     "output_type": "display_data"
    },
    {
     "data": {
      "application/vnd.jupyter.widget-view+json": {
       "model_id": "9164348bfc07434e9a2174575c1221f5",
       "version_major": 2,
       "version_minor": 0
      },
      "text/plain": [
       "Batches:   0%|          | 0/1 [00:00<?, ?it/s]"
      ]
     },
     "metadata": {},
     "output_type": "display_data"
    },
    {
     "data": {
      "application/vnd.jupyter.widget-view+json": {
       "model_id": "4947d177ad4b42caa7b353354023e3bb",
       "version_major": 2,
       "version_minor": 0
      },
      "text/plain": [
       "Batches:   0%|          | 0/1 [00:00<?, ?it/s]"
      ]
     },
     "metadata": {},
     "output_type": "display_data"
    },
    {
     "data": {
      "application/vnd.jupyter.widget-view+json": {
       "model_id": "95b5be0b334147f79c2619ad50c60c9f",
       "version_major": 2,
       "version_minor": 0
      },
      "text/plain": [
       "Batches:   0%|          | 0/1 [00:00<?, ?it/s]"
      ]
     },
     "metadata": {},
     "output_type": "display_data"
    },
    {
     "data": {
      "application/vnd.jupyter.widget-view+json": {
       "model_id": "fcda4cc9502c4be9805938fca8bcba3c",
       "version_major": 2,
       "version_minor": 0
      },
      "text/plain": [
       "Batches:   0%|          | 0/1 [00:00<?, ?it/s]"
      ]
     },
     "metadata": {},
     "output_type": "display_data"
    },
    {
     "data": {
      "application/vnd.jupyter.widget-view+json": {
       "model_id": "6487721151e14295a0b3e4fd0f1d863f",
       "version_major": 2,
       "version_minor": 0
      },
      "text/plain": [
       "Batches:   0%|          | 0/1 [00:00<?, ?it/s]"
      ]
     },
     "metadata": {},
     "output_type": "display_data"
    },
    {
     "data": {
      "application/vnd.jupyter.widget-view+json": {
       "model_id": "3923544cccdd4fe793048c394967544f",
       "version_major": 2,
       "version_minor": 0
      },
      "text/plain": [
       "Batches:   0%|          | 0/1 [00:00<?, ?it/s]"
      ]
     },
     "metadata": {},
     "output_type": "display_data"
    },
    {
     "data": {
      "application/vnd.jupyter.widget-view+json": {
       "model_id": "d17fb9ef05794814b764ef16d8c765b7",
       "version_major": 2,
       "version_minor": 0
      },
      "text/plain": [
       "Batches:   0%|          | 0/1 [00:00<?, ?it/s]"
      ]
     },
     "metadata": {},
     "output_type": "display_data"
    },
    {
     "data": {
      "application/vnd.jupyter.widget-view+json": {
       "model_id": "827f5110ce184c0e86da697867deff3f",
       "version_major": 2,
       "version_minor": 0
      },
      "text/plain": [
       "Batches:   0%|          | 0/1 [00:00<?, ?it/s]"
      ]
     },
     "metadata": {},
     "output_type": "display_data"
    },
    {
     "data": {
      "application/vnd.jupyter.widget-view+json": {
       "model_id": "0dfea21f46da40458fa90bc71ae30415",
       "version_major": 2,
       "version_minor": 0
      },
      "text/plain": [
       "Batches:   0%|          | 0/1 [00:00<?, ?it/s]"
      ]
     },
     "metadata": {},
     "output_type": "display_data"
    },
    {
     "data": {
      "application/vnd.jupyter.widget-view+json": {
       "model_id": "0987d344867e47828d5cbc7746925636",
       "version_major": 2,
       "version_minor": 0
      },
      "text/plain": [
       "Batches:   0%|          | 0/1 [00:00<?, ?it/s]"
      ]
     },
     "metadata": {},
     "output_type": "display_data"
    },
    {
     "data": {
      "application/vnd.jupyter.widget-view+json": {
       "model_id": "68a0c6a8d56b459bb0dd83aea6e1f65f",
       "version_major": 2,
       "version_minor": 0
      },
      "text/plain": [
       "Batches:   0%|          | 0/1 [00:00<?, ?it/s]"
      ]
     },
     "metadata": {},
     "output_type": "display_data"
    },
    {
     "data": {
      "application/vnd.jupyter.widget-view+json": {
       "model_id": "4cec8690f97c4f7493e03cb4e9637022",
       "version_major": 2,
       "version_minor": 0
      },
      "text/plain": [
       "Batches:   0%|          | 0/1 [00:00<?, ?it/s]"
      ]
     },
     "metadata": {},
     "output_type": "display_data"
    },
    {
     "data": {
      "application/vnd.jupyter.widget-view+json": {
       "model_id": "78a440c565284da9922267a1526e1e01",
       "version_major": 2,
       "version_minor": 0
      },
      "text/plain": [
       "Batches:   0%|          | 0/1 [00:00<?, ?it/s]"
      ]
     },
     "metadata": {},
     "output_type": "display_data"
    },
    {
     "data": {
      "application/vnd.jupyter.widget-view+json": {
       "model_id": "d958b114017e42918b5b8ff9824e724c",
       "version_major": 2,
       "version_minor": 0
      },
      "text/plain": [
       "Batches:   0%|          | 0/1 [00:00<?, ?it/s]"
      ]
     },
     "metadata": {},
     "output_type": "display_data"
    },
    {
     "data": {
      "application/vnd.jupyter.widget-view+json": {
       "model_id": "01409bf9a834484891a5352f290f27a4",
       "version_major": 2,
       "version_minor": 0
      },
      "text/plain": [
       "Batches:   0%|          | 0/1 [00:00<?, ?it/s]"
      ]
     },
     "metadata": {},
     "output_type": "display_data"
    },
    {
     "data": {
      "application/vnd.jupyter.widget-view+json": {
       "model_id": "39083f7e1ade4cd085aa5667f060c2eb",
       "version_major": 2,
       "version_minor": 0
      },
      "text/plain": [
       "Batches:   0%|          | 0/1 [00:00<?, ?it/s]"
      ]
     },
     "metadata": {},
     "output_type": "display_data"
    },
    {
     "data": {
      "application/vnd.jupyter.widget-view+json": {
       "model_id": "13cfd52d1d494aec8655405de872c480",
       "version_major": 2,
       "version_minor": 0
      },
      "text/plain": [
       "Batches:   0%|          | 0/1 [00:00<?, ?it/s]"
      ]
     },
     "metadata": {},
     "output_type": "display_data"
    },
    {
     "data": {
      "application/vnd.jupyter.widget-view+json": {
       "model_id": "27a79d0170c74291832ca85799f108ed",
       "version_major": 2,
       "version_minor": 0
      },
      "text/plain": [
       "Batches:   0%|          | 0/1 [00:00<?, ?it/s]"
      ]
     },
     "metadata": {},
     "output_type": "display_data"
    },
    {
     "data": {
      "application/vnd.jupyter.widget-view+json": {
       "model_id": "11f6cca91fa04709a030739c0deac38a",
       "version_major": 2,
       "version_minor": 0
      },
      "text/plain": [
       "Batches:   0%|          | 0/1 [00:00<?, ?it/s]"
      ]
     },
     "metadata": {},
     "output_type": "display_data"
    },
    {
     "data": {
      "application/vnd.jupyter.widget-view+json": {
       "model_id": "02c565c68c114194b6672d96607b3fdd",
       "version_major": 2,
       "version_minor": 0
      },
      "text/plain": [
       "Batches:   0%|          | 0/1 [00:00<?, ?it/s]"
      ]
     },
     "metadata": {},
     "output_type": "display_data"
    },
    {
     "data": {
      "application/vnd.jupyter.widget-view+json": {
       "model_id": "4244672404f64a74bb45b400d52d015f",
       "version_major": 2,
       "version_minor": 0
      },
      "text/plain": [
       "Batches:   0%|          | 0/1 [00:00<?, ?it/s]"
      ]
     },
     "metadata": {},
     "output_type": "display_data"
    },
    {
     "data": {
      "application/vnd.jupyter.widget-view+json": {
       "model_id": "107b50a304bf4000857f20a08c861c94",
       "version_major": 2,
       "version_minor": 0
      },
      "text/plain": [
       "Batches:   0%|          | 0/1 [00:00<?, ?it/s]"
      ]
     },
     "metadata": {},
     "output_type": "display_data"
    },
    {
     "data": {
      "application/vnd.jupyter.widget-view+json": {
       "model_id": "bb615cc607194eaab2a24cf470fcc7f6",
       "version_major": 2,
       "version_minor": 0
      },
      "text/plain": [
       "Batches:   0%|          | 0/1 [00:00<?, ?it/s]"
      ]
     },
     "metadata": {},
     "output_type": "display_data"
    },
    {
     "data": {
      "application/vnd.jupyter.widget-view+json": {
       "model_id": "65694727e3884dc688c51817d57af17a",
       "version_major": 2,
       "version_minor": 0
      },
      "text/plain": [
       "Batches:   0%|          | 0/1 [00:00<?, ?it/s]"
      ]
     },
     "metadata": {},
     "output_type": "display_data"
    },
    {
     "data": {
      "application/vnd.jupyter.widget-view+json": {
       "model_id": "c8bc9a030f1b48cb8e633a5e55f233bd",
       "version_major": 2,
       "version_minor": 0
      },
      "text/plain": [
       "Batches:   0%|          | 0/1 [00:00<?, ?it/s]"
      ]
     },
     "metadata": {},
     "output_type": "display_data"
    },
    {
     "data": {
      "application/vnd.jupyter.widget-view+json": {
       "model_id": "f85c197b7fc043dc8688746efac50a32",
       "version_major": 2,
       "version_minor": 0
      },
      "text/plain": [
       "Batches:   0%|          | 0/1 [00:00<?, ?it/s]"
      ]
     },
     "metadata": {},
     "output_type": "display_data"
    },
    {
     "data": {
      "application/vnd.jupyter.widget-view+json": {
       "model_id": "ca649515251b486386f7a179367c852b",
       "version_major": 2,
       "version_minor": 0
      },
      "text/plain": [
       "Batches:   0%|          | 0/1 [00:00<?, ?it/s]"
      ]
     },
     "metadata": {},
     "output_type": "display_data"
    },
    {
     "data": {
      "application/vnd.jupyter.widget-view+json": {
       "model_id": "2fb0d8243b1d40c08478a86e1d00cec4",
       "version_major": 2,
       "version_minor": 0
      },
      "text/plain": [
       "Batches:   0%|          | 0/1 [00:00<?, ?it/s]"
      ]
     },
     "metadata": {},
     "output_type": "display_data"
    },
    {
     "data": {
      "application/vnd.jupyter.widget-view+json": {
       "model_id": "438e4cfa49a64744af90bf9714ac43e1",
       "version_major": 2,
       "version_minor": 0
      },
      "text/plain": [
       "Batches:   0%|          | 0/1 [00:00<?, ?it/s]"
      ]
     },
     "metadata": {},
     "output_type": "display_data"
    },
    {
     "data": {
      "application/vnd.jupyter.widget-view+json": {
       "model_id": "450b91ca61a142e0adbadebb2947813c",
       "version_major": 2,
       "version_minor": 0
      },
      "text/plain": [
       "Batches:   0%|          | 0/1 [00:00<?, ?it/s]"
      ]
     },
     "metadata": {},
     "output_type": "display_data"
    },
    {
     "data": {
      "application/vnd.jupyter.widget-view+json": {
       "model_id": "581693ed123142e481b238a1769230ba",
       "version_major": 2,
       "version_minor": 0
      },
      "text/plain": [
       "Batches:   0%|          | 0/1 [00:00<?, ?it/s]"
      ]
     },
     "metadata": {},
     "output_type": "display_data"
    },
    {
     "data": {
      "application/vnd.jupyter.widget-view+json": {
       "model_id": "84f954035b4b4e879c776dd03f8c8dcc",
       "version_major": 2,
       "version_minor": 0
      },
      "text/plain": [
       "Batches:   0%|          | 0/1 [00:00<?, ?it/s]"
      ]
     },
     "metadata": {},
     "output_type": "display_data"
    },
    {
     "data": {
      "application/vnd.jupyter.widget-view+json": {
       "model_id": "5c338ac8d20b493999ef127c3f640e08",
       "version_major": 2,
       "version_minor": 0
      },
      "text/plain": [
       "Batches:   0%|          | 0/1 [00:00<?, ?it/s]"
      ]
     },
     "metadata": {},
     "output_type": "display_data"
    },
    {
     "data": {
      "application/vnd.jupyter.widget-view+json": {
       "model_id": "35661f4a774c451a89f47d12250c5a0c",
       "version_major": 2,
       "version_minor": 0
      },
      "text/plain": [
       "Batches:   0%|          | 0/1 [00:00<?, ?it/s]"
      ]
     },
     "metadata": {},
     "output_type": "display_data"
    },
    {
     "data": {
      "application/vnd.jupyter.widget-view+json": {
       "model_id": "3777da6ebd654d19bed460e47c34132a",
       "version_major": 2,
       "version_minor": 0
      },
      "text/plain": [
       "Batches:   0%|          | 0/1 [00:00<?, ?it/s]"
      ]
     },
     "metadata": {},
     "output_type": "display_data"
    },
    {
     "data": {
      "application/vnd.jupyter.widget-view+json": {
       "model_id": "afc8bb74ce994cc7be4b33772c258d0f",
       "version_major": 2,
       "version_minor": 0
      },
      "text/plain": [
       "Batches:   0%|          | 0/1 [00:00<?, ?it/s]"
      ]
     },
     "metadata": {},
     "output_type": "display_data"
    },
    {
     "data": {
      "application/vnd.jupyter.widget-view+json": {
       "model_id": "67b8aa3e037741a98666db8629502d02",
       "version_major": 2,
       "version_minor": 0
      },
      "text/plain": [
       "Batches:   0%|          | 0/1 [00:00<?, ?it/s]"
      ]
     },
     "metadata": {},
     "output_type": "display_data"
    },
    {
     "data": {
      "application/vnd.jupyter.widget-view+json": {
       "model_id": "e708ccd77df744e98c4506d776c471a4",
       "version_major": 2,
       "version_minor": 0
      },
      "text/plain": [
       "Batches:   0%|          | 0/1 [00:00<?, ?it/s]"
      ]
     },
     "metadata": {},
     "output_type": "display_data"
    },
    {
     "data": {
      "application/vnd.jupyter.widget-view+json": {
       "model_id": "82127a3b7a4d439abcf03a69a3425048",
       "version_major": 2,
       "version_minor": 0
      },
      "text/plain": [
       "Batches:   0%|          | 0/1 [00:00<?, ?it/s]"
      ]
     },
     "metadata": {},
     "output_type": "display_data"
    },
    {
     "data": {
      "application/vnd.jupyter.widget-view+json": {
       "model_id": "72c49e7926d843cdb99dafa7362ae51c",
       "version_major": 2,
       "version_minor": 0
      },
      "text/plain": [
       "Batches:   0%|          | 0/1 [00:00<?, ?it/s]"
      ]
     },
     "metadata": {},
     "output_type": "display_data"
    },
    {
     "data": {
      "application/vnd.jupyter.widget-view+json": {
       "model_id": "701a7b083b5a497fbedf1a43247e2d32",
       "version_major": 2,
       "version_minor": 0
      },
      "text/plain": [
       "Batches:   0%|          | 0/1 [00:00<?, ?it/s]"
      ]
     },
     "metadata": {},
     "output_type": "display_data"
    },
    {
     "data": {
      "application/vnd.jupyter.widget-view+json": {
       "model_id": "cba917a6c14643a58fb3fdd58dcae6cc",
       "version_major": 2,
       "version_minor": 0
      },
      "text/plain": [
       "Batches:   0%|          | 0/1 [00:00<?, ?it/s]"
      ]
     },
     "metadata": {},
     "output_type": "display_data"
    },
    {
     "data": {
      "application/vnd.jupyter.widget-view+json": {
       "model_id": "f4e965843e3f40b49ad5fc084a023289",
       "version_major": 2,
       "version_minor": 0
      },
      "text/plain": [
       "Batches:   0%|          | 0/1 [00:00<?, ?it/s]"
      ]
     },
     "metadata": {},
     "output_type": "display_data"
    },
    {
     "data": {
      "application/vnd.jupyter.widget-view+json": {
       "model_id": "9e1ba306825d42159c88554bc5071f22",
       "version_major": 2,
       "version_minor": 0
      },
      "text/plain": [
       "Batches:   0%|          | 0/1 [00:00<?, ?it/s]"
      ]
     },
     "metadata": {},
     "output_type": "display_data"
    },
    {
     "data": {
      "application/vnd.jupyter.widget-view+json": {
       "model_id": "adadefeb6cf64870972a99d28c739777",
       "version_major": 2,
       "version_minor": 0
      },
      "text/plain": [
       "Batches:   0%|          | 0/1 [00:00<?, ?it/s]"
      ]
     },
     "metadata": {},
     "output_type": "display_data"
    },
    {
     "data": {
      "application/vnd.jupyter.widget-view+json": {
       "model_id": "9f7825b6e97f4baebf317c146ffb49dd",
       "version_major": 2,
       "version_minor": 0
      },
      "text/plain": [
       "Batches:   0%|          | 0/1 [00:00<?, ?it/s]"
      ]
     },
     "metadata": {},
     "output_type": "display_data"
    },
    {
     "data": {
      "application/vnd.jupyter.widget-view+json": {
       "model_id": "2d9802cb3be943dd8fb0654661c1e3e1",
       "version_major": 2,
       "version_minor": 0
      },
      "text/plain": [
       "Batches:   0%|          | 0/1 [00:00<?, ?it/s]"
      ]
     },
     "metadata": {},
     "output_type": "display_data"
    },
    {
     "data": {
      "application/vnd.jupyter.widget-view+json": {
       "model_id": "b552c01476714fc6a5df82604f4ffdbe",
       "version_major": 2,
       "version_minor": 0
      },
      "text/plain": [
       "Batches:   0%|          | 0/1 [00:00<?, ?it/s]"
      ]
     },
     "metadata": {},
     "output_type": "display_data"
    },
    {
     "data": {
      "application/vnd.jupyter.widget-view+json": {
       "model_id": "ee405f1ed4934c1c9875f0b865312790",
       "version_major": 2,
       "version_minor": 0
      },
      "text/plain": [
       "Batches:   0%|          | 0/1 [00:00<?, ?it/s]"
      ]
     },
     "metadata": {},
     "output_type": "display_data"
    },
    {
     "data": {
      "application/vnd.jupyter.widget-view+json": {
       "model_id": "fdaaa823498445e7a76586a0a26343a8",
       "version_major": 2,
       "version_minor": 0
      },
      "text/plain": [
       "Batches:   0%|          | 0/1 [00:00<?, ?it/s]"
      ]
     },
     "metadata": {},
     "output_type": "display_data"
    },
    {
     "data": {
      "application/vnd.jupyter.widget-view+json": {
       "model_id": "1babdb616aac470fa6f4998f850e7a2f",
       "version_major": 2,
       "version_minor": 0
      },
      "text/plain": [
       "Batches:   0%|          | 0/1 [00:00<?, ?it/s]"
      ]
     },
     "metadata": {},
     "output_type": "display_data"
    },
    {
     "data": {
      "application/vnd.jupyter.widget-view+json": {
       "model_id": "6aa4412710194fbbacb25dfbc0ce43c5",
       "version_major": 2,
       "version_minor": 0
      },
      "text/plain": [
       "Batches:   0%|          | 0/1 [00:00<?, ?it/s]"
      ]
     },
     "metadata": {},
     "output_type": "display_data"
    },
    {
     "data": {
      "application/vnd.jupyter.widget-view+json": {
       "model_id": "a36f2fe1cb0840f6a72a731e866e36f4",
       "version_major": 2,
       "version_minor": 0
      },
      "text/plain": [
       "Batches:   0%|          | 0/1 [00:00<?, ?it/s]"
      ]
     },
     "metadata": {},
     "output_type": "display_data"
    },
    {
     "data": {
      "application/vnd.jupyter.widget-view+json": {
       "model_id": "904dae2f2d0a4ba0b488ec0aa06719e2",
       "version_major": 2,
       "version_minor": 0
      },
      "text/plain": [
       "Batches:   0%|          | 0/1 [00:00<?, ?it/s]"
      ]
     },
     "metadata": {},
     "output_type": "display_data"
    },
    {
     "data": {
      "application/vnd.jupyter.widget-view+json": {
       "model_id": "55ef4182b0054754a43d2b6a972ff5ee",
       "version_major": 2,
       "version_minor": 0
      },
      "text/plain": [
       "Batches:   0%|          | 0/1 [00:00<?, ?it/s]"
      ]
     },
     "metadata": {},
     "output_type": "display_data"
    },
    {
     "data": {
      "application/vnd.jupyter.widget-view+json": {
       "model_id": "8e79933569204ea181d175682501a7dd",
       "version_major": 2,
       "version_minor": 0
      },
      "text/plain": [
       "Batches:   0%|          | 0/1 [00:00<?, ?it/s]"
      ]
     },
     "metadata": {},
     "output_type": "display_data"
    },
    {
     "data": {
      "application/vnd.jupyter.widget-view+json": {
       "model_id": "26bda694b6924bb695b23e001e66a22e",
       "version_major": 2,
       "version_minor": 0
      },
      "text/plain": [
       "Batches:   0%|          | 0/1 [00:00<?, ?it/s]"
      ]
     },
     "metadata": {},
     "output_type": "display_data"
    },
    {
     "data": {
      "application/vnd.jupyter.widget-view+json": {
       "model_id": "9e79ea3f79ee41078db1bbf82f6fde81",
       "version_major": 2,
       "version_minor": 0
      },
      "text/plain": [
       "Batches:   0%|          | 0/1 [00:00<?, ?it/s]"
      ]
     },
     "metadata": {},
     "output_type": "display_data"
    },
    {
     "data": {
      "application/vnd.jupyter.widget-view+json": {
       "model_id": "c156b9b07d0349db8b71c6a134f1d536",
       "version_major": 2,
       "version_minor": 0
      },
      "text/plain": [
       "Batches:   0%|          | 0/1 [00:00<?, ?it/s]"
      ]
     },
     "metadata": {},
     "output_type": "display_data"
    },
    {
     "data": {
      "application/vnd.jupyter.widget-view+json": {
       "model_id": "a9d5f496c9d44ee3839e7fe79ae97cbe",
       "version_major": 2,
       "version_minor": 0
      },
      "text/plain": [
       "Batches:   0%|          | 0/1 [00:00<?, ?it/s]"
      ]
     },
     "metadata": {},
     "output_type": "display_data"
    },
    {
     "data": {
      "application/vnd.jupyter.widget-view+json": {
       "model_id": "7fb244135c8e4ad2b591e3e365df1d54",
       "version_major": 2,
       "version_minor": 0
      },
      "text/plain": [
       "Batches:   0%|          | 0/1 [00:00<?, ?it/s]"
      ]
     },
     "metadata": {},
     "output_type": "display_data"
    },
    {
     "data": {
      "application/vnd.jupyter.widget-view+json": {
       "model_id": "f1577c32e79c46e49dd685f1e61cc326",
       "version_major": 2,
       "version_minor": 0
      },
      "text/plain": [
       "Batches:   0%|          | 0/1 [00:00<?, ?it/s]"
      ]
     },
     "metadata": {},
     "output_type": "display_data"
    },
    {
     "data": {
      "application/vnd.jupyter.widget-view+json": {
       "model_id": "f92934e7980a4563b5acb04b755efc9d",
       "version_major": 2,
       "version_minor": 0
      },
      "text/plain": [
       "Batches:   0%|          | 0/1 [00:00<?, ?it/s]"
      ]
     },
     "metadata": {},
     "output_type": "display_data"
    },
    {
     "data": {
      "application/vnd.jupyter.widget-view+json": {
       "model_id": "b8da2bf886964e79a380ecd404dc48b7",
       "version_major": 2,
       "version_minor": 0
      },
      "text/plain": [
       "Batches:   0%|          | 0/1 [00:00<?, ?it/s]"
      ]
     },
     "metadata": {},
     "output_type": "display_data"
    },
    {
     "data": {
      "application/vnd.jupyter.widget-view+json": {
       "model_id": "980007adb35f4ec5baca13d4cefd3c71",
       "version_major": 2,
       "version_minor": 0
      },
      "text/plain": [
       "Batches:   0%|          | 0/1 [00:00<?, ?it/s]"
      ]
     },
     "metadata": {},
     "output_type": "display_data"
    },
    {
     "data": {
      "application/vnd.jupyter.widget-view+json": {
       "model_id": "77cb6f89d92046d185312b6927486d66",
       "version_major": 2,
       "version_minor": 0
      },
      "text/plain": [
       "Batches:   0%|          | 0/1 [00:00<?, ?it/s]"
      ]
     },
     "metadata": {},
     "output_type": "display_data"
    },
    {
     "data": {
      "application/vnd.jupyter.widget-view+json": {
       "model_id": "863e8f06f8b842a997e5eaccc1ac4b20",
       "version_major": 2,
       "version_minor": 0
      },
      "text/plain": [
       "Batches:   0%|          | 0/1 [00:00<?, ?it/s]"
      ]
     },
     "metadata": {},
     "output_type": "display_data"
    },
    {
     "data": {
      "application/vnd.jupyter.widget-view+json": {
       "model_id": "f6ae76e670fd4d478b8b98e86a174ecd",
       "version_major": 2,
       "version_minor": 0
      },
      "text/plain": [
       "Batches:   0%|          | 0/1 [00:00<?, ?it/s]"
      ]
     },
     "metadata": {},
     "output_type": "display_data"
    },
    {
     "data": {
      "application/vnd.jupyter.widget-view+json": {
       "model_id": "a6a049b835764c8aab613ae1a4833d81",
       "version_major": 2,
       "version_minor": 0
      },
      "text/plain": [
       "Batches:   0%|          | 0/1 [00:00<?, ?it/s]"
      ]
     },
     "metadata": {},
     "output_type": "display_data"
    },
    {
     "data": {
      "application/vnd.jupyter.widget-view+json": {
       "model_id": "8e6ccbdc43164779bcfe6d4e09482736",
       "version_major": 2,
       "version_minor": 0
      },
      "text/plain": [
       "Batches:   0%|          | 0/1 [00:00<?, ?it/s]"
      ]
     },
     "metadata": {},
     "output_type": "display_data"
    },
    {
     "data": {
      "application/vnd.jupyter.widget-view+json": {
       "model_id": "f0e7693934084cb9a392d75737ec41fa",
       "version_major": 2,
       "version_minor": 0
      },
      "text/plain": [
       "Batches:   0%|          | 0/1 [00:00<?, ?it/s]"
      ]
     },
     "metadata": {},
     "output_type": "display_data"
    },
    {
     "data": {
      "application/vnd.jupyter.widget-view+json": {
       "model_id": "5a0de21ab3b045749e35c01f3a00737a",
       "version_major": 2,
       "version_minor": 0
      },
      "text/plain": [
       "Batches:   0%|          | 0/1 [00:00<?, ?it/s]"
      ]
     },
     "metadata": {},
     "output_type": "display_data"
    },
    {
     "data": {
      "application/vnd.jupyter.widget-view+json": {
       "model_id": "03f2d4fee47d4e8cb4160cd2aad65ed5",
       "version_major": 2,
       "version_minor": 0
      },
      "text/plain": [
       "Batches:   0%|          | 0/1 [00:00<?, ?it/s]"
      ]
     },
     "metadata": {},
     "output_type": "display_data"
    },
    {
     "data": {
      "application/vnd.jupyter.widget-view+json": {
       "model_id": "73495a56b11b4ed4bfaca1a3a4ceb4ba",
       "version_major": 2,
       "version_minor": 0
      },
      "text/plain": [
       "Batches:   0%|          | 0/1 [00:00<?, ?it/s]"
      ]
     },
     "metadata": {},
     "output_type": "display_data"
    },
    {
     "data": {
      "application/vnd.jupyter.widget-view+json": {
       "model_id": "b6c3d43dfc9541dc942e9894890be043",
       "version_major": 2,
       "version_minor": 0
      },
      "text/plain": [
       "Batches:   0%|          | 0/1 [00:00<?, ?it/s]"
      ]
     },
     "metadata": {},
     "output_type": "display_data"
    },
    {
     "data": {
      "application/vnd.jupyter.widget-view+json": {
       "model_id": "6f74b140cfe44ba2ae4f644593d1a8f0",
       "version_major": 2,
       "version_minor": 0
      },
      "text/plain": [
       "Batches:   0%|          | 0/1 [00:00<?, ?it/s]"
      ]
     },
     "metadata": {},
     "output_type": "display_data"
    },
    {
     "data": {
      "application/vnd.jupyter.widget-view+json": {
       "model_id": "a6b1ef8fa6cc4be8b2361c6cb60991a4",
       "version_major": 2,
       "version_minor": 0
      },
      "text/plain": [
       "Batches:   0%|          | 0/1 [00:00<?, ?it/s]"
      ]
     },
     "metadata": {},
     "output_type": "display_data"
    },
    {
     "data": {
      "application/vnd.jupyter.widget-view+json": {
       "model_id": "0e9d09a8f4ed40b58d7c83cfae4b931c",
       "version_major": 2,
       "version_minor": 0
      },
      "text/plain": [
       "Batches:   0%|          | 0/1 [00:00<?, ?it/s]"
      ]
     },
     "metadata": {},
     "output_type": "display_data"
    },
    {
     "data": {
      "application/vnd.jupyter.widget-view+json": {
       "model_id": "ba8ee962c3ac4f8a94684b5a2339ec0c",
       "version_major": 2,
       "version_minor": 0
      },
      "text/plain": [
       "Batches:   0%|          | 0/1 [00:00<?, ?it/s]"
      ]
     },
     "metadata": {},
     "output_type": "display_data"
    },
    {
     "data": {
      "application/vnd.jupyter.widget-view+json": {
       "model_id": "cd7c0f59aa604b68a77833755ac29ca8",
       "version_major": 2,
       "version_minor": 0
      },
      "text/plain": [
       "Batches:   0%|          | 0/1 [00:00<?, ?it/s]"
      ]
     },
     "metadata": {},
     "output_type": "display_data"
    },
    {
     "data": {
      "application/vnd.jupyter.widget-view+json": {
       "model_id": "3293c4eaab7b411780f7b5371df62de0",
       "version_major": 2,
       "version_minor": 0
      },
      "text/plain": [
       "Batches:   0%|          | 0/1 [00:00<?, ?it/s]"
      ]
     },
     "metadata": {},
     "output_type": "display_data"
    },
    {
     "data": {
      "application/vnd.jupyter.widget-view+json": {
       "model_id": "21fd8fc9a8174a1eac515a78a19b7459",
       "version_major": 2,
       "version_minor": 0
      },
      "text/plain": [
       "Batches:   0%|          | 0/1 [00:00<?, ?it/s]"
      ]
     },
     "metadata": {},
     "output_type": "display_data"
    },
    {
     "data": {
      "application/vnd.jupyter.widget-view+json": {
       "model_id": "99ab0b11bf354f76ad73bf44f537fe3d",
       "version_major": 2,
       "version_minor": 0
      },
      "text/plain": [
       "Batches:   0%|          | 0/1 [00:00<?, ?it/s]"
      ]
     },
     "metadata": {},
     "output_type": "display_data"
    },
    {
     "data": {
      "application/vnd.jupyter.widget-view+json": {
       "model_id": "02845681c8bf48f6ad29abb4bec49435",
       "version_major": 2,
       "version_minor": 0
      },
      "text/plain": [
       "Batches:   0%|          | 0/1 [00:00<?, ?it/s]"
      ]
     },
     "metadata": {},
     "output_type": "display_data"
    },
    {
     "data": {
      "application/vnd.jupyter.widget-view+json": {
       "model_id": "9badf7ff07814e748d3423d64aa81a41",
       "version_major": 2,
       "version_minor": 0
      },
      "text/plain": [
       "Batches:   0%|          | 0/1 [00:00<?, ?it/s]"
      ]
     },
     "metadata": {},
     "output_type": "display_data"
    },
    {
     "data": {
      "application/vnd.jupyter.widget-view+json": {
       "model_id": "d37017ae130f4b09b5ba0070f50cbd43",
       "version_major": 2,
       "version_minor": 0
      },
      "text/plain": [
       "Batches:   0%|          | 0/1 [00:00<?, ?it/s]"
      ]
     },
     "metadata": {},
     "output_type": "display_data"
    },
    {
     "data": {
      "application/vnd.jupyter.widget-view+json": {
       "model_id": "ff9d742e7c504f50a0aa4c420e9c9c85",
       "version_major": 2,
       "version_minor": 0
      },
      "text/plain": [
       "Batches:   0%|          | 0/1 [00:00<?, ?it/s]"
      ]
     },
     "metadata": {},
     "output_type": "display_data"
    },
    {
     "data": {
      "application/vnd.jupyter.widget-view+json": {
       "model_id": "6d6532075bc54b51afb5ab1196b2c7eb",
       "version_major": 2,
       "version_minor": 0
      },
      "text/plain": [
       "Batches:   0%|          | 0/1 [00:00<?, ?it/s]"
      ]
     },
     "metadata": {},
     "output_type": "display_data"
    },
    {
     "data": {
      "application/vnd.jupyter.widget-view+json": {
       "model_id": "5e5f05a33d8c4dfa8caa43199ff86f76",
       "version_major": 2,
       "version_minor": 0
      },
      "text/plain": [
       "Batches:   0%|          | 0/1 [00:00<?, ?it/s]"
      ]
     },
     "metadata": {},
     "output_type": "display_data"
    },
    {
     "data": {
      "application/vnd.jupyter.widget-view+json": {
       "model_id": "3b4b1814224b45c1b01053a63f7c04ae",
       "version_major": 2,
       "version_minor": 0
      },
      "text/plain": [
       "Batches:   0%|          | 0/1 [00:00<?, ?it/s]"
      ]
     },
     "metadata": {},
     "output_type": "display_data"
    },
    {
     "data": {
      "application/vnd.jupyter.widget-view+json": {
       "model_id": "50bc044d85704c53b7428f42e12078c8",
       "version_major": 2,
       "version_minor": 0
      },
      "text/plain": [
       "Batches:   0%|          | 0/1 [00:00<?, ?it/s]"
      ]
     },
     "metadata": {},
     "output_type": "display_data"
    },
    {
     "data": {
      "application/vnd.jupyter.widget-view+json": {
       "model_id": "a0aa4976147c4060842fec9d8f575ecf",
       "version_major": 2,
       "version_minor": 0
      },
      "text/plain": [
       "Batches:   0%|          | 0/1 [00:00<?, ?it/s]"
      ]
     },
     "metadata": {},
     "output_type": "display_data"
    },
    {
     "data": {
      "application/vnd.jupyter.widget-view+json": {
       "model_id": "e69ba3e788574bd7bc559c19289a1b4b",
       "version_major": 2,
       "version_minor": 0
      },
      "text/plain": [
       "Batches:   0%|          | 0/1 [00:00<?, ?it/s]"
      ]
     },
     "metadata": {},
     "output_type": "display_data"
    },
    {
     "data": {
      "application/vnd.jupyter.widget-view+json": {
       "model_id": "5ae71277c6a84f33958afda8cace0765",
       "version_major": 2,
       "version_minor": 0
      },
      "text/plain": [
       "Batches:   0%|          | 0/1 [00:00<?, ?it/s]"
      ]
     },
     "metadata": {},
     "output_type": "display_data"
    },
    {
     "data": {
      "application/vnd.jupyter.widget-view+json": {
       "model_id": "6dafbfc3409d452694d14c8ce974e268",
       "version_major": 2,
       "version_minor": 0
      },
      "text/plain": [
       "Batches:   0%|          | 0/1 [00:00<?, ?it/s]"
      ]
     },
     "metadata": {},
     "output_type": "display_data"
    },
    {
     "data": {
      "application/vnd.jupyter.widget-view+json": {
       "model_id": "9acc796c7f9a4ab9bdc1cfc8714c7c03",
       "version_major": 2,
       "version_minor": 0
      },
      "text/plain": [
       "Batches:   0%|          | 0/1 [00:00<?, ?it/s]"
      ]
     },
     "metadata": {},
     "output_type": "display_data"
    },
    {
     "data": {
      "application/vnd.jupyter.widget-view+json": {
       "model_id": "b470e296914c4363a0ca70b8323eaf88",
       "version_major": 2,
       "version_minor": 0
      },
      "text/plain": [
       "Batches:   0%|          | 0/1 [00:00<?, ?it/s]"
      ]
     },
     "metadata": {},
     "output_type": "display_data"
    },
    {
     "data": {
      "application/vnd.jupyter.widget-view+json": {
       "model_id": "2a00e88fa0164921801b92dca91a8558",
       "version_major": 2,
       "version_minor": 0
      },
      "text/plain": [
       "Batches:   0%|          | 0/1 [00:00<?, ?it/s]"
      ]
     },
     "metadata": {},
     "output_type": "display_data"
    },
    {
     "data": {
      "application/vnd.jupyter.widget-view+json": {
       "model_id": "63e4efc5639e4ff1ab844feccc319f24",
       "version_major": 2,
       "version_minor": 0
      },
      "text/plain": [
       "Batches:   0%|          | 0/1 [00:00<?, ?it/s]"
      ]
     },
     "metadata": {},
     "output_type": "display_data"
    },
    {
     "data": {
      "application/vnd.jupyter.widget-view+json": {
       "model_id": "dd5b1d0ed1754715b04e090a31cfdb8c",
       "version_major": 2,
       "version_minor": 0
      },
      "text/plain": [
       "Batches:   0%|          | 0/1 [00:00<?, ?it/s]"
      ]
     },
     "metadata": {},
     "output_type": "display_data"
    },
    {
     "data": {
      "application/vnd.jupyter.widget-view+json": {
       "model_id": "d07b239192de490faaad84dcaedb8ed8",
       "version_major": 2,
       "version_minor": 0
      },
      "text/plain": [
       "Batches:   0%|          | 0/1 [00:00<?, ?it/s]"
      ]
     },
     "metadata": {},
     "output_type": "display_data"
    },
    {
     "data": {
      "application/vnd.jupyter.widget-view+json": {
       "model_id": "7b667b5ca4ef48e490ab7949e958a087",
       "version_major": 2,
       "version_minor": 0
      },
      "text/plain": [
       "Batches:   0%|          | 0/1 [00:00<?, ?it/s]"
      ]
     },
     "metadata": {},
     "output_type": "display_data"
    },
    {
     "data": {
      "application/vnd.jupyter.widget-view+json": {
       "model_id": "6c8ec5b1ad56445a8188c356876c5f85",
       "version_major": 2,
       "version_minor": 0
      },
      "text/plain": [
       "Batches:   0%|          | 0/1 [00:00<?, ?it/s]"
      ]
     },
     "metadata": {},
     "output_type": "display_data"
    },
    {
     "data": {
      "application/vnd.jupyter.widget-view+json": {
       "model_id": "d44242f66b5446dbbfa1701f6ffac06a",
       "version_major": 2,
       "version_minor": 0
      },
      "text/plain": [
       "Batches:   0%|          | 0/1 [00:00<?, ?it/s]"
      ]
     },
     "metadata": {},
     "output_type": "display_data"
    },
    {
     "data": {
      "application/vnd.jupyter.widget-view+json": {
       "model_id": "b9bbeb2df02d4507b18a912a6525ad31",
       "version_major": 2,
       "version_minor": 0
      },
      "text/plain": [
       "Batches:   0%|          | 0/1 [00:00<?, ?it/s]"
      ]
     },
     "metadata": {},
     "output_type": "display_data"
    },
    {
     "data": {
      "application/vnd.jupyter.widget-view+json": {
       "model_id": "b258a9bf70c24ae4a7fc67f9abd413d6",
       "version_major": 2,
       "version_minor": 0
      },
      "text/plain": [
       "Batches:   0%|          | 0/1 [00:00<?, ?it/s]"
      ]
     },
     "metadata": {},
     "output_type": "display_data"
    },
    {
     "data": {
      "application/vnd.jupyter.widget-view+json": {
       "model_id": "2bbaef83597145f08c0a983b5b0b2d9a",
       "version_major": 2,
       "version_minor": 0
      },
      "text/plain": [
       "Batches:   0%|          | 0/1 [00:00<?, ?it/s]"
      ]
     },
     "metadata": {},
     "output_type": "display_data"
    },
    {
     "data": {
      "application/vnd.jupyter.widget-view+json": {
       "model_id": "d61dc77dd8084c988476d7c86597ce0b",
       "version_major": 2,
       "version_minor": 0
      },
      "text/plain": [
       "Batches:   0%|          | 0/1 [00:00<?, ?it/s]"
      ]
     },
     "metadata": {},
     "output_type": "display_data"
    },
    {
     "data": {
      "application/vnd.jupyter.widget-view+json": {
       "model_id": "96367a5481fe41c1b9da324387d38b49",
       "version_major": 2,
       "version_minor": 0
      },
      "text/plain": [
       "Batches:   0%|          | 0/1 [00:00<?, ?it/s]"
      ]
     },
     "metadata": {},
     "output_type": "display_data"
    },
    {
     "data": {
      "application/vnd.jupyter.widget-view+json": {
       "model_id": "9ee44a9ab09a489ba8c014ef3cdf047f",
       "version_major": 2,
       "version_minor": 0
      },
      "text/plain": [
       "Batches:   0%|          | 0/1 [00:00<?, ?it/s]"
      ]
     },
     "metadata": {},
     "output_type": "display_data"
    },
    {
     "data": {
      "application/vnd.jupyter.widget-view+json": {
       "model_id": "74f22bfafa784d45b8e8e03b889e195e",
       "version_major": 2,
       "version_minor": 0
      },
      "text/plain": [
       "Batches:   0%|          | 0/1 [00:00<?, ?it/s]"
      ]
     },
     "metadata": {},
     "output_type": "display_data"
    },
    {
     "data": {
      "application/vnd.jupyter.widget-view+json": {
       "model_id": "015074b41e844c41b48716027f19ec98",
       "version_major": 2,
       "version_minor": 0
      },
      "text/plain": [
       "Batches:   0%|          | 0/1 [00:00<?, ?it/s]"
      ]
     },
     "metadata": {},
     "output_type": "display_data"
    },
    {
     "data": {
      "application/vnd.jupyter.widget-view+json": {
       "model_id": "d5c4250a95774067a4cc90a146285037",
       "version_major": 2,
       "version_minor": 0
      },
      "text/plain": [
       "Batches:   0%|          | 0/1 [00:00<?, ?it/s]"
      ]
     },
     "metadata": {},
     "output_type": "display_data"
    },
    {
     "data": {
      "application/vnd.jupyter.widget-view+json": {
       "model_id": "18615e5916c546179f1c5cf053c30440",
       "version_major": 2,
       "version_minor": 0
      },
      "text/plain": [
       "Batches:   0%|          | 0/1 [00:00<?, ?it/s]"
      ]
     },
     "metadata": {},
     "output_type": "display_data"
    },
    {
     "data": {
      "application/vnd.jupyter.widget-view+json": {
       "model_id": "7304b8efc32744b78ad5d67118788cdd",
       "version_major": 2,
       "version_minor": 0
      },
      "text/plain": [
       "Batches:   0%|          | 0/1 [00:00<?, ?it/s]"
      ]
     },
     "metadata": {},
     "output_type": "display_data"
    },
    {
     "data": {
      "application/vnd.jupyter.widget-view+json": {
       "model_id": "359fadbeed6e4150adbb565cbc920e15",
       "version_major": 2,
       "version_minor": 0
      },
      "text/plain": [
       "Batches:   0%|          | 0/1 [00:00<?, ?it/s]"
      ]
     },
     "metadata": {},
     "output_type": "display_data"
    },
    {
     "data": {
      "application/vnd.jupyter.widget-view+json": {
       "model_id": "11a52425dadf421a933b912ad7933fe1",
       "version_major": 2,
       "version_minor": 0
      },
      "text/plain": [
       "Batches:   0%|          | 0/1 [00:00<?, ?it/s]"
      ]
     },
     "metadata": {},
     "output_type": "display_data"
    },
    {
     "data": {
      "application/vnd.jupyter.widget-view+json": {
       "model_id": "d3d5c7668c6249a3861dec4fdf377324",
       "version_major": 2,
       "version_minor": 0
      },
      "text/plain": [
       "Batches:   0%|          | 0/1 [00:00<?, ?it/s]"
      ]
     },
     "metadata": {},
     "output_type": "display_data"
    },
    {
     "data": {
      "application/vnd.jupyter.widget-view+json": {
       "model_id": "8fc606963fb84f52b47d83af074007db",
       "version_major": 2,
       "version_minor": 0
      },
      "text/plain": [
       "Batches:   0%|          | 0/1 [00:00<?, ?it/s]"
      ]
     },
     "metadata": {},
     "output_type": "display_data"
    },
    {
     "data": {
      "application/vnd.jupyter.widget-view+json": {
       "model_id": "7b1c214c0fc749b6afce2f8c5393c464",
       "version_major": 2,
       "version_minor": 0
      },
      "text/plain": [
       "Batches:   0%|          | 0/1 [00:00<?, ?it/s]"
      ]
     },
     "metadata": {},
     "output_type": "display_data"
    },
    {
     "data": {
      "application/vnd.jupyter.widget-view+json": {
       "model_id": "1e9db7b2845248cfa215b20ee6b8cae9",
       "version_major": 2,
       "version_minor": 0
      },
      "text/plain": [
       "Batches:   0%|          | 0/1 [00:00<?, ?it/s]"
      ]
     },
     "metadata": {},
     "output_type": "display_data"
    },
    {
     "data": {
      "application/vnd.jupyter.widget-view+json": {
       "model_id": "b3d682c55c9446c08ab43fc52a670135",
       "version_major": 2,
       "version_minor": 0
      },
      "text/plain": [
       "Batches:   0%|          | 0/1 [00:00<?, ?it/s]"
      ]
     },
     "metadata": {},
     "output_type": "display_data"
    },
    {
     "data": {
      "application/vnd.jupyter.widget-view+json": {
       "model_id": "751c1df1200441b783185f61a988a154",
       "version_major": 2,
       "version_minor": 0
      },
      "text/plain": [
       "Batches:   0%|          | 0/1 [00:00<?, ?it/s]"
      ]
     },
     "metadata": {},
     "output_type": "display_data"
    },
    {
     "data": {
      "application/vnd.jupyter.widget-view+json": {
       "model_id": "dc23a197195c4adb9c2728dc30b37ab7",
       "version_major": 2,
       "version_minor": 0
      },
      "text/plain": [
       "Batches:   0%|          | 0/1 [00:00<?, ?it/s]"
      ]
     },
     "metadata": {},
     "output_type": "display_data"
    },
    {
     "data": {
      "application/vnd.jupyter.widget-view+json": {
       "model_id": "1f76363e71f84d3c8ba41de12fb3639c",
       "version_major": 2,
       "version_minor": 0
      },
      "text/plain": [
       "Batches:   0%|          | 0/1 [00:00<?, ?it/s]"
      ]
     },
     "metadata": {},
     "output_type": "display_data"
    },
    {
     "data": {
      "application/vnd.jupyter.widget-view+json": {
       "model_id": "b207b6c98ceb4d3ebbabc5ac6a4e4e6a",
       "version_major": 2,
       "version_minor": 0
      },
      "text/plain": [
       "Batches:   0%|          | 0/1 [00:00<?, ?it/s]"
      ]
     },
     "metadata": {},
     "output_type": "display_data"
    },
    {
     "data": {
      "application/vnd.jupyter.widget-view+json": {
       "model_id": "5dfdf832495e4bee8d730652daf4607e",
       "version_major": 2,
       "version_minor": 0
      },
      "text/plain": [
       "Batches:   0%|          | 0/1 [00:00<?, ?it/s]"
      ]
     },
     "metadata": {},
     "output_type": "display_data"
    },
    {
     "data": {
      "application/vnd.jupyter.widget-view+json": {
       "model_id": "a7ee1eee1730437889851b59ca5be6ba",
       "version_major": 2,
       "version_minor": 0
      },
      "text/plain": [
       "Batches:   0%|          | 0/1 [00:00<?, ?it/s]"
      ]
     },
     "metadata": {},
     "output_type": "display_data"
    },
    {
     "data": {
      "application/vnd.jupyter.widget-view+json": {
       "model_id": "ebbfecb91c6d4bb498acf130322db220",
       "version_major": 2,
       "version_minor": 0
      },
      "text/plain": [
       "Batches:   0%|          | 0/1 [00:00<?, ?it/s]"
      ]
     },
     "metadata": {},
     "output_type": "display_data"
    },
    {
     "data": {
      "application/vnd.jupyter.widget-view+json": {
       "model_id": "cc9574ed487c472cba8535320c8f1a62",
       "version_major": 2,
       "version_minor": 0
      },
      "text/plain": [
       "Batches:   0%|          | 0/1 [00:00<?, ?it/s]"
      ]
     },
     "metadata": {},
     "output_type": "display_data"
    },
    {
     "data": {
      "application/vnd.jupyter.widget-view+json": {
       "model_id": "c30958ec8a5b4bce94206356af00face",
       "version_major": 2,
       "version_minor": 0
      },
      "text/plain": [
       "Batches:   0%|          | 0/1 [00:00<?, ?it/s]"
      ]
     },
     "metadata": {},
     "output_type": "display_data"
    },
    {
     "data": {
      "application/vnd.jupyter.widget-view+json": {
       "model_id": "f146196f35e2466d84f569658a2e2dd1",
       "version_major": 2,
       "version_minor": 0
      },
      "text/plain": [
       "Batches:   0%|          | 0/1 [00:00<?, ?it/s]"
      ]
     },
     "metadata": {},
     "output_type": "display_data"
    },
    {
     "data": {
      "application/vnd.jupyter.widget-view+json": {
       "model_id": "7d049cd2fae045feafab886aa61a6c06",
       "version_major": 2,
       "version_minor": 0
      },
      "text/plain": [
       "Batches:   0%|          | 0/1 [00:00<?, ?it/s]"
      ]
     },
     "metadata": {},
     "output_type": "display_data"
    },
    {
     "data": {
      "application/vnd.jupyter.widget-view+json": {
       "model_id": "114dfd825b474096afb863c2f2447ad5",
       "version_major": 2,
       "version_minor": 0
      },
      "text/plain": [
       "Batches:   0%|          | 0/1 [00:00<?, ?it/s]"
      ]
     },
     "metadata": {},
     "output_type": "display_data"
    },
    {
     "data": {
      "application/vnd.jupyter.widget-view+json": {
       "model_id": "953b9cbcc76e42ccb156ada09e33e660",
       "version_major": 2,
       "version_minor": 0
      },
      "text/plain": [
       "Batches:   0%|          | 0/1 [00:00<?, ?it/s]"
      ]
     },
     "metadata": {},
     "output_type": "display_data"
    },
    {
     "data": {
      "application/vnd.jupyter.widget-view+json": {
       "model_id": "b93703b598cc4cf8bbaa6262a1559c9b",
       "version_major": 2,
       "version_minor": 0
      },
      "text/plain": [
       "Batches:   0%|          | 0/1 [00:00<?, ?it/s]"
      ]
     },
     "metadata": {},
     "output_type": "display_data"
    },
    {
     "data": {
      "application/vnd.jupyter.widget-view+json": {
       "model_id": "a19f575c7fb74ce0a491add3e48242d1",
       "version_major": 2,
       "version_minor": 0
      },
      "text/plain": [
       "Batches:   0%|          | 0/1 [00:00<?, ?it/s]"
      ]
     },
     "metadata": {},
     "output_type": "display_data"
    },
    {
     "data": {
      "application/vnd.jupyter.widget-view+json": {
       "model_id": "f9a92ca7c0cd45fabb5cd46c09703122",
       "version_major": 2,
       "version_minor": 0
      },
      "text/plain": [
       "Batches:   0%|          | 0/1 [00:00<?, ?it/s]"
      ]
     },
     "metadata": {},
     "output_type": "display_data"
    },
    {
     "data": {
      "application/vnd.jupyter.widget-view+json": {
       "model_id": "668ea52eeb56472280ea842ca731afe2",
       "version_major": 2,
       "version_minor": 0
      },
      "text/plain": [
       "Batches:   0%|          | 0/1 [00:00<?, ?it/s]"
      ]
     },
     "metadata": {},
     "output_type": "display_data"
    },
    {
     "data": {
      "application/vnd.jupyter.widget-view+json": {
       "model_id": "f530f3e09839448ebf7dcc1022e43a85",
       "version_major": 2,
       "version_minor": 0
      },
      "text/plain": [
       "Batches:   0%|          | 0/1 [00:00<?, ?it/s]"
      ]
     },
     "metadata": {},
     "output_type": "display_data"
    },
    {
     "data": {
      "application/vnd.jupyter.widget-view+json": {
       "model_id": "520d3d94c34641f1a0dc215e39024c5a",
       "version_major": 2,
       "version_minor": 0
      },
      "text/plain": [
       "Batches:   0%|          | 0/1 [00:00<?, ?it/s]"
      ]
     },
     "metadata": {},
     "output_type": "display_data"
    },
    {
     "data": {
      "application/vnd.jupyter.widget-view+json": {
       "model_id": "bc7619693cde4bab9c6dce346b4ff549",
       "version_major": 2,
       "version_minor": 0
      },
      "text/plain": [
       "Batches:   0%|          | 0/1 [00:00<?, ?it/s]"
      ]
     },
     "metadata": {},
     "output_type": "display_data"
    },
    {
     "data": {
      "application/vnd.jupyter.widget-view+json": {
       "model_id": "3c0bc068f0a84096b30638fe189ebf12",
       "version_major": 2,
       "version_minor": 0
      },
      "text/plain": [
       "Batches:   0%|          | 0/1 [00:00<?, ?it/s]"
      ]
     },
     "metadata": {},
     "output_type": "display_data"
    },
    {
     "data": {
      "application/vnd.jupyter.widget-view+json": {
       "model_id": "5b721fc4133d4236a434627594ab57fd",
       "version_major": 2,
       "version_minor": 0
      },
      "text/plain": [
       "Batches:   0%|          | 0/1 [00:00<?, ?it/s]"
      ]
     },
     "metadata": {},
     "output_type": "display_data"
    },
    {
     "data": {
      "application/vnd.jupyter.widget-view+json": {
       "model_id": "9d6e434fed904568a607927a4ca80430",
       "version_major": 2,
       "version_minor": 0
      },
      "text/plain": [
       "Batches:   0%|          | 0/1 [00:00<?, ?it/s]"
      ]
     },
     "metadata": {},
     "output_type": "display_data"
    },
    {
     "data": {
      "application/vnd.jupyter.widget-view+json": {
       "model_id": "cceb2bf75ceb4afba84cbb9e00a0aa03",
       "version_major": 2,
       "version_minor": 0
      },
      "text/plain": [
       "Batches:   0%|          | 0/1 [00:00<?, ?it/s]"
      ]
     },
     "metadata": {},
     "output_type": "display_data"
    },
    {
     "data": {
      "application/vnd.jupyter.widget-view+json": {
       "model_id": "bb64d6c42b0f4c4f88aa5fc4d4e0dfc2",
       "version_major": 2,
       "version_minor": 0
      },
      "text/plain": [
       "Batches:   0%|          | 0/1 [00:00<?, ?it/s]"
      ]
     },
     "metadata": {},
     "output_type": "display_data"
    },
    {
     "data": {
      "application/vnd.jupyter.widget-view+json": {
       "model_id": "0e7c38a193634824a7562101fdf0f967",
       "version_major": 2,
       "version_minor": 0
      },
      "text/plain": [
       "Batches:   0%|          | 0/1 [00:00<?, ?it/s]"
      ]
     },
     "metadata": {},
     "output_type": "display_data"
    },
    {
     "data": {
      "application/vnd.jupyter.widget-view+json": {
       "model_id": "0827decb01dd49fb924e8dadea62570f",
       "version_major": 2,
       "version_minor": 0
      },
      "text/plain": [
       "Batches:   0%|          | 0/1 [00:00<?, ?it/s]"
      ]
     },
     "metadata": {},
     "output_type": "display_data"
    },
    {
     "data": {
      "application/vnd.jupyter.widget-view+json": {
       "model_id": "8cf50f6c0145457ebd1d5c0f5ce3d44b",
       "version_major": 2,
       "version_minor": 0
      },
      "text/plain": [
       "Batches:   0%|          | 0/1 [00:00<?, ?it/s]"
      ]
     },
     "metadata": {},
     "output_type": "display_data"
    },
    {
     "data": {
      "application/vnd.jupyter.widget-view+json": {
       "model_id": "df7ae7d5030e4874bda2e899054b32e2",
       "version_major": 2,
       "version_minor": 0
      },
      "text/plain": [
       "Batches:   0%|          | 0/1 [00:00<?, ?it/s]"
      ]
     },
     "metadata": {},
     "output_type": "display_data"
    },
    {
     "data": {
      "application/vnd.jupyter.widget-view+json": {
       "model_id": "5ab6e85c322e4f4995368d2178d62980",
       "version_major": 2,
       "version_minor": 0
      },
      "text/plain": [
       "Batches:   0%|          | 0/1 [00:00<?, ?it/s]"
      ]
     },
     "metadata": {},
     "output_type": "display_data"
    },
    {
     "data": {
      "application/vnd.jupyter.widget-view+json": {
       "model_id": "641e7fbc572040fba1806a5717ba5426",
       "version_major": 2,
       "version_minor": 0
      },
      "text/plain": [
       "Batches:   0%|          | 0/1 [00:00<?, ?it/s]"
      ]
     },
     "metadata": {},
     "output_type": "display_data"
    },
    {
     "data": {
      "application/vnd.jupyter.widget-view+json": {
       "model_id": "e7dc4d0c466046ffa33e696d83a59c7a",
       "version_major": 2,
       "version_minor": 0
      },
      "text/plain": [
       "Batches:   0%|          | 0/1 [00:00<?, ?it/s]"
      ]
     },
     "metadata": {},
     "output_type": "display_data"
    },
    {
     "data": {
      "application/vnd.jupyter.widget-view+json": {
       "model_id": "b6e18095881d46a9bc2a4c147dd45d21",
       "version_major": 2,
       "version_minor": 0
      },
      "text/plain": [
       "Batches:   0%|          | 0/1 [00:00<?, ?it/s]"
      ]
     },
     "metadata": {},
     "output_type": "display_data"
    },
    {
     "data": {
      "application/vnd.jupyter.widget-view+json": {
       "model_id": "1c50d687e77d4213b6278e6b20af5f27",
       "version_major": 2,
       "version_minor": 0
      },
      "text/plain": [
       "Batches:   0%|          | 0/1 [00:00<?, ?it/s]"
      ]
     },
     "metadata": {},
     "output_type": "display_data"
    },
    {
     "data": {
      "application/vnd.jupyter.widget-view+json": {
       "model_id": "b820065c653841c797dfc2e339a6121b",
       "version_major": 2,
       "version_minor": 0
      },
      "text/plain": [
       "Batches:   0%|          | 0/1 [00:00<?, ?it/s]"
      ]
     },
     "metadata": {},
     "output_type": "display_data"
    },
    {
     "data": {
      "application/vnd.jupyter.widget-view+json": {
       "model_id": "7619b4d317e84a75bf336330e768a9ee",
       "version_major": 2,
       "version_minor": 0
      },
      "text/plain": [
       "Batches:   0%|          | 0/1 [00:00<?, ?it/s]"
      ]
     },
     "metadata": {},
     "output_type": "display_data"
    },
    {
     "data": {
      "application/vnd.jupyter.widget-view+json": {
       "model_id": "31ddb5a3c42d4e0a96a073d77fde9e92",
       "version_major": 2,
       "version_minor": 0
      },
      "text/plain": [
       "Batches:   0%|          | 0/1 [00:00<?, ?it/s]"
      ]
     },
     "metadata": {},
     "output_type": "display_data"
    },
    {
     "data": {
      "application/vnd.jupyter.widget-view+json": {
       "model_id": "3dce404ed23f43af82381573a54bc43a",
       "version_major": 2,
       "version_minor": 0
      },
      "text/plain": [
       "Batches:   0%|          | 0/1 [00:00<?, ?it/s]"
      ]
     },
     "metadata": {},
     "output_type": "display_data"
    },
    {
     "data": {
      "application/vnd.jupyter.widget-view+json": {
       "model_id": "84e4324ff2cf4ec78a51e24e86bea6d8",
       "version_major": 2,
       "version_minor": 0
      },
      "text/plain": [
       "Batches:   0%|          | 0/1 [00:00<?, ?it/s]"
      ]
     },
     "metadata": {},
     "output_type": "display_data"
    },
    {
     "data": {
      "application/vnd.jupyter.widget-view+json": {
       "model_id": "1d73465f09d643b299d25953faf7f44c",
       "version_major": 2,
       "version_minor": 0
      },
      "text/plain": [
       "Batches:   0%|          | 0/1 [00:00<?, ?it/s]"
      ]
     },
     "metadata": {},
     "output_type": "display_data"
    },
    {
     "data": {
      "application/vnd.jupyter.widget-view+json": {
       "model_id": "0a1c4be19a0c48a5b461e1d25f8b2149",
       "version_major": 2,
       "version_minor": 0
      },
      "text/plain": [
       "Batches:   0%|          | 0/1 [00:00<?, ?it/s]"
      ]
     },
     "metadata": {},
     "output_type": "display_data"
    },
    {
     "data": {
      "application/vnd.jupyter.widget-view+json": {
       "model_id": "5b879bfce488475ba523fc4677bde34b",
       "version_major": 2,
       "version_minor": 0
      },
      "text/plain": [
       "Batches:   0%|          | 0/1 [00:00<?, ?it/s]"
      ]
     },
     "metadata": {},
     "output_type": "display_data"
    },
    {
     "data": {
      "application/vnd.jupyter.widget-view+json": {
       "model_id": "22b980e214044e8bb0335857962b6468",
       "version_major": 2,
       "version_minor": 0
      },
      "text/plain": [
       "Batches:   0%|          | 0/1 [00:00<?, ?it/s]"
      ]
     },
     "metadata": {},
     "output_type": "display_data"
    },
    {
     "data": {
      "application/vnd.jupyter.widget-view+json": {
       "model_id": "d827d94c4c4c4a7595bb0e7d90fb8d37",
       "version_major": 2,
       "version_minor": 0
      },
      "text/plain": [
       "Batches:   0%|          | 0/1 [00:00<?, ?it/s]"
      ]
     },
     "metadata": {},
     "output_type": "display_data"
    },
    {
     "data": {
      "application/vnd.jupyter.widget-view+json": {
       "model_id": "1a68cabe76a641af8c9626b9f0154090",
       "version_major": 2,
       "version_minor": 0
      },
      "text/plain": [
       "Batches:   0%|          | 0/1 [00:00<?, ?it/s]"
      ]
     },
     "metadata": {},
     "output_type": "display_data"
    },
    {
     "data": {
      "application/vnd.jupyter.widget-view+json": {
       "model_id": "ce7b4cba7c0c44f1b52db6f71f2a6ff5",
       "version_major": 2,
       "version_minor": 0
      },
      "text/plain": [
       "Batches:   0%|          | 0/1 [00:00<?, ?it/s]"
      ]
     },
     "metadata": {},
     "output_type": "display_data"
    },
    {
     "data": {
      "application/vnd.jupyter.widget-view+json": {
       "model_id": "d8d58d4ed097401293bcdb5524ecae1e",
       "version_major": 2,
       "version_minor": 0
      },
      "text/plain": [
       "Batches:   0%|          | 0/1 [00:00<?, ?it/s]"
      ]
     },
     "metadata": {},
     "output_type": "display_data"
    },
    {
     "data": {
      "application/vnd.jupyter.widget-view+json": {
       "model_id": "e76170d9f0204069b36f83d9e19654d0",
       "version_major": 2,
       "version_minor": 0
      },
      "text/plain": [
       "Batches:   0%|          | 0/1 [00:00<?, ?it/s]"
      ]
     },
     "metadata": {},
     "output_type": "display_data"
    },
    {
     "data": {
      "application/vnd.jupyter.widget-view+json": {
       "model_id": "f5d2e06fd3f64546bdae63cde0457578",
       "version_major": 2,
       "version_minor": 0
      },
      "text/plain": [
       "Batches:   0%|          | 0/1 [00:00<?, ?it/s]"
      ]
     },
     "metadata": {},
     "output_type": "display_data"
    },
    {
     "data": {
      "application/vnd.jupyter.widget-view+json": {
       "model_id": "786d4e537170428480f099a66cb2986f",
       "version_major": 2,
       "version_minor": 0
      },
      "text/plain": [
       "Batches:   0%|          | 0/1 [00:00<?, ?it/s]"
      ]
     },
     "metadata": {},
     "output_type": "display_data"
    },
    {
     "data": {
      "application/vnd.jupyter.widget-view+json": {
       "model_id": "f853156fdfd64ac89c45f3fb6512e35a",
       "version_major": 2,
       "version_minor": 0
      },
      "text/plain": [
       "Batches:   0%|          | 0/1 [00:00<?, ?it/s]"
      ]
     },
     "metadata": {},
     "output_type": "display_data"
    },
    {
     "data": {
      "application/vnd.jupyter.widget-view+json": {
       "model_id": "e3d70f51b27e4e91beb094d9b80bd216",
       "version_major": 2,
       "version_minor": 0
      },
      "text/plain": [
       "Batches:   0%|          | 0/1 [00:00<?, ?it/s]"
      ]
     },
     "metadata": {},
     "output_type": "display_data"
    },
    {
     "data": {
      "application/vnd.jupyter.widget-view+json": {
       "model_id": "a7fb389ed00d4ad69ccdf12bb5035875",
       "version_major": 2,
       "version_minor": 0
      },
      "text/plain": [
       "Batches:   0%|          | 0/1 [00:00<?, ?it/s]"
      ]
     },
     "metadata": {},
     "output_type": "display_data"
    },
    {
     "data": {
      "application/vnd.jupyter.widget-view+json": {
       "model_id": "759031a2291241019751bbd771c1cad1",
       "version_major": 2,
       "version_minor": 0
      },
      "text/plain": [
       "Batches:   0%|          | 0/1 [00:00<?, ?it/s]"
      ]
     },
     "metadata": {},
     "output_type": "display_data"
    },
    {
     "data": {
      "application/vnd.jupyter.widget-view+json": {
       "model_id": "d95ba49e7c044b5d846b0168c37d0e96",
       "version_major": 2,
       "version_minor": 0
      },
      "text/plain": [
       "Batches:   0%|          | 0/1 [00:00<?, ?it/s]"
      ]
     },
     "metadata": {},
     "output_type": "display_data"
    },
    {
     "data": {
      "application/vnd.jupyter.widget-view+json": {
       "model_id": "4dcb7c662ef3498cb8192da55710b0ab",
       "version_major": 2,
       "version_minor": 0
      },
      "text/plain": [
       "Batches:   0%|          | 0/1 [00:00<?, ?it/s]"
      ]
     },
     "metadata": {},
     "output_type": "display_data"
    },
    {
     "data": {
      "application/vnd.jupyter.widget-view+json": {
       "model_id": "642e43bad1664a1db51fc157f39b946b",
       "version_major": 2,
       "version_minor": 0
      },
      "text/plain": [
       "Batches:   0%|          | 0/1 [00:00<?, ?it/s]"
      ]
     },
     "metadata": {},
     "output_type": "display_data"
    },
    {
     "data": {
      "application/vnd.jupyter.widget-view+json": {
       "model_id": "a3973aec790f4f6882349d8285ebe852",
       "version_major": 2,
       "version_minor": 0
      },
      "text/plain": [
       "Batches:   0%|          | 0/1 [00:00<?, ?it/s]"
      ]
     },
     "metadata": {},
     "output_type": "display_data"
    },
    {
     "data": {
      "application/vnd.jupyter.widget-view+json": {
       "model_id": "abea9254a1a44817a629092f521c97aa",
       "version_major": 2,
       "version_minor": 0
      },
      "text/plain": [
       "Batches:   0%|          | 0/1 [00:00<?, ?it/s]"
      ]
     },
     "metadata": {},
     "output_type": "display_data"
    },
    {
     "data": {
      "application/vnd.jupyter.widget-view+json": {
       "model_id": "3e5894ae77074a0da143beb9c8fb7212",
       "version_major": 2,
       "version_minor": 0
      },
      "text/plain": [
       "Batches:   0%|          | 0/1 [00:00<?, ?it/s]"
      ]
     },
     "metadata": {},
     "output_type": "display_data"
    },
    {
     "data": {
      "application/vnd.jupyter.widget-view+json": {
       "model_id": "3a9ec28d2bfb4f5da8985f7e3b941f98",
       "version_major": 2,
       "version_minor": 0
      },
      "text/plain": [
       "Batches:   0%|          | 0/1 [00:00<?, ?it/s]"
      ]
     },
     "metadata": {},
     "output_type": "display_data"
    },
    {
     "data": {
      "application/vnd.jupyter.widget-view+json": {
       "model_id": "c0a1da6a8d124ff2979b342101a2f0c3",
       "version_major": 2,
       "version_minor": 0
      },
      "text/plain": [
       "Batches:   0%|          | 0/1 [00:00<?, ?it/s]"
      ]
     },
     "metadata": {},
     "output_type": "display_data"
    },
    {
     "data": {
      "application/vnd.jupyter.widget-view+json": {
       "model_id": "7660c1a63acf44509a0630ffb3b80cff",
       "version_major": 2,
       "version_minor": 0
      },
      "text/plain": [
       "Batches:   0%|          | 0/1 [00:00<?, ?it/s]"
      ]
     },
     "metadata": {},
     "output_type": "display_data"
    },
    {
     "data": {
      "application/vnd.jupyter.widget-view+json": {
       "model_id": "c1655b00f667461e9084dd525fc6a890",
       "version_major": 2,
       "version_minor": 0
      },
      "text/plain": [
       "Batches:   0%|          | 0/1 [00:00<?, ?it/s]"
      ]
     },
     "metadata": {},
     "output_type": "display_data"
    },
    {
     "data": {
      "application/vnd.jupyter.widget-view+json": {
       "model_id": "8a4b2c2be2b449bcaa6d0c6228c03d2d",
       "version_major": 2,
       "version_minor": 0
      },
      "text/plain": [
       "Batches:   0%|          | 0/1 [00:00<?, ?it/s]"
      ]
     },
     "metadata": {},
     "output_type": "display_data"
    },
    {
     "data": {
      "application/vnd.jupyter.widget-view+json": {
       "model_id": "fc535e855c904af08e33c1e76f8dc738",
       "version_major": 2,
       "version_minor": 0
      },
      "text/plain": [
       "Batches:   0%|          | 0/1 [00:00<?, ?it/s]"
      ]
     },
     "metadata": {},
     "output_type": "display_data"
    },
    {
     "data": {
      "application/vnd.jupyter.widget-view+json": {
       "model_id": "aff9e5436f454367bed0fa59925a967d",
       "version_major": 2,
       "version_minor": 0
      },
      "text/plain": [
       "Batches:   0%|          | 0/1 [00:00<?, ?it/s]"
      ]
     },
     "metadata": {},
     "output_type": "display_data"
    },
    {
     "data": {
      "application/vnd.jupyter.widget-view+json": {
       "model_id": "4b187ab0c3004fcfb48b7fa8b3e62894",
       "version_major": 2,
       "version_minor": 0
      },
      "text/plain": [
       "Batches:   0%|          | 0/1 [00:00<?, ?it/s]"
      ]
     },
     "metadata": {},
     "output_type": "display_data"
    },
    {
     "data": {
      "application/vnd.jupyter.widget-view+json": {
       "model_id": "7e26ef1a3405445d9a6c71139a8bb5de",
       "version_major": 2,
       "version_minor": 0
      },
      "text/plain": [
       "Batches:   0%|          | 0/1 [00:00<?, ?it/s]"
      ]
     },
     "metadata": {},
     "output_type": "display_data"
    },
    {
     "data": {
      "application/vnd.jupyter.widget-view+json": {
       "model_id": "2f7ed9b5e53d4fedb3fbd40f5c04c1f6",
       "version_major": 2,
       "version_minor": 0
      },
      "text/plain": [
       "Batches:   0%|          | 0/1 [00:00<?, ?it/s]"
      ]
     },
     "metadata": {},
     "output_type": "display_data"
    },
    {
     "data": {
      "application/vnd.jupyter.widget-view+json": {
       "model_id": "89b19ae18f6646628ffcb5f81d5eee7e",
       "version_major": 2,
       "version_minor": 0
      },
      "text/plain": [
       "Batches:   0%|          | 0/1 [00:00<?, ?it/s]"
      ]
     },
     "metadata": {},
     "output_type": "display_data"
    },
    {
     "data": {
      "application/vnd.jupyter.widget-view+json": {
       "model_id": "4fadf2777e4941bb912503b042613105",
       "version_major": 2,
       "version_minor": 0
      },
      "text/plain": [
       "Batches:   0%|          | 0/1 [00:00<?, ?it/s]"
      ]
     },
     "metadata": {},
     "output_type": "display_data"
    },
    {
     "data": {
      "application/vnd.jupyter.widget-view+json": {
       "model_id": "0e7b96705b61476a9f0e0d3ff891d80c",
       "version_major": 2,
       "version_minor": 0
      },
      "text/plain": [
       "Batches:   0%|          | 0/1 [00:00<?, ?it/s]"
      ]
     },
     "metadata": {},
     "output_type": "display_data"
    },
    {
     "data": {
      "application/vnd.jupyter.widget-view+json": {
       "model_id": "3ee1486fbcba4afb84c96c4c2010cda6",
       "version_major": 2,
       "version_minor": 0
      },
      "text/plain": [
       "Batches:   0%|          | 0/1 [00:00<?, ?it/s]"
      ]
     },
     "metadata": {},
     "output_type": "display_data"
    },
    {
     "data": {
      "application/vnd.jupyter.widget-view+json": {
       "model_id": "c652ab9049ca4adc84640a8dae7ce5e5",
       "version_major": 2,
       "version_minor": 0
      },
      "text/plain": [
       "Batches:   0%|          | 0/1 [00:00<?, ?it/s]"
      ]
     },
     "metadata": {},
     "output_type": "display_data"
    },
    {
     "data": {
      "application/vnd.jupyter.widget-view+json": {
       "model_id": "8c5d09b80ca942a687487c8c1e40a6f6",
       "version_major": 2,
       "version_minor": 0
      },
      "text/plain": [
       "Batches:   0%|          | 0/1 [00:00<?, ?it/s]"
      ]
     },
     "metadata": {},
     "output_type": "display_data"
    },
    {
     "data": {
      "application/vnd.jupyter.widget-view+json": {
       "model_id": "f3ab0ce9376a4415a1cf2236ae0ae1f2",
       "version_major": 2,
       "version_minor": 0
      },
      "text/plain": [
       "Batches:   0%|          | 0/1 [00:00<?, ?it/s]"
      ]
     },
     "metadata": {},
     "output_type": "display_data"
    },
    {
     "data": {
      "application/vnd.jupyter.widget-view+json": {
       "model_id": "ab9b213705154dffb3b1fb0dafb56525",
       "version_major": 2,
       "version_minor": 0
      },
      "text/plain": [
       "Batches:   0%|          | 0/1 [00:00<?, ?it/s]"
      ]
     },
     "metadata": {},
     "output_type": "display_data"
    },
    {
     "data": {
      "application/vnd.jupyter.widget-view+json": {
       "model_id": "40205528d2f1494d99be1cf09a7b3b5f",
       "version_major": 2,
       "version_minor": 0
      },
      "text/plain": [
       "Batches:   0%|          | 0/1 [00:00<?, ?it/s]"
      ]
     },
     "metadata": {},
     "output_type": "display_data"
    },
    {
     "data": {
      "application/vnd.jupyter.widget-view+json": {
       "model_id": "b6c1915381424606bc4e212cd857af16",
       "version_major": 2,
       "version_minor": 0
      },
      "text/plain": [
       "Batches:   0%|          | 0/1 [00:00<?, ?it/s]"
      ]
     },
     "metadata": {},
     "output_type": "display_data"
    },
    {
     "data": {
      "application/vnd.jupyter.widget-view+json": {
       "model_id": "17ba1bf7452e4717a6b92493007788b1",
       "version_major": 2,
       "version_minor": 0
      },
      "text/plain": [
       "Batches:   0%|          | 0/1 [00:00<?, ?it/s]"
      ]
     },
     "metadata": {},
     "output_type": "display_data"
    },
    {
     "data": {
      "application/vnd.jupyter.widget-view+json": {
       "model_id": "92a6d1267fd74bd1aa19013cf26da206",
       "version_major": 2,
       "version_minor": 0
      },
      "text/plain": [
       "Batches:   0%|          | 0/1 [00:00<?, ?it/s]"
      ]
     },
     "metadata": {},
     "output_type": "display_data"
    },
    {
     "data": {
      "application/vnd.jupyter.widget-view+json": {
       "model_id": "a8221b0342814508a25f20cedc68d0bd",
       "version_major": 2,
       "version_minor": 0
      },
      "text/plain": [
       "Batches:   0%|          | 0/1 [00:00<?, ?it/s]"
      ]
     },
     "metadata": {},
     "output_type": "display_data"
    },
    {
     "data": {
      "application/vnd.jupyter.widget-view+json": {
       "model_id": "3c9b43b68ab1497680cbaeee78eaa0b4",
       "version_major": 2,
       "version_minor": 0
      },
      "text/plain": [
       "Batches:   0%|          | 0/1 [00:00<?, ?it/s]"
      ]
     },
     "metadata": {},
     "output_type": "display_data"
    },
    {
     "data": {
      "application/vnd.jupyter.widget-view+json": {
       "model_id": "de3cf86548d64769adf85254b6299f50",
       "version_major": 2,
       "version_minor": 0
      },
      "text/plain": [
       "Batches:   0%|          | 0/1 [00:00<?, ?it/s]"
      ]
     },
     "metadata": {},
     "output_type": "display_data"
    },
    {
     "data": {
      "application/vnd.jupyter.widget-view+json": {
       "model_id": "67494ea5cbb145da8e5eb8fc27a8424f",
       "version_major": 2,
       "version_minor": 0
      },
      "text/plain": [
       "Batches:   0%|          | 0/1 [00:00<?, ?it/s]"
      ]
     },
     "metadata": {},
     "output_type": "display_data"
    },
    {
     "data": {
      "application/vnd.jupyter.widget-view+json": {
       "model_id": "8d4235e003f445289245e553ad2b91f3",
       "version_major": 2,
       "version_minor": 0
      },
      "text/plain": [
       "Batches:   0%|          | 0/1 [00:00<?, ?it/s]"
      ]
     },
     "metadata": {},
     "output_type": "display_data"
    },
    {
     "data": {
      "application/vnd.jupyter.widget-view+json": {
       "model_id": "d1840901b9ef49958985c1cf05f7abcf",
       "version_major": 2,
       "version_minor": 0
      },
      "text/plain": [
       "Batches:   0%|          | 0/1 [00:00<?, ?it/s]"
      ]
     },
     "metadata": {},
     "output_type": "display_data"
    },
    {
     "data": {
      "application/vnd.jupyter.widget-view+json": {
       "model_id": "86ad223ffd7147ba8d3c6a7de902c743",
       "version_major": 2,
       "version_minor": 0
      },
      "text/plain": [
       "Batches:   0%|          | 0/1 [00:00<?, ?it/s]"
      ]
     },
     "metadata": {},
     "output_type": "display_data"
    },
    {
     "data": {
      "application/vnd.jupyter.widget-view+json": {
       "model_id": "c92fb8fa6b0d4c3cba0bd558a49e7163",
       "version_major": 2,
       "version_minor": 0
      },
      "text/plain": [
       "Batches:   0%|          | 0/1 [00:00<?, ?it/s]"
      ]
     },
     "metadata": {},
     "output_type": "display_data"
    },
    {
     "data": {
      "application/vnd.jupyter.widget-view+json": {
       "model_id": "ba3a38cc56c64a7494879b050cf93d45",
       "version_major": 2,
       "version_minor": 0
      },
      "text/plain": [
       "Batches:   0%|          | 0/1 [00:00<?, ?it/s]"
      ]
     },
     "metadata": {},
     "output_type": "display_data"
    },
    {
     "data": {
      "application/vnd.jupyter.widget-view+json": {
       "model_id": "44b862c70c4a40c5885905e1d03bd0ca",
       "version_major": 2,
       "version_minor": 0
      },
      "text/plain": [
       "Batches:   0%|          | 0/1 [00:00<?, ?it/s]"
      ]
     },
     "metadata": {},
     "output_type": "display_data"
    },
    {
     "data": {
      "application/vnd.jupyter.widget-view+json": {
       "model_id": "89d159b19148458ca932b80661d225fd",
       "version_major": 2,
       "version_minor": 0
      },
      "text/plain": [
       "Batches:   0%|          | 0/1 [00:00<?, ?it/s]"
      ]
     },
     "metadata": {},
     "output_type": "display_data"
    },
    {
     "data": {
      "application/vnd.jupyter.widget-view+json": {
       "model_id": "3cc9afb04bd94096b7392e88f35db486",
       "version_major": 2,
       "version_minor": 0
      },
      "text/plain": [
       "Batches:   0%|          | 0/1 [00:00<?, ?it/s]"
      ]
     },
     "metadata": {},
     "output_type": "display_data"
    },
    {
     "data": {
      "application/vnd.jupyter.widget-view+json": {
       "model_id": "c3a1af3b052445fab12741db774c69e4",
       "version_major": 2,
       "version_minor": 0
      },
      "text/plain": [
       "Batches:   0%|          | 0/1 [00:00<?, ?it/s]"
      ]
     },
     "metadata": {},
     "output_type": "display_data"
    },
    {
     "data": {
      "application/vnd.jupyter.widget-view+json": {
       "model_id": "0ac2b33145be452e998f0022976dae94",
       "version_major": 2,
       "version_minor": 0
      },
      "text/plain": [
       "Batches:   0%|          | 0/1 [00:00<?, ?it/s]"
      ]
     },
     "metadata": {},
     "output_type": "display_data"
    },
    {
     "data": {
      "application/vnd.jupyter.widget-view+json": {
       "model_id": "acb619a0a5fd48bc844e40bc330102d9",
       "version_major": 2,
       "version_minor": 0
      },
      "text/plain": [
       "Batches:   0%|          | 0/1 [00:00<?, ?it/s]"
      ]
     },
     "metadata": {},
     "output_type": "display_data"
    },
    {
     "data": {
      "application/vnd.jupyter.widget-view+json": {
       "model_id": "0df1101e07b54a0e8a506541cfa7d9ec",
       "version_major": 2,
       "version_minor": 0
      },
      "text/plain": [
       "Batches:   0%|          | 0/1 [00:00<?, ?it/s]"
      ]
     },
     "metadata": {},
     "output_type": "display_data"
    }
   ],
   "source": [
    "infer_time = {str(i): {e: None for e in embedding_types} for i in len_intervals}\n",
    "for interval, texts in grouped_X.items():\n",
    "    for e in embedding_types:\n",
    "        durations = []\n",
    "        for text in texts:\n",
    "            start = datetime.now() # start\n",
    "            models[botname][e].predict([text])\n",
    "            end = datetime.now() # end\n",
    "            duration = end - start # delta\n",
    "            duration = duration.microseconds # microseconds\n",
    "            duration = duration / 1e3 # miliseconds\n",
    "            duration = np.round(duration, 2)\n",
    "            durations.append(duration)\n",
    "        infer_time[interval][e] = duration.mean()"
   ]
  },
  {
   "cell_type": "code",
   "execution_count": 280,
   "id": "2a3c714f-5956-40aa-9441-579810b64bff",
   "metadata": {},
   "outputs": [
    {
     "data": {
      "text/plain": [
       "{'5': {'tfidf': 0.57, 'sbert': 18.6, 'phobert': 20.71},\n",
       " '10': {'tfidf': 0.58, 'sbert': 19.09, 'phobert': 22.45},\n",
       " '15': {'tfidf': 0.59, 'sbert': 18.95, 'phobert': 23.89},\n",
       " '20': {'tfidf': 0.6, 'sbert': 19.22, 'phobert': 23.44}}"
      ]
     },
     "execution_count": 280,
     "metadata": {},
     "output_type": "execute_result"
    }
   ],
   "source": [
    "infer_time"
   ]
  },
  {
   "cell_type": "markdown",
   "id": "ccecfe30-6d5f-4a8e-a1af-908192350fc2",
   "metadata": {},
   "source": [
    "#### Visualize"
   ]
  },
  {
   "cell_type": "code",
   "execution_count": 334,
   "id": "014ee5e8-ca69-4a2a-b678-6aeaff023d4a",
   "metadata": {},
   "outputs": [
    {
     "data": {
      "text/html": [
       "<div class=\"bk-root\">\n",
       "        <a href=\"https://bokeh.org\" target=\"_blank\" class=\"bk-logo bk-logo-small bk-logo-notebook\"></a>\n",
       "        <span id=\"59234\">Loading BokehJS ...</span>\n",
       "    </div>\n"
      ]
     },
     "metadata": {},
     "output_type": "display_data"
    },
    {
     "data": {
      "application/javascript": [
       "(function(root) {\n",
       "  function now() {\n",
       "    return new Date();\n",
       "  }\n",
       "\n",
       "  const force = true;\n",
       "\n",
       "  if (typeof root._bokeh_onload_callbacks === \"undefined\" || force === true) {\n",
       "    root._bokeh_onload_callbacks = [];\n",
       "    root._bokeh_is_loading = undefined;\n",
       "  }\n",
       "\n",
       "const JS_MIME_TYPE = 'application/javascript';\n",
       "  const HTML_MIME_TYPE = 'text/html';\n",
       "  const EXEC_MIME_TYPE = 'application/vnd.bokehjs_exec.v0+json';\n",
       "  const CLASS_NAME = 'output_bokeh rendered_html';\n",
       "\n",
       "  /**\n",
       "   * Render data to the DOM node\n",
       "   */\n",
       "  function render(props, node) {\n",
       "    const script = document.createElement(\"script\");\n",
       "    node.appendChild(script);\n",
       "  }\n",
       "\n",
       "  /**\n",
       "   * Handle when an output is cleared or removed\n",
       "   */\n",
       "  function handleClearOutput(event, handle) {\n",
       "    const cell = handle.cell;\n",
       "\n",
       "    const id = cell.output_area._bokeh_element_id;\n",
       "    const server_id = cell.output_area._bokeh_server_id;\n",
       "    // Clean up Bokeh references\n",
       "    if (id != null && id in Bokeh.index) {\n",
       "      Bokeh.index[id].model.document.clear();\n",
       "      delete Bokeh.index[id];\n",
       "    }\n",
       "\n",
       "    if (server_id !== undefined) {\n",
       "      // Clean up Bokeh references\n",
       "      const cmd_clean = \"from bokeh.io.state import curstate; print(curstate().uuid_to_server['\" + server_id + \"'].get_sessions()[0].document.roots[0]._id)\";\n",
       "      cell.notebook.kernel.execute(cmd_clean, {\n",
       "        iopub: {\n",
       "          output: function(msg) {\n",
       "            const id = msg.content.text.trim();\n",
       "            if (id in Bokeh.index) {\n",
       "              Bokeh.index[id].model.document.clear();\n",
       "              delete Bokeh.index[id];\n",
       "            }\n",
       "          }\n",
       "        }\n",
       "      });\n",
       "      // Destroy server and session\n",
       "      const cmd_destroy = \"import bokeh.io.notebook as ion; ion.destroy_server('\" + server_id + \"')\";\n",
       "      cell.notebook.kernel.execute(cmd_destroy);\n",
       "    }\n",
       "  }\n",
       "\n",
       "  /**\n",
       "   * Handle when a new output is added\n",
       "   */\n",
       "  function handleAddOutput(event, handle) {\n",
       "    const output_area = handle.output_area;\n",
       "    const output = handle.output;\n",
       "\n",
       "    // limit handleAddOutput to display_data with EXEC_MIME_TYPE content only\n",
       "    if ((output.output_type != \"display_data\") || (!Object.prototype.hasOwnProperty.call(output.data, EXEC_MIME_TYPE))) {\n",
       "      return\n",
       "    }\n",
       "\n",
       "    const toinsert = output_area.element.find(\".\" + CLASS_NAME.split(' ')[0]);\n",
       "\n",
       "    if (output.metadata[EXEC_MIME_TYPE][\"id\"] !== undefined) {\n",
       "      toinsert[toinsert.length - 1].firstChild.textContent = output.data[JS_MIME_TYPE];\n",
       "      // store reference to embed id on output_area\n",
       "      output_area._bokeh_element_id = output.metadata[EXEC_MIME_TYPE][\"id\"];\n",
       "    }\n",
       "    if (output.metadata[EXEC_MIME_TYPE][\"server_id\"] !== undefined) {\n",
       "      const bk_div = document.createElement(\"div\");\n",
       "      bk_div.innerHTML = output.data[HTML_MIME_TYPE];\n",
       "      const script_attrs = bk_div.children[0].attributes;\n",
       "      for (let i = 0; i < script_attrs.length; i++) {\n",
       "        toinsert[toinsert.length - 1].firstChild.setAttribute(script_attrs[i].name, script_attrs[i].value);\n",
       "        toinsert[toinsert.length - 1].firstChild.textContent = bk_div.children[0].textContent\n",
       "      }\n",
       "      // store reference to server id on output_area\n",
       "      output_area._bokeh_server_id = output.metadata[EXEC_MIME_TYPE][\"server_id\"];\n",
       "    }\n",
       "  }\n",
       "\n",
       "  function register_renderer(events, OutputArea) {\n",
       "\n",
       "    function append_mime(data, metadata, element) {\n",
       "      // create a DOM node to render to\n",
       "      const toinsert = this.create_output_subarea(\n",
       "        metadata,\n",
       "        CLASS_NAME,\n",
       "        EXEC_MIME_TYPE\n",
       "      );\n",
       "      this.keyboard_manager.register_events(toinsert);\n",
       "      // Render to node\n",
       "      const props = {data: data, metadata: metadata[EXEC_MIME_TYPE]};\n",
       "      render(props, toinsert[toinsert.length - 1]);\n",
       "      element.append(toinsert);\n",
       "      return toinsert\n",
       "    }\n",
       "\n",
       "    /* Handle when an output is cleared or removed */\n",
       "    events.on('clear_output.CodeCell', handleClearOutput);\n",
       "    events.on('delete.Cell', handleClearOutput);\n",
       "\n",
       "    /* Handle when a new output is added */\n",
       "    events.on('output_added.OutputArea', handleAddOutput);\n",
       "\n",
       "    /**\n",
       "     * Register the mime type and append_mime function with output_area\n",
       "     */\n",
       "    OutputArea.prototype.register_mime_type(EXEC_MIME_TYPE, append_mime, {\n",
       "      /* Is output safe? */\n",
       "      safe: true,\n",
       "      /* Index of renderer in `output_area.display_order` */\n",
       "      index: 0\n",
       "    });\n",
       "  }\n",
       "\n",
       "  // register the mime type if in Jupyter Notebook environment and previously unregistered\n",
       "  if (root.Jupyter !== undefined) {\n",
       "    const events = require('base/js/events');\n",
       "    const OutputArea = require('notebook/js/outputarea').OutputArea;\n",
       "\n",
       "    if (OutputArea.prototype.mime_types().indexOf(EXEC_MIME_TYPE) == -1) {\n",
       "      register_renderer(events, OutputArea);\n",
       "    }\n",
       "  }\n",
       "  if (typeof (root._bokeh_timeout) === \"undefined\" || force === true) {\n",
       "    root._bokeh_timeout = Date.now() + 5000;\n",
       "    root._bokeh_failed_load = false;\n",
       "  }\n",
       "\n",
       "  const NB_LOAD_WARNING = {'data': {'text/html':\n",
       "     \"<div style='background-color: #fdd'>\\n\"+\n",
       "     \"<p>\\n\"+\n",
       "     \"BokehJS does not appear to have successfully loaded. If loading BokehJS from CDN, this \\n\"+\n",
       "     \"may be due to a slow or bad network connection. Possible fixes:\\n\"+\n",
       "     \"</p>\\n\"+\n",
       "     \"<ul>\\n\"+\n",
       "     \"<li>re-rerun `output_notebook()` to attempt to load from CDN again, or</li>\\n\"+\n",
       "     \"<li>use INLINE resources instead, as so:</li>\\n\"+\n",
       "     \"</ul>\\n\"+\n",
       "     \"<code>\\n\"+\n",
       "     \"from bokeh.resources import INLINE\\n\"+\n",
       "     \"output_notebook(resources=INLINE)\\n\"+\n",
       "     \"</code>\\n\"+\n",
       "     \"</div>\"}};\n",
       "\n",
       "  function display_loaded() {\n",
       "    const el = document.getElementById(\"59234\");\n",
       "    if (el != null) {\n",
       "      el.textContent = \"BokehJS is loading...\";\n",
       "    }\n",
       "    if (root.Bokeh !== undefined) {\n",
       "      if (el != null) {\n",
       "        el.textContent = \"BokehJS \" + root.Bokeh.version + \" successfully loaded.\";\n",
       "      }\n",
       "    } else if (Date.now() < root._bokeh_timeout) {\n",
       "      setTimeout(display_loaded, 100)\n",
       "    }\n",
       "  }\n",
       "\n",
       "  function run_callbacks() {\n",
       "    try {\n",
       "      root._bokeh_onload_callbacks.forEach(function(callback) {\n",
       "        if (callback != null)\n",
       "          callback();\n",
       "      });\n",
       "    } finally {\n",
       "      delete root._bokeh_onload_callbacks\n",
       "    }\n",
       "    console.debug(\"Bokeh: all callbacks have finished\");\n",
       "  }\n",
       "\n",
       "  function load_libs(css_urls, js_urls, callback) {\n",
       "    if (css_urls == null) css_urls = [];\n",
       "    if (js_urls == null) js_urls = [];\n",
       "\n",
       "    root._bokeh_onload_callbacks.push(callback);\n",
       "    if (root._bokeh_is_loading > 0) {\n",
       "      console.debug(\"Bokeh: BokehJS is being loaded, scheduling callback at\", now());\n",
       "      return null;\n",
       "    }\n",
       "    if (js_urls == null || js_urls.length === 0) {\n",
       "      run_callbacks();\n",
       "      return null;\n",
       "    }\n",
       "    console.debug(\"Bokeh: BokehJS not loaded, scheduling load and callback at\", now());\n",
       "    root._bokeh_is_loading = css_urls.length + js_urls.length;\n",
       "\n",
       "    function on_load() {\n",
       "      root._bokeh_is_loading--;\n",
       "      if (root._bokeh_is_loading === 0) {\n",
       "        console.debug(\"Bokeh: all BokehJS libraries/stylesheets loaded\");\n",
       "        run_callbacks()\n",
       "      }\n",
       "    }\n",
       "\n",
       "    function on_error(url) {\n",
       "      console.error(\"failed to load \" + url);\n",
       "    }\n",
       "\n",
       "    for (let i = 0; i < css_urls.length; i++) {\n",
       "      const url = css_urls[i];\n",
       "      const element = document.createElement(\"link\");\n",
       "      element.onload = on_load;\n",
       "      element.onerror = on_error.bind(null, url);\n",
       "      element.rel = \"stylesheet\";\n",
       "      element.type = \"text/css\";\n",
       "      element.href = url;\n",
       "      console.debug(\"Bokeh: injecting link tag for BokehJS stylesheet: \", url);\n",
       "      document.body.appendChild(element);\n",
       "    }\n",
       "\n",
       "    for (let i = 0; i < js_urls.length; i++) {\n",
       "      const url = js_urls[i];\n",
       "      const element = document.createElement('script');\n",
       "      element.onload = on_load;\n",
       "      element.onerror = on_error.bind(null, url);\n",
       "      element.async = false;\n",
       "      element.src = url;\n",
       "      console.debug(\"Bokeh: injecting script tag for BokehJS library: \", url);\n",
       "      document.head.appendChild(element);\n",
       "    }\n",
       "  };\n",
       "\n",
       "  function inject_raw_css(css) {\n",
       "    const element = document.createElement(\"style\");\n",
       "    element.appendChild(document.createTextNode(css));\n",
       "    document.body.appendChild(element);\n",
       "  }\n",
       "\n",
       "  const js_urls = [\"https://cdn.bokeh.org/bokeh/release/bokeh-2.4.3.min.js\", \"https://cdn.bokeh.org/bokeh/release/bokeh-gl-2.4.3.min.js\", \"https://cdn.bokeh.org/bokeh/release/bokeh-widgets-2.4.3.min.js\", \"https://cdn.bokeh.org/bokeh/release/bokeh-tables-2.4.3.min.js\", \"https://cdn.bokeh.org/bokeh/release/bokeh-mathjax-2.4.3.min.js\"];\n",
       "  const css_urls = [];\n",
       "\n",
       "  const inline_js = [    function(Bokeh) {\n",
       "      Bokeh.set_log_level(\"info\");\n",
       "    },\n",
       "function(Bokeh) {\n",
       "    }\n",
       "  ];\n",
       "\n",
       "  function run_inline_js() {\n",
       "    if (root.Bokeh !== undefined || force === true) {\n",
       "          for (let i = 0; i < inline_js.length; i++) {\n",
       "      inline_js[i].call(root, root.Bokeh);\n",
       "    }\n",
       "if (force === true) {\n",
       "        display_loaded();\n",
       "      }} else if (Date.now() < root._bokeh_timeout) {\n",
       "      setTimeout(run_inline_js, 100);\n",
       "    } else if (!root._bokeh_failed_load) {\n",
       "      console.log(\"Bokeh: BokehJS failed to load within specified timeout.\");\n",
       "      root._bokeh_failed_load = true;\n",
       "    } else if (force !== true) {\n",
       "      const cell = $(document.getElementById(\"59234\")).parents('.cell').data().cell;\n",
       "      cell.output_area.append_execute_result(NB_LOAD_WARNING)\n",
       "    }\n",
       "  }\n",
       "\n",
       "  if (root._bokeh_is_loading === 0) {\n",
       "    console.debug(\"Bokeh: BokehJS loaded, going straight to plotting\");\n",
       "    run_inline_js();\n",
       "  } else {\n",
       "    load_libs(css_urls, js_urls, function() {\n",
       "      console.debug(\"Bokeh: BokehJS plotting callback run at\", now());\n",
       "      run_inline_js();\n",
       "    });\n",
       "  }\n",
       "}(window));"
      ],
      "application/vnd.bokehjs_load.v0+json": "(function(root) {\n  function now() {\n    return new Date();\n  }\n\n  const force = true;\n\n  if (typeof root._bokeh_onload_callbacks === \"undefined\" || force === true) {\n    root._bokeh_onload_callbacks = [];\n    root._bokeh_is_loading = undefined;\n  }\n\n\n  if (typeof (root._bokeh_timeout) === \"undefined\" || force === true) {\n    root._bokeh_timeout = Date.now() + 5000;\n    root._bokeh_failed_load = false;\n  }\n\n  const NB_LOAD_WARNING = {'data': {'text/html':\n     \"<div style='background-color: #fdd'>\\n\"+\n     \"<p>\\n\"+\n     \"BokehJS does not appear to have successfully loaded. If loading BokehJS from CDN, this \\n\"+\n     \"may be due to a slow or bad network connection. Possible fixes:\\n\"+\n     \"</p>\\n\"+\n     \"<ul>\\n\"+\n     \"<li>re-rerun `output_notebook()` to attempt to load from CDN again, or</li>\\n\"+\n     \"<li>use INLINE resources instead, as so:</li>\\n\"+\n     \"</ul>\\n\"+\n     \"<code>\\n\"+\n     \"from bokeh.resources import INLINE\\n\"+\n     \"output_notebook(resources=INLINE)\\n\"+\n     \"</code>\\n\"+\n     \"</div>\"}};\n\n  function display_loaded() {\n    const el = document.getElementById(\"59234\");\n    if (el != null) {\n      el.textContent = \"BokehJS is loading...\";\n    }\n    if (root.Bokeh !== undefined) {\n      if (el != null) {\n        el.textContent = \"BokehJS \" + root.Bokeh.version + \" successfully loaded.\";\n      }\n    } else if (Date.now() < root._bokeh_timeout) {\n      setTimeout(display_loaded, 100)\n    }\n  }\n\n  function run_callbacks() {\n    try {\n      root._bokeh_onload_callbacks.forEach(function(callback) {\n        if (callback != null)\n          callback();\n      });\n    } finally {\n      delete root._bokeh_onload_callbacks\n    }\n    console.debug(\"Bokeh: all callbacks have finished\");\n  }\n\n  function load_libs(css_urls, js_urls, callback) {\n    if (css_urls == null) css_urls = [];\n    if (js_urls == null) js_urls = [];\n\n    root._bokeh_onload_callbacks.push(callback);\n    if (root._bokeh_is_loading > 0) {\n      console.debug(\"Bokeh: BokehJS is being loaded, scheduling callback at\", now());\n      return null;\n    }\n    if (js_urls == null || js_urls.length === 0) {\n      run_callbacks();\n      return null;\n    }\n    console.debug(\"Bokeh: BokehJS not loaded, scheduling load and callback at\", now());\n    root._bokeh_is_loading = css_urls.length + js_urls.length;\n\n    function on_load() {\n      root._bokeh_is_loading--;\n      if (root._bokeh_is_loading === 0) {\n        console.debug(\"Bokeh: all BokehJS libraries/stylesheets loaded\");\n        run_callbacks()\n      }\n    }\n\n    function on_error(url) {\n      console.error(\"failed to load \" + url);\n    }\n\n    for (let i = 0; i < css_urls.length; i++) {\n      const url = css_urls[i];\n      const element = document.createElement(\"link\");\n      element.onload = on_load;\n      element.onerror = on_error.bind(null, url);\n      element.rel = \"stylesheet\";\n      element.type = \"text/css\";\n      element.href = url;\n      console.debug(\"Bokeh: injecting link tag for BokehJS stylesheet: \", url);\n      document.body.appendChild(element);\n    }\n\n    for (let i = 0; i < js_urls.length; i++) {\n      const url = js_urls[i];\n      const element = document.createElement('script');\n      element.onload = on_load;\n      element.onerror = on_error.bind(null, url);\n      element.async = false;\n      element.src = url;\n      console.debug(\"Bokeh: injecting script tag for BokehJS library: \", url);\n      document.head.appendChild(element);\n    }\n  };\n\n  function inject_raw_css(css) {\n    const element = document.createElement(\"style\");\n    element.appendChild(document.createTextNode(css));\n    document.body.appendChild(element);\n  }\n\n  const js_urls = [\"https://cdn.bokeh.org/bokeh/release/bokeh-2.4.3.min.js\", \"https://cdn.bokeh.org/bokeh/release/bokeh-gl-2.4.3.min.js\", \"https://cdn.bokeh.org/bokeh/release/bokeh-widgets-2.4.3.min.js\", \"https://cdn.bokeh.org/bokeh/release/bokeh-tables-2.4.3.min.js\", \"https://cdn.bokeh.org/bokeh/release/bokeh-mathjax-2.4.3.min.js\"];\n  const css_urls = [];\n\n  const inline_js = [    function(Bokeh) {\n      Bokeh.set_log_level(\"info\");\n    },\nfunction(Bokeh) {\n    }\n  ];\n\n  function run_inline_js() {\n    if (root.Bokeh !== undefined || force === true) {\n          for (let i = 0; i < inline_js.length; i++) {\n      inline_js[i].call(root, root.Bokeh);\n    }\nif (force === true) {\n        display_loaded();\n      }} else if (Date.now() < root._bokeh_timeout) {\n      setTimeout(run_inline_js, 100);\n    } else if (!root._bokeh_failed_load) {\n      console.log(\"Bokeh: BokehJS failed to load within specified timeout.\");\n      root._bokeh_failed_load = true;\n    } else if (force !== true) {\n      const cell = $(document.getElementById(\"59234\")).parents('.cell').data().cell;\n      cell.output_area.append_execute_result(NB_LOAD_WARNING)\n    }\n  }\n\n  if (root._bokeh_is_loading === 0) {\n    console.debug(\"Bokeh: BokehJS loaded, going straight to plotting\");\n    run_inline_js();\n  } else {\n    load_libs(css_urls, js_urls, function() {\n      console.debug(\"Bokeh: BokehJS plotting callback run at\", now());\n      run_inline_js();\n    });\n  }\n}(window));"
     },
     "metadata": {},
     "output_type": "display_data"
    },
    {
     "data": {
      "text/html": [
       "\n",
       "  <div class=\"bk-root\" id=\"5a8f3c8a-4572-4320-8065-cf544cb1765f\" data-root-id=\"59236\"></div>\n"
      ]
     },
     "metadata": {},
     "output_type": "display_data"
    },
    {
     "data": {
      "application/javascript": [
       "(function(root) {\n",
       "  function embed_document(root) {\n",
       "  const docs_json = {\"69b0bcf4-38af-4229-985e-6c396ed4638d\":{\"defs\":[],\"roots\":{\"references\":[{\"attributes\":{\"below\":[{\"id\":\"59247\"}],\"center\":[{\"id\":\"59249\"},{\"id\":\"59253\"},{\"id\":\"59285\"}],\"height\":700,\"left\":[{\"id\":\"59250\"}],\"renderers\":[{\"id\":\"59273\"},{\"id\":\"59292\"},{\"id\":\"59310\"},{\"id\":\"59327\"}],\"title\":{\"id\":\"59237\"},\"toolbar\":{\"id\":\"59261\"},\"x_range\":{\"id\":\"59239\"},\"x_scale\":{\"id\":\"59243\"},\"y_range\":{\"id\":\"59241\"},\"y_scale\":{\"id\":\"59245\"}},\"id\":\"59236\",\"subtype\":\"Figure\",\"type\":\"Plot\"},{\"attributes\":{},\"id\":\"59257\",\"type\":\"SaveTool\"},{\"attributes\":{},\"id\":\"59277\",\"type\":\"BasicTickFormatter\"},{\"attributes\":{\"label\":{\"value\":\"PhoBERT-base (No FT)\"},\"renderers\":[{\"id\":\"59310\"}]},\"id\":\"59322\",\"type\":\"LegendItem\"},{\"attributes\":{\"coordinates\":null,\"data_source\":{\"id\":\"59235\"},\"glyph\":{\"id\":\"59307\"},\"group\":null,\"hover_glyph\":null,\"muted_glyph\":{\"id\":\"59309\"},\"nonselection_glyph\":{\"id\":\"59308\"},\"view\":{\"id\":\"59311\"}},\"id\":\"59310\",\"type\":\"GlyphRenderer\"},{\"attributes\":{\"fill_alpha\":{\"value\":0.1},\"fill_color\":{\"value\":\"#e84d60\"},\"hatch_alpha\":{\"value\":0.1},\"hatch_color\":{\"value\":\"#e84d60\"},\"line_alpha\":{\"value\":0.1},\"line_color\":{\"value\":\"#e84d60\"},\"top\":{\"field\":\"phobert\"},\"width\":{\"value\":0.2},\"x\":{\"field\":\"token_len\",\"transform\":{\"id\":\"59305\"}}},\"id\":\"59308\",\"type\":\"VBar\"},{\"attributes\":{},\"id\":\"59248\",\"type\":\"CategoricalTicker\"},{\"attributes\":{\"fill_color\":{\"value\":\"#c9d9d3\"},\"hatch_color\":{\"value\":\"#c9d9d3\"},\"line_color\":{\"value\":\"#c9d9d3\"},\"top\":{\"field\":\"tfidf\"},\"width\":{\"value\":0.2},\"x\":{\"field\":\"token_len\",\"transform\":{\"id\":\"59268\"}}},\"id\":\"59270\",\"type\":\"VBar\"},{\"attributes\":{\"source\":{\"id\":\"59235\"}},\"id\":\"59311\",\"type\":\"CDSView\"},{\"attributes\":{\"overlay\":{\"id\":\"59260\"}},\"id\":\"59256\",\"type\":\"BoxZoomTool\"},{\"attributes\":{\"coordinates\":null,\"group\":null,\"text\":\"Inference Time Benhmark\"},\"id\":\"59237\",\"type\":\"Title\"},{\"attributes\":{},\"id\":\"59251\",\"type\":\"BasicTicker\"},{\"attributes\":{},\"id\":\"59278\",\"type\":\"AllLabels\"},{\"attributes\":{},\"id\":\"59280\",\"type\":\"CategoricalTickFormatter\"},{\"attributes\":{\"fill_alpha\":{\"value\":0.1},\"fill_color\":{\"value\":\"#c9d9d3\"},\"hatch_alpha\":{\"value\":0.1},\"hatch_color\":{\"value\":\"#c9d9d3\"},\"line_alpha\":{\"value\":0.1},\"line_color\":{\"value\":\"#c9d9d3\"},\"top\":{\"field\":\"tfidf\"},\"width\":{\"value\":0.2},\"x\":{\"field\":\"token_len\",\"transform\":{\"id\":\"59268\"}}},\"id\":\"59271\",\"type\":\"VBar\"},{\"attributes\":{},\"id\":\"59255\",\"type\":\"WheelZoomTool\"},{\"attributes\":{\"axis_label\":\"inference time (ms)\",\"coordinates\":null,\"formatter\":{\"id\":\"59277\"},\"group\":null,\"major_label_policy\":{\"id\":\"59278\"},\"ticker\":{\"id\":\"59251\"}},\"id\":\"59250\",\"type\":\"LinearAxis\"},{\"attributes\":{\"fill_alpha\":{\"value\":0.2},\"fill_color\":{\"value\":\"#c9d9d3\"},\"hatch_alpha\":{\"value\":0.2},\"hatch_color\":{\"value\":\"#c9d9d3\"},\"line_alpha\":{\"value\":0.2},\"line_color\":{\"value\":\"#c9d9d3\"},\"top\":{\"field\":\"tfidf\"},\"width\":{\"value\":0.2},\"x\":{\"field\":\"token_len\",\"transform\":{\"id\":\"59268\"}}},\"id\":\"59272\",\"type\":\"VBar\"},{\"attributes\":{\"data\":{\"x\":[-5,5],\"y\":[9,9]},\"selected\":{\"id\":\"59339\"},\"selection_policy\":{\"id\":\"59338\"}},\"id\":\"59323\",\"type\":\"ColumnDataSource\"},{\"attributes\":{\"range\":{\"id\":\"59239\"},\"value\":-0.25},\"id\":\"59268\",\"type\":\"Dodge\"},{\"attributes\":{\"axis\":{\"id\":\"59247\"},\"coordinates\":null,\"grid_line_color\":null,\"group\":null,\"ticker\":null},\"id\":\"59249\",\"type\":\"Grid\"},{\"attributes\":{},\"id\":\"59254\",\"type\":\"PanTool\"},{\"attributes\":{},\"id\":\"59281\",\"type\":\"AllLabels\"},{\"attributes\":{},\"id\":\"59258\",\"type\":\"ResetTool\"},{\"attributes\":{},\"id\":\"59282\",\"type\":\"UnionRenderers\"},{\"attributes\":{\"line_alpha\":0.2,\"line_color\":\"#64bf1f\",\"line_width\":1.5,\"x\":{\"field\":\"x\"},\"y\":{\"field\":\"y\"}},\"id\":\"59326\",\"type\":\"Line\"},{\"attributes\":{\"source\":{\"id\":\"59235\"}},\"id\":\"59274\",\"type\":\"CDSView\"},{\"attributes\":{},\"id\":\"59283\",\"type\":\"Selection\"},{\"attributes\":{\"factors\":[\"<5\",\"<10\",\"<15\",\"<20\"],\"range_padding\":0.1},\"id\":\"59239\",\"type\":\"FactorRange\"},{\"attributes\":{\"coordinates\":null,\"data_source\":{\"id\":\"59323\"},\"glyph\":{\"id\":\"59324\"},\"group\":null,\"hover_glyph\":null,\"muted_glyph\":{\"id\":\"59326\"},\"nonselection_glyph\":{\"id\":\"59325\"},\"view\":{\"id\":\"59328\"}},\"id\":\"59327\",\"type\":\"GlyphRenderer\"},{\"attributes\":{},\"id\":\"59259\",\"type\":\"HelpTool\"},{\"attributes\":{\"tools\":[{\"id\":\"59254\"},{\"id\":\"59255\"},{\"id\":\"59256\"},{\"id\":\"59257\"},{\"id\":\"59258\"},{\"id\":\"59259\"}]},\"id\":\"59261\",\"type\":\"Toolbar\"},{\"attributes\":{\"line_alpha\":0.1,\"line_color\":\"#64bf1f\",\"line_width\":1.5,\"x\":{\"field\":\"x\"},\"y\":{\"field\":\"y\"}},\"id\":\"59325\",\"type\":\"Line\"},{\"attributes\":{\"label\":{\"value\":\"TF-IDF (Baseline)\"},\"renderers\":[{\"id\":\"59273\"}]},\"id\":\"59286\",\"type\":\"LegendItem\"},{\"attributes\":{\"coordinates\":null,\"data_source\":{\"id\":\"59235\"},\"glyph\":{\"id\":\"59270\"},\"group\":null,\"hover_glyph\":null,\"muted_glyph\":{\"id\":\"59272\"},\"nonselection_glyph\":{\"id\":\"59271\"},\"view\":{\"id\":\"59274\"}},\"id\":\"59273\",\"type\":\"GlyphRenderer\"},{\"attributes\":{\"fill_alpha\":{\"value\":0.2},\"fill_color\":{\"value\":\"#e84d60\"},\"hatch_alpha\":{\"value\":0.2},\"hatch_color\":{\"value\":\"#e84d60\"},\"line_alpha\":{\"value\":0.2},\"line_color\":{\"value\":\"#e84d60\"},\"top\":{\"field\":\"phobert\"},\"width\":{\"value\":0.2},\"x\":{\"field\":\"token_len\",\"transform\":{\"id\":\"59305\"}}},\"id\":\"59309\",\"type\":\"VBar\"},{\"attributes\":{},\"id\":\"59243\",\"type\":\"CategoricalScale\"},{\"attributes\":{\"source\":{\"id\":\"59323\"}},\"id\":\"59328\",\"type\":\"CDSView\"},{\"attributes\":{\"bottom_units\":\"screen\",\"coordinates\":null,\"fill_alpha\":0.5,\"fill_color\":\"lightgrey\",\"group\":null,\"left_units\":\"screen\",\"level\":\"overlay\",\"line_alpha\":1.0,\"line_color\":\"black\",\"line_dash\":[4,4],\"line_width\":2,\"right_units\":\"screen\",\"syncable\":false,\"top_units\":\"screen\"},\"id\":\"59260\",\"type\":\"BoxAnnotation\"},{\"attributes\":{\"label\":{\"value\":\"Allowed Maximum Inference Time\"},\"renderers\":[{\"id\":\"59327\"}]},\"id\":\"59341\",\"type\":\"LegendItem\"},{\"attributes\":{\"fill_color\":{\"value\":\"#718dbf\"},\"hatch_color\":{\"value\":\"#718dbf\"},\"line_color\":{\"value\":\"#718dbf\"},\"top\":{\"field\":\"sbert\"},\"width\":{\"value\":0.2},\"x\":{\"field\":\"token_len\",\"transform\":{\"id\":\"59287\"}}},\"id\":\"59289\",\"type\":\"VBar\"},{\"attributes\":{\"fill_color\":{\"value\":\"#e84d60\"},\"hatch_color\":{\"value\":\"#e84d60\"},\"line_color\":{\"value\":\"#e84d60\"},\"top\":{\"field\":\"phobert\"},\"width\":{\"value\":0.2},\"x\":{\"field\":\"token_len\",\"transform\":{\"id\":\"59305\"}}},\"id\":\"59307\",\"type\":\"VBar\"},{\"attributes\":{},\"id\":\"59338\",\"type\":\"UnionRenderers\"},{\"attributes\":{\"line_color\":\"#64bf1f\",\"line_width\":1.5,\"x\":{\"field\":\"x\"},\"y\":{\"field\":\"y\"}},\"id\":\"59324\",\"type\":\"Line\"},{\"attributes\":{},\"id\":\"59339\",\"type\":\"Selection\"},{\"attributes\":{\"fill_alpha\":{\"value\":0.2},\"fill_color\":{\"value\":\"#718dbf\"},\"hatch_alpha\":{\"value\":0.2},\"hatch_color\":{\"value\":\"#718dbf\"},\"line_alpha\":{\"value\":0.2},\"line_color\":{\"value\":\"#718dbf\"},\"top\":{\"field\":\"sbert\"},\"width\":{\"value\":0.2},\"x\":{\"field\":\"token_len\",\"transform\":{\"id\":\"59287\"}}},\"id\":\"59291\",\"type\":\"VBar\"},{\"attributes\":{\"range\":{\"id\":\"59239\"}},\"id\":\"59287\",\"type\":\"Dodge\"},{\"attributes\":{\"data\":{\"phobert\":[20.71,22.45,23.89,23.44],\"sbert\":[18.6,19.09,18.95,19.22],\"tfidf\":[0.57,0.58,0.59,0.6],\"token_len\":[\"<5\",\"<10\",\"<15\",\"<20\"]},\"selected\":{\"id\":\"59283\"},\"selection_policy\":{\"id\":\"59282\"}},\"id\":\"59235\",\"type\":\"ColumnDataSource\"},{\"attributes\":{\"label\":{\"value\":\"Vietnamese SBERT (No FT)\"},\"renderers\":[{\"id\":\"59292\"}]},\"id\":\"59304\",\"type\":\"LegendItem\"},{\"attributes\":{\"end\":30},\"id\":\"59241\",\"type\":\"Range1d\"},{\"attributes\":{\"source\":{\"id\":\"59235\"}},\"id\":\"59293\",\"type\":\"CDSView\"},{\"attributes\":{},\"id\":\"59245\",\"type\":\"LinearScale\"},{\"attributes\":{\"axis\":{\"id\":\"59250\"},\"coordinates\":null,\"dimension\":1,\"group\":null,\"ticker\":null},\"id\":\"59253\",\"type\":\"Grid\"},{\"attributes\":{\"coordinates\":null,\"group\":null,\"items\":[{\"id\":\"59286\"},{\"id\":\"59304\"},{\"id\":\"59322\"},{\"id\":\"59341\"}],\"location\":\"top_left\"},\"id\":\"59285\",\"type\":\"Legend\"},{\"attributes\":{\"coordinates\":null,\"data_source\":{\"id\":\"59235\"},\"glyph\":{\"id\":\"59289\"},\"group\":null,\"hover_glyph\":null,\"muted_glyph\":{\"id\":\"59291\"},\"nonselection_glyph\":{\"id\":\"59290\"},\"view\":{\"id\":\"59293\"}},\"id\":\"59292\",\"type\":\"GlyphRenderer\"},{\"attributes\":{\"axis_label\":\"sentence length\",\"coordinates\":null,\"formatter\":{\"id\":\"59280\"},\"group\":null,\"major_label_policy\":{\"id\":\"59281\"},\"ticker\":{\"id\":\"59248\"}},\"id\":\"59247\",\"type\":\"CategoricalAxis\"},{\"attributes\":{\"fill_alpha\":{\"value\":0.1},\"fill_color\":{\"value\":\"#718dbf\"},\"hatch_alpha\":{\"value\":0.1},\"hatch_color\":{\"value\":\"#718dbf\"},\"line_alpha\":{\"value\":0.1},\"line_color\":{\"value\":\"#718dbf\"},\"top\":{\"field\":\"sbert\"},\"width\":{\"value\":0.2},\"x\":{\"field\":\"token_len\",\"transform\":{\"id\":\"59287\"}}},\"id\":\"59290\",\"type\":\"VBar\"},{\"attributes\":{\"range\":{\"id\":\"59239\"},\"value\":0.25},\"id\":\"59305\",\"type\":\"Dodge\"}],\"root_ids\":[\"59236\"]},\"title\":\"Bokeh Application\",\"version\":\"2.4.3\"}};\n",
       "  const render_items = [{\"docid\":\"69b0bcf4-38af-4229-985e-6c396ed4638d\",\"root_ids\":[\"59236\"],\"roots\":{\"59236\":\"5a8f3c8a-4572-4320-8065-cf544cb1765f\"}}];\n",
       "  root.Bokeh.embed.embed_items_notebook(docs_json, render_items);\n",
       "  }\n",
       "  if (root.Bokeh !== undefined) {\n",
       "    embed_document(root);\n",
       "  } else {\n",
       "    let attempts = 0;\n",
       "    const timer = setInterval(function(root) {\n",
       "      if (root.Bokeh !== undefined) {\n",
       "        clearInterval(timer);\n",
       "        embed_document(root);\n",
       "      } else {\n",
       "        attempts++;\n",
       "        if (attempts > 100) {\n",
       "          clearInterval(timer);\n",
       "          console.log(\"Bokeh: ERROR: Unable to run BokehJS code because BokehJS library is missing\");\n",
       "        }\n",
       "      }\n",
       "    }, 10, root)\n",
       "  }\n",
       "})(window);"
      ],
      "application/vnd.bokehjs_exec.v0+json": ""
     },
     "metadata": {
      "application/vnd.bokehjs_exec.v0+json": {
       "id": "59236"
      }
     },
     "output_type": "display_data"
    }
   ],
   "source": [
    "# Ref: https://docs.bokeh.org/en/latest/docs/user_guide/categorical.html#visual-offset\n",
    "\n",
    "output_notebook()\n",
    "\n",
    "str_len_intervals = [f\"<{str(i)}\" for i in len_intervals]\n",
    "\n",
    "vis_infer_tfidf = [infer_time[str(i)][\"tfidf\"] for i in len_intervals]\n",
    "vis_infer_sbert = [infer_time[str(i)][\"sbert\"] for i in len_intervals]\n",
    "vis_infer_phobert = [infer_time[str(i)][\"phobert\"] for i in len_intervals]\n",
    "\n",
    "vis_data = {\n",
    "    \"token_len\": str_len_intervals,\n",
    "    \"tfidf\": vis_infer_tfidf,\n",
    "    \"sbert\": vis_infer_sbert,\n",
    "    \"phobert\": vis_infer_phobert\n",
    "}\n",
    "\n",
    "source = ColumnDataSource(data=vis_data)\n",
    "\n",
    "TITLE = \"Inference Time Benhmark\"\n",
    "p = figure(x_range=str_len_intervals,\n",
    "           y_range=(0, 30), height=700,\n",
    "           title=TITLE)\n",
    "\n",
    "p.vbar(x=dodge(\"token_len\", -0.25, range=p.x_range),\n",
    "       top=\"tfidf\", width=0.2, source=source,\n",
    "       color=\"#c9d9d3\", legend_label=\"TF-IDF (Baseline)\")\n",
    "\n",
    "p.vbar(x=dodge(\"token_len\", 0.0, range=p.x_range),\n",
    "       top=\"sbert\", width=0.2, source=source,\n",
    "       color=\"#718dbf\", legend_label=\"Vietnamese SBERT (No FT)\")\n",
    "\n",
    "p.vbar(x=dodge(\"token_len\", 0.25, range=p.x_range),\n",
    "       top=\"phobert\", width=0.2, source=source,\n",
    "       color=\"#e84d60\", legend_label=\"PhoBERT-base (No FT)\")\n",
    "\n",
    "p.line([-5, 5], [9, 9], line_color=\"#64bf1f\",\n",
    "       line_width=1.5, legend_label=\"Allowed Maximum Inference Time\")\n",
    "\n",
    "p.x_range.range_padding = 0.1\n",
    "p.xgrid.grid_line_color = None\n",
    "p.yaxis.axis_label = \"inference time (ms)\"\n",
    "p.xaxis.axis_label = \"sentence length\"\n",
    "p.legend.orientation = \"vertical\"\n",
    "p.legend.location = \"top_left\"\n",
    "\n",
    "show(p)"
   ]
  },
  {
   "cell_type": "markdown",
   "id": "86d55edf-44f4-4425-b43e-095bcabc0598",
   "metadata": {},
   "source": [
    "### Training Time"
   ]
  },
  {
   "cell_type": "code",
   "execution_count": 14,
   "id": "0258bf39-1e8d-4b8e-947d-ae41ae9ddf72",
   "metadata": {},
   "outputs": [
    {
     "name": "stdout",
     "output_type": "stream",
     "text": [
      "sunlaw: 809 (# samples)\n",
      "lamhaian: 722 (# samples)\n",
      "giang.nguyen: 919 (# samples)\n",
      "panasonic: 1607 (# samples)\n",
      "trung.quan: 397 (# samples)\n"
     ]
    }
   ],
   "source": [
    "botnames = [botname for botname in botid.keys()]\n",
    "for botname in botnames:\n",
    "    print(f\"{botname}: {len(X[botname])} (# samples)\")"
   ]
  },
  {
   "cell_type": "code",
   "execution_count": 15,
   "id": "5ba45925-e40d-45e1-a7db-d44d62aeaa62",
   "metadata": {},
   "outputs": [],
   "source": [
    "trainset_name = [\"trung.quan\", \"giang.nguyen\", \"panasonic\"]"
   ]
  },
  {
   "cell_type": "code",
   "execution_count": 16,
   "id": "2205fffd-6350-4000-bcc5-36035895835e",
   "metadata": {},
   "outputs": [],
   "source": [
    "training_time = {t: {e: None for e in embedding_types} for t in trainset_name}"
   ]
  },
  {
   "cell_type": "code",
   "execution_count": 17,
   "id": "dcb53b8b-44ac-4fc2-bcf3-7e85b751ccb9",
   "metadata": {},
   "outputs": [
    {
     "data": {
      "text/plain": [
       "{'trung.quan': {'tfidf': None, 'sbert': None, 'phobert': None},\n",
       " 'giang.nguyen': {'tfidf': None, 'sbert': None, 'phobert': None},\n",
       " 'panasonic': {'tfidf': None, 'sbert': None, 'phobert': None}}"
      ]
     },
     "execution_count": 17,
     "metadata": {},
     "output_type": "execute_result"
    }
   ],
   "source": [
    "training_time"
   ]
  },
  {
   "cell_type": "code",
   "execution_count": 18,
   "id": "209e4be1-c798-4edb-99a6-92bafbd8352c",
   "metadata": {
    "collapsed": true,
    "jupyter": {
     "outputs_hidden": true
    },
    "tags": []
   },
   "outputs": [
    {
     "name": "stderr",
     "output_type": "stream",
     "text": [
      "  0%|                                       | 0/3 [00:00<?, ?it/s]/home/buihuy/Intent-Detection/venv/lib/python3.7/site-packages/sklearn/multiclass.py:80: UserWarning: Label not 3 is present in all training examples.\n",
      "  \"Label %s is present in all training examples.\" % str(classes[c])\n",
      "/home/buihuy/Intent-Detection/venv/lib/python3.7/site-packages/sklearn/multiclass.py:80: UserWarning: Label not 3 is present in all training examples.\n",
      "  \"Label %s is present in all training examples.\" % str(classes[c])\n",
      "/home/buihuy/Intent-Detection/venv/lib/python3.7/site-packages/sklearn/multiclass.py:80: UserWarning: Label not 3 is present in all training examples.\n",
      "  \"Label %s is present in all training examples.\" % str(classes[c])\n",
      "/home/buihuy/Intent-Detection/venv/lib/python3.7/site-packages/sklearn/multiclass.py:80: UserWarning: Label not 3 is present in all training examples.\n",
      "  \"Label %s is present in all training examples.\" % str(classes[c])\n",
      "/home/buihuy/Intent-Detection/venv/lib/python3.7/site-packages/sklearn/multiclass.py:80: UserWarning: Label not 3 is present in all training examples.\n",
      "  \"Label %s is present in all training examples.\" % str(classes[c])\n",
      "/home/buihuy/Intent-Detection/venv/lib/python3.7/site-packages/sklearn/multiclass.py:80: UserWarning: Label not 3 is present in all training examples.\n",
      "  \"Label %s is present in all training examples.\" % str(classes[c])\n",
      "/home/buihuy/Intent-Detection/venv/lib/python3.7/site-packages/sklearn/multiclass.py:80: UserWarning: Label not 3 is present in all training examples.\n",
      "  \"Label %s is present in all training examples.\" % str(classes[c])\n",
      "/home/buihuy/Intent-Detection/venv/lib/python3.7/site-packages/sklearn/multiclass.py:80: UserWarning: Label not 3 is present in all training examples.\n",
      "  \"Label %s is present in all training examples.\" % str(classes[c])\n",
      "/home/buihuy/Intent-Detection/venv/lib/python3.7/site-packages/sklearn/multiclass.py:80: UserWarning: Label not 3 is present in all training examples.\n",
      "  \"Label %s is present in all training examples.\" % str(classes[c])\n",
      "/home/buihuy/Intent-Detection/venv/lib/python3.7/site-packages/sklearn/multiclass.py:80: UserWarning: Label not 3 is present in all training examples.\n",
      "  \"Label %s is present in all training examples.\" % str(classes[c])\n",
      "/home/buihuy/Intent-Detection/venv/lib/python3.7/site-packages/sklearn/multiclass.py:80: UserWarning: Label not 3 is present in all training examples.\n",
      "  \"Label %s is present in all training examples.\" % str(classes[c])\n",
      "/home/buihuy/Intent-Detection/venv/lib/python3.7/site-packages/sklearn/multiclass.py:80: UserWarning: Label not 3 is present in all training examples.\n",
      "  \"Label %s is present in all training examples.\" % str(classes[c])\n",
      "/home/buihuy/Intent-Detection/venv/lib/python3.7/site-packages/sklearn/multiclass.py:80: UserWarning: Label not 3 is present in all training examples.\n",
      "  \"Label %s is present in all training examples.\" % str(classes[c])\n",
      "/home/buihuy/Intent-Detection/venv/lib/python3.7/site-packages/sklearn/multiclass.py:80: UserWarning: Label not 3 is present in all training examples.\n",
      "  \"Label %s is present in all training examples.\" % str(classes[c])\n",
      "/home/buihuy/Intent-Detection/venv/lib/python3.7/site-packages/sklearn/multiclass.py:80: UserWarning: Label not 3 is present in all training examples.\n",
      "  \"Label %s is present in all training examples.\" % str(classes[c])\n",
      "/home/buihuy/Intent-Detection/venv/lib/python3.7/site-packages/sklearn/multiclass.py:80: UserWarning: Label not 3 is present in all training examples.\n",
      "  \"Label %s is present in all training examples.\" % str(classes[c])\n",
      "/home/buihuy/Intent-Detection/venv/lib/python3.7/site-packages/sklearn/multiclass.py:80: UserWarning: Label not 3 is present in all training examples.\n",
      "  \"Label %s is present in all training examples.\" % str(classes[c])\n",
      "/home/buihuy/Intent-Detection/venv/lib/python3.7/site-packages/sklearn/multiclass.py:80: UserWarning: Label not 3 is present in all training examples.\n",
      "  \"Label %s is present in all training examples.\" % str(classes[c])\n",
      "/home/buihuy/Intent-Detection/venv/lib/python3.7/site-packages/sklearn/multiclass.py:80: UserWarning: Label not 3 is present in all training examples.\n",
      "  \"Label %s is present in all training examples.\" % str(classes[c])\n",
      "/home/buihuy/Intent-Detection/venv/lib/python3.7/site-packages/sklearn/multiclass.py:80: UserWarning: Label not 3 is present in all training examples.\n",
      "  \"Label %s is present in all training examples.\" % str(classes[c])\n",
      "/home/buihuy/Intent-Detection/venv/lib/python3.7/site-packages/sklearn/multiclass.py:80: UserWarning: Label not 3 is present in all training examples.\n",
      "  \"Label %s is present in all training examples.\" % str(classes[c])\n",
      "/home/buihuy/Intent-Detection/venv/lib/python3.7/site-packages/sklearn/multiclass.py:80: UserWarning: Label not 3 is present in all training examples.\n",
      "  \"Label %s is present in all training examples.\" % str(classes[c])\n",
      "/home/buihuy/Intent-Detection/venv/lib/python3.7/site-packages/sklearn/multiclass.py:80: UserWarning: Label not 3 is present in all training examples.\n",
      "  \"Label %s is present in all training examples.\" % str(classes[c])\n",
      "/home/buihuy/Intent-Detection/venv/lib/python3.7/site-packages/sklearn/multiclass.py:80: UserWarning: Label not 3 is present in all training examples.\n",
      "  \"Label %s is present in all training examples.\" % str(classes[c])\n",
      "/home/buihuy/Intent-Detection/venv/lib/python3.7/site-packages/sklearn/multiclass.py:80: UserWarning: Label not 3 is present in all training examples.\n",
      "  \"Label %s is present in all training examples.\" % str(classes[c])\n",
      "/home/buihuy/Intent-Detection/venv/lib/python3.7/site-packages/sklearn/multiclass.py:80: UserWarning: Label not 3 is present in all training examples.\n",
      "  \"Label %s is present in all training examples.\" % str(classes[c])\n",
      "/home/buihuy/Intent-Detection/venv/lib/python3.7/site-packages/sklearn/multiclass.py:80: UserWarning: Label not 3 is present in all training examples.\n",
      "  \"Label %s is present in all training examples.\" % str(classes[c])\n",
      "/home/buihuy/Intent-Detection/venv/lib/python3.7/site-packages/sklearn/multiclass.py:80: UserWarning: Label not 3 is present in all training examples.\n",
      "  \"Label %s is present in all training examples.\" % str(classes[c])\n",
      "/home/buihuy/Intent-Detection/venv/lib/python3.7/site-packages/sklearn/multiclass.py:80: UserWarning: Label not 3 is present in all training examples.\n",
      "  \"Label %s is present in all training examples.\" % str(classes[c])\n",
      "/home/buihuy/Intent-Detection/venv/lib/python3.7/site-packages/sklearn/multiclass.py:80: UserWarning: Label not 3 is present in all training examples.\n",
      "  \"Label %s is present in all training examples.\" % str(classes[c])\n",
      "/home/buihuy/Intent-Detection/venv/lib/python3.7/site-packages/sklearn/multiclass.py:80: UserWarning: Label not 3 is present in all training examples.\n",
      "  \"Label %s is present in all training examples.\" % str(classes[c])\n",
      "/home/buihuy/Intent-Detection/venv/lib/python3.7/site-packages/sklearn/multiclass.py:80: UserWarning: Label not 3 is present in all training examples.\n",
      "  \"Label %s is present in all training examples.\" % str(classes[c])\n",
      "/home/buihuy/Intent-Detection/venv/lib/python3.7/site-packages/sklearn/multiclass.py:80: UserWarning: Label not 3 is present in all training examples.\n",
      "  \"Label %s is present in all training examples.\" % str(classes[c])\n",
      "/home/buihuy/Intent-Detection/venv/lib/python3.7/site-packages/sklearn/multiclass.py:80: UserWarning: Label not 3 is present in all training examples.\n",
      "  \"Label %s is present in all training examples.\" % str(classes[c])\n",
      "/home/buihuy/Intent-Detection/venv/lib/python3.7/site-packages/sklearn/multiclass.py:80: UserWarning: Label not 3 is present in all training examples.\n",
      "  \"Label %s is present in all training examples.\" % str(classes[c])\n",
      "/home/buihuy/Intent-Detection/venv/lib/python3.7/site-packages/sklearn/multiclass.py:80: UserWarning: Label not 3 is present in all training examples.\n",
      "  \"Label %s is present in all training examples.\" % str(classes[c])\n",
      "/home/buihuy/Intent-Detection/venv/lib/python3.7/site-packages/sklearn/multiclass.py:80: UserWarning: Label not 3 is present in all training examples.\n",
      "  \"Label %s is present in all training examples.\" % str(classes[c])\n",
      "/home/buihuy/Intent-Detection/venv/lib/python3.7/site-packages/sklearn/multiclass.py:80: UserWarning: Label not 3 is present in all training examples.\n",
      "  \"Label %s is present in all training examples.\" % str(classes[c])\n",
      "/home/buihuy/Intent-Detection/venv/lib/python3.7/site-packages/sklearn/multiclass.py:80: UserWarning: Label not 3 is present in all training examples.\n",
      "  \"Label %s is present in all training examples.\" % str(classes[c])\n",
      "/home/buihuy/Intent-Detection/venv/lib/python3.7/site-packages/sklearn/multiclass.py:80: UserWarning: Label not 3 is present in all training examples.\n",
      "  \"Label %s is present in all training examples.\" % str(classes[c])\n",
      "/home/buihuy/Intent-Detection/venv/lib/python3.7/site-packages/sklearn/multiclass.py:80: UserWarning: Label not 3 is present in all training examples.\n",
      "  \"Label %s is present in all training examples.\" % str(classes[c])\n",
      "/home/buihuy/Intent-Detection/venv/lib/python3.7/site-packages/sklearn/multiclass.py:80: UserWarning: Label not 3 is present in all training examples.\n",
      "  \"Label %s is present in all training examples.\" % str(classes[c])\n",
      "/home/buihuy/Intent-Detection/venv/lib/python3.7/site-packages/sklearn/multiclass.py:80: UserWarning: Label not 3 is present in all training examples.\n",
      "  \"Label %s is present in all training examples.\" % str(classes[c])\n",
      "/home/buihuy/Intent-Detection/venv/lib/python3.7/site-packages/sklearn/multiclass.py:80: UserWarning: Label not 3 is present in all training examples.\n",
      "  \"Label %s is present in all training examples.\" % str(classes[c])\n",
      "/home/buihuy/Intent-Detection/venv/lib/python3.7/site-packages/sklearn/multiclass.py:80: UserWarning: Label not 3 is present in all training examples.\n",
      "  \"Label %s is present in all training examples.\" % str(classes[c])\n",
      "/home/buihuy/Intent-Detection/venv/lib/python3.7/site-packages/sklearn/multiclass.py:80: UserWarning: Label not 3 is present in all training examples.\n",
      "  \"Label %s is present in all training examples.\" % str(classes[c])\n",
      "/home/buihuy/Intent-Detection/venv/lib/python3.7/site-packages/sklearn/multiclass.py:80: UserWarning: Label not 3 is present in all training examples.\n",
      "  \"Label %s is present in all training examples.\" % str(classes[c])\n",
      "/home/buihuy/Intent-Detection/venv/lib/python3.7/site-packages/sklearn/multiclass.py:80: UserWarning: Label not 3 is present in all training examples.\n",
      "  \"Label %s is present in all training examples.\" % str(classes[c])\n",
      "/home/buihuy/Intent-Detection/venv/lib/python3.7/site-packages/sklearn/multiclass.py:80: UserWarning: Label not 3 is present in all training examples.\n",
      "  \"Label %s is present in all training examples.\" % str(classes[c])\n",
      "/home/buihuy/Intent-Detection/venv/lib/python3.7/site-packages/sklearn/multiclass.py:80: UserWarning: Label not 3 is present in all training examples.\n",
      "  \"Label %s is present in all training examples.\" % str(classes[c])\n",
      "/home/buihuy/Intent-Detection/venv/lib/python3.7/site-packages/sklearn/multiclass.py:80: UserWarning: Label not 3 is present in all training examples.\n",
      "  \"Label %s is present in all training examples.\" % str(classes[c])\n",
      "/home/buihuy/Intent-Detection/venv/lib/python3.7/site-packages/sklearn/multiclass.py:80: UserWarning: Label not 3 is present in all training examples.\n",
      "  \"Label %s is present in all training examples.\" % str(classes[c])\n",
      "/home/buihuy/Intent-Detection/venv/lib/python3.7/site-packages/sklearn/multiclass.py:80: UserWarning: Label not 3 is present in all training examples.\n",
      "  \"Label %s is present in all training examples.\" % str(classes[c])\n",
      "/home/buihuy/Intent-Detection/venv/lib/python3.7/site-packages/sklearn/multiclass.py:80: UserWarning: Label not 3 is present in all training examples.\n",
      "  \"Label %s is present in all training examples.\" % str(classes[c])\n",
      "/home/buihuy/Intent-Detection/venv/lib/python3.7/site-packages/sklearn/multiclass.py:80: UserWarning: Label not 3 is present in all training examples.\n",
      "  \"Label %s is present in all training examples.\" % str(classes[c])\n",
      "/home/buihuy/Intent-Detection/venv/lib/python3.7/site-packages/sklearn/multiclass.py:80: UserWarning: Label not 3 is present in all training examples.\n",
      "  \"Label %s is present in all training examples.\" % str(classes[c])\n",
      "/home/buihuy/Intent-Detection/venv/lib/python3.7/site-packages/sklearn/multiclass.py:80: UserWarning: Label not 3 is present in all training examples.\n",
      "  \"Label %s is present in all training examples.\" % str(classes[c])\n",
      "/home/buihuy/Intent-Detection/venv/lib/python3.7/site-packages/sklearn/multiclass.py:80: UserWarning: Label not 3 is present in all training examples.\n",
      "  \"Label %s is present in all training examples.\" % str(classes[c])\n",
      "/home/buihuy/Intent-Detection/venv/lib/python3.7/site-packages/sklearn/multiclass.py:80: UserWarning: Label not 3 is present in all training examples.\n",
      "  \"Label %s is present in all training examples.\" % str(classes[c])\n",
      "/home/buihuy/Intent-Detection/venv/lib/python3.7/site-packages/sklearn/multiclass.py:80: UserWarning: Label not 3 is present in all training examples.\n",
      "  \"Label %s is present in all training examples.\" % str(classes[c])\n",
      "/home/buihuy/Intent-Detection/venv/lib/python3.7/site-packages/sklearn/multiclass.py:80: UserWarning: Label not 3 is present in all training examples.\n",
      "  \"Label %s is present in all training examples.\" % str(classes[c])\n",
      "/home/buihuy/Intent-Detection/venv/lib/python3.7/site-packages/sklearn/multiclass.py:80: UserWarning: Label not 3 is present in all training examples.\n",
      "  \"Label %s is present in all training examples.\" % str(classes[c])\n",
      "/home/buihuy/Intent-Detection/venv/lib/python3.7/site-packages/sklearn/multiclass.py:80: UserWarning: Label not 3 is present in all training examples.\n",
      "  \"Label %s is present in all training examples.\" % str(classes[c])\n",
      "/home/buihuy/Intent-Detection/venv/lib/python3.7/site-packages/sklearn/multiclass.py:80: UserWarning: Label not 3 is present in all training examples.\n",
      "  \"Label %s is present in all training examples.\" % str(classes[c])\n",
      "/home/buihuy/Intent-Detection/venv/lib/python3.7/site-packages/sklearn/multiclass.py:80: UserWarning: Label not 3 is present in all training examples.\n",
      "  \"Label %s is present in all training examples.\" % str(classes[c])\n",
      "/home/buihuy/Intent-Detection/venv/lib/python3.7/site-packages/sklearn/multiclass.py:80: UserWarning: Label not 3 is present in all training examples.\n",
      "  \"Label %s is present in all training examples.\" % str(classes[c])\n",
      "/home/buihuy/Intent-Detection/venv/lib/python3.7/site-packages/sklearn/multiclass.py:80: UserWarning: Label not 3 is present in all training examples.\n",
      "  \"Label %s is present in all training examples.\" % str(classes[c])\n",
      "/home/buihuy/Intent-Detection/venv/lib/python3.7/site-packages/sklearn/multiclass.py:80: UserWarning: Label not 3 is present in all training examples.\n",
      "  \"Label %s is present in all training examples.\" % str(classes[c])\n",
      "/home/buihuy/Intent-Detection/venv/lib/python3.7/site-packages/sklearn/multiclass.py:80: UserWarning: Label not 3 is present in all training examples.\n",
      "  \"Label %s is present in all training examples.\" % str(classes[c])\n",
      "/home/buihuy/Intent-Detection/venv/lib/python3.7/site-packages/sklearn/multiclass.py:80: UserWarning: Label not 3 is present in all training examples.\n",
      "  \"Label %s is present in all training examples.\" % str(classes[c])\n",
      "/home/buihuy/Intent-Detection/venv/lib/python3.7/site-packages/sklearn/multiclass.py:80: UserWarning: Label not 3 is present in all training examples.\n",
      "  \"Label %s is present in all training examples.\" % str(classes[c])\n",
      "/home/buihuy/Intent-Detection/venv/lib/python3.7/site-packages/sklearn/multiclass.py:80: UserWarning: Label not 3 is present in all training examples.\n",
      "  \"Label %s is present in all training examples.\" % str(classes[c])\n",
      "/home/buihuy/Intent-Detection/venv/lib/python3.7/site-packages/sklearn/multiclass.py:80: UserWarning: Label not 3 is present in all training examples.\n",
      "  \"Label %s is present in all training examples.\" % str(classes[c])\n",
      "/home/buihuy/Intent-Detection/venv/lib/python3.7/site-packages/sklearn/multiclass.py:80: UserWarning: Label not 3 is present in all training examples.\n",
      "  \"Label %s is present in all training examples.\" % str(classes[c])\n",
      "/home/buihuy/Intent-Detection/venv/lib/python3.7/site-packages/sklearn/multiclass.py:80: UserWarning: Label not 3 is present in all training examples.\n",
      "  \"Label %s is present in all training examples.\" % str(classes[c])\n",
      "/home/buihuy/Intent-Detection/venv/lib/python3.7/site-packages/sklearn/multiclass.py:80: UserWarning: Label not 3 is present in all training examples.\n",
      "  \"Label %s is present in all training examples.\" % str(classes[c])\n",
      "/home/buihuy/Intent-Detection/venv/lib/python3.7/site-packages/sklearn/multiclass.py:80: UserWarning: Label not 3 is present in all training examples.\n",
      "  \"Label %s is present in all training examples.\" % str(classes[c])\n",
      "/home/buihuy/Intent-Detection/venv/lib/python3.7/site-packages/sklearn/multiclass.py:80: UserWarning: Label not 3 is present in all training examples.\n",
      "  \"Label %s is present in all training examples.\" % str(classes[c])\n",
      "/home/buihuy/Intent-Detection/venv/lib/python3.7/site-packages/sklearn/multiclass.py:80: UserWarning: Label not 3 is present in all training examples.\n",
      "  \"Label %s is present in all training examples.\" % str(classes[c])\n",
      "/home/buihuy/Intent-Detection/venv/lib/python3.7/site-packages/sklearn/multiclass.py:80: UserWarning: Label not 3 is present in all training examples.\n",
      "  \"Label %s is present in all training examples.\" % str(classes[c])\n",
      "/home/buihuy/Intent-Detection/venv/lib/python3.7/site-packages/sklearn/multiclass.py:80: UserWarning: Label not 3 is present in all training examples.\n",
      "  \"Label %s is present in all training examples.\" % str(classes[c])\n",
      "/home/buihuy/Intent-Detection/venv/lib/python3.7/site-packages/sklearn/multiclass.py:80: UserWarning: Label not 3 is present in all training examples.\n",
      "  \"Label %s is present in all training examples.\" % str(classes[c])\n",
      "/home/buihuy/Intent-Detection/venv/lib/python3.7/site-packages/sklearn/multiclass.py:80: UserWarning: Label not 3 is present in all training examples.\n",
      "  \"Label %s is present in all training examples.\" % str(classes[c])\n",
      "/home/buihuy/Intent-Detection/venv/lib/python3.7/site-packages/sklearn/multiclass.py:80: UserWarning: Label not 3 is present in all training examples.\n",
      "  \"Label %s is present in all training examples.\" % str(classes[c])\n",
      "/home/buihuy/Intent-Detection/venv/lib/python3.7/site-packages/sklearn/multiclass.py:80: UserWarning: Label not 3 is present in all training examples.\n",
      "  \"Label %s is present in all training examples.\" % str(classes[c])\n",
      "/home/buihuy/Intent-Detection/venv/lib/python3.7/site-packages/sklearn/multiclass.py:80: UserWarning: Label not 3 is present in all training examples.\n",
      "  \"Label %s is present in all training examples.\" % str(classes[c])\n",
      "/home/buihuy/Intent-Detection/venv/lib/python3.7/site-packages/sklearn/multiclass.py:80: UserWarning: Label not 3 is present in all training examples.\n",
      "  \"Label %s is present in all training examples.\" % str(classes[c])\n",
      "/home/buihuy/Intent-Detection/venv/lib/python3.7/site-packages/sklearn/multiclass.py:80: UserWarning: Label not 3 is present in all training examples.\n",
      "  \"Label %s is present in all training examples.\" % str(classes[c])\n",
      "/home/buihuy/Intent-Detection/venv/lib/python3.7/site-packages/sklearn/multiclass.py:80: UserWarning: Label not 3 is present in all training examples.\n",
      "  \"Label %s is present in all training examples.\" % str(classes[c])\n",
      "/home/buihuy/Intent-Detection/venv/lib/python3.7/site-packages/sklearn/multiclass.py:80: UserWarning: Label not 3 is present in all training examples.\n",
      "  \"Label %s is present in all training examples.\" % str(classes[c])\n",
      "/home/buihuy/Intent-Detection/venv/lib/python3.7/site-packages/sklearn/multiclass.py:80: UserWarning: Label not 3 is present in all training examples.\n",
      "  \"Label %s is present in all training examples.\" % str(classes[c])\n",
      "/home/buihuy/Intent-Detection/venv/lib/python3.7/site-packages/sklearn/multiclass.py:80: UserWarning: Label not 3 is present in all training examples.\n",
      "  \"Label %s is present in all training examples.\" % str(classes[c])\n",
      "/home/buihuy/Intent-Detection/venv/lib/python3.7/site-packages/sklearn/multiclass.py:80: UserWarning: Label not 3 is present in all training examples.\n",
      "  \"Label %s is present in all training examples.\" % str(classes[c])\n",
      "/home/buihuy/Intent-Detection/venv/lib/python3.7/site-packages/sklearn/multiclass.py:80: UserWarning: Label not 3 is present in all training examples.\n",
      "  \"Label %s is present in all training examples.\" % str(classes[c])\n",
      "/home/buihuy/Intent-Detection/venv/lib/python3.7/site-packages/sklearn/multiclass.py:80: UserWarning: Label not 3 is present in all training examples.\n",
      "  \"Label %s is present in all training examples.\" % str(classes[c])\n",
      "/home/buihuy/Intent-Detection/venv/lib/python3.7/site-packages/sklearn/multiclass.py:80: UserWarning: Label not 3 is present in all training examples.\n",
      "  \"Label %s is present in all training examples.\" % str(classes[c])\n",
      "/home/buihuy/Intent-Detection/venv/lib/python3.7/site-packages/sklearn/multiclass.py:80: UserWarning: Label not 3 is present in all training examples.\n",
      "  \"Label %s is present in all training examples.\" % str(classes[c])\n",
      "/home/buihuy/Intent-Detection/venv/lib/python3.7/site-packages/sklearn/multiclass.py:80: UserWarning: Label not 3 is present in all training examples.\n",
      "  \"Label %s is present in all training examples.\" % str(classes[c])\n",
      "/home/buihuy/Intent-Detection/venv/lib/python3.7/site-packages/sklearn/multiclass.py:80: UserWarning: Label not 3 is present in all training examples.\n",
      "  \"Label %s is present in all training examples.\" % str(classes[c])\n",
      "/home/buihuy/Intent-Detection/venv/lib/python3.7/site-packages/sklearn/multiclass.py:80: UserWarning: Label not 3 is present in all training examples.\n",
      "  \"Label %s is present in all training examples.\" % str(classes[c])\n",
      "/home/buihuy/Intent-Detection/venv/lib/python3.7/site-packages/sklearn/multiclass.py:80: UserWarning: Label not 3 is present in all training examples.\n",
      "  \"Label %s is present in all training examples.\" % str(classes[c])\n",
      "/home/buihuy/Intent-Detection/venv/lib/python3.7/site-packages/sklearn/multiclass.py:80: UserWarning: Label not 3 is present in all training examples.\n",
      "  \"Label %s is present in all training examples.\" % str(classes[c])\n",
      "/home/buihuy/Intent-Detection/venv/lib/python3.7/site-packages/sklearn/multiclass.py:80: UserWarning: Label not 3 is present in all training examples.\n",
      "  \"Label %s is present in all training examples.\" % str(classes[c])\n",
      "/home/buihuy/Intent-Detection/venv/lib/python3.7/site-packages/sklearn/multiclass.py:80: UserWarning: Label not 3 is present in all training examples.\n",
      "  \"Label %s is present in all training examples.\" % str(classes[c])\n",
      "/home/buihuy/Intent-Detection/venv/lib/python3.7/site-packages/sklearn/multiclass.py:80: UserWarning: Label not 3 is present in all training examples.\n",
      "  \"Label %s is present in all training examples.\" % str(classes[c])\n",
      "/home/buihuy/Intent-Detection/venv/lib/python3.7/site-packages/sklearn/multiclass.py:80: UserWarning: Label not 3 is present in all training examples.\n",
      "  \"Label %s is present in all training examples.\" % str(classes[c])\n",
      "/home/buihuy/Intent-Detection/venv/lib/python3.7/site-packages/sklearn/multiclass.py:80: UserWarning: Label not 3 is present in all training examples.\n",
      "  \"Label %s is present in all training examples.\" % str(classes[c])\n",
      "/home/buihuy/Intent-Detection/venv/lib/python3.7/site-packages/sklearn/multiclass.py:80: UserWarning: Label not 3 is present in all training examples.\n",
      "  \"Label %s is present in all training examples.\" % str(classes[c])\n",
      "/home/buihuy/Intent-Detection/venv/lib/python3.7/site-packages/sklearn/multiclass.py:80: UserWarning: Label not 3 is present in all training examples.\n",
      "  \"Label %s is present in all training examples.\" % str(classes[c])\n",
      "/home/buihuy/Intent-Detection/venv/lib/python3.7/site-packages/sklearn/multiclass.py:80: UserWarning: Label not 3 is present in all training examples.\n",
      "  \"Label %s is present in all training examples.\" % str(classes[c])\n",
      "/home/buihuy/Intent-Detection/venv/lib/python3.7/site-packages/sklearn/multiclass.py:80: UserWarning: Label not 3 is present in all training examples.\n",
      "  \"Label %s is present in all training examples.\" % str(classes[c])\n",
      "/home/buihuy/Intent-Detection/venv/lib/python3.7/site-packages/sklearn/multiclass.py:80: UserWarning: Label not 3 is present in all training examples.\n",
      "  \"Label %s is present in all training examples.\" % str(classes[c])\n",
      "/home/buihuy/Intent-Detection/venv/lib/python3.7/site-packages/sklearn/multiclass.py:80: UserWarning: Label not 3 is present in all training examples.\n",
      "  \"Label %s is present in all training examples.\" % str(classes[c])\n",
      "/home/buihuy/Intent-Detection/venv/lib/python3.7/site-packages/sklearn/multiclass.py:80: UserWarning: Label not 3 is present in all training examples.\n",
      "  \"Label %s is present in all training examples.\" % str(classes[c])\n",
      "/home/buihuy/Intent-Detection/venv/lib/python3.7/site-packages/sklearn/multiclass.py:80: UserWarning: Label not 3 is present in all training examples.\n",
      "  \"Label %s is present in all training examples.\" % str(classes[c])\n",
      "/home/buihuy/Intent-Detection/venv/lib/python3.7/site-packages/sklearn/multiclass.py:80: UserWarning: Label not 3 is present in all training examples.\n",
      "  \"Label %s is present in all training examples.\" % str(classes[c])\n",
      "/home/buihuy/Intent-Detection/venv/lib/python3.7/site-packages/sklearn/multiclass.py:80: UserWarning: Label not 3 is present in all training examples.\n",
      "  \"Label %s is present in all training examples.\" % str(classes[c])\n",
      "/home/buihuy/Intent-Detection/venv/lib/python3.7/site-packages/sklearn/multiclass.py:80: UserWarning: Label not 3 is present in all training examples.\n",
      "  \"Label %s is present in all training examples.\" % str(classes[c])\n",
      "/home/buihuy/Intent-Detection/venv/lib/python3.7/site-packages/sklearn/multiclass.py:80: UserWarning: Label not 3 is present in all training examples.\n",
      "  \"Label %s is present in all training examples.\" % str(classes[c])\n",
      "/home/buihuy/Intent-Detection/venv/lib/python3.7/site-packages/sklearn/multiclass.py:80: UserWarning: Label not 3 is present in all training examples.\n",
      "  \"Label %s is present in all training examples.\" % str(classes[c])\n",
      "/home/buihuy/Intent-Detection/venv/lib/python3.7/site-packages/sklearn/multiclass.py:80: UserWarning: Label not 3 is present in all training examples.\n",
      "  \"Label %s is present in all training examples.\" % str(classes[c])\n",
      "/home/buihuy/Intent-Detection/venv/lib/python3.7/site-packages/sklearn/multiclass.py:80: UserWarning: Label not 3 is present in all training examples.\n",
      "  \"Label %s is present in all training examples.\" % str(classes[c])\n",
      "/home/buihuy/Intent-Detection/venv/lib/python3.7/site-packages/sklearn/multiclass.py:80: UserWarning: Label not 3 is present in all training examples.\n",
      "  \"Label %s is present in all training examples.\" % str(classes[c])\n",
      "/home/buihuy/Intent-Detection/venv/lib/python3.7/site-packages/sklearn/multiclass.py:80: UserWarning: Label not 3 is present in all training examples.\n",
      "  \"Label %s is present in all training examples.\" % str(classes[c])\n",
      "/home/buihuy/Intent-Detection/venv/lib/python3.7/site-packages/sklearn/multiclass.py:80: UserWarning: Label not 3 is present in all training examples.\n",
      "  \"Label %s is present in all training examples.\" % str(classes[c])\n",
      "/home/buihuy/Intent-Detection/venv/lib/python3.7/site-packages/sklearn/multiclass.py:80: UserWarning: Label not 3 is present in all training examples.\n",
      "  \"Label %s is present in all training examples.\" % str(classes[c])\n",
      "/home/buihuy/Intent-Detection/venv/lib/python3.7/site-packages/sklearn/multiclass.py:80: UserWarning: Label not 3 is present in all training examples.\n",
      "  \"Label %s is present in all training examples.\" % str(classes[c])\n",
      "/home/buihuy/Intent-Detection/venv/lib/python3.7/site-packages/sklearn/multiclass.py:80: UserWarning: Label not 3 is present in all training examples.\n",
      "  \"Label %s is present in all training examples.\" % str(classes[c])\n",
      "/home/buihuy/Intent-Detection/venv/lib/python3.7/site-packages/sklearn/multiclass.py:80: UserWarning: Label not 3 is present in all training examples.\n",
      "  \"Label %s is present in all training examples.\" % str(classes[c])\n",
      "/home/buihuy/Intent-Detection/venv/lib/python3.7/site-packages/sklearn/multiclass.py:80: UserWarning: Label not 3 is present in all training examples.\n",
      "  \"Label %s is present in all training examples.\" % str(classes[c])\n",
      "/home/buihuy/Intent-Detection/venv/lib/python3.7/site-packages/sklearn/multiclass.py:80: UserWarning: Label not 3 is present in all training examples.\n",
      "  \"Label %s is present in all training examples.\" % str(classes[c])\n",
      "/home/buihuy/Intent-Detection/venv/lib/python3.7/site-packages/sklearn/multiclass.py:80: UserWarning: Label not 3 is present in all training examples.\n",
      "  \"Label %s is present in all training examples.\" % str(classes[c])\n",
      "/home/buihuy/Intent-Detection/venv/lib/python3.7/site-packages/sklearn/multiclass.py:80: UserWarning: Label not 3 is present in all training examples.\n",
      "  \"Label %s is present in all training examples.\" % str(classes[c])\n",
      "/home/buihuy/Intent-Detection/venv/lib/python3.7/site-packages/sklearn/multiclass.py:80: UserWarning: Label not 3 is present in all training examples.\n",
      "  \"Label %s is present in all training examples.\" % str(classes[c])\n",
      "/home/buihuy/Intent-Detection/venv/lib/python3.7/site-packages/sklearn/multiclass.py:80: UserWarning: Label not 3 is present in all training examples.\n",
      "  \"Label %s is present in all training examples.\" % str(classes[c])\n",
      "/home/buihuy/Intent-Detection/venv/lib/python3.7/site-packages/sklearn/multiclass.py:80: UserWarning: Label not 3 is present in all training examples.\n",
      "  \"Label %s is present in all training examples.\" % str(classes[c])\n",
      "/home/buihuy/Intent-Detection/venv/lib/python3.7/site-packages/sklearn/multiclass.py:80: UserWarning: Label not 3 is present in all training examples.\n",
      "  \"Label %s is present in all training examples.\" % str(classes[c])\n",
      "/home/buihuy/Intent-Detection/venv/lib/python3.7/site-packages/sklearn/multiclass.py:80: UserWarning: Label not 3 is present in all training examples.\n",
      "  \"Label %s is present in all training examples.\" % str(classes[c])\n",
      "/home/buihuy/Intent-Detection/venv/lib/python3.7/site-packages/sklearn/multiclass.py:80: UserWarning: Label not 3 is present in all training examples.\n",
      "  \"Label %s is present in all training examples.\" % str(classes[c])\n",
      "/home/buihuy/Intent-Detection/venv/lib/python3.7/site-packages/sklearn/multiclass.py:80: UserWarning: Label not 3 is present in all training examples.\n",
      "  \"Label %s is present in all training examples.\" % str(classes[c])\n",
      "/home/buihuy/Intent-Detection/venv/lib/python3.7/site-packages/sklearn/multiclass.py:80: UserWarning: Label not 3 is present in all training examples.\n",
      "  \"Label %s is present in all training examples.\" % str(classes[c])\n",
      "/home/buihuy/Intent-Detection/venv/lib/python3.7/site-packages/sklearn/multiclass.py:80: UserWarning: Label not 3 is present in all training examples.\n",
      "  \"Label %s is present in all training examples.\" % str(classes[c])\n",
      "/home/buihuy/Intent-Detection/venv/lib/python3.7/site-packages/sklearn/multiclass.py:80: UserWarning: Label not 3 is present in all training examples.\n",
      "  \"Label %s is present in all training examples.\" % str(classes[c])\n",
      "/home/buihuy/Intent-Detection/venv/lib/python3.7/site-packages/sklearn/multiclass.py:80: UserWarning: Label not 3 is present in all training examples.\n",
      "  \"Label %s is present in all training examples.\" % str(classes[c])\n",
      "/home/buihuy/Intent-Detection/venv/lib/python3.7/site-packages/sklearn/multiclass.py:80: UserWarning: Label not 3 is present in all training examples.\n",
      "  \"Label %s is present in all training examples.\" % str(classes[c])\n",
      "/home/buihuy/Intent-Detection/venv/lib/python3.7/site-packages/sklearn/multiclass.py:80: UserWarning: Label not 3 is present in all training examples.\n",
      "  \"Label %s is present in all training examples.\" % str(classes[c])\n",
      "/home/buihuy/Intent-Detection/venv/lib/python3.7/site-packages/sklearn/multiclass.py:80: UserWarning: Label not 3 is present in all training examples.\n",
      "  \"Label %s is present in all training examples.\" % str(classes[c])\n",
      "/home/buihuy/Intent-Detection/venv/lib/python3.7/site-packages/sklearn/multiclass.py:80: UserWarning: Label not 3 is present in all training examples.\n",
      "  \"Label %s is present in all training examples.\" % str(classes[c])\n",
      "/home/buihuy/Intent-Detection/venv/lib/python3.7/site-packages/sklearn/multiclass.py:80: UserWarning: Label not 3 is present in all training examples.\n",
      "  \"Label %s is present in all training examples.\" % str(classes[c])\n",
      "/home/buihuy/Intent-Detection/venv/lib/python3.7/site-packages/sklearn/multiclass.py:80: UserWarning: Label not 3 is present in all training examples.\n",
      "  \"Label %s is present in all training examples.\" % str(classes[c])\n",
      "/home/buihuy/Intent-Detection/venv/lib/python3.7/site-packages/sklearn/multiclass.py:80: UserWarning: Label not 3 is present in all training examples.\n",
      "  \"Label %s is present in all training examples.\" % str(classes[c])\n",
      "/home/buihuy/Intent-Detection/venv/lib/python3.7/site-packages/sklearn/multiclass.py:80: UserWarning: Label not 3 is present in all training examples.\n",
      "  \"Label %s is present in all training examples.\" % str(classes[c])\n",
      "/home/buihuy/Intent-Detection/venv/lib/python3.7/site-packages/sklearn/multiclass.py:80: UserWarning: Label not 3 is present in all training examples.\n",
      "  \"Label %s is present in all training examples.\" % str(classes[c])\n",
      "/home/buihuy/Intent-Detection/venv/lib/python3.7/site-packages/sklearn/multiclass.py:80: UserWarning: Label not 3 is present in all training examples.\n",
      "  \"Label %s is present in all training examples.\" % str(classes[c])\n",
      "/home/buihuy/Intent-Detection/venv/lib/python3.7/site-packages/sklearn/multiclass.py:80: UserWarning: Label not 3 is present in all training examples.\n",
      "  \"Label %s is present in all training examples.\" % str(classes[c])\n",
      "/home/buihuy/Intent-Detection/venv/lib/python3.7/site-packages/sklearn/multiclass.py:80: UserWarning: Label not 3 is present in all training examples.\n",
      "  \"Label %s is present in all training examples.\" % str(classes[c])\n",
      "/home/buihuy/Intent-Detection/venv/lib/python3.7/site-packages/sklearn/multiclass.py:80: UserWarning: Label not 3 is present in all training examples.\n",
      "  \"Label %s is present in all training examples.\" % str(classes[c])\n",
      "/home/buihuy/Intent-Detection/venv/lib/python3.7/site-packages/sklearn/multiclass.py:80: UserWarning: Label not 3 is present in all training examples.\n",
      "  \"Label %s is present in all training examples.\" % str(classes[c])\n",
      "/home/buihuy/Intent-Detection/venv/lib/python3.7/site-packages/sklearn/multiclass.py:80: UserWarning: Label not 3 is present in all training examples.\n",
      "  \"Label %s is present in all training examples.\" % str(classes[c])\n",
      "/home/buihuy/Intent-Detection/venv/lib/python3.7/site-packages/sklearn/multiclass.py:80: UserWarning: Label not 3 is present in all training examples.\n",
      "  \"Label %s is present in all training examples.\" % str(classes[c])\n",
      "/home/buihuy/Intent-Detection/venv/lib/python3.7/site-packages/sklearn/multiclass.py:80: UserWarning: Label not 3 is present in all training examples.\n",
      "  \"Label %s is present in all training examples.\" % str(classes[c])\n",
      "/home/buihuy/Intent-Detection/venv/lib/python3.7/site-packages/sklearn/multiclass.py:80: UserWarning: Label not 3 is present in all training examples.\n",
      "  \"Label %s is present in all training examples.\" % str(classes[c])\n",
      "/home/buihuy/Intent-Detection/venv/lib/python3.7/site-packages/sklearn/multiclass.py:80: UserWarning: Label not 3 is present in all training examples.\n",
      "  \"Label %s is present in all training examples.\" % str(classes[c])\n",
      "/home/buihuy/Intent-Detection/venv/lib/python3.7/site-packages/sklearn/multiclass.py:80: UserWarning: Label not 3 is present in all training examples.\n",
      "  \"Label %s is present in all training examples.\" % str(classes[c])\n",
      "/home/buihuy/Intent-Detection/venv/lib/python3.7/site-packages/sklearn/multiclass.py:80: UserWarning: Label not 3 is present in all training examples.\n",
      "  \"Label %s is present in all training examples.\" % str(classes[c])\n",
      "/home/buihuy/Intent-Detection/venv/lib/python3.7/site-packages/sklearn/multiclass.py:80: UserWarning: Label not 3 is present in all training examples.\n",
      "  \"Label %s is present in all training examples.\" % str(classes[c])\n",
      "/home/buihuy/Intent-Detection/venv/lib/python3.7/site-packages/sklearn/multiclass.py:80: UserWarning: Label not 3 is present in all training examples.\n",
      "  \"Label %s is present in all training examples.\" % str(classes[c])\n",
      "/home/buihuy/Intent-Detection/venv/lib/python3.7/site-packages/sklearn/multiclass.py:80: UserWarning: Label not 3 is present in all training examples.\n",
      "  \"Label %s is present in all training examples.\" % str(classes[c])\n",
      "/home/buihuy/Intent-Detection/venv/lib/python3.7/site-packages/sklearn/multiclass.py:80: UserWarning: Label not 3 is present in all training examples.\n",
      "  \"Label %s is present in all training examples.\" % str(classes[c])\n",
      "/home/buihuy/Intent-Detection/venv/lib/python3.7/site-packages/sklearn/multiclass.py:80: UserWarning: Label not 3 is present in all training examples.\n",
      "  \"Label %s is present in all training examples.\" % str(classes[c])\n",
      "/home/buihuy/Intent-Detection/venv/lib/python3.7/site-packages/sklearn/multiclass.py:80: UserWarning: Label not 3 is present in all training examples.\n",
      "  \"Label %s is present in all training examples.\" % str(classes[c])\n",
      "/home/buihuy/Intent-Detection/venv/lib/python3.7/site-packages/sklearn/multiclass.py:80: UserWarning: Label not 3 is present in all training examples.\n",
      "  \"Label %s is present in all training examples.\" % str(classes[c])\n",
      "/home/buihuy/Intent-Detection/venv/lib/python3.7/site-packages/sklearn/multiclass.py:80: UserWarning: Label not 3 is present in all training examples.\n",
      "  \"Label %s is present in all training examples.\" % str(classes[c])\n",
      "/home/buihuy/Intent-Detection/venv/lib/python3.7/site-packages/sklearn/multiclass.py:80: UserWarning: Label not 3 is present in all training examples.\n",
      "  \"Label %s is present in all training examples.\" % str(classes[c])\n",
      "/home/buihuy/Intent-Detection/venv/lib/python3.7/site-packages/sklearn/multiclass.py:80: UserWarning: Label not 3 is present in all training examples.\n",
      "  \"Label %s is present in all training examples.\" % str(classes[c])\n",
      "/home/buihuy/Intent-Detection/venv/lib/python3.7/site-packages/sklearn/multiclass.py:80: UserWarning: Label not 3 is present in all training examples.\n",
      "  \"Label %s is present in all training examples.\" % str(classes[c])\n",
      "/home/buihuy/Intent-Detection/venv/lib/python3.7/site-packages/sklearn/multiclass.py:80: UserWarning: Label not 3 is present in all training examples.\n",
      "  \"Label %s is present in all training examples.\" % str(classes[c])\n",
      "/home/buihuy/Intent-Detection/venv/lib/python3.7/site-packages/sklearn/multiclass.py:80: UserWarning: Label not 3 is present in all training examples.\n",
      "  \"Label %s is present in all training examples.\" % str(classes[c])\n",
      "/home/buihuy/Intent-Detection/venv/lib/python3.7/site-packages/sklearn/multiclass.py:80: UserWarning: Label not 3 is present in all training examples.\n",
      "  \"Label %s is present in all training examples.\" % str(classes[c])\n",
      "/home/buihuy/Intent-Detection/venv/lib/python3.7/site-packages/joblib/externals/loky/process_executor.py:705: UserWarning: A worker stopped while some jobs were given to the executor. This can be caused by a too short worker timeout or by a memory leak.\n",
      "  \"timeout or by a memory leak.\", UserWarning\n",
      "/home/buihuy/Intent-Detection/venv/lib/python3.7/site-packages/sklearn/multiclass.py:80: UserWarning: Label not 3 is present in all training examples.\n",
      "  \"Label %s is present in all training examples.\" % str(classes[c])\n",
      "/home/buihuy/Intent-Detection/venv/lib/python3.7/site-packages/sklearn/multiclass.py:80: UserWarning: Label not 3 is present in all training examples.\n",
      "  \"Label %s is present in all training examples.\" % str(classes[c])\n",
      "/home/buihuy/Intent-Detection/venv/lib/python3.7/site-packages/sklearn/multiclass.py:80: UserWarning: Label not 3 is present in all training examples.\n",
      "  \"Label %s is present in all training examples.\" % str(classes[c])\n",
      "/home/buihuy/Intent-Detection/venv/lib/python3.7/site-packages/sklearn/multiclass.py:80: UserWarning: Label not 3 is present in all training examples.\n",
      "  \"Label %s is present in all training examples.\" % str(classes[c])\n",
      "/home/buihuy/Intent-Detection/venv/lib/python3.7/site-packages/sklearn/multiclass.py:80: UserWarning: Label not 3 is present in all training examples.\n",
      "  \"Label %s is present in all training examples.\" % str(classes[c])\n",
      "/home/buihuy/Intent-Detection/venv/lib/python3.7/site-packages/sklearn/multiclass.py:80: UserWarning: Label not 3 is present in all training examples.\n",
      "  \"Label %s is present in all training examples.\" % str(classes[c])\n",
      "/home/buihuy/Intent-Detection/venv/lib/python3.7/site-packages/sklearn/multiclass.py:80: UserWarning: Label not 3 is present in all training examples.\n",
      "  \"Label %s is present in all training examples.\" % str(classes[c])\n",
      "/home/buihuy/Intent-Detection/venv/lib/python3.7/site-packages/sklearn/multiclass.py:80: UserWarning: Label not 3 is present in all training examples.\n",
      "  \"Label %s is present in all training examples.\" % str(classes[c])\n",
      "/home/buihuy/Intent-Detection/venv/lib/python3.7/site-packages/sklearn/multiclass.py:80: UserWarning: Label not 3 is present in all training examples.\n",
      "  \"Label %s is present in all training examples.\" % str(classes[c])\n",
      "/home/buihuy/Intent-Detection/venv/lib/python3.7/site-packages/sklearn/multiclass.py:80: UserWarning: Label not 3 is present in all training examples.\n",
      "  \"Label %s is present in all training examples.\" % str(classes[c])\n",
      "/home/buihuy/Intent-Detection/venv/lib/python3.7/site-packages/sklearn/multiclass.py:80: UserWarning: Label not 3 is present in all training examples.\n",
      "  \"Label %s is present in all training examples.\" % str(classes[c])\n",
      "/home/buihuy/Intent-Detection/venv/lib/python3.7/site-packages/sklearn/multiclass.py:80: UserWarning: Label not 3 is present in all training examples.\n",
      "  \"Label %s is present in all training examples.\" % str(classes[c])\n",
      "/home/buihuy/Intent-Detection/venv/lib/python3.7/site-packages/sklearn/multiclass.py:80: UserWarning: Label not 3 is present in all training examples.\n",
      "  \"Label %s is present in all training examples.\" % str(classes[c])\n",
      "/home/buihuy/Intent-Detection/venv/lib/python3.7/site-packages/sklearn/multiclass.py:80: UserWarning: Label not 3 is present in all training examples.\n",
      "  \"Label %s is present in all training examples.\" % str(classes[c])\n",
      "/home/buihuy/Intent-Detection/venv/lib/python3.7/site-packages/sklearn/multiclass.py:80: UserWarning: Label not 3 is present in all training examples.\n",
      "  \"Label %s is present in all training examples.\" % str(classes[c])\n",
      "/home/buihuy/Intent-Detection/venv/lib/python3.7/site-packages/sklearn/multiclass.py:80: UserWarning: Label not 3 is present in all training examples.\n",
      "  \"Label %s is present in all training examples.\" % str(classes[c])\n",
      "/home/buihuy/Intent-Detection/venv/lib/python3.7/site-packages/sklearn/multiclass.py:80: UserWarning: Label not 3 is present in all training examples.\n",
      "  \"Label %s is present in all training examples.\" % str(classes[c])\n",
      "/home/buihuy/Intent-Detection/venv/lib/python3.7/site-packages/sklearn/multiclass.py:80: UserWarning: Label not 3 is present in all training examples.\n",
      "  \"Label %s is present in all training examples.\" % str(classes[c])\n",
      "/home/buihuy/Intent-Detection/venv/lib/python3.7/site-packages/sklearn/multiclass.py:80: UserWarning: Label not 3 is present in all training examples.\n",
      "  \"Label %s is present in all training examples.\" % str(classes[c])\n",
      "/home/buihuy/Intent-Detection/venv/lib/python3.7/site-packages/sklearn/multiclass.py:80: UserWarning: Label not 3 is present in all training examples.\n",
      "  \"Label %s is present in all training examples.\" % str(classes[c])\n",
      "/home/buihuy/Intent-Detection/venv/lib/python3.7/site-packages/sklearn/multiclass.py:80: UserWarning: Label not 3 is present in all training examples.\n",
      "  \"Label %s is present in all training examples.\" % str(classes[c])\n",
      "/home/buihuy/Intent-Detection/venv/lib/python3.7/site-packages/sklearn/multiclass.py:80: UserWarning: Label not 3 is present in all training examples.\n",
      "  \"Label %s is present in all training examples.\" % str(classes[c])\n",
      "/home/buihuy/Intent-Detection/venv/lib/python3.7/site-packages/sklearn/multiclass.py:80: UserWarning: Label not 3 is present in all training examples.\n",
      "  \"Label %s is present in all training examples.\" % str(classes[c])\n",
      "/home/buihuy/Intent-Detection/venv/lib/python3.7/site-packages/sklearn/multiclass.py:80: UserWarning: Label not 3 is present in all training examples.\n",
      "  \"Label %s is present in all training examples.\" % str(classes[c])\n",
      "/home/buihuy/Intent-Detection/venv/lib/python3.7/site-packages/sklearn/multiclass.py:80: UserWarning: Label not 3 is present in all training examples.\n",
      "  \"Label %s is present in all training examples.\" % str(classes[c])\n",
      "/home/buihuy/Intent-Detection/venv/lib/python3.7/site-packages/sklearn/multiclass.py:80: UserWarning: Label not 3 is present in all training examples.\n",
      "  \"Label %s is present in all training examples.\" % str(classes[c])\n",
      "/home/buihuy/Intent-Detection/venv/lib/python3.7/site-packages/sklearn/multiclass.py:80: UserWarning: Label not 3 is present in all training examples.\n",
      "  \"Label %s is present in all training examples.\" % str(classes[c])\n",
      "/home/buihuy/Intent-Detection/venv/lib/python3.7/site-packages/sklearn/multiclass.py:80: UserWarning: Label not 3 is present in all training examples.\n",
      "  \"Label %s is present in all training examples.\" % str(classes[c])\n",
      "/home/buihuy/Intent-Detection/venv/lib/python3.7/site-packages/sklearn/multiclass.py:80: UserWarning: Label not 3 is present in all training examples.\n",
      "  \"Label %s is present in all training examples.\" % str(classes[c])\n",
      "/home/buihuy/Intent-Detection/venv/lib/python3.7/site-packages/sklearn/multiclass.py:80: UserWarning: Label not 3 is present in all training examples.\n",
      "  \"Label %s is present in all training examples.\" % str(classes[c])\n",
      "/home/buihuy/Intent-Detection/venv/lib/python3.7/site-packages/sklearn/multiclass.py:80: UserWarning: Label not 3 is present in all training examples.\n",
      "  \"Label %s is present in all training examples.\" % str(classes[c])\n",
      "/home/buihuy/Intent-Detection/venv/lib/python3.7/site-packages/sklearn/multiclass.py:80: UserWarning: Label not 3 is present in all training examples.\n",
      "  \"Label %s is present in all training examples.\" % str(classes[c])\n",
      "/home/buihuy/Intent-Detection/venv/lib/python3.7/site-packages/sklearn/multiclass.py:80: UserWarning: Label not 3 is present in all training examples.\n",
      "  \"Label %s is present in all training examples.\" % str(classes[c])\n",
      "/home/buihuy/Intent-Detection/venv/lib/python3.7/site-packages/sklearn/multiclass.py:80: UserWarning: Label not 3 is present in all training examples.\n",
      "  \"Label %s is present in all training examples.\" % str(classes[c])\n",
      "/home/buihuy/Intent-Detection/venv/lib/python3.7/site-packages/sklearn/multiclass.py:80: UserWarning: Label not 3 is present in all training examples.\n",
      "  \"Label %s is present in all training examples.\" % str(classes[c])\n",
      "/home/buihuy/Intent-Detection/venv/lib/python3.7/site-packages/sklearn/multiclass.py:80: UserWarning: Label not 3 is present in all training examples.\n",
      "  \"Label %s is present in all training examples.\" % str(classes[c])\n",
      "/home/buihuy/Intent-Detection/venv/lib/python3.7/site-packages/sklearn/multiclass.py:80: UserWarning: Label not 3 is present in all training examples.\n",
      "  \"Label %s is present in all training examples.\" % str(classes[c])\n",
      "/home/buihuy/Intent-Detection/venv/lib/python3.7/site-packages/sklearn/multiclass.py:80: UserWarning: Label not 3 is present in all training examples.\n",
      "  \"Label %s is present in all training examples.\" % str(classes[c])\n",
      "/home/buihuy/Intent-Detection/venv/lib/python3.7/site-packages/sklearn/multiclass.py:80: UserWarning: Label not 3 is present in all training examples.\n",
      "  \"Label %s is present in all training examples.\" % str(classes[c])\n",
      "/home/buihuy/Intent-Detection/venv/lib/python3.7/site-packages/sklearn/multiclass.py:80: UserWarning: Label not 3 is present in all training examples.\n",
      "  \"Label %s is present in all training examples.\" % str(classes[c])\n",
      "/home/buihuy/Intent-Detection/venv/lib/python3.7/site-packages/sklearn/multiclass.py:80: UserWarning: Label not 3 is present in all training examples.\n",
      "  \"Label %s is present in all training examples.\" % str(classes[c])\n",
      "/home/buihuy/Intent-Detection/venv/lib/python3.7/site-packages/sklearn/multiclass.py:80: UserWarning: Label not 3 is present in all training examples.\n",
      "  \"Label %s is present in all training examples.\" % str(classes[c])\n",
      "/home/buihuy/Intent-Detection/venv/lib/python3.7/site-packages/sklearn/multiclass.py:80: UserWarning: Label not 3 is present in all training examples.\n",
      "  \"Label %s is present in all training examples.\" % str(classes[c])\n",
      "/home/buihuy/Intent-Detection/venv/lib/python3.7/site-packages/sklearn/multiclass.py:80: UserWarning: Label not 3 is present in all training examples.\n",
      "  \"Label %s is present in all training examples.\" % str(classes[c])\n",
      "/home/buihuy/Intent-Detection/venv/lib/python3.7/site-packages/sklearn/multiclass.py:80: UserWarning: Label not 3 is present in all training examples.\n",
      "  \"Label %s is present in all training examples.\" % str(classes[c])\n",
      "/home/buihuy/Intent-Detection/venv/lib/python3.7/site-packages/sklearn/multiclass.py:80: UserWarning: Label not 3 is present in all training examples.\n",
      "  \"Label %s is present in all training examples.\" % str(classes[c])\n",
      "/home/buihuy/Intent-Detection/venv/lib/python3.7/site-packages/sklearn/multiclass.py:80: UserWarning: Label not 3 is present in all training examples.\n",
      "  \"Label %s is present in all training examples.\" % str(classes[c])\n",
      "/home/buihuy/Intent-Detection/venv/lib/python3.7/site-packages/sklearn/multiclass.py:80: UserWarning: Label not 3 is present in all training examples.\n",
      "  \"Label %s is present in all training examples.\" % str(classes[c])\n",
      "/home/buihuy/Intent-Detection/venv/lib/python3.7/site-packages/sklearn/multiclass.py:80: UserWarning: Label not 3 is present in all training examples.\n",
      "  \"Label %s is present in all training examples.\" % str(classes[c])\n",
      "/home/buihuy/Intent-Detection/venv/lib/python3.7/site-packages/sklearn/multiclass.py:80: UserWarning: Label not 3 is present in all training examples.\n",
      "  \"Label %s is present in all training examples.\" % str(classes[c])\n",
      "/home/buihuy/Intent-Detection/venv/lib/python3.7/site-packages/sklearn/multiclass.py:80: UserWarning: Label not 3 is present in all training examples.\n",
      "  \"Label %s is present in all training examples.\" % str(classes[c])\n",
      "/home/buihuy/Intent-Detection/venv/lib/python3.7/site-packages/sklearn/multiclass.py:80: UserWarning: Label not 3 is present in all training examples.\n",
      "  \"Label %s is present in all training examples.\" % str(classes[c])\n",
      "/home/buihuy/Intent-Detection/venv/lib/python3.7/site-packages/sklearn/multiclass.py:80: UserWarning: Label not 3 is present in all training examples.\n",
      "  \"Label %s is present in all training examples.\" % str(classes[c])\n",
      "/home/buihuy/Intent-Detection/venv/lib/python3.7/site-packages/sklearn/multiclass.py:80: UserWarning: Label not 3 is present in all training examples.\n",
      "  \"Label %s is present in all training examples.\" % str(classes[c])\n",
      "/home/buihuy/Intent-Detection/venv/lib/python3.7/site-packages/sklearn/multiclass.py:80: UserWarning: Label not 3 is present in all training examples.\n",
      "  \"Label %s is present in all training examples.\" % str(classes[c])\n",
      "/home/buihuy/Intent-Detection/venv/lib/python3.7/site-packages/sklearn/multiclass.py:80: UserWarning: Label not 3 is present in all training examples.\n",
      "  \"Label %s is present in all training examples.\" % str(classes[c])\n",
      "/home/buihuy/Intent-Detection/venv/lib/python3.7/site-packages/sklearn/multiclass.py:80: UserWarning: Label not 3 is present in all training examples.\n",
      "  \"Label %s is present in all training examples.\" % str(classes[c])\n",
      "/home/buihuy/Intent-Detection/venv/lib/python3.7/site-packages/sklearn/multiclass.py:80: UserWarning: Label not 3 is present in all training examples.\n",
      "  \"Label %s is present in all training examples.\" % str(classes[c])\n",
      "/home/buihuy/Intent-Detection/venv/lib/python3.7/site-packages/sklearn/multiclass.py:80: UserWarning: Label not 3 is present in all training examples.\n",
      "  \"Label %s is present in all training examples.\" % str(classes[c])\n",
      "/home/buihuy/Intent-Detection/venv/lib/python3.7/site-packages/sklearn/multiclass.py:80: UserWarning: Label not 3 is present in all training examples.\n",
      "  \"Label %s is present in all training examples.\" % str(classes[c])\n",
      "/home/buihuy/Intent-Detection/venv/lib/python3.7/site-packages/sklearn/multiclass.py:80: UserWarning: Label not 3 is present in all training examples.\n",
      "  \"Label %s is present in all training examples.\" % str(classes[c])\n",
      "/home/buihuy/Intent-Detection/venv/lib/python3.7/site-packages/sklearn/multiclass.py:80: UserWarning: Label not 3 is present in all training examples.\n",
      "  \"Label %s is present in all training examples.\" % str(classes[c])\n",
      "/home/buihuy/Intent-Detection/venv/lib/python3.7/site-packages/sklearn/multiclass.py:80: UserWarning: Label not 3 is present in all training examples.\n",
      "  \"Label %s is present in all training examples.\" % str(classes[c])\n",
      "/home/buihuy/Intent-Detection/venv/lib/python3.7/site-packages/sklearn/multiclass.py:80: UserWarning: Label not 3 is present in all training examples.\n",
      "  \"Label %s is present in all training examples.\" % str(classes[c])\n",
      "/home/buihuy/Intent-Detection/venv/lib/python3.7/site-packages/sklearn/multiclass.py:80: UserWarning: Label not 3 is present in all training examples.\n",
      "  \"Label %s is present in all training examples.\" % str(classes[c])\n",
      "/home/buihuy/Intent-Detection/venv/lib/python3.7/site-packages/sklearn/multiclass.py:80: UserWarning: Label not 3 is present in all training examples.\n",
      "  \"Label %s is present in all training examples.\" % str(classes[c])\n",
      "/home/buihuy/Intent-Detection/venv/lib/python3.7/site-packages/sklearn/multiclass.py:80: UserWarning: Label not 3 is present in all training examples.\n",
      "  \"Label %s is present in all training examples.\" % str(classes[c])\n",
      "/home/buihuy/Intent-Detection/venv/lib/python3.7/site-packages/sklearn/multiclass.py:80: UserWarning: Label not 3 is present in all training examples.\n",
      "  \"Label %s is present in all training examples.\" % str(classes[c])\n",
      "/home/buihuy/Intent-Detection/venv/lib/python3.7/site-packages/sklearn/multiclass.py:80: UserWarning: Label not 3 is present in all training examples.\n",
      "  \"Label %s is present in all training examples.\" % str(classes[c])\n",
      "/home/buihuy/Intent-Detection/venv/lib/python3.7/site-packages/sklearn/multiclass.py:80: UserWarning: Label not 3 is present in all training examples.\n",
      "  \"Label %s is present in all training examples.\" % str(classes[c])\n",
      "/home/buihuy/Intent-Detection/venv/lib/python3.7/site-packages/sklearn/multiclass.py:80: UserWarning: Label not 3 is present in all training examples.\n",
      "  \"Label %s is present in all training examples.\" % str(classes[c])\n",
      "/home/buihuy/Intent-Detection/venv/lib/python3.7/site-packages/sklearn/multiclass.py:80: UserWarning: Label not 3 is present in all training examples.\n",
      "  \"Label %s is present in all training examples.\" % str(classes[c])\n",
      "/home/buihuy/Intent-Detection/venv/lib/python3.7/site-packages/sklearn/multiclass.py:80: UserWarning: Label not 3 is present in all training examples.\n",
      "  \"Label %s is present in all training examples.\" % str(classes[c])\n",
      "/home/buihuy/Intent-Detection/venv/lib/python3.7/site-packages/sklearn/multiclass.py:80: UserWarning: Label not 3 is present in all training examples.\n",
      "  \"Label %s is present in all training examples.\" % str(classes[c])\n",
      "/home/buihuy/Intent-Detection/venv/lib/python3.7/site-packages/sklearn/multiclass.py:80: UserWarning: Label not 3 is present in all training examples.\n",
      "  \"Label %s is present in all training examples.\" % str(classes[c])\n",
      "/home/buihuy/Intent-Detection/venv/lib/python3.7/site-packages/sklearn/multiclass.py:80: UserWarning: Label not 3 is present in all training examples.\n",
      "  \"Label %s is present in all training examples.\" % str(classes[c])\n",
      "/home/buihuy/Intent-Detection/venv/lib/python3.7/site-packages/sklearn/multiclass.py:80: UserWarning: Label not 3 is present in all training examples.\n",
      "  \"Label %s is present in all training examples.\" % str(classes[c])\n"
     ]
    },
    {
     "data": {
      "application/vnd.jupyter.widget-view+json": {
       "model_id": "ac544be5fc3c4573898445be22e1710b",
       "version_major": 2,
       "version_minor": 0
      },
      "text/plain": [
       "Batches:   0%|          | 0/13 [00:00<?, ?it/s]"
      ]
     },
     "metadata": {},
     "output_type": "display_data"
    },
    {
     "name": "stderr",
     "output_type": "stream",
     "text": [
      "/home/buihuy/Intent-Detection/venv/lib/python3.7/site-packages/sklearn/multiclass.py:80: UserWarning: Label not 3 is present in all training examples.\n",
      "  \"Label %s is present in all training examples.\" % str(classes[c])\n",
      "/home/buihuy/Intent-Detection/venv/lib/python3.7/site-packages/sklearn/multiclass.py:80: UserWarning: Label not 3 is present in all training examples.\n",
      "  \"Label %s is present in all training examples.\" % str(classes[c])\n",
      "/home/buihuy/Intent-Detection/venv/lib/python3.7/site-packages/joblib/externals/loky/process_executor.py:705: UserWarning: A worker stopped while some jobs were given to the executor. This can be caused by a too short worker timeout or by a memory leak.\n",
      "  \"timeout or by a memory leak.\", UserWarning\n",
      "/home/buihuy/Intent-Detection/venv/lib/python3.7/site-packages/sklearn/multiclass.py:80: UserWarning: Label not 3 is present in all training examples.\n",
      "  \"Label %s is present in all training examples.\" % str(classes[c])\n",
      "/home/buihuy/Intent-Detection/venv/lib/python3.7/site-packages/sklearn/multiclass.py:80: UserWarning: Label not 3 is present in all training examples.\n",
      "  \"Label %s is present in all training examples.\" % str(classes[c])\n",
      "/home/buihuy/Intent-Detection/venv/lib/python3.7/site-packages/sklearn/multiclass.py:80: UserWarning: Label not 3 is present in all training examples.\n",
      "  \"Label %s is present in all training examples.\" % str(classes[c])\n",
      "/home/buihuy/Intent-Detection/venv/lib/python3.7/site-packages/sklearn/multiclass.py:80: UserWarning: Label not 3 is present in all training examples.\n",
      "  \"Label %s is present in all training examples.\" % str(classes[c])\n",
      "/home/buihuy/Intent-Detection/venv/lib/python3.7/site-packages/sklearn/multiclass.py:80: UserWarning: Label not 3 is present in all training examples.\n",
      "  \"Label %s is present in all training examples.\" % str(classes[c])\n",
      "/home/buihuy/Intent-Detection/venv/lib/python3.7/site-packages/sklearn/multiclass.py:80: UserWarning: Label not 3 is present in all training examples.\n",
      "  \"Label %s is present in all training examples.\" % str(classes[c])\n",
      "/home/buihuy/Intent-Detection/venv/lib/python3.7/site-packages/sklearn/multiclass.py:80: UserWarning: Label not 3 is present in all training examples.\n",
      "  \"Label %s is present in all training examples.\" % str(classes[c])\n",
      "/home/buihuy/Intent-Detection/venv/lib/python3.7/site-packages/sklearn/multiclass.py:80: UserWarning: Label not 3 is present in all training examples.\n",
      "  \"Label %s is present in all training examples.\" % str(classes[c])\n",
      "/home/buihuy/Intent-Detection/venv/lib/python3.7/site-packages/sklearn/multiclass.py:80: UserWarning: Label not 3 is present in all training examples.\n",
      "  \"Label %s is present in all training examples.\" % str(classes[c])\n",
      "/home/buihuy/Intent-Detection/venv/lib/python3.7/site-packages/sklearn/multiclass.py:80: UserWarning: Label not 3 is present in all training examples.\n",
      "  \"Label %s is present in all training examples.\" % str(classes[c])\n",
      "/home/buihuy/Intent-Detection/venv/lib/python3.7/site-packages/sklearn/multiclass.py:80: UserWarning: Label not 3 is present in all training examples.\n",
      "  \"Label %s is present in all training examples.\" % str(classes[c])\n",
      "/home/buihuy/Intent-Detection/venv/lib/python3.7/site-packages/sklearn/multiclass.py:80: UserWarning: Label not 3 is present in all training examples.\n",
      "  \"Label %s is present in all training examples.\" % str(classes[c])\n",
      "/home/buihuy/Intent-Detection/venv/lib/python3.7/site-packages/sklearn/multiclass.py:80: UserWarning: Label not 3 is present in all training examples.\n",
      "  \"Label %s is present in all training examples.\" % str(classes[c])\n",
      " 33%|██████████                    | 1/3 [03:38<07:17, 218.83s/it]/home/buihuy/Intent-Detection/venv/lib/python3.7/site-packages/sklearn/multiclass.py:80: UserWarning: Label not 2 is present in all training examples.\n",
      "  \"Label %s is present in all training examples.\" % str(classes[c])\n",
      "/home/buihuy/Intent-Detection/venv/lib/python3.7/site-packages/sklearn/multiclass.py:80: UserWarning: Label not 0 is present in all training examples.\n",
      "  \"Label %s is present in all training examples.\" % str(classes[c])\n",
      "/home/buihuy/Intent-Detection/venv/lib/python3.7/site-packages/sklearn/multiclass.py:80: UserWarning: Label not 0 is present in all training examples.\n",
      "  \"Label %s is present in all training examples.\" % str(classes[c])\n",
      "/home/buihuy/Intent-Detection/venv/lib/python3.7/site-packages/sklearn/multiclass.py:80: UserWarning: Label not 2 is present in all training examples.\n",
      "  \"Label %s is present in all training examples.\" % str(classes[c])\n",
      "/home/buihuy/Intent-Detection/venv/lib/python3.7/site-packages/sklearn/multiclass.py:80: UserWarning: Label not 8 is present in all training examples.\n",
      "  \"Label %s is present in all training examples.\" % str(classes[c])\n",
      "/home/buihuy/Intent-Detection/venv/lib/python3.7/site-packages/sklearn/multiclass.py:80: UserWarning: Label not 0 is present in all training examples.\n",
      "  \"Label %s is present in all training examples.\" % str(classes[c])\n",
      "/home/buihuy/Intent-Detection/venv/lib/python3.7/site-packages/sklearn/multiclass.py:80: UserWarning: Label not 2 is present in all training examples.\n",
      "  \"Label %s is present in all training examples.\" % str(classes[c])\n",
      "/home/buihuy/Intent-Detection/venv/lib/python3.7/site-packages/sklearn/multiclass.py:80: UserWarning: Label not 8 is present in all training examples.\n",
      "  \"Label %s is present in all training examples.\" % str(classes[c])\n",
      "/home/buihuy/Intent-Detection/venv/lib/python3.7/site-packages/sklearn/multiclass.py:80: UserWarning: Label not 0 is present in all training examples.\n",
      "  \"Label %s is present in all training examples.\" % str(classes[c])\n",
      "/home/buihuy/Intent-Detection/venv/lib/python3.7/site-packages/sklearn/multiclass.py:80: UserWarning: Label not 2 is present in all training examples.\n",
      "  \"Label %s is present in all training examples.\" % str(classes[c])\n",
      "/home/buihuy/Intent-Detection/venv/lib/python3.7/site-packages/sklearn/multiclass.py:80: UserWarning: Label not 8 is present in all training examples.\n",
      "  \"Label %s is present in all training examples.\" % str(classes[c])\n",
      "/home/buihuy/Intent-Detection/venv/lib/python3.7/site-packages/sklearn/multiclass.py:80: UserWarning: Label not 0 is present in all training examples.\n",
      "  \"Label %s is present in all training examples.\" % str(classes[c])\n",
      "/home/buihuy/Intent-Detection/venv/lib/python3.7/site-packages/sklearn/multiclass.py:80: UserWarning: Label not 2 is present in all training examples.\n",
      "  \"Label %s is present in all training examples.\" % str(classes[c])\n",
      "/home/buihuy/Intent-Detection/venv/lib/python3.7/site-packages/sklearn/multiclass.py:80: UserWarning: Label not 8 is present in all training examples.\n",
      "  \"Label %s is present in all training examples.\" % str(classes[c])\n",
      "/home/buihuy/Intent-Detection/venv/lib/python3.7/site-packages/sklearn/multiclass.py:80: UserWarning: Label not 2 is present in all training examples.\n",
      "  \"Label %s is present in all training examples.\" % str(classes[c])\n",
      "/home/buihuy/Intent-Detection/venv/lib/python3.7/site-packages/sklearn/multiclass.py:80: UserWarning: Label not 0 is present in all training examples.\n",
      "  \"Label %s is present in all training examples.\" % str(classes[c])\n",
      "/home/buihuy/Intent-Detection/venv/lib/python3.7/site-packages/sklearn/multiclass.py:80: UserWarning: Label not 8 is present in all training examples.\n",
      "  \"Label %s is present in all training examples.\" % str(classes[c])\n",
      "/home/buihuy/Intent-Detection/venv/lib/python3.7/site-packages/sklearn/multiclass.py:80: UserWarning: Label not 0 is present in all training examples.\n",
      "  \"Label %s is present in all training examples.\" % str(classes[c])\n",
      "/home/buihuy/Intent-Detection/venv/lib/python3.7/site-packages/sklearn/multiclass.py:80: UserWarning: Label not 2 is present in all training examples.\n",
      "  \"Label %s is present in all training examples.\" % str(classes[c])\n",
      "/home/buihuy/Intent-Detection/venv/lib/python3.7/site-packages/sklearn/multiclass.py:80: UserWarning: Label not 8 is present in all training examples.\n",
      "  \"Label %s is present in all training examples.\" % str(classes[c])\n",
      "/home/buihuy/Intent-Detection/venv/lib/python3.7/site-packages/sklearn/multiclass.py:80: UserWarning: Label not 0 is present in all training examples.\n",
      "  \"Label %s is present in all training examples.\" % str(classes[c])\n",
      "/home/buihuy/Intent-Detection/venv/lib/python3.7/site-packages/sklearn/multiclass.py:80: UserWarning: Label not 2 is present in all training examples.\n",
      "  \"Label %s is present in all training examples.\" % str(classes[c])\n",
      "/home/buihuy/Intent-Detection/venv/lib/python3.7/site-packages/sklearn/multiclass.py:80: UserWarning: Label not 8 is present in all training examples.\n",
      "  \"Label %s is present in all training examples.\" % str(classes[c])\n",
      "/home/buihuy/Intent-Detection/venv/lib/python3.7/site-packages/sklearn/multiclass.py:80: UserWarning: Label not 0 is present in all training examples.\n",
      "  \"Label %s is present in all training examples.\" % str(classes[c])\n",
      "/home/buihuy/Intent-Detection/venv/lib/python3.7/site-packages/sklearn/multiclass.py:80: UserWarning: Label not 2 is present in all training examples.\n",
      "  \"Label %s is present in all training examples.\" % str(classes[c])\n",
      "/home/buihuy/Intent-Detection/venv/lib/python3.7/site-packages/sklearn/multiclass.py:80: UserWarning: Label not 8 is present in all training examples.\n",
      "  \"Label %s is present in all training examples.\" % str(classes[c])\n",
      "/home/buihuy/Intent-Detection/venv/lib/python3.7/site-packages/sklearn/multiclass.py:80: UserWarning: Label not 0 is present in all training examples.\n",
      "  \"Label %s is present in all training examples.\" % str(classes[c])\n",
      "/home/buihuy/Intent-Detection/venv/lib/python3.7/site-packages/sklearn/multiclass.py:80: UserWarning: Label not 2 is present in all training examples.\n",
      "  \"Label %s is present in all training examples.\" % str(classes[c])\n",
      "/home/buihuy/Intent-Detection/venv/lib/python3.7/site-packages/sklearn/multiclass.py:80: UserWarning: Label not 8 is present in all training examples.\n",
      "  \"Label %s is present in all training examples.\" % str(classes[c])\n",
      "/home/buihuy/Intent-Detection/venv/lib/python3.7/site-packages/sklearn/multiclass.py:80: UserWarning: Label not 0 is present in all training examples.\n",
      "  \"Label %s is present in all training examples.\" % str(classes[c])\n",
      "/home/buihuy/Intent-Detection/venv/lib/python3.7/site-packages/sklearn/multiclass.py:80: UserWarning: Label not 2 is present in all training examples.\n",
      "  \"Label %s is present in all training examples.\" % str(classes[c])\n",
      "/home/buihuy/Intent-Detection/venv/lib/python3.7/site-packages/sklearn/multiclass.py:80: UserWarning: Label not 8 is present in all training examples.\n",
      "  \"Label %s is present in all training examples.\" % str(classes[c])\n",
      "/home/buihuy/Intent-Detection/venv/lib/python3.7/site-packages/sklearn/multiclass.py:80: UserWarning: Label not 0 is present in all training examples.\n",
      "  \"Label %s is present in all training examples.\" % str(classes[c])\n",
      "/home/buihuy/Intent-Detection/venv/lib/python3.7/site-packages/sklearn/multiclass.py:80: UserWarning: Label not 2 is present in all training examples.\n",
      "  \"Label %s is present in all training examples.\" % str(classes[c])\n",
      "/home/buihuy/Intent-Detection/venv/lib/python3.7/site-packages/sklearn/multiclass.py:80: UserWarning: Label not 8 is present in all training examples.\n",
      "  \"Label %s is present in all training examples.\" % str(classes[c])\n",
      "/home/buihuy/Intent-Detection/venv/lib/python3.7/site-packages/sklearn/multiclass.py:80: UserWarning: Label not 0 is present in all training examples.\n",
      "  \"Label %s is present in all training examples.\" % str(classes[c])\n",
      "/home/buihuy/Intent-Detection/venv/lib/python3.7/site-packages/sklearn/multiclass.py:80: UserWarning: Label not 2 is present in all training examples.\n",
      "  \"Label %s is present in all training examples.\" % str(classes[c])\n",
      "/home/buihuy/Intent-Detection/venv/lib/python3.7/site-packages/sklearn/multiclass.py:80: UserWarning: Label not 8 is present in all training examples.\n",
      "  \"Label %s is present in all training examples.\" % str(classes[c])\n",
      "/home/buihuy/Intent-Detection/venv/lib/python3.7/site-packages/sklearn/multiclass.py:80: UserWarning: Label not 8 is present in all training examples.\n",
      "  \"Label %s is present in all training examples.\" % str(classes[c])\n",
      "/home/buihuy/Intent-Detection/venv/lib/python3.7/site-packages/sklearn/multiclass.py:80: UserWarning: Label not 0 is present in all training examples.\n",
      "  \"Label %s is present in all training examples.\" % str(classes[c])\n",
      "/home/buihuy/Intent-Detection/venv/lib/python3.7/site-packages/sklearn/multiclass.py:80: UserWarning: Label not 2 is present in all training examples.\n",
      "  \"Label %s is present in all training examples.\" % str(classes[c])\n",
      "/home/buihuy/Intent-Detection/venv/lib/python3.7/site-packages/sklearn/multiclass.py:80: UserWarning: Label not 0 is present in all training examples.\n",
      "  \"Label %s is present in all training examples.\" % str(classes[c])\n",
      "/home/buihuy/Intent-Detection/venv/lib/python3.7/site-packages/sklearn/multiclass.py:80: UserWarning: Label not 2 is present in all training examples.\n",
      "  \"Label %s is present in all training examples.\" % str(classes[c])\n",
      "/home/buihuy/Intent-Detection/venv/lib/python3.7/site-packages/sklearn/multiclass.py:80: UserWarning: Label not 8 is present in all training examples.\n",
      "  \"Label %s is present in all training examples.\" % str(classes[c])\n",
      "/home/buihuy/Intent-Detection/venv/lib/python3.7/site-packages/sklearn/multiclass.py:80: UserWarning: Label not 0 is present in all training examples.\n",
      "  \"Label %s is present in all training examples.\" % str(classes[c])\n",
      "/home/buihuy/Intent-Detection/venv/lib/python3.7/site-packages/sklearn/multiclass.py:80: UserWarning: Label not 2 is present in all training examples.\n",
      "  \"Label %s is present in all training examples.\" % str(classes[c])\n",
      "/home/buihuy/Intent-Detection/venv/lib/python3.7/site-packages/sklearn/multiclass.py:80: UserWarning: Label not 8 is present in all training examples.\n",
      "  \"Label %s is present in all training examples.\" % str(classes[c])\n",
      "/home/buihuy/Intent-Detection/venv/lib/python3.7/site-packages/sklearn/multiclass.py:80: UserWarning: Label not 0 is present in all training examples.\n",
      "  \"Label %s is present in all training examples.\" % str(classes[c])\n",
      "/home/buihuy/Intent-Detection/venv/lib/python3.7/site-packages/sklearn/multiclass.py:80: UserWarning: Label not 2 is present in all training examples.\n",
      "  \"Label %s is present in all training examples.\" % str(classes[c])\n",
      "/home/buihuy/Intent-Detection/venv/lib/python3.7/site-packages/sklearn/multiclass.py:80: UserWarning: Label not 8 is present in all training examples.\n",
      "  \"Label %s is present in all training examples.\" % str(classes[c])\n",
      "/home/buihuy/Intent-Detection/venv/lib/python3.7/site-packages/sklearn/multiclass.py:80: UserWarning: Label not 0 is present in all training examples.\n",
      "  \"Label %s is present in all training examples.\" % str(classes[c])\n",
      "/home/buihuy/Intent-Detection/venv/lib/python3.7/site-packages/sklearn/multiclass.py:80: UserWarning: Label not 2 is present in all training examples.\n",
      "  \"Label %s is present in all training examples.\" % str(classes[c])\n",
      "/home/buihuy/Intent-Detection/venv/lib/python3.7/site-packages/sklearn/multiclass.py:80: UserWarning: Label not 8 is present in all training examples.\n",
      "  \"Label %s is present in all training examples.\" % str(classes[c])\n",
      "/home/buihuy/Intent-Detection/venv/lib/python3.7/site-packages/sklearn/multiclass.py:80: UserWarning: Label not 0 is present in all training examples.\n",
      "  \"Label %s is present in all training examples.\" % str(classes[c])\n",
      "/home/buihuy/Intent-Detection/venv/lib/python3.7/site-packages/sklearn/multiclass.py:80: UserWarning: Label not 2 is present in all training examples.\n",
      "  \"Label %s is present in all training examples.\" % str(classes[c])\n",
      "/home/buihuy/Intent-Detection/venv/lib/python3.7/site-packages/sklearn/multiclass.py:80: UserWarning: Label not 8 is present in all training examples.\n",
      "  \"Label %s is present in all training examples.\" % str(classes[c])\n",
      "/home/buihuy/Intent-Detection/venv/lib/python3.7/site-packages/sklearn/multiclass.py:80: UserWarning: Label not 2 is present in all training examples.\n",
      "  \"Label %s is present in all training examples.\" % str(classes[c])\n",
      "/home/buihuy/Intent-Detection/venv/lib/python3.7/site-packages/sklearn/multiclass.py:80: UserWarning: Label not 0 is present in all training examples.\n",
      "  \"Label %s is present in all training examples.\" % str(classes[c])\n",
      "/home/buihuy/Intent-Detection/venv/lib/python3.7/site-packages/sklearn/multiclass.py:80: UserWarning: Label not 8 is present in all training examples.\n",
      "  \"Label %s is present in all training examples.\" % str(classes[c])\n",
      "/home/buihuy/Intent-Detection/venv/lib/python3.7/site-packages/sklearn/multiclass.py:80: UserWarning: Label not 0 is present in all training examples.\n",
      "  \"Label %s is present in all training examples.\" % str(classes[c])\n",
      "/home/buihuy/Intent-Detection/venv/lib/python3.7/site-packages/sklearn/multiclass.py:80: UserWarning: Label not 2 is present in all training examples.\n",
      "  \"Label %s is present in all training examples.\" % str(classes[c])\n",
      "/home/buihuy/Intent-Detection/venv/lib/python3.7/site-packages/sklearn/multiclass.py:80: UserWarning: Label not 8 is present in all training examples.\n",
      "  \"Label %s is present in all training examples.\" % str(classes[c])\n",
      "/home/buihuy/Intent-Detection/venv/lib/python3.7/site-packages/sklearn/multiclass.py:80: UserWarning: Label not 0 is present in all training examples.\n",
      "  \"Label %s is present in all training examples.\" % str(classes[c])\n",
      "/home/buihuy/Intent-Detection/venv/lib/python3.7/site-packages/sklearn/multiclass.py:80: UserWarning: Label not 2 is present in all training examples.\n",
      "  \"Label %s is present in all training examples.\" % str(classes[c])\n",
      "/home/buihuy/Intent-Detection/venv/lib/python3.7/site-packages/sklearn/multiclass.py:80: UserWarning: Label not 8 is present in all training examples.\n",
      "  \"Label %s is present in all training examples.\" % str(classes[c])\n",
      "/home/buihuy/Intent-Detection/venv/lib/python3.7/site-packages/sklearn/multiclass.py:80: UserWarning: Label not 0 is present in all training examples.\n",
      "  \"Label %s is present in all training examples.\" % str(classes[c])\n",
      "/home/buihuy/Intent-Detection/venv/lib/python3.7/site-packages/sklearn/multiclass.py:80: UserWarning: Label not 2 is present in all training examples.\n",
      "  \"Label %s is present in all training examples.\" % str(classes[c])\n",
      "/home/buihuy/Intent-Detection/venv/lib/python3.7/site-packages/sklearn/multiclass.py:80: UserWarning: Label not 8 is present in all training examples.\n",
      "  \"Label %s is present in all training examples.\" % str(classes[c])\n",
      "/home/buihuy/Intent-Detection/venv/lib/python3.7/site-packages/sklearn/multiclass.py:80: UserWarning: Label not 0 is present in all training examples.\n",
      "  \"Label %s is present in all training examples.\" % str(classes[c])\n",
      "/home/buihuy/Intent-Detection/venv/lib/python3.7/site-packages/sklearn/multiclass.py:80: UserWarning: Label not 2 is present in all training examples.\n",
      "  \"Label %s is present in all training examples.\" % str(classes[c])\n",
      "/home/buihuy/Intent-Detection/venv/lib/python3.7/site-packages/sklearn/multiclass.py:80: UserWarning: Label not 8 is present in all training examples.\n",
      "  \"Label %s is present in all training examples.\" % str(classes[c])\n",
      "/home/buihuy/Intent-Detection/venv/lib/python3.7/site-packages/sklearn/multiclass.py:80: UserWarning: Label not 0 is present in all training examples.\n",
      "  \"Label %s is present in all training examples.\" % str(classes[c])\n",
      "/home/buihuy/Intent-Detection/venv/lib/python3.7/site-packages/sklearn/multiclass.py:80: UserWarning: Label not 2 is present in all training examples.\n",
      "  \"Label %s is present in all training examples.\" % str(classes[c])\n",
      "/home/buihuy/Intent-Detection/venv/lib/python3.7/site-packages/sklearn/multiclass.py:80: UserWarning: Label not 8 is present in all training examples.\n",
      "  \"Label %s is present in all training examples.\" % str(classes[c])\n",
      "/home/buihuy/Intent-Detection/venv/lib/python3.7/site-packages/sklearn/multiclass.py:80: UserWarning: Label not 8 is present in all training examples.\n",
      "  \"Label %s is present in all training examples.\" % str(classes[c])\n",
      "/home/buihuy/Intent-Detection/venv/lib/python3.7/site-packages/sklearn/multiclass.py:80: UserWarning: Label not 0 is present in all training examples.\n",
      "  \"Label %s is present in all training examples.\" % str(classes[c])\n",
      "/home/buihuy/Intent-Detection/venv/lib/python3.7/site-packages/sklearn/multiclass.py:80: UserWarning: Label not 3 is present in all training examples.\n",
      "  \"Label %s is present in all training examples.\" % str(classes[c])\n",
      "/home/buihuy/Intent-Detection/venv/lib/python3.7/site-packages/sklearn/multiclass.py:80: UserWarning: Label not 8 is present in all training examples.\n",
      "  \"Label %s is present in all training examples.\" % str(classes[c])\n",
      "/home/buihuy/Intent-Detection/venv/lib/python3.7/site-packages/sklearn/multiclass.py:80: UserWarning: Label not 2 is present in all training examples.\n",
      "  \"Label %s is present in all training examples.\" % str(classes[c])\n",
      "/home/buihuy/Intent-Detection/venv/lib/python3.7/site-packages/sklearn/multiclass.py:80: UserWarning: Label not 0 is present in all training examples.\n",
      "  \"Label %s is present in all training examples.\" % str(classes[c])\n",
      "/home/buihuy/Intent-Detection/venv/lib/python3.7/site-packages/sklearn/multiclass.py:80: UserWarning: Label not 8 is present in all training examples.\n",
      "  \"Label %s is present in all training examples.\" % str(classes[c])\n",
      "/home/buihuy/Intent-Detection/venv/lib/python3.7/site-packages/sklearn/multiclass.py:80: UserWarning: Label not 0 is present in all training examples.\n",
      "  \"Label %s is present in all training examples.\" % str(classes[c])\n",
      "/home/buihuy/Intent-Detection/venv/lib/python3.7/site-packages/sklearn/multiclass.py:80: UserWarning: Label not 2 is present in all training examples.\n",
      "  \"Label %s is present in all training examples.\" % str(classes[c])\n",
      "/home/buihuy/Intent-Detection/venv/lib/python3.7/site-packages/sklearn/multiclass.py:80: UserWarning: Label not 8 is present in all training examples.\n",
      "  \"Label %s is present in all training examples.\" % str(classes[c])\n",
      "/home/buihuy/Intent-Detection/venv/lib/python3.7/site-packages/sklearn/multiclass.py:80: UserWarning: Label not 0 is present in all training examples.\n",
      "  \"Label %s is present in all training examples.\" % str(classes[c])\n",
      "/home/buihuy/Intent-Detection/venv/lib/python3.7/site-packages/sklearn/multiclass.py:80: UserWarning: Label not 2 is present in all training examples.\n",
      "  \"Label %s is present in all training examples.\" % str(classes[c])\n",
      "/home/buihuy/Intent-Detection/venv/lib/python3.7/site-packages/sklearn/multiclass.py:80: UserWarning: Label not 8 is present in all training examples.\n",
      "  \"Label %s is present in all training examples.\" % str(classes[c])\n",
      "/home/buihuy/Intent-Detection/venv/lib/python3.7/site-packages/sklearn/multiclass.py:80: UserWarning: Label not 0 is present in all training examples.\n",
      "  \"Label %s is present in all training examples.\" % str(classes[c])\n",
      "/home/buihuy/Intent-Detection/venv/lib/python3.7/site-packages/sklearn/multiclass.py:80: UserWarning: Label not 2 is present in all training examples.\n",
      "  \"Label %s is present in all training examples.\" % str(classes[c])\n",
      "/home/buihuy/Intent-Detection/venv/lib/python3.7/site-packages/sklearn/multiclass.py:80: UserWarning: Label not 8 is present in all training examples.\n",
      "  \"Label %s is present in all training examples.\" % str(classes[c])\n",
      "/home/buihuy/Intent-Detection/venv/lib/python3.7/site-packages/sklearn/multiclass.py:80: UserWarning: Label not 0 is present in all training examples.\n",
      "  \"Label %s is present in all training examples.\" % str(classes[c])\n",
      "/home/buihuy/Intent-Detection/venv/lib/python3.7/site-packages/sklearn/multiclass.py:80: UserWarning: Label not 2 is present in all training examples.\n",
      "  \"Label %s is present in all training examples.\" % str(classes[c])\n",
      "/home/buihuy/Intent-Detection/venv/lib/python3.7/site-packages/sklearn/multiclass.py:80: UserWarning: Label not 8 is present in all training examples.\n",
      "  \"Label %s is present in all training examples.\" % str(classes[c])\n",
      "/home/buihuy/Intent-Detection/venv/lib/python3.7/site-packages/sklearn/multiclass.py:80: UserWarning: Label not 0 is present in all training examples.\n",
      "  \"Label %s is present in all training examples.\" % str(classes[c])\n",
      "/home/buihuy/Intent-Detection/venv/lib/python3.7/site-packages/sklearn/multiclass.py:80: UserWarning: Label not 2 is present in all training examples.\n",
      "  \"Label %s is present in all training examples.\" % str(classes[c])\n",
      "/home/buihuy/Intent-Detection/venv/lib/python3.7/site-packages/sklearn/multiclass.py:80: UserWarning: Label not 8 is present in all training examples.\n",
      "  \"Label %s is present in all training examples.\" % str(classes[c])\n",
      "/home/buihuy/Intent-Detection/venv/lib/python3.7/site-packages/sklearn/multiclass.py:80: UserWarning: Label not 0 is present in all training examples.\n",
      "  \"Label %s is present in all training examples.\" % str(classes[c])\n",
      "/home/buihuy/Intent-Detection/venv/lib/python3.7/site-packages/sklearn/multiclass.py:80: UserWarning: Label not 2 is present in all training examples.\n",
      "  \"Label %s is present in all training examples.\" % str(classes[c])\n",
      "/home/buihuy/Intent-Detection/venv/lib/python3.7/site-packages/sklearn/multiclass.py:80: UserWarning: Label not 8 is present in all training examples.\n",
      "  \"Label %s is present in all training examples.\" % str(classes[c])\n",
      "/home/buihuy/Intent-Detection/venv/lib/python3.7/site-packages/sklearn/multiclass.py:80: UserWarning: Label not 0 is present in all training examples.\n",
      "  \"Label %s is present in all training examples.\" % str(classes[c])\n",
      "/home/buihuy/Intent-Detection/venv/lib/python3.7/site-packages/sklearn/multiclass.py:80: UserWarning: Label not 2 is present in all training examples.\n",
      "  \"Label %s is present in all training examples.\" % str(classes[c])\n",
      "/home/buihuy/Intent-Detection/venv/lib/python3.7/site-packages/sklearn/multiclass.py:80: UserWarning: Label not 8 is present in all training examples.\n",
      "  \"Label %s is present in all training examples.\" % str(classes[c])\n",
      "/home/buihuy/Intent-Detection/venv/lib/python3.7/site-packages/sklearn/multiclass.py:80: UserWarning: Label not 2 is present in all training examples.\n",
      "  \"Label %s is present in all training examples.\" % str(classes[c])\n",
      "/home/buihuy/Intent-Detection/venv/lib/python3.7/site-packages/sklearn/multiclass.py:80: UserWarning: Label not 0 is present in all training examples.\n",
      "  \"Label %s is present in all training examples.\" % str(classes[c])\n",
      "/home/buihuy/Intent-Detection/venv/lib/python3.7/site-packages/sklearn/multiclass.py:80: UserWarning: Label not 8 is present in all training examples.\n",
      "  \"Label %s is present in all training examples.\" % str(classes[c])\n",
      "/home/buihuy/Intent-Detection/venv/lib/python3.7/site-packages/sklearn/multiclass.py:80: UserWarning: Label not 0 is present in all training examples.\n",
      "  \"Label %s is present in all training examples.\" % str(classes[c])\n",
      "/home/buihuy/Intent-Detection/venv/lib/python3.7/site-packages/sklearn/multiclass.py:80: UserWarning: Label not 2 is present in all training examples.\n",
      "  \"Label %s is present in all training examples.\" % str(classes[c])\n",
      "/home/buihuy/Intent-Detection/venv/lib/python3.7/site-packages/sklearn/multiclass.py:80: UserWarning: Label not 8 is present in all training examples.\n",
      "  \"Label %s is present in all training examples.\" % str(classes[c])\n",
      "/home/buihuy/Intent-Detection/venv/lib/python3.7/site-packages/sklearn/multiclass.py:80: UserWarning: Label not 2 is present in all training examples.\n",
      "  \"Label %s is present in all training examples.\" % str(classes[c])\n",
      "/home/buihuy/Intent-Detection/venv/lib/python3.7/site-packages/sklearn/multiclass.py:80: UserWarning: Label not 0 is present in all training examples.\n",
      "  \"Label %s is present in all training examples.\" % str(classes[c])\n",
      "/home/buihuy/Intent-Detection/venv/lib/python3.7/site-packages/sklearn/multiclass.py:80: UserWarning: Label not 0 is present in all training examples.\n",
      "  \"Label %s is present in all training examples.\" % str(classes[c])\n",
      "/home/buihuy/Intent-Detection/venv/lib/python3.7/site-packages/sklearn/multiclass.py:80: UserWarning: Label not 2 is present in all training examples.\n",
      "  \"Label %s is present in all training examples.\" % str(classes[c])\n",
      "/home/buihuy/Intent-Detection/venv/lib/python3.7/site-packages/sklearn/multiclass.py:80: UserWarning: Label not 8 is present in all training examples.\n",
      "  \"Label %s is present in all training examples.\" % str(classes[c])\n",
      "/home/buihuy/Intent-Detection/venv/lib/python3.7/site-packages/sklearn/multiclass.py:80: UserWarning: Label not 0 is present in all training examples.\n",
      "  \"Label %s is present in all training examples.\" % str(classes[c])\n",
      "/home/buihuy/Intent-Detection/venv/lib/python3.7/site-packages/sklearn/multiclass.py:80: UserWarning: Label not 8 is present in all training examples.\n",
      "  \"Label %s is present in all training examples.\" % str(classes[c])\n",
      "/home/buihuy/Intent-Detection/venv/lib/python3.7/site-packages/sklearn/multiclass.py:80: UserWarning: Label not 0 is present in all training examples.\n",
      "  \"Label %s is present in all training examples.\" % str(classes[c])\n",
      "/home/buihuy/Intent-Detection/venv/lib/python3.7/site-packages/sklearn/multiclass.py:80: UserWarning: Label not 2 is present in all training examples.\n",
      "  \"Label %s is present in all training examples.\" % str(classes[c])\n",
      "/home/buihuy/Intent-Detection/venv/lib/python3.7/site-packages/sklearn/multiclass.py:80: UserWarning: Label not 8 is present in all training examples.\n",
      "  \"Label %s is present in all training examples.\" % str(classes[c])\n",
      "/home/buihuy/Intent-Detection/venv/lib/python3.7/site-packages/sklearn/multiclass.py:80: UserWarning: Label not 0 is present in all training examples.\n",
      "  \"Label %s is present in all training examples.\" % str(classes[c])\n",
      "/home/buihuy/Intent-Detection/venv/lib/python3.7/site-packages/sklearn/multiclass.py:80: UserWarning: Label not 2 is present in all training examples.\n",
      "  \"Label %s is present in all training examples.\" % str(classes[c])\n",
      "/home/buihuy/Intent-Detection/venv/lib/python3.7/site-packages/sklearn/multiclass.py:80: UserWarning: Label not 8 is present in all training examples.\n",
      "  \"Label %s is present in all training examples.\" % str(classes[c])\n",
      "/home/buihuy/Intent-Detection/venv/lib/python3.7/site-packages/sklearn/multiclass.py:80: UserWarning: Label not 0 is present in all training examples.\n",
      "  \"Label %s is present in all training examples.\" % str(classes[c])\n",
      "/home/buihuy/Intent-Detection/venv/lib/python3.7/site-packages/sklearn/multiclass.py:80: UserWarning: Label not 2 is present in all training examples.\n",
      "  \"Label %s is present in all training examples.\" % str(classes[c])\n",
      "/home/buihuy/Intent-Detection/venv/lib/python3.7/site-packages/sklearn/multiclass.py:80: UserWarning: Label not 8 is present in all training examples.\n",
      "  \"Label %s is present in all training examples.\" % str(classes[c])\n",
      "/home/buihuy/Intent-Detection/venv/lib/python3.7/site-packages/sklearn/multiclass.py:80: UserWarning: Label not 0 is present in all training examples.\n",
      "  \"Label %s is present in all training examples.\" % str(classes[c])\n",
      "/home/buihuy/Intent-Detection/venv/lib/python3.7/site-packages/sklearn/multiclass.py:80: UserWarning: Label not 2 is present in all training examples.\n",
      "  \"Label %s is present in all training examples.\" % str(classes[c])\n",
      "/home/buihuy/Intent-Detection/venv/lib/python3.7/site-packages/sklearn/multiclass.py:80: UserWarning: Label not 8 is present in all training examples.\n",
      "  \"Label %s is present in all training examples.\" % str(classes[c])\n",
      "/home/buihuy/Intent-Detection/venv/lib/python3.7/site-packages/sklearn/multiclass.py:80: UserWarning: Label not 0 is present in all training examples.\n",
      "  \"Label %s is present in all training examples.\" % str(classes[c])\n",
      "/home/buihuy/Intent-Detection/venv/lib/python3.7/site-packages/sklearn/multiclass.py:80: UserWarning: Label not 2 is present in all training examples.\n",
      "  \"Label %s is present in all training examples.\" % str(classes[c])\n",
      "/home/buihuy/Intent-Detection/venv/lib/python3.7/site-packages/sklearn/multiclass.py:80: UserWarning: Label not 8 is present in all training examples.\n",
      "  \"Label %s is present in all training examples.\" % str(classes[c])\n",
      "/home/buihuy/Intent-Detection/venv/lib/python3.7/site-packages/sklearn/multiclass.py:80: UserWarning: Label not 0 is present in all training examples.\n",
      "  \"Label %s is present in all training examples.\" % str(classes[c])\n",
      "/home/buihuy/Intent-Detection/venv/lib/python3.7/site-packages/sklearn/multiclass.py:80: UserWarning: Label not 2 is present in all training examples.\n",
      "  \"Label %s is present in all training examples.\" % str(classes[c])\n",
      "/home/buihuy/Intent-Detection/venv/lib/python3.7/site-packages/sklearn/multiclass.py:80: UserWarning: Label not 8 is present in all training examples.\n",
      "  \"Label %s is present in all training examples.\" % str(classes[c])\n",
      "/home/buihuy/Intent-Detection/venv/lib/python3.7/site-packages/sklearn/multiclass.py:80: UserWarning: Label not 2 is present in all training examples.\n",
      "  \"Label %s is present in all training examples.\" % str(classes[c])\n",
      "/home/buihuy/Intent-Detection/venv/lib/python3.7/site-packages/sklearn/multiclass.py:80: UserWarning: Label not 0 is present in all training examples.\n",
      "  \"Label %s is present in all training examples.\" % str(classes[c])\n",
      "/home/buihuy/Intent-Detection/venv/lib/python3.7/site-packages/sklearn/multiclass.py:80: UserWarning: Label not 8 is present in all training examples.\n",
      "  \"Label %s is present in all training examples.\" % str(classes[c])\n",
      "/home/buihuy/Intent-Detection/venv/lib/python3.7/site-packages/sklearn/multiclass.py:80: UserWarning: Label not 0 is present in all training examples.\n",
      "  \"Label %s is present in all training examples.\" % str(classes[c])\n",
      "/home/buihuy/Intent-Detection/venv/lib/python3.7/site-packages/sklearn/multiclass.py:80: UserWarning: Label not 2 is present in all training examples.\n",
      "  \"Label %s is present in all training examples.\" % str(classes[c])\n",
      "/home/buihuy/Intent-Detection/venv/lib/python3.7/site-packages/sklearn/multiclass.py:80: UserWarning: Label not 8 is present in all training examples.\n",
      "  \"Label %s is present in all training examples.\" % str(classes[c])\n",
      "/home/buihuy/Intent-Detection/venv/lib/python3.7/site-packages/sklearn/multiclass.py:80: UserWarning: Label not 2 is present in all training examples.\n",
      "  \"Label %s is present in all training examples.\" % str(classes[c])\n",
      "/home/buihuy/Intent-Detection/venv/lib/python3.7/site-packages/sklearn/multiclass.py:80: UserWarning: Label not 0 is present in all training examples.\n",
      "  \"Label %s is present in all training examples.\" % str(classes[c])\n",
      "/home/buihuy/Intent-Detection/venv/lib/python3.7/site-packages/sklearn/multiclass.py:80: UserWarning: Label not 8 is present in all training examples.\n",
      "  \"Label %s is present in all training examples.\" % str(classes[c])\n",
      "/home/buihuy/Intent-Detection/venv/lib/python3.7/site-packages/sklearn/multiclass.py:80: UserWarning: Label not 0 is present in all training examples.\n",
      "  \"Label %s is present in all training examples.\" % str(classes[c])\n",
      "/home/buihuy/Intent-Detection/venv/lib/python3.7/site-packages/sklearn/multiclass.py:80: UserWarning: Label not 2 is present in all training examples.\n",
      "  \"Label %s is present in all training examples.\" % str(classes[c])\n",
      "/home/buihuy/Intent-Detection/venv/lib/python3.7/site-packages/sklearn/multiclass.py:80: UserWarning: Label not 8 is present in all training examples.\n",
      "  \"Label %s is present in all training examples.\" % str(classes[c])\n",
      "/home/buihuy/Intent-Detection/venv/lib/python3.7/site-packages/sklearn/multiclass.py:80: UserWarning: Label not 0 is present in all training examples.\n",
      "  \"Label %s is present in all training examples.\" % str(classes[c])\n",
      "/home/buihuy/Intent-Detection/venv/lib/python3.7/site-packages/sklearn/multiclass.py:80: UserWarning: Label not 2 is present in all training examples.\n",
      "  \"Label %s is present in all training examples.\" % str(classes[c])\n",
      "/home/buihuy/Intent-Detection/venv/lib/python3.7/site-packages/sklearn/multiclass.py:80: UserWarning: Label not 8 is present in all training examples.\n",
      "  \"Label %s is present in all training examples.\" % str(classes[c])\n",
      "/home/buihuy/Intent-Detection/venv/lib/python3.7/site-packages/sklearn/multiclass.py:80: UserWarning: Label not 0 is present in all training examples.\n",
      "  \"Label %s is present in all training examples.\" % str(classes[c])\n",
      "/home/buihuy/Intent-Detection/venv/lib/python3.7/site-packages/sklearn/multiclass.py:80: UserWarning: Label not 2 is present in all training examples.\n",
      "  \"Label %s is present in all training examples.\" % str(classes[c])\n",
      "/home/buihuy/Intent-Detection/venv/lib/python3.7/site-packages/sklearn/multiclass.py:80: UserWarning: Label not 8 is present in all training examples.\n",
      "  \"Label %s is present in all training examples.\" % str(classes[c])\n",
      "/home/buihuy/Intent-Detection/venv/lib/python3.7/site-packages/sklearn/multiclass.py:80: UserWarning: Label not 0 is present in all training examples.\n",
      "  \"Label %s is present in all training examples.\" % str(classes[c])\n",
      "/home/buihuy/Intent-Detection/venv/lib/python3.7/site-packages/sklearn/multiclass.py:80: UserWarning: Label not 0 is present in all training examples.\n",
      "  \"Label %s is present in all training examples.\" % str(classes[c])\n",
      "/home/buihuy/Intent-Detection/venv/lib/python3.7/site-packages/sklearn/multiclass.py:80: UserWarning: Label not 2 is present in all training examples.\n",
      "  \"Label %s is present in all training examples.\" % str(classes[c])\n",
      "/home/buihuy/Intent-Detection/venv/lib/python3.7/site-packages/sklearn/multiclass.py:80: UserWarning: Label not 8 is present in all training examples.\n",
      "  \"Label %s is present in all training examples.\" % str(classes[c])\n",
      "/home/buihuy/Intent-Detection/venv/lib/python3.7/site-packages/sklearn/multiclass.py:80: UserWarning: Label not 0 is present in all training examples.\n",
      "  \"Label %s is present in all training examples.\" % str(classes[c])\n",
      "/home/buihuy/Intent-Detection/venv/lib/python3.7/site-packages/sklearn/multiclass.py:80: UserWarning: Label not 2 is present in all training examples.\n",
      "  \"Label %s is present in all training examples.\" % str(classes[c])\n",
      "/home/buihuy/Intent-Detection/venv/lib/python3.7/site-packages/sklearn/multiclass.py:80: UserWarning: Label not 8 is present in all training examples.\n",
      "  \"Label %s is present in all training examples.\" % str(classes[c])\n",
      "/home/buihuy/Intent-Detection/venv/lib/python3.7/site-packages/sklearn/multiclass.py:80: UserWarning: Label not 2 is present in all training examples.\n",
      "  \"Label %s is present in all training examples.\" % str(classes[c])\n",
      "/home/buihuy/Intent-Detection/venv/lib/python3.7/site-packages/sklearn/multiclass.py:80: UserWarning: Label not 0 is present in all training examples.\n",
      "  \"Label %s is present in all training examples.\" % str(classes[c])\n",
      "/home/buihuy/Intent-Detection/venv/lib/python3.7/site-packages/sklearn/multiclass.py:80: UserWarning: Label not 8 is present in all training examples.\n",
      "  \"Label %s is present in all training examples.\" % str(classes[c])\n",
      "/home/buihuy/Intent-Detection/venv/lib/python3.7/site-packages/sklearn/multiclass.py:80: UserWarning: Label not 0 is present in all training examples.\n",
      "  \"Label %s is present in all training examples.\" % str(classes[c])\n",
      "/home/buihuy/Intent-Detection/venv/lib/python3.7/site-packages/sklearn/multiclass.py:80: UserWarning: Label not 2 is present in all training examples.\n",
      "  \"Label %s is present in all training examples.\" % str(classes[c])\n",
      "/home/buihuy/Intent-Detection/venv/lib/python3.7/site-packages/sklearn/multiclass.py:80: UserWarning: Label not 8 is present in all training examples.\n",
      "  \"Label %s is present in all training examples.\" % str(classes[c])\n",
      "/home/buihuy/Intent-Detection/venv/lib/python3.7/site-packages/sklearn/multiclass.py:80: UserWarning: Label not 0 is present in all training examples.\n",
      "  \"Label %s is present in all training examples.\" % str(classes[c])\n",
      "/home/buihuy/Intent-Detection/venv/lib/python3.7/site-packages/sklearn/multiclass.py:80: UserWarning: Label not 2 is present in all training examples.\n",
      "  \"Label %s is present in all training examples.\" % str(classes[c])\n",
      "/home/buihuy/Intent-Detection/venv/lib/python3.7/site-packages/sklearn/multiclass.py:80: UserWarning: Label not 8 is present in all training examples.\n",
      "  \"Label %s is present in all training examples.\" % str(classes[c])\n",
      "/home/buihuy/Intent-Detection/venv/lib/python3.7/site-packages/sklearn/multiclass.py:80: UserWarning: Label not 0 is present in all training examples.\n",
      "  \"Label %s is present in all training examples.\" % str(classes[c])\n",
      "/home/buihuy/Intent-Detection/venv/lib/python3.7/site-packages/sklearn/multiclass.py:80: UserWarning: Label not 2 is present in all training examples.\n",
      "  \"Label %s is present in all training examples.\" % str(classes[c])\n",
      "/home/buihuy/Intent-Detection/venv/lib/python3.7/site-packages/sklearn/multiclass.py:80: UserWarning: Label not 8 is present in all training examples.\n",
      "  \"Label %s is present in all training examples.\" % str(classes[c])\n",
      "/home/buihuy/Intent-Detection/venv/lib/python3.7/site-packages/sklearn/multiclass.py:80: UserWarning: Label not 0 is present in all training examples.\n",
      "  \"Label %s is present in all training examples.\" % str(classes[c])\n",
      "/home/buihuy/Intent-Detection/venv/lib/python3.7/site-packages/sklearn/multiclass.py:80: UserWarning: Label not 2 is present in all training examples.\n",
      "  \"Label %s is present in all training examples.\" % str(classes[c])\n",
      "/home/buihuy/Intent-Detection/venv/lib/python3.7/site-packages/sklearn/multiclass.py:80: UserWarning: Label not 8 is present in all training examples.\n",
      "  \"Label %s is present in all training examples.\" % str(classes[c])\n",
      "/home/buihuy/Intent-Detection/venv/lib/python3.7/site-packages/sklearn/multiclass.py:80: UserWarning: Label not 2 is present in all training examples.\n",
      "  \"Label %s is present in all training examples.\" % str(classes[c])\n",
      "/home/buihuy/Intent-Detection/venv/lib/python3.7/site-packages/sklearn/multiclass.py:80: UserWarning: Label not 0 is present in all training examples.\n",
      "  \"Label %s is present in all training examples.\" % str(classes[c])\n",
      "/home/buihuy/Intent-Detection/venv/lib/python3.7/site-packages/sklearn/multiclass.py:80: UserWarning: Label not 8 is present in all training examples.\n",
      "  \"Label %s is present in all training examples.\" % str(classes[c])\n",
      "/home/buihuy/Intent-Detection/venv/lib/python3.7/site-packages/sklearn/multiclass.py:80: UserWarning: Label not 2 is present in all training examples.\n",
      "  \"Label %s is present in all training examples.\" % str(classes[c])\n",
      "/home/buihuy/Intent-Detection/venv/lib/python3.7/site-packages/sklearn/multiclass.py:80: UserWarning: Label not 0 is present in all training examples.\n",
      "  \"Label %s is present in all training examples.\" % str(classes[c])\n",
      "/home/buihuy/Intent-Detection/venv/lib/python3.7/site-packages/sklearn/multiclass.py:80: UserWarning: Label not 8 is present in all training examples.\n",
      "  \"Label %s is present in all training examples.\" % str(classes[c])\n",
      "/home/buihuy/Intent-Detection/venv/lib/python3.7/site-packages/sklearn/multiclass.py:80: UserWarning: Label not 0 is present in all training examples.\n",
      "  \"Label %s is present in all training examples.\" % str(classes[c])\n",
      "/home/buihuy/Intent-Detection/venv/lib/python3.7/site-packages/sklearn/multiclass.py:80: UserWarning: Label not 2 is present in all training examples.\n",
      "  \"Label %s is present in all training examples.\" % str(classes[c])\n",
      "/home/buihuy/Intent-Detection/venv/lib/python3.7/site-packages/sklearn/multiclass.py:80: UserWarning: Label not 8 is present in all training examples.\n",
      "  \"Label %s is present in all training examples.\" % str(classes[c])\n",
      "/home/buihuy/Intent-Detection/venv/lib/python3.7/site-packages/sklearn/multiclass.py:80: UserWarning: Label not 0 is present in all training examples.\n",
      "  \"Label %s is present in all training examples.\" % str(classes[c])\n",
      "/home/buihuy/Intent-Detection/venv/lib/python3.7/site-packages/sklearn/multiclass.py:80: UserWarning: Label not 2 is present in all training examples.\n",
      "  \"Label %s is present in all training examples.\" % str(classes[c])\n",
      "/home/buihuy/Intent-Detection/venv/lib/python3.7/site-packages/sklearn/multiclass.py:80: UserWarning: Label not 8 is present in all training examples.\n",
      "  \"Label %s is present in all training examples.\" % str(classes[c])\n",
      "/home/buihuy/Intent-Detection/venv/lib/python3.7/site-packages/sklearn/multiclass.py:80: UserWarning: Label not 0 is present in all training examples.\n",
      "  \"Label %s is present in all training examples.\" % str(classes[c])\n",
      "/home/buihuy/Intent-Detection/venv/lib/python3.7/site-packages/sklearn/multiclass.py:80: UserWarning: Label not 2 is present in all training examples.\n",
      "  \"Label %s is present in all training examples.\" % str(classes[c])\n",
      "/home/buihuy/Intent-Detection/venv/lib/python3.7/site-packages/sklearn/multiclass.py:80: UserWarning: Label not 8 is present in all training examples.\n",
      "  \"Label %s is present in all training examples.\" % str(classes[c])\n",
      "/home/buihuy/Intent-Detection/venv/lib/python3.7/site-packages/sklearn/multiclass.py:80: UserWarning: Label not 0 is present in all training examples.\n",
      "  \"Label %s is present in all training examples.\" % str(classes[c])\n",
      "/home/buihuy/Intent-Detection/venv/lib/python3.7/site-packages/sklearn/multiclass.py:80: UserWarning: Label not 2 is present in all training examples.\n",
      "  \"Label %s is present in all training examples.\" % str(classes[c])\n",
      "/home/buihuy/Intent-Detection/venv/lib/python3.7/site-packages/sklearn/multiclass.py:80: UserWarning: Label not 2 is present in all training examples.\n",
      "  \"Label %s is present in all training examples.\" % str(classes[c])\n",
      "/home/buihuy/Intent-Detection/venv/lib/python3.7/site-packages/sklearn/multiclass.py:80: UserWarning: Label not 8 is present in all training examples.\n",
      "  \"Label %s is present in all training examples.\" % str(classes[c])\n",
      "/home/buihuy/Intent-Detection/venv/lib/python3.7/site-packages/sklearn/multiclass.py:80: UserWarning: Label not 2 is present in all training examples.\n",
      "  \"Label %s is present in all training examples.\" % str(classes[c])\n",
      "/home/buihuy/Intent-Detection/venv/lib/python3.7/site-packages/sklearn/multiclass.py:80: UserWarning: Label not 0 is present in all training examples.\n",
      "  \"Label %s is present in all training examples.\" % str(classes[c])\n",
      "/home/buihuy/Intent-Detection/venv/lib/python3.7/site-packages/sklearn/multiclass.py:80: UserWarning: Label not 8 is present in all training examples.\n",
      "  \"Label %s is present in all training examples.\" % str(classes[c])\n",
      "/home/buihuy/Intent-Detection/venv/lib/python3.7/site-packages/sklearn/multiclass.py:80: UserWarning: Label not 0 is present in all training examples.\n",
      "  \"Label %s is present in all training examples.\" % str(classes[c])\n",
      "/home/buihuy/Intent-Detection/venv/lib/python3.7/site-packages/sklearn/multiclass.py:80: UserWarning: Label not 2 is present in all training examples.\n",
      "  \"Label %s is present in all training examples.\" % str(classes[c])\n",
      "/home/buihuy/Intent-Detection/venv/lib/python3.7/site-packages/sklearn/multiclass.py:80: UserWarning: Label not 8 is present in all training examples.\n",
      "  \"Label %s is present in all training examples.\" % str(classes[c])\n",
      "/home/buihuy/Intent-Detection/venv/lib/python3.7/site-packages/sklearn/multiclass.py:80: UserWarning: Label not 2 is present in all training examples.\n",
      "  \"Label %s is present in all training examples.\" % str(classes[c])\n",
      "/home/buihuy/Intent-Detection/venv/lib/python3.7/site-packages/sklearn/multiclass.py:80: UserWarning: Label not 0 is present in all training examples.\n",
      "  \"Label %s is present in all training examples.\" % str(classes[c])\n",
      "/home/buihuy/Intent-Detection/venv/lib/python3.7/site-packages/sklearn/multiclass.py:80: UserWarning: Label not 8 is present in all training examples.\n",
      "  \"Label %s is present in all training examples.\" % str(classes[c])\n",
      "/home/buihuy/Intent-Detection/venv/lib/python3.7/site-packages/sklearn/multiclass.py:80: UserWarning: Label not 0 is present in all training examples.\n",
      "  \"Label %s is present in all training examples.\" % str(classes[c])\n",
      "/home/buihuy/Intent-Detection/venv/lib/python3.7/site-packages/sklearn/multiclass.py:80: UserWarning: Label not 2 is present in all training examples.\n",
      "  \"Label %s is present in all training examples.\" % str(classes[c])\n",
      "/home/buihuy/Intent-Detection/venv/lib/python3.7/site-packages/sklearn/multiclass.py:80: UserWarning: Label not 8 is present in all training examples.\n",
      "  \"Label %s is present in all training examples.\" % str(classes[c])\n",
      "/home/buihuy/Intent-Detection/venv/lib/python3.7/site-packages/sklearn/multiclass.py:80: UserWarning: Label not 2 is present in all training examples.\n",
      "  \"Label %s is present in all training examples.\" % str(classes[c])\n",
      "/home/buihuy/Intent-Detection/venv/lib/python3.7/site-packages/sklearn/multiclass.py:80: UserWarning: Label not 0 is present in all training examples.\n",
      "  \"Label %s is present in all training examples.\" % str(classes[c])\n",
      "/home/buihuy/Intent-Detection/venv/lib/python3.7/site-packages/sklearn/multiclass.py:80: UserWarning: Label not 8 is present in all training examples.\n",
      "  \"Label %s is present in all training examples.\" % str(classes[c])\n",
      "/home/buihuy/Intent-Detection/venv/lib/python3.7/site-packages/sklearn/multiclass.py:80: UserWarning: Label not 0 is present in all training examples.\n",
      "  \"Label %s is present in all training examples.\" % str(classes[c])\n",
      "/home/buihuy/Intent-Detection/venv/lib/python3.7/site-packages/sklearn/multiclass.py:80: UserWarning: Label not 2 is present in all training examples.\n",
      "  \"Label %s is present in all training examples.\" % str(classes[c])\n",
      "/home/buihuy/Intent-Detection/venv/lib/python3.7/site-packages/sklearn/multiclass.py:80: UserWarning: Label not 8 is present in all training examples.\n",
      "  \"Label %s is present in all training examples.\" % str(classes[c])\n",
      "/home/buihuy/Intent-Detection/venv/lib/python3.7/site-packages/sklearn/multiclass.py:80: UserWarning: Label not 0 is present in all training examples.\n",
      "  \"Label %s is present in all training examples.\" % str(classes[c])\n",
      "/home/buihuy/Intent-Detection/venv/lib/python3.7/site-packages/sklearn/multiclass.py:80: UserWarning: Label not 2 is present in all training examples.\n",
      "  \"Label %s is present in all training examples.\" % str(classes[c])\n",
      "/home/buihuy/Intent-Detection/venv/lib/python3.7/site-packages/sklearn/multiclass.py:80: UserWarning: Label not 8 is present in all training examples.\n",
      "  \"Label %s is present in all training examples.\" % str(classes[c])\n",
      "/home/buihuy/Intent-Detection/venv/lib/python3.7/site-packages/sklearn/multiclass.py:80: UserWarning: Label not 0 is present in all training examples.\n",
      "  \"Label %s is present in all training examples.\" % str(classes[c])\n",
      "/home/buihuy/Intent-Detection/venv/lib/python3.7/site-packages/sklearn/multiclass.py:80: UserWarning: Label not 2 is present in all training examples.\n",
      "  \"Label %s is present in all training examples.\" % str(classes[c])\n",
      "/home/buihuy/Intent-Detection/venv/lib/python3.7/site-packages/sklearn/multiclass.py:80: UserWarning: Label not 8 is present in all training examples.\n",
      "  \"Label %s is present in all training examples.\" % str(classes[c])\n",
      "/home/buihuy/Intent-Detection/venv/lib/python3.7/site-packages/sklearn/multiclass.py:80: UserWarning: Label not 2 is present in all training examples.\n",
      "  \"Label %s is present in all training examples.\" % str(classes[c])\n",
      "/home/buihuy/Intent-Detection/venv/lib/python3.7/site-packages/sklearn/multiclass.py:80: UserWarning: Label not 0 is present in all training examples.\n",
      "  \"Label %s is present in all training examples.\" % str(classes[c])\n",
      "/home/buihuy/Intent-Detection/venv/lib/python3.7/site-packages/sklearn/multiclass.py:80: UserWarning: Label not 8 is present in all training examples.\n",
      "  \"Label %s is present in all training examples.\" % str(classes[c])\n",
      "/home/buihuy/Intent-Detection/venv/lib/python3.7/site-packages/sklearn/multiclass.py:80: UserWarning: Label not 0 is present in all training examples.\n",
      "  \"Label %s is present in all training examples.\" % str(classes[c])\n",
      "/home/buihuy/Intent-Detection/venv/lib/python3.7/site-packages/sklearn/multiclass.py:80: UserWarning: Label not 2 is present in all training examples.\n",
      "  \"Label %s is present in all training examples.\" % str(classes[c])\n",
      "/home/buihuy/Intent-Detection/venv/lib/python3.7/site-packages/sklearn/multiclass.py:80: UserWarning: Label not 8 is present in all training examples.\n",
      "  \"Label %s is present in all training examples.\" % str(classes[c])\n",
      "/home/buihuy/Intent-Detection/venv/lib/python3.7/site-packages/sklearn/multiclass.py:80: UserWarning: Label not 0 is present in all training examples.\n",
      "  \"Label %s is present in all training examples.\" % str(classes[c])\n",
      "/home/buihuy/Intent-Detection/venv/lib/python3.7/site-packages/sklearn/multiclass.py:80: UserWarning: Label not 2 is present in all training examples.\n",
      "  \"Label %s is present in all training examples.\" % str(classes[c])\n",
      "/home/buihuy/Intent-Detection/venv/lib/python3.7/site-packages/sklearn/multiclass.py:80: UserWarning: Label not 8 is present in all training examples.\n",
      "  \"Label %s is present in all training examples.\" % str(classes[c])\n",
      "/home/buihuy/Intent-Detection/venv/lib/python3.7/site-packages/sklearn/multiclass.py:80: UserWarning: Label not 0 is present in all training examples.\n",
      "  \"Label %s is present in all training examples.\" % str(classes[c])\n",
      "/home/buihuy/Intent-Detection/venv/lib/python3.7/site-packages/sklearn/multiclass.py:80: UserWarning: Label not 2 is present in all training examples.\n",
      "  \"Label %s is present in all training examples.\" % str(classes[c])\n",
      "/home/buihuy/Intent-Detection/venv/lib/python3.7/site-packages/sklearn/multiclass.py:80: UserWarning: Label not 8 is present in all training examples.\n",
      "  \"Label %s is present in all training examples.\" % str(classes[c])\n",
      "/home/buihuy/Intent-Detection/venv/lib/python3.7/site-packages/sklearn/multiclass.py:80: UserWarning: Label not 2 is present in all training examples.\n",
      "  \"Label %s is present in all training examples.\" % str(classes[c])\n",
      "/home/buihuy/Intent-Detection/venv/lib/python3.7/site-packages/sklearn/multiclass.py:80: UserWarning: Label not 8 is present in all training examples.\n",
      "  \"Label %s is present in all training examples.\" % str(classes[c])\n",
      "/home/buihuy/Intent-Detection/venv/lib/python3.7/site-packages/sklearn/multiclass.py:80: UserWarning: Label not 0 is present in all training examples.\n",
      "  \"Label %s is present in all training examples.\" % str(classes[c])\n",
      "/home/buihuy/Intent-Detection/venv/lib/python3.7/site-packages/sklearn/multiclass.py:80: UserWarning: Label not 2 is present in all training examples.\n",
      "  \"Label %s is present in all training examples.\" % str(classes[c])\n",
      "/home/buihuy/Intent-Detection/venv/lib/python3.7/site-packages/sklearn/multiclass.py:80: UserWarning: Label not 8 is present in all training examples.\n",
      "  \"Label %s is present in all training examples.\" % str(classes[c])\n",
      "/home/buihuy/Intent-Detection/venv/lib/python3.7/site-packages/sklearn/multiclass.py:80: UserWarning: Label not 0 is present in all training examples.\n",
      "  \"Label %s is present in all training examples.\" % str(classes[c])\n",
      "/home/buihuy/Intent-Detection/venv/lib/python3.7/site-packages/sklearn/multiclass.py:80: UserWarning: Label not 2 is present in all training examples.\n",
      "  \"Label %s is present in all training examples.\" % str(classes[c])\n",
      "/home/buihuy/Intent-Detection/venv/lib/python3.7/site-packages/sklearn/multiclass.py:80: UserWarning: Label not 8 is present in all training examples.\n",
      "  \"Label %s is present in all training examples.\" % str(classes[c])\n",
      "/home/buihuy/Intent-Detection/venv/lib/python3.7/site-packages/sklearn/multiclass.py:80: UserWarning: Label not 0 is present in all training examples.\n",
      "  \"Label %s is present in all training examples.\" % str(classes[c])\n",
      "/home/buihuy/Intent-Detection/venv/lib/python3.7/site-packages/sklearn/multiclass.py:80: UserWarning: Label not 2 is present in all training examples.\n",
      "  \"Label %s is present in all training examples.\" % str(classes[c])\n",
      "/home/buihuy/Intent-Detection/venv/lib/python3.7/site-packages/sklearn/multiclass.py:80: UserWarning: Label not 8 is present in all training examples.\n",
      "  \"Label %s is present in all training examples.\" % str(classes[c])\n",
      "/home/buihuy/Intent-Detection/venv/lib/python3.7/site-packages/sklearn/multiclass.py:80: UserWarning: Label not 0 is present in all training examples.\n",
      "  \"Label %s is present in all training examples.\" % str(classes[c])\n",
      "/home/buihuy/Intent-Detection/venv/lib/python3.7/site-packages/sklearn/multiclass.py:80: UserWarning: Label not 2 is present in all training examples.\n",
      "  \"Label %s is present in all training examples.\" % str(classes[c])\n",
      "/home/buihuy/Intent-Detection/venv/lib/python3.7/site-packages/sklearn/multiclass.py:80: UserWarning: Label not 8 is present in all training examples.\n",
      "  \"Label %s is present in all training examples.\" % str(classes[c])\n",
      "/home/buihuy/Intent-Detection/venv/lib/python3.7/site-packages/sklearn/multiclass.py:80: UserWarning: Label not 0 is present in all training examples.\n",
      "  \"Label %s is present in all training examples.\" % str(classes[c])\n",
      "/home/buihuy/Intent-Detection/venv/lib/python3.7/site-packages/sklearn/multiclass.py:80: UserWarning: Label not 2 is present in all training examples.\n",
      "  \"Label %s is present in all training examples.\" % str(classes[c])\n",
      "/home/buihuy/Intent-Detection/venv/lib/python3.7/site-packages/sklearn/multiclass.py:80: UserWarning: Label not 8 is present in all training examples.\n",
      "  \"Label %s is present in all training examples.\" % str(classes[c])\n",
      "/home/buihuy/Intent-Detection/venv/lib/python3.7/site-packages/sklearn/multiclass.py:80: UserWarning: Label not 0 is present in all training examples.\n",
      "  \"Label %s is present in all training examples.\" % str(classes[c])\n",
      "/home/buihuy/Intent-Detection/venv/lib/python3.7/site-packages/sklearn/multiclass.py:80: UserWarning: Label not 2 is present in all training examples.\n",
      "  \"Label %s is present in all training examples.\" % str(classes[c])\n",
      "/home/buihuy/Intent-Detection/venv/lib/python3.7/site-packages/sklearn/multiclass.py:80: UserWarning: Label not 8 is present in all training examples.\n",
      "  \"Label %s is present in all training examples.\" % str(classes[c])\n",
      "/home/buihuy/Intent-Detection/venv/lib/python3.7/site-packages/sklearn/multiclass.py:80: UserWarning: Label not 0 is present in all training examples.\n",
      "  \"Label %s is present in all training examples.\" % str(classes[c])\n",
      "/home/buihuy/Intent-Detection/venv/lib/python3.7/site-packages/sklearn/multiclass.py:80: UserWarning: Label not 2 is present in all training examples.\n",
      "  \"Label %s is present in all training examples.\" % str(classes[c])\n",
      "/home/buihuy/Intent-Detection/venv/lib/python3.7/site-packages/sklearn/multiclass.py:80: UserWarning: Label not 8 is present in all training examples.\n",
      "  \"Label %s is present in all training examples.\" % str(classes[c])\n",
      "/home/buihuy/Intent-Detection/venv/lib/python3.7/site-packages/sklearn/multiclass.py:80: UserWarning: Label not 0 is present in all training examples.\n",
      "  \"Label %s is present in all training examples.\" % str(classes[c])\n",
      "/home/buihuy/Intent-Detection/venv/lib/python3.7/site-packages/sklearn/multiclass.py:80: UserWarning: Label not 2 is present in all training examples.\n",
      "  \"Label %s is present in all training examples.\" % str(classes[c])\n",
      "/home/buihuy/Intent-Detection/venv/lib/python3.7/site-packages/sklearn/multiclass.py:80: UserWarning: Label not 8 is present in all training examples.\n",
      "  \"Label %s is present in all training examples.\" % str(classes[c])\n",
      "/home/buihuy/Intent-Detection/venv/lib/python3.7/site-packages/sklearn/multiclass.py:80: UserWarning: Label not 0 is present in all training examples.\n",
      "  \"Label %s is present in all training examples.\" % str(classes[c])\n",
      "/home/buihuy/Intent-Detection/venv/lib/python3.7/site-packages/sklearn/multiclass.py:80: UserWarning: Label not 2 is present in all training examples.\n",
      "  \"Label %s is present in all training examples.\" % str(classes[c])\n",
      "/home/buihuy/Intent-Detection/venv/lib/python3.7/site-packages/sklearn/multiclass.py:80: UserWarning: Label not 8 is present in all training examples.\n",
      "  \"Label %s is present in all training examples.\" % str(classes[c])\n",
      "/home/buihuy/Intent-Detection/venv/lib/python3.7/site-packages/sklearn/multiclass.py:80: UserWarning: Label not 0 is present in all training examples.\n",
      "  \"Label %s is present in all training examples.\" % str(classes[c])\n",
      "/home/buihuy/Intent-Detection/venv/lib/python3.7/site-packages/sklearn/multiclass.py:80: UserWarning: Label not 2 is present in all training examples.\n",
      "  \"Label %s is present in all training examples.\" % str(classes[c])\n",
      "/home/buihuy/Intent-Detection/venv/lib/python3.7/site-packages/sklearn/multiclass.py:80: UserWarning: Label not 8 is present in all training examples.\n",
      "  \"Label %s is present in all training examples.\" % str(classes[c])\n",
      "/home/buihuy/Intent-Detection/venv/lib/python3.7/site-packages/sklearn/multiclass.py:80: UserWarning: Label not 0 is present in all training examples.\n",
      "  \"Label %s is present in all training examples.\" % str(classes[c])\n",
      "/home/buihuy/Intent-Detection/venv/lib/python3.7/site-packages/sklearn/multiclass.py:80: UserWarning: Label not 2 is present in all training examples.\n",
      "  \"Label %s is present in all training examples.\" % str(classes[c])\n",
      "/home/buihuy/Intent-Detection/venv/lib/python3.7/site-packages/sklearn/multiclass.py:80: UserWarning: Label not 8 is present in all training examples.\n",
      "  \"Label %s is present in all training examples.\" % str(classes[c])\n",
      "/home/buihuy/Intent-Detection/venv/lib/python3.7/site-packages/sklearn/multiclass.py:80: UserWarning: Label not 0 is present in all training examples.\n",
      "  \"Label %s is present in all training examples.\" % str(classes[c])\n",
      "/home/buihuy/Intent-Detection/venv/lib/python3.7/site-packages/sklearn/multiclass.py:80: UserWarning: Label not 2 is present in all training examples.\n",
      "  \"Label %s is present in all training examples.\" % str(classes[c])\n",
      "/home/buihuy/Intent-Detection/venv/lib/python3.7/site-packages/sklearn/multiclass.py:80: UserWarning: Label not 8 is present in all training examples.\n",
      "  \"Label %s is present in all training examples.\" % str(classes[c])\n",
      "/home/buihuy/Intent-Detection/venv/lib/python3.7/site-packages/sklearn/multiclass.py:80: UserWarning: Label not 2 is present in all training examples.\n",
      "  \"Label %s is present in all training examples.\" % str(classes[c])\n",
      "/home/buihuy/Intent-Detection/venv/lib/python3.7/site-packages/sklearn/multiclass.py:80: UserWarning: Label not 8 is present in all training examples.\n",
      "  \"Label %s is present in all training examples.\" % str(classes[c])\n",
      "/home/buihuy/Intent-Detection/venv/lib/python3.7/site-packages/sklearn/multiclass.py:80: UserWarning: Label not 0 is present in all training examples.\n",
      "  \"Label %s is present in all training examples.\" % str(classes[c])\n",
      "/home/buihuy/Intent-Detection/venv/lib/python3.7/site-packages/sklearn/multiclass.py:80: UserWarning: Label not 2 is present in all training examples.\n",
      "  \"Label %s is present in all training examples.\" % str(classes[c])\n",
      "/home/buihuy/Intent-Detection/venv/lib/python3.7/site-packages/sklearn/multiclass.py:80: UserWarning: Label not 8 is present in all training examples.\n",
      "  \"Label %s is present in all training examples.\" % str(classes[c])\n",
      "/home/buihuy/Intent-Detection/venv/lib/python3.7/site-packages/sklearn/multiclass.py:80: UserWarning: Label not 0 is present in all training examples.\n",
      "  \"Label %s is present in all training examples.\" % str(classes[c])\n",
      "/home/buihuy/Intent-Detection/venv/lib/python3.7/site-packages/sklearn/multiclass.py:80: UserWarning: Label not 2 is present in all training examples.\n",
      "  \"Label %s is present in all training examples.\" % str(classes[c])\n",
      "/home/buihuy/Intent-Detection/venv/lib/python3.7/site-packages/sklearn/multiclass.py:80: UserWarning: Label not 8 is present in all training examples.\n",
      "  \"Label %s is present in all training examples.\" % str(classes[c])\n",
      "/home/buihuy/Intent-Detection/venv/lib/python3.7/site-packages/sklearn/multiclass.py:80: UserWarning: Label not 0 is present in all training examples.\n",
      "  \"Label %s is present in all training examples.\" % str(classes[c])\n",
      "/home/buihuy/Intent-Detection/venv/lib/python3.7/site-packages/sklearn/multiclass.py:80: UserWarning: Label not 2 is present in all training examples.\n",
      "  \"Label %s is present in all training examples.\" % str(classes[c])\n",
      "/home/buihuy/Intent-Detection/venv/lib/python3.7/site-packages/sklearn/multiclass.py:80: UserWarning: Label not 8 is present in all training examples.\n",
      "  \"Label %s is present in all training examples.\" % str(classes[c])\n",
      "/home/buihuy/Intent-Detection/venv/lib/python3.7/site-packages/sklearn/multiclass.py:80: UserWarning: Label not 2 is present in all training examples.\n",
      "  \"Label %s is present in all training examples.\" % str(classes[c])\n",
      "/home/buihuy/Intent-Detection/venv/lib/python3.7/site-packages/sklearn/multiclass.py:80: UserWarning: Label not 0 is present in all training examples.\n",
      "  \"Label %s is present in all training examples.\" % str(classes[c])\n",
      "/home/buihuy/Intent-Detection/venv/lib/python3.7/site-packages/sklearn/multiclass.py:80: UserWarning: Label not 8 is present in all training examples.\n",
      "  \"Label %s is present in all training examples.\" % str(classes[c])\n",
      "/home/buihuy/Intent-Detection/venv/lib/python3.7/site-packages/sklearn/multiclass.py:80: UserWarning: Label not 0 is present in all training examples.\n",
      "  \"Label %s is present in all training examples.\" % str(classes[c])\n",
      "/home/buihuy/Intent-Detection/venv/lib/python3.7/site-packages/sklearn/multiclass.py:80: UserWarning: Label not 2 is present in all training examples.\n",
      "  \"Label %s is present in all training examples.\" % str(classes[c])\n",
      "/home/buihuy/Intent-Detection/venv/lib/python3.7/site-packages/sklearn/multiclass.py:80: UserWarning: Label not 8 is present in all training examples.\n",
      "  \"Label %s is present in all training examples.\" % str(classes[c])\n",
      "/home/buihuy/Intent-Detection/venv/lib/python3.7/site-packages/sklearn/multiclass.py:80: UserWarning: Label not 2 is present in all training examples.\n",
      "  \"Label %s is present in all training examples.\" % str(classes[c])\n",
      "/home/buihuy/Intent-Detection/venv/lib/python3.7/site-packages/sklearn/multiclass.py:80: UserWarning: Label not 0 is present in all training examples.\n",
      "  \"Label %s is present in all training examples.\" % str(classes[c])\n",
      "/home/buihuy/Intent-Detection/venv/lib/python3.7/site-packages/sklearn/multiclass.py:80: UserWarning: Label not 8 is present in all training examples.\n",
      "  \"Label %s is present in all training examples.\" % str(classes[c])\n",
      "/home/buihuy/Intent-Detection/venv/lib/python3.7/site-packages/sklearn/multiclass.py:80: UserWarning: Label not 0 is present in all training examples.\n",
      "  \"Label %s is present in all training examples.\" % str(classes[c])\n",
      "/home/buihuy/Intent-Detection/venv/lib/python3.7/site-packages/sklearn/multiclass.py:80: UserWarning: Label not 2 is present in all training examples.\n",
      "  \"Label %s is present in all training examples.\" % str(classes[c])\n",
      "/home/buihuy/Intent-Detection/venv/lib/python3.7/site-packages/sklearn/multiclass.py:80: UserWarning: Label not 8 is present in all training examples.\n",
      "  \"Label %s is present in all training examples.\" % str(classes[c])\n",
      "/home/buihuy/Intent-Detection/venv/lib/python3.7/site-packages/sklearn/multiclass.py:80: UserWarning: Label not 0 is present in all training examples.\n",
      "  \"Label %s is present in all training examples.\" % str(classes[c])\n",
      "/home/buihuy/Intent-Detection/venv/lib/python3.7/site-packages/sklearn/multiclass.py:80: UserWarning: Label not 2 is present in all training examples.\n",
      "  \"Label %s is present in all training examples.\" % str(classes[c])\n",
      "/home/buihuy/Intent-Detection/venv/lib/python3.7/site-packages/sklearn/multiclass.py:80: UserWarning: Label not 8 is present in all training examples.\n",
      "  \"Label %s is present in all training examples.\" % str(classes[c])\n",
      "/home/buihuy/Intent-Detection/venv/lib/python3.7/site-packages/sklearn/multiclass.py:80: UserWarning: Label not 0 is present in all training examples.\n",
      "  \"Label %s is present in all training examples.\" % str(classes[c])\n",
      "/home/buihuy/Intent-Detection/venv/lib/python3.7/site-packages/sklearn/multiclass.py:80: UserWarning: Label not 2 is present in all training examples.\n",
      "  \"Label %s is present in all training examples.\" % str(classes[c])\n",
      "/home/buihuy/Intent-Detection/venv/lib/python3.7/site-packages/sklearn/multiclass.py:80: UserWarning: Label not 8 is present in all training examples.\n",
      "  \"Label %s is present in all training examples.\" % str(classes[c])\n",
      "/home/buihuy/Intent-Detection/venv/lib/python3.7/site-packages/sklearn/multiclass.py:80: UserWarning: Label not 0 is present in all training examples.\n",
      "  \"Label %s is present in all training examples.\" % str(classes[c])\n",
      "/home/buihuy/Intent-Detection/venv/lib/python3.7/site-packages/sklearn/multiclass.py:80: UserWarning: Label not 2 is present in all training examples.\n",
      "  \"Label %s is present in all training examples.\" % str(classes[c])\n",
      "/home/buihuy/Intent-Detection/venv/lib/python3.7/site-packages/sklearn/multiclass.py:80: UserWarning: Label not 8 is present in all training examples.\n",
      "  \"Label %s is present in all training examples.\" % str(classes[c])\n",
      "/home/buihuy/Intent-Detection/venv/lib/python3.7/site-packages/sklearn/multiclass.py:80: UserWarning: Label not 2 is present in all training examples.\n",
      "  \"Label %s is present in all training examples.\" % str(classes[c])\n",
      "/home/buihuy/Intent-Detection/venv/lib/python3.7/site-packages/sklearn/multiclass.py:80: UserWarning: Label not 0 is present in all training examples.\n",
      "  \"Label %s is present in all training examples.\" % str(classes[c])\n",
      "/home/buihuy/Intent-Detection/venv/lib/python3.7/site-packages/sklearn/multiclass.py:80: UserWarning: Label not 8 is present in all training examples.\n",
      "  \"Label %s is present in all training examples.\" % str(classes[c])\n",
      "/home/buihuy/Intent-Detection/venv/lib/python3.7/site-packages/sklearn/multiclass.py:80: UserWarning: Label not 0 is present in all training examples.\n",
      "  \"Label %s is present in all training examples.\" % str(classes[c])\n",
      "/home/buihuy/Intent-Detection/venv/lib/python3.7/site-packages/sklearn/multiclass.py:80: UserWarning: Label not 2 is present in all training examples.\n",
      "  \"Label %s is present in all training examples.\" % str(classes[c])\n",
      "/home/buihuy/Intent-Detection/venv/lib/python3.7/site-packages/sklearn/multiclass.py:80: UserWarning: Label not 8 is present in all training examples.\n",
      "  \"Label %s is present in all training examples.\" % str(classes[c])\n",
      "/home/buihuy/Intent-Detection/venv/lib/python3.7/site-packages/sklearn/multiclass.py:80: UserWarning: Label not 0 is present in all training examples.\n",
      "  \"Label %s is present in all training examples.\" % str(classes[c])\n",
      "/home/buihuy/Intent-Detection/venv/lib/python3.7/site-packages/sklearn/multiclass.py:80: UserWarning: Label not 2 is present in all training examples.\n",
      "  \"Label %s is present in all training examples.\" % str(classes[c])\n",
      "/home/buihuy/Intent-Detection/venv/lib/python3.7/site-packages/sklearn/multiclass.py:80: UserWarning: Label not 8 is present in all training examples.\n",
      "  \"Label %s is present in all training examples.\" % str(classes[c])\n",
      "/home/buihuy/Intent-Detection/venv/lib/python3.7/site-packages/sklearn/multiclass.py:80: UserWarning: Label not 0 is present in all training examples.\n",
      "  \"Label %s is present in all training examples.\" % str(classes[c])\n",
      "/home/buihuy/Intent-Detection/venv/lib/python3.7/site-packages/sklearn/multiclass.py:80: UserWarning: Label not 2 is present in all training examples.\n",
      "  \"Label %s is present in all training examples.\" % str(classes[c])\n",
      "/home/buihuy/Intent-Detection/venv/lib/python3.7/site-packages/sklearn/multiclass.py:80: UserWarning: Label not 8 is present in all training examples.\n",
      "  \"Label %s is present in all training examples.\" % str(classes[c])\n",
      "/home/buihuy/Intent-Detection/venv/lib/python3.7/site-packages/sklearn/multiclass.py:80: UserWarning: Label not 0 is present in all training examples.\n",
      "  \"Label %s is present in all training examples.\" % str(classes[c])\n",
      "/home/buihuy/Intent-Detection/venv/lib/python3.7/site-packages/sklearn/multiclass.py:80: UserWarning: Label not 2 is present in all training examples.\n",
      "  \"Label %s is present in all training examples.\" % str(classes[c])\n",
      "/home/buihuy/Intent-Detection/venv/lib/python3.7/site-packages/sklearn/multiclass.py:80: UserWarning: Label not 8 is present in all training examples.\n",
      "  \"Label %s is present in all training examples.\" % str(classes[c])\n",
      "/home/buihuy/Intent-Detection/venv/lib/python3.7/site-packages/sklearn/multiclass.py:80: UserWarning: Label not 0 is present in all training examples.\n",
      "  \"Label %s is present in all training examples.\" % str(classes[c])\n",
      "/home/buihuy/Intent-Detection/venv/lib/python3.7/site-packages/sklearn/multiclass.py:80: UserWarning: Label not 2 is present in all training examples.\n",
      "  \"Label %s is present in all training examples.\" % str(classes[c])\n",
      "/home/buihuy/Intent-Detection/venv/lib/python3.7/site-packages/sklearn/multiclass.py:80: UserWarning: Label not 8 is present in all training examples.\n",
      "  \"Label %s is present in all training examples.\" % str(classes[c])\n",
      "/home/buihuy/Intent-Detection/venv/lib/python3.7/site-packages/sklearn/multiclass.py:80: UserWarning: Label not 0 is present in all training examples.\n",
      "  \"Label %s is present in all training examples.\" % str(classes[c])\n",
      "/home/buihuy/Intent-Detection/venv/lib/python3.7/site-packages/sklearn/multiclass.py:80: UserWarning: Label not 2 is present in all training examples.\n",
      "  \"Label %s is present in all training examples.\" % str(classes[c])\n",
      "/home/buihuy/Intent-Detection/venv/lib/python3.7/site-packages/sklearn/multiclass.py:80: UserWarning: Label not 8 is present in all training examples.\n",
      "  \"Label %s is present in all training examples.\" % str(classes[c])\n",
      "/home/buihuy/Intent-Detection/venv/lib/python3.7/site-packages/sklearn/multiclass.py:80: UserWarning: Label not 0 is present in all training examples.\n",
      "  \"Label %s is present in all training examples.\" % str(classes[c])\n",
      "/home/buihuy/Intent-Detection/venv/lib/python3.7/site-packages/sklearn/multiclass.py:80: UserWarning: Label not 2 is present in all training examples.\n",
      "  \"Label %s is present in all training examples.\" % str(classes[c])\n",
      "/home/buihuy/Intent-Detection/venv/lib/python3.7/site-packages/sklearn/multiclass.py:80: UserWarning: Label not 8 is present in all training examples.\n",
      "  \"Label %s is present in all training examples.\" % str(classes[c])\n",
      "/home/buihuy/Intent-Detection/venv/lib/python3.7/site-packages/sklearn/multiclass.py:80: UserWarning: Label not 0 is present in all training examples.\n",
      "  \"Label %s is present in all training examples.\" % str(classes[c])\n",
      "/home/buihuy/Intent-Detection/venv/lib/python3.7/site-packages/sklearn/multiclass.py:80: UserWarning: Label not 2 is present in all training examples.\n",
      "  \"Label %s is present in all training examples.\" % str(classes[c])\n",
      "/home/buihuy/Intent-Detection/venv/lib/python3.7/site-packages/sklearn/multiclass.py:80: UserWarning: Label not 8 is present in all training examples.\n",
      "  \"Label %s is present in all training examples.\" % str(classes[c])\n",
      "/home/buihuy/Intent-Detection/venv/lib/python3.7/site-packages/sklearn/multiclass.py:80: UserWarning: Label not 0 is present in all training examples.\n",
      "  \"Label %s is present in all training examples.\" % str(classes[c])\n",
      "/home/buihuy/Intent-Detection/venv/lib/python3.7/site-packages/sklearn/multiclass.py:80: UserWarning: Label not 2 is present in all training examples.\n",
      "  \"Label %s is present in all training examples.\" % str(classes[c])\n",
      "/home/buihuy/Intent-Detection/venv/lib/python3.7/site-packages/sklearn/multiclass.py:80: UserWarning: Label not 8 is present in all training examples.\n",
      "  \"Label %s is present in all training examples.\" % str(classes[c])\n",
      "/home/buihuy/Intent-Detection/venv/lib/python3.7/site-packages/sklearn/multiclass.py:80: UserWarning: Label not 0 is present in all training examples.\n",
      "  \"Label %s is present in all training examples.\" % str(classes[c])\n",
      "/home/buihuy/Intent-Detection/venv/lib/python3.7/site-packages/sklearn/multiclass.py:80: UserWarning: Label not 2 is present in all training examples.\n",
      "  \"Label %s is present in all training examples.\" % str(classes[c])\n",
      "/home/buihuy/Intent-Detection/venv/lib/python3.7/site-packages/sklearn/multiclass.py:80: UserWarning: Label not 8 is present in all training examples.\n",
      "  \"Label %s is present in all training examples.\" % str(classes[c])\n",
      "/home/buihuy/Intent-Detection/venv/lib/python3.7/site-packages/sklearn/multiclass.py:80: UserWarning: Label not 0 is present in all training examples.\n",
      "  \"Label %s is present in all training examples.\" % str(classes[c])\n",
      "/home/buihuy/Intent-Detection/venv/lib/python3.7/site-packages/sklearn/multiclass.py:80: UserWarning: Label not 2 is present in all training examples.\n",
      "  \"Label %s is present in all training examples.\" % str(classes[c])\n",
      "/home/buihuy/Intent-Detection/venv/lib/python3.7/site-packages/sklearn/multiclass.py:80: UserWarning: Label not 8 is present in all training examples.\n",
      "  \"Label %s is present in all training examples.\" % str(classes[c])\n",
      "/home/buihuy/Intent-Detection/venv/lib/python3.7/site-packages/sklearn/multiclass.py:80: UserWarning: Label not 2 is present in all training examples.\n",
      "  \"Label %s is present in all training examples.\" % str(classes[c])\n",
      "/home/buihuy/Intent-Detection/venv/lib/python3.7/site-packages/sklearn/multiclass.py:80: UserWarning: Label not 0 is present in all training examples.\n",
      "  \"Label %s is present in all training examples.\" % str(classes[c])\n",
      "/home/buihuy/Intent-Detection/venv/lib/python3.7/site-packages/sklearn/multiclass.py:80: UserWarning: Label not 8 is present in all training examples.\n",
      "  \"Label %s is present in all training examples.\" % str(classes[c])\n",
      "/home/buihuy/Intent-Detection/venv/lib/python3.7/site-packages/sklearn/multiclass.py:80: UserWarning: Label not 0 is present in all training examples.\n",
      "  \"Label %s is present in all training examples.\" % str(classes[c])\n",
      "/home/buihuy/Intent-Detection/venv/lib/python3.7/site-packages/sklearn/multiclass.py:80: UserWarning: Label not 2 is present in all training examples.\n",
      "  \"Label %s is present in all training examples.\" % str(classes[c])\n",
      "/home/buihuy/Intent-Detection/venv/lib/python3.7/site-packages/sklearn/multiclass.py:80: UserWarning: Label not 8 is present in all training examples.\n",
      "  \"Label %s is present in all training examples.\" % str(classes[c])\n",
      "/home/buihuy/Intent-Detection/venv/lib/python3.7/site-packages/sklearn/multiclass.py:80: UserWarning: Label not 0 is present in all training examples.\n",
      "  \"Label %s is present in all training examples.\" % str(classes[c])\n",
      "/home/buihuy/Intent-Detection/venv/lib/python3.7/site-packages/sklearn/multiclass.py:80: UserWarning: Label not 2 is present in all training examples.\n",
      "  \"Label %s is present in all training examples.\" % str(classes[c])\n",
      "/home/buihuy/Intent-Detection/venv/lib/python3.7/site-packages/sklearn/multiclass.py:80: UserWarning: Label not 8 is present in all training examples.\n",
      "  \"Label %s is present in all training examples.\" % str(classes[c])\n",
      "/home/buihuy/Intent-Detection/venv/lib/python3.7/site-packages/sklearn/multiclass.py:80: UserWarning: Label not 0 is present in all training examples.\n",
      "  \"Label %s is present in all training examples.\" % str(classes[c])\n",
      "/home/buihuy/Intent-Detection/venv/lib/python3.7/site-packages/sklearn/multiclass.py:80: UserWarning: Label not 2 is present in all training examples.\n",
      "  \"Label %s is present in all training examples.\" % str(classes[c])\n",
      "/home/buihuy/Intent-Detection/venv/lib/python3.7/site-packages/sklearn/multiclass.py:80: UserWarning: Label not 8 is present in all training examples.\n",
      "  \"Label %s is present in all training examples.\" % str(classes[c])\n",
      "/home/buihuy/Intent-Detection/venv/lib/python3.7/site-packages/sklearn/multiclass.py:80: UserWarning: Label not 0 is present in all training examples.\n",
      "  \"Label %s is present in all training examples.\" % str(classes[c])\n",
      "/home/buihuy/Intent-Detection/venv/lib/python3.7/site-packages/sklearn/multiclass.py:80: UserWarning: Label not 2 is present in all training examples.\n",
      "  \"Label %s is present in all training examples.\" % str(classes[c])\n",
      "/home/buihuy/Intent-Detection/venv/lib/python3.7/site-packages/sklearn/multiclass.py:80: UserWarning: Label not 8 is present in all training examples.\n",
      "  \"Label %s is present in all training examples.\" % str(classes[c])\n",
      "/home/buihuy/Intent-Detection/venv/lib/python3.7/site-packages/sklearn/multiclass.py:80: UserWarning: Label not 0 is present in all training examples.\n",
      "  \"Label %s is present in all training examples.\" % str(classes[c])\n",
      "/home/buihuy/Intent-Detection/venv/lib/python3.7/site-packages/sklearn/multiclass.py:80: UserWarning: Label not 2 is present in all training examples.\n",
      "  \"Label %s is present in all training examples.\" % str(classes[c])\n",
      "/home/buihuy/Intent-Detection/venv/lib/python3.7/site-packages/sklearn/multiclass.py:80: UserWarning: Label not 8 is present in all training examples.\n",
      "  \"Label %s is present in all training examples.\" % str(classes[c])\n",
      "/home/buihuy/Intent-Detection/venv/lib/python3.7/site-packages/sklearn/multiclass.py:80: UserWarning: Label not 0 is present in all training examples.\n",
      "  \"Label %s is present in all training examples.\" % str(classes[c])\n",
      "/home/buihuy/Intent-Detection/venv/lib/python3.7/site-packages/sklearn/multiclass.py:80: UserWarning: Label not 2 is present in all training examples.\n",
      "  \"Label %s is present in all training examples.\" % str(classes[c])\n",
      "/home/buihuy/Intent-Detection/venv/lib/python3.7/site-packages/sklearn/multiclass.py:80: UserWarning: Label not 8 is present in all training examples.\n",
      "  \"Label %s is present in all training examples.\" % str(classes[c])\n",
      "/home/buihuy/Intent-Detection/venv/lib/python3.7/site-packages/sklearn/multiclass.py:80: UserWarning: Label not 0 is present in all training examples.\n",
      "  \"Label %s is present in all training examples.\" % str(classes[c])\n",
      "/home/buihuy/Intent-Detection/venv/lib/python3.7/site-packages/sklearn/multiclass.py:80: UserWarning: Label not 2 is present in all training examples.\n",
      "  \"Label %s is present in all training examples.\" % str(classes[c])\n",
      "/home/buihuy/Intent-Detection/venv/lib/python3.7/site-packages/sklearn/multiclass.py:80: UserWarning: Label not 8 is present in all training examples.\n",
      "  \"Label %s is present in all training examples.\" % str(classes[c])\n",
      "/home/buihuy/Intent-Detection/venv/lib/python3.7/site-packages/sklearn/multiclass.py:80: UserWarning: Label not 0 is present in all training examples.\n",
      "  \"Label %s is present in all training examples.\" % str(classes[c])\n",
      "/home/buihuy/Intent-Detection/venv/lib/python3.7/site-packages/sklearn/multiclass.py:80: UserWarning: Label not 2 is present in all training examples.\n",
      "  \"Label %s is present in all training examples.\" % str(classes[c])\n",
      "/home/buihuy/Intent-Detection/venv/lib/python3.7/site-packages/sklearn/multiclass.py:80: UserWarning: Label not 8 is present in all training examples.\n",
      "  \"Label %s is present in all training examples.\" % str(classes[c])\n",
      "/home/buihuy/Intent-Detection/venv/lib/python3.7/site-packages/sklearn/multiclass.py:80: UserWarning: Label not 0 is present in all training examples.\n",
      "  \"Label %s is present in all training examples.\" % str(classes[c])\n",
      "/home/buihuy/Intent-Detection/venv/lib/python3.7/site-packages/sklearn/multiclass.py:80: UserWarning: Label not 2 is present in all training examples.\n",
      "  \"Label %s is present in all training examples.\" % str(classes[c])\n",
      "/home/buihuy/Intent-Detection/venv/lib/python3.7/site-packages/sklearn/multiclass.py:80: UserWarning: Label not 8 is present in all training examples.\n",
      "  \"Label %s is present in all training examples.\" % str(classes[c])\n",
      "/home/buihuy/Intent-Detection/venv/lib/python3.7/site-packages/sklearn/multiclass.py:80: UserWarning: Label not 0 is present in all training examples.\n",
      "  \"Label %s is present in all training examples.\" % str(classes[c])\n",
      "/home/buihuy/Intent-Detection/venv/lib/python3.7/site-packages/sklearn/multiclass.py:80: UserWarning: Label not 2 is present in all training examples.\n",
      "  \"Label %s is present in all training examples.\" % str(classes[c])\n",
      "/home/buihuy/Intent-Detection/venv/lib/python3.7/site-packages/sklearn/multiclass.py:80: UserWarning: Label not 8 is present in all training examples.\n",
      "  \"Label %s is present in all training examples.\" % str(classes[c])\n",
      "/home/buihuy/Intent-Detection/venv/lib/python3.7/site-packages/sklearn/multiclass.py:80: UserWarning: Label not 0 is present in all training examples.\n",
      "  \"Label %s is present in all training examples.\" % str(classes[c])\n",
      "/home/buihuy/Intent-Detection/venv/lib/python3.7/site-packages/sklearn/multiclass.py:80: UserWarning: Label not 2 is present in all training examples.\n",
      "  \"Label %s is present in all training examples.\" % str(classes[c])\n",
      "/home/buihuy/Intent-Detection/venv/lib/python3.7/site-packages/sklearn/multiclass.py:80: UserWarning: Label not 8 is present in all training examples.\n",
      "  \"Label %s is present in all training examples.\" % str(classes[c])\n",
      "/home/buihuy/Intent-Detection/venv/lib/python3.7/site-packages/sklearn/multiclass.py:80: UserWarning: Label not 0 is present in all training examples.\n",
      "  \"Label %s is present in all training examples.\" % str(classes[c])\n",
      "/home/buihuy/Intent-Detection/venv/lib/python3.7/site-packages/sklearn/multiclass.py:80: UserWarning: Label not 2 is present in all training examples.\n",
      "  \"Label %s is present in all training examples.\" % str(classes[c])\n",
      "/home/buihuy/Intent-Detection/venv/lib/python3.7/site-packages/sklearn/multiclass.py:80: UserWarning: Label not 8 is present in all training examples.\n",
      "  \"Label %s is present in all training examples.\" % str(classes[c])\n",
      "/home/buihuy/Intent-Detection/venv/lib/python3.7/site-packages/sklearn/multiclass.py:80: UserWarning: Label not 2 is present in all training examples.\n",
      "  \"Label %s is present in all training examples.\" % str(classes[c])\n",
      "/home/buihuy/Intent-Detection/venv/lib/python3.7/site-packages/sklearn/multiclass.py:80: UserWarning: Label not 0 is present in all training examples.\n",
      "  \"Label %s is present in all training examples.\" % str(classes[c])\n",
      "/home/buihuy/Intent-Detection/venv/lib/python3.7/site-packages/sklearn/multiclass.py:80: UserWarning: Label not 8 is present in all training examples.\n",
      "  \"Label %s is present in all training examples.\" % str(classes[c])\n",
      "/home/buihuy/Intent-Detection/venv/lib/python3.7/site-packages/sklearn/multiclass.py:80: UserWarning: Label not 2 is present in all training examples.\n",
      "  \"Label %s is present in all training examples.\" % str(classes[c])\n",
      "/home/buihuy/Intent-Detection/venv/lib/python3.7/site-packages/sklearn/multiclass.py:80: UserWarning: Label not 0 is present in all training examples.\n",
      "  \"Label %s is present in all training examples.\" % str(classes[c])\n",
      "/home/buihuy/Intent-Detection/venv/lib/python3.7/site-packages/sklearn/multiclass.py:80: UserWarning: Label not 8 is present in all training examples.\n",
      "  \"Label %s is present in all training examples.\" % str(classes[c])\n",
      "/home/buihuy/Intent-Detection/venv/lib/python3.7/site-packages/sklearn/multiclass.py:80: UserWarning: Label not 2 is present in all training examples.\n",
      "  \"Label %s is present in all training examples.\" % str(classes[c])\n",
      "/home/buihuy/Intent-Detection/venv/lib/python3.7/site-packages/sklearn/multiclass.py:80: UserWarning: Label not 0 is present in all training examples.\n",
      "  \"Label %s is present in all training examples.\" % str(classes[c])\n",
      "/home/buihuy/Intent-Detection/venv/lib/python3.7/site-packages/sklearn/multiclass.py:80: UserWarning: Label not 2 is present in all training examples.\n",
      "  \"Label %s is present in all training examples.\" % str(classes[c])\n",
      "/home/buihuy/Intent-Detection/venv/lib/python3.7/site-packages/sklearn/multiclass.py:80: UserWarning: Label not 8 is present in all training examples.\n",
      "  \"Label %s is present in all training examples.\" % str(classes[c])\n",
      "/home/buihuy/Intent-Detection/venv/lib/python3.7/site-packages/sklearn/multiclass.py:80: UserWarning: Label not 8 is present in all training examples.\n",
      "  \"Label %s is present in all training examples.\" % str(classes[c])\n",
      "/home/buihuy/Intent-Detection/venv/lib/python3.7/site-packages/sklearn/multiclass.py:80: UserWarning: Label not 0 is present in all training examples.\n",
      "  \"Label %s is present in all training examples.\" % str(classes[c])\n",
      "/home/buihuy/Intent-Detection/venv/lib/python3.7/site-packages/sklearn/multiclass.py:80: UserWarning: Label not 2 is present in all training examples.\n",
      "  \"Label %s is present in all training examples.\" % str(classes[c])\n",
      "/home/buihuy/Intent-Detection/venv/lib/python3.7/site-packages/sklearn/multiclass.py:80: UserWarning: Label not 8 is present in all training examples.\n",
      "  \"Label %s is present in all training examples.\" % str(classes[c])\n",
      "/home/buihuy/Intent-Detection/venv/lib/python3.7/site-packages/sklearn/multiclass.py:80: UserWarning: Label not 0 is present in all training examples.\n",
      "  \"Label %s is present in all training examples.\" % str(classes[c])\n",
      "/home/buihuy/Intent-Detection/venv/lib/python3.7/site-packages/sklearn/multiclass.py:80: UserWarning: Label not 2 is present in all training examples.\n",
      "  \"Label %s is present in all training examples.\" % str(classes[c])\n",
      "/home/buihuy/Intent-Detection/venv/lib/python3.7/site-packages/sklearn/multiclass.py:80: UserWarning: Label not 8 is present in all training examples.\n",
      "  \"Label %s is present in all training examples.\" % str(classes[c])\n",
      "/home/buihuy/Intent-Detection/venv/lib/python3.7/site-packages/sklearn/multiclass.py:80: UserWarning: Label not 0 is present in all training examples.\n",
      "  \"Label %s is present in all training examples.\" % str(classes[c])\n",
      "/home/buihuy/Intent-Detection/venv/lib/python3.7/site-packages/sklearn/multiclass.py:80: UserWarning: Label not 2 is present in all training examples.\n",
      "  \"Label %s is present in all training examples.\" % str(classes[c])\n",
      "/home/buihuy/Intent-Detection/venv/lib/python3.7/site-packages/sklearn/multiclass.py:80: UserWarning: Label not 8 is present in all training examples.\n",
      "  \"Label %s is present in all training examples.\" % str(classes[c])\n",
      "/home/buihuy/Intent-Detection/venv/lib/python3.7/site-packages/sklearn/multiclass.py:80: UserWarning: Label not 0 is present in all training examples.\n",
      "  \"Label %s is present in all training examples.\" % str(classes[c])\n",
      "/home/buihuy/Intent-Detection/venv/lib/python3.7/site-packages/sklearn/multiclass.py:80: UserWarning: Label not 2 is present in all training examples.\n",
      "  \"Label %s is present in all training examples.\" % str(classes[c])\n",
      "/home/buihuy/Intent-Detection/venv/lib/python3.7/site-packages/sklearn/multiclass.py:80: UserWarning: Label not 8 is present in all training examples.\n",
      "  \"Label %s is present in all training examples.\" % str(classes[c])\n",
      "/home/buihuy/Intent-Detection/venv/lib/python3.7/site-packages/sklearn/multiclass.py:80: UserWarning: Label not 0 is present in all training examples.\n",
      "  \"Label %s is present in all training examples.\" % str(classes[c])\n",
      "/home/buihuy/Intent-Detection/venv/lib/python3.7/site-packages/sklearn/multiclass.py:80: UserWarning: Label not 2 is present in all training examples.\n",
      "  \"Label %s is present in all training examples.\" % str(classes[c])\n",
      "/home/buihuy/Intent-Detection/venv/lib/python3.7/site-packages/sklearn/multiclass.py:80: UserWarning: Label not 0 is present in all training examples.\n",
      "  \"Label %s is present in all training examples.\" % str(classes[c])\n",
      "/home/buihuy/Intent-Detection/venv/lib/python3.7/site-packages/sklearn/multiclass.py:80: UserWarning: Label not 2 is present in all training examples.\n",
      "  \"Label %s is present in all training examples.\" % str(classes[c])\n",
      "/home/buihuy/Intent-Detection/venv/lib/python3.7/site-packages/sklearn/multiclass.py:80: UserWarning: Label not 8 is present in all training examples.\n",
      "  \"Label %s is present in all training examples.\" % str(classes[c])\n",
      "/home/buihuy/Intent-Detection/venv/lib/python3.7/site-packages/sklearn/multiclass.py:80: UserWarning: Label not 0 is present in all training examples.\n",
      "  \"Label %s is present in all training examples.\" % str(classes[c])\n",
      "/home/buihuy/Intent-Detection/venv/lib/python3.7/site-packages/sklearn/multiclass.py:80: UserWarning: Label not 2 is present in all training examples.\n",
      "  \"Label %s is present in all training examples.\" % str(classes[c])\n",
      "/home/buihuy/Intent-Detection/venv/lib/python3.7/site-packages/sklearn/multiclass.py:80: UserWarning: Label not 8 is present in all training examples.\n",
      "  \"Label %s is present in all training examples.\" % str(classes[c])\n",
      "/home/buihuy/Intent-Detection/venv/lib/python3.7/site-packages/sklearn/multiclass.py:80: UserWarning: Label not 2 is present in all training examples.\n",
      "  \"Label %s is present in all training examples.\" % str(classes[c])\n",
      "/home/buihuy/Intent-Detection/venv/lib/python3.7/site-packages/sklearn/multiclass.py:80: UserWarning: Label not 0 is present in all training examples.\n",
      "  \"Label %s is present in all training examples.\" % str(classes[c])\n",
      "/home/buihuy/Intent-Detection/venv/lib/python3.7/site-packages/sklearn/multiclass.py:80: UserWarning: Label not 8 is present in all training examples.\n",
      "  \"Label %s is present in all training examples.\" % str(classes[c])\n",
      "/home/buihuy/Intent-Detection/venv/lib/python3.7/site-packages/sklearn/multiclass.py:80: UserWarning: Label not 8 is present in all training examples.\n",
      "  \"Label %s is present in all training examples.\" % str(classes[c])\n",
      "/home/buihuy/Intent-Detection/venv/lib/python3.7/site-packages/sklearn/multiclass.py:80: UserWarning: Label not 0 is present in all training examples.\n",
      "  \"Label %s is present in all training examples.\" % str(classes[c])\n",
      "/home/buihuy/Intent-Detection/venv/lib/python3.7/site-packages/sklearn/multiclass.py:80: UserWarning: Label not 2 is present in all training examples.\n",
      "  \"Label %s is present in all training examples.\" % str(classes[c])\n",
      "/home/buihuy/Intent-Detection/venv/lib/python3.7/site-packages/sklearn/multiclass.py:80: UserWarning: Label not 8 is present in all training examples.\n",
      "  \"Label %s is present in all training examples.\" % str(classes[c])\n",
      "/home/buihuy/Intent-Detection/venv/lib/python3.7/site-packages/sklearn/multiclass.py:80: UserWarning: Label not 0 is present in all training examples.\n",
      "  \"Label %s is present in all training examples.\" % str(classes[c])\n",
      "/home/buihuy/Intent-Detection/venv/lib/python3.7/site-packages/sklearn/multiclass.py:80: UserWarning: Label not 2 is present in all training examples.\n",
      "  \"Label %s is present in all training examples.\" % str(classes[c])\n",
      "/home/buihuy/Intent-Detection/venv/lib/python3.7/site-packages/sklearn/multiclass.py:80: UserWarning: Label not 8 is present in all training examples.\n",
      "  \"Label %s is present in all training examples.\" % str(classes[c])\n",
      "/home/buihuy/Intent-Detection/venv/lib/python3.7/site-packages/sklearn/multiclass.py:80: UserWarning: Label not 0 is present in all training examples.\n",
      "  \"Label %s is present in all training examples.\" % str(classes[c])\n",
      "/home/buihuy/Intent-Detection/venv/lib/python3.7/site-packages/sklearn/multiclass.py:80: UserWarning: Label not 2 is present in all training examples.\n",
      "  \"Label %s is present in all training examples.\" % str(classes[c])\n",
      "/home/buihuy/Intent-Detection/venv/lib/python3.7/site-packages/sklearn/multiclass.py:80: UserWarning: Label not 8 is present in all training examples.\n",
      "  \"Label %s is present in all training examples.\" % str(classes[c])\n",
      "/home/buihuy/Intent-Detection/venv/lib/python3.7/site-packages/sklearn/multiclass.py:80: UserWarning: Label not 0 is present in all training examples.\n",
      "  \"Label %s is present in all training examples.\" % str(classes[c])\n",
      "/home/buihuy/Intent-Detection/venv/lib/python3.7/site-packages/sklearn/multiclass.py:80: UserWarning: Label not 2 is present in all training examples.\n",
      "  \"Label %s is present in all training examples.\" % str(classes[c])\n",
      "/home/buihuy/Intent-Detection/venv/lib/python3.7/site-packages/sklearn/multiclass.py:80: UserWarning: Label not 0 is present in all training examples.\n",
      "  \"Label %s is present in all training examples.\" % str(classes[c])\n",
      "/home/buihuy/Intent-Detection/venv/lib/python3.7/site-packages/sklearn/multiclass.py:80: UserWarning: Label not 0 is present in all training examples.\n",
      "  \"Label %s is present in all training examples.\" % str(classes[c])\n",
      "/home/buihuy/Intent-Detection/venv/lib/python3.7/site-packages/sklearn/multiclass.py:80: UserWarning: Label not 2 is present in all training examples.\n",
      "  \"Label %s is present in all training examples.\" % str(classes[c])\n",
      "/home/buihuy/Intent-Detection/venv/lib/python3.7/site-packages/sklearn/multiclass.py:80: UserWarning: Label not 8 is present in all training examples.\n",
      "  \"Label %s is present in all training examples.\" % str(classes[c])\n",
      "/home/buihuy/Intent-Detection/venv/lib/python3.7/site-packages/sklearn/multiclass.py:80: UserWarning: Label not 0 is present in all training examples.\n",
      "  \"Label %s is present in all training examples.\" % str(classes[c])\n",
      "/home/buihuy/Intent-Detection/venv/lib/python3.7/site-packages/sklearn/multiclass.py:80: UserWarning: Label not 2 is present in all training examples.\n",
      "  \"Label %s is present in all training examples.\" % str(classes[c])\n",
      "/home/buihuy/Intent-Detection/venv/lib/python3.7/site-packages/sklearn/multiclass.py:80: UserWarning: Label not 8 is present in all training examples.\n",
      "  \"Label %s is present in all training examples.\" % str(classes[c])\n",
      "/home/buihuy/Intent-Detection/venv/lib/python3.7/site-packages/sklearn/multiclass.py:80: UserWarning: Label not 2 is present in all training examples.\n",
      "  \"Label %s is present in all training examples.\" % str(classes[c])\n",
      "/home/buihuy/Intent-Detection/venv/lib/python3.7/site-packages/sklearn/multiclass.py:80: UserWarning: Label not 0 is present in all training examples.\n",
      "  \"Label %s is present in all training examples.\" % str(classes[c])\n",
      "/home/buihuy/Intent-Detection/venv/lib/python3.7/site-packages/sklearn/multiclass.py:80: UserWarning: Label not 8 is present in all training examples.\n",
      "  \"Label %s is present in all training examples.\" % str(classes[c])\n",
      "/home/buihuy/Intent-Detection/venv/lib/python3.7/site-packages/sklearn/multiclass.py:80: UserWarning: Label not 2 is present in all training examples.\n",
      "  \"Label %s is present in all training examples.\" % str(classes[c])\n",
      "/home/buihuy/Intent-Detection/venv/lib/python3.7/site-packages/sklearn/multiclass.py:80: UserWarning: Label not 0 is present in all training examples.\n",
      "  \"Label %s is present in all training examples.\" % str(classes[c])\n",
      "/home/buihuy/Intent-Detection/venv/lib/python3.7/site-packages/sklearn/multiclass.py:80: UserWarning: Label not 8 is present in all training examples.\n",
      "  \"Label %s is present in all training examples.\" % str(classes[c])\n",
      "/home/buihuy/Intent-Detection/venv/lib/python3.7/site-packages/sklearn/multiclass.py:80: UserWarning: Label not 0 is present in all training examples.\n",
      "  \"Label %s is present in all training examples.\" % str(classes[c])\n",
      "/home/buihuy/Intent-Detection/venv/lib/python3.7/site-packages/sklearn/multiclass.py:80: UserWarning: Label not 2 is present in all training examples.\n",
      "  \"Label %s is present in all training examples.\" % str(classes[c])\n",
      "/home/buihuy/Intent-Detection/venv/lib/python3.7/site-packages/sklearn/multiclass.py:80: UserWarning: Label not 8 is present in all training examples.\n",
      "  \"Label %s is present in all training examples.\" % str(classes[c])\n",
      "/home/buihuy/Intent-Detection/venv/lib/python3.7/site-packages/sklearn/multiclass.py:80: UserWarning: Label not 8 is present in all training examples.\n",
      "  \"Label %s is present in all training examples.\" % str(classes[c])\n",
      "/home/buihuy/Intent-Detection/venv/lib/python3.7/site-packages/sklearn/multiclass.py:80: UserWarning: Label not 2 is present in all training examples.\n",
      "  \"Label %s is present in all training examples.\" % str(classes[c])\n",
      "/home/buihuy/Intent-Detection/venv/lib/python3.7/site-packages/sklearn/multiclass.py:80: UserWarning: Label not 0 is present in all training examples.\n",
      "  \"Label %s is present in all training examples.\" % str(classes[c])\n",
      "/home/buihuy/Intent-Detection/venv/lib/python3.7/site-packages/sklearn/multiclass.py:80: UserWarning: Label not 8 is present in all training examples.\n",
      "  \"Label %s is present in all training examples.\" % str(classes[c])\n",
      "/home/buihuy/Intent-Detection/venv/lib/python3.7/site-packages/sklearn/multiclass.py:80: UserWarning: Label not 0 is present in all training examples.\n",
      "  \"Label %s is present in all training examples.\" % str(classes[c])\n",
      "/home/buihuy/Intent-Detection/venv/lib/python3.7/site-packages/sklearn/multiclass.py:80: UserWarning: Label not 2 is present in all training examples.\n",
      "  \"Label %s is present in all training examples.\" % str(classes[c])\n",
      "/home/buihuy/Intent-Detection/venv/lib/python3.7/site-packages/sklearn/multiclass.py:80: UserWarning: Label not 8 is present in all training examples.\n",
      "  \"Label %s is present in all training examples.\" % str(classes[c])\n",
      "/home/buihuy/Intent-Detection/venv/lib/python3.7/site-packages/sklearn/multiclass.py:80: UserWarning: Label not 0 is present in all training examples.\n",
      "  \"Label %s is present in all training examples.\" % str(classes[c])\n",
      "/home/buihuy/Intent-Detection/venv/lib/python3.7/site-packages/sklearn/multiclass.py:80: UserWarning: Label not 2 is present in all training examples.\n",
      "  \"Label %s is present in all training examples.\" % str(classes[c])\n",
      "/home/buihuy/Intent-Detection/venv/lib/python3.7/site-packages/sklearn/multiclass.py:80: UserWarning: Label not 0 is present in all training examples.\n",
      "  \"Label %s is present in all training examples.\" % str(classes[c])\n",
      "/home/buihuy/Intent-Detection/venv/lib/python3.7/site-packages/sklearn/multiclass.py:80: UserWarning: Label not 2 is present in all training examples.\n",
      "  \"Label %s is present in all training examples.\" % str(classes[c])\n",
      "/home/buihuy/Intent-Detection/venv/lib/python3.7/site-packages/sklearn/multiclass.py:80: UserWarning: Label not 8 is present in all training examples.\n",
      "  \"Label %s is present in all training examples.\" % str(classes[c])\n",
      "/home/buihuy/Intent-Detection/venv/lib/python3.7/site-packages/sklearn/multiclass.py:80: UserWarning: Label not 2 is present in all training examples.\n",
      "  \"Label %s is present in all training examples.\" % str(classes[c])\n",
      "/home/buihuy/Intent-Detection/venv/lib/python3.7/site-packages/sklearn/multiclass.py:80: UserWarning: Label not 0 is present in all training examples.\n",
      "  \"Label %s is present in all training examples.\" % str(classes[c])\n",
      "/home/buihuy/Intent-Detection/venv/lib/python3.7/site-packages/sklearn/multiclass.py:80: UserWarning: Label not 8 is present in all training examples.\n",
      "  \"Label %s is present in all training examples.\" % str(classes[c])\n",
      "/home/buihuy/Intent-Detection/venv/lib/python3.7/site-packages/sklearn/multiclass.py:80: UserWarning: Label not 0 is present in all training examples.\n",
      "  \"Label %s is present in all training examples.\" % str(classes[c])\n",
      "/home/buihuy/Intent-Detection/venv/lib/python3.7/site-packages/sklearn/multiclass.py:80: UserWarning: Label not 2 is present in all training examples.\n",
      "  \"Label %s is present in all training examples.\" % str(classes[c])\n",
      "/home/buihuy/Intent-Detection/venv/lib/python3.7/site-packages/sklearn/multiclass.py:80: UserWarning: Label not 8 is present in all training examples.\n",
      "  \"Label %s is present in all training examples.\" % str(classes[c])\n",
      "/home/buihuy/Intent-Detection/venv/lib/python3.7/site-packages/sklearn/multiclass.py:80: UserWarning: Label not 0 is present in all training examples.\n",
      "  \"Label %s is present in all training examples.\" % str(classes[c])\n",
      "/home/buihuy/Intent-Detection/venv/lib/python3.7/site-packages/sklearn/multiclass.py:80: UserWarning: Label not 2 is present in all training examples.\n",
      "  \"Label %s is present in all training examples.\" % str(classes[c])\n",
      "/home/buihuy/Intent-Detection/venv/lib/python3.7/site-packages/sklearn/multiclass.py:80: UserWarning: Label not 8 is present in all training examples.\n",
      "  \"Label %s is present in all training examples.\" % str(classes[c])\n",
      "/home/buihuy/Intent-Detection/venv/lib/python3.7/site-packages/sklearn/multiclass.py:80: UserWarning: Label not 8 is present in all training examples.\n",
      "  \"Label %s is present in all training examples.\" % str(classes[c])\n",
      "/home/buihuy/Intent-Detection/venv/lib/python3.7/site-packages/sklearn/multiclass.py:80: UserWarning: Label not 0 is present in all training examples.\n",
      "  \"Label %s is present in all training examples.\" % str(classes[c])\n",
      "/home/buihuy/Intent-Detection/venv/lib/python3.7/site-packages/sklearn/multiclass.py:80: UserWarning: Label not 2 is present in all training examples.\n",
      "  \"Label %s is present in all training examples.\" % str(classes[c])\n",
      "/home/buihuy/Intent-Detection/venv/lib/python3.7/site-packages/sklearn/multiclass.py:80: UserWarning: Label not 8 is present in all training examples.\n",
      "  \"Label %s is present in all training examples.\" % str(classes[c])\n",
      "/home/buihuy/Intent-Detection/venv/lib/python3.7/site-packages/sklearn/multiclass.py:80: UserWarning: Label not 0 is present in all training examples.\n",
      "  \"Label %s is present in all training examples.\" % str(classes[c])\n",
      "/home/buihuy/Intent-Detection/venv/lib/python3.7/site-packages/sklearn/multiclass.py:80: UserWarning: Label not 2 is present in all training examples.\n",
      "  \"Label %s is present in all training examples.\" % str(classes[c])\n",
      "/home/buihuy/Intent-Detection/venv/lib/python3.7/site-packages/sklearn/multiclass.py:80: UserWarning: Label not 8 is present in all training examples.\n",
      "  \"Label %s is present in all training examples.\" % str(classes[c])\n",
      "/home/buihuy/Intent-Detection/venv/lib/python3.7/site-packages/sklearn/multiclass.py:80: UserWarning: Label not 0 is present in all training examples.\n",
      "  \"Label %s is present in all training examples.\" % str(classes[c])\n",
      "/home/buihuy/Intent-Detection/venv/lib/python3.7/site-packages/sklearn/multiclass.py:80: UserWarning: Label not 2 is present in all training examples.\n",
      "  \"Label %s is present in all training examples.\" % str(classes[c])\n",
      "/home/buihuy/Intent-Detection/venv/lib/python3.7/site-packages/sklearn/multiclass.py:80: UserWarning: Label not 8 is present in all training examples.\n",
      "  \"Label %s is present in all training examples.\" % str(classes[c])\n",
      "/home/buihuy/Intent-Detection/venv/lib/python3.7/site-packages/sklearn/multiclass.py:80: UserWarning: Label not 0 is present in all training examples.\n",
      "  \"Label %s is present in all training examples.\" % str(classes[c])\n",
      "/home/buihuy/Intent-Detection/venv/lib/python3.7/site-packages/sklearn/multiclass.py:80: UserWarning: Label not 2 is present in all training examples.\n",
      "  \"Label %s is present in all training examples.\" % str(classes[c])\n",
      "/home/buihuy/Intent-Detection/venv/lib/python3.7/site-packages/sklearn/multiclass.py:80: UserWarning: Label not 8 is present in all training examples.\n",
      "  \"Label %s is present in all training examples.\" % str(classes[c])\n",
      "/home/buihuy/Intent-Detection/venv/lib/python3.7/site-packages/sklearn/multiclass.py:80: UserWarning: Label not 0 is present in all training examples.\n",
      "  \"Label %s is present in all training examples.\" % str(classes[c])\n",
      "/home/buihuy/Intent-Detection/venv/lib/python3.7/site-packages/sklearn/multiclass.py:80: UserWarning: Label not 2 is present in all training examples.\n",
      "  \"Label %s is present in all training examples.\" % str(classes[c])\n",
      "/home/buihuy/Intent-Detection/venv/lib/python3.7/site-packages/sklearn/multiclass.py:80: UserWarning: Label not 8 is present in all training examples.\n",
      "  \"Label %s is present in all training examples.\" % str(classes[c])\n",
      "/home/buihuy/Intent-Detection/venv/lib/python3.7/site-packages/sklearn/multiclass.py:80: UserWarning: Label not 0 is present in all training examples.\n",
      "  \"Label %s is present in all training examples.\" % str(classes[c])\n",
      "/home/buihuy/Intent-Detection/venv/lib/python3.7/site-packages/sklearn/multiclass.py:80: UserWarning: Label not 2 is present in all training examples.\n",
      "  \"Label %s is present in all training examples.\" % str(classes[c])\n",
      "/home/buihuy/Intent-Detection/venv/lib/python3.7/site-packages/sklearn/multiclass.py:80: UserWarning: Label not 8 is present in all training examples.\n",
      "  \"Label %s is present in all training examples.\" % str(classes[c])\n",
      "/home/buihuy/Intent-Detection/venv/lib/python3.7/site-packages/sklearn/multiclass.py:80: UserWarning: Label not 0 is present in all training examples.\n",
      "  \"Label %s is present in all training examples.\" % str(classes[c])\n",
      "/home/buihuy/Intent-Detection/venv/lib/python3.7/site-packages/sklearn/multiclass.py:80: UserWarning: Label not 2 is present in all training examples.\n",
      "  \"Label %s is present in all training examples.\" % str(classes[c])\n",
      "/home/buihuy/Intent-Detection/venv/lib/python3.7/site-packages/sklearn/multiclass.py:80: UserWarning: Label not 8 is present in all training examples.\n",
      "  \"Label %s is present in all training examples.\" % str(classes[c])\n",
      "/home/buihuy/Intent-Detection/venv/lib/python3.7/site-packages/sklearn/multiclass.py:80: UserWarning: Label not 2 is present in all training examples.\n",
      "  \"Label %s is present in all training examples.\" % str(classes[c])\n",
      "/home/buihuy/Intent-Detection/venv/lib/python3.7/site-packages/sklearn/multiclass.py:80: UserWarning: Label not 0 is present in all training examples.\n",
      "  \"Label %s is present in all training examples.\" % str(classes[c])\n",
      "/home/buihuy/Intent-Detection/venv/lib/python3.7/site-packages/sklearn/multiclass.py:80: UserWarning: Label not 8 is present in all training examples.\n",
      "  \"Label %s is present in all training examples.\" % str(classes[c])\n",
      "/home/buihuy/Intent-Detection/venv/lib/python3.7/site-packages/sklearn/multiclass.py:80: UserWarning: Label not 0 is present in all training examples.\n",
      "  \"Label %s is present in all training examples.\" % str(classes[c])\n",
      "/home/buihuy/Intent-Detection/venv/lib/python3.7/site-packages/sklearn/multiclass.py:80: UserWarning: Label not 2 is present in all training examples.\n",
      "  \"Label %s is present in all training examples.\" % str(classes[c])\n",
      "/home/buihuy/Intent-Detection/venv/lib/python3.7/site-packages/sklearn/multiclass.py:80: UserWarning: Label not 8 is present in all training examples.\n",
      "  \"Label %s is present in all training examples.\" % str(classes[c])\n",
      "/home/buihuy/Intent-Detection/venv/lib/python3.7/site-packages/sklearn/multiclass.py:80: UserWarning: Label not 0 is present in all training examples.\n",
      "  \"Label %s is present in all training examples.\" % str(classes[c])\n",
      "/home/buihuy/Intent-Detection/venv/lib/python3.7/site-packages/sklearn/multiclass.py:80: UserWarning: Label not 2 is present in all training examples.\n",
      "  \"Label %s is present in all training examples.\" % str(classes[c])\n",
      "/home/buihuy/Intent-Detection/venv/lib/python3.7/site-packages/sklearn/multiclass.py:80: UserWarning: Label not 8 is present in all training examples.\n",
      "  \"Label %s is present in all training examples.\" % str(classes[c])\n",
      "/home/buihuy/Intent-Detection/venv/lib/python3.7/site-packages/sklearn/multiclass.py:80: UserWarning: Label not 0 is present in all training examples.\n",
      "  \"Label %s is present in all training examples.\" % str(classes[c])\n",
      "/home/buihuy/Intent-Detection/venv/lib/python3.7/site-packages/sklearn/multiclass.py:80: UserWarning: Label not 2 is present in all training examples.\n",
      "  \"Label %s is present in all training examples.\" % str(classes[c])\n",
      "/home/buihuy/Intent-Detection/venv/lib/python3.7/site-packages/sklearn/multiclass.py:80: UserWarning: Label not 8 is present in all training examples.\n",
      "  \"Label %s is present in all training examples.\" % str(classes[c])\n",
      "/home/buihuy/Intent-Detection/venv/lib/python3.7/site-packages/sklearn/multiclass.py:80: UserWarning: Label not 2 is present in all training examples.\n",
      "  \"Label %s is present in all training examples.\" % str(classes[c])\n",
      "/home/buihuy/Intent-Detection/venv/lib/python3.7/site-packages/sklearn/multiclass.py:80: UserWarning: Label not 0 is present in all training examples.\n",
      "  \"Label %s is present in all training examples.\" % str(classes[c])\n",
      "/home/buihuy/Intent-Detection/venv/lib/python3.7/site-packages/sklearn/multiclass.py:80: UserWarning: Label not 0 is present in all training examples.\n",
      "  \"Label %s is present in all training examples.\" % str(classes[c])\n",
      "/home/buihuy/Intent-Detection/venv/lib/python3.7/site-packages/sklearn/multiclass.py:80: UserWarning: Label not 2 is present in all training examples.\n",
      "  \"Label %s is present in all training examples.\" % str(classes[c])\n",
      "/home/buihuy/Intent-Detection/venv/lib/python3.7/site-packages/sklearn/multiclass.py:80: UserWarning: Label not 0 is present in all training examples.\n",
      "  \"Label %s is present in all training examples.\" % str(classes[c])\n",
      "/home/buihuy/Intent-Detection/venv/lib/python3.7/site-packages/sklearn/multiclass.py:80: UserWarning: Label not 8 is present in all training examples.\n",
      "  \"Label %s is present in all training examples.\" % str(classes[c])\n",
      "/home/buihuy/Intent-Detection/venv/lib/python3.7/site-packages/sklearn/multiclass.py:80: UserWarning: Label not 0 is present in all training examples.\n",
      "  \"Label %s is present in all training examples.\" % str(classes[c])\n",
      "/home/buihuy/Intent-Detection/venv/lib/python3.7/site-packages/sklearn/multiclass.py:80: UserWarning: Label not 2 is present in all training examples.\n",
      "  \"Label %s is present in all training examples.\" % str(classes[c])\n",
      "/home/buihuy/Intent-Detection/venv/lib/python3.7/site-packages/sklearn/multiclass.py:80: UserWarning: Label not 8 is present in all training examples.\n",
      "  \"Label %s is present in all training examples.\" % str(classes[c])\n",
      "/home/buihuy/Intent-Detection/venv/lib/python3.7/site-packages/sklearn/multiclass.py:80: UserWarning: Label not 2 is present in all training examples.\n",
      "  \"Label %s is present in all training examples.\" % str(classes[c])\n",
      "/home/buihuy/Intent-Detection/venv/lib/python3.7/site-packages/sklearn/multiclass.py:80: UserWarning: Label not 0 is present in all training examples.\n",
      "  \"Label %s is present in all training examples.\" % str(classes[c])\n",
      "/home/buihuy/Intent-Detection/venv/lib/python3.7/site-packages/sklearn/multiclass.py:80: UserWarning: Label not 8 is present in all training examples.\n",
      "  \"Label %s is present in all training examples.\" % str(classes[c])\n",
      "/home/buihuy/Intent-Detection/venv/lib/python3.7/site-packages/sklearn/multiclass.py:80: UserWarning: Label not 0 is present in all training examples.\n",
      "  \"Label %s is present in all training examples.\" % str(classes[c])\n",
      "/home/buihuy/Intent-Detection/venv/lib/python3.7/site-packages/sklearn/multiclass.py:80: UserWarning: Label not 2 is present in all training examples.\n",
      "  \"Label %s is present in all training examples.\" % str(classes[c])\n",
      "/home/buihuy/Intent-Detection/venv/lib/python3.7/site-packages/sklearn/multiclass.py:80: UserWarning: Label not 8 is present in all training examples.\n",
      "  \"Label %s is present in all training examples.\" % str(classes[c])\n",
      "/home/buihuy/Intent-Detection/venv/lib/python3.7/site-packages/sklearn/multiclass.py:80: UserWarning: Label not 0 is present in all training examples.\n",
      "  \"Label %s is present in all training examples.\" % str(classes[c])\n",
      "/home/buihuy/Intent-Detection/venv/lib/python3.7/site-packages/sklearn/multiclass.py:80: UserWarning: Label not 2 is present in all training examples.\n",
      "  \"Label %s is present in all training examples.\" % str(classes[c])\n",
      "/home/buihuy/Intent-Detection/venv/lib/python3.7/site-packages/sklearn/multiclass.py:80: UserWarning: Label not 8 is present in all training examples.\n",
      "  \"Label %s is present in all training examples.\" % str(classes[c])\n",
      "/home/buihuy/Intent-Detection/venv/lib/python3.7/site-packages/sklearn/multiclass.py:80: UserWarning: Label not 0 is present in all training examples.\n",
      "  \"Label %s is present in all training examples.\" % str(classes[c])\n",
      "/home/buihuy/Intent-Detection/venv/lib/python3.7/site-packages/sklearn/multiclass.py:80: UserWarning: Label not 2 is present in all training examples.\n",
      "  \"Label %s is present in all training examples.\" % str(classes[c])\n",
      "/home/buihuy/Intent-Detection/venv/lib/python3.7/site-packages/sklearn/multiclass.py:80: UserWarning: Label not 8 is present in all training examples.\n",
      "  \"Label %s is present in all training examples.\" % str(classes[c])\n",
      "/home/buihuy/Intent-Detection/venv/lib/python3.7/site-packages/sklearn/multiclass.py:80: UserWarning: Label not 0 is present in all training examples.\n",
      "  \"Label %s is present in all training examples.\" % str(classes[c])\n",
      "/home/buihuy/Intent-Detection/venv/lib/python3.7/site-packages/sklearn/multiclass.py:80: UserWarning: Label not 2 is present in all training examples.\n",
      "  \"Label %s is present in all training examples.\" % str(classes[c])\n",
      "/home/buihuy/Intent-Detection/venv/lib/python3.7/site-packages/sklearn/multiclass.py:80: UserWarning: Label not 8 is present in all training examples.\n",
      "  \"Label %s is present in all training examples.\" % str(classes[c])\n",
      "/home/buihuy/Intent-Detection/venv/lib/python3.7/site-packages/sklearn/multiclass.py:80: UserWarning: Label not 2 is present in all training examples.\n",
      "  \"Label %s is present in all training examples.\" % str(classes[c])\n",
      "/home/buihuy/Intent-Detection/venv/lib/python3.7/site-packages/sklearn/multiclass.py:80: UserWarning: Label not 0 is present in all training examples.\n",
      "  \"Label %s is present in all training examples.\" % str(classes[c])\n",
      "/home/buihuy/Intent-Detection/venv/lib/python3.7/site-packages/sklearn/multiclass.py:80: UserWarning: Label not 8 is present in all training examples.\n",
      "  \"Label %s is present in all training examples.\" % str(classes[c])\n",
      "/home/buihuy/Intent-Detection/venv/lib/python3.7/site-packages/sklearn/multiclass.py:80: UserWarning: Label not 0 is present in all training examples.\n",
      "  \"Label %s is present in all training examples.\" % str(classes[c])\n",
      "/home/buihuy/Intent-Detection/venv/lib/python3.7/site-packages/sklearn/multiclass.py:80: UserWarning: Label not 2 is present in all training examples.\n",
      "  \"Label %s is present in all training examples.\" % str(classes[c])\n",
      "/home/buihuy/Intent-Detection/venv/lib/python3.7/site-packages/sklearn/multiclass.py:80: UserWarning: Label not 8 is present in all training examples.\n",
      "  \"Label %s is present in all training examples.\" % str(classes[c])\n",
      "/home/buihuy/Intent-Detection/venv/lib/python3.7/site-packages/sklearn/multiclass.py:80: UserWarning: Label not 0 is present in all training examples.\n",
      "  \"Label %s is present in all training examples.\" % str(classes[c])\n",
      "/home/buihuy/Intent-Detection/venv/lib/python3.7/site-packages/sklearn/multiclass.py:80: UserWarning: Label not 2 is present in all training examples.\n",
      "  \"Label %s is present in all training examples.\" % str(classes[c])\n",
      "/home/buihuy/Intent-Detection/venv/lib/python3.7/site-packages/sklearn/multiclass.py:80: UserWarning: Label not 8 is present in all training examples.\n",
      "  \"Label %s is present in all training examples.\" % str(classes[c])\n",
      "/home/buihuy/Intent-Detection/venv/lib/python3.7/site-packages/sklearn/multiclass.py:80: UserWarning: Label not 0 is present in all training examples.\n",
      "  \"Label %s is present in all training examples.\" % str(classes[c])\n",
      "/home/buihuy/Intent-Detection/venv/lib/python3.7/site-packages/sklearn/multiclass.py:80: UserWarning: Label not 2 is present in all training examples.\n",
      "  \"Label %s is present in all training examples.\" % str(classes[c])\n",
      "/home/buihuy/Intent-Detection/venv/lib/python3.7/site-packages/sklearn/multiclass.py:80: UserWarning: Label not 8 is present in all training examples.\n",
      "  \"Label %s is present in all training examples.\" % str(classes[c])\n",
      "/home/buihuy/Intent-Detection/venv/lib/python3.7/site-packages/sklearn/multiclass.py:80: UserWarning: Label not 0 is present in all training examples.\n",
      "  \"Label %s is present in all training examples.\" % str(classes[c])\n",
      "/home/buihuy/Intent-Detection/venv/lib/python3.7/site-packages/sklearn/multiclass.py:80: UserWarning: Label not 2 is present in all training examples.\n",
      "  \"Label %s is present in all training examples.\" % str(classes[c])\n",
      "/home/buihuy/Intent-Detection/venv/lib/python3.7/site-packages/sklearn/multiclass.py:80: UserWarning: Label not 0 is present in all training examples.\n",
      "  \"Label %s is present in all training examples.\" % str(classes[c])\n",
      "/home/buihuy/Intent-Detection/venv/lib/python3.7/site-packages/sklearn/multiclass.py:80: UserWarning: Label not 2 is present in all training examples.\n",
      "  \"Label %s is present in all training examples.\" % str(classes[c])\n",
      "/home/buihuy/Intent-Detection/venv/lib/python3.7/site-packages/sklearn/multiclass.py:80: UserWarning: Label not 0 is present in all training examples.\n",
      "  \"Label %s is present in all training examples.\" % str(classes[c])\n",
      "/home/buihuy/Intent-Detection/venv/lib/python3.7/site-packages/sklearn/multiclass.py:80: UserWarning: Label not 2 is present in all training examples.\n",
      "  \"Label %s is present in all training examples.\" % str(classes[c])\n",
      "/home/buihuy/Intent-Detection/venv/lib/python3.7/site-packages/sklearn/multiclass.py:80: UserWarning: Label not 2 is present in all training examples.\n",
      "  \"Label %s is present in all training examples.\" % str(classes[c])\n",
      "/home/buihuy/Intent-Detection/venv/lib/python3.7/site-packages/sklearn/multiclass.py:80: UserWarning: Label not 0 is present in all training examples.\n",
      "  \"Label %s is present in all training examples.\" % str(classes[c])\n",
      "/home/buihuy/Intent-Detection/venv/lib/python3.7/site-packages/sklearn/multiclass.py:80: UserWarning: Label not 8 is present in all training examples.\n",
      "  \"Label %s is present in all training examples.\" % str(classes[c])\n",
      "/home/buihuy/Intent-Detection/venv/lib/python3.7/site-packages/sklearn/multiclass.py:80: UserWarning: Label not 0 is present in all training examples.\n",
      "  \"Label %s is present in all training examples.\" % str(classes[c])\n",
      "/home/buihuy/Intent-Detection/venv/lib/python3.7/site-packages/sklearn/multiclass.py:80: UserWarning: Label not 2 is present in all training examples.\n",
      "  \"Label %s is present in all training examples.\" % str(classes[c])\n",
      "/home/buihuy/Intent-Detection/venv/lib/python3.7/site-packages/sklearn/multiclass.py:80: UserWarning: Label not 8 is present in all training examples.\n",
      "  \"Label %s is present in all training examples.\" % str(classes[c])\n",
      "/home/buihuy/Intent-Detection/venv/lib/python3.7/site-packages/sklearn/multiclass.py:80: UserWarning: Label not 8 is present in all training examples.\n",
      "  \"Label %s is present in all training examples.\" % str(classes[c])\n",
      "/home/buihuy/Intent-Detection/venv/lib/python3.7/site-packages/sklearn/multiclass.py:80: UserWarning: Label not 2 is present in all training examples.\n",
      "  \"Label %s is present in all training examples.\" % str(classes[c])\n",
      "/home/buihuy/Intent-Detection/venv/lib/python3.7/site-packages/sklearn/multiclass.py:80: UserWarning: Label not 0 is present in all training examples.\n",
      "  \"Label %s is present in all training examples.\" % str(classes[c])\n",
      "/home/buihuy/Intent-Detection/venv/lib/python3.7/site-packages/sklearn/multiclass.py:80: UserWarning: Label not 8 is present in all training examples.\n",
      "  \"Label %s is present in all training examples.\" % str(classes[c])\n",
      "/home/buihuy/Intent-Detection/venv/lib/python3.7/site-packages/sklearn/multiclass.py:80: UserWarning: Label not 0 is present in all training examples.\n",
      "  \"Label %s is present in all training examples.\" % str(classes[c])\n",
      "/home/buihuy/Intent-Detection/venv/lib/python3.7/site-packages/sklearn/multiclass.py:80: UserWarning: Label not 2 is present in all training examples.\n",
      "  \"Label %s is present in all training examples.\" % str(classes[c])\n",
      "/home/buihuy/Intent-Detection/venv/lib/python3.7/site-packages/sklearn/multiclass.py:80: UserWarning: Label not 2 is present in all training examples.\n",
      "  \"Label %s is present in all training examples.\" % str(classes[c])\n",
      "/home/buihuy/Intent-Detection/venv/lib/python3.7/site-packages/sklearn/multiclass.py:80: UserWarning: Label not 0 is present in all training examples.\n",
      "  \"Label %s is present in all training examples.\" % str(classes[c])\n",
      "/home/buihuy/Intent-Detection/venv/lib/python3.7/site-packages/sklearn/multiclass.py:80: UserWarning: Label not 8 is present in all training examples.\n",
      "  \"Label %s is present in all training examples.\" % str(classes[c])\n",
      "/home/buihuy/Intent-Detection/venv/lib/python3.7/site-packages/sklearn/multiclass.py:80: UserWarning: Label not 0 is present in all training examples.\n",
      "  \"Label %s is present in all training examples.\" % str(classes[c])\n",
      "/home/buihuy/Intent-Detection/venv/lib/python3.7/site-packages/sklearn/multiclass.py:80: UserWarning: Label not 2 is present in all training examples.\n",
      "  \"Label %s is present in all training examples.\" % str(classes[c])\n",
      "/home/buihuy/Intent-Detection/venv/lib/python3.7/site-packages/sklearn/multiclass.py:80: UserWarning: Label not 8 is present in all training examples.\n",
      "  \"Label %s is present in all training examples.\" % str(classes[c])\n",
      "/home/buihuy/Intent-Detection/venv/lib/python3.7/site-packages/sklearn/multiclass.py:80: UserWarning: Label not 8 is present in all training examples.\n",
      "  \"Label %s is present in all training examples.\" % str(classes[c])\n",
      "/home/buihuy/Intent-Detection/venv/lib/python3.7/site-packages/sklearn/multiclass.py:80: UserWarning: Label not 0 is present in all training examples.\n",
      "  \"Label %s is present in all training examples.\" % str(classes[c])\n",
      "/home/buihuy/Intent-Detection/venv/lib/python3.7/site-packages/sklearn/multiclass.py:80: UserWarning: Label not 2 is present in all training examples.\n",
      "  \"Label %s is present in all training examples.\" % str(classes[c])\n",
      "/home/buihuy/Intent-Detection/venv/lib/python3.7/site-packages/sklearn/multiclass.py:80: UserWarning: Label not 8 is present in all training examples.\n",
      "  \"Label %s is present in all training examples.\" % str(classes[c])\n",
      "/home/buihuy/Intent-Detection/venv/lib/python3.7/site-packages/sklearn/multiclass.py:80: UserWarning: Label not 8 is present in all training examples.\n",
      "  \"Label %s is present in all training examples.\" % str(classes[c])\n",
      "/home/buihuy/Intent-Detection/venv/lib/python3.7/site-packages/sklearn/multiclass.py:80: UserWarning: Label not 0 is present in all training examples.\n",
      "  \"Label %s is present in all training examples.\" % str(classes[c])\n",
      "/home/buihuy/Intent-Detection/venv/lib/python3.7/site-packages/sklearn/multiclass.py:80: UserWarning: Label not 2 is present in all training examples.\n",
      "  \"Label %s is present in all training examples.\" % str(classes[c])\n",
      "/home/buihuy/Intent-Detection/venv/lib/python3.7/site-packages/sklearn/multiclass.py:80: UserWarning: Label not 8 is present in all training examples.\n",
      "  \"Label %s is present in all training examples.\" % str(classes[c])\n",
      "/home/buihuy/Intent-Detection/venv/lib/python3.7/site-packages/sklearn/multiclass.py:80: UserWarning: Label not 0 is present in all training examples.\n",
      "  \"Label %s is present in all training examples.\" % str(classes[c])\n",
      "/home/buihuy/Intent-Detection/venv/lib/python3.7/site-packages/sklearn/multiclass.py:80: UserWarning: Label not 2 is present in all training examples.\n",
      "  \"Label %s is present in all training examples.\" % str(classes[c])\n",
      "/home/buihuy/Intent-Detection/venv/lib/python3.7/site-packages/sklearn/multiclass.py:80: UserWarning: Label not 8 is present in all training examples.\n",
      "  \"Label %s is present in all training examples.\" % str(classes[c])\n",
      "/home/buihuy/Intent-Detection/venv/lib/python3.7/site-packages/sklearn/multiclass.py:80: UserWarning: Label not 0 is present in all training examples.\n",
      "  \"Label %s is present in all training examples.\" % str(classes[c])\n",
      "/home/buihuy/Intent-Detection/venv/lib/python3.7/site-packages/sklearn/multiclass.py:80: UserWarning: Label not 2 is present in all training examples.\n",
      "  \"Label %s is present in all training examples.\" % str(classes[c])\n",
      "/home/buihuy/Intent-Detection/venv/lib/python3.7/site-packages/sklearn/multiclass.py:80: UserWarning: Label not 8 is present in all training examples.\n",
      "  \"Label %s is present in all training examples.\" % str(classes[c])\n",
      "/home/buihuy/Intent-Detection/venv/lib/python3.7/site-packages/sklearn/multiclass.py:80: UserWarning: Label not 8 is present in all training examples.\n",
      "  \"Label %s is present in all training examples.\" % str(classes[c])\n",
      "/home/buihuy/Intent-Detection/venv/lib/python3.7/site-packages/sklearn/multiclass.py:80: UserWarning: Label not 8 is present in all training examples.\n",
      "  \"Label %s is present in all training examples.\" % str(classes[c])\n",
      "/home/buihuy/Intent-Detection/venv/lib/python3.7/site-packages/sklearn/multiclass.py:80: UserWarning: Label not 2 is present in all training examples.\n",
      "  \"Label %s is present in all training examples.\" % str(classes[c])\n",
      "/home/buihuy/Intent-Detection/venv/lib/python3.7/site-packages/sklearn/multiclass.py:80: UserWarning: Label not 0 is present in all training examples.\n",
      "  \"Label %s is present in all training examples.\" % str(classes[c])\n",
      "/home/buihuy/Intent-Detection/venv/lib/python3.7/site-packages/sklearn/multiclass.py:80: UserWarning: Label not 0 is present in all training examples.\n",
      "  \"Label %s is present in all training examples.\" % str(classes[c])\n",
      "/home/buihuy/Intent-Detection/venv/lib/python3.7/site-packages/sklearn/multiclass.py:80: UserWarning: Label not 2 is present in all training examples.\n",
      "  \"Label %s is present in all training examples.\" % str(classes[c])\n",
      "/home/buihuy/Intent-Detection/venv/lib/python3.7/site-packages/sklearn/multiclass.py:80: UserWarning: Label not 2 is present in all training examples.\n",
      "  \"Label %s is present in all training examples.\" % str(classes[c])\n",
      "/home/buihuy/Intent-Detection/venv/lib/python3.7/site-packages/sklearn/multiclass.py:80: UserWarning: Label not 8 is present in all training examples.\n",
      "  \"Label %s is present in all training examples.\" % str(classes[c])\n",
      "/home/buihuy/Intent-Detection/venv/lib/python3.7/site-packages/sklearn/multiclass.py:80: UserWarning: Label not 0 is present in all training examples.\n",
      "  \"Label %s is present in all training examples.\" % str(classes[c])\n",
      "/home/buihuy/Intent-Detection/venv/lib/python3.7/site-packages/sklearn/multiclass.py:80: UserWarning: Label not 2 is present in all training examples.\n",
      "  \"Label %s is present in all training examples.\" % str(classes[c])\n",
      "/home/buihuy/Intent-Detection/venv/lib/python3.7/site-packages/sklearn/multiclass.py:80: UserWarning: Label not 8 is present in all training examples.\n",
      "  \"Label %s is present in all training examples.\" % str(classes[c])\n",
      "/home/buihuy/Intent-Detection/venv/lib/python3.7/site-packages/sklearn/multiclass.py:80: UserWarning: Label not 0 is present in all training examples.\n",
      "  \"Label %s is present in all training examples.\" % str(classes[c])\n",
      "/home/buihuy/Intent-Detection/venv/lib/python3.7/site-packages/sklearn/multiclass.py:80: UserWarning: Label not 2 is present in all training examples.\n",
      "  \"Label %s is present in all training examples.\" % str(classes[c])\n",
      "/home/buihuy/Intent-Detection/venv/lib/python3.7/site-packages/sklearn/multiclass.py:80: UserWarning: Label not 0 is present in all training examples.\n",
      "  \"Label %s is present in all training examples.\" % str(classes[c])\n",
      "/home/buihuy/Intent-Detection/venv/lib/python3.7/site-packages/sklearn/multiclass.py:80: UserWarning: Label not 2 is present in all training examples.\n",
      "  \"Label %s is present in all training examples.\" % str(classes[c])\n",
      "/home/buihuy/Intent-Detection/venv/lib/python3.7/site-packages/sklearn/multiclass.py:80: UserWarning: Label not 8 is present in all training examples.\n",
      "  \"Label %s is present in all training examples.\" % str(classes[c])\n",
      "/home/buihuy/Intent-Detection/venv/lib/python3.7/site-packages/sklearn/multiclass.py:80: UserWarning: Label not 2 is present in all training examples.\n",
      "  \"Label %s is present in all training examples.\" % str(classes[c])\n",
      "/home/buihuy/Intent-Detection/venv/lib/python3.7/site-packages/sklearn/multiclass.py:80: UserWarning: Label not 0 is present in all training examples.\n",
      "  \"Label %s is present in all training examples.\" % str(classes[c])\n",
      "/home/buihuy/Intent-Detection/venv/lib/python3.7/site-packages/sklearn/multiclass.py:80: UserWarning: Label not 8 is present in all training examples.\n",
      "  \"Label %s is present in all training examples.\" % str(classes[c])\n",
      "/home/buihuy/Intent-Detection/venv/lib/python3.7/site-packages/sklearn/multiclass.py:80: UserWarning: Label not 8 is present in all training examples.\n",
      "  \"Label %s is present in all training examples.\" % str(classes[c])\n",
      "/home/buihuy/Intent-Detection/venv/lib/python3.7/site-packages/sklearn/multiclass.py:80: UserWarning: Label not 0 is present in all training examples.\n",
      "  \"Label %s is present in all training examples.\" % str(classes[c])\n",
      "/home/buihuy/Intent-Detection/venv/lib/python3.7/site-packages/sklearn/multiclass.py:80: UserWarning: Label not 2 is present in all training examples.\n",
      "  \"Label %s is present in all training examples.\" % str(classes[c])\n",
      "/home/buihuy/Intent-Detection/venv/lib/python3.7/site-packages/sklearn/multiclass.py:80: UserWarning: Label not 8 is present in all training examples.\n",
      "  \"Label %s is present in all training examples.\" % str(classes[c])\n",
      "/home/buihuy/Intent-Detection/venv/lib/python3.7/site-packages/sklearn/multiclass.py:80: UserWarning: Label not 0 is present in all training examples.\n",
      "  \"Label %s is present in all training examples.\" % str(classes[c])\n",
      "/home/buihuy/Intent-Detection/venv/lib/python3.7/site-packages/sklearn/multiclass.py:80: UserWarning: Label not 2 is present in all training examples.\n",
      "  \"Label %s is present in all training examples.\" % str(classes[c])\n",
      "/home/buihuy/Intent-Detection/venv/lib/python3.7/site-packages/sklearn/multiclass.py:80: UserWarning: Label not 0 is present in all training examples.\n",
      "  \"Label %s is present in all training examples.\" % str(classes[c])\n",
      "/home/buihuy/Intent-Detection/venv/lib/python3.7/site-packages/sklearn/multiclass.py:80: UserWarning: Label not 2 is present in all training examples.\n",
      "  \"Label %s is present in all training examples.\" % str(classes[c])\n",
      "/home/buihuy/Intent-Detection/venv/lib/python3.7/site-packages/sklearn/multiclass.py:80: UserWarning: Label not 2 is present in all training examples.\n",
      "  \"Label %s is present in all training examples.\" % str(classes[c])\n",
      "/home/buihuy/Intent-Detection/venv/lib/python3.7/site-packages/sklearn/multiclass.py:80: UserWarning: Label not 0 is present in all training examples.\n",
      "  \"Label %s is present in all training examples.\" % str(classes[c])\n",
      "/home/buihuy/Intent-Detection/venv/lib/python3.7/site-packages/sklearn/multiclass.py:80: UserWarning: Label not 8 is present in all training examples.\n",
      "  \"Label %s is present in all training examples.\" % str(classes[c])\n",
      "/home/buihuy/Intent-Detection/venv/lib/python3.7/site-packages/sklearn/multiclass.py:80: UserWarning: Label not 2 is present in all training examples.\n",
      "  \"Label %s is present in all training examples.\" % str(classes[c])\n",
      "/home/buihuy/Intent-Detection/venv/lib/python3.7/site-packages/sklearn/multiclass.py:80: UserWarning: Label not 0 is present in all training examples.\n",
      "  \"Label %s is present in all training examples.\" % str(classes[c])\n",
      "/home/buihuy/Intent-Detection/venv/lib/python3.7/site-packages/sklearn/multiclass.py:80: UserWarning: Label not 8 is present in all training examples.\n",
      "  \"Label %s is present in all training examples.\" % str(classes[c])\n",
      "/home/buihuy/Intent-Detection/venv/lib/python3.7/site-packages/sklearn/multiclass.py:80: UserWarning: Label not 0 is present in all training examples.\n",
      "  \"Label %s is present in all training examples.\" % str(classes[c])\n",
      "/home/buihuy/Intent-Detection/venv/lib/python3.7/site-packages/sklearn/multiclass.py:80: UserWarning: Label not 2 is present in all training examples.\n",
      "  \"Label %s is present in all training examples.\" % str(classes[c])\n",
      "/home/buihuy/Intent-Detection/venv/lib/python3.7/site-packages/sklearn/multiclass.py:80: UserWarning: Label not 8 is present in all training examples.\n",
      "  \"Label %s is present in all training examples.\" % str(classes[c])\n",
      "/home/buihuy/Intent-Detection/venv/lib/python3.7/site-packages/sklearn/multiclass.py:80: UserWarning: Label not 0 is present in all training examples.\n",
      "  \"Label %s is present in all training examples.\" % str(classes[c])\n",
      "/home/buihuy/Intent-Detection/venv/lib/python3.7/site-packages/sklearn/multiclass.py:80: UserWarning: Label not 2 is present in all training examples.\n",
      "  \"Label %s is present in all training examples.\" % str(classes[c])\n",
      "/home/buihuy/Intent-Detection/venv/lib/python3.7/site-packages/sklearn/multiclass.py:80: UserWarning: Label not 8 is present in all training examples.\n",
      "  \"Label %s is present in all training examples.\" % str(classes[c])\n",
      "/home/buihuy/Intent-Detection/venv/lib/python3.7/site-packages/sklearn/multiclass.py:80: UserWarning: Label not 8 is present in all training examples.\n",
      "  \"Label %s is present in all training examples.\" % str(classes[c])\n",
      "/home/buihuy/Intent-Detection/venv/lib/python3.7/site-packages/sklearn/multiclass.py:80: UserWarning: Label not 0 is present in all training examples.\n",
      "  \"Label %s is present in all training examples.\" % str(classes[c])\n",
      "/home/buihuy/Intent-Detection/venv/lib/python3.7/site-packages/sklearn/multiclass.py:80: UserWarning: Label not 2 is present in all training examples.\n",
      "  \"Label %s is present in all training examples.\" % str(classes[c])\n",
      "/home/buihuy/Intent-Detection/venv/lib/python3.7/site-packages/sklearn/multiclass.py:80: UserWarning: Label not 8 is present in all training examples.\n",
      "  \"Label %s is present in all training examples.\" % str(classes[c])\n",
      "/home/buihuy/Intent-Detection/venv/lib/python3.7/site-packages/sklearn/multiclass.py:80: UserWarning: Label not 0 is present in all training examples.\n",
      "  \"Label %s is present in all training examples.\" % str(classes[c])\n",
      "/home/buihuy/Intent-Detection/venv/lib/python3.7/site-packages/sklearn/multiclass.py:80: UserWarning: Label not 8 is present in all training examples.\n",
      "  \"Label %s is present in all training examples.\" % str(classes[c])\n",
      "/home/buihuy/Intent-Detection/venv/lib/python3.7/site-packages/sklearn/multiclass.py:80: UserWarning: Label not 8 is present in all training examples.\n",
      "  \"Label %s is present in all training examples.\" % str(classes[c])\n",
      "/home/buihuy/Intent-Detection/venv/lib/python3.7/site-packages/sklearn/multiclass.py:80: UserWarning: Label not 8 is present in all training examples.\n",
      "  \"Label %s is present in all training examples.\" % str(classes[c])\n",
      "/home/buihuy/Intent-Detection/venv/lib/python3.7/site-packages/sklearn/multiclass.py:80: UserWarning: Label not 0 is present in all training examples.\n",
      "  \"Label %s is present in all training examples.\" % str(classes[c])\n",
      "/home/buihuy/Intent-Detection/venv/lib/python3.7/site-packages/sklearn/multiclass.py:80: UserWarning: Label not 2 is present in all training examples.\n",
      "  \"Label %s is present in all training examples.\" % str(classes[c])\n",
      "/home/buihuy/Intent-Detection/venv/lib/python3.7/site-packages/sklearn/multiclass.py:80: UserWarning: Label not 8 is present in all training examples.\n",
      "  \"Label %s is present in all training examples.\" % str(classes[c])\n",
      "/home/buihuy/Intent-Detection/venv/lib/python3.7/site-packages/sklearn/multiclass.py:80: UserWarning: Label not 0 is present in all training examples.\n",
      "  \"Label %s is present in all training examples.\" % str(classes[c])\n",
      "/home/buihuy/Intent-Detection/venv/lib/python3.7/site-packages/sklearn/multiclass.py:80: UserWarning: Label not 2 is present in all training examples.\n",
      "  \"Label %s is present in all training examples.\" % str(classes[c])\n",
      "/home/buihuy/Intent-Detection/venv/lib/python3.7/site-packages/sklearn/multiclass.py:80: UserWarning: Label not 8 is present in all training examples.\n",
      "  \"Label %s is present in all training examples.\" % str(classes[c])\n",
      "/home/buihuy/Intent-Detection/venv/lib/python3.7/site-packages/sklearn/multiclass.py:80: UserWarning: Label not 8 is present in all training examples.\n",
      "  \"Label %s is present in all training examples.\" % str(classes[c])\n",
      "/home/buihuy/Intent-Detection/venv/lib/python3.7/site-packages/sklearn/multiclass.py:80: UserWarning: Label not 8 is present in all training examples.\n",
      "  \"Label %s is present in all training examples.\" % str(classes[c])\n",
      "/home/buihuy/Intent-Detection/venv/lib/python3.7/site-packages/sklearn/multiclass.py:80: UserWarning: Label not 0 is present in all training examples.\n",
      "  \"Label %s is present in all training examples.\" % str(classes[c])\n",
      "/home/buihuy/Intent-Detection/venv/lib/python3.7/site-packages/sklearn/multiclass.py:80: UserWarning: Label not 2 is present in all training examples.\n",
      "  \"Label %s is present in all training examples.\" % str(classes[c])\n",
      "/home/buihuy/Intent-Detection/venv/lib/python3.7/site-packages/sklearn/multiclass.py:80: UserWarning: Label not 0 is present in all training examples.\n",
      "  \"Label %s is present in all training examples.\" % str(classes[c])\n",
      "/home/buihuy/Intent-Detection/venv/lib/python3.7/site-packages/sklearn/multiclass.py:80: UserWarning: Label not 2 is present in all training examples.\n",
      "  \"Label %s is present in all training examples.\" % str(classes[c])\n",
      "/home/buihuy/Intent-Detection/venv/lib/python3.7/site-packages/sklearn/multiclass.py:80: UserWarning: Label not 0 is present in all training examples.\n",
      "  \"Label %s is present in all training examples.\" % str(classes[c])\n",
      "/home/buihuy/Intent-Detection/venv/lib/python3.7/site-packages/sklearn/multiclass.py:80: UserWarning: Label not 2 is present in all training examples.\n",
      "  \"Label %s is present in all training examples.\" % str(classes[c])\n",
      "/home/buihuy/Intent-Detection/venv/lib/python3.7/site-packages/sklearn/multiclass.py:80: UserWarning: Label not 0 is present in all training examples.\n",
      "  \"Label %s is present in all training examples.\" % str(classes[c])\n",
      "/home/buihuy/Intent-Detection/venv/lib/python3.7/site-packages/sklearn/multiclass.py:80: UserWarning: Label not 2 is present in all training examples.\n",
      "  \"Label %s is present in all training examples.\" % str(classes[c])\n",
      "/home/buihuy/Intent-Detection/venv/lib/python3.7/site-packages/sklearn/multiclass.py:80: UserWarning: Label not 8 is present in all training examples.\n",
      "  \"Label %s is present in all training examples.\" % str(classes[c])\n",
      "/home/buihuy/Intent-Detection/venv/lib/python3.7/site-packages/sklearn/multiclass.py:80: UserWarning: Label not 8 is present in all training examples.\n",
      "  \"Label %s is present in all training examples.\" % str(classes[c])\n",
      "/home/buihuy/Intent-Detection/venv/lib/python3.7/site-packages/sklearn/multiclass.py:80: UserWarning: Label not 0 is present in all training examples.\n",
      "  \"Label %s is present in all training examples.\" % str(classes[c])\n",
      "/home/buihuy/Intent-Detection/venv/lib/python3.7/site-packages/sklearn/multiclass.py:80: UserWarning: Label not 2 is present in all training examples.\n",
      "  \"Label %s is present in all training examples.\" % str(classes[c])\n",
      "/home/buihuy/Intent-Detection/venv/lib/python3.7/site-packages/sklearn/multiclass.py:80: UserWarning: Label not 8 is present in all training examples.\n",
      "  \"Label %s is present in all training examples.\" % str(classes[c])\n",
      "/home/buihuy/Intent-Detection/venv/lib/python3.7/site-packages/sklearn/multiclass.py:80: UserWarning: Label not 0 is present in all training examples.\n",
      "  \"Label %s is present in all training examples.\" % str(classes[c])\n",
      "/home/buihuy/Intent-Detection/venv/lib/python3.7/site-packages/sklearn/multiclass.py:80: UserWarning: Label not 2 is present in all training examples.\n",
      "  \"Label %s is present in all training examples.\" % str(classes[c])\n",
      "/home/buihuy/Intent-Detection/venv/lib/python3.7/site-packages/sklearn/multiclass.py:80: UserWarning: Label not 8 is present in all training examples.\n",
      "  \"Label %s is present in all training examples.\" % str(classes[c])\n",
      "/home/buihuy/Intent-Detection/venv/lib/python3.7/site-packages/sklearn/multiclass.py:80: UserWarning: Label not 2 is present in all training examples.\n",
      "  \"Label %s is present in all training examples.\" % str(classes[c])\n",
      "/home/buihuy/Intent-Detection/venv/lib/python3.7/site-packages/sklearn/multiclass.py:80: UserWarning: Label not 0 is present in all training examples.\n",
      "  \"Label %s is present in all training examples.\" % str(classes[c])\n",
      "/home/buihuy/Intent-Detection/venv/lib/python3.7/site-packages/sklearn/multiclass.py:80: UserWarning: Label not 8 is present in all training examples.\n",
      "  \"Label %s is present in all training examples.\" % str(classes[c])\n",
      "/home/buihuy/Intent-Detection/venv/lib/python3.7/site-packages/sklearn/multiclass.py:80: UserWarning: Label not 0 is present in all training examples.\n",
      "  \"Label %s is present in all training examples.\" % str(classes[c])\n",
      "/home/buihuy/Intent-Detection/venv/lib/python3.7/site-packages/sklearn/multiclass.py:80: UserWarning: Label not 2 is present in all training examples.\n",
      "  \"Label %s is present in all training examples.\" % str(classes[c])\n",
      "/home/buihuy/Intent-Detection/venv/lib/python3.7/site-packages/sklearn/multiclass.py:80: UserWarning: Label not 8 is present in all training examples.\n",
      "  \"Label %s is present in all training examples.\" % str(classes[c])\n",
      "/home/buihuy/Intent-Detection/venv/lib/python3.7/site-packages/sklearn/multiclass.py:80: UserWarning: Label not 0 is present in all training examples.\n",
      "  \"Label %s is present in all training examples.\" % str(classes[c])\n",
      "/home/buihuy/Intent-Detection/venv/lib/python3.7/site-packages/sklearn/multiclass.py:80: UserWarning: Label not 2 is present in all training examples.\n",
      "  \"Label %s is present in all training examples.\" % str(classes[c])\n",
      "/home/buihuy/Intent-Detection/venv/lib/python3.7/site-packages/sklearn/multiclass.py:80: UserWarning: Label not 8 is present in all training examples.\n",
      "  \"Label %s is present in all training examples.\" % str(classes[c])\n",
      "/home/buihuy/Intent-Detection/venv/lib/python3.7/site-packages/sklearn/multiclass.py:80: UserWarning: Label not 8 is present in all training examples.\n",
      "  \"Label %s is present in all training examples.\" % str(classes[c])\n",
      "/home/buihuy/Intent-Detection/venv/lib/python3.7/site-packages/sklearn/multiclass.py:80: UserWarning: Label not 2 is present in all training examples.\n",
      "  \"Label %s is present in all training examples.\" % str(classes[c])\n",
      "/home/buihuy/Intent-Detection/venv/lib/python3.7/site-packages/sklearn/multiclass.py:80: UserWarning: Label not 8 is present in all training examples.\n",
      "  \"Label %s is present in all training examples.\" % str(classes[c])\n",
      "/home/buihuy/Intent-Detection/venv/lib/python3.7/site-packages/sklearn/multiclass.py:80: UserWarning: Label not 0 is present in all training examples.\n",
      "  \"Label %s is present in all training examples.\" % str(classes[c])\n",
      "/home/buihuy/Intent-Detection/venv/lib/python3.7/site-packages/sklearn/multiclass.py:80: UserWarning: Label not 2 is present in all training examples.\n",
      "  \"Label %s is present in all training examples.\" % str(classes[c])\n",
      "/home/buihuy/Intent-Detection/venv/lib/python3.7/site-packages/sklearn/multiclass.py:80: UserWarning: Label not 8 is present in all training examples.\n",
      "  \"Label %s is present in all training examples.\" % str(classes[c])\n",
      "/home/buihuy/Intent-Detection/venv/lib/python3.7/site-packages/sklearn/multiclass.py:80: UserWarning: Label not 2 is present in all training examples.\n",
      "  \"Label %s is present in all training examples.\" % str(classes[c])\n",
      "/home/buihuy/Intent-Detection/venv/lib/python3.7/site-packages/sklearn/multiclass.py:80: UserWarning: Label not 0 is present in all training examples.\n",
      "  \"Label %s is present in all training examples.\" % str(classes[c])\n",
      "/home/buihuy/Intent-Detection/venv/lib/python3.7/site-packages/sklearn/multiclass.py:80: UserWarning: Label not 8 is present in all training examples.\n",
      "  \"Label %s is present in all training examples.\" % str(classes[c])\n",
      "/home/buihuy/Intent-Detection/venv/lib/python3.7/site-packages/sklearn/multiclass.py:80: UserWarning: Label not 8 is present in all training examples.\n",
      "  \"Label %s is present in all training examples.\" % str(classes[c])\n",
      "/home/buihuy/Intent-Detection/venv/lib/python3.7/site-packages/sklearn/multiclass.py:80: UserWarning: Label not 0 is present in all training examples.\n",
      "  \"Label %s is present in all training examples.\" % str(classes[c])\n",
      "/home/buihuy/Intent-Detection/venv/lib/python3.7/site-packages/sklearn/multiclass.py:80: UserWarning: Label not 2 is present in all training examples.\n",
      "  \"Label %s is present in all training examples.\" % str(classes[c])\n",
      "/home/buihuy/Intent-Detection/venv/lib/python3.7/site-packages/sklearn/multiclass.py:80: UserWarning: Label not 0 is present in all training examples.\n",
      "  \"Label %s is present in all training examples.\" % str(classes[c])\n",
      "/home/buihuy/Intent-Detection/venv/lib/python3.7/site-packages/sklearn/multiclass.py:80: UserWarning: Label not 2 is present in all training examples.\n",
      "  \"Label %s is present in all training examples.\" % str(classes[c])\n",
      "/home/buihuy/Intent-Detection/venv/lib/python3.7/site-packages/sklearn/multiclass.py:80: UserWarning: Label not 8 is present in all training examples.\n",
      "  \"Label %s is present in all training examples.\" % str(classes[c])\n",
      "/home/buihuy/Intent-Detection/venv/lib/python3.7/site-packages/sklearn/multiclass.py:80: UserWarning: Label not 0 is present in all training examples.\n",
      "  \"Label %s is present in all training examples.\" % str(classes[c])\n",
      "/home/buihuy/Intent-Detection/venv/lib/python3.7/site-packages/sklearn/multiclass.py:80: UserWarning: Label not 2 is present in all training examples.\n",
      "  \"Label %s is present in all training examples.\" % str(classes[c])\n",
      "/home/buihuy/Intent-Detection/venv/lib/python3.7/site-packages/sklearn/multiclass.py:80: UserWarning: Label not 8 is present in all training examples.\n",
      "  \"Label %s is present in all training examples.\" % str(classes[c])\n",
      "/home/buihuy/Intent-Detection/venv/lib/python3.7/site-packages/sklearn/multiclass.py:80: UserWarning: Label not 8 is present in all training examples.\n",
      "  \"Label %s is present in all training examples.\" % str(classes[c])\n",
      "/home/buihuy/Intent-Detection/venv/lib/python3.7/site-packages/sklearn/multiclass.py:80: UserWarning: Label not 8 is present in all training examples.\n",
      "  \"Label %s is present in all training examples.\" % str(classes[c])\n",
      "/home/buihuy/Intent-Detection/venv/lib/python3.7/site-packages/sklearn/multiclass.py:80: UserWarning: Label not 8 is present in all training examples.\n",
      "  \"Label %s is present in all training examples.\" % str(classes[c])\n",
      "/home/buihuy/Intent-Detection/venv/lib/python3.7/site-packages/sklearn/multiclass.py:80: UserWarning: Label not 0 is present in all training examples.\n",
      "  \"Label %s is present in all training examples.\" % str(classes[c])\n",
      "/home/buihuy/Intent-Detection/venv/lib/python3.7/site-packages/sklearn/multiclass.py:80: UserWarning: Label not 2 is present in all training examples.\n",
      "  \"Label %s is present in all training examples.\" % str(classes[c])\n",
      "/home/buihuy/Intent-Detection/venv/lib/python3.7/site-packages/sklearn/multiclass.py:80: UserWarning: Label not 8 is present in all training examples.\n",
      "  \"Label %s is present in all training examples.\" % str(classes[c])\n",
      "/home/buihuy/Intent-Detection/venv/lib/python3.7/site-packages/sklearn/multiclass.py:80: UserWarning: Label not 0 is present in all training examples.\n",
      "  \"Label %s is present in all training examples.\" % str(classes[c])\n",
      "/home/buihuy/Intent-Detection/venv/lib/python3.7/site-packages/sklearn/multiclass.py:80: UserWarning: Label not 2 is present in all training examples.\n",
      "  \"Label %s is present in all training examples.\" % str(classes[c])\n",
      "/home/buihuy/Intent-Detection/venv/lib/python3.7/site-packages/sklearn/multiclass.py:80: UserWarning: Label not 0 is present in all training examples.\n",
      "  \"Label %s is present in all training examples.\" % str(classes[c])\n",
      "/home/buihuy/Intent-Detection/venv/lib/python3.7/site-packages/sklearn/multiclass.py:80: UserWarning: Label not 2 is present in all training examples.\n",
      "  \"Label %s is present in all training examples.\" % str(classes[c])\n",
      "/home/buihuy/Intent-Detection/venv/lib/python3.7/site-packages/sklearn/multiclass.py:80: UserWarning: Label not 8 is present in all training examples.\n",
      "  \"Label %s is present in all training examples.\" % str(classes[c])\n",
      "/home/buihuy/Intent-Detection/venv/lib/python3.7/site-packages/sklearn/multiclass.py:80: UserWarning: Label not 2 is present in all training examples.\n",
      "  \"Label %s is present in all training examples.\" % str(classes[c])\n",
      "/home/buihuy/Intent-Detection/venv/lib/python3.7/site-packages/sklearn/multiclass.py:80: UserWarning: Label not 0 is present in all training examples.\n",
      "  \"Label %s is present in all training examples.\" % str(classes[c])\n",
      "/home/buihuy/Intent-Detection/venv/lib/python3.7/site-packages/sklearn/multiclass.py:80: UserWarning: Label not 0 is present in all training examples.\n",
      "  \"Label %s is present in all training examples.\" % str(classes[c])\n",
      "/home/buihuy/Intent-Detection/venv/lib/python3.7/site-packages/sklearn/multiclass.py:80: UserWarning: Label not 2 is present in all training examples.\n",
      "  \"Label %s is present in all training examples.\" % str(classes[c])\n",
      "/home/buihuy/Intent-Detection/venv/lib/python3.7/site-packages/sklearn/multiclass.py:80: UserWarning: Label not 8 is present in all training examples.\n",
      "  \"Label %s is present in all training examples.\" % str(classes[c])\n",
      "/home/buihuy/Intent-Detection/venv/lib/python3.7/site-packages/sklearn/multiclass.py:80: UserWarning: Label not 0 is present in all training examples.\n",
      "  \"Label %s is present in all training examples.\" % str(classes[c])\n",
      "/home/buihuy/Intent-Detection/venv/lib/python3.7/site-packages/sklearn/multiclass.py:80: UserWarning: Label not 2 is present in all training examples.\n",
      "  \"Label %s is present in all training examples.\" % str(classes[c])\n",
      "/home/buihuy/Intent-Detection/venv/lib/python3.7/site-packages/sklearn/multiclass.py:80: UserWarning: Label not 8 is present in all training examples.\n",
      "  \"Label %s is present in all training examples.\" % str(classes[c])\n",
      "/home/buihuy/Intent-Detection/venv/lib/python3.7/site-packages/sklearn/multiclass.py:80: UserWarning: Label not 0 is present in all training examples.\n",
      "  \"Label %s is present in all training examples.\" % str(classes[c])\n",
      "/home/buihuy/Intent-Detection/venv/lib/python3.7/site-packages/sklearn/multiclass.py:80: UserWarning: Label not 2 is present in all training examples.\n",
      "  \"Label %s is present in all training examples.\" % str(classes[c])\n",
      "/home/buihuy/Intent-Detection/venv/lib/python3.7/site-packages/sklearn/multiclass.py:80: UserWarning: Label not 8 is present in all training examples.\n",
      "  \"Label %s is present in all training examples.\" % str(classes[c])\n",
      "/home/buihuy/Intent-Detection/venv/lib/python3.7/site-packages/sklearn/multiclass.py:80: UserWarning: Label not 2 is present in all training examples.\n",
      "  \"Label %s is present in all training examples.\" % str(classes[c])\n",
      "/home/buihuy/Intent-Detection/venv/lib/python3.7/site-packages/sklearn/multiclass.py:80: UserWarning: Label not 8 is present in all training examples.\n",
      "  \"Label %s is present in all training examples.\" % str(classes[c])\n",
      "/home/buihuy/Intent-Detection/venv/lib/python3.7/site-packages/sklearn/multiclass.py:80: UserWarning: Label not 0 is present in all training examples.\n",
      "  \"Label %s is present in all training examples.\" % str(classes[c])\n",
      "/home/buihuy/Intent-Detection/venv/lib/python3.7/site-packages/sklearn/multiclass.py:80: UserWarning: Label not 2 is present in all training examples.\n",
      "  \"Label %s is present in all training examples.\" % str(classes[c])\n",
      "/home/buihuy/Intent-Detection/venv/lib/python3.7/site-packages/sklearn/multiclass.py:80: UserWarning: Label not 0 is present in all training examples.\n",
      "  \"Label %s is present in all training examples.\" % str(classes[c])\n",
      "/home/buihuy/Intent-Detection/venv/lib/python3.7/site-packages/sklearn/multiclass.py:80: UserWarning: Label not 2 is present in all training examples.\n",
      "  \"Label %s is present in all training examples.\" % str(classes[c])\n",
      "/home/buihuy/Intent-Detection/venv/lib/python3.7/site-packages/sklearn/multiclass.py:80: UserWarning: Label not 8 is present in all training examples.\n",
      "  \"Label %s is present in all training examples.\" % str(classes[c])\n",
      "/home/buihuy/Intent-Detection/venv/lib/python3.7/site-packages/sklearn/multiclass.py:80: UserWarning: Label not 8 is present in all training examples.\n",
      "  \"Label %s is present in all training examples.\" % str(classes[c])\n",
      "/home/buihuy/Intent-Detection/venv/lib/python3.7/site-packages/sklearn/multiclass.py:80: UserWarning: Label not 0 is present in all training examples.\n",
      "  \"Label %s is present in all training examples.\" % str(classes[c])\n",
      "/home/buihuy/Intent-Detection/venv/lib/python3.7/site-packages/sklearn/multiclass.py:80: UserWarning: Label not 2 is present in all training examples.\n",
      "  \"Label %s is present in all training examples.\" % str(classes[c])\n",
      "/home/buihuy/Intent-Detection/venv/lib/python3.7/site-packages/sklearn/multiclass.py:80: UserWarning: Label not 0 is present in all training examples.\n",
      "  \"Label %s is present in all training examples.\" % str(classes[c])\n",
      "/home/buihuy/Intent-Detection/venv/lib/python3.7/site-packages/sklearn/multiclass.py:80: UserWarning: Label not 2 is present in all training examples.\n",
      "  \"Label %s is present in all training examples.\" % str(classes[c])\n",
      "/home/buihuy/Intent-Detection/venv/lib/python3.7/site-packages/sklearn/multiclass.py:80: UserWarning: Label not 2 is present in all training examples.\n",
      "  \"Label %s is present in all training examples.\" % str(classes[c])\n",
      "/home/buihuy/Intent-Detection/venv/lib/python3.7/site-packages/sklearn/multiclass.py:80: UserWarning: Label not 0 is present in all training examples.\n",
      "  \"Label %s is present in all training examples.\" % str(classes[c])\n",
      "/home/buihuy/Intent-Detection/venv/lib/python3.7/site-packages/sklearn/multiclass.py:80: UserWarning: Label not 8 is present in all training examples.\n",
      "  \"Label %s is present in all training examples.\" % str(classes[c])\n",
      "/home/buihuy/Intent-Detection/venv/lib/python3.7/site-packages/sklearn/multiclass.py:80: UserWarning: Label not 8 is present in all training examples.\n",
      "  \"Label %s is present in all training examples.\" % str(classes[c])\n",
      "/home/buihuy/Intent-Detection/venv/lib/python3.7/site-packages/sklearn/multiclass.py:80: UserWarning: Label not 0 is present in all training examples.\n",
      "  \"Label %s is present in all training examples.\" % str(classes[c])\n",
      "/home/buihuy/Intent-Detection/venv/lib/python3.7/site-packages/sklearn/multiclass.py:80: UserWarning: Label not 2 is present in all training examples.\n",
      "  \"Label %s is present in all training examples.\" % str(classes[c])\n",
      "/home/buihuy/Intent-Detection/venv/lib/python3.7/site-packages/sklearn/multiclass.py:80: UserWarning: Label not 8 is present in all training examples.\n",
      "  \"Label %s is present in all training examples.\" % str(classes[c])\n",
      "/home/buihuy/Intent-Detection/venv/lib/python3.7/site-packages/sklearn/multiclass.py:80: UserWarning: Label not 0 is present in all training examples.\n",
      "  \"Label %s is present in all training examples.\" % str(classes[c])\n",
      "/home/buihuy/Intent-Detection/venv/lib/python3.7/site-packages/sklearn/multiclass.py:80: UserWarning: Label not 2 is present in all training examples.\n",
      "  \"Label %s is present in all training examples.\" % str(classes[c])\n",
      "/home/buihuy/Intent-Detection/venv/lib/python3.7/site-packages/sklearn/multiclass.py:80: UserWarning: Label not 8 is present in all training examples.\n",
      "  \"Label %s is present in all training examples.\" % str(classes[c])\n",
      "/home/buihuy/Intent-Detection/venv/lib/python3.7/site-packages/sklearn/multiclass.py:80: UserWarning: Label not 2 is present in all training examples.\n",
      "  \"Label %s is present in all training examples.\" % str(classes[c])\n",
      "/home/buihuy/Intent-Detection/venv/lib/python3.7/site-packages/sklearn/multiclass.py:80: UserWarning: Label not 0 is present in all training examples.\n",
      "  \"Label %s is present in all training examples.\" % str(classes[c])\n",
      "/home/buihuy/Intent-Detection/venv/lib/python3.7/site-packages/sklearn/multiclass.py:80: UserWarning: Label not 8 is present in all training examples.\n",
      "  \"Label %s is present in all training examples.\" % str(classes[c])\n",
      "/home/buihuy/Intent-Detection/venv/lib/python3.7/site-packages/sklearn/multiclass.py:80: UserWarning: Label not 0 is present in all training examples.\n",
      "  \"Label %s is present in all training examples.\" % str(classes[c])\n",
      "/home/buihuy/Intent-Detection/venv/lib/python3.7/site-packages/sklearn/multiclass.py:80: UserWarning: Label not 2 is present in all training examples.\n",
      "  \"Label %s is present in all training examples.\" % str(classes[c])\n",
      "/home/buihuy/Intent-Detection/venv/lib/python3.7/site-packages/sklearn/multiclass.py:80: UserWarning: Label not 8 is present in all training examples.\n",
      "  \"Label %s is present in all training examples.\" % str(classes[c])\n",
      "/home/buihuy/Intent-Detection/venv/lib/python3.7/site-packages/sklearn/multiclass.py:80: UserWarning: Label not 8 is present in all training examples.\n",
      "  \"Label %s is present in all training examples.\" % str(classes[c])\n",
      "/home/buihuy/Intent-Detection/venv/lib/python3.7/site-packages/sklearn/multiclass.py:80: UserWarning: Label not 0 is present in all training examples.\n",
      "  \"Label %s is present in all training examples.\" % str(classes[c])\n",
      "/home/buihuy/Intent-Detection/venv/lib/python3.7/site-packages/sklearn/multiclass.py:80: UserWarning: Label not 2 is present in all training examples.\n",
      "  \"Label %s is present in all training examples.\" % str(classes[c])\n",
      "/home/buihuy/Intent-Detection/venv/lib/python3.7/site-packages/sklearn/multiclass.py:80: UserWarning: Label not 8 is present in all training examples.\n",
      "  \"Label %s is present in all training examples.\" % str(classes[c])\n",
      "/home/buihuy/Intent-Detection/venv/lib/python3.7/site-packages/sklearn/multiclass.py:80: UserWarning: Label not 8 is present in all training examples.\n",
      "  \"Label %s is present in all training examples.\" % str(classes[c])\n",
      "/home/buihuy/Intent-Detection/venv/lib/python3.7/site-packages/sklearn/multiclass.py:80: UserWarning: Label not 0 is present in all training examples.\n",
      "  \"Label %s is present in all training examples.\" % str(classes[c])\n",
      "/home/buihuy/Intent-Detection/venv/lib/python3.7/site-packages/sklearn/multiclass.py:80: UserWarning: Label not 2 is present in all training examples.\n",
      "  \"Label %s is present in all training examples.\" % str(classes[c])\n",
      "/home/buihuy/Intent-Detection/venv/lib/python3.7/site-packages/sklearn/multiclass.py:80: UserWarning: Label not 8 is present in all training examples.\n",
      "  \"Label %s is present in all training examples.\" % str(classes[c])\n",
      "/home/buihuy/Intent-Detection/venv/lib/python3.7/site-packages/sklearn/multiclass.py:80: UserWarning: Label not 2 is present in all training examples.\n",
      "  \"Label %s is present in all training examples.\" % str(classes[c])\n",
      "/home/buihuy/Intent-Detection/venv/lib/python3.7/site-packages/sklearn/multiclass.py:80: UserWarning: Label not 0 is present in all training examples.\n",
      "  \"Label %s is present in all training examples.\" % str(classes[c])\n",
      "/home/buihuy/Intent-Detection/venv/lib/python3.7/site-packages/sklearn/multiclass.py:80: UserWarning: Label not 0 is present in all training examples.\n",
      "  \"Label %s is present in all training examples.\" % str(classes[c])\n",
      "/home/buihuy/Intent-Detection/venv/lib/python3.7/site-packages/sklearn/multiclass.py:80: UserWarning: Label not 2 is present in all training examples.\n",
      "  \"Label %s is present in all training examples.\" % str(classes[c])\n",
      "/home/buihuy/Intent-Detection/venv/lib/python3.7/site-packages/sklearn/multiclass.py:80: UserWarning: Label not 8 is present in all training examples.\n",
      "  \"Label %s is present in all training examples.\" % str(classes[c])\n",
      "/home/buihuy/Intent-Detection/venv/lib/python3.7/site-packages/sklearn/multiclass.py:80: UserWarning: Label not 0 is present in all training examples.\n",
      "  \"Label %s is present in all training examples.\" % str(classes[c])\n",
      "/home/buihuy/Intent-Detection/venv/lib/python3.7/site-packages/sklearn/multiclass.py:80: UserWarning: Label not 2 is present in all training examples.\n",
      "  \"Label %s is present in all training examples.\" % str(classes[c])\n",
      "/home/buihuy/Intent-Detection/venv/lib/python3.7/site-packages/sklearn/multiclass.py:80: UserWarning: Label not 0 is present in all training examples.\n",
      "  \"Label %s is present in all training examples.\" % str(classes[c])\n",
      "/home/buihuy/Intent-Detection/venv/lib/python3.7/site-packages/sklearn/multiclass.py:80: UserWarning: Label not 2 is present in all training examples.\n",
      "  \"Label %s is present in all training examples.\" % str(classes[c])\n",
      "/home/buihuy/Intent-Detection/venv/lib/python3.7/site-packages/sklearn/multiclass.py:80: UserWarning: Label not 8 is present in all training examples.\n",
      "  \"Label %s is present in all training examples.\" % str(classes[c])\n",
      "/home/buihuy/Intent-Detection/venv/lib/python3.7/site-packages/sklearn/multiclass.py:80: UserWarning: Label not 8 is present in all training examples.\n",
      "  \"Label %s is present in all training examples.\" % str(classes[c])\n",
      "/home/buihuy/Intent-Detection/venv/lib/python3.7/site-packages/sklearn/multiclass.py:80: UserWarning: Label not 0 is present in all training examples.\n",
      "  \"Label %s is present in all training examples.\" % str(classes[c])\n",
      "/home/buihuy/Intent-Detection/venv/lib/python3.7/site-packages/sklearn/multiclass.py:80: UserWarning: Label not 2 is present in all training examples.\n",
      "  \"Label %s is present in all training examples.\" % str(classes[c])\n",
      "/home/buihuy/Intent-Detection/venv/lib/python3.7/site-packages/sklearn/multiclass.py:80: UserWarning: Label not 8 is present in all training examples.\n",
      "  \"Label %s is present in all training examples.\" % str(classes[c])\n",
      "/home/buihuy/Intent-Detection/venv/lib/python3.7/site-packages/sklearn/multiclass.py:80: UserWarning: Label not 0 is present in all training examples.\n",
      "  \"Label %s is present in all training examples.\" % str(classes[c])\n",
      "/home/buihuy/Intent-Detection/venv/lib/python3.7/site-packages/sklearn/multiclass.py:80: UserWarning: Label not 2 is present in all training examples.\n",
      "  \"Label %s is present in all training examples.\" % str(classes[c])\n",
      "/home/buihuy/Intent-Detection/venv/lib/python3.7/site-packages/sklearn/multiclass.py:80: UserWarning: Label not 0 is present in all training examples.\n",
      "  \"Label %s is present in all training examples.\" % str(classes[c])\n",
      "/home/buihuy/Intent-Detection/venv/lib/python3.7/site-packages/sklearn/multiclass.py:80: UserWarning: Label not 2 is present in all training examples.\n",
      "  \"Label %s is present in all training examples.\" % str(classes[c])\n",
      "/home/buihuy/Intent-Detection/venv/lib/python3.7/site-packages/sklearn/multiclass.py:80: UserWarning: Label not 0 is present in all training examples.\n",
      "  \"Label %s is present in all training examples.\" % str(classes[c])\n",
      "/home/buihuy/Intent-Detection/venv/lib/python3.7/site-packages/sklearn/multiclass.py:80: UserWarning: Label not 2 is present in all training examples.\n",
      "  \"Label %s is present in all training examples.\" % str(classes[c])\n",
      "/home/buihuy/Intent-Detection/venv/lib/python3.7/site-packages/sklearn/multiclass.py:80: UserWarning: Label not 8 is present in all training examples.\n",
      "  \"Label %s is present in all training examples.\" % str(classes[c])\n",
      "/home/buihuy/Intent-Detection/venv/lib/python3.7/site-packages/sklearn/multiclass.py:80: UserWarning: Label not 0 is present in all training examples.\n",
      "  \"Label %s is present in all training examples.\" % str(classes[c])\n",
      "/home/buihuy/Intent-Detection/venv/lib/python3.7/site-packages/sklearn/multiclass.py:80: UserWarning: Label not 2 is present in all training examples.\n",
      "  \"Label %s is present in all training examples.\" % str(classes[c])\n",
      "/home/buihuy/Intent-Detection/venv/lib/python3.7/site-packages/sklearn/multiclass.py:80: UserWarning: Label not 8 is present in all training examples.\n",
      "  \"Label %s is present in all training examples.\" % str(classes[c])\n",
      "/home/buihuy/Intent-Detection/venv/lib/python3.7/site-packages/sklearn/multiclass.py:80: UserWarning: Label not 0 is present in all training examples.\n",
      "  \"Label %s is present in all training examples.\" % str(classes[c])\n",
      "/home/buihuy/Intent-Detection/venv/lib/python3.7/site-packages/sklearn/multiclass.py:80: UserWarning: Label not 2 is present in all training examples.\n",
      "  \"Label %s is present in all training examples.\" % str(classes[c])\n",
      "/home/buihuy/Intent-Detection/venv/lib/python3.7/site-packages/sklearn/multiclass.py:80: UserWarning: Label not 8 is present in all training examples.\n",
      "  \"Label %s is present in all training examples.\" % str(classes[c])\n",
      "/home/buihuy/Intent-Detection/venv/lib/python3.7/site-packages/sklearn/multiclass.py:80: UserWarning: Label not 0 is present in all training examples.\n",
      "  \"Label %s is present in all training examples.\" % str(classes[c])\n",
      "/home/buihuy/Intent-Detection/venv/lib/python3.7/site-packages/sklearn/multiclass.py:80: UserWarning: Label not 2 is present in all training examples.\n",
      "  \"Label %s is present in all training examples.\" % str(classes[c])\n",
      "/home/buihuy/Intent-Detection/venv/lib/python3.7/site-packages/sklearn/multiclass.py:80: UserWarning: Label not 8 is present in all training examples.\n",
      "  \"Label %s is present in all training examples.\" % str(classes[c])\n",
      "/home/buihuy/Intent-Detection/venv/lib/python3.7/site-packages/sklearn/multiclass.py:80: UserWarning: Label not 0 is present in all training examples.\n",
      "  \"Label %s is present in all training examples.\" % str(classes[c])\n",
      "/home/buihuy/Intent-Detection/venv/lib/python3.7/site-packages/sklearn/multiclass.py:80: UserWarning: Label not 2 is present in all training examples.\n",
      "  \"Label %s is present in all training examples.\" % str(classes[c])\n",
      "/home/buihuy/Intent-Detection/venv/lib/python3.7/site-packages/sklearn/multiclass.py:80: UserWarning: Label not 0 is present in all training examples.\n",
      "  \"Label %s is present in all training examples.\" % str(classes[c])\n",
      "/home/buihuy/Intent-Detection/venv/lib/python3.7/site-packages/sklearn/multiclass.py:80: UserWarning: Label not 2 is present in all training examples.\n",
      "  \"Label %s is present in all training examples.\" % str(classes[c])\n",
      "/home/buihuy/Intent-Detection/venv/lib/python3.7/site-packages/sklearn/multiclass.py:80: UserWarning: Label not 8 is present in all training examples.\n",
      "  \"Label %s is present in all training examples.\" % str(classes[c])\n",
      "/home/buihuy/Intent-Detection/venv/lib/python3.7/site-packages/sklearn/multiclass.py:80: UserWarning: Label not 8 is present in all training examples.\n",
      "  \"Label %s is present in all training examples.\" % str(classes[c])\n",
      "/home/buihuy/Intent-Detection/venv/lib/python3.7/site-packages/sklearn/multiclass.py:80: UserWarning: Label not 2 is present in all training examples.\n",
      "  \"Label %s is present in all training examples.\" % str(classes[c])\n",
      "/home/buihuy/Intent-Detection/venv/lib/python3.7/site-packages/sklearn/multiclass.py:80: UserWarning: Label not 0 is present in all training examples.\n",
      "  \"Label %s is present in all training examples.\" % str(classes[c])\n",
      "/home/buihuy/Intent-Detection/venv/lib/python3.7/site-packages/sklearn/multiclass.py:80: UserWarning: Label not 0 is present in all training examples.\n",
      "  \"Label %s is present in all training examples.\" % str(classes[c])\n",
      "/home/buihuy/Intent-Detection/venv/lib/python3.7/site-packages/sklearn/multiclass.py:80: UserWarning: Label not 2 is present in all training examples.\n",
      "  \"Label %s is present in all training examples.\" % str(classes[c])\n",
      "/home/buihuy/Intent-Detection/venv/lib/python3.7/site-packages/joblib/externals/loky/process_executor.py:705: UserWarning: A worker stopped while some jobs were given to the executor. This can be caused by a too short worker timeout or by a memory leak.\n",
      "  \"timeout or by a memory leak.\", UserWarning\n",
      "/home/buihuy/Intent-Detection/venv/lib/python3.7/site-packages/sklearn/multiclass.py:80: UserWarning: Label not 0 is present in all training examples.\n",
      "  \"Label %s is present in all training examples.\" % str(classes[c])\n",
      "/home/buihuy/Intent-Detection/venv/lib/python3.7/site-packages/sklearn/multiclass.py:80: UserWarning: Label not 0 is present in all training examples.\n",
      "  \"Label %s is present in all training examples.\" % str(classes[c])\n",
      "/home/buihuy/Intent-Detection/venv/lib/python3.7/site-packages/sklearn/multiclass.py:80: UserWarning: Label not 2 is present in all training examples.\n",
      "  \"Label %s is present in all training examples.\" % str(classes[c])\n",
      "/home/buihuy/Intent-Detection/venv/lib/python3.7/site-packages/sklearn/multiclass.py:80: UserWarning: Label not 8 is present in all training examples.\n",
      "  \"Label %s is present in all training examples.\" % str(classes[c])\n",
      "/home/buihuy/Intent-Detection/venv/lib/python3.7/site-packages/sklearn/multiclass.py:80: UserWarning: Label not 0 is present in all training examples.\n",
      "  \"Label %s is present in all training examples.\" % str(classes[c])\n",
      "/home/buihuy/Intent-Detection/venv/lib/python3.7/site-packages/sklearn/multiclass.py:80: UserWarning: Label not 2 is present in all training examples.\n",
      "  \"Label %s is present in all training examples.\" % str(classes[c])\n",
      "/home/buihuy/Intent-Detection/venv/lib/python3.7/site-packages/sklearn/multiclass.py:80: UserWarning: Label not 8 is present in all training examples.\n",
      "  \"Label %s is present in all training examples.\" % str(classes[c])\n",
      "/home/buihuy/Intent-Detection/venv/lib/python3.7/site-packages/sklearn/multiclass.py:80: UserWarning: Label not 0 is present in all training examples.\n",
      "  \"Label %s is present in all training examples.\" % str(classes[c])\n",
      "/home/buihuy/Intent-Detection/venv/lib/python3.7/site-packages/sklearn/multiclass.py:80: UserWarning: Label not 2 is present in all training examples.\n",
      "  \"Label %s is present in all training examples.\" % str(classes[c])\n",
      "/home/buihuy/Intent-Detection/venv/lib/python3.7/site-packages/sklearn/multiclass.py:80: UserWarning: Label not 8 is present in all training examples.\n",
      "  \"Label %s is present in all training examples.\" % str(classes[c])\n",
      "/home/buihuy/Intent-Detection/venv/lib/python3.7/site-packages/sklearn/multiclass.py:80: UserWarning: Label not 8 is present in all training examples.\n",
      "  \"Label %s is present in all training examples.\" % str(classes[c])\n",
      "/home/buihuy/Intent-Detection/venv/lib/python3.7/site-packages/sklearn/multiclass.py:80: UserWarning: Label not 8 is present in all training examples.\n",
      "  \"Label %s is present in all training examples.\" % str(classes[c])\n",
      "/home/buihuy/Intent-Detection/venv/lib/python3.7/site-packages/sklearn/multiclass.py:80: UserWarning: Label not 8 is present in all training examples.\n",
      "  \"Label %s is present in all training examples.\" % str(classes[c])\n"
     ]
    },
    {
     "data": {
      "application/vnd.jupyter.widget-view+json": {
       "model_id": "64beb7a1fa40445296e22e0b123b28fa",
       "version_major": 2,
       "version_minor": 0
      },
      "text/plain": [
       "Batches:   0%|          | 0/29 [00:00<?, ?it/s]"
      ]
     },
     "metadata": {},
     "output_type": "display_data"
    },
    {
     "name": "stderr",
     "output_type": "stream",
     "text": [
      "/home/buihuy/Intent-Detection/venv/lib/python3.7/site-packages/sklearn/multiclass.py:80: UserWarning: Label not 0 is present in all training examples.\n",
      "  \"Label %s is present in all training examples.\" % str(classes[c])\n",
      "/home/buihuy/Intent-Detection/venv/lib/python3.7/site-packages/sklearn/multiclass.py:80: UserWarning: Label not 2 is present in all training examples.\n",
      "  \"Label %s is present in all training examples.\" % str(classes[c])\n",
      "/home/buihuy/Intent-Detection/venv/lib/python3.7/site-packages/sklearn/multiclass.py:80: UserWarning: Label not 8 is present in all training examples.\n",
      "  \"Label %s is present in all training examples.\" % str(classes[c])\n",
      "/home/buihuy/Intent-Detection/venv/lib/python3.7/site-packages/sklearn/multiclass.py:80: UserWarning: Label not 0 is present in all training examples.\n",
      "  \"Label %s is present in all training examples.\" % str(classes[c])\n",
      "/home/buihuy/Intent-Detection/venv/lib/python3.7/site-packages/sklearn/multiclass.py:80: UserWarning: Label not 2 is present in all training examples.\n",
      "  \"Label %s is present in all training examples.\" % str(classes[c])\n",
      "/home/buihuy/Intent-Detection/venv/lib/python3.7/site-packages/sklearn/multiclass.py:80: UserWarning: Label not 0 is present in all training examples.\n",
      "  \"Label %s is present in all training examples.\" % str(classes[c])\n",
      "/home/buihuy/Intent-Detection/venv/lib/python3.7/site-packages/sklearn/multiclass.py:80: UserWarning: Label not 2 is present in all training examples.\n",
      "  \"Label %s is present in all training examples.\" % str(classes[c])\n",
      "/home/buihuy/Intent-Detection/venv/lib/python3.7/site-packages/joblib/externals/loky/process_executor.py:705: UserWarning: A worker stopped while some jobs were given to the executor. This can be caused by a too short worker timeout or by a memory leak.\n",
      "  \"timeout or by a memory leak.\", UserWarning\n",
      "/home/buihuy/Intent-Detection/venv/lib/python3.7/site-packages/sklearn/multiclass.py:80: UserWarning: Label not 2 is present in all training examples.\n",
      "  \"Label %s is present in all training examples.\" % str(classes[c])\n",
      "/home/buihuy/Intent-Detection/venv/lib/python3.7/site-packages/sklearn/multiclass.py:80: UserWarning: Label not 0 is present in all training examples.\n",
      "  \"Label %s is present in all training examples.\" % str(classes[c])\n",
      "/home/buihuy/Intent-Detection/venv/lib/python3.7/site-packages/sklearn/multiclass.py:80: UserWarning: Label not 0 is present in all training examples.\n",
      "  \"Label %s is present in all training examples.\" % str(classes[c])\n",
      "/home/buihuy/Intent-Detection/venv/lib/python3.7/site-packages/sklearn/multiclass.py:80: UserWarning: Label not 2 is present in all training examples.\n",
      "  \"Label %s is present in all training examples.\" % str(classes[c])\n",
      "/home/buihuy/Intent-Detection/venv/lib/python3.7/site-packages/sklearn/multiclass.py:80: UserWarning: Label not 8 is present in all training examples.\n",
      "  \"Label %s is present in all training examples.\" % str(classes[c])\n",
      "/home/buihuy/Intent-Detection/venv/lib/python3.7/site-packages/sklearn/multiclass.py:80: UserWarning: Label not 0 is present in all training examples.\n",
      "  \"Label %s is present in all training examples.\" % str(classes[c])\n",
      "/home/buihuy/Intent-Detection/venv/lib/python3.7/site-packages/sklearn/multiclass.py:80: UserWarning: Label not 2 is present in all training examples.\n",
      "  \"Label %s is present in all training examples.\" % str(classes[c])\n",
      "/home/buihuy/Intent-Detection/venv/lib/python3.7/site-packages/sklearn/multiclass.py:80: UserWarning: Label not 8 is present in all training examples.\n",
      "  \"Label %s is present in all training examples.\" % str(classes[c])\n",
      "/home/buihuy/Intent-Detection/venv/lib/python3.7/site-packages/sklearn/multiclass.py:80: UserWarning: Label not 0 is present in all training examples.\n",
      "  \"Label %s is present in all training examples.\" % str(classes[c])\n",
      "/home/buihuy/Intent-Detection/venv/lib/python3.7/site-packages/sklearn/multiclass.py:80: UserWarning: Label not 2 is present in all training examples.\n",
      "  \"Label %s is present in all training examples.\" % str(classes[c])\n",
      "/home/buihuy/Intent-Detection/venv/lib/python3.7/site-packages/sklearn/multiclass.py:80: UserWarning: Label not 8 is present in all training examples.\n",
      "  \"Label %s is present in all training examples.\" % str(classes[c])\n",
      "/home/buihuy/Intent-Detection/venv/lib/python3.7/site-packages/sklearn/multiclass.py:80: UserWarning: Label not 8 is present in all training examples.\n",
      "  \"Label %s is present in all training examples.\" % str(classes[c])\n",
      "/home/buihuy/Intent-Detection/venv/lib/python3.7/site-packages/sklearn/multiclass.py:80: UserWarning: Label not 8 is present in all training examples.\n",
      "  \"Label %s is present in all training examples.\" % str(classes[c])\n",
      "/home/buihuy/Intent-Detection/venv/lib/python3.7/site-packages/sklearn/multiclass.py:80: UserWarning: Label not 0 is present in all training examples.\n",
      "  \"Label %s is present in all training examples.\" % str(classes[c])\n",
      "/home/buihuy/Intent-Detection/venv/lib/python3.7/site-packages/sklearn/multiclass.py:80: UserWarning: Label not 2 is present in all training examples.\n",
      "  \"Label %s is present in all training examples.\" % str(classes[c])\n",
      "/home/buihuy/Intent-Detection/venv/lib/python3.7/site-packages/sklearn/multiclass.py:80: UserWarning: Label not 8 is present in all training examples.\n",
      "  \"Label %s is present in all training examples.\" % str(classes[c])\n",
      "/home/buihuy/Intent-Detection/venv/lib/python3.7/site-packages/sklearn/multiclass.py:80: UserWarning: Label not 2 is present in all training examples.\n",
      "  \"Label %s is present in all training examples.\" % str(classes[c])\n",
      "/home/buihuy/Intent-Detection/venv/lib/python3.7/site-packages/sklearn/multiclass.py:80: UserWarning: Label not 0 is present in all training examples.\n",
      "  \"Label %s is present in all training examples.\" % str(classes[c])\n",
      "/home/buihuy/Intent-Detection/venv/lib/python3.7/site-packages/sklearn/multiclass.py:80: UserWarning: Label not 0 is present in all training examples.\n",
      "  \"Label %s is present in all training examples.\" % str(classes[c])\n",
      "/home/buihuy/Intent-Detection/venv/lib/python3.7/site-packages/sklearn/multiclass.py:80: UserWarning: Label not 2 is present in all training examples.\n",
      "  \"Label %s is present in all training examples.\" % str(classes[c])\n",
      "/home/buihuy/Intent-Detection/venv/lib/python3.7/site-packages/sklearn/multiclass.py:80: UserWarning: Label not 8 is present in all training examples.\n",
      "  \"Label %s is present in all training examples.\" % str(classes[c])\n",
      "/home/buihuy/Intent-Detection/venv/lib/python3.7/site-packages/sklearn/multiclass.py:80: UserWarning: Label not 8 is present in all training examples.\n",
      "  \"Label %s is present in all training examples.\" % str(classes[c])\n",
      "/home/buihuy/Intent-Detection/venv/lib/python3.7/site-packages/sklearn/multiclass.py:80: UserWarning: Label not 8 is present in all training examples.\n",
      "  \"Label %s is present in all training examples.\" % str(classes[c])\n",
      "/home/buihuy/Intent-Detection/venv/lib/python3.7/site-packages/sklearn/multiclass.py:80: UserWarning: Label not 2 is present in all training examples.\n",
      "  \"Label %s is present in all training examples.\" % str(classes[c])\n",
      "/home/buihuy/Intent-Detection/venv/lib/python3.7/site-packages/sklearn/multiclass.py:80: UserWarning: Label not 0 is present in all training examples.\n",
      "  \"Label %s is present in all training examples.\" % str(classes[c])\n",
      "/home/buihuy/Intent-Detection/venv/lib/python3.7/site-packages/sklearn/multiclass.py:80: UserWarning: Label not 2 is present in all training examples.\n",
      "  \"Label %s is present in all training examples.\" % str(classes[c])\n",
      "/home/buihuy/Intent-Detection/venv/lib/python3.7/site-packages/sklearn/multiclass.py:80: UserWarning: Label not 0 is present in all training examples.\n",
      "  \"Label %s is present in all training examples.\" % str(classes[c])\n",
      "/home/buihuy/Intent-Detection/venv/lib/python3.7/site-packages/sklearn/multiclass.py:80: UserWarning: Label not 0 is present in all training examples.\n",
      "  \"Label %s is present in all training examples.\" % str(classes[c])\n",
      "/home/buihuy/Intent-Detection/venv/lib/python3.7/site-packages/sklearn/multiclass.py:80: UserWarning: Label not 2 is present in all training examples.\n",
      "  \"Label %s is present in all training examples.\" % str(classes[c])\n",
      "/home/buihuy/Intent-Detection/venv/lib/python3.7/site-packages/sklearn/multiclass.py:80: UserWarning: Label not 8 is present in all training examples.\n",
      "  \"Label %s is present in all training examples.\" % str(classes[c])\n",
      "/home/buihuy/Intent-Detection/venv/lib/python3.7/site-packages/sklearn/multiclass.py:80: UserWarning: Label not 8 is present in all training examples.\n",
      "  \"Label %s is present in all training examples.\" % str(classes[c])\n",
      "/home/buihuy/Intent-Detection/venv/lib/python3.7/site-packages/sklearn/multiclass.py:80: UserWarning: Label not 8 is present in all training examples.\n",
      "  \"Label %s is present in all training examples.\" % str(classes[c])\n",
      "/home/buihuy/Intent-Detection/venv/lib/python3.7/site-packages/sklearn/multiclass.py:80: UserWarning: Label not 0 is present in all training examples.\n",
      "  \"Label %s is present in all training examples.\" % str(classes[c])\n",
      "/home/buihuy/Intent-Detection/venv/lib/python3.7/site-packages/sklearn/multiclass.py:80: UserWarning: Label not 2 is present in all training examples.\n",
      "  \"Label %s is present in all training examples.\" % str(classes[c])\n",
      "/home/buihuy/Intent-Detection/venv/lib/python3.7/site-packages/sklearn/multiclass.py:80: UserWarning: Label not 8 is present in all training examples.\n",
      "  \"Label %s is present in all training examples.\" % str(classes[c])\n",
      "/home/buihuy/Intent-Detection/venv/lib/python3.7/site-packages/sklearn/multiclass.py:80: UserWarning: Label not 2 is present in all training examples.\n",
      "  \"Label %s is present in all training examples.\" % str(classes[c])\n",
      "/home/buihuy/Intent-Detection/venv/lib/python3.7/site-packages/sklearn/multiclass.py:80: UserWarning: Label not 0 is present in all training examples.\n",
      "  \"Label %s is present in all training examples.\" % str(classes[c])\n",
      " 67%|████████████████████          | 2/3 [09:59<05:14, 314.27s/it]/home/buihuy/Intent-Detection/venv/lib/python3.7/site-packages/sklearn/multiclass.py:80: UserWarning: Label not 25 is present in all training examples.\n",
      "  \"Label %s is present in all training examples.\" % str(classes[c])\n",
      "/home/buihuy/Intent-Detection/venv/lib/python3.7/site-packages/sklearn/multiclass.py:80: UserWarning: Label not 0 is present in all training examples.\n",
      "  \"Label %s is present in all training examples.\" % str(classes[c])\n",
      "/home/buihuy/Intent-Detection/venv/lib/python3.7/site-packages/sklearn/multiclass.py:80: UserWarning: Label not 25 is present in all training examples.\n",
      "  \"Label %s is present in all training examples.\" % str(classes[c])\n",
      "/home/buihuy/Intent-Detection/venv/lib/python3.7/site-packages/sklearn/multiclass.py:80: UserWarning: Label not 25 is present in all training examples.\n",
      "  \"Label %s is present in all training examples.\" % str(classes[c])\n",
      "/home/buihuy/Intent-Detection/venv/lib/python3.7/site-packages/sklearn/multiclass.py:80: UserWarning: Label not 0 is present in all training examples.\n",
      "  \"Label %s is present in all training examples.\" % str(classes[c])\n",
      "/home/buihuy/Intent-Detection/venv/lib/python3.7/site-packages/sklearn/multiclass.py:80: UserWarning: Label not 25 is present in all training examples.\n",
      "  \"Label %s is present in all training examples.\" % str(classes[c])\n",
      "/home/buihuy/Intent-Detection/venv/lib/python3.7/site-packages/sklearn/multiclass.py:80: UserWarning: Label not 0 is present in all training examples.\n",
      "  \"Label %s is present in all training examples.\" % str(classes[c])\n",
      "/home/buihuy/Intent-Detection/venv/lib/python3.7/site-packages/sklearn/multiclass.py:80: UserWarning: Label not 0 is present in all training examples.\n",
      "  \"Label %s is present in all training examples.\" % str(classes[c])\n",
      "/home/buihuy/Intent-Detection/venv/lib/python3.7/site-packages/sklearn/multiclass.py:80: UserWarning: Label not 0 is present in all training examples.\n",
      "  \"Label %s is present in all training examples.\" % str(classes[c])\n",
      "/home/buihuy/Intent-Detection/venv/lib/python3.7/site-packages/sklearn/multiclass.py:80: UserWarning: Label not 25 is present in all training examples.\n",
      "  \"Label %s is present in all training examples.\" % str(classes[c])\n",
      "/home/buihuy/Intent-Detection/venv/lib/python3.7/site-packages/sklearn/multiclass.py:80: UserWarning: Label not 25 is present in all training examples.\n",
      "  \"Label %s is present in all training examples.\" % str(classes[c])\n",
      "/home/buihuy/Intent-Detection/venv/lib/python3.7/site-packages/sklearn/multiclass.py:80: UserWarning: Label not 0 is present in all training examples.\n",
      "  \"Label %s is present in all training examples.\" % str(classes[c])\n",
      "/home/buihuy/Intent-Detection/venv/lib/python3.7/site-packages/sklearn/multiclass.py:80: UserWarning: Label not 0 is present in all training examples.\n",
      "  \"Label %s is present in all training examples.\" % str(classes[c])\n",
      "/home/buihuy/Intent-Detection/venv/lib/python3.7/site-packages/sklearn/multiclass.py:80: UserWarning: Label not 25 is present in all training examples.\n",
      "  \"Label %s is present in all training examples.\" % str(classes[c])\n",
      "/home/buihuy/Intent-Detection/venv/lib/python3.7/site-packages/sklearn/multiclass.py:80: UserWarning: Label not 25 is present in all training examples.\n",
      "  \"Label %s is present in all training examples.\" % str(classes[c])\n",
      "/home/buihuy/Intent-Detection/venv/lib/python3.7/site-packages/sklearn/multiclass.py:80: UserWarning: Label not 0 is present in all training examples.\n",
      "  \"Label %s is present in all training examples.\" % str(classes[c])\n",
      "/home/buihuy/Intent-Detection/venv/lib/python3.7/site-packages/sklearn/multiclass.py:80: UserWarning: Label not 0 is present in all training examples.\n",
      "  \"Label %s is present in all training examples.\" % str(classes[c])\n",
      "/home/buihuy/Intent-Detection/venv/lib/python3.7/site-packages/sklearn/multiclass.py:80: UserWarning: Label not 25 is present in all training examples.\n",
      "  \"Label %s is present in all training examples.\" % str(classes[c])\n",
      "/home/buihuy/Intent-Detection/venv/lib/python3.7/site-packages/sklearn/multiclass.py:80: UserWarning: Label not 0 is present in all training examples.\n",
      "  \"Label %s is present in all training examples.\" % str(classes[c])\n",
      "/home/buihuy/Intent-Detection/venv/lib/python3.7/site-packages/sklearn/multiclass.py:80: UserWarning: Label not 0 is present in all training examples.\n",
      "  \"Label %s is present in all training examples.\" % str(classes[c])\n",
      "/home/buihuy/Intent-Detection/venv/lib/python3.7/site-packages/sklearn/multiclass.py:80: UserWarning: Label not 25 is present in all training examples.\n",
      "  \"Label %s is present in all training examples.\" % str(classes[c])\n",
      "/home/buihuy/Intent-Detection/venv/lib/python3.7/site-packages/sklearn/multiclass.py:80: UserWarning: Label not 25 is present in all training examples.\n",
      "  \"Label %s is present in all training examples.\" % str(classes[c])\n",
      "/home/buihuy/Intent-Detection/venv/lib/python3.7/site-packages/sklearn/multiclass.py:80: UserWarning: Label not 0 is present in all training examples.\n",
      "  \"Label %s is present in all training examples.\" % str(classes[c])\n",
      "/home/buihuy/Intent-Detection/venv/lib/python3.7/site-packages/sklearn/multiclass.py:80: UserWarning: Label not 0 is present in all training examples.\n",
      "  \"Label %s is present in all training examples.\" % str(classes[c])\n",
      "/home/buihuy/Intent-Detection/venv/lib/python3.7/site-packages/sklearn/multiclass.py:80: UserWarning: Label not 25 is present in all training examples.\n",
      "  \"Label %s is present in all training examples.\" % str(classes[c])\n",
      "/home/buihuy/Intent-Detection/venv/lib/python3.7/site-packages/sklearn/multiclass.py:80: UserWarning: Label not 25 is present in all training examples.\n",
      "  \"Label %s is present in all training examples.\" % str(classes[c])\n",
      "/home/buihuy/Intent-Detection/venv/lib/python3.7/site-packages/sklearn/multiclass.py:80: UserWarning: Label not 0 is present in all training examples.\n",
      "  \"Label %s is present in all training examples.\" % str(classes[c])\n",
      "/home/buihuy/Intent-Detection/venv/lib/python3.7/site-packages/sklearn/multiclass.py:80: UserWarning: Label not 0 is present in all training examples.\n",
      "  \"Label %s is present in all training examples.\" % str(classes[c])\n",
      "/home/buihuy/Intent-Detection/venv/lib/python3.7/site-packages/sklearn/multiclass.py:80: UserWarning: Label not 25 is present in all training examples.\n",
      "  \"Label %s is present in all training examples.\" % str(classes[c])\n",
      "/home/buihuy/Intent-Detection/venv/lib/python3.7/site-packages/sklearn/multiclass.py:80: UserWarning: Label not 25 is present in all training examples.\n",
      "  \"Label %s is present in all training examples.\" % str(classes[c])\n",
      "/home/buihuy/Intent-Detection/venv/lib/python3.7/site-packages/sklearn/multiclass.py:80: UserWarning: Label not 0 is present in all training examples.\n",
      "  \"Label %s is present in all training examples.\" % str(classes[c])\n",
      "/home/buihuy/Intent-Detection/venv/lib/python3.7/site-packages/sklearn/multiclass.py:80: UserWarning: Label not 25 is present in all training examples.\n",
      "  \"Label %s is present in all training examples.\" % str(classes[c])\n",
      "/home/buihuy/Intent-Detection/venv/lib/python3.7/site-packages/sklearn/multiclass.py:80: UserWarning: Label not 0 is present in all training examples.\n",
      "  \"Label %s is present in all training examples.\" % str(classes[c])\n",
      "/home/buihuy/Intent-Detection/venv/lib/python3.7/site-packages/sklearn/multiclass.py:80: UserWarning: Label not 0 is present in all training examples.\n",
      "  \"Label %s is present in all training examples.\" % str(classes[c])\n",
      "/home/buihuy/Intent-Detection/venv/lib/python3.7/site-packages/sklearn/multiclass.py:80: UserWarning: Label not 25 is present in all training examples.\n",
      "  \"Label %s is present in all training examples.\" % str(classes[c])\n",
      "/home/buihuy/Intent-Detection/venv/lib/python3.7/site-packages/sklearn/multiclass.py:80: UserWarning: Label not 25 is present in all training examples.\n",
      "  \"Label %s is present in all training examples.\" % str(classes[c])\n",
      "/home/buihuy/Intent-Detection/venv/lib/python3.7/site-packages/sklearn/multiclass.py:80: UserWarning: Label not 0 is present in all training examples.\n",
      "  \"Label %s is present in all training examples.\" % str(classes[c])\n",
      "/home/buihuy/Intent-Detection/venv/lib/python3.7/site-packages/sklearn/multiclass.py:80: UserWarning: Label not 0 is present in all training examples.\n",
      "  \"Label %s is present in all training examples.\" % str(classes[c])\n",
      "/home/buihuy/Intent-Detection/venv/lib/python3.7/site-packages/sklearn/multiclass.py:80: UserWarning: Label not 0 is present in all training examples.\n",
      "  \"Label %s is present in all training examples.\" % str(classes[c])\n",
      "/home/buihuy/Intent-Detection/venv/lib/python3.7/site-packages/sklearn/multiclass.py:80: UserWarning: Label not 25 is present in all training examples.\n",
      "  \"Label %s is present in all training examples.\" % str(classes[c])\n",
      "/home/buihuy/Intent-Detection/venv/lib/python3.7/site-packages/sklearn/multiclass.py:80: UserWarning: Label not 0 is present in all training examples.\n",
      "  \"Label %s is present in all training examples.\" % str(classes[c])\n",
      "/home/buihuy/Intent-Detection/venv/lib/python3.7/site-packages/sklearn/multiclass.py:80: UserWarning: Label not 0 is present in all training examples.\n",
      "  \"Label %s is present in all training examples.\" % str(classes[c])\n",
      "/home/buihuy/Intent-Detection/venv/lib/python3.7/site-packages/sklearn/multiclass.py:80: UserWarning: Label not 25 is present in all training examples.\n",
      "  \"Label %s is present in all training examples.\" % str(classes[c])\n",
      "/home/buihuy/Intent-Detection/venv/lib/python3.7/site-packages/sklearn/multiclass.py:80: UserWarning: Label not 25 is present in all training examples.\n",
      "  \"Label %s is present in all training examples.\" % str(classes[c])\n",
      "/home/buihuy/Intent-Detection/venv/lib/python3.7/site-packages/sklearn/multiclass.py:80: UserWarning: Label not 0 is present in all training examples.\n",
      "  \"Label %s is present in all training examples.\" % str(classes[c])\n",
      "/home/buihuy/Intent-Detection/venv/lib/python3.7/site-packages/sklearn/multiclass.py:80: UserWarning: Label not 0 is present in all training examples.\n",
      "  \"Label %s is present in all training examples.\" % str(classes[c])\n",
      "/home/buihuy/Intent-Detection/venv/lib/python3.7/site-packages/sklearn/multiclass.py:80: UserWarning: Label not 25 is present in all training examples.\n",
      "  \"Label %s is present in all training examples.\" % str(classes[c])\n",
      "/home/buihuy/Intent-Detection/venv/lib/python3.7/site-packages/sklearn/multiclass.py:80: UserWarning: Label not 25 is present in all training examples.\n",
      "  \"Label %s is present in all training examples.\" % str(classes[c])\n",
      "/home/buihuy/Intent-Detection/venv/lib/python3.7/site-packages/sklearn/multiclass.py:80: UserWarning: Label not 0 is present in all training examples.\n",
      "  \"Label %s is present in all training examples.\" % str(classes[c])\n",
      "/home/buihuy/Intent-Detection/venv/lib/python3.7/site-packages/sklearn/multiclass.py:80: UserWarning: Label not 0 is present in all training examples.\n",
      "  \"Label %s is present in all training examples.\" % str(classes[c])\n",
      "/home/buihuy/Intent-Detection/venv/lib/python3.7/site-packages/sklearn/multiclass.py:80: UserWarning: Label not 25 is present in all training examples.\n",
      "  \"Label %s is present in all training examples.\" % str(classes[c])\n",
      "/home/buihuy/Intent-Detection/venv/lib/python3.7/site-packages/sklearn/multiclass.py:80: UserWarning: Label not 25 is present in all training examples.\n",
      "  \"Label %s is present in all training examples.\" % str(classes[c])\n",
      "/home/buihuy/Intent-Detection/venv/lib/python3.7/site-packages/sklearn/multiclass.py:80: UserWarning: Label not 0 is present in all training examples.\n",
      "  \"Label %s is present in all training examples.\" % str(classes[c])\n",
      "/home/buihuy/Intent-Detection/venv/lib/python3.7/site-packages/sklearn/multiclass.py:80: UserWarning: Label not 0 is present in all training examples.\n",
      "  \"Label %s is present in all training examples.\" % str(classes[c])\n",
      "/home/buihuy/Intent-Detection/venv/lib/python3.7/site-packages/sklearn/multiclass.py:80: UserWarning: Label not 25 is present in all training examples.\n",
      "  \"Label %s is present in all training examples.\" % str(classes[c])\n",
      "/home/buihuy/Intent-Detection/venv/lib/python3.7/site-packages/sklearn/multiclass.py:80: UserWarning: Label not 0 is present in all training examples.\n",
      "  \"Label %s is present in all training examples.\" % str(classes[c])\n",
      "/home/buihuy/Intent-Detection/venv/lib/python3.7/site-packages/sklearn/multiclass.py:80: UserWarning: Label not 25 is present in all training examples.\n",
      "  \"Label %s is present in all training examples.\" % str(classes[c])\n",
      "/home/buihuy/Intent-Detection/venv/lib/python3.7/site-packages/sklearn/multiclass.py:80: UserWarning: Label not 25 is present in all training examples.\n",
      "  \"Label %s is present in all training examples.\" % str(classes[c])\n",
      "/home/buihuy/Intent-Detection/venv/lib/python3.7/site-packages/sklearn/multiclass.py:80: UserWarning: Label not 0 is present in all training examples.\n",
      "  \"Label %s is present in all training examples.\" % str(classes[c])\n",
      "/home/buihuy/Intent-Detection/venv/lib/python3.7/site-packages/sklearn/multiclass.py:80: UserWarning: Label not 25 is present in all training examples.\n",
      "  \"Label %s is present in all training examples.\" % str(classes[c])\n",
      "/home/buihuy/Intent-Detection/venv/lib/python3.7/site-packages/sklearn/multiclass.py:80: UserWarning: Label not 25 is present in all training examples.\n",
      "  \"Label %s is present in all training examples.\" % str(classes[c])\n",
      "/home/buihuy/Intent-Detection/venv/lib/python3.7/site-packages/sklearn/multiclass.py:80: UserWarning: Label not 25 is present in all training examples.\n",
      "  \"Label %s is present in all training examples.\" % str(classes[c])\n",
      "/home/buihuy/Intent-Detection/venv/lib/python3.7/site-packages/sklearn/multiclass.py:80: UserWarning: Label not 0 is present in all training examples.\n",
      "  \"Label %s is present in all training examples.\" % str(classes[c])\n",
      "/home/buihuy/Intent-Detection/venv/lib/python3.7/site-packages/sklearn/multiclass.py:80: UserWarning: Label not 0 is present in all training examples.\n",
      "  \"Label %s is present in all training examples.\" % str(classes[c])\n",
      "/home/buihuy/Intent-Detection/venv/lib/python3.7/site-packages/sklearn/multiclass.py:80: UserWarning: Label not 25 is present in all training examples.\n",
      "  \"Label %s is present in all training examples.\" % str(classes[c])\n",
      "/home/buihuy/Intent-Detection/venv/lib/python3.7/site-packages/sklearn/multiclass.py:80: UserWarning: Label not 25 is present in all training examples.\n",
      "  \"Label %s is present in all training examples.\" % str(classes[c])\n",
      "/home/buihuy/Intent-Detection/venv/lib/python3.7/site-packages/sklearn/multiclass.py:80: UserWarning: Label not 0 is present in all training examples.\n",
      "  \"Label %s is present in all training examples.\" % str(classes[c])\n",
      "/home/buihuy/Intent-Detection/venv/lib/python3.7/site-packages/sklearn/multiclass.py:80: UserWarning: Label not 0 is present in all training examples.\n",
      "  \"Label %s is present in all training examples.\" % str(classes[c])\n",
      "/home/buihuy/Intent-Detection/venv/lib/python3.7/site-packages/sklearn/multiclass.py:80: UserWarning: Label not 25 is present in all training examples.\n",
      "  \"Label %s is present in all training examples.\" % str(classes[c])\n",
      "/home/buihuy/Intent-Detection/venv/lib/python3.7/site-packages/sklearn/multiclass.py:80: UserWarning: Label not 25 is present in all training examples.\n",
      "  \"Label %s is present in all training examples.\" % str(classes[c])\n",
      "/home/buihuy/Intent-Detection/venv/lib/python3.7/site-packages/sklearn/multiclass.py:80: UserWarning: Label not 0 is present in all training examples.\n",
      "  \"Label %s is present in all training examples.\" % str(classes[c])\n",
      "/home/buihuy/Intent-Detection/venv/lib/python3.7/site-packages/sklearn/multiclass.py:80: UserWarning: Label not 0 is present in all training examples.\n",
      "  \"Label %s is present in all training examples.\" % str(classes[c])\n",
      "/home/buihuy/Intent-Detection/venv/lib/python3.7/site-packages/sklearn/multiclass.py:80: UserWarning: Label not 25 is present in all training examples.\n",
      "  \"Label %s is present in all training examples.\" % str(classes[c])\n",
      "/home/buihuy/Intent-Detection/venv/lib/python3.7/site-packages/sklearn/multiclass.py:80: UserWarning: Label not 0 is present in all training examples.\n",
      "  \"Label %s is present in all training examples.\" % str(classes[c])\n",
      "/home/buihuy/Intent-Detection/venv/lib/python3.7/site-packages/sklearn/multiclass.py:80: UserWarning: Label not 0 is present in all training examples.\n",
      "  \"Label %s is present in all training examples.\" % str(classes[c])\n",
      "/home/buihuy/Intent-Detection/venv/lib/python3.7/site-packages/sklearn/multiclass.py:80: UserWarning: Label not 0 is present in all training examples.\n",
      "  \"Label %s is present in all training examples.\" % str(classes[c])\n",
      "/home/buihuy/Intent-Detection/venv/lib/python3.7/site-packages/sklearn/multiclass.py:80: UserWarning: Label not 0 is present in all training examples.\n",
      "  \"Label %s is present in all training examples.\" % str(classes[c])\n",
      "/home/buihuy/Intent-Detection/venv/lib/python3.7/site-packages/sklearn/multiclass.py:80: UserWarning: Label not 25 is present in all training examples.\n",
      "  \"Label %s is present in all training examples.\" % str(classes[c])\n",
      "/home/buihuy/Intent-Detection/venv/lib/python3.7/site-packages/sklearn/multiclass.py:80: UserWarning: Label not 25 is present in all training examples.\n",
      "  \"Label %s is present in all training examples.\" % str(classes[c])\n",
      "/home/buihuy/Intent-Detection/venv/lib/python3.7/site-packages/sklearn/multiclass.py:80: UserWarning: Label not 0 is present in all training examples.\n",
      "  \"Label %s is present in all training examples.\" % str(classes[c])\n",
      "/home/buihuy/Intent-Detection/venv/lib/python3.7/site-packages/sklearn/multiclass.py:80: UserWarning: Label not 0 is present in all training examples.\n",
      "  \"Label %s is present in all training examples.\" % str(classes[c])\n",
      "/home/buihuy/Intent-Detection/venv/lib/python3.7/site-packages/sklearn/multiclass.py:80: UserWarning: Label not 0 is present in all training examples.\n",
      "  \"Label %s is present in all training examples.\" % str(classes[c])\n",
      "/home/buihuy/Intent-Detection/venv/lib/python3.7/site-packages/sklearn/multiclass.py:80: UserWarning: Label not 25 is present in all training examples.\n",
      "  \"Label %s is present in all training examples.\" % str(classes[c])\n",
      "/home/buihuy/Intent-Detection/venv/lib/python3.7/site-packages/sklearn/multiclass.py:80: UserWarning: Label not 25 is present in all training examples.\n",
      "  \"Label %s is present in all training examples.\" % str(classes[c])\n",
      "/home/buihuy/Intent-Detection/venv/lib/python3.7/site-packages/sklearn/multiclass.py:80: UserWarning: Label not 0 is present in all training examples.\n",
      "  \"Label %s is present in all training examples.\" % str(classes[c])\n",
      "/home/buihuy/Intent-Detection/venv/lib/python3.7/site-packages/sklearn/multiclass.py:80: UserWarning: Label not 25 is present in all training examples.\n",
      "  \"Label %s is present in all training examples.\" % str(classes[c])\n",
      "/home/buihuy/Intent-Detection/venv/lib/python3.7/site-packages/sklearn/multiclass.py:80: UserWarning: Label not 25 is present in all training examples.\n",
      "  \"Label %s is present in all training examples.\" % str(classes[c])\n",
      "/home/buihuy/Intent-Detection/venv/lib/python3.7/site-packages/sklearn/multiclass.py:80: UserWarning: Label not 0 is present in all training examples.\n",
      "  \"Label %s is present in all training examples.\" % str(classes[c])\n",
      "/home/buihuy/Intent-Detection/venv/lib/python3.7/site-packages/sklearn/multiclass.py:80: UserWarning: Label not 0 is present in all training examples.\n",
      "  \"Label %s is present in all training examples.\" % str(classes[c])\n",
      "/home/buihuy/Intent-Detection/venv/lib/python3.7/site-packages/sklearn/multiclass.py:80: UserWarning: Label not 25 is present in all training examples.\n",
      "  \"Label %s is present in all training examples.\" % str(classes[c])\n",
      "/home/buihuy/Intent-Detection/venv/lib/python3.7/site-packages/sklearn/multiclass.py:80: UserWarning: Label not 25 is present in all training examples.\n",
      "  \"Label %s is present in all training examples.\" % str(classes[c])\n",
      "/home/buihuy/Intent-Detection/venv/lib/python3.7/site-packages/sklearn/multiclass.py:80: UserWarning: Label not 0 is present in all training examples.\n",
      "  \"Label %s is present in all training examples.\" % str(classes[c])\n",
      "/home/buihuy/Intent-Detection/venv/lib/python3.7/site-packages/sklearn/multiclass.py:80: UserWarning: Label not 0 is present in all training examples.\n",
      "  \"Label %s is present in all training examples.\" % str(classes[c])\n",
      "/home/buihuy/Intent-Detection/venv/lib/python3.7/site-packages/sklearn/multiclass.py:80: UserWarning: Label not 25 is present in all training examples.\n",
      "  \"Label %s is present in all training examples.\" % str(classes[c])\n",
      "/home/buihuy/Intent-Detection/venv/lib/python3.7/site-packages/sklearn/multiclass.py:80: UserWarning: Label not 25 is present in all training examples.\n",
      "  \"Label %s is present in all training examples.\" % str(classes[c])\n",
      "/home/buihuy/Intent-Detection/venv/lib/python3.7/site-packages/sklearn/multiclass.py:80: UserWarning: Label not 0 is present in all training examples.\n",
      "  \"Label %s is present in all training examples.\" % str(classes[c])\n",
      "/home/buihuy/Intent-Detection/venv/lib/python3.7/site-packages/sklearn/multiclass.py:80: UserWarning: Label not 0 is present in all training examples.\n",
      "  \"Label %s is present in all training examples.\" % str(classes[c])\n",
      "/home/buihuy/Intent-Detection/venv/lib/python3.7/site-packages/sklearn/multiclass.py:80: UserWarning: Label not 0 is present in all training examples.\n",
      "  \"Label %s is present in all training examples.\" % str(classes[c])\n",
      "/home/buihuy/Intent-Detection/venv/lib/python3.7/site-packages/sklearn/multiclass.py:80: UserWarning: Label not 25 is present in all training examples.\n",
      "  \"Label %s is present in all training examples.\" % str(classes[c])\n",
      "/home/buihuy/Intent-Detection/venv/lib/python3.7/site-packages/sklearn/multiclass.py:80: UserWarning: Label not 0 is present in all training examples.\n",
      "  \"Label %s is present in all training examples.\" % str(classes[c])\n",
      "/home/buihuy/Intent-Detection/venv/lib/python3.7/site-packages/sklearn/multiclass.py:80: UserWarning: Label not 0 is present in all training examples.\n",
      "  \"Label %s is present in all training examples.\" % str(classes[c])\n",
      "/home/buihuy/Intent-Detection/venv/lib/python3.7/site-packages/sklearn/multiclass.py:80: UserWarning: Label not 25 is present in all training examples.\n",
      "  \"Label %s is present in all training examples.\" % str(classes[c])\n",
      "/home/buihuy/Intent-Detection/venv/lib/python3.7/site-packages/sklearn/multiclass.py:80: UserWarning: Label not 25 is present in all training examples.\n",
      "  \"Label %s is present in all training examples.\" % str(classes[c])\n",
      "/home/buihuy/Intent-Detection/venv/lib/python3.7/site-packages/sklearn/multiclass.py:80: UserWarning: Label not 0 is present in all training examples.\n",
      "  \"Label %s is present in all training examples.\" % str(classes[c])\n",
      "/home/buihuy/Intent-Detection/venv/lib/python3.7/site-packages/sklearn/multiclass.py:80: UserWarning: Label not 0 is present in all training examples.\n",
      "  \"Label %s is present in all training examples.\" % str(classes[c])\n",
      "/home/buihuy/Intent-Detection/venv/lib/python3.7/site-packages/sklearn/multiclass.py:80: UserWarning: Label not 25 is present in all training examples.\n",
      "  \"Label %s is present in all training examples.\" % str(classes[c])\n",
      "/home/buihuy/Intent-Detection/venv/lib/python3.7/site-packages/sklearn/multiclass.py:80: UserWarning: Label not 0 is present in all training examples.\n",
      "  \"Label %s is present in all training examples.\" % str(classes[c])\n",
      "/home/buihuy/Intent-Detection/venv/lib/python3.7/site-packages/sklearn/multiclass.py:80: UserWarning: Label not 25 is present in all training examples.\n",
      "  \"Label %s is present in all training examples.\" % str(classes[c])\n",
      "/home/buihuy/Intent-Detection/venv/lib/python3.7/site-packages/sklearn/multiclass.py:80: UserWarning: Label not 0 is present in all training examples.\n",
      "  \"Label %s is present in all training examples.\" % str(classes[c])\n",
      "/home/buihuy/Intent-Detection/venv/lib/python3.7/site-packages/sklearn/multiclass.py:80: UserWarning: Label not 25 is present in all training examples.\n",
      "  \"Label %s is present in all training examples.\" % str(classes[c])\n",
      "/home/buihuy/Intent-Detection/venv/lib/python3.7/site-packages/sklearn/multiclass.py:80: UserWarning: Label not 25 is present in all training examples.\n",
      "  \"Label %s is present in all training examples.\" % str(classes[c])\n",
      "/home/buihuy/Intent-Detection/venv/lib/python3.7/site-packages/sklearn/multiclass.py:80: UserWarning: Label not 0 is present in all training examples.\n",
      "  \"Label %s is present in all training examples.\" % str(classes[c])\n",
      "/home/buihuy/Intent-Detection/venv/lib/python3.7/site-packages/sklearn/multiclass.py:80: UserWarning: Label not 25 is present in all training examples.\n",
      "  \"Label %s is present in all training examples.\" % str(classes[c])\n",
      "/home/buihuy/Intent-Detection/venv/lib/python3.7/site-packages/sklearn/multiclass.py:80: UserWarning: Label not 0 is present in all training examples.\n",
      "  \"Label %s is present in all training examples.\" % str(classes[c])\n",
      "/home/buihuy/Intent-Detection/venv/lib/python3.7/site-packages/sklearn/multiclass.py:80: UserWarning: Label not 25 is present in all training examples.\n",
      "  \"Label %s is present in all training examples.\" % str(classes[c])\n",
      "/home/buihuy/Intent-Detection/venv/lib/python3.7/site-packages/sklearn/multiclass.py:80: UserWarning: Label not 25 is present in all training examples.\n",
      "  \"Label %s is present in all training examples.\" % str(classes[c])\n",
      "/home/buihuy/Intent-Detection/venv/lib/python3.7/site-packages/sklearn/multiclass.py:80: UserWarning: Label not 0 is present in all training examples.\n",
      "  \"Label %s is present in all training examples.\" % str(classes[c])\n",
      "/home/buihuy/Intent-Detection/venv/lib/python3.7/site-packages/sklearn/multiclass.py:80: UserWarning: Label not 0 is present in all training examples.\n",
      "  \"Label %s is present in all training examples.\" % str(classes[c])\n",
      "/home/buihuy/Intent-Detection/venv/lib/python3.7/site-packages/sklearn/multiclass.py:80: UserWarning: Label not 25 is present in all training examples.\n",
      "  \"Label %s is present in all training examples.\" % str(classes[c])\n",
      "/home/buihuy/Intent-Detection/venv/lib/python3.7/site-packages/sklearn/multiclass.py:80: UserWarning: Label not 25 is present in all training examples.\n",
      "  \"Label %s is present in all training examples.\" % str(classes[c])\n",
      "/home/buihuy/Intent-Detection/venv/lib/python3.7/site-packages/sklearn/multiclass.py:80: UserWarning: Label not 25 is present in all training examples.\n",
      "  \"Label %s is present in all training examples.\" % str(classes[c])\n",
      "/home/buihuy/Intent-Detection/venv/lib/python3.7/site-packages/sklearn/multiclass.py:80: UserWarning: Label not 0 is present in all training examples.\n",
      "  \"Label %s is present in all training examples.\" % str(classes[c])\n",
      "/home/buihuy/Intent-Detection/venv/lib/python3.7/site-packages/sklearn/multiclass.py:80: UserWarning: Label not 0 is present in all training examples.\n",
      "  \"Label %s is present in all training examples.\" % str(classes[c])\n",
      "/home/buihuy/Intent-Detection/venv/lib/python3.7/site-packages/sklearn/multiclass.py:80: UserWarning: Label not 25 is present in all training examples.\n",
      "  \"Label %s is present in all training examples.\" % str(classes[c])\n",
      "/home/buihuy/Intent-Detection/venv/lib/python3.7/site-packages/sklearn/multiclass.py:80: UserWarning: Label not 25 is present in all training examples.\n",
      "  \"Label %s is present in all training examples.\" % str(classes[c])\n",
      "/home/buihuy/Intent-Detection/venv/lib/python3.7/site-packages/sklearn/multiclass.py:80: UserWarning: Label not 0 is present in all training examples.\n",
      "  \"Label %s is present in all training examples.\" % str(classes[c])\n",
      "/home/buihuy/Intent-Detection/venv/lib/python3.7/site-packages/sklearn/multiclass.py:80: UserWarning: Label not 0 is present in all training examples.\n",
      "  \"Label %s is present in all training examples.\" % str(classes[c])\n",
      "/home/buihuy/Intent-Detection/venv/lib/python3.7/site-packages/sklearn/multiclass.py:80: UserWarning: Label not 25 is present in all training examples.\n",
      "  \"Label %s is present in all training examples.\" % str(classes[c])\n",
      "/home/buihuy/Intent-Detection/venv/lib/python3.7/site-packages/sklearn/multiclass.py:80: UserWarning: Label not 25 is present in all training examples.\n",
      "  \"Label %s is present in all training examples.\" % str(classes[c])\n",
      "/home/buihuy/Intent-Detection/venv/lib/python3.7/site-packages/sklearn/multiclass.py:80: UserWarning: Label not 0 is present in all training examples.\n",
      "  \"Label %s is present in all training examples.\" % str(classes[c])\n",
      "/home/buihuy/Intent-Detection/venv/lib/python3.7/site-packages/sklearn/multiclass.py:80: UserWarning: Label not 25 is present in all training examples.\n",
      "  \"Label %s is present in all training examples.\" % str(classes[c])\n",
      "/home/buihuy/Intent-Detection/venv/lib/python3.7/site-packages/sklearn/multiclass.py:80: UserWarning: Label not 25 is present in all training examples.\n",
      "  \"Label %s is present in all training examples.\" % str(classes[c])\n",
      "/home/buihuy/Intent-Detection/venv/lib/python3.7/site-packages/sklearn/multiclass.py:80: UserWarning: Label not 0 is present in all training examples.\n",
      "  \"Label %s is present in all training examples.\" % str(classes[c])\n",
      "/home/buihuy/Intent-Detection/venv/lib/python3.7/site-packages/sklearn/multiclass.py:80: UserWarning: Label not 0 is present in all training examples.\n",
      "  \"Label %s is present in all training examples.\" % str(classes[c])\n",
      "/home/buihuy/Intent-Detection/venv/lib/python3.7/site-packages/sklearn/multiclass.py:80: UserWarning: Label not 25 is present in all training examples.\n",
      "  \"Label %s is present in all training examples.\" % str(classes[c])\n",
      "/home/buihuy/Intent-Detection/venv/lib/python3.7/site-packages/sklearn/multiclass.py:80: UserWarning: Label not 25 is present in all training examples.\n",
      "  \"Label %s is present in all training examples.\" % str(classes[c])\n",
      "/home/buihuy/Intent-Detection/venv/lib/python3.7/site-packages/sklearn/multiclass.py:80: UserWarning: Label not 0 is present in all training examples.\n",
      "  \"Label %s is present in all training examples.\" % str(classes[c])\n",
      "/home/buihuy/Intent-Detection/venv/lib/python3.7/site-packages/sklearn/multiclass.py:80: UserWarning: Label not 0 is present in all training examples.\n",
      "  \"Label %s is present in all training examples.\" % str(classes[c])\n",
      "/home/buihuy/Intent-Detection/venv/lib/python3.7/site-packages/sklearn/multiclass.py:80: UserWarning: Label not 25 is present in all training examples.\n",
      "  \"Label %s is present in all training examples.\" % str(classes[c])\n",
      "/home/buihuy/Intent-Detection/venv/lib/python3.7/site-packages/sklearn/multiclass.py:80: UserWarning: Label not 25 is present in all training examples.\n",
      "  \"Label %s is present in all training examples.\" % str(classes[c])\n",
      "/home/buihuy/Intent-Detection/venv/lib/python3.7/site-packages/sklearn/multiclass.py:80: UserWarning: Label not 0 is present in all training examples.\n",
      "  \"Label %s is present in all training examples.\" % str(classes[c])\n",
      "/home/buihuy/Intent-Detection/venv/lib/python3.7/site-packages/sklearn/multiclass.py:80: UserWarning: Label not 0 is present in all training examples.\n",
      "  \"Label %s is present in all training examples.\" % str(classes[c])\n",
      "/home/buihuy/Intent-Detection/venv/lib/python3.7/site-packages/sklearn/multiclass.py:80: UserWarning: Label not 25 is present in all training examples.\n",
      "  \"Label %s is present in all training examples.\" % str(classes[c])\n",
      "/home/buihuy/Intent-Detection/venv/lib/python3.7/site-packages/sklearn/multiclass.py:80: UserWarning: Label not 25 is present in all training examples.\n",
      "  \"Label %s is present in all training examples.\" % str(classes[c])\n",
      "/home/buihuy/Intent-Detection/venv/lib/python3.7/site-packages/sklearn/multiclass.py:80: UserWarning: Label not 0 is present in all training examples.\n",
      "  \"Label %s is present in all training examples.\" % str(classes[c])\n",
      "/home/buihuy/Intent-Detection/venv/lib/python3.7/site-packages/sklearn/multiclass.py:80: UserWarning: Label not 25 is present in all training examples.\n",
      "  \"Label %s is present in all training examples.\" % str(classes[c])\n",
      "/home/buihuy/Intent-Detection/venv/lib/python3.7/site-packages/sklearn/multiclass.py:80: UserWarning: Label not 25 is present in all training examples.\n",
      "  \"Label %s is present in all training examples.\" % str(classes[c])\n",
      "/home/buihuy/Intent-Detection/venv/lib/python3.7/site-packages/sklearn/multiclass.py:80: UserWarning: Label not 0 is present in all training examples.\n",
      "  \"Label %s is present in all training examples.\" % str(classes[c])\n",
      "/home/buihuy/Intent-Detection/venv/lib/python3.7/site-packages/sklearn/multiclass.py:80: UserWarning: Label not 25 is present in all training examples.\n",
      "  \"Label %s is present in all training examples.\" % str(classes[c])\n",
      "/home/buihuy/Intent-Detection/venv/lib/python3.7/site-packages/sklearn/multiclass.py:80: UserWarning: Label not 25 is present in all training examples.\n",
      "  \"Label %s is present in all training examples.\" % str(classes[c])\n",
      "/home/buihuy/Intent-Detection/venv/lib/python3.7/site-packages/sklearn/multiclass.py:80: UserWarning: Label not 0 is present in all training examples.\n",
      "  \"Label %s is present in all training examples.\" % str(classes[c])\n",
      "/home/buihuy/Intent-Detection/venv/lib/python3.7/site-packages/sklearn/multiclass.py:80: UserWarning: Label not 25 is present in all training examples.\n",
      "  \"Label %s is present in all training examples.\" % str(classes[c])\n",
      "/home/buihuy/Intent-Detection/venv/lib/python3.7/site-packages/sklearn/multiclass.py:80: UserWarning: Label not 25 is present in all training examples.\n",
      "  \"Label %s is present in all training examples.\" % str(classes[c])\n",
      "/home/buihuy/Intent-Detection/venv/lib/python3.7/site-packages/sklearn/multiclass.py:80: UserWarning: Label not 25 is present in all training examples.\n",
      "  \"Label %s is present in all training examples.\" % str(classes[c])\n",
      "/home/buihuy/Intent-Detection/venv/lib/python3.7/site-packages/sklearn/multiclass.py:80: UserWarning: Label not 0 is present in all training examples.\n",
      "  \"Label %s is present in all training examples.\" % str(classes[c])\n",
      "/home/buihuy/Intent-Detection/venv/lib/python3.7/site-packages/sklearn/multiclass.py:80: UserWarning: Label not 25 is present in all training examples.\n",
      "  \"Label %s is present in all training examples.\" % str(classes[c])\n",
      "/home/buihuy/Intent-Detection/venv/lib/python3.7/site-packages/sklearn/multiclass.py:80: UserWarning: Label not 25 is present in all training examples.\n",
      "  \"Label %s is present in all training examples.\" % str(classes[c])\n",
      "/home/buihuy/Intent-Detection/venv/lib/python3.7/site-packages/sklearn/multiclass.py:80: UserWarning: Label not 0 is present in all training examples.\n",
      "  \"Label %s is present in all training examples.\" % str(classes[c])\n",
      "/home/buihuy/Intent-Detection/venv/lib/python3.7/site-packages/sklearn/multiclass.py:80: UserWarning: Label not 25 is present in all training examples.\n",
      "  \"Label %s is present in all training examples.\" % str(classes[c])\n",
      "/home/buihuy/Intent-Detection/venv/lib/python3.7/site-packages/sklearn/multiclass.py:80: UserWarning: Label not 0 is present in all training examples.\n",
      "  \"Label %s is present in all training examples.\" % str(classes[c])\n",
      "/home/buihuy/Intent-Detection/venv/lib/python3.7/site-packages/sklearn/multiclass.py:80: UserWarning: Label not 25 is present in all training examples.\n",
      "  \"Label %s is present in all training examples.\" % str(classes[c])\n",
      "/home/buihuy/Intent-Detection/venv/lib/python3.7/site-packages/sklearn/multiclass.py:80: UserWarning: Label not 25 is present in all training examples.\n",
      "  \"Label %s is present in all training examples.\" % str(classes[c])\n",
      "/home/buihuy/Intent-Detection/venv/lib/python3.7/site-packages/sklearn/multiclass.py:80: UserWarning: Label not 0 is present in all training examples.\n",
      "  \"Label %s is present in all training examples.\" % str(classes[c])\n",
      "/home/buihuy/Intent-Detection/venv/lib/python3.7/site-packages/sklearn/multiclass.py:80: UserWarning: Label not 25 is present in all training examples.\n",
      "  \"Label %s is present in all training examples.\" % str(classes[c])\n",
      "/home/buihuy/Intent-Detection/venv/lib/python3.7/site-packages/sklearn/multiclass.py:80: UserWarning: Label not 25 is present in all training examples.\n",
      "  \"Label %s is present in all training examples.\" % str(classes[c])\n",
      "/home/buihuy/Intent-Detection/venv/lib/python3.7/site-packages/sklearn/multiclass.py:80: UserWarning: Label not 0 is present in all training examples.\n",
      "  \"Label %s is present in all training examples.\" % str(classes[c])\n",
      "/home/buihuy/Intent-Detection/venv/lib/python3.7/site-packages/sklearn/multiclass.py:80: UserWarning: Label not 0 is present in all training examples.\n",
      "  \"Label %s is present in all training examples.\" % str(classes[c])\n",
      "/home/buihuy/Intent-Detection/venv/lib/python3.7/site-packages/sklearn/multiclass.py:80: UserWarning: Label not 0 is present in all training examples.\n",
      "  \"Label %s is present in all training examples.\" % str(classes[c])\n",
      "/home/buihuy/Intent-Detection/venv/lib/python3.7/site-packages/sklearn/multiclass.py:80: UserWarning: Label not 25 is present in all training examples.\n",
      "  \"Label %s is present in all training examples.\" % str(classes[c])\n",
      "/home/buihuy/Intent-Detection/venv/lib/python3.7/site-packages/sklearn/multiclass.py:80: UserWarning: Label not 25 is present in all training examples.\n",
      "  \"Label %s is present in all training examples.\" % str(classes[c])\n",
      "/home/buihuy/Intent-Detection/venv/lib/python3.7/site-packages/sklearn/multiclass.py:80: UserWarning: Label not 0 is present in all training examples.\n",
      "  \"Label %s is present in all training examples.\" % str(classes[c])\n",
      "/home/buihuy/Intent-Detection/venv/lib/python3.7/site-packages/sklearn/multiclass.py:80: UserWarning: Label not 25 is present in all training examples.\n",
      "  \"Label %s is present in all training examples.\" % str(classes[c])\n",
      "/home/buihuy/Intent-Detection/venv/lib/python3.7/site-packages/sklearn/multiclass.py:80: UserWarning: Label not 25 is present in all training examples.\n",
      "  \"Label %s is present in all training examples.\" % str(classes[c])\n",
      "/home/buihuy/Intent-Detection/venv/lib/python3.7/site-packages/sklearn/multiclass.py:80: UserWarning: Label not 0 is present in all training examples.\n",
      "  \"Label %s is present in all training examples.\" % str(classes[c])\n",
      "/home/buihuy/Intent-Detection/venv/lib/python3.7/site-packages/sklearn/multiclass.py:80: UserWarning: Label not 0 is present in all training examples.\n",
      "  \"Label %s is present in all training examples.\" % str(classes[c])\n",
      "/home/buihuy/Intent-Detection/venv/lib/python3.7/site-packages/sklearn/multiclass.py:80: UserWarning: Label not 25 is present in all training examples.\n",
      "  \"Label %s is present in all training examples.\" % str(classes[c])\n",
      "/home/buihuy/Intent-Detection/venv/lib/python3.7/site-packages/sklearn/multiclass.py:80: UserWarning: Label not 0 is present in all training examples.\n",
      "  \"Label %s is present in all training examples.\" % str(classes[c])\n",
      "/home/buihuy/Intent-Detection/venv/lib/python3.7/site-packages/sklearn/multiclass.py:80: UserWarning: Label not 0 is present in all training examples.\n",
      "  \"Label %s is present in all training examples.\" % str(classes[c])\n",
      "/home/buihuy/Intent-Detection/venv/lib/python3.7/site-packages/sklearn/multiclass.py:80: UserWarning: Label not 25 is present in all training examples.\n",
      "  \"Label %s is present in all training examples.\" % str(classes[c])\n",
      "/home/buihuy/Intent-Detection/venv/lib/python3.7/site-packages/sklearn/multiclass.py:80: UserWarning: Label not 25 is present in all training examples.\n",
      "  \"Label %s is present in all training examples.\" % str(classes[c])\n",
      "/home/buihuy/Intent-Detection/venv/lib/python3.7/site-packages/sklearn/multiclass.py:80: UserWarning: Label not 0 is present in all training examples.\n",
      "  \"Label %s is present in all training examples.\" % str(classes[c])\n",
      "/home/buihuy/Intent-Detection/venv/lib/python3.7/site-packages/sklearn/multiclass.py:80: UserWarning: Label not 0 is present in all training examples.\n",
      "  \"Label %s is present in all training examples.\" % str(classes[c])\n",
      "/home/buihuy/Intent-Detection/venv/lib/python3.7/site-packages/sklearn/multiclass.py:80: UserWarning: Label not 25 is present in all training examples.\n",
      "  \"Label %s is present in all training examples.\" % str(classes[c])\n",
      "/home/buihuy/Intent-Detection/venv/lib/python3.7/site-packages/sklearn/multiclass.py:80: UserWarning: Label not 25 is present in all training examples.\n",
      "  \"Label %s is present in all training examples.\" % str(classes[c])\n",
      "/home/buihuy/Intent-Detection/venv/lib/python3.7/site-packages/sklearn/multiclass.py:80: UserWarning: Label not 0 is present in all training examples.\n",
      "  \"Label %s is present in all training examples.\" % str(classes[c])\n",
      "/home/buihuy/Intent-Detection/venv/lib/python3.7/site-packages/sklearn/multiclass.py:80: UserWarning: Label not 0 is present in all training examples.\n",
      "  \"Label %s is present in all training examples.\" % str(classes[c])\n",
      "/home/buihuy/Intent-Detection/venv/lib/python3.7/site-packages/sklearn/multiclass.py:80: UserWarning: Label not 25 is present in all training examples.\n",
      "  \"Label %s is present in all training examples.\" % str(classes[c])\n",
      "/home/buihuy/Intent-Detection/venv/lib/python3.7/site-packages/sklearn/multiclass.py:80: UserWarning: Label not 25 is present in all training examples.\n",
      "  \"Label %s is present in all training examples.\" % str(classes[c])\n",
      "/home/buihuy/Intent-Detection/venv/lib/python3.7/site-packages/sklearn/multiclass.py:80: UserWarning: Label not 0 is present in all training examples.\n",
      "  \"Label %s is present in all training examples.\" % str(classes[c])\n",
      "/home/buihuy/Intent-Detection/venv/lib/python3.7/site-packages/sklearn/multiclass.py:80: UserWarning: Label not 0 is present in all training examples.\n",
      "  \"Label %s is present in all training examples.\" % str(classes[c])\n",
      "/home/buihuy/Intent-Detection/venv/lib/python3.7/site-packages/sklearn/multiclass.py:80: UserWarning: Label not 0 is present in all training examples.\n",
      "  \"Label %s is present in all training examples.\" % str(classes[c])\n",
      "/home/buihuy/Intent-Detection/venv/lib/python3.7/site-packages/sklearn/multiclass.py:80: UserWarning: Label not 25 is present in all training examples.\n",
      "  \"Label %s is present in all training examples.\" % str(classes[c])\n",
      "/home/buihuy/Intent-Detection/venv/lib/python3.7/site-packages/sklearn/multiclass.py:80: UserWarning: Label not 25 is present in all training examples.\n",
      "  \"Label %s is present in all training examples.\" % str(classes[c])\n",
      "/home/buihuy/Intent-Detection/venv/lib/python3.7/site-packages/sklearn/multiclass.py:80: UserWarning: Label not 0 is present in all training examples.\n",
      "  \"Label %s is present in all training examples.\" % str(classes[c])\n",
      "/home/buihuy/Intent-Detection/venv/lib/python3.7/site-packages/sklearn/multiclass.py:80: UserWarning: Label not 0 is present in all training examples.\n",
      "  \"Label %s is present in all training examples.\" % str(classes[c])\n",
      "/home/buihuy/Intent-Detection/venv/lib/python3.7/site-packages/sklearn/multiclass.py:80: UserWarning: Label not 25 is present in all training examples.\n",
      "  \"Label %s is present in all training examples.\" % str(classes[c])\n",
      "/home/buihuy/Intent-Detection/venv/lib/python3.7/site-packages/sklearn/multiclass.py:80: UserWarning: Label not 25 is present in all training examples.\n",
      "  \"Label %s is present in all training examples.\" % str(classes[c])\n",
      "/home/buihuy/Intent-Detection/venv/lib/python3.7/site-packages/sklearn/multiclass.py:80: UserWarning: Label not 0 is present in all training examples.\n",
      "  \"Label %s is present in all training examples.\" % str(classes[c])\n",
      "/home/buihuy/Intent-Detection/venv/lib/python3.7/site-packages/sklearn/multiclass.py:80: UserWarning: Label not 0 is present in all training examples.\n",
      "  \"Label %s is present in all training examples.\" % str(classes[c])\n",
      "/home/buihuy/Intent-Detection/venv/lib/python3.7/site-packages/sklearn/multiclass.py:80: UserWarning: Label not 25 is present in all training examples.\n",
      "  \"Label %s is present in all training examples.\" % str(classes[c])\n",
      "/home/buihuy/Intent-Detection/venv/lib/python3.7/site-packages/sklearn/multiclass.py:80: UserWarning: Label not 25 is present in all training examples.\n",
      "  \"Label %s is present in all training examples.\" % str(classes[c])\n",
      "/home/buihuy/Intent-Detection/venv/lib/python3.7/site-packages/sklearn/multiclass.py:80: UserWarning: Label not 25 is present in all training examples.\n",
      "  \"Label %s is present in all training examples.\" % str(classes[c])\n",
      "/home/buihuy/Intent-Detection/venv/lib/python3.7/site-packages/sklearn/multiclass.py:80: UserWarning: Label not 0 is present in all training examples.\n",
      "  \"Label %s is present in all training examples.\" % str(classes[c])\n",
      "/home/buihuy/Intent-Detection/venv/lib/python3.7/site-packages/sklearn/multiclass.py:80: UserWarning: Label not 0 is present in all training examples.\n",
      "  \"Label %s is present in all training examples.\" % str(classes[c])\n",
      "/home/buihuy/Intent-Detection/venv/lib/python3.7/site-packages/sklearn/multiclass.py:80: UserWarning: Label not 25 is present in all training examples.\n",
      "  \"Label %s is present in all training examples.\" % str(classes[c])\n",
      "/home/buihuy/Intent-Detection/venv/lib/python3.7/site-packages/sklearn/multiclass.py:80: UserWarning: Label not 25 is present in all training examples.\n",
      "  \"Label %s is present in all training examples.\" % str(classes[c])\n",
      "/home/buihuy/Intent-Detection/venv/lib/python3.7/site-packages/sklearn/multiclass.py:80: UserWarning: Label not 0 is present in all training examples.\n",
      "  \"Label %s is present in all training examples.\" % str(classes[c])\n",
      "/home/buihuy/Intent-Detection/venv/lib/python3.7/site-packages/sklearn/multiclass.py:80: UserWarning: Label not 0 is present in all training examples.\n",
      "  \"Label %s is present in all training examples.\" % str(classes[c])\n",
      "/home/buihuy/Intent-Detection/venv/lib/python3.7/site-packages/sklearn/multiclass.py:80: UserWarning: Label not 25 is present in all training examples.\n",
      "  \"Label %s is present in all training examples.\" % str(classes[c])\n",
      "/home/buihuy/Intent-Detection/venv/lib/python3.7/site-packages/sklearn/multiclass.py:80: UserWarning: Label not 0 is present in all training examples.\n",
      "  \"Label %s is present in all training examples.\" % str(classes[c])\n",
      "/home/buihuy/Intent-Detection/venv/lib/python3.7/site-packages/sklearn/multiclass.py:80: UserWarning: Label not 0 is present in all training examples.\n",
      "  \"Label %s is present in all training examples.\" % str(classes[c])\n",
      "/home/buihuy/Intent-Detection/venv/lib/python3.7/site-packages/sklearn/multiclass.py:80: UserWarning: Label not 25 is present in all training examples.\n",
      "  \"Label %s is present in all training examples.\" % str(classes[c])\n",
      "/home/buihuy/Intent-Detection/venv/lib/python3.7/site-packages/sklearn/multiclass.py:80: UserWarning: Label not 25 is present in all training examples.\n",
      "  \"Label %s is present in all training examples.\" % str(classes[c])\n",
      "/home/buihuy/Intent-Detection/venv/lib/python3.7/site-packages/sklearn/multiclass.py:80: UserWarning: Label not 0 is present in all training examples.\n",
      "  \"Label %s is present in all training examples.\" % str(classes[c])\n",
      "/home/buihuy/Intent-Detection/venv/lib/python3.7/site-packages/sklearn/multiclass.py:80: UserWarning: Label not 25 is present in all training examples.\n",
      "  \"Label %s is present in all training examples.\" % str(classes[c])\n",
      "/home/buihuy/Intent-Detection/venv/lib/python3.7/site-packages/sklearn/multiclass.py:80: UserWarning: Label not 25 is present in all training examples.\n",
      "  \"Label %s is present in all training examples.\" % str(classes[c])\n",
      "/home/buihuy/Intent-Detection/venv/lib/python3.7/site-packages/sklearn/multiclass.py:80: UserWarning: Label not 0 is present in all training examples.\n",
      "  \"Label %s is present in all training examples.\" % str(classes[c])\n",
      "/home/buihuy/Intent-Detection/venv/lib/python3.7/site-packages/sklearn/multiclass.py:80: UserWarning: Label not 0 is present in all training examples.\n",
      "  \"Label %s is present in all training examples.\" % str(classes[c])\n",
      "/home/buihuy/Intent-Detection/venv/lib/python3.7/site-packages/sklearn/multiclass.py:80: UserWarning: Label not 25 is present in all training examples.\n",
      "  \"Label %s is present in all training examples.\" % str(classes[c])\n",
      "/home/buihuy/Intent-Detection/venv/lib/python3.7/site-packages/sklearn/multiclass.py:80: UserWarning: Label not 25 is present in all training examples.\n",
      "  \"Label %s is present in all training examples.\" % str(classes[c])\n",
      "/home/buihuy/Intent-Detection/venv/lib/python3.7/site-packages/sklearn/multiclass.py:80: UserWarning: Label not 0 is present in all training examples.\n",
      "  \"Label %s is present in all training examples.\" % str(classes[c])\n",
      "/home/buihuy/Intent-Detection/venv/lib/python3.7/site-packages/sklearn/multiclass.py:80: UserWarning: Label not 0 is present in all training examples.\n",
      "  \"Label %s is present in all training examples.\" % str(classes[c])\n",
      "/home/buihuy/Intent-Detection/venv/lib/python3.7/site-packages/sklearn/multiclass.py:80: UserWarning: Label not 25 is present in all training examples.\n",
      "  \"Label %s is present in all training examples.\" % str(classes[c])\n",
      "/home/buihuy/Intent-Detection/venv/lib/python3.7/site-packages/sklearn/multiclass.py:80: UserWarning: Label not 25 is present in all training examples.\n",
      "  \"Label %s is present in all training examples.\" % str(classes[c])\n",
      "/home/buihuy/Intent-Detection/venv/lib/python3.7/site-packages/sklearn/multiclass.py:80: UserWarning: Label not 0 is present in all training examples.\n",
      "  \"Label %s is present in all training examples.\" % str(classes[c])\n",
      "/home/buihuy/Intent-Detection/venv/lib/python3.7/site-packages/sklearn/multiclass.py:80: UserWarning: Label not 0 is present in all training examples.\n",
      "  \"Label %s is present in all training examples.\" % str(classes[c])\n",
      "/home/buihuy/Intent-Detection/venv/lib/python3.7/site-packages/sklearn/multiclass.py:80: UserWarning: Label not 25 is present in all training examples.\n",
      "  \"Label %s is present in all training examples.\" % str(classes[c])\n",
      "/home/buihuy/Intent-Detection/venv/lib/python3.7/site-packages/sklearn/multiclass.py:80: UserWarning: Label not 25 is present in all training examples.\n",
      "  \"Label %s is present in all training examples.\" % str(classes[c])\n",
      "/home/buihuy/Intent-Detection/venv/lib/python3.7/site-packages/sklearn/multiclass.py:80: UserWarning: Label not 25 is present in all training examples.\n",
      "  \"Label %s is present in all training examples.\" % str(classes[c])\n",
      "/home/buihuy/Intent-Detection/venv/lib/python3.7/site-packages/sklearn/multiclass.py:80: UserWarning: Label not 0 is present in all training examples.\n",
      "  \"Label %s is present in all training examples.\" % str(classes[c])\n",
      "/home/buihuy/Intent-Detection/venv/lib/python3.7/site-packages/sklearn/multiclass.py:80: UserWarning: Label not 0 is present in all training examples.\n",
      "  \"Label %s is present in all training examples.\" % str(classes[c])\n",
      "/home/buihuy/Intent-Detection/venv/lib/python3.7/site-packages/sklearn/multiclass.py:80: UserWarning: Label not 0 is present in all training examples.\n",
      "  \"Label %s is present in all training examples.\" % str(classes[c])\n",
      "/home/buihuy/Intent-Detection/venv/lib/python3.7/site-packages/sklearn/multiclass.py:80: UserWarning: Label not 25 is present in all training examples.\n",
      "  \"Label %s is present in all training examples.\" % str(classes[c])\n",
      "/home/buihuy/Intent-Detection/venv/lib/python3.7/site-packages/sklearn/multiclass.py:80: UserWarning: Label not 0 is present in all training examples.\n",
      "  \"Label %s is present in all training examples.\" % str(classes[c])\n",
      "/home/buihuy/Intent-Detection/venv/lib/python3.7/site-packages/sklearn/multiclass.py:80: UserWarning: Label not 0 is present in all training examples.\n",
      "  \"Label %s is present in all training examples.\" % str(classes[c])\n",
      "/home/buihuy/Intent-Detection/venv/lib/python3.7/site-packages/sklearn/multiclass.py:80: UserWarning: Label not 0 is present in all training examples.\n",
      "  \"Label %s is present in all training examples.\" % str(classes[c])\n",
      "/home/buihuy/Intent-Detection/venv/lib/python3.7/site-packages/sklearn/multiclass.py:80: UserWarning: Label not 25 is present in all training examples.\n",
      "  \"Label %s is present in all training examples.\" % str(classes[c])\n",
      "/home/buihuy/Intent-Detection/venv/lib/python3.7/site-packages/sklearn/multiclass.py:80: UserWarning: Label not 25 is present in all training examples.\n",
      "  \"Label %s is present in all training examples.\" % str(classes[c])\n",
      "/home/buihuy/Intent-Detection/venv/lib/python3.7/site-packages/sklearn/multiclass.py:80: UserWarning: Label not 0 is present in all training examples.\n",
      "  \"Label %s is present in all training examples.\" % str(classes[c])\n",
      "/home/buihuy/Intent-Detection/venv/lib/python3.7/site-packages/sklearn/multiclass.py:80: UserWarning: Label not 0 is present in all training examples.\n",
      "  \"Label %s is present in all training examples.\" % str(classes[c])\n",
      "/home/buihuy/Intent-Detection/venv/lib/python3.7/site-packages/sklearn/multiclass.py:80: UserWarning: Label not 25 is present in all training examples.\n",
      "  \"Label %s is present in all training examples.\" % str(classes[c])\n",
      "/home/buihuy/Intent-Detection/venv/lib/python3.7/site-packages/sklearn/multiclass.py:80: UserWarning: Label not 0 is present in all training examples.\n",
      "  \"Label %s is present in all training examples.\" % str(classes[c])\n",
      "/home/buihuy/Intent-Detection/venv/lib/python3.7/site-packages/sklearn/multiclass.py:80: UserWarning: Label not 0 is present in all training examples.\n",
      "  \"Label %s is present in all training examples.\" % str(classes[c])\n",
      "/home/buihuy/Intent-Detection/venv/lib/python3.7/site-packages/sklearn/multiclass.py:80: UserWarning: Label not 0 is present in all training examples.\n",
      "  \"Label %s is present in all training examples.\" % str(classes[c])\n",
      "/home/buihuy/Intent-Detection/venv/lib/python3.7/site-packages/sklearn/multiclass.py:80: UserWarning: Label not 25 is present in all training examples.\n",
      "  \"Label %s is present in all training examples.\" % str(classes[c])\n",
      "/home/buihuy/Intent-Detection/venv/lib/python3.7/site-packages/sklearn/multiclass.py:80: UserWarning: Label not 25 is present in all training examples.\n",
      "  \"Label %s is present in all training examples.\" % str(classes[c])\n",
      "/home/buihuy/Intent-Detection/venv/lib/python3.7/site-packages/sklearn/multiclass.py:80: UserWarning: Label not 0 is present in all training examples.\n",
      "  \"Label %s is present in all training examples.\" % str(classes[c])\n",
      "/home/buihuy/Intent-Detection/venv/lib/python3.7/site-packages/sklearn/multiclass.py:80: UserWarning: Label not 25 is present in all training examples.\n",
      "  \"Label %s is present in all training examples.\" % str(classes[c])\n",
      "/home/buihuy/Intent-Detection/venv/lib/python3.7/site-packages/sklearn/multiclass.py:80: UserWarning: Label not 25 is present in all training examples.\n",
      "  \"Label %s is present in all training examples.\" % str(classes[c])\n",
      "/home/buihuy/Intent-Detection/venv/lib/python3.7/site-packages/sklearn/multiclass.py:80: UserWarning: Label not 25 is present in all training examples.\n",
      "  \"Label %s is present in all training examples.\" % str(classes[c])\n",
      "/home/buihuy/Intent-Detection/venv/lib/python3.7/site-packages/sklearn/multiclass.py:80: UserWarning: Label not 0 is present in all training examples.\n",
      "  \"Label %s is present in all training examples.\" % str(classes[c])\n",
      "/home/buihuy/Intent-Detection/venv/lib/python3.7/site-packages/sklearn/multiclass.py:80: UserWarning: Label not 0 is present in all training examples.\n",
      "  \"Label %s is present in all training examples.\" % str(classes[c])\n",
      "/home/buihuy/Intent-Detection/venv/lib/python3.7/site-packages/sklearn/multiclass.py:80: UserWarning: Label not 0 is present in all training examples.\n",
      "  \"Label %s is present in all training examples.\" % str(classes[c])\n",
      "/home/buihuy/Intent-Detection/venv/lib/python3.7/site-packages/sklearn/multiclass.py:80: UserWarning: Label not 25 is present in all training examples.\n",
      "  \"Label %s is present in all training examples.\" % str(classes[c])\n",
      "/home/buihuy/Intent-Detection/venv/lib/python3.7/site-packages/sklearn/multiclass.py:80: UserWarning: Label not 25 is present in all training examples.\n",
      "  \"Label %s is present in all training examples.\" % str(classes[c])\n",
      "/home/buihuy/Intent-Detection/venv/lib/python3.7/site-packages/sklearn/multiclass.py:80: UserWarning: Label not 0 is present in all training examples.\n",
      "  \"Label %s is present in all training examples.\" % str(classes[c])\n",
      "/home/buihuy/Intent-Detection/venv/lib/python3.7/site-packages/sklearn/multiclass.py:80: UserWarning: Label not 0 is present in all training examples.\n",
      "  \"Label %s is present in all training examples.\" % str(classes[c])\n",
      "/home/buihuy/Intent-Detection/venv/lib/python3.7/site-packages/sklearn/multiclass.py:80: UserWarning: Label not 25 is present in all training examples.\n",
      "  \"Label %s is present in all training examples.\" % str(classes[c])\n",
      "/home/buihuy/Intent-Detection/venv/lib/python3.7/site-packages/sklearn/multiclass.py:80: UserWarning: Label not 25 is present in all training examples.\n",
      "  \"Label %s is present in all training examples.\" % str(classes[c])\n",
      "/home/buihuy/Intent-Detection/venv/lib/python3.7/site-packages/sklearn/multiclass.py:80: UserWarning: Label not 0 is present in all training examples.\n",
      "  \"Label %s is present in all training examples.\" % str(classes[c])\n",
      "/home/buihuy/Intent-Detection/venv/lib/python3.7/site-packages/sklearn/multiclass.py:80: UserWarning: Label not 0 is present in all training examples.\n",
      "  \"Label %s is present in all training examples.\" % str(classes[c])\n",
      "/home/buihuy/Intent-Detection/venv/lib/python3.7/site-packages/sklearn/multiclass.py:80: UserWarning: Label not 25 is present in all training examples.\n",
      "  \"Label %s is present in all training examples.\" % str(classes[c])\n",
      "/home/buihuy/Intent-Detection/venv/lib/python3.7/site-packages/sklearn/multiclass.py:80: UserWarning: Label not 25 is present in all training examples.\n",
      "  \"Label %s is present in all training examples.\" % str(classes[c])\n",
      "/home/buihuy/Intent-Detection/venv/lib/python3.7/site-packages/sklearn/multiclass.py:80: UserWarning: Label not 0 is present in all training examples.\n",
      "  \"Label %s is present in all training examples.\" % str(classes[c])\n",
      "/home/buihuy/Intent-Detection/venv/lib/python3.7/site-packages/sklearn/multiclass.py:80: UserWarning: Label not 25 is present in all training examples.\n",
      "  \"Label %s is present in all training examples.\" % str(classes[c])\n",
      "/home/buihuy/Intent-Detection/venv/lib/python3.7/site-packages/sklearn/multiclass.py:80: UserWarning: Label not 0 is present in all training examples.\n",
      "  \"Label %s is present in all training examples.\" % str(classes[c])\n",
      "/home/buihuy/Intent-Detection/venv/lib/python3.7/site-packages/sklearn/multiclass.py:80: UserWarning: Label not 25 is present in all training examples.\n",
      "  \"Label %s is present in all training examples.\" % str(classes[c])\n",
      "/home/buihuy/Intent-Detection/venv/lib/python3.7/site-packages/sklearn/multiclass.py:80: UserWarning: Label not 0 is present in all training examples.\n",
      "  \"Label %s is present in all training examples.\" % str(classes[c])\n",
      "/home/buihuy/Intent-Detection/venv/lib/python3.7/site-packages/sklearn/multiclass.py:80: UserWarning: Label not 0 is present in all training examples.\n",
      "  \"Label %s is present in all training examples.\" % str(classes[c])\n",
      "/home/buihuy/Intent-Detection/venv/lib/python3.7/site-packages/sklearn/multiclass.py:80: UserWarning: Label not 25 is present in all training examples.\n",
      "  \"Label %s is present in all training examples.\" % str(classes[c])\n",
      "/home/buihuy/Intent-Detection/venv/lib/python3.7/site-packages/sklearn/multiclass.py:80: UserWarning: Label not 25 is present in all training examples.\n",
      "  \"Label %s is present in all training examples.\" % str(classes[c])\n",
      "/home/buihuy/Intent-Detection/venv/lib/python3.7/site-packages/sklearn/multiclass.py:80: UserWarning: Label not 0 is present in all training examples.\n",
      "  \"Label %s is present in all training examples.\" % str(classes[c])\n",
      "/home/buihuy/Intent-Detection/venv/lib/python3.7/site-packages/sklearn/multiclass.py:80: UserWarning: Label not 25 is present in all training examples.\n",
      "  \"Label %s is present in all training examples.\" % str(classes[c])\n",
      "/home/buihuy/Intent-Detection/venv/lib/python3.7/site-packages/sklearn/multiclass.py:80: UserWarning: Label not 25 is present in all training examples.\n",
      "  \"Label %s is present in all training examples.\" % str(classes[c])\n",
      "/home/buihuy/Intent-Detection/venv/lib/python3.7/site-packages/sklearn/multiclass.py:80: UserWarning: Label not 0 is present in all training examples.\n",
      "  \"Label %s is present in all training examples.\" % str(classes[c])\n",
      "/home/buihuy/Intent-Detection/venv/lib/python3.7/site-packages/sklearn/multiclass.py:80: UserWarning: Label not 0 is present in all training examples.\n",
      "  \"Label %s is present in all training examples.\" % str(classes[c])\n",
      "/home/buihuy/Intent-Detection/venv/lib/python3.7/site-packages/sklearn/multiclass.py:80: UserWarning: Label not 25 is present in all training examples.\n",
      "  \"Label %s is present in all training examples.\" % str(classes[c])\n",
      "/home/buihuy/Intent-Detection/venv/lib/python3.7/site-packages/sklearn/multiclass.py:80: UserWarning: Label not 25 is present in all training examples.\n",
      "  \"Label %s is present in all training examples.\" % str(classes[c])\n",
      "/home/buihuy/Intent-Detection/venv/lib/python3.7/site-packages/sklearn/multiclass.py:80: UserWarning: Label not 0 is present in all training examples.\n",
      "  \"Label %s is present in all training examples.\" % str(classes[c])\n",
      "/home/buihuy/Intent-Detection/venv/lib/python3.7/site-packages/sklearn/multiclass.py:80: UserWarning: Label not 25 is present in all training examples.\n",
      "  \"Label %s is present in all training examples.\" % str(classes[c])\n",
      "/home/buihuy/Intent-Detection/venv/lib/python3.7/site-packages/sklearn/multiclass.py:80: UserWarning: Label not 0 is present in all training examples.\n",
      "  \"Label %s is present in all training examples.\" % str(classes[c])\n",
      "/home/buihuy/Intent-Detection/venv/lib/python3.7/site-packages/sklearn/multiclass.py:80: UserWarning: Label not 0 is present in all training examples.\n",
      "  \"Label %s is present in all training examples.\" % str(classes[c])\n",
      "/home/buihuy/Intent-Detection/venv/lib/python3.7/site-packages/sklearn/multiclass.py:80: UserWarning: Label not 25 is present in all training examples.\n",
      "  \"Label %s is present in all training examples.\" % str(classes[c])\n",
      "/home/buihuy/Intent-Detection/venv/lib/python3.7/site-packages/sklearn/multiclass.py:80: UserWarning: Label not 25 is present in all training examples.\n",
      "  \"Label %s is present in all training examples.\" % str(classes[c])\n",
      "/home/buihuy/Intent-Detection/venv/lib/python3.7/site-packages/sklearn/multiclass.py:80: UserWarning: Label not 0 is present in all training examples.\n",
      "  \"Label %s is present in all training examples.\" % str(classes[c])\n",
      "/home/buihuy/Intent-Detection/venv/lib/python3.7/site-packages/sklearn/multiclass.py:80: UserWarning: Label not 0 is present in all training examples.\n",
      "  \"Label %s is present in all training examples.\" % str(classes[c])\n",
      "/home/buihuy/Intent-Detection/venv/lib/python3.7/site-packages/sklearn/multiclass.py:80: UserWarning: Label not 25 is present in all training examples.\n",
      "  \"Label %s is present in all training examples.\" % str(classes[c])\n",
      "/home/buihuy/Intent-Detection/venv/lib/python3.7/site-packages/sklearn/multiclass.py:80: UserWarning: Label not 25 is present in all training examples.\n",
      "  \"Label %s is present in all training examples.\" % str(classes[c])\n",
      "/home/buihuy/Intent-Detection/venv/lib/python3.7/site-packages/sklearn/multiclass.py:80: UserWarning: Label not 0 is present in all training examples.\n",
      "  \"Label %s is present in all training examples.\" % str(classes[c])\n",
      "/home/buihuy/Intent-Detection/venv/lib/python3.7/site-packages/sklearn/multiclass.py:80: UserWarning: Label not 0 is present in all training examples.\n",
      "  \"Label %s is present in all training examples.\" % str(classes[c])\n",
      "/home/buihuy/Intent-Detection/venv/lib/python3.7/site-packages/sklearn/multiclass.py:80: UserWarning: Label not 25 is present in all training examples.\n",
      "  \"Label %s is present in all training examples.\" % str(classes[c])\n",
      "/home/buihuy/Intent-Detection/venv/lib/python3.7/site-packages/sklearn/multiclass.py:80: UserWarning: Label not 25 is present in all training examples.\n",
      "  \"Label %s is present in all training examples.\" % str(classes[c])\n",
      "/home/buihuy/Intent-Detection/venv/lib/python3.7/site-packages/sklearn/multiclass.py:80: UserWarning: Label not 0 is present in all training examples.\n",
      "  \"Label %s is present in all training examples.\" % str(classes[c])\n",
      "/home/buihuy/Intent-Detection/venv/lib/python3.7/site-packages/sklearn/multiclass.py:80: UserWarning: Label not 0 is present in all training examples.\n",
      "  \"Label %s is present in all training examples.\" % str(classes[c])\n",
      "/home/buihuy/Intent-Detection/venv/lib/python3.7/site-packages/sklearn/multiclass.py:80: UserWarning: Label not 25 is present in all training examples.\n",
      "  \"Label %s is present in all training examples.\" % str(classes[c])\n",
      "/home/buihuy/Intent-Detection/venv/lib/python3.7/site-packages/sklearn/multiclass.py:80: UserWarning: Label not 0 is present in all training examples.\n",
      "  \"Label %s is present in all training examples.\" % str(classes[c])\n",
      "/home/buihuy/Intent-Detection/venv/lib/python3.7/site-packages/sklearn/multiclass.py:80: UserWarning: Label not 25 is present in all training examples.\n",
      "  \"Label %s is present in all training examples.\" % str(classes[c])\n",
      "/home/buihuy/Intent-Detection/venv/lib/python3.7/site-packages/sklearn/multiclass.py:80: UserWarning: Label not 25 is present in all training examples.\n",
      "  \"Label %s is present in all training examples.\" % str(classes[c])\n",
      "/home/buihuy/Intent-Detection/venv/lib/python3.7/site-packages/sklearn/multiclass.py:80: UserWarning: Label not 0 is present in all training examples.\n",
      "  \"Label %s is present in all training examples.\" % str(classes[c])\n",
      "/home/buihuy/Intent-Detection/venv/lib/python3.7/site-packages/sklearn/multiclass.py:80: UserWarning: Label not 25 is present in all training examples.\n",
      "  \"Label %s is present in all training examples.\" % str(classes[c])\n",
      "/home/buihuy/Intent-Detection/venv/lib/python3.7/site-packages/sklearn/multiclass.py:80: UserWarning: Label not 0 is present in all training examples.\n",
      "  \"Label %s is present in all training examples.\" % str(classes[c])\n",
      "/home/buihuy/Intent-Detection/venv/lib/python3.7/site-packages/sklearn/multiclass.py:80: UserWarning: Label not 0 is present in all training examples.\n",
      "  \"Label %s is present in all training examples.\" % str(classes[c])\n",
      "/home/buihuy/Intent-Detection/venv/lib/python3.7/site-packages/sklearn/multiclass.py:80: UserWarning: Label not 25 is present in all training examples.\n",
      "  \"Label %s is present in all training examples.\" % str(classes[c])\n",
      "/home/buihuy/Intent-Detection/venv/lib/python3.7/site-packages/sklearn/multiclass.py:80: UserWarning: Label not 0 is present in all training examples.\n",
      "  \"Label %s is present in all training examples.\" % str(classes[c])\n",
      "/home/buihuy/Intent-Detection/venv/lib/python3.7/site-packages/sklearn/multiclass.py:80: UserWarning: Label not 25 is present in all training examples.\n",
      "  \"Label %s is present in all training examples.\" % str(classes[c])\n",
      "/home/buihuy/Intent-Detection/venv/lib/python3.7/site-packages/sklearn/multiclass.py:80: UserWarning: Label not 25 is present in all training examples.\n",
      "  \"Label %s is present in all training examples.\" % str(classes[c])\n",
      "/home/buihuy/Intent-Detection/venv/lib/python3.7/site-packages/sklearn/multiclass.py:80: UserWarning: Label not 0 is present in all training examples.\n",
      "  \"Label %s is present in all training examples.\" % str(classes[c])\n",
      "/home/buihuy/Intent-Detection/venv/lib/python3.7/site-packages/sklearn/multiclass.py:80: UserWarning: Label not 0 is present in all training examples.\n",
      "  \"Label %s is present in all training examples.\" % str(classes[c])\n",
      "/home/buihuy/Intent-Detection/venv/lib/python3.7/site-packages/sklearn/multiclass.py:80: UserWarning: Label not 25 is present in all training examples.\n",
      "  \"Label %s is present in all training examples.\" % str(classes[c])\n",
      "/home/buihuy/Intent-Detection/venv/lib/python3.7/site-packages/sklearn/multiclass.py:80: UserWarning: Label not 25 is present in all training examples.\n",
      "  \"Label %s is present in all training examples.\" % str(classes[c])\n",
      "/home/buihuy/Intent-Detection/venv/lib/python3.7/site-packages/sklearn/multiclass.py:80: UserWarning: Label not 25 is present in all training examples.\n",
      "  \"Label %s is present in all training examples.\" % str(classes[c])\n",
      "/home/buihuy/Intent-Detection/venv/lib/python3.7/site-packages/sklearn/multiclass.py:80: UserWarning: Label not 25 is present in all training examples.\n",
      "  \"Label %s is present in all training examples.\" % str(classes[c])\n",
      "/home/buihuy/Intent-Detection/venv/lib/python3.7/site-packages/sklearn/multiclass.py:80: UserWarning: Label not 25 is present in all training examples.\n",
      "  \"Label %s is present in all training examples.\" % str(classes[c])\n",
      "/home/buihuy/Intent-Detection/venv/lib/python3.7/site-packages/sklearn/multiclass.py:80: UserWarning: Label not 0 is present in all training examples.\n",
      "  \"Label %s is present in all training examples.\" % str(classes[c])\n",
      "/home/buihuy/Intent-Detection/venv/lib/python3.7/site-packages/sklearn/multiclass.py:80: UserWarning: Label not 0 is present in all training examples.\n",
      "  \"Label %s is present in all training examples.\" % str(classes[c])\n",
      "/home/buihuy/Intent-Detection/venv/lib/python3.7/site-packages/sklearn/multiclass.py:80: UserWarning: Label not 25 is present in all training examples.\n",
      "  \"Label %s is present in all training examples.\" % str(classes[c])\n",
      "/home/buihuy/Intent-Detection/venv/lib/python3.7/site-packages/sklearn/multiclass.py:80: UserWarning: Label not 0 is present in all training examples.\n",
      "  \"Label %s is present in all training examples.\" % str(classes[c])\n",
      "/home/buihuy/Intent-Detection/venv/lib/python3.7/site-packages/sklearn/multiclass.py:80: UserWarning: Label not 0 is present in all training examples.\n",
      "  \"Label %s is present in all training examples.\" % str(classes[c])\n",
      "/home/buihuy/Intent-Detection/venv/lib/python3.7/site-packages/sklearn/multiclass.py:80: UserWarning: Label not 25 is present in all training examples.\n",
      "  \"Label %s is present in all training examples.\" % str(classes[c])\n",
      "/home/buihuy/Intent-Detection/venv/lib/python3.7/site-packages/sklearn/multiclass.py:80: UserWarning: Label not 25 is present in all training examples.\n",
      "  \"Label %s is present in all training examples.\" % str(classes[c])\n",
      "/home/buihuy/Intent-Detection/venv/lib/python3.7/site-packages/sklearn/multiclass.py:80: UserWarning: Label not 25 is present in all training examples.\n",
      "  \"Label %s is present in all training examples.\" % str(classes[c])\n",
      "/home/buihuy/Intent-Detection/venv/lib/python3.7/site-packages/sklearn/multiclass.py:80: UserWarning: Label not 0 is present in all training examples.\n",
      "  \"Label %s is present in all training examples.\" % str(classes[c])\n",
      "/home/buihuy/Intent-Detection/venv/lib/python3.7/site-packages/sklearn/multiclass.py:80: UserWarning: Label not 0 is present in all training examples.\n",
      "  \"Label %s is present in all training examples.\" % str(classes[c])\n",
      "/home/buihuy/Intent-Detection/venv/lib/python3.7/site-packages/sklearn/multiclass.py:80: UserWarning: Label not 25 is present in all training examples.\n",
      "  \"Label %s is present in all training examples.\" % str(classes[c])\n",
      "/home/buihuy/Intent-Detection/venv/lib/python3.7/site-packages/sklearn/multiclass.py:80: UserWarning: Label not 25 is present in all training examples.\n",
      "  \"Label %s is present in all training examples.\" % str(classes[c])\n",
      "/home/buihuy/Intent-Detection/venv/lib/python3.7/site-packages/sklearn/multiclass.py:80: UserWarning: Label not 0 is present in all training examples.\n",
      "  \"Label %s is present in all training examples.\" % str(classes[c])\n",
      "/home/buihuy/Intent-Detection/venv/lib/python3.7/site-packages/sklearn/multiclass.py:80: UserWarning: Label not 25 is present in all training examples.\n",
      "  \"Label %s is present in all training examples.\" % str(classes[c])\n",
      "/home/buihuy/Intent-Detection/venv/lib/python3.7/site-packages/sklearn/multiclass.py:80: UserWarning: Label not 0 is present in all training examples.\n",
      "  \"Label %s is present in all training examples.\" % str(classes[c])\n",
      "/home/buihuy/Intent-Detection/venv/lib/python3.7/site-packages/sklearn/multiclass.py:80: UserWarning: Label not 0 is present in all training examples.\n",
      "  \"Label %s is present in all training examples.\" % str(classes[c])\n",
      "/home/buihuy/Intent-Detection/venv/lib/python3.7/site-packages/sklearn/multiclass.py:80: UserWarning: Label not 25 is present in all training examples.\n",
      "  \"Label %s is present in all training examples.\" % str(classes[c])\n",
      "/home/buihuy/Intent-Detection/venv/lib/python3.7/site-packages/sklearn/multiclass.py:80: UserWarning: Label not 25 is present in all training examples.\n",
      "  \"Label %s is present in all training examples.\" % str(classes[c])\n",
      "/home/buihuy/Intent-Detection/venv/lib/python3.7/site-packages/sklearn/multiclass.py:80: UserWarning: Label not 0 is present in all training examples.\n",
      "  \"Label %s is present in all training examples.\" % str(classes[c])\n",
      "/home/buihuy/Intent-Detection/venv/lib/python3.7/site-packages/sklearn/multiclass.py:80: UserWarning: Label not 0 is present in all training examples.\n",
      "  \"Label %s is present in all training examples.\" % str(classes[c])\n",
      "/home/buihuy/Intent-Detection/venv/lib/python3.7/site-packages/sklearn/multiclass.py:80: UserWarning: Label not 25 is present in all training examples.\n",
      "  \"Label %s is present in all training examples.\" % str(classes[c])\n",
      "/home/buihuy/Intent-Detection/venv/lib/python3.7/site-packages/sklearn/multiclass.py:80: UserWarning: Label not 25 is present in all training examples.\n",
      "  \"Label %s is present in all training examples.\" % str(classes[c])\n",
      "/home/buihuy/Intent-Detection/venv/lib/python3.7/site-packages/sklearn/multiclass.py:80: UserWarning: Label not 0 is present in all training examples.\n",
      "  \"Label %s is present in all training examples.\" % str(classes[c])\n",
      "/home/buihuy/Intent-Detection/venv/lib/python3.7/site-packages/sklearn/multiclass.py:80: UserWarning: Label not 0 is present in all training examples.\n",
      "  \"Label %s is present in all training examples.\" % str(classes[c])\n",
      "/home/buihuy/Intent-Detection/venv/lib/python3.7/site-packages/sklearn/multiclass.py:80: UserWarning: Label not 25 is present in all training examples.\n",
      "  \"Label %s is present in all training examples.\" % str(classes[c])\n",
      "/home/buihuy/Intent-Detection/venv/lib/python3.7/site-packages/sklearn/multiclass.py:80: UserWarning: Label not 25 is present in all training examples.\n",
      "  \"Label %s is present in all training examples.\" % str(classes[c])\n",
      "/home/buihuy/Intent-Detection/venv/lib/python3.7/site-packages/sklearn/multiclass.py:80: UserWarning: Label not 0 is present in all training examples.\n",
      "  \"Label %s is present in all training examples.\" % str(classes[c])\n",
      "/home/buihuy/Intent-Detection/venv/lib/python3.7/site-packages/sklearn/multiclass.py:80: UserWarning: Label not 0 is present in all training examples.\n",
      "  \"Label %s is present in all training examples.\" % str(classes[c])\n",
      "/home/buihuy/Intent-Detection/venv/lib/python3.7/site-packages/sklearn/multiclass.py:80: UserWarning: Label not 25 is present in all training examples.\n",
      "  \"Label %s is present in all training examples.\" % str(classes[c])\n",
      "/home/buihuy/Intent-Detection/venv/lib/python3.7/site-packages/sklearn/multiclass.py:80: UserWarning: Label not 0 is present in all training examples.\n",
      "  \"Label %s is present in all training examples.\" % str(classes[c])\n",
      "/home/buihuy/Intent-Detection/venv/lib/python3.7/site-packages/sklearn/multiclass.py:80: UserWarning: Label not 0 is present in all training examples.\n",
      "  \"Label %s is present in all training examples.\" % str(classes[c])\n",
      "/home/buihuy/Intent-Detection/venv/lib/python3.7/site-packages/sklearn/multiclass.py:80: UserWarning: Label not 25 is present in all training examples.\n",
      "  \"Label %s is present in all training examples.\" % str(classes[c])\n",
      "/home/buihuy/Intent-Detection/venv/lib/python3.7/site-packages/sklearn/multiclass.py:80: UserWarning: Label not 25 is present in all training examples.\n",
      "  \"Label %s is present in all training examples.\" % str(classes[c])\n",
      "/home/buihuy/Intent-Detection/venv/lib/python3.7/site-packages/sklearn/multiclass.py:80: UserWarning: Label not 0 is present in all training examples.\n",
      "  \"Label %s is present in all training examples.\" % str(classes[c])\n",
      "/home/buihuy/Intent-Detection/venv/lib/python3.7/site-packages/sklearn/multiclass.py:80: UserWarning: Label not 0 is present in all training examples.\n",
      "  \"Label %s is present in all training examples.\" % str(classes[c])\n",
      "/home/buihuy/Intent-Detection/venv/lib/python3.7/site-packages/sklearn/multiclass.py:80: UserWarning: Label not 0 is present in all training examples.\n",
      "  \"Label %s is present in all training examples.\" % str(classes[c])\n",
      "/home/buihuy/Intent-Detection/venv/lib/python3.7/site-packages/sklearn/multiclass.py:80: UserWarning: Label not 25 is present in all training examples.\n",
      "  \"Label %s is present in all training examples.\" % str(classes[c])\n",
      "/home/buihuy/Intent-Detection/venv/lib/python3.7/site-packages/sklearn/multiclass.py:80: UserWarning: Label not 0 is present in all training examples.\n",
      "  \"Label %s is present in all training examples.\" % str(classes[c])\n",
      "/home/buihuy/Intent-Detection/venv/lib/python3.7/site-packages/sklearn/multiclass.py:80: UserWarning: Label not 25 is present in all training examples.\n",
      "  \"Label %s is present in all training examples.\" % str(classes[c])\n",
      "/home/buihuy/Intent-Detection/venv/lib/python3.7/site-packages/sklearn/multiclass.py:80: UserWarning: Label not 0 is present in all training examples.\n",
      "  \"Label %s is present in all training examples.\" % str(classes[c])\n",
      "/home/buihuy/Intent-Detection/venv/lib/python3.7/site-packages/sklearn/multiclass.py:80: UserWarning: Label not 0 is present in all training examples.\n",
      "  \"Label %s is present in all training examples.\" % str(classes[c])\n",
      "/home/buihuy/Intent-Detection/venv/lib/python3.7/site-packages/sklearn/multiclass.py:80: UserWarning: Label not 25 is present in all training examples.\n",
      "  \"Label %s is present in all training examples.\" % str(classes[c])\n",
      "/home/buihuy/Intent-Detection/venv/lib/python3.7/site-packages/sklearn/multiclass.py:80: UserWarning: Label not 25 is present in all training examples.\n",
      "  \"Label %s is present in all training examples.\" % str(classes[c])\n",
      "/home/buihuy/Intent-Detection/venv/lib/python3.7/site-packages/sklearn/multiclass.py:80: UserWarning: Label not 0 is present in all training examples.\n",
      "  \"Label %s is present in all training examples.\" % str(classes[c])\n",
      "/home/buihuy/Intent-Detection/venv/lib/python3.7/site-packages/sklearn/multiclass.py:80: UserWarning: Label not 0 is present in all training examples.\n",
      "  \"Label %s is present in all training examples.\" % str(classes[c])\n",
      "/home/buihuy/Intent-Detection/venv/lib/python3.7/site-packages/sklearn/multiclass.py:80: UserWarning: Label not 25 is present in all training examples.\n",
      "  \"Label %s is present in all training examples.\" % str(classes[c])\n",
      "/home/buihuy/Intent-Detection/venv/lib/python3.7/site-packages/sklearn/multiclass.py:80: UserWarning: Label not 25 is present in all training examples.\n",
      "  \"Label %s is present in all training examples.\" % str(classes[c])\n",
      "/home/buihuy/Intent-Detection/venv/lib/python3.7/site-packages/sklearn/multiclass.py:80: UserWarning: Label not 0 is present in all training examples.\n",
      "  \"Label %s is present in all training examples.\" % str(classes[c])\n",
      "/home/buihuy/Intent-Detection/venv/lib/python3.7/site-packages/sklearn/multiclass.py:80: UserWarning: Label not 25 is present in all training examples.\n",
      "  \"Label %s is present in all training examples.\" % str(classes[c])\n",
      "/home/buihuy/Intent-Detection/venv/lib/python3.7/site-packages/sklearn/multiclass.py:80: UserWarning: Label not 25 is present in all training examples.\n",
      "  \"Label %s is present in all training examples.\" % str(classes[c])\n",
      "/home/buihuy/Intent-Detection/venv/lib/python3.7/site-packages/sklearn/multiclass.py:80: UserWarning: Label not 0 is present in all training examples.\n",
      "  \"Label %s is present in all training examples.\" % str(classes[c])\n",
      "/home/buihuy/Intent-Detection/venv/lib/python3.7/site-packages/sklearn/multiclass.py:80: UserWarning: Label not 0 is present in all training examples.\n",
      "  \"Label %s is present in all training examples.\" % str(classes[c])\n",
      "/home/buihuy/Intent-Detection/venv/lib/python3.7/site-packages/sklearn/multiclass.py:80: UserWarning: Label not 25 is present in all training examples.\n",
      "  \"Label %s is present in all training examples.\" % str(classes[c])\n",
      "/home/buihuy/Intent-Detection/venv/lib/python3.7/site-packages/sklearn/multiclass.py:80: UserWarning: Label not 0 is present in all training examples.\n",
      "  \"Label %s is present in all training examples.\" % str(classes[c])\n",
      "/home/buihuy/Intent-Detection/venv/lib/python3.7/site-packages/sklearn/multiclass.py:80: UserWarning: Label not 25 is present in all training examples.\n",
      "  \"Label %s is present in all training examples.\" % str(classes[c])\n",
      "/home/buihuy/Intent-Detection/venv/lib/python3.7/site-packages/sklearn/multiclass.py:80: UserWarning: Label not 25 is present in all training examples.\n",
      "  \"Label %s is present in all training examples.\" % str(classes[c])\n",
      "/home/buihuy/Intent-Detection/venv/lib/python3.7/site-packages/sklearn/multiclass.py:80: UserWarning: Label not 0 is present in all training examples.\n",
      "  \"Label %s is present in all training examples.\" % str(classes[c])\n",
      "/home/buihuy/Intent-Detection/venv/lib/python3.7/site-packages/sklearn/multiclass.py:80: UserWarning: Label not 0 is present in all training examples.\n",
      "  \"Label %s is present in all training examples.\" % str(classes[c])\n",
      "/home/buihuy/Intent-Detection/venv/lib/python3.7/site-packages/sklearn/multiclass.py:80: UserWarning: Label not 25 is present in all training examples.\n",
      "  \"Label %s is present in all training examples.\" % str(classes[c])\n",
      "/home/buihuy/Intent-Detection/venv/lib/python3.7/site-packages/sklearn/multiclass.py:80: UserWarning: Label not 25 is present in all training examples.\n",
      "  \"Label %s is present in all training examples.\" % str(classes[c])\n",
      "/home/buihuy/Intent-Detection/venv/lib/python3.7/site-packages/sklearn/multiclass.py:80: UserWarning: Label not 0 is present in all training examples.\n",
      "  \"Label %s is present in all training examples.\" % str(classes[c])\n",
      "/home/buihuy/Intent-Detection/venv/lib/python3.7/site-packages/sklearn/multiclass.py:80: UserWarning: Label not 0 is present in all training examples.\n",
      "  \"Label %s is present in all training examples.\" % str(classes[c])\n",
      "/home/buihuy/Intent-Detection/venv/lib/python3.7/site-packages/sklearn/multiclass.py:80: UserWarning: Label not 25 is present in all training examples.\n",
      "  \"Label %s is present in all training examples.\" % str(classes[c])\n",
      "/home/buihuy/Intent-Detection/venv/lib/python3.7/site-packages/sklearn/multiclass.py:80: UserWarning: Label not 25 is present in all training examples.\n",
      "  \"Label %s is present in all training examples.\" % str(classes[c])\n",
      "/home/buihuy/Intent-Detection/venv/lib/python3.7/site-packages/sklearn/multiclass.py:80: UserWarning: Label not 0 is present in all training examples.\n",
      "  \"Label %s is present in all training examples.\" % str(classes[c])\n",
      "/home/buihuy/Intent-Detection/venv/lib/python3.7/site-packages/sklearn/multiclass.py:80: UserWarning: Label not 0 is present in all training examples.\n",
      "  \"Label %s is present in all training examples.\" % str(classes[c])\n",
      "/home/buihuy/Intent-Detection/venv/lib/python3.7/site-packages/sklearn/multiclass.py:80: UserWarning: Label not 25 is present in all training examples.\n",
      "  \"Label %s is present in all training examples.\" % str(classes[c])\n",
      "/home/buihuy/Intent-Detection/venv/lib/python3.7/site-packages/sklearn/multiclass.py:80: UserWarning: Label not 0 is present in all training examples.\n",
      "  \"Label %s is present in all training examples.\" % str(classes[c])\n",
      "/home/buihuy/Intent-Detection/venv/lib/python3.7/site-packages/sklearn/multiclass.py:80: UserWarning: Label not 25 is present in all training examples.\n",
      "  \"Label %s is present in all training examples.\" % str(classes[c])\n",
      "/home/buihuy/Intent-Detection/venv/lib/python3.7/site-packages/sklearn/multiclass.py:80: UserWarning: Label not 0 is present in all training examples.\n",
      "  \"Label %s is present in all training examples.\" % str(classes[c])\n",
      "/home/buihuy/Intent-Detection/venv/lib/python3.7/site-packages/sklearn/multiclass.py:80: UserWarning: Label not 25 is present in all training examples.\n",
      "  \"Label %s is present in all training examples.\" % str(classes[c])\n",
      "/home/buihuy/Intent-Detection/venv/lib/python3.7/site-packages/sklearn/multiclass.py:80: UserWarning: Label not 0 is present in all training examples.\n",
      "  \"Label %s is present in all training examples.\" % str(classes[c])\n",
      "/home/buihuy/Intent-Detection/venv/lib/python3.7/site-packages/sklearn/multiclass.py:80: UserWarning: Label not 25 is present in all training examples.\n",
      "  \"Label %s is present in all training examples.\" % str(classes[c])\n",
      "/home/buihuy/Intent-Detection/venv/lib/python3.7/site-packages/sklearn/multiclass.py:80: UserWarning: Label not 0 is present in all training examples.\n",
      "  \"Label %s is present in all training examples.\" % str(classes[c])\n",
      "/home/buihuy/Intent-Detection/venv/lib/python3.7/site-packages/sklearn/multiclass.py:80: UserWarning: Label not 0 is present in all training examples.\n",
      "  \"Label %s is present in all training examples.\" % str(classes[c])\n",
      "/home/buihuy/Intent-Detection/venv/lib/python3.7/site-packages/sklearn/multiclass.py:80: UserWarning: Label not 25 is present in all training examples.\n",
      "  \"Label %s is present in all training examples.\" % str(classes[c])\n",
      "/home/buihuy/Intent-Detection/venv/lib/python3.7/site-packages/sklearn/multiclass.py:80: UserWarning: Label not 25 is present in all training examples.\n",
      "  \"Label %s is present in all training examples.\" % str(classes[c])\n",
      "/home/buihuy/Intent-Detection/venv/lib/python3.7/site-packages/sklearn/multiclass.py:80: UserWarning: Label not 0 is present in all training examples.\n",
      "  \"Label %s is present in all training examples.\" % str(classes[c])\n",
      "/home/buihuy/Intent-Detection/venv/lib/python3.7/site-packages/sklearn/multiclass.py:80: UserWarning: Label not 0 is present in all training examples.\n",
      "  \"Label %s is present in all training examples.\" % str(classes[c])\n",
      "/home/buihuy/Intent-Detection/venv/lib/python3.7/site-packages/sklearn/multiclass.py:80: UserWarning: Label not 25 is present in all training examples.\n",
      "  \"Label %s is present in all training examples.\" % str(classes[c])\n",
      "/home/buihuy/Intent-Detection/venv/lib/python3.7/site-packages/sklearn/multiclass.py:80: UserWarning: Label not 25 is present in all training examples.\n",
      "  \"Label %s is present in all training examples.\" % str(classes[c])\n",
      "/home/buihuy/Intent-Detection/venv/lib/python3.7/site-packages/sklearn/multiclass.py:80: UserWarning: Label not 0 is present in all training examples.\n",
      "  \"Label %s is present in all training examples.\" % str(classes[c])\n",
      "/home/buihuy/Intent-Detection/venv/lib/python3.7/site-packages/sklearn/multiclass.py:80: UserWarning: Label not 0 is present in all training examples.\n",
      "  \"Label %s is present in all training examples.\" % str(classes[c])\n",
      "/home/buihuy/Intent-Detection/venv/lib/python3.7/site-packages/sklearn/multiclass.py:80: UserWarning: Label not 25 is present in all training examples.\n",
      "  \"Label %s is present in all training examples.\" % str(classes[c])\n",
      "/home/buihuy/Intent-Detection/venv/lib/python3.7/site-packages/sklearn/multiclass.py:80: UserWarning: Label not 0 is present in all training examples.\n",
      "  \"Label %s is present in all training examples.\" % str(classes[c])\n",
      "/home/buihuy/Intent-Detection/venv/lib/python3.7/site-packages/sklearn/multiclass.py:80: UserWarning: Label not 0 is present in all training examples.\n",
      "  \"Label %s is present in all training examples.\" % str(classes[c])\n",
      "/home/buihuy/Intent-Detection/venv/lib/python3.7/site-packages/sklearn/multiclass.py:80: UserWarning: Label not 25 is present in all training examples.\n",
      "  \"Label %s is present in all training examples.\" % str(classes[c])\n",
      "/home/buihuy/Intent-Detection/venv/lib/python3.7/site-packages/sklearn/multiclass.py:80: UserWarning: Label not 0 is present in all training examples.\n",
      "  \"Label %s is present in all training examples.\" % str(classes[c])\n",
      "/home/buihuy/Intent-Detection/venv/lib/python3.7/site-packages/sklearn/multiclass.py:80: UserWarning: Label not 0 is present in all training examples.\n",
      "  \"Label %s is present in all training examples.\" % str(classes[c])\n",
      "/home/buihuy/Intent-Detection/venv/lib/python3.7/site-packages/sklearn/multiclass.py:80: UserWarning: Label not 25 is present in all training examples.\n",
      "  \"Label %s is present in all training examples.\" % str(classes[c])\n",
      "/home/buihuy/Intent-Detection/venv/lib/python3.7/site-packages/sklearn/multiclass.py:80: UserWarning: Label not 25 is present in all training examples.\n",
      "  \"Label %s is present in all training examples.\" % str(classes[c])\n",
      "/home/buihuy/Intent-Detection/venv/lib/python3.7/site-packages/sklearn/multiclass.py:80: UserWarning: Label not 0 is present in all training examples.\n",
      "  \"Label %s is present in all training examples.\" % str(classes[c])\n",
      "/home/buihuy/Intent-Detection/venv/lib/python3.7/site-packages/sklearn/multiclass.py:80: UserWarning: Label not 25 is present in all training examples.\n",
      "  \"Label %s is present in all training examples.\" % str(classes[c])\n",
      "/home/buihuy/Intent-Detection/venv/lib/python3.7/site-packages/sklearn/multiclass.py:80: UserWarning: Label not 0 is present in all training examples.\n",
      "  \"Label %s is present in all training examples.\" % str(classes[c])\n",
      "/home/buihuy/Intent-Detection/venv/lib/python3.7/site-packages/sklearn/multiclass.py:80: UserWarning: Label not 0 is present in all training examples.\n",
      "  \"Label %s is present in all training examples.\" % str(classes[c])\n",
      "/home/buihuy/Intent-Detection/venv/lib/python3.7/site-packages/sklearn/multiclass.py:80: UserWarning: Label not 25 is present in all training examples.\n",
      "  \"Label %s is present in all training examples.\" % str(classes[c])\n",
      "/home/buihuy/Intent-Detection/venv/lib/python3.7/site-packages/sklearn/multiclass.py:80: UserWarning: Label not 25 is present in all training examples.\n",
      "  \"Label %s is present in all training examples.\" % str(classes[c])\n",
      "/home/buihuy/Intent-Detection/venv/lib/python3.7/site-packages/sklearn/multiclass.py:80: UserWarning: Label not 0 is present in all training examples.\n",
      "  \"Label %s is present in all training examples.\" % str(classes[c])\n",
      "/home/buihuy/Intent-Detection/venv/lib/python3.7/site-packages/sklearn/multiclass.py:80: UserWarning: Label not 0 is present in all training examples.\n",
      "  \"Label %s is present in all training examples.\" % str(classes[c])\n",
      "/home/buihuy/Intent-Detection/venv/lib/python3.7/site-packages/sklearn/multiclass.py:80: UserWarning: Label not 25 is present in all training examples.\n",
      "  \"Label %s is present in all training examples.\" % str(classes[c])\n",
      "/home/buihuy/Intent-Detection/venv/lib/python3.7/site-packages/sklearn/multiclass.py:80: UserWarning: Label not 25 is present in all training examples.\n",
      "  \"Label %s is present in all training examples.\" % str(classes[c])\n",
      "/home/buihuy/Intent-Detection/venv/lib/python3.7/site-packages/sklearn/multiclass.py:80: UserWarning: Label not 0 is present in all training examples.\n",
      "  \"Label %s is present in all training examples.\" % str(classes[c])\n",
      "/home/buihuy/Intent-Detection/venv/lib/python3.7/site-packages/sklearn/multiclass.py:80: UserWarning: Label not 0 is present in all training examples.\n",
      "  \"Label %s is present in all training examples.\" % str(classes[c])\n",
      "/home/buihuy/Intent-Detection/venv/lib/python3.7/site-packages/sklearn/multiclass.py:80: UserWarning: Label not 25 is present in all training examples.\n",
      "  \"Label %s is present in all training examples.\" % str(classes[c])\n",
      "/home/buihuy/Intent-Detection/venv/lib/python3.7/site-packages/sklearn/multiclass.py:80: UserWarning: Label not 25 is present in all training examples.\n",
      "  \"Label %s is present in all training examples.\" % str(classes[c])\n",
      "/home/buihuy/Intent-Detection/venv/lib/python3.7/site-packages/sklearn/multiclass.py:80: UserWarning: Label not 0 is present in all training examples.\n",
      "  \"Label %s is present in all training examples.\" % str(classes[c])\n",
      "/home/buihuy/Intent-Detection/venv/lib/python3.7/site-packages/sklearn/multiclass.py:80: UserWarning: Label not 25 is present in all training examples.\n",
      "  \"Label %s is present in all training examples.\" % str(classes[c])\n",
      "/home/buihuy/Intent-Detection/venv/lib/python3.7/site-packages/sklearn/multiclass.py:80: UserWarning: Label not 25 is present in all training examples.\n",
      "  \"Label %s is present in all training examples.\" % str(classes[c])\n",
      "/home/buihuy/Intent-Detection/venv/lib/python3.7/site-packages/sklearn/multiclass.py:80: UserWarning: Label not 25 is present in all training examples.\n",
      "  \"Label %s is present in all training examples.\" % str(classes[c])\n",
      "/home/buihuy/Intent-Detection/venv/lib/python3.7/site-packages/sklearn/multiclass.py:80: UserWarning: Label not 0 is present in all training examples.\n",
      "  \"Label %s is present in all training examples.\" % str(classes[c])\n",
      "/home/buihuy/Intent-Detection/venv/lib/python3.7/site-packages/sklearn/multiclass.py:80: UserWarning: Label not 25 is present in all training examples.\n",
      "  \"Label %s is present in all training examples.\" % str(classes[c])\n",
      "/home/buihuy/Intent-Detection/venv/lib/python3.7/site-packages/sklearn/multiclass.py:80: UserWarning: Label not 0 is present in all training examples.\n",
      "  \"Label %s is present in all training examples.\" % str(classes[c])\n",
      "/home/buihuy/Intent-Detection/venv/lib/python3.7/site-packages/sklearn/multiclass.py:80: UserWarning: Label not 0 is present in all training examples.\n",
      "  \"Label %s is present in all training examples.\" % str(classes[c])\n",
      "/home/buihuy/Intent-Detection/venv/lib/python3.7/site-packages/sklearn/multiclass.py:80: UserWarning: Label not 25 is present in all training examples.\n",
      "  \"Label %s is present in all training examples.\" % str(classes[c])\n",
      "/home/buihuy/Intent-Detection/venv/lib/python3.7/site-packages/sklearn/multiclass.py:80: UserWarning: Label not 25 is present in all training examples.\n",
      "  \"Label %s is present in all training examples.\" % str(classes[c])\n",
      "/home/buihuy/Intent-Detection/venv/lib/python3.7/site-packages/sklearn/multiclass.py:80: UserWarning: Label not 0 is present in all training examples.\n",
      "  \"Label %s is present in all training examples.\" % str(classes[c])\n",
      "/home/buihuy/Intent-Detection/venv/lib/python3.7/site-packages/sklearn/multiclass.py:80: UserWarning: Label not 0 is present in all training examples.\n",
      "  \"Label %s is present in all training examples.\" % str(classes[c])\n",
      "/home/buihuy/Intent-Detection/venv/lib/python3.7/site-packages/sklearn/multiclass.py:80: UserWarning: Label not 25 is present in all training examples.\n",
      "  \"Label %s is present in all training examples.\" % str(classes[c])\n",
      "/home/buihuy/Intent-Detection/venv/lib/python3.7/site-packages/sklearn/multiclass.py:80: UserWarning: Label not 25 is present in all training examples.\n",
      "  \"Label %s is present in all training examples.\" % str(classes[c])\n",
      "/home/buihuy/Intent-Detection/venv/lib/python3.7/site-packages/sklearn/multiclass.py:80: UserWarning: Label not 25 is present in all training examples.\n",
      "  \"Label %s is present in all training examples.\" % str(classes[c])\n",
      "/home/buihuy/Intent-Detection/venv/lib/python3.7/site-packages/sklearn/multiclass.py:80: UserWarning: Label not 0 is present in all training examples.\n",
      "  \"Label %s is present in all training examples.\" % str(classes[c])\n",
      "/home/buihuy/Intent-Detection/venv/lib/python3.7/site-packages/sklearn/multiclass.py:80: UserWarning: Label not 0 is present in all training examples.\n",
      "  \"Label %s is present in all training examples.\" % str(classes[c])\n",
      "/home/buihuy/Intent-Detection/venv/lib/python3.7/site-packages/sklearn/multiclass.py:80: UserWarning: Label not 25 is present in all training examples.\n",
      "  \"Label %s is present in all training examples.\" % str(classes[c])\n",
      "/home/buihuy/Intent-Detection/venv/lib/python3.7/site-packages/sklearn/multiclass.py:80: UserWarning: Label not 25 is present in all training examples.\n",
      "  \"Label %s is present in all training examples.\" % str(classes[c])\n",
      "/home/buihuy/Intent-Detection/venv/lib/python3.7/site-packages/sklearn/multiclass.py:80: UserWarning: Label not 0 is present in all training examples.\n",
      "  \"Label %s is present in all training examples.\" % str(classes[c])\n",
      "/home/buihuy/Intent-Detection/venv/lib/python3.7/site-packages/sklearn/multiclass.py:80: UserWarning: Label not 0 is present in all training examples.\n",
      "  \"Label %s is present in all training examples.\" % str(classes[c])\n",
      "/home/buihuy/Intent-Detection/venv/lib/python3.7/site-packages/sklearn/multiclass.py:80: UserWarning: Label not 25 is present in all training examples.\n",
      "  \"Label %s is present in all training examples.\" % str(classes[c])\n",
      "/home/buihuy/Intent-Detection/venv/lib/python3.7/site-packages/sklearn/multiclass.py:80: UserWarning: Label not 25 is present in all training examples.\n",
      "  \"Label %s is present in all training examples.\" % str(classes[c])\n",
      "/home/buihuy/Intent-Detection/venv/lib/python3.7/site-packages/sklearn/multiclass.py:80: UserWarning: Label not 0 is present in all training examples.\n",
      "  \"Label %s is present in all training examples.\" % str(classes[c])\n",
      "/home/buihuy/Intent-Detection/venv/lib/python3.7/site-packages/sklearn/multiclass.py:80: UserWarning: Label not 0 is present in all training examples.\n",
      "  \"Label %s is present in all training examples.\" % str(classes[c])\n",
      "/home/buihuy/Intent-Detection/venv/lib/python3.7/site-packages/sklearn/multiclass.py:80: UserWarning: Label not 25 is present in all training examples.\n",
      "  \"Label %s is present in all training examples.\" % str(classes[c])\n",
      "/home/buihuy/Intent-Detection/venv/lib/python3.7/site-packages/sklearn/multiclass.py:80: UserWarning: Label not 25 is present in all training examples.\n",
      "  \"Label %s is present in all training examples.\" % str(classes[c])\n",
      "/home/buihuy/Intent-Detection/venv/lib/python3.7/site-packages/sklearn/multiclass.py:80: UserWarning: Label not 0 is present in all training examples.\n",
      "  \"Label %s is present in all training examples.\" % str(classes[c])\n",
      "/home/buihuy/Intent-Detection/venv/lib/python3.7/site-packages/sklearn/multiclass.py:80: UserWarning: Label not 0 is present in all training examples.\n",
      "  \"Label %s is present in all training examples.\" % str(classes[c])\n",
      "/home/buihuy/Intent-Detection/venv/lib/python3.7/site-packages/sklearn/multiclass.py:80: UserWarning: Label not 25 is present in all training examples.\n",
      "  \"Label %s is present in all training examples.\" % str(classes[c])\n",
      "/home/buihuy/Intent-Detection/venv/lib/python3.7/site-packages/sklearn/multiclass.py:80: UserWarning: Label not 25 is present in all training examples.\n",
      "  \"Label %s is present in all training examples.\" % str(classes[c])\n",
      "/home/buihuy/Intent-Detection/venv/lib/python3.7/site-packages/sklearn/multiclass.py:80: UserWarning: Label not 0 is present in all training examples.\n",
      "  \"Label %s is present in all training examples.\" % str(classes[c])\n",
      "/home/buihuy/Intent-Detection/venv/lib/python3.7/site-packages/sklearn/multiclass.py:80: UserWarning: Label not 0 is present in all training examples.\n",
      "  \"Label %s is present in all training examples.\" % str(classes[c])\n",
      "/home/buihuy/Intent-Detection/venv/lib/python3.7/site-packages/sklearn/multiclass.py:80: UserWarning: Label not 25 is present in all training examples.\n",
      "  \"Label %s is present in all training examples.\" % str(classes[c])\n",
      "/home/buihuy/Intent-Detection/venv/lib/python3.7/site-packages/sklearn/multiclass.py:80: UserWarning: Label not 25 is present in all training examples.\n",
      "  \"Label %s is present in all training examples.\" % str(classes[c])\n",
      "/home/buihuy/Intent-Detection/venv/lib/python3.7/site-packages/sklearn/multiclass.py:80: UserWarning: Label not 0 is present in all training examples.\n",
      "  \"Label %s is present in all training examples.\" % str(classes[c])\n",
      "/home/buihuy/Intent-Detection/venv/lib/python3.7/site-packages/sklearn/multiclass.py:80: UserWarning: Label not 0 is present in all training examples.\n",
      "  \"Label %s is present in all training examples.\" % str(classes[c])\n",
      "/home/buihuy/Intent-Detection/venv/lib/python3.7/site-packages/sklearn/multiclass.py:80: UserWarning: Label not 25 is present in all training examples.\n",
      "  \"Label %s is present in all training examples.\" % str(classes[c])\n",
      "/home/buihuy/Intent-Detection/venv/lib/python3.7/site-packages/sklearn/multiclass.py:80: UserWarning: Label not 0 is present in all training examples.\n",
      "  \"Label %s is present in all training examples.\" % str(classes[c])\n",
      "/home/buihuy/Intent-Detection/venv/lib/python3.7/site-packages/sklearn/multiclass.py:80: UserWarning: Label not 0 is present in all training examples.\n",
      "  \"Label %s is present in all training examples.\" % str(classes[c])\n",
      "/home/buihuy/Intent-Detection/venv/lib/python3.7/site-packages/sklearn/multiclass.py:80: UserWarning: Label not 25 is present in all training examples.\n",
      "  \"Label %s is present in all training examples.\" % str(classes[c])\n",
      "/home/buihuy/Intent-Detection/venv/lib/python3.7/site-packages/sklearn/multiclass.py:80: UserWarning: Label not 25 is present in all training examples.\n",
      "  \"Label %s is present in all training examples.\" % str(classes[c])\n",
      "/home/buihuy/Intent-Detection/venv/lib/python3.7/site-packages/sklearn/multiclass.py:80: UserWarning: Label not 0 is present in all training examples.\n",
      "  \"Label %s is present in all training examples.\" % str(classes[c])\n",
      "/home/buihuy/Intent-Detection/venv/lib/python3.7/site-packages/sklearn/multiclass.py:80: UserWarning: Label not 0 is present in all training examples.\n",
      "  \"Label %s is present in all training examples.\" % str(classes[c])\n",
      "/home/buihuy/Intent-Detection/venv/lib/python3.7/site-packages/sklearn/multiclass.py:80: UserWarning: Label not 25 is present in all training examples.\n",
      "  \"Label %s is present in all training examples.\" % str(classes[c])\n",
      "/home/buihuy/Intent-Detection/venv/lib/python3.7/site-packages/sklearn/multiclass.py:80: UserWarning: Label not 25 is present in all training examples.\n",
      "  \"Label %s is present in all training examples.\" % str(classes[c])\n",
      "/home/buihuy/Intent-Detection/venv/lib/python3.7/site-packages/sklearn/multiclass.py:80: UserWarning: Label not 0 is present in all training examples.\n",
      "  \"Label %s is present in all training examples.\" % str(classes[c])\n",
      "/home/buihuy/Intent-Detection/venv/lib/python3.7/site-packages/sklearn/multiclass.py:80: UserWarning: Label not 0 is present in all training examples.\n",
      "  \"Label %s is present in all training examples.\" % str(classes[c])\n",
      "/home/buihuy/Intent-Detection/venv/lib/python3.7/site-packages/sklearn/multiclass.py:80: UserWarning: Label not 25 is present in all training examples.\n",
      "  \"Label %s is present in all training examples.\" % str(classes[c])\n",
      "/home/buihuy/Intent-Detection/venv/lib/python3.7/site-packages/sklearn/multiclass.py:80: UserWarning: Label not 25 is present in all training examples.\n",
      "  \"Label %s is present in all training examples.\" % str(classes[c])\n",
      "/home/buihuy/Intent-Detection/venv/lib/python3.7/site-packages/sklearn/multiclass.py:80: UserWarning: Label not 0 is present in all training examples.\n",
      "  \"Label %s is present in all training examples.\" % str(classes[c])\n",
      "/home/buihuy/Intent-Detection/venv/lib/python3.7/site-packages/sklearn/multiclass.py:80: UserWarning: Label not 0 is present in all training examples.\n",
      "  \"Label %s is present in all training examples.\" % str(classes[c])\n",
      "/home/buihuy/Intent-Detection/venv/lib/python3.7/site-packages/sklearn/multiclass.py:80: UserWarning: Label not 25 is present in all training examples.\n",
      "  \"Label %s is present in all training examples.\" % str(classes[c])\n",
      "/home/buihuy/Intent-Detection/venv/lib/python3.7/site-packages/joblib/externals/loky/process_executor.py:705: UserWarning: A worker stopped while some jobs were given to the executor. This can be caused by a too short worker timeout or by a memory leak.\n",
      "  \"timeout or by a memory leak.\", UserWarning\n",
      "/home/buihuy/Intent-Detection/venv/lib/python3.7/site-packages/sklearn/multiclass.py:80: UserWarning: Label not 25 is present in all training examples.\n",
      "  \"Label %s is present in all training examples.\" % str(classes[c])\n",
      "/home/buihuy/Intent-Detection/venv/lib/python3.7/site-packages/sklearn/multiclass.py:80: UserWarning: Label not 0 is present in all training examples.\n",
      "  \"Label %s is present in all training examples.\" % str(classes[c])\n",
      "/home/buihuy/Intent-Detection/venv/lib/python3.7/site-packages/sklearn/multiclass.py:80: UserWarning: Label not 0 is present in all training examples.\n",
      "  \"Label %s is present in all training examples.\" % str(classes[c])\n",
      "/home/buihuy/Intent-Detection/venv/lib/python3.7/site-packages/sklearn/multiclass.py:80: UserWarning: Label not 25 is present in all training examples.\n",
      "  \"Label %s is present in all training examples.\" % str(classes[c])\n",
      "/home/buihuy/Intent-Detection/venv/lib/python3.7/site-packages/sklearn/multiclass.py:80: UserWarning: Label not 25 is present in all training examples.\n",
      "  \"Label %s is present in all training examples.\" % str(classes[c])\n",
      "/home/buihuy/Intent-Detection/venv/lib/python3.7/site-packages/sklearn/multiclass.py:80: UserWarning: Label not 0 is present in all training examples.\n",
      "  \"Label %s is present in all training examples.\" % str(classes[c])\n",
      "/home/buihuy/Intent-Detection/venv/lib/python3.7/site-packages/sklearn/multiclass.py:80: UserWarning: Label not 0 is present in all training examples.\n",
      "  \"Label %s is present in all training examples.\" % str(classes[c])\n",
      "/home/buihuy/Intent-Detection/venv/lib/python3.7/site-packages/sklearn/multiclass.py:80: UserWarning: Label not 25 is present in all training examples.\n",
      "  \"Label %s is present in all training examples.\" % str(classes[c])\n",
      "/home/buihuy/Intent-Detection/venv/lib/python3.7/site-packages/sklearn/multiclass.py:80: UserWarning: Label not 25 is present in all training examples.\n",
      "  \"Label %s is present in all training examples.\" % str(classes[c])\n",
      "/home/buihuy/Intent-Detection/venv/lib/python3.7/site-packages/sklearn/multiclass.py:80: UserWarning: Label not 0 is present in all training examples.\n",
      "  \"Label %s is present in all training examples.\" % str(classes[c])\n",
      "/home/buihuy/Intent-Detection/venv/lib/python3.7/site-packages/sklearn/multiclass.py:80: UserWarning: Label not 0 is present in all training examples.\n",
      "  \"Label %s is present in all training examples.\" % str(classes[c])\n",
      "/home/buihuy/Intent-Detection/venv/lib/python3.7/site-packages/sklearn/multiclass.py:80: UserWarning: Label not 25 is present in all training examples.\n",
      "  \"Label %s is present in all training examples.\" % str(classes[c])\n",
      "/home/buihuy/Intent-Detection/venv/lib/python3.7/site-packages/sklearn/multiclass.py:80: UserWarning: Label not 25 is present in all training examples.\n",
      "  \"Label %s is present in all training examples.\" % str(classes[c])\n",
      "/home/buihuy/Intent-Detection/venv/lib/python3.7/site-packages/sklearn/multiclass.py:80: UserWarning: Label not 0 is present in all training examples.\n",
      "  \"Label %s is present in all training examples.\" % str(classes[c])\n",
      "/home/buihuy/Intent-Detection/venv/lib/python3.7/site-packages/sklearn/multiclass.py:80: UserWarning: Label not 0 is present in all training examples.\n",
      "  \"Label %s is present in all training examples.\" % str(classes[c])\n",
      "/home/buihuy/Intent-Detection/venv/lib/python3.7/site-packages/sklearn/multiclass.py:80: UserWarning: Label not 25 is present in all training examples.\n",
      "  \"Label %s is present in all training examples.\" % str(classes[c])\n",
      "/home/buihuy/Intent-Detection/venv/lib/python3.7/site-packages/sklearn/multiclass.py:80: UserWarning: Label not 0 is present in all training examples.\n",
      "  \"Label %s is present in all training examples.\" % str(classes[c])\n",
      "/home/buihuy/Intent-Detection/venv/lib/python3.7/site-packages/sklearn/multiclass.py:80: UserWarning: Label not 0 is present in all training examples.\n",
      "  \"Label %s is present in all training examples.\" % str(classes[c])\n",
      "/home/buihuy/Intent-Detection/venv/lib/python3.7/site-packages/sklearn/multiclass.py:80: UserWarning: Label not 25 is present in all training examples.\n",
      "  \"Label %s is present in all training examples.\" % str(classes[c])\n",
      "/home/buihuy/Intent-Detection/venv/lib/python3.7/site-packages/sklearn/multiclass.py:80: UserWarning: Label not 25 is present in all training examples.\n",
      "  \"Label %s is present in all training examples.\" % str(classes[c])\n",
      "/home/buihuy/Intent-Detection/venv/lib/python3.7/site-packages/sklearn/multiclass.py:80: UserWarning: Label not 0 is present in all training examples.\n",
      "  \"Label %s is present in all training examples.\" % str(classes[c])\n",
      "/home/buihuy/Intent-Detection/venv/lib/python3.7/site-packages/sklearn/multiclass.py:80: UserWarning: Label not 0 is present in all training examples.\n",
      "  \"Label %s is present in all training examples.\" % str(classes[c])\n",
      "/home/buihuy/Intent-Detection/venv/lib/python3.7/site-packages/sklearn/multiclass.py:80: UserWarning: Label not 25 is present in all training examples.\n",
      "  \"Label %s is present in all training examples.\" % str(classes[c])\n",
      "/home/buihuy/Intent-Detection/venv/lib/python3.7/site-packages/sklearn/multiclass.py:80: UserWarning: Label not 25 is present in all training examples.\n",
      "  \"Label %s is present in all training examples.\" % str(classes[c])\n",
      "/home/buihuy/Intent-Detection/venv/lib/python3.7/site-packages/sklearn/multiclass.py:80: UserWarning: Label not 0 is present in all training examples.\n",
      "  \"Label %s is present in all training examples.\" % str(classes[c])\n",
      "/home/buihuy/Intent-Detection/venv/lib/python3.7/site-packages/sklearn/multiclass.py:80: UserWarning: Label not 0 is present in all training examples.\n",
      "  \"Label %s is present in all training examples.\" % str(classes[c])\n",
      "/home/buihuy/Intent-Detection/venv/lib/python3.7/site-packages/sklearn/multiclass.py:80: UserWarning: Label not 25 is present in all training examples.\n",
      "  \"Label %s is present in all training examples.\" % str(classes[c])\n",
      "/home/buihuy/Intent-Detection/venv/lib/python3.7/site-packages/sklearn/multiclass.py:80: UserWarning: Label not 25 is present in all training examples.\n",
      "  \"Label %s is present in all training examples.\" % str(classes[c])\n",
      "/home/buihuy/Intent-Detection/venv/lib/python3.7/site-packages/sklearn/multiclass.py:80: UserWarning: Label not 0 is present in all training examples.\n",
      "  \"Label %s is present in all training examples.\" % str(classes[c])\n",
      "/home/buihuy/Intent-Detection/venv/lib/python3.7/site-packages/sklearn/multiclass.py:80: UserWarning: Label not 0 is present in all training examples.\n",
      "  \"Label %s is present in all training examples.\" % str(classes[c])\n",
      "/home/buihuy/Intent-Detection/venv/lib/python3.7/site-packages/sklearn/multiclass.py:80: UserWarning: Label not 25 is present in all training examples.\n",
      "  \"Label %s is present in all training examples.\" % str(classes[c])\n",
      "/home/buihuy/Intent-Detection/venv/lib/python3.7/site-packages/sklearn/multiclass.py:80: UserWarning: Label not 0 is present in all training examples.\n",
      "  \"Label %s is present in all training examples.\" % str(classes[c])\n",
      "/home/buihuy/Intent-Detection/venv/lib/python3.7/site-packages/sklearn/multiclass.py:80: UserWarning: Label not 25 is present in all training examples.\n",
      "  \"Label %s is present in all training examples.\" % str(classes[c])\n",
      "/home/buihuy/Intent-Detection/venv/lib/python3.7/site-packages/sklearn/multiclass.py:80: UserWarning: Label not 25 is present in all training examples.\n",
      "  \"Label %s is present in all training examples.\" % str(classes[c])\n",
      "/home/buihuy/Intent-Detection/venv/lib/python3.7/site-packages/sklearn/multiclass.py:80: UserWarning: Label not 0 is present in all training examples.\n",
      "  \"Label %s is present in all training examples.\" % str(classes[c])\n",
      "/home/buihuy/Intent-Detection/venv/lib/python3.7/site-packages/sklearn/multiclass.py:80: UserWarning: Label not 0 is present in all training examples.\n",
      "  \"Label %s is present in all training examples.\" % str(classes[c])\n",
      "/home/buihuy/Intent-Detection/venv/lib/python3.7/site-packages/sklearn/multiclass.py:80: UserWarning: Label not 25 is present in all training examples.\n",
      "  \"Label %s is present in all training examples.\" % str(classes[c])\n",
      "/home/buihuy/Intent-Detection/venv/lib/python3.7/site-packages/sklearn/multiclass.py:80: UserWarning: Label not 25 is present in all training examples.\n",
      "  \"Label %s is present in all training examples.\" % str(classes[c])\n",
      "/home/buihuy/Intent-Detection/venv/lib/python3.7/site-packages/sklearn/multiclass.py:80: UserWarning: Label not 0 is present in all training examples.\n",
      "  \"Label %s is present in all training examples.\" % str(classes[c])\n",
      "/home/buihuy/Intent-Detection/venv/lib/python3.7/site-packages/sklearn/multiclass.py:80: UserWarning: Label not 25 is present in all training examples.\n",
      "  \"Label %s is present in all training examples.\" % str(classes[c])\n",
      "/home/buihuy/Intent-Detection/venv/lib/python3.7/site-packages/sklearn/multiclass.py:80: UserWarning: Label not 0 is present in all training examples.\n",
      "  \"Label %s is present in all training examples.\" % str(classes[c])\n",
      "/home/buihuy/Intent-Detection/venv/lib/python3.7/site-packages/sklearn/multiclass.py:80: UserWarning: Label not 0 is present in all training examples.\n",
      "  \"Label %s is present in all training examples.\" % str(classes[c])\n",
      "/home/buihuy/Intent-Detection/venv/lib/python3.7/site-packages/sklearn/multiclass.py:80: UserWarning: Label not 25 is present in all training examples.\n",
      "  \"Label %s is present in all training examples.\" % str(classes[c])\n"
     ]
    },
    {
     "data": {
      "application/vnd.jupyter.widget-view+json": {
       "model_id": "5f194eb3893c44e18773c5e440d19bc3",
       "version_major": 2,
       "version_minor": 0
      },
      "text/plain": [
       "Batches:   0%|          | 0/51 [00:00<?, ?it/s]"
      ]
     },
     "metadata": {},
     "output_type": "display_data"
    },
    {
     "name": "stderr",
     "output_type": "stream",
     "text": [
      "/home/buihuy/Intent-Detection/venv/lib/python3.7/site-packages/sklearn/multiclass.py:80: UserWarning: Label not 25 is present in all training examples.\n",
      "  \"Label %s is present in all training examples.\" % str(classes[c])\n",
      "/home/buihuy/Intent-Detection/venv/lib/python3.7/site-packages/sklearn/multiclass.py:80: UserWarning: Label not 0 is present in all training examples.\n",
      "  \"Label %s is present in all training examples.\" % str(classes[c])\n",
      "/home/buihuy/Intent-Detection/venv/lib/python3.7/site-packages/sklearn/multiclass.py:80: UserWarning: Label not 25 is present in all training examples.\n",
      "  \"Label %s is present in all training examples.\" % str(classes[c])\n",
      "/home/buihuy/Intent-Detection/venv/lib/python3.7/site-packages/sklearn/multiclass.py:80: UserWarning: Label not 25 is present in all training examples.\n",
      "  \"Label %s is present in all training examples.\" % str(classes[c])\n",
      "/home/buihuy/Intent-Detection/venv/lib/python3.7/site-packages/joblib/externals/loky/process_executor.py:705: UserWarning: A worker stopped while some jobs were given to the executor. This can be caused by a too short worker timeout or by a memory leak.\n",
      "  \"timeout or by a memory leak.\", UserWarning\n",
      "/home/buihuy/Intent-Detection/venv/lib/python3.7/site-packages/sklearn/multiclass.py:80: UserWarning: Label not 25 is present in all training examples.\n",
      "  \"Label %s is present in all training examples.\" % str(classes[c])\n",
      "/home/buihuy/Intent-Detection/venv/lib/python3.7/site-packages/sklearn/multiclass.py:80: UserWarning: Label not 0 is present in all training examples.\n",
      "  \"Label %s is present in all training examples.\" % str(classes[c])\n",
      "/home/buihuy/Intent-Detection/venv/lib/python3.7/site-packages/sklearn/multiclass.py:80: UserWarning: Label not 25 is present in all training examples.\n",
      "  \"Label %s is present in all training examples.\" % str(classes[c])\n",
      "/home/buihuy/Intent-Detection/venv/lib/python3.7/site-packages/sklearn/multiclass.py:80: UserWarning: Label not 0 is present in all training examples.\n",
      "  \"Label %s is present in all training examples.\" % str(classes[c])\n",
      "/home/buihuy/Intent-Detection/venv/lib/python3.7/site-packages/sklearn/multiclass.py:80: UserWarning: Label not 0 is present in all training examples.\n",
      "  \"Label %s is present in all training examples.\" % str(classes[c])\n",
      "/home/buihuy/Intent-Detection/venv/lib/python3.7/site-packages/sklearn/multiclass.py:80: UserWarning: Label not 0 is present in all training examples.\n",
      "  \"Label %s is present in all training examples.\" % str(classes[c])\n",
      "/home/buihuy/Intent-Detection/venv/lib/python3.7/site-packages/sklearn/multiclass.py:80: UserWarning: Label not 25 is present in all training examples.\n",
      "  \"Label %s is present in all training examples.\" % str(classes[c])\n",
      "/home/buihuy/Intent-Detection/venv/lib/python3.7/site-packages/sklearn/multiclass.py:80: UserWarning: Label not 0 is present in all training examples.\n",
      "  \"Label %s is present in all training examples.\" % str(classes[c])\n",
      "/home/buihuy/Intent-Detection/venv/lib/python3.7/site-packages/sklearn/multiclass.py:80: UserWarning: Label not 25 is present in all training examples.\n",
      "  \"Label %s is present in all training examples.\" % str(classes[c])\n",
      "/home/buihuy/Intent-Detection/venv/lib/python3.7/site-packages/sklearn/multiclass.py:80: UserWarning: Label not 0 is present in all training examples.\n",
      "  \"Label %s is present in all training examples.\" % str(classes[c])\n",
      "/home/buihuy/Intent-Detection/venv/lib/python3.7/site-packages/sklearn/multiclass.py:80: UserWarning: Label not 25 is present in all training examples.\n",
      "  \"Label %s is present in all training examples.\" % str(classes[c])\n",
      "/home/buihuy/Intent-Detection/venv/lib/python3.7/site-packages/sklearn/multiclass.py:80: UserWarning: Label not 0 is present in all training examples.\n",
      "  \"Label %s is present in all training examples.\" % str(classes[c])\n",
      "/home/buihuy/Intent-Detection/venv/lib/python3.7/site-packages/sklearn/multiclass.py:80: UserWarning: Label not 25 is present in all training examples.\n",
      "  \"Label %s is present in all training examples.\" % str(classes[c])\n",
      "/home/buihuy/Intent-Detection/venv/lib/python3.7/site-packages/sklearn/multiclass.py:80: UserWarning: Label not 0 is present in all training examples.\n",
      "  \"Label %s is present in all training examples.\" % str(classes[c])\n",
      "/home/buihuy/Intent-Detection/venv/lib/python3.7/site-packages/sklearn/multiclass.py:80: UserWarning: Label not 25 is present in all training examples.\n",
      "  \"Label %s is present in all training examples.\" % str(classes[c])\n",
      "/home/buihuy/Intent-Detection/venv/lib/python3.7/site-packages/sklearn/multiclass.py:80: UserWarning: Label not 0 is present in all training examples.\n",
      "  \"Label %s is present in all training examples.\" % str(classes[c])\n",
      "/home/buihuy/Intent-Detection/venv/lib/python3.7/site-packages/sklearn/multiclass.py:80: UserWarning: Label not 0 is present in all training examples.\n",
      "  \"Label %s is present in all training examples.\" % str(classes[c])\n",
      "/home/buihuy/Intent-Detection/venv/lib/python3.7/site-packages/sklearn/multiclass.py:80: UserWarning: Label not 25 is present in all training examples.\n",
      "  \"Label %s is present in all training examples.\" % str(classes[c])\n",
      "/home/buihuy/Intent-Detection/venv/lib/python3.7/site-packages/sklearn/multiclass.py:80: UserWarning: Label not 25 is present in all training examples.\n",
      "  \"Label %s is present in all training examples.\" % str(classes[c])\n",
      "/home/buihuy/Intent-Detection/venv/lib/python3.7/site-packages/sklearn/multiclass.py:80: UserWarning: Label not 0 is present in all training examples.\n",
      "  \"Label %s is present in all training examples.\" % str(classes[c])\n",
      "/home/buihuy/Intent-Detection/venv/lib/python3.7/site-packages/sklearn/multiclass.py:80: UserWarning: Label not 25 is present in all training examples.\n",
      "  \"Label %s is present in all training examples.\" % str(classes[c])\n",
      "/home/buihuy/Intent-Detection/venv/lib/python3.7/site-packages/sklearn/multiclass.py:80: UserWarning: Label not 0 is present in all training examples.\n",
      "  \"Label %s is present in all training examples.\" % str(classes[c])\n",
      "/home/buihuy/Intent-Detection/venv/lib/python3.7/site-packages/sklearn/multiclass.py:80: UserWarning: Label not 0 is present in all training examples.\n",
      "  \"Label %s is present in all training examples.\" % str(classes[c])\n",
      "/home/buihuy/Intent-Detection/venv/lib/python3.7/site-packages/sklearn/multiclass.py:80: UserWarning: Label not 25 is present in all training examples.\n",
      "  \"Label %s is present in all training examples.\" % str(classes[c])\n",
      "/home/buihuy/Intent-Detection/venv/lib/python3.7/site-packages/sklearn/multiclass.py:80: UserWarning: Label not 25 is present in all training examples.\n",
      "  \"Label %s is present in all training examples.\" % str(classes[c])\n",
      "100%|██████████████████████████████| 3/3 [22:26<00:00, 448.99s/it]\n"
     ]
    }
   ],
   "source": [
    "for t in tqdm(trainset_name):\n",
    "    for e in embedding_types:\n",
    "        start = datetime.now()\n",
    "        models[t][e].fit(X[t], y[t])\n",
    "        end = datetime.now()\n",
    "        t_time = (end - start).seconds\n",
    "        t_time = np.round(t_time, 2)\n",
    "        training_time[t][e] = t_time"
   ]
  },
  {
   "cell_type": "code",
   "execution_count": 19,
   "id": "efcea91d-366c-414b-adfc-50e954b27dbc",
   "metadata": {},
   "outputs": [
    {
     "data": {
      "text/plain": [
       "{'trung.quan': {'tfidf': 37, 'sbert': 76, 'phobert': 104},\n",
       " 'giang.nguyen': {'tfidf': 40, 'sbert': 117, 'phobert': 223},\n",
       " 'panasonic': {'tfidf': 87, 'sbert': 214, 'phobert': 445}}"
      ]
     },
     "execution_count": 19,
     "metadata": {},
     "output_type": "execute_result"
    },
    {
     "name": "stderr",
     "output_type": "stream",
     "text": [
      "/home/buihuy/Intent-Detection/venv/lib/python3.7/site-packages/sklearn/multiclass.py:80: UserWarning: Label not 0 is present in all training examples.\n",
      "  \"Label %s is present in all training examples.\" % str(classes[c])\n"
     ]
    }
   ],
   "source": [
    "training_time"
   ]
  },
  {
   "cell_type": "markdown",
   "id": "dbc84741-303e-4f12-a109-6b7a4c1e844a",
   "metadata": {},
   "source": [
    "#### Visualize"
   ]
  },
  {
   "cell_type": "code",
   "execution_count": 40,
   "id": "6c1dfc84-32ee-4ae2-aa1a-13ca37a7bd11",
   "metadata": {},
   "outputs": [
    {
     "data": {
      "text/html": [
       "<div class=\"bk-root\">\n",
       "        <a href=\"https://bokeh.org\" target=\"_blank\" class=\"bk-logo bk-logo-small bk-logo-notebook\"></a>\n",
       "        <span id=\"7983\">Loading BokehJS ...</span>\n",
       "    </div>\n"
      ]
     },
     "metadata": {},
     "output_type": "display_data"
    },
    {
     "data": {
      "application/javascript": [
       "(function(root) {\n",
       "  function now() {\n",
       "    return new Date();\n",
       "  }\n",
       "\n",
       "  const force = true;\n",
       "\n",
       "  if (typeof root._bokeh_onload_callbacks === \"undefined\" || force === true) {\n",
       "    root._bokeh_onload_callbacks = [];\n",
       "    root._bokeh_is_loading = undefined;\n",
       "  }\n",
       "\n",
       "const JS_MIME_TYPE = 'application/javascript';\n",
       "  const HTML_MIME_TYPE = 'text/html';\n",
       "  const EXEC_MIME_TYPE = 'application/vnd.bokehjs_exec.v0+json';\n",
       "  const CLASS_NAME = 'output_bokeh rendered_html';\n",
       "\n",
       "  /**\n",
       "   * Render data to the DOM node\n",
       "   */\n",
       "  function render(props, node) {\n",
       "    const script = document.createElement(\"script\");\n",
       "    node.appendChild(script);\n",
       "  }\n",
       "\n",
       "  /**\n",
       "   * Handle when an output is cleared or removed\n",
       "   */\n",
       "  function handleClearOutput(event, handle) {\n",
       "    const cell = handle.cell;\n",
       "\n",
       "    const id = cell.output_area._bokeh_element_id;\n",
       "    const server_id = cell.output_area._bokeh_server_id;\n",
       "    // Clean up Bokeh references\n",
       "    if (id != null && id in Bokeh.index) {\n",
       "      Bokeh.index[id].model.document.clear();\n",
       "      delete Bokeh.index[id];\n",
       "    }\n",
       "\n",
       "    if (server_id !== undefined) {\n",
       "      // Clean up Bokeh references\n",
       "      const cmd_clean = \"from bokeh.io.state import curstate; print(curstate().uuid_to_server['\" + server_id + \"'].get_sessions()[0].document.roots[0]._id)\";\n",
       "      cell.notebook.kernel.execute(cmd_clean, {\n",
       "        iopub: {\n",
       "          output: function(msg) {\n",
       "            const id = msg.content.text.trim();\n",
       "            if (id in Bokeh.index) {\n",
       "              Bokeh.index[id].model.document.clear();\n",
       "              delete Bokeh.index[id];\n",
       "            }\n",
       "          }\n",
       "        }\n",
       "      });\n",
       "      // Destroy server and session\n",
       "      const cmd_destroy = \"import bokeh.io.notebook as ion; ion.destroy_server('\" + server_id + \"')\";\n",
       "      cell.notebook.kernel.execute(cmd_destroy);\n",
       "    }\n",
       "  }\n",
       "\n",
       "  /**\n",
       "   * Handle when a new output is added\n",
       "   */\n",
       "  function handleAddOutput(event, handle) {\n",
       "    const output_area = handle.output_area;\n",
       "    const output = handle.output;\n",
       "\n",
       "    // limit handleAddOutput to display_data with EXEC_MIME_TYPE content only\n",
       "    if ((output.output_type != \"display_data\") || (!Object.prototype.hasOwnProperty.call(output.data, EXEC_MIME_TYPE))) {\n",
       "      return\n",
       "    }\n",
       "\n",
       "    const toinsert = output_area.element.find(\".\" + CLASS_NAME.split(' ')[0]);\n",
       "\n",
       "    if (output.metadata[EXEC_MIME_TYPE][\"id\"] !== undefined) {\n",
       "      toinsert[toinsert.length - 1].firstChild.textContent = output.data[JS_MIME_TYPE];\n",
       "      // store reference to embed id on output_area\n",
       "      output_area._bokeh_element_id = output.metadata[EXEC_MIME_TYPE][\"id\"];\n",
       "    }\n",
       "    if (output.metadata[EXEC_MIME_TYPE][\"server_id\"] !== undefined) {\n",
       "      const bk_div = document.createElement(\"div\");\n",
       "      bk_div.innerHTML = output.data[HTML_MIME_TYPE];\n",
       "      const script_attrs = bk_div.children[0].attributes;\n",
       "      for (let i = 0; i < script_attrs.length; i++) {\n",
       "        toinsert[toinsert.length - 1].firstChild.setAttribute(script_attrs[i].name, script_attrs[i].value);\n",
       "        toinsert[toinsert.length - 1].firstChild.textContent = bk_div.children[0].textContent\n",
       "      }\n",
       "      // store reference to server id on output_area\n",
       "      output_area._bokeh_server_id = output.metadata[EXEC_MIME_TYPE][\"server_id\"];\n",
       "    }\n",
       "  }\n",
       "\n",
       "  function register_renderer(events, OutputArea) {\n",
       "\n",
       "    function append_mime(data, metadata, element) {\n",
       "      // create a DOM node to render to\n",
       "      const toinsert = this.create_output_subarea(\n",
       "        metadata,\n",
       "        CLASS_NAME,\n",
       "        EXEC_MIME_TYPE\n",
       "      );\n",
       "      this.keyboard_manager.register_events(toinsert);\n",
       "      // Render to node\n",
       "      const props = {data: data, metadata: metadata[EXEC_MIME_TYPE]};\n",
       "      render(props, toinsert[toinsert.length - 1]);\n",
       "      element.append(toinsert);\n",
       "      return toinsert\n",
       "    }\n",
       "\n",
       "    /* Handle when an output is cleared or removed */\n",
       "    events.on('clear_output.CodeCell', handleClearOutput);\n",
       "    events.on('delete.Cell', handleClearOutput);\n",
       "\n",
       "    /* Handle when a new output is added */\n",
       "    events.on('output_added.OutputArea', handleAddOutput);\n",
       "\n",
       "    /**\n",
       "     * Register the mime type and append_mime function with output_area\n",
       "     */\n",
       "    OutputArea.prototype.register_mime_type(EXEC_MIME_TYPE, append_mime, {\n",
       "      /* Is output safe? */\n",
       "      safe: true,\n",
       "      /* Index of renderer in `output_area.display_order` */\n",
       "      index: 0\n",
       "    });\n",
       "  }\n",
       "\n",
       "  // register the mime type if in Jupyter Notebook environment and previously unregistered\n",
       "  if (root.Jupyter !== undefined) {\n",
       "    const events = require('base/js/events');\n",
       "    const OutputArea = require('notebook/js/outputarea').OutputArea;\n",
       "\n",
       "    if (OutputArea.prototype.mime_types().indexOf(EXEC_MIME_TYPE) == -1) {\n",
       "      register_renderer(events, OutputArea);\n",
       "    }\n",
       "  }\n",
       "  if (typeof (root._bokeh_timeout) === \"undefined\" || force === true) {\n",
       "    root._bokeh_timeout = Date.now() + 5000;\n",
       "    root._bokeh_failed_load = false;\n",
       "  }\n",
       "\n",
       "  const NB_LOAD_WARNING = {'data': {'text/html':\n",
       "     \"<div style='background-color: #fdd'>\\n\"+\n",
       "     \"<p>\\n\"+\n",
       "     \"BokehJS does not appear to have successfully loaded. If loading BokehJS from CDN, this \\n\"+\n",
       "     \"may be due to a slow or bad network connection. Possible fixes:\\n\"+\n",
       "     \"</p>\\n\"+\n",
       "     \"<ul>\\n\"+\n",
       "     \"<li>re-rerun `output_notebook()` to attempt to load from CDN again, or</li>\\n\"+\n",
       "     \"<li>use INLINE resources instead, as so:</li>\\n\"+\n",
       "     \"</ul>\\n\"+\n",
       "     \"<code>\\n\"+\n",
       "     \"from bokeh.resources import INLINE\\n\"+\n",
       "     \"output_notebook(resources=INLINE)\\n\"+\n",
       "     \"</code>\\n\"+\n",
       "     \"</div>\"}};\n",
       "\n",
       "  function display_loaded() {\n",
       "    const el = document.getElementById(\"7983\");\n",
       "    if (el != null) {\n",
       "      el.textContent = \"BokehJS is loading...\";\n",
       "    }\n",
       "    if (root.Bokeh !== undefined) {\n",
       "      if (el != null) {\n",
       "        el.textContent = \"BokehJS \" + root.Bokeh.version + \" successfully loaded.\";\n",
       "      }\n",
       "    } else if (Date.now() < root._bokeh_timeout) {\n",
       "      setTimeout(display_loaded, 100)\n",
       "    }\n",
       "  }\n",
       "\n",
       "  function run_callbacks() {\n",
       "    try {\n",
       "      root._bokeh_onload_callbacks.forEach(function(callback) {\n",
       "        if (callback != null)\n",
       "          callback();\n",
       "      });\n",
       "    } finally {\n",
       "      delete root._bokeh_onload_callbacks\n",
       "    }\n",
       "    console.debug(\"Bokeh: all callbacks have finished\");\n",
       "  }\n",
       "\n",
       "  function load_libs(css_urls, js_urls, callback) {\n",
       "    if (css_urls == null) css_urls = [];\n",
       "    if (js_urls == null) js_urls = [];\n",
       "\n",
       "    root._bokeh_onload_callbacks.push(callback);\n",
       "    if (root._bokeh_is_loading > 0) {\n",
       "      console.debug(\"Bokeh: BokehJS is being loaded, scheduling callback at\", now());\n",
       "      return null;\n",
       "    }\n",
       "    if (js_urls == null || js_urls.length === 0) {\n",
       "      run_callbacks();\n",
       "      return null;\n",
       "    }\n",
       "    console.debug(\"Bokeh: BokehJS not loaded, scheduling load and callback at\", now());\n",
       "    root._bokeh_is_loading = css_urls.length + js_urls.length;\n",
       "\n",
       "    function on_load() {\n",
       "      root._bokeh_is_loading--;\n",
       "      if (root._bokeh_is_loading === 0) {\n",
       "        console.debug(\"Bokeh: all BokehJS libraries/stylesheets loaded\");\n",
       "        run_callbacks()\n",
       "      }\n",
       "    }\n",
       "\n",
       "    function on_error(url) {\n",
       "      console.error(\"failed to load \" + url);\n",
       "    }\n",
       "\n",
       "    for (let i = 0; i < css_urls.length; i++) {\n",
       "      const url = css_urls[i];\n",
       "      const element = document.createElement(\"link\");\n",
       "      element.onload = on_load;\n",
       "      element.onerror = on_error.bind(null, url);\n",
       "      element.rel = \"stylesheet\";\n",
       "      element.type = \"text/css\";\n",
       "      element.href = url;\n",
       "      console.debug(\"Bokeh: injecting link tag for BokehJS stylesheet: \", url);\n",
       "      document.body.appendChild(element);\n",
       "    }\n",
       "\n",
       "    for (let i = 0; i < js_urls.length; i++) {\n",
       "      const url = js_urls[i];\n",
       "      const element = document.createElement('script');\n",
       "      element.onload = on_load;\n",
       "      element.onerror = on_error.bind(null, url);\n",
       "      element.async = false;\n",
       "      element.src = url;\n",
       "      console.debug(\"Bokeh: injecting script tag for BokehJS library: \", url);\n",
       "      document.head.appendChild(element);\n",
       "    }\n",
       "  };\n",
       "\n",
       "  function inject_raw_css(css) {\n",
       "    const element = document.createElement(\"style\");\n",
       "    element.appendChild(document.createTextNode(css));\n",
       "    document.body.appendChild(element);\n",
       "  }\n",
       "\n",
       "  const js_urls = [\"https://cdn.bokeh.org/bokeh/release/bokeh-2.4.3.min.js\", \"https://cdn.bokeh.org/bokeh/release/bokeh-gl-2.4.3.min.js\", \"https://cdn.bokeh.org/bokeh/release/bokeh-widgets-2.4.3.min.js\", \"https://cdn.bokeh.org/bokeh/release/bokeh-tables-2.4.3.min.js\", \"https://cdn.bokeh.org/bokeh/release/bokeh-mathjax-2.4.3.min.js\"];\n",
       "  const css_urls = [];\n",
       "\n",
       "  const inline_js = [    function(Bokeh) {\n",
       "      Bokeh.set_log_level(\"info\");\n",
       "    },\n",
       "function(Bokeh) {\n",
       "    }\n",
       "  ];\n",
       "\n",
       "  function run_inline_js() {\n",
       "    if (root.Bokeh !== undefined || force === true) {\n",
       "          for (let i = 0; i < inline_js.length; i++) {\n",
       "      inline_js[i].call(root, root.Bokeh);\n",
       "    }\n",
       "if (force === true) {\n",
       "        display_loaded();\n",
       "      }} else if (Date.now() < root._bokeh_timeout) {\n",
       "      setTimeout(run_inline_js, 100);\n",
       "    } else if (!root._bokeh_failed_load) {\n",
       "      console.log(\"Bokeh: BokehJS failed to load within specified timeout.\");\n",
       "      root._bokeh_failed_load = true;\n",
       "    } else if (force !== true) {\n",
       "      const cell = $(document.getElementById(\"7983\")).parents('.cell').data().cell;\n",
       "      cell.output_area.append_execute_result(NB_LOAD_WARNING)\n",
       "    }\n",
       "  }\n",
       "\n",
       "  if (root._bokeh_is_loading === 0) {\n",
       "    console.debug(\"Bokeh: BokehJS loaded, going straight to plotting\");\n",
       "    run_inline_js();\n",
       "  } else {\n",
       "    load_libs(css_urls, js_urls, function() {\n",
       "      console.debug(\"Bokeh: BokehJS plotting callback run at\", now());\n",
       "      run_inline_js();\n",
       "    });\n",
       "  }\n",
       "}(window));"
      ],
      "application/vnd.bokehjs_load.v0+json": "(function(root) {\n  function now() {\n    return new Date();\n  }\n\n  const force = true;\n\n  if (typeof root._bokeh_onload_callbacks === \"undefined\" || force === true) {\n    root._bokeh_onload_callbacks = [];\n    root._bokeh_is_loading = undefined;\n  }\n\n\n  if (typeof (root._bokeh_timeout) === \"undefined\" || force === true) {\n    root._bokeh_timeout = Date.now() + 5000;\n    root._bokeh_failed_load = false;\n  }\n\n  const NB_LOAD_WARNING = {'data': {'text/html':\n     \"<div style='background-color: #fdd'>\\n\"+\n     \"<p>\\n\"+\n     \"BokehJS does not appear to have successfully loaded. If loading BokehJS from CDN, this \\n\"+\n     \"may be due to a slow or bad network connection. Possible fixes:\\n\"+\n     \"</p>\\n\"+\n     \"<ul>\\n\"+\n     \"<li>re-rerun `output_notebook()` to attempt to load from CDN again, or</li>\\n\"+\n     \"<li>use INLINE resources instead, as so:</li>\\n\"+\n     \"</ul>\\n\"+\n     \"<code>\\n\"+\n     \"from bokeh.resources import INLINE\\n\"+\n     \"output_notebook(resources=INLINE)\\n\"+\n     \"</code>\\n\"+\n     \"</div>\"}};\n\n  function display_loaded() {\n    const el = document.getElementById(\"7983\");\n    if (el != null) {\n      el.textContent = \"BokehJS is loading...\";\n    }\n    if (root.Bokeh !== undefined) {\n      if (el != null) {\n        el.textContent = \"BokehJS \" + root.Bokeh.version + \" successfully loaded.\";\n      }\n    } else if (Date.now() < root._bokeh_timeout) {\n      setTimeout(display_loaded, 100)\n    }\n  }\n\n  function run_callbacks() {\n    try {\n      root._bokeh_onload_callbacks.forEach(function(callback) {\n        if (callback != null)\n          callback();\n      });\n    } finally {\n      delete root._bokeh_onload_callbacks\n    }\n    console.debug(\"Bokeh: all callbacks have finished\");\n  }\n\n  function load_libs(css_urls, js_urls, callback) {\n    if (css_urls == null) css_urls = [];\n    if (js_urls == null) js_urls = [];\n\n    root._bokeh_onload_callbacks.push(callback);\n    if (root._bokeh_is_loading > 0) {\n      console.debug(\"Bokeh: BokehJS is being loaded, scheduling callback at\", now());\n      return null;\n    }\n    if (js_urls == null || js_urls.length === 0) {\n      run_callbacks();\n      return null;\n    }\n    console.debug(\"Bokeh: BokehJS not loaded, scheduling load and callback at\", now());\n    root._bokeh_is_loading = css_urls.length + js_urls.length;\n\n    function on_load() {\n      root._bokeh_is_loading--;\n      if (root._bokeh_is_loading === 0) {\n        console.debug(\"Bokeh: all BokehJS libraries/stylesheets loaded\");\n        run_callbacks()\n      }\n    }\n\n    function on_error(url) {\n      console.error(\"failed to load \" + url);\n    }\n\n    for (let i = 0; i < css_urls.length; i++) {\n      const url = css_urls[i];\n      const element = document.createElement(\"link\");\n      element.onload = on_load;\n      element.onerror = on_error.bind(null, url);\n      element.rel = \"stylesheet\";\n      element.type = \"text/css\";\n      element.href = url;\n      console.debug(\"Bokeh: injecting link tag for BokehJS stylesheet: \", url);\n      document.body.appendChild(element);\n    }\n\n    for (let i = 0; i < js_urls.length; i++) {\n      const url = js_urls[i];\n      const element = document.createElement('script');\n      element.onload = on_load;\n      element.onerror = on_error.bind(null, url);\n      element.async = false;\n      element.src = url;\n      console.debug(\"Bokeh: injecting script tag for BokehJS library: \", url);\n      document.head.appendChild(element);\n    }\n  };\n\n  function inject_raw_css(css) {\n    const element = document.createElement(\"style\");\n    element.appendChild(document.createTextNode(css));\n    document.body.appendChild(element);\n  }\n\n  const js_urls = [\"https://cdn.bokeh.org/bokeh/release/bokeh-2.4.3.min.js\", \"https://cdn.bokeh.org/bokeh/release/bokeh-gl-2.4.3.min.js\", \"https://cdn.bokeh.org/bokeh/release/bokeh-widgets-2.4.3.min.js\", \"https://cdn.bokeh.org/bokeh/release/bokeh-tables-2.4.3.min.js\", \"https://cdn.bokeh.org/bokeh/release/bokeh-mathjax-2.4.3.min.js\"];\n  const css_urls = [];\n\n  const inline_js = [    function(Bokeh) {\n      Bokeh.set_log_level(\"info\");\n    },\nfunction(Bokeh) {\n    }\n  ];\n\n  function run_inline_js() {\n    if (root.Bokeh !== undefined || force === true) {\n          for (let i = 0; i < inline_js.length; i++) {\n      inline_js[i].call(root, root.Bokeh);\n    }\nif (force === true) {\n        display_loaded();\n      }} else if (Date.now() < root._bokeh_timeout) {\n      setTimeout(run_inline_js, 100);\n    } else if (!root._bokeh_failed_load) {\n      console.log(\"Bokeh: BokehJS failed to load within specified timeout.\");\n      root._bokeh_failed_load = true;\n    } else if (force !== true) {\n      const cell = $(document.getElementById(\"7983\")).parents('.cell').data().cell;\n      cell.output_area.append_execute_result(NB_LOAD_WARNING)\n    }\n  }\n\n  if (root._bokeh_is_loading === 0) {\n    console.debug(\"Bokeh: BokehJS loaded, going straight to plotting\");\n    run_inline_js();\n  } else {\n    load_libs(css_urls, js_urls, function() {\n      console.debug(\"Bokeh: BokehJS plotting callback run at\", now());\n      run_inline_js();\n    });\n  }\n}(window));"
     },
     "metadata": {},
     "output_type": "display_data"
    },
    {
     "data": {
      "text/html": [
       "\n",
       "  <div class=\"bk-root\" id=\"3a1c48bb-3202-4cf3-9e5c-5d2c2bba77a1\" data-root-id=\"7985\"></div>\n"
      ]
     },
     "metadata": {},
     "output_type": "display_data"
    },
    {
     "data": {
      "application/javascript": [
       "(function(root) {\n",
       "  function embed_document(root) {\n",
       "  const docs_json = {\"c060b7a3-da9c-4b8b-805f-846d2ebbe3d2\":{\"defs\":[],\"roots\":{\"references\":[{\"attributes\":{\"below\":[{\"id\":\"7996\"}],\"center\":[{\"id\":\"7998\"},{\"id\":\"8002\"},{\"id\":\"8034\"}],\"left\":[{\"id\":\"7999\"}],\"renderers\":[{\"id\":\"8022\"},{\"id\":\"8041\"},{\"id\":\"8059\"}],\"title\":{\"id\":\"7986\"},\"toolbar\":{\"id\":\"8010\"},\"x_range\":{\"id\":\"7988\"},\"x_scale\":{\"id\":\"7992\"},\"y_range\":{\"id\":\"7990\"},\"y_scale\":{\"id\":\"7994\"}},\"id\":\"7985\",\"subtype\":\"Figure\",\"type\":\"Plot\"},{\"attributes\":{\"data\":{\"dataset_names\":[\"trung.quan\\n(397 samples)\",\"giang.nguyen\\n(919 samples)\",\"panasonic\\n(1607 samples)\"],\"phobert\":[104,223,445],\"sbert\":[76,117,214],\"tfidf\":[37,40,87]},\"selected\":{\"id\":\"8032\"},\"selection_policy\":{\"id\":\"8031\"}},\"id\":\"7984\",\"type\":\"ColumnDataSource\"},{\"attributes\":{},\"id\":\"8030\",\"type\":\"AllLabels\"},{\"attributes\":{\"coordinates\":null,\"group\":null,\"text\":\"Training Time Benchmark\"},\"id\":\"7986\",\"type\":\"Title\"},{\"attributes\":{\"source\":{\"id\":\"7984\"}},\"id\":\"8042\",\"type\":\"CDSView\"},{\"attributes\":{},\"id\":\"8003\",\"type\":\"PanTool\"},{\"attributes\":{\"label\":{\"value\":\"PhoBERT-base (No FT)\"},\"renderers\":[{\"id\":\"8059\"}]},\"id\":\"8071\",\"type\":\"LegendItem\"},{\"attributes\":{},\"id\":\"7994\",\"type\":\"LinearScale\"},{\"attributes\":{\"fill_alpha\":{\"value\":0.2},\"fill_color\":{\"value\":\"#718dbf\"},\"hatch_alpha\":{\"value\":0.2},\"hatch_color\":{\"value\":\"#718dbf\"},\"line_alpha\":{\"value\":0.2},\"line_color\":{\"value\":\"#718dbf\"},\"top\":{\"field\":\"sbert\"},\"width\":{\"value\":0.2},\"x\":{\"field\":\"dataset_names\",\"transform\":{\"id\":\"8036\"}}},\"id\":\"8040\",\"type\":\"VBar\"},{\"attributes\":{},\"id\":\"8004\",\"type\":\"WheelZoomTool\"},{\"attributes\":{\"tools\":[{\"id\":\"8003\"},{\"id\":\"8004\"},{\"id\":\"8005\"},{\"id\":\"8006\"},{\"id\":\"8007\"},{\"id\":\"8008\"}]},\"id\":\"8010\",\"type\":\"Toolbar\"},{\"attributes\":{\"fill_alpha\":{\"value\":0.1},\"fill_color\":{\"value\":\"#718dbf\"},\"hatch_alpha\":{\"value\":0.1},\"hatch_color\":{\"value\":\"#718dbf\"},\"line_alpha\":{\"value\":0.1},\"line_color\":{\"value\":\"#718dbf\"},\"top\":{\"field\":\"sbert\"},\"width\":{\"value\":0.2},\"x\":{\"field\":\"dataset_names\",\"transform\":{\"id\":\"8036\"}}},\"id\":\"8039\",\"type\":\"VBar\"},{\"attributes\":{\"overlay\":{\"id\":\"8009\"}},\"id\":\"8005\",\"type\":\"BoxZoomTool\"},{\"attributes\":{\"coordinates\":null,\"data_source\":{\"id\":\"7984\"},\"glyph\":{\"id\":\"8019\"},\"group\":null,\"hover_glyph\":null,\"muted_glyph\":{\"id\":\"8021\"},\"nonselection_glyph\":{\"id\":\"8020\"},\"view\":{\"id\":\"8023\"}},\"id\":\"8022\",\"type\":\"GlyphRenderer\"},{\"attributes\":{\"end\":500},\"id\":\"7990\",\"type\":\"Range1d\"},{\"attributes\":{},\"id\":\"8006\",\"type\":\"SaveTool\"},{\"attributes\":{\"range\":{\"id\":\"7988\"},\"value\":-0.25},\"id\":\"8017\",\"type\":\"Dodge\"},{\"attributes\":{},\"id\":\"8007\",\"type\":\"ResetTool\"},{\"attributes\":{\"label\":{\"value\":\"Vietnamese SBERT (No FT)\"},\"renderers\":[{\"id\":\"8041\"}]},\"id\":\"8053\",\"type\":\"LegendItem\"},{\"attributes\":{},\"id\":\"7992\",\"type\":\"CategoricalScale\"},{\"attributes\":{\"coordinates\":null,\"data_source\":{\"id\":\"7984\"},\"glyph\":{\"id\":\"8038\"},\"group\":null,\"hover_glyph\":null,\"muted_glyph\":{\"id\":\"8040\"},\"nonselection_glyph\":{\"id\":\"8039\"},\"view\":{\"id\":\"8042\"}},\"id\":\"8041\",\"type\":\"GlyphRenderer\"},{\"attributes\":{\"fill_color\":{\"value\":\"#c9d9d3\"},\"hatch_color\":{\"value\":\"#c9d9d3\"},\"line_color\":{\"value\":\"#c9d9d3\"},\"top\":{\"field\":\"tfidf\"},\"width\":{\"value\":0.2},\"x\":{\"field\":\"dataset_names\",\"transform\":{\"id\":\"8017\"}}},\"id\":\"8019\",\"type\":\"VBar\"},{\"attributes\":{\"range\":{\"id\":\"7988\"}},\"id\":\"8036\",\"type\":\"Dodge\"},{\"attributes\":{\"coordinates\":null,\"data_source\":{\"id\":\"7984\"},\"glyph\":{\"id\":\"8056\"},\"group\":null,\"hover_glyph\":null,\"muted_glyph\":{\"id\":\"8058\"},\"nonselection_glyph\":{\"id\":\"8057\"},\"view\":{\"id\":\"8060\"}},\"id\":\"8059\",\"type\":\"GlyphRenderer\"},{\"attributes\":{\"coordinates\":null,\"group\":null,\"items\":[{\"id\":\"8035\"},{\"id\":\"8053\"},{\"id\":\"8071\"}],\"location\":\"top_left\"},\"id\":\"8034\",\"type\":\"Legend\"},{\"attributes\":{},\"id\":\"8008\",\"type\":\"HelpTool\"},{\"attributes\":{},\"id\":\"8032\",\"type\":\"Selection\"},{\"attributes\":{\"source\":{\"id\":\"7984\"}},\"id\":\"8023\",\"type\":\"CDSView\"},{\"attributes\":{},\"id\":\"8000\",\"type\":\"BasicTicker\"},{\"attributes\":{\"bottom_units\":\"screen\",\"coordinates\":null,\"fill_alpha\":0.5,\"fill_color\":\"lightgrey\",\"group\":null,\"left_units\":\"screen\",\"level\":\"overlay\",\"line_alpha\":1.0,\"line_color\":\"black\",\"line_dash\":[4,4],\"line_width\":2,\"right_units\":\"screen\",\"syncable\":false,\"top_units\":\"screen\"},\"id\":\"8009\",\"type\":\"BoxAnnotation\"},{\"attributes\":{\"factors\":[\"trung.quan\\n(397 samples)\",\"giang.nguyen\\n(919 samples)\",\"panasonic\\n(1607 samples)\"],\"range_padding\":0.1},\"id\":\"7988\",\"type\":\"FactorRange\"},{\"attributes\":{\"axis_label\":\"Datasets\",\"coordinates\":null,\"formatter\":{\"id\":\"8029\"},\"group\":null,\"major_label_policy\":{\"id\":\"8030\"},\"ticker\":{\"id\":\"7997\"}},\"id\":\"7996\",\"type\":\"CategoricalAxis\"},{\"attributes\":{},\"id\":\"7997\",\"type\":\"CategoricalTicker\"},{\"attributes\":{},\"id\":\"8031\",\"type\":\"UnionRenderers\"},{\"attributes\":{\"axis\":{\"id\":\"7996\"},\"coordinates\":null,\"grid_line_color\":null,\"group\":null,\"ticker\":null},\"id\":\"7998\",\"type\":\"Grid\"},{\"attributes\":{\"source\":{\"id\":\"7984\"}},\"id\":\"8060\",\"type\":\"CDSView\"},{\"attributes\":{\"fill_color\":{\"value\":\"#718dbf\"},\"hatch_color\":{\"value\":\"#718dbf\"},\"line_color\":{\"value\":\"#718dbf\"},\"top\":{\"field\":\"sbert\"},\"width\":{\"value\":0.2},\"x\":{\"field\":\"dataset_names\",\"transform\":{\"id\":\"8036\"}}},\"id\":\"8038\",\"type\":\"VBar\"},{\"attributes\":{\"fill_alpha\":{\"value\":0.1},\"fill_color\":{\"value\":\"#e84d60\"},\"hatch_alpha\":{\"value\":0.1},\"hatch_color\":{\"value\":\"#e84d60\"},\"line_alpha\":{\"value\":0.1},\"line_color\":{\"value\":\"#e84d60\"},\"top\":{\"field\":\"phobert\"},\"width\":{\"value\":0.2},\"x\":{\"field\":\"dataset_names\",\"transform\":{\"id\":\"8054\"}}},\"id\":\"8057\",\"type\":\"VBar\"},{\"attributes\":{\"axis\":{\"id\":\"7999\"},\"coordinates\":null,\"dimension\":1,\"group\":null,\"ticker\":null},\"id\":\"8002\",\"type\":\"Grid\"},{\"attributes\":{\"fill_color\":{\"value\":\"#e84d60\"},\"hatch_color\":{\"value\":\"#e84d60\"},\"line_color\":{\"value\":\"#e84d60\"},\"top\":{\"field\":\"phobert\"},\"width\":{\"value\":0.2},\"x\":{\"field\":\"dataset_names\",\"transform\":{\"id\":\"8054\"}}},\"id\":\"8056\",\"type\":\"VBar\"},{\"attributes\":{\"axis_label\":\"Training time (seconds)\",\"coordinates\":null,\"formatter\":{\"id\":\"8026\"},\"group\":null,\"major_label_policy\":{\"id\":\"8027\"},\"ticker\":{\"id\":\"8000\"}},\"id\":\"7999\",\"type\":\"LinearAxis\"},{\"attributes\":{\"fill_alpha\":{\"value\":0.1},\"fill_color\":{\"value\":\"#c9d9d3\"},\"hatch_alpha\":{\"value\":0.1},\"hatch_color\":{\"value\":\"#c9d9d3\"},\"line_alpha\":{\"value\":0.1},\"line_color\":{\"value\":\"#c9d9d3\"},\"top\":{\"field\":\"tfidf\"},\"width\":{\"value\":0.2},\"x\":{\"field\":\"dataset_names\",\"transform\":{\"id\":\"8017\"}}},\"id\":\"8020\",\"type\":\"VBar\"},{\"attributes\":{},\"id\":\"8027\",\"type\":\"AllLabels\"},{\"attributes\":{\"fill_alpha\":{\"value\":0.2},\"fill_color\":{\"value\":\"#e84d60\"},\"hatch_alpha\":{\"value\":0.2},\"hatch_color\":{\"value\":\"#e84d60\"},\"line_alpha\":{\"value\":0.2},\"line_color\":{\"value\":\"#e84d60\"},\"top\":{\"field\":\"phobert\"},\"width\":{\"value\":0.2},\"x\":{\"field\":\"dataset_names\",\"transform\":{\"id\":\"8054\"}}},\"id\":\"8058\",\"type\":\"VBar\"},{\"attributes\":{\"range\":{\"id\":\"7988\"},\"value\":0.25},\"id\":\"8054\",\"type\":\"Dodge\"},{\"attributes\":{},\"id\":\"8026\",\"type\":\"BasicTickFormatter\"},{\"attributes\":{\"label\":{\"value\":\"TF-IDF (Baseline)\"},\"renderers\":[{\"id\":\"8022\"}]},\"id\":\"8035\",\"type\":\"LegendItem\"},{\"attributes\":{},\"id\":\"8029\",\"type\":\"CategoricalTickFormatter\"},{\"attributes\":{\"fill_alpha\":{\"value\":0.2},\"fill_color\":{\"value\":\"#c9d9d3\"},\"hatch_alpha\":{\"value\":0.2},\"hatch_color\":{\"value\":\"#c9d9d3\"},\"line_alpha\":{\"value\":0.2},\"line_color\":{\"value\":\"#c9d9d3\"},\"top\":{\"field\":\"tfidf\"},\"width\":{\"value\":0.2},\"x\":{\"field\":\"dataset_names\",\"transform\":{\"id\":\"8017\"}}},\"id\":\"8021\",\"type\":\"VBar\"}],\"root_ids\":[\"7985\"]},\"title\":\"Bokeh Application\",\"version\":\"2.4.3\"}};\n",
       "  const render_items = [{\"docid\":\"c060b7a3-da9c-4b8b-805f-846d2ebbe3d2\",\"root_ids\":[\"7985\"],\"roots\":{\"7985\":\"3a1c48bb-3202-4cf3-9e5c-5d2c2bba77a1\"}}];\n",
       "  root.Bokeh.embed.embed_items_notebook(docs_json, render_items);\n",
       "  }\n",
       "  if (root.Bokeh !== undefined) {\n",
       "    embed_document(root);\n",
       "  } else {\n",
       "    let attempts = 0;\n",
       "    const timer = setInterval(function(root) {\n",
       "      if (root.Bokeh !== undefined) {\n",
       "        clearInterval(timer);\n",
       "        embed_document(root);\n",
       "      } else {\n",
       "        attempts++;\n",
       "        if (attempts > 100) {\n",
       "          clearInterval(timer);\n",
       "          console.log(\"Bokeh: ERROR: Unable to run BokehJS code because BokehJS library is missing\");\n",
       "        }\n",
       "      }\n",
       "    }, 10, root)\n",
       "  }\n",
       "})(window);"
      ],
      "application/vnd.bokehjs_exec.v0+json": ""
     },
     "metadata": {
      "application/vnd.bokehjs_exec.v0+json": {
       "id": "7985"
      }
     },
     "output_type": "display_data"
    }
   ],
   "source": [
    "# Ref: https://docs.bokeh.org/en/latest/docs/user_guide/categorical.html#visual-offset\n",
    "\n",
    "output_notebook()\n",
    "\n",
    "dataset_names = [f\"{t}\\n({len(X[t])} samples)\" for t in trainset_name]\n",
    "vis_training_tfidf = [training_time[t][\"tfidf\"] for t in trainset_name]\n",
    "vis_training_sbert = [training_time[t][\"sbert\"] for t in trainset_name]\n",
    "vis_training_phobert = [training_time[t][\"phobert\"] for t in trainset_name]\n",
    "\n",
    "vis_data = {\n",
    "    \"dataset_names\": dataset_names,\n",
    "    \"tfidf\": vis_training_tfidf,\n",
    "    \"sbert\": vis_training_sbert,\n",
    "    \"phobert\": vis_training_phobert\n",
    "}\n",
    "\n",
    "source = ColumnDataSource(data=vis_data)\n",
    "\n",
    "TITLE = \"Training Time Benchmark\"\n",
    "p = figure(x_range=dataset_names, y_range=(0, 500),\n",
    "           title=TITLE)\n",
    "\n",
    "p.vbar(x=dodge(\"dataset_names\", -0.25, range=p.x_range),\n",
    "       top=\"tfidf\", width=0.2, source=source,\n",
    "       color=\"#c9d9d3\", legend_label=\"TF-IDF (Baseline)\")\n",
    "\n",
    "p.vbar(x=dodge(\"dataset_names\", 0.0, range=p.x_range),\n",
    "       top=\"sbert\", width=0.2, source=source,\n",
    "       color=\"#718dbf\", legend_label=\"Vietnamese SBERT (No FT)\")\n",
    "\n",
    "p.vbar(x=dodge(\"dataset_names\", 0.25, range=p.x_range),\n",
    "       top=\"phobert\", width=0.2, source=source,\n",
    "       color=\"#e84d60\", legend_label=\"PhoBERT-base (No FT)\")\n",
    "\n",
    "p.x_range.range_padding = 0.1\n",
    "p.xgrid.grid_line_color = None\n",
    "p.xaxis.axis_label = \"Datasets\"\n",
    "p.yaxis.axis_label = \"Training time (seconds)\"\n",
    "p.legend.orientation = \"vertical\"\n",
    "p.legend.location = \"top_left\"\n",
    "\n",
    "show(p)"
   ]
  },
  {
   "cell_type": "markdown",
   "id": "affb0093-8e04-43e2-a819-4190a47bb733",
   "metadata": {},
   "source": [
    "## Evaluate"
   ]
  },
  {
   "cell_type": "code",
   "execution_count": null,
   "id": "437f3830-0c94-4b21-9d85-579d0c9dff47",
   "metadata": {},
   "outputs": [],
   "source": []
  }
 ],
 "metadata": {
  "kernelspec": {
   "display_name": "Python 3 (ipykernel)",
   "language": "python",
   "name": "python3"
  },
  "language_info": {
   "codemirror_mode": {
    "name": "ipython",
    "version": 3
   },
   "file_extension": ".py",
   "mimetype": "text/x-python",
   "name": "python",
   "nbconvert_exporter": "python",
   "pygments_lexer": "ipython3",
   "version": "3.7.12"
  },
  "toc-autonumbering": true,
  "toc-showcode": false,
  "toc-showmarkdowntxt": false
 },
 "nbformat": 4,
 "nbformat_minor": 5
}
