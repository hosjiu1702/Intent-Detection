{
 "cells": [
  {
   "cell_type": "code",
   "execution_count": 195,
   "id": "313b5b50-4e54-4872-9e9e-25e412e2cad5",
   "metadata": {},
   "outputs": [],
   "source": [
    "from typing import List, Text, Tuple, Union\n",
    "from pprint import pprint\n",
    "\n",
    "from pyvi import ViTokenizer\n",
    "import numpy as np\n",
    "from sklearn.linear_model import LogisticRegression\n",
    "from sklearn.feature_extraction.text import TfidfVectorizer\n",
    "from sklearn.preprocessing import LabelBinarizer\n",
    "from sklearn.multiclass import OneVsRestClassifier\n",
    "from sentence_transformers import SentenceTransformer\n",
    "\n",
    "from va.src.utils.data import load_va_data"
   ]
  },
  {
   "cell_type": "markdown",
   "id": "cbf03662-5321-4e02-a7bf-d6f6534a3a40",
   "metadata": {},
   "source": [
    "## Load Data"
   ]
  },
  {
   "cell_type": "code",
   "execution_count": 218,
   "id": "cc251d40-b617-49b8-b398-10c96723a1a6",
   "metadata": {},
   "outputs": [],
   "source": [
    "PATH = \"../data/trungquan/trainset.xlsx\"\n",
    "X, y = load_va_data(PATH)"
   ]
  },
  {
   "cell_type": "markdown",
   "id": "dcb7cb53-b45c-40d9-b616-a80d33f6d97f",
   "metadata": {},
   "source": [
    "## Preprocess Text"
   ]
  },
  {
   "cell_type": "code",
   "execution_count": 219,
   "id": "631bca38-2e37-455f-95e1-ba99d460adcf",
   "metadata": {},
   "outputs": [],
   "source": [
    "def preprocess(texts):\n",
    "    \"\"\" Word Segmentation \"\"\"\n",
    "    tokenize = lambda x: ViTokenizer.tokenize(x)\n",
    "\n",
    "    return [tokenize(text) for text in texts]"
   ]
  },
  {
   "cell_type": "code",
   "execution_count": 220,
   "id": "555553c3-fe19-4069-ab5d-43baccdc8565",
   "metadata": {},
   "outputs": [],
   "source": [
    "X = preprocess(X)"
   ]
  },
  {
   "cell_type": "markdown",
   "id": "6eb8b3d3-76d4-4967-bb03-2e5ff7840597",
   "metadata": {},
   "source": [
    "## Encode Label"
   ]
  },
  {
   "cell_type": "code",
   "execution_count": 221,
   "id": "4704a4d1-7ad4-4c82-a8dd-eadba7799086",
   "metadata": {},
   "outputs": [
    {
     "name": "stdout",
     "output_type": "stream",
     "text": [
      "array(['C2A_TUVAN', 'C2B_GLS', 'C3_KQT'], dtype='<U9')\n",
      "array([[0, 0, 1],\n",
      "       [0, 0, 1],\n",
      "       [0, 0, 1],\n",
      "       ...,\n",
      "       [1, 0, 0],\n",
      "       [1, 0, 0],\n",
      "       [1, 0, 0]])\n"
     ]
    }
   ],
   "source": [
    "lb = LabelBinarizer()\n",
    "y = lb.fit_transform(y)\n",
    "pprint(lb.classes_)\n",
    "pprint(y)"
   ]
  },
  {
   "cell_type": "markdown",
   "id": "59b5a1bb-dad2-40f0-84b3-e49e2245a063",
   "metadata": {},
   "source": [
    "## Text Embedding"
   ]
  },
  {
   "cell_type": "markdown",
   "id": "de6a555c-a72a-4ed7-b92e-ef047e34aeb9",
   "metadata": {
    "tags": []
   },
   "source": [
    "### TF-IDF"
   ]
  },
  {
   "cell_type": "code",
   "execution_count": 222,
   "id": "f64c314a-268d-45a3-9840-75af36da9583",
   "metadata": {},
   "outputs": [],
   "source": [
    "tfidf = TfidfVectorizer(token_pattern=r\"(?u)\\b\\w+\\b\", ngram_range=(1, 2))"
   ]
  },
  {
   "cell_type": "code",
   "execution_count": 223,
   "id": "c5b6c4d8-3de2-48b5-9a06-9b9c6e6f2ca8",
   "metadata": {},
   "outputs": [],
   "source": [
    "tfidf_X = tfidf.fit_transform(X)"
   ]
  },
  {
   "cell_type": "code",
   "execution_count": 224,
   "id": "e466d360-3ad7-431b-a479-b89a9f38d74d",
   "metadata": {},
   "outputs": [
    {
     "data": {
      "text/plain": [
       "1281"
      ]
     },
     "execution_count": 224,
     "metadata": {},
     "output_type": "execute_result"
    }
   ],
   "source": [
    "len(tfidf.vocabulary_)"
   ]
  },
  {
   "cell_type": "markdown",
   "id": "f87d60b9-2b81-4b88-8c00-a031205ae551",
   "metadata": {},
   "source": [
    "### Vietnamese SBERT"
   ]
  },
  {
   "cell_type": "code",
   "execution_count": 229,
   "id": "fa92572c-7791-4f9c-a97c-d363b0218a18",
   "metadata": {},
   "outputs": [],
   "source": [
    "sbert = SentenceTransformer('keepitreal/vietnamese-sbert')"
   ]
  },
  {
   "cell_type": "code",
   "execution_count": 230,
   "id": "f5a4f623-4549-4f13-bfe7-fc6f53a77731",
   "metadata": {},
   "outputs": [],
   "source": [
    "sbert_X = sbert.encode(X)"
   ]
  },
  {
   "cell_type": "code",
   "execution_count": 231,
   "id": "4e29e8cd-6582-453b-8ad4-d492c8d7cb91",
   "metadata": {},
   "outputs": [
    {
     "data": {
      "text/plain": [
       "(396, 768)"
      ]
     },
     "execution_count": 231,
     "metadata": {},
     "output_type": "execute_result"
    }
   ],
   "source": [
    "sbert_X.shape"
   ]
  },
  {
   "cell_type": "markdown",
   "id": "23039145-ad71-4340-be63-22e1ae8bf931",
   "metadata": {},
   "source": [
    "## Classifier"
   ]
  },
  {
   "cell_type": "markdown",
   "id": "24d69ee9-2ef0-4fde-a1dc-3ff091919f5e",
   "metadata": {
    "tags": []
   },
   "source": [
    "### Logistic Regression"
   ]
  },
  {
   "cell_type": "code",
   "execution_count": 235,
   "id": "370f799e-ea87-44a0-8cc7-6d026875e001",
   "metadata": {
    "tags": []
   },
   "outputs": [],
   "source": [
    "clf = {}\n",
    "clf[\"tfidf\"] = OneVsRestClassifier(LogisticRegression()).fit(tfidf_X, y)\n",
    "clf[\"sbert\"] = OneVsRestClassifier(LogisticRegression()).fit(sbert_X, y)"
   ]
  },
  {
   "cell_type": "code",
   "execution_count": 239,
   "id": "6f80c0fa-c08d-4538-8f40-4d18b0b60012",
   "metadata": {},
   "outputs": [],
   "source": [
    "\"\"\" Inference \"\"\"\n",
    "def infer(text: Text,\n",
    "          embedding_type: Text = \"tfidf\",\n",
    "          with_prob: bool = False\n",
    "    ) -> Union[np.ndarray, Tuple[np.ndarray, np.ndarray]]:\n",
    "    pred = []\n",
    "\n",
    "    if not isinstance(text, List):\n",
    "        text = [text]\n",
    "\n",
    "    if embedding_type == \"tfidf\":\n",
    "        vectorizer = tfidf\n",
    "        _clf = clf[\"tfidf\"]\n",
    "    elif embedding_type == \"sbert\":\n",
    "        vectorizer = sbert\n",
    "        _clf = clf[\"sbert\"]\n",
    "    else:\n",
    "        raise ValueError\n",
    "\n",
    "    # preprocess\n",
    "    text = preprocess(text)\n",
    "    # vectorize\n",
    "    if embedding_type == \"tfidf\":\n",
    "        features = vectorizer.transform(text)\n",
    "    elif embedding_type == \"sbert\":\n",
    "        features = vectorizer.encode(text)\n",
    "    else:\n",
    "        raise ValueError\n",
    "    # classify\n",
    "    pred = _clf.predict(features)\n",
    "\n",
    "    if with_prob:\n",
    "        prob = _clf.predict_proba(features)\n",
    "        prob = np.max(prob, axis=1)\n",
    "        return pred, prob\n",
    "\n",
    "    return pred"
   ]
  },
  {
   "cell_type": "markdown",
   "id": "0bec528a-26ad-46d8-b2c6-c45d194336f0",
   "metadata": {},
   "source": [
    "#### TF-IDF Features"
   ]
  },
  {
   "cell_type": "code",
   "execution_count": 242,
   "id": "5bd7c0c8-debe-4da9-b3b9-2596e019d0ab",
   "metadata": {},
   "outputs": [],
   "source": [
    "def test1(text):\n",
    "    pred, prob = infer(text, embedding_type=\"tfidf\", with_prob=True)\n",
    "    pprint(pred)\n",
    "    pprint(lb.inverse_transform(pred))\n",
    "    pprint(prob)"
   ]
  },
  {
   "cell_type": "code",
   "execution_count": 243,
   "id": "5d0a2944-a227-41d1-ba41-354e71aee0ba",
   "metadata": {},
   "outputs": [
    {
     "name": "stdout",
     "output_type": "stream",
     "text": [
      "array([[0, 0, 0]])\n",
      "array(['C2A_TUVAN'], dtype='<U9')\n",
      "array([0.34704396])\n"
     ]
    }
   ],
   "source": [
    "text = \"em có thể diễn giải chi tiết hơn được không\"\n",
    "test1(text)"
   ]
  },
  {
   "cell_type": "code",
   "execution_count": 246,
   "id": "85e6eea7-d35d-4e93-96a6-62e3992082f3",
   "metadata": {},
   "outputs": [
    {
     "name": "stdout",
     "output_type": "stream",
     "text": [
      "array([[0, 1, 0]])\n",
      "array(['C2B_GLS'], dtype='<U9')\n",
      "array([0.51182048])\n"
     ]
    }
   ],
   "source": [
    "text = \"hay là chút nữa liên lạc lại em nhé\"\n",
    "test1(text)"
   ]
  },
  {
   "cell_type": "code",
   "execution_count": 248,
   "id": "6f3c9d75-fe15-4bdf-a57c-df2d44a47bb2",
   "metadata": {},
   "outputs": [
    {
     "name": "stdout",
     "output_type": "stream",
     "text": [
      "array([[0, 0, 1]])\n",
      "array(['C3_KQT'], dtype='<U9')\n",
      "array([0.62048898])\n"
     ]
    }
   ],
   "source": [
    "text = \"cảm ơn em nhưng chắc là anh không hứng thú\"\n",
    "test1(text)"
   ]
  },
  {
   "cell_type": "code",
   "execution_count": 251,
   "id": "0050c9a8-0744-4974-9d2c-5c56e7079cd2",
   "metadata": {},
   "outputs": [
    {
     "name": "stdout",
     "output_type": "stream",
     "text": [
      "array([[0, 0, 0]])\n",
      "array(['C2A_TUVAN'], dtype='<U9')\n",
      "array([0.46300921])\n"
     ]
    }
   ],
   "source": [
    "text = \"anh nghĩ là em nên dừng lại\"\n",
    "test1(text)"
   ]
  },
  {
   "cell_type": "code",
   "execution_count": 253,
   "id": "4bbd9ecf-e1c2-4023-bb2a-fab0e660ba02",
   "metadata": {},
   "outputs": [
    {
     "name": "stdout",
     "output_type": "stream",
     "text": [
      "array([[0, 0, 0]])\n",
      "array(['C2A_TUVAN'], dtype='<U9')\n",
      "array([0.46125805])\n"
     ]
    }
   ],
   "source": [
    "text = \"dạ không ạ\"\n",
    "test1(text)"
   ]
  },
  {
   "cell_type": "code",
   "execution_count": 257,
   "id": "190db567-71f9-43ca-9e38-df7a5566c8ad",
   "metadata": {},
   "outputs": [
    {
     "name": "stdout",
     "output_type": "stream",
     "text": [
      "array([[0, 0, 0]])\n",
      "array(['C2A_TUVAN'], dtype='<U9')\n",
      "array([0.36902174])\n"
     ]
    }
   ],
   "source": [
    "text = \"không đâu chị ơi\"\n",
    "test1(text)"
   ]
  },
  {
   "cell_type": "code",
   "execution_count": 265,
   "id": "d26debd3-57d9-4b22-a7c8-84d1c92168a2",
   "metadata": {},
   "outputs": [
    {
     "name": "stdout",
     "output_type": "stream",
     "text": [
      "array([[0, 0, 0]])\n",
      "array(['C2A_TUVAN'], dtype='<U9')\n",
      "array([0.38223752])\n"
     ]
    }
   ],
   "source": [
    "text = \"ừ không, mình đang làm rồi bạn nha\"\n",
    "test1(text)"
   ]
  },
  {
   "cell_type": "code",
   "execution_count": 268,
   "id": "a23285d1-a388-4e98-9d2a-8e963519f7c9",
   "metadata": {},
   "outputs": [
    {
     "name": "stdout",
     "output_type": "stream",
     "text": [
      "array([[0, 0, 0]])\n",
      "array(['C2A_TUVAN'], dtype='<U9')\n",
      "array([0.48442125])\n"
     ]
    }
   ],
   "source": [
    "text = \"dạ\"\n",
    "test1(text)"
   ]
  },
  {
   "cell_type": "markdown",
   "id": "b5729f50-f058-4a22-8807-b0279c730260",
   "metadata": {},
   "source": [
    "#### SBERT Features"
   ]
  },
  {
   "cell_type": "code",
   "execution_count": 244,
   "id": "91c06266-377a-46f8-aaec-472e051c4817",
   "metadata": {},
   "outputs": [],
   "source": [
    "def test2(text):\n",
    "    pred, prob = infer(text, embedding_type=\"sbert\", with_prob=True)\n",
    "    pprint(pred)\n",
    "    pprint(lb.inverse_transform(pred))\n",
    "    pprint(prob)"
   ]
  },
  {
   "cell_type": "code",
   "execution_count": 245,
   "id": "6d44e1f3-bf2e-48b1-a943-6e5b59828a1b",
   "metadata": {},
   "outputs": [
    {
     "name": "stdout",
     "output_type": "stream",
     "text": [
      "array([[1, 0, 0]])\n",
      "array(['C2A_TUVAN'], dtype='<U9')\n",
      "array([0.69315568])\n"
     ]
    }
   ],
   "source": [
    "text = \"em có thể diễn giải chi tiết hơn được không\"\n",
    "test2(text)"
   ]
  },
  {
   "cell_type": "code",
   "execution_count": 247,
   "id": "4eda13b3-ba7f-481d-8a32-53a587f1ee4a",
   "metadata": {},
   "outputs": [
    {
     "name": "stdout",
     "output_type": "stream",
     "text": [
      "array([[0, 1, 0]])\n",
      "array(['C2B_GLS'], dtype='<U9')\n",
      "array([0.95827348])\n"
     ]
    }
   ],
   "source": [
    "text = \"hay là chút nữa liên lạc lại em nhé\"\n",
    "test2(text)"
   ]
  },
  {
   "cell_type": "code",
   "execution_count": 249,
   "id": "102c3afa-1753-4d12-a63d-b1f2ae85fb3a",
   "metadata": {},
   "outputs": [
    {
     "name": "stdout",
     "output_type": "stream",
     "text": [
      "array([[0, 0, 1]])\n",
      "array(['C3_KQT'], dtype='<U9')\n",
      "array([0.77097445])\n"
     ]
    }
   ],
   "source": [
    "text = \"cảm ơn em nhưng chắc là anh không hứng thú\"\n",
    "test2(text)"
   ]
  },
  {
   "cell_type": "code",
   "execution_count": 252,
   "id": "e240515a-a4c4-4866-a705-a70c460df720",
   "metadata": {},
   "outputs": [
    {
     "name": "stdout",
     "output_type": "stream",
     "text": [
      "array([[0, 0, 0]])\n",
      "array(['C2A_TUVAN'], dtype='<U9')\n",
      "array([0.21407058])\n"
     ]
    }
   ],
   "source": [
    "text = \"anh nghĩ là em nên dừng lại\"\n",
    "test2(text)"
   ]
  },
  {
   "cell_type": "code",
   "execution_count": 256,
   "id": "ef39d785-a004-426d-983a-9c6df7f20c7a",
   "metadata": {},
   "outputs": [
    {
     "name": "stdout",
     "output_type": "stream",
     "text": [
      "array([[1, 0, 0]])\n",
      "array(['C2A_TUVAN'], dtype='<U9')\n",
      "array([0.89481114])\n"
     ]
    }
   ],
   "source": [
    "text = \"dạ không ạ\"\n",
    "test2(text)"
   ]
  },
  {
   "cell_type": "code",
   "execution_count": 258,
   "id": "3f9c199b-cc4a-4bad-9e6f-d21f26d972fc",
   "metadata": {},
   "outputs": [
    {
     "name": "stdout",
     "output_type": "stream",
     "text": [
      "array([[0, 0, 1]])\n",
      "array(['C3_KQT'], dtype='<U9')\n",
      "array([0.66558446])\n"
     ]
    }
   ],
   "source": [
    "text = \"không đâu chị ơi\"\n",
    "test2(text)"
   ]
  },
  {
   "cell_type": "code",
   "execution_count": 267,
   "id": "4853b06c-98fe-4f2a-932b-7b50a9e7529f",
   "metadata": {},
   "outputs": [
    {
     "name": "stdout",
     "output_type": "stream",
     "text": [
      "array([[0, 0, 1]])\n",
      "array(['C3_KQT'], dtype='<U9')\n",
      "array([0.80773914])\n"
     ]
    }
   ],
   "source": [
    "text = \"ừ không, mình đang làm rồi bạn nha\"\n",
    "test2(text)"
   ]
  }
 ],
 "metadata": {
  "kernelspec": {
   "display_name": "Python 3 (ipykernel)",
   "language": "python",
   "name": "python3"
  },
  "language_info": {
   "codemirror_mode": {
    "name": "ipython",
    "version": 3
   },
   "file_extension": ".py",
   "mimetype": "text/x-python",
   "name": "python",
   "nbconvert_exporter": "python",
   "pygments_lexer": "ipython3",
   "version": "3.7.12"
  }
 },
 "nbformat": 4,
 "nbformat_minor": 5
}
