{
 "cells": [
  {
   "cell_type": "code",
   "execution_count": 1,
   "id": "fc1999fe-ccd4-41d2-9eed-7e346490c417",
   "metadata": {},
   "outputs": [],
   "source": [
    "from typing import List, Text, Tuple, Union\n",
    "from pprint import pprint\n",
    "\n",
    "from pyvi import ViTokenizer\n",
    "import numpy as np\n",
    "import pandas as pd\n",
    "from sklearn.linear_model import LogisticRegression as LR\n",
    "from sklearn.feature_extraction.text import TfidfVectorizer\n",
    "from sklearn.preprocessing import LabelBinarizer, MultiLabelBinarizer, FunctionTransformer\n",
    "from sklearn.multiclass import OneVsRestClassifier as OVRStrategy\n",
    "from sklearn.pipeline import Pipeline\n",
    "from sklearn.model_selection import cross_val_score, cross_validate, GridSearchCV\n",
    "from sentence_transformers import SentenceTransformer\n",
    "import torch\n",
    "from transformers import AutoModelForSequenceClassification, AutoTokenizer\n",
    "from emandai.utils import load_data_from_botid\n",
    "from tqdm import tqdm\n",
    "from bokeh.io import output_file, output_notebook, export_png, show\n",
    "from bokeh.models import ColumnDataSource\n",
    "from bokeh.plotting import figure\n",
    "from bokeh.transform import dodge\n",
    "\n",
    "from va.src.utils.data import load_va_data"
   ]
  },
  {
   "cell_type": "markdown",
   "id": "b2fb98aa-abfc-4d96-9255-369286ba5de3",
   "metadata": {},
   "source": [
    "# First Look"
   ]
  },
  {
   "cell_type": "markdown",
   "id": "cbf03662-5321-4e02-a7bf-d6f6534a3a40",
   "metadata": {},
   "source": [
    "## Load Data"
   ]
  },
  {
   "cell_type": "code",
   "execution_count": 85,
   "id": "cc251d40-b617-49b8-b398-10c96723a1a6",
   "metadata": {},
   "outputs": [],
   "source": [
    "PATH = \"../data/trungquan/trainset.xlsx\"\n",
    "X, y = load_va_data(PATH)"
   ]
  },
  {
   "cell_type": "markdown",
   "id": "dcb7cb53-b45c-40d9-b616-a80d33f6d97f",
   "metadata": {},
   "source": [
    "## Preprocess Text"
   ]
  },
  {
   "cell_type": "code",
   "execution_count": 86,
   "id": "631bca38-2e37-455f-95e1-ba99d460adcf",
   "metadata": {},
   "outputs": [],
   "source": [
    "def preprocess(texts):\n",
    "    \"\"\" Word Segmentation \"\"\"\n",
    "    tokenize = lambda x: ViTokenizer.tokenize(x)\n",
    "\n",
    "    return [tokenize(text) for text in texts]"
   ]
  },
  {
   "cell_type": "code",
   "execution_count": 87,
   "id": "555553c3-fe19-4069-ab5d-43baccdc8565",
   "metadata": {},
   "outputs": [],
   "source": [
    "X = preprocess(X)"
   ]
  },
  {
   "cell_type": "markdown",
   "id": "6eb8b3d3-76d4-4967-bb03-2e5ff7840597",
   "metadata": {},
   "source": [
    "## Encode Label"
   ]
  },
  {
   "cell_type": "code",
   "execution_count": 88,
   "id": "4704a4d1-7ad4-4c82-a8dd-eadba7799086",
   "metadata": {},
   "outputs": [
    {
     "name": "stdout",
     "output_type": "stream",
     "text": [
      "array(['C2A_TUVAN', 'C2B_GLS', 'C3_KQT'], dtype='<U9')\n",
      "array([[0, 0, 1],\n",
      "       [0, 0, 1],\n",
      "       [0, 0, 1],\n",
      "       ...,\n",
      "       [1, 0, 0],\n",
      "       [1, 0, 0],\n",
      "       [1, 0, 0]])\n"
     ]
    }
   ],
   "source": [
    "lb = LabelBinarizer()\n",
    "y = lb.fit_transform(y)\n",
    "pprint(lb.classes_)\n",
    "pprint(y)"
   ]
  },
  {
   "cell_type": "code",
   "execution_count": 89,
   "id": "124c7c0d-cc24-465c-b1d3-796ee9787dbd",
   "metadata": {},
   "outputs": [],
   "source": [
    "def encode_label(labels):\n",
    "    lb = LabelBinarizer()\n",
    "    lb.fit(labels)\n",
    "    return lb"
   ]
  },
  {
   "cell_type": "markdown",
   "id": "59b5a1bb-dad2-40f0-84b3-e49e2245a063",
   "metadata": {},
   "source": [
    "## Text Embedding"
   ]
  },
  {
   "cell_type": "markdown",
   "id": "de6a555c-a72a-4ed7-b92e-ef047e34aeb9",
   "metadata": {
    "tags": []
   },
   "source": [
    "### TF-IDF"
   ]
  },
  {
   "cell_type": "code",
   "execution_count": 90,
   "id": "f64c314a-268d-45a3-9840-75af36da9583",
   "metadata": {},
   "outputs": [],
   "source": [
    "tfidf = TfidfVectorizer(token_pattern=r\"(?u)\\b\\w+\\b\", ngram_range=(1, 2))"
   ]
  },
  {
   "cell_type": "code",
   "execution_count": 91,
   "id": "c5b6c4d8-3de2-48b5-9a06-9b9c6e6f2ca8",
   "metadata": {},
   "outputs": [],
   "source": [
    "tfidf_X = tfidf.fit_transform(X)"
   ]
  },
  {
   "cell_type": "code",
   "execution_count": 92,
   "id": "e466d360-3ad7-431b-a479-b89a9f38d74d",
   "metadata": {},
   "outputs": [
    {
     "data": {
      "text/plain": [
       "1281"
      ]
     },
     "execution_count": 92,
     "metadata": {},
     "output_type": "execute_result"
    }
   ],
   "source": [
    "len(tfidf.vocabulary_)"
   ]
  },
  {
   "cell_type": "markdown",
   "id": "f87d60b9-2b81-4b88-8c00-a031205ae551",
   "metadata": {},
   "source": [
    "### Vietnamese SBERT"
   ]
  },
  {
   "cell_type": "code",
   "execution_count": 229,
   "id": "fa92572c-7791-4f9c-a97c-d363b0218a18",
   "metadata": {},
   "outputs": [],
   "source": [
    "sbert = SentenceTransformer('keepitreal/vietnamese-sbert')"
   ]
  },
  {
   "cell_type": "code",
   "execution_count": 93,
   "id": "f5a4f623-4549-4f13-bfe7-fc6f53a77731",
   "metadata": {},
   "outputs": [
    {
     "data": {
      "application/vnd.jupyter.widget-view+json": {
       "model_id": "14fece094fb545aabed7de4752d4552f",
       "version_major": 2,
       "version_minor": 0
      },
      "text/plain": [
       "Batches:   0%|          | 0/13 [00:00<?, ?it/s]"
      ]
     },
     "metadata": {},
     "output_type": "display_data"
    }
   ],
   "source": [
    "sbert_X = sbert.encode(X)"
   ]
  },
  {
   "cell_type": "code",
   "execution_count": 94,
   "id": "4e29e8cd-6582-453b-8ad4-d492c8d7cb91",
   "metadata": {},
   "outputs": [
    {
     "data": {
      "text/plain": [
       "(396, 768)"
      ]
     },
     "execution_count": 94,
     "metadata": {},
     "output_type": "execute_result"
    }
   ],
   "source": [
    "sbert_X.shape"
   ]
  },
  {
   "cell_type": "markdown",
   "id": "b0976f64-8b94-45a9-a261-c01c84e7cbad",
   "metadata": {
    "tags": []
   },
   "source": [
    "### PhoBERT"
   ]
  },
  {
   "cell_type": "code",
   "execution_count": 331,
   "id": "56218750-3216-4f6e-b9c0-edc9dbc1f806",
   "metadata": {},
   "outputs": [
    {
     "name": "stderr",
     "output_type": "stream",
     "text": [
      "Some weights of the model checkpoint at vinai/phobert-base were not used when initializing RobertaForSequenceClassification: ['roberta.pooler.dense.weight', 'lm_head.layer_norm.weight', 'lm_head.decoder.bias', 'lm_head.dense.bias', 'lm_head.bias', 'lm_head.dense.weight', 'lm_head.layer_norm.bias', 'lm_head.decoder.weight', 'roberta.pooler.dense.bias']\n",
      "- This IS expected if you are initializing RobertaForSequenceClassification from the checkpoint of a model trained on another task or with another architecture (e.g. initializing a BertForSequenceClassification model from a BertForPreTraining model).\n",
      "- This IS NOT expected if you are initializing RobertaForSequenceClassification from the checkpoint of a model that you expect to be exactly identical (initializing a BertForSequenceClassification model from a BertForSequenceClassification model).\n",
      "Some weights of RobertaForSequenceClassification were not initialized from the model checkpoint at vinai/phobert-base and are newly initialized: ['classifier.out_proj.bias', 'classifier.dense.weight', 'classifier.dense.bias', 'classifier.out_proj.weight']\n",
      "You should probably TRAIN this model on a down-stream task to be able to use it for predictions and inference.\n",
      "Special tokens have been added in the vocabulary, make sure the associated word embeddings are fine-tuned or trained.\n"
     ]
    }
   ],
   "source": [
    "phobert = AutoModelForSequenceClassification.from_pretrained(\"vinai/phobert-base\")\n",
    "photokenizer = AutoTokenizer.from_pretrained(\"vinai/phobert-base\")"
   ]
  },
  {
   "cell_type": "code",
   "execution_count": 95,
   "id": "163a0b91-8a61-4bb6-8c61-dda38ec4a3dc",
   "metadata": {},
   "outputs": [],
   "source": [
    "def phobert_encode(text: Union[Text, List[Text]],\n",
    "                   phobert,\n",
    "                   photokenizer) -> np.ndarray:\n",
    "    \"\"\" Get sentence embedding from [CLS] token of the given text.\n",
    "    reference: https://discuss.huggingface.co/t/how-to-get-cls-embeddings-from-bertfortokenclassification-model/9276/3\n",
    "    \"\"\"\n",
    "    embeddings = None\n",
    "\n",
    "    encoded_text = photokenizer(text, padding=True, truncation=True, return_tensors=\"pt\")\n",
    "    text_ids = encoded_text[\"input_ids\"]\n",
    "    with torch.no_grad():\n",
    "        outputs = phobert(text_ids, output_hidden_states=True)\n",
    "        last_hidden_state = outputs.hidden_states[-1]\n",
    "        embeddings = last_hidden_state[:, 0, :]\n",
    "\n",
    "        if isinstance(embeddings, torch.Tensor):\n",
    "            embeddings = embeddings.detach().cpu().numpy()\n",
    "\n",
    "        return embeddings"
   ]
  },
  {
   "cell_type": "code",
   "execution_count": 2,
   "id": "f6d6b999-cc45-4f2f-a48e-8767fb969a50",
   "metadata": {},
   "outputs": [],
   "source": [
    "class PhoBertWrapper:\n",
    "    def __init__(self):\n",
    "        self.model = AutoModelForSequenceClassification.from_pretrained(\"vinai/phobert-base\")\n",
    "        self.tokenizer = AutoTokenizer.from_pretrained(\"vinai/phobert-base\")\n",
    "\n",
    "    def encode(self, X: Union[Text, List[Text]]):\n",
    "        embeddings = None\n",
    "\n",
    "        encoded_text = self.tokenizer(X, padding=True, truncation=True, return_tensors=\"pt\")\n",
    "        text_ids = encoded_text[\"input_ids\"]\n",
    "        with torch.no_grad():\n",
    "            outputs = self.model(text_ids, output_hidden_states=True)\n",
    "            last_hidden_state = outputs.hidden_states[-1]\n",
    "            embeddings = last_hidden_state[:, 0, :]\n",
    "            if isinstance(embeddings, torch.Tensor):\n",
    "                embeddings = embeddings.detach().cpu().numpy()\n",
    "\n",
    "        return embeddings"
   ]
  },
  {
   "cell_type": "code",
   "execution_count": null,
   "id": "d7d53d48-e200-4683-ba21-f036995153a4",
   "metadata": {},
   "outputs": [],
   "source": [
    "phobert_X = phobert_encode(X, phobert, photokenizer)"
   ]
  },
  {
   "cell_type": "code",
   "execution_count": 80,
   "id": "01ee758d-f76e-43cf-94f8-df662315a1bf",
   "metadata": {},
   "outputs": [
    {
     "data": {
      "text/plain": [
       "(396, 768)"
      ]
     },
     "execution_count": 80,
     "metadata": {},
     "output_type": "execute_result"
    }
   ],
   "source": [
    "phobert_X.shape"
   ]
  },
  {
   "cell_type": "markdown",
   "id": "23039145-ad71-4340-be63-22e1ae8bf931",
   "metadata": {},
   "source": [
    "## Classifier"
   ]
  },
  {
   "cell_type": "markdown",
   "id": "24d69ee9-2ef0-4fde-a1dc-3ff091919f5e",
   "metadata": {
    "tags": []
   },
   "source": [
    "### Logistic Regression"
   ]
  },
  {
   "cell_type": "code",
   "execution_count": null,
   "id": "370f799e-ea87-44a0-8cc7-6d026875e001",
   "metadata": {
    "tags": []
   },
   "outputs": [],
   "source": [
    "clf = {}\n",
    "clf[\"tfidf\"] = OneVsRestClassifier(LogisticRegression()).fit(tfidf_X, y)\n",
    "clf[\"sbert\"] = OneVsRestClassifier(LogisticRegression()).fit(sbert_X, y)\n",
    "clf[\"phobert\"] = OneVsRestClassifier(LogisticRegression()).fit(phobert_X, y)"
   ]
  },
  {
   "cell_type": "code",
   "execution_count": 77,
   "id": "d98d7416-ac7d-4a76-8565-0fd9a99f4b8f",
   "metadata": {},
   "outputs": [],
   "source": [
    "\"\"\" Inference \"\"\"\n",
    "def infer(text: Text,\n",
    "          embedding_type: Text = \"tfidf\",\n",
    "          with_prob: bool = False\n",
    "    ) -> Union[np.ndarray, Tuple[np.ndarray, np.ndarray]]:\n",
    "    pred = []\n",
    "\n",
    "    if not isinstance(text, List):\n",
    "        text = [text]\n",
    "\n",
    "    if embedding_type == \"tfidf\":\n",
    "        vectorizer = tfidf\n",
    "        _clf = clf[\"tfidf\"]\n",
    "    elif embedding_type == \"sbert\":\n",
    "        vectorizer = sbert\n",
    "        _clf = clf[\"sbert\"]\n",
    "    elif embedding_type == \"phobert\":\n",
    "        vectorizer = phobert\n",
    "        _clf = clf[\"phobert\"]\n",
    "    else:\n",
    "        raise ValueError\n",
    "\n",
    "    # preprocess\n",
    "    text = preprocess(text)\n",
    "\n",
    "    # vectorize\n",
    "    if embedding_type == \"tfidf\":\n",
    "        features = vectorizer.transform(text)\n",
    "    elif embedding_type == \"sbert\":\n",
    "        features = vectorizer.encode(text)\n",
    "    elif embedding_type == \"phobert\":\n",
    "        features = phobert.encode(text)\n",
    "    else:\n",
    "        raise ValueError\n",
    "\n",
    "    # classify\n",
    "    pred = _clf.predict(features)\n",
    "\n",
    "    if with_prob:\n",
    "        prob = _clf.predict_proba(features)\n",
    "        prob = np.max(prob, axis=1)\n",
    "        return pred, prob\n",
    "\n",
    "    return pred"
   ]
  },
  {
   "cell_type": "markdown",
   "id": "e560c8b5-ebd8-4e83-a665-684a6c1e2227",
   "metadata": {},
   "source": [
    "#### Features"
   ]
  },
  {
   "cell_type": "markdown",
   "id": "0bec528a-26ad-46d8-b2c6-c45d194336f0",
   "metadata": {},
   "source": [
    "##### TF-IDF"
   ]
  },
  {
   "cell_type": "code",
   "execution_count": 242,
   "id": "5bd7c0c8-debe-4da9-b3b9-2596e019d0ab",
   "metadata": {},
   "outputs": [],
   "source": [
    "def test1(text):\n",
    "    pred, prob = infer(text, embedding_type=\"tfidf\", with_prob=True)\n",
    "    pprint(pred)\n",
    "    pprint(lb.inverse_transform(pred))\n",
    "    pprint(prob)"
   ]
  },
  {
   "cell_type": "code",
   "execution_count": 243,
   "id": "5d0a2944-a227-41d1-ba41-354e71aee0ba",
   "metadata": {},
   "outputs": [
    {
     "name": "stdout",
     "output_type": "stream",
     "text": [
      "array([[0, 0, 0]])\n",
      "array(['C2A_TUVAN'], dtype='<U9')\n",
      "array([0.34704396])\n"
     ]
    }
   ],
   "source": [
    "text = \"em có thể diễn giải chi tiết hơn được không\"\n",
    "test1(text)"
   ]
  },
  {
   "cell_type": "code",
   "execution_count": 246,
   "id": "85e6eea7-d35d-4e93-96a6-62e3992082f3",
   "metadata": {},
   "outputs": [
    {
     "name": "stdout",
     "output_type": "stream",
     "text": [
      "array([[0, 1, 0]])\n",
      "array(['C2B_GLS'], dtype='<U9')\n",
      "array([0.51182048])\n"
     ]
    }
   ],
   "source": [
    "text = \"hay là chút nữa liên lạc lại em nhé\"\n",
    "test1(text)"
   ]
  },
  {
   "cell_type": "code",
   "execution_count": 248,
   "id": "6f3c9d75-fe15-4bdf-a57c-df2d44a47bb2",
   "metadata": {},
   "outputs": [
    {
     "name": "stdout",
     "output_type": "stream",
     "text": [
      "array([[0, 0, 1]])\n",
      "array(['C3_KQT'], dtype='<U9')\n",
      "array([0.62048898])\n"
     ]
    }
   ],
   "source": [
    "text = \"cảm ơn em nhưng chắc là anh không hứng thú\"\n",
    "test1(text)"
   ]
  },
  {
   "cell_type": "code",
   "execution_count": 251,
   "id": "0050c9a8-0744-4974-9d2c-5c56e7079cd2",
   "metadata": {},
   "outputs": [
    {
     "name": "stdout",
     "output_type": "stream",
     "text": [
      "array([[0, 0, 0]])\n",
      "array(['C2A_TUVAN'], dtype='<U9')\n",
      "array([0.46300921])\n"
     ]
    }
   ],
   "source": [
    "text = \"anh nghĩ là em nên dừng lại\"\n",
    "test1(text)"
   ]
  },
  {
   "cell_type": "code",
   "execution_count": 253,
   "id": "4bbd9ecf-e1c2-4023-bb2a-fab0e660ba02",
   "metadata": {},
   "outputs": [
    {
     "name": "stdout",
     "output_type": "stream",
     "text": [
      "array([[0, 0, 0]])\n",
      "array(['C2A_TUVAN'], dtype='<U9')\n",
      "array([0.46125805])\n"
     ]
    }
   ],
   "source": [
    "text = \"dạ không ạ\"\n",
    "test1(text)"
   ]
  },
  {
   "cell_type": "code",
   "execution_count": 257,
   "id": "190db567-71f9-43ca-9e38-df7a5566c8ad",
   "metadata": {},
   "outputs": [
    {
     "name": "stdout",
     "output_type": "stream",
     "text": [
      "array([[0, 0, 0]])\n",
      "array(['C2A_TUVAN'], dtype='<U9')\n",
      "array([0.36902174])\n"
     ]
    }
   ],
   "source": [
    "text = \"không đâu chị ơi\"\n",
    "test1(text)"
   ]
  },
  {
   "cell_type": "code",
   "execution_count": 265,
   "id": "d26debd3-57d9-4b22-a7c8-84d1c92168a2",
   "metadata": {},
   "outputs": [
    {
     "name": "stdout",
     "output_type": "stream",
     "text": [
      "array([[0, 0, 0]])\n",
      "array(['C2A_TUVAN'], dtype='<U9')\n",
      "array([0.38223752])\n"
     ]
    }
   ],
   "source": [
    "text = \"ừ không, mình đang làm rồi bạn nha\"\n",
    "test1(text)"
   ]
  },
  {
   "cell_type": "markdown",
   "id": "b5729f50-f058-4a22-8807-b0279c730260",
   "metadata": {
    "tags": []
   },
   "source": [
    "##### SBERT"
   ]
  },
  {
   "cell_type": "code",
   "execution_count": 244,
   "id": "91c06266-377a-46f8-aaec-472e051c4817",
   "metadata": {},
   "outputs": [],
   "source": [
    "def test2(text):\n",
    "    pred, prob = infer(text, embedding_type=\"sbert\", with_prob=True)\n",
    "    pprint(pred)\n",
    "    pprint(lb.inverse_transform(pred))\n",
    "    pprint(prob)"
   ]
  },
  {
   "cell_type": "code",
   "execution_count": 245,
   "id": "6d44e1f3-bf2e-48b1-a943-6e5b59828a1b",
   "metadata": {},
   "outputs": [
    {
     "name": "stdout",
     "output_type": "stream",
     "text": [
      "array([[1, 0, 0]])\n",
      "array(['C2A_TUVAN'], dtype='<U9')\n",
      "array([0.69315568])\n"
     ]
    }
   ],
   "source": [
    "text = \"em có thể diễn giải chi tiết hơn được không\"\n",
    "test2(text)"
   ]
  },
  {
   "cell_type": "code",
   "execution_count": 247,
   "id": "4eda13b3-ba7f-481d-8a32-53a587f1ee4a",
   "metadata": {},
   "outputs": [
    {
     "name": "stdout",
     "output_type": "stream",
     "text": [
      "array([[0, 1, 0]])\n",
      "array(['C2B_GLS'], dtype='<U9')\n",
      "array([0.95827348])\n"
     ]
    }
   ],
   "source": [
    "text = \"hay là chút nữa liên lạc lại em nhé\"\n",
    "test2(text)"
   ]
  },
  {
   "cell_type": "code",
   "execution_count": 249,
   "id": "102c3afa-1753-4d12-a63d-b1f2ae85fb3a",
   "metadata": {},
   "outputs": [
    {
     "name": "stdout",
     "output_type": "stream",
     "text": [
      "array([[0, 0, 1]])\n",
      "array(['C3_KQT'], dtype='<U9')\n",
      "array([0.77097445])\n"
     ]
    }
   ],
   "source": [
    "text = \"cảm ơn em nhưng chắc là anh không hứng thú\"\n",
    "test2(text)"
   ]
  },
  {
   "cell_type": "code",
   "execution_count": 252,
   "id": "e240515a-a4c4-4866-a705-a70c460df720",
   "metadata": {},
   "outputs": [
    {
     "name": "stdout",
     "output_type": "stream",
     "text": [
      "array([[0, 0, 0]])\n",
      "array(['C2A_TUVAN'], dtype='<U9')\n",
      "array([0.21407058])\n"
     ]
    }
   ],
   "source": [
    "text = \"anh nghĩ là em nên dừng lại\"\n",
    "test2(text)"
   ]
  },
  {
   "cell_type": "code",
   "execution_count": 256,
   "id": "ef39d785-a004-426d-983a-9c6df7f20c7a",
   "metadata": {},
   "outputs": [
    {
     "name": "stdout",
     "output_type": "stream",
     "text": [
      "array([[1, 0, 0]])\n",
      "array(['C2A_TUVAN'], dtype='<U9')\n",
      "array([0.89481114])\n"
     ]
    }
   ],
   "source": [
    "text = \"dạ không ạ\"\n",
    "test2(text)"
   ]
  },
  {
   "cell_type": "code",
   "execution_count": 258,
   "id": "3f9c199b-cc4a-4bad-9e6f-d21f26d972fc",
   "metadata": {},
   "outputs": [
    {
     "name": "stdout",
     "output_type": "stream",
     "text": [
      "array([[0, 0, 1]])\n",
      "array(['C3_KQT'], dtype='<U9')\n",
      "array([0.66558446])\n"
     ]
    }
   ],
   "source": [
    "text = \"không đâu chị ơi\"\n",
    "test2(text)"
   ]
  },
  {
   "cell_type": "code",
   "execution_count": 267,
   "id": "4853b06c-98fe-4f2a-932b-7b50a9e7529f",
   "metadata": {},
   "outputs": [
    {
     "name": "stdout",
     "output_type": "stream",
     "text": [
      "array([[0, 0, 1]])\n",
      "array(['C3_KQT'], dtype='<U9')\n",
      "array([0.80773914])\n"
     ]
    }
   ],
   "source": [
    "text = \"ừ không, mình đang làm rồi bạn nha\"\n",
    "test2(text)"
   ]
  },
  {
   "cell_type": "markdown",
   "id": "c59b19c4-3ecc-4d9c-94f7-47c639ba4647",
   "metadata": {
    "toc-hr-collapsed": true
   },
   "source": [
    "##### PhoBERT"
   ]
  },
  {
   "cell_type": "code",
   "execution_count": 78,
   "id": "a3c8a690-46a5-41b2-a6d6-807af2566a3d",
   "metadata": {},
   "outputs": [],
   "source": [
    "def test3(text):\n",
    "    pred, prob = infer(text, embedding_type=\"phobert\", with_prob=True)\n",
    "    pprint(pred)\n",
    "    pprint(lb.inverse_transform(pred))\n",
    "    pprint(prob)"
   ]
  },
  {
   "cell_type": "code",
   "execution_count": null,
   "id": "21d34ebe-463b-4b32-ab17-8c8768dc8ba7",
   "metadata": {},
   "outputs": [],
   "source": [
    "text = \"em có thể diễn giải chi tiết hơn được không\"\n",
    "test3(text)"
   ]
  },
  {
   "cell_type": "code",
   "execution_count": 457,
   "id": "8db496e5-685a-4d3d-98bc-4c3e8a511855",
   "metadata": {},
   "outputs": [
    {
     "name": "stdout",
     "output_type": "stream",
     "text": [
      "array([[0, 0, 0]])\n",
      "array(['C2A_TUVAN'], dtype='<U9')\n",
      "array([0.37629714])\n"
     ]
    }
   ],
   "source": [
    "text = \"hay là chút nữa liên lạc lại em nhé\"\n",
    "test3(text)"
   ]
  },
  {
   "cell_type": "markdown",
   "id": "c82528a4-095c-4c69-9bf9-0cff24b7240d",
   "metadata": {},
   "source": [
    "# Benchmark"
   ]
  },
  {
   "cell_type": "code",
   "execution_count": 2,
   "id": "625e71f3-fd02-46a1-93d7-e66be22186cb",
   "metadata": {},
   "outputs": [],
   "source": [
    "embedding_types = [\"tfidf\", \"sbert\", \"phobert\"]"
   ]
  },
  {
   "cell_type": "code",
   "execution_count": 3,
   "id": "af3504bd-67cf-42c4-9dff-aacf36c6d0d7",
   "metadata": {},
   "outputs": [],
   "source": [
    "class PhoBertWrapper:\n",
    "    def __init__(self):\n",
    "        self.model = AutoModelForSequenceClassification.from_pretrained(\"vinai/phobert-base\")\n",
    "        self.tokenizer = AutoTokenizer.from_pretrained(\"vinai/phobert-base\")\n",
    "\n",
    "    def encode(self, X: Union[Text, List[Text]]):\n",
    "        embeddings = None\n",
    "\n",
    "        encoded_text = self.tokenizer(X, padding=True, truncation=True, return_tensors=\"pt\")\n",
    "        text_ids = encoded_text[\"input_ids\"]\n",
    "        with torch.no_grad():\n",
    "            outputs = self.model(text_ids, output_hidden_states=True)\n",
    "            last_hidden_state = outputs.hidden_states[-1]\n",
    "            embeddings = last_hidden_state[:, 0, :]\n",
    "            if isinstance(embeddings, torch.Tensor):\n",
    "                embeddings = embeddings.detach().cpu().numpy()\n",
    "\n",
    "        return embeddings"
   ]
  },
  {
   "cell_type": "code",
   "execution_count": 4,
   "id": "660ec73f-f97c-4d09-b938-4abd4c285b69",
   "metadata": {},
   "outputs": [
    {
     "name": "stderr",
     "output_type": "stream",
     "text": [
      "INFO:sentence_transformers.SentenceTransformer:Load pretrained SentenceTransformer: keepitreal/vietnamese-sbert\n",
      "INFO:sentence_transformers.SentenceTransformer:Use pytorch device: cuda\n",
      "Some weights of the model checkpoint at vinai/phobert-base were not used when initializing RobertaForSequenceClassification: ['lm_head.decoder.weight', 'lm_head.dense.weight', 'lm_head.layer_norm.bias', 'roberta.pooler.dense.weight', 'lm_head.decoder.bias', 'lm_head.dense.bias', 'lm_head.bias', 'lm_head.layer_norm.weight', 'roberta.pooler.dense.bias']\n",
      "- This IS expected if you are initializing RobertaForSequenceClassification from the checkpoint of a model trained on another task or with another architecture (e.g. initializing a BertForSequenceClassification model from a BertForPreTraining model).\n",
      "- This IS NOT expected if you are initializing RobertaForSequenceClassification from the checkpoint of a model that you expect to be exactly identical (initializing a BertForSequenceClassification model from a BertForSequenceClassification model).\n",
      "Some weights of RobertaForSequenceClassification were not initialized from the model checkpoint at vinai/phobert-base and are newly initialized: ['classifier.out_proj.bias', 'classifier.dense.bias', 'classifier.out_proj.weight', 'classifier.dense.weight']\n",
      "You should probably TRAIN this model on a down-stream task to be able to use it for predictions and inference.\n",
      "Special tokens have been added in the vocabulary, make sure the associated word embeddings are fine-tuned or trained.\n"
     ]
    }
   ],
   "source": [
    "sbert = SentenceTransformer('keepitreal/vietnamese-sbert')\n",
    "phobert = PhoBertWrapper()"
   ]
  },
  {
   "cell_type": "markdown",
   "id": "5076000b-7241-4d4a-907c-0a5df346742a",
   "metadata": {},
   "source": [
    "## Load Data"
   ]
  },
  {
   "cell_type": "code",
   "execution_count": 5,
   "id": "750bc2ed-47d4-4054-af75-d1580135997b",
   "metadata": {},
   "outputs": [],
   "source": [
    "botid = {\n",
    "    \"sunlaw\": \"6268f7e49f455cd4ea292d88\",\n",
    "    \"lamhaian\": \"6268f8049f455c653b292e29\",\n",
    "    \"giang.nguyen\": \"6268f7f89f455cd9eb292df4\",\n",
    "    \"panasonic\": \"628c83a46c9e4c57fdbc5df6\",\n",
    "    \"trung.quan\": \"628a14af6c9e4c08cebc3e34\"\n",
    "}"
   ]
  },
  {
   "cell_type": "markdown",
   "id": "a8f430b4-7a64-4e11-803e-03503767a58a",
   "metadata": {},
   "source": [
    "### Training Set"
   ]
  },
  {
   "cell_type": "code",
   "execution_count": 6,
   "id": "060648c1-cb11-4b2d-98fd-940fc3ff7502",
   "metadata": {},
   "outputs": [
    {
     "name": "stderr",
     "output_type": "stream",
     "text": [
      "INFO:oauth2client.transport:Attempting refresh to obtain initial access_token\n",
      "INFO:oauth2client.client:Refreshing access_token\n",
      "INFO:oauth2client.transport:Attempting refresh to obtain initial access_token\n",
      "INFO:oauth2client.client:Refreshing access_token\n",
      "INFO:oauth2client.transport:Attempting refresh to obtain initial access_token\n",
      "INFO:oauth2client.client:Refreshing access_token\n",
      "INFO:oauth2client.transport:Attempting refresh to obtain initial access_token\n",
      "INFO:oauth2client.client:Refreshing access_token\n",
      "INFO:oauth2client.transport:Attempting refresh to obtain initial access_token\n",
      "INFO:oauth2client.client:Refreshing access_token\n"
     ]
    }
   ],
   "source": [
    "# load data\n",
    "data = {k: load_data_from_botid(v) for k, v in botid.items()}"
   ]
  },
  {
   "cell_type": "markdown",
   "id": "7f67275f-159b-493e-94a5-29903d844494",
   "metadata": {},
   "source": [
    "### Test set"
   ]
  },
  {
   "cell_type": "code",
   "execution_count": null,
   "id": "c19d9c70-3fa9-4a51-ba03-09afaaff0bd6",
   "metadata": {},
   "outputs": [],
   "source": []
  },
  {
   "cell_type": "markdown",
   "id": "6c9520fb-c3e6-474a-824c-b8d6daf16b35",
   "metadata": {},
   "source": [
    "## Preprocess Data"
   ]
  },
  {
   "cell_type": "code",
   "execution_count": 7,
   "id": "929d7169-daa6-44df-8781-40c75da3b371",
   "metadata": {},
   "outputs": [],
   "source": [
    "# preprocess\n",
    "def preprocess(data: pd.DataFrame) -> pd.DataFrame:\n",
    "    \"\"\" Text preprocessing\n",
    "    \"\"\"\n",
    "    # remove duplicate\n",
    "    data = data.drop_duplicates(\"Sentence\")\n",
    "\n",
    "    # lower\n",
    "    data[\"Sentence\"] = data[\"Sentence\"].map(lambda x: x.lower())\n",
    "    data.head(n=10)\n",
    "\n",
    "    # word segmenation\n",
    "    data[\"Sentence\"] = data[\"Sentence\"].map(ViTokenizer.tokenize)\n",
    "\n",
    "    return data"
   ]
  },
  {
   "cell_type": "code",
   "execution_count": 8,
   "id": "3e2a348e-13db-48dd-b011-a7a4a48e17e0",
   "metadata": {},
   "outputs": [],
   "source": [
    "preprocessed_data = {k: preprocess(v) for k, v in data.items()}"
   ]
  },
  {
   "cell_type": "code",
   "execution_count": 9,
   "id": "41313300-5727-4d97-ab04-c81b40fae351",
   "metadata": {},
   "outputs": [],
   "source": [
    "X = {k: v[\"Sentence\"].tolist() for k, v in preprocessed_data.items()}"
   ]
  },
  {
   "cell_type": "markdown",
   "id": "bb8a5cba-9a0e-4ca3-a68e-cd4fccd08484",
   "metadata": {
    "jp-MarkdownHeadingCollapsed": true,
    "tags": []
   },
   "source": [
    "## Get Features (DEPRECATED)"
   ]
  },
  {
   "cell_type": "code",
   "execution_count": 7,
   "id": "22cf42a6-355f-4d6f-82e3-db65ff00a087",
   "metadata": {},
   "outputs": [
    {
     "name": "stderr",
     "output_type": "stream",
     "text": [
      "INFO:sentence_transformers.SentenceTransformer:Load pretrained SentenceTransformer: keepitreal/vietnamese-sbert\n",
      "INFO:sentence_transformers.SentenceTransformer:Use pytorch device: cuda\n",
      "Some weights of the model checkpoint at vinai/phobert-base were not used when initializing RobertaForSequenceClassification: ['lm_head.dense.weight', 'lm_head.bias', 'lm_head.layer_norm.weight', 'lm_head.decoder.weight', 'roberta.pooler.dense.weight', 'lm_head.layer_norm.bias', 'roberta.pooler.dense.bias', 'lm_head.decoder.bias', 'lm_head.dense.bias']\n",
      "- This IS expected if you are initializing RobertaForSequenceClassification from the checkpoint of a model trained on another task or with another architecture (e.g. initializing a BertForSequenceClassification model from a BertForPreTraining model).\n",
      "- This IS NOT expected if you are initializing RobertaForSequenceClassification from the checkpoint of a model that you expect to be exactly identical (initializing a BertForSequenceClassification model from a BertForSequenceClassification model).\n",
      "Some weights of RobertaForSequenceClassification were not initialized from the model checkpoint at vinai/phobert-base and are newly initialized: ['classifier.dense.weight', 'classifier.out_proj.bias', 'classifier.out_proj.weight', 'classifier.dense.bias']\n",
      "You should probably TRAIN this model on a down-stream task to be able to use it for predictions and inference.\n",
      "Special tokens have been added in the vocabulary, make sure the associated word embeddings are fine-tuned or trained.\n"
     ]
    }
   ],
   "source": [
    "\"\"\" Inititialize featurizers \n",
    "\"\"\"\n",
    "tfidf = TfidfVectorizer(token_pattern=r\"(?u)\\b\\w+\\b\", ngram_range=(1, 2))\n",
    "sbert = SentenceTransformer('keepitreal/vietnamese-sbert')\n",
    "phobert = PhoBertWrapper()"
   ]
  },
  {
   "cell_type": "code",
   "execution_count": 8,
   "id": "981107df-e79c-4a12-a888-7df865340564",
   "metadata": {},
   "outputs": [],
   "source": [
    "def get_features(X: Union[Text, List[Text]],\n",
    "                 embedding_type: Text) -> np.ndarray:\n",
    "    if embedding_type == \"tfidf\":\n",
    "        X = tfidf.fit_transform(X).toarray()\n",
    "    elif embedding_type == \"sbert\":\n",
    "        X = sbert.encode(X)\n",
    "    elif embedding_type == \"phobert\":\n",
    "        X = phobert.encode(X)\n",
    "    else:\n",
    "        raise ValueError(\"Current supported text encoders: ['tfidf', 'sbert', 'phobert']\")\n",
    "\n",
    "    return X"
   ]
  },
  {
   "cell_type": "code",
   "execution_count": 9,
   "id": "b63e5a20-7107-470a-b318-b1cf04ebd603",
   "metadata": {},
   "outputs": [],
   "source": [
    "X = {k: v[\"Sentence\"].tolist() for k, v in preprocessed_data.items()}"
   ]
  },
  {
   "cell_type": "code",
   "execution_count": 10,
   "id": "031f98ae-d35d-4c8a-a69d-f30fcf77d672",
   "metadata": {},
   "outputs": [
    {
     "name": "stderr",
     "output_type": "stream",
     "text": [
      "  0%|                                                                                                           | 0/3 [00:00<?, ?it/s]"
     ]
    },
    {
     "data": {
      "application/vnd.jupyter.widget-view+json": {
       "model_id": "c98ac39991504ac79ea4a90e9f5aa3fe",
       "version_major": 2,
       "version_minor": 0
      },
      "text/plain": [
       "Batches:   0%|          | 0/26 [00:00<?, ?it/s]"
      ]
     },
     "metadata": {},
     "output_type": "display_data"
    },
    {
     "name": "stderr",
     "output_type": "stream",
     "text": [
      " 33%|█████████████████████████████████                                                                  | 1/3 [00:07<00:15,  7.71s/it]"
     ]
    },
    {
     "data": {
      "application/vnd.jupyter.widget-view+json": {
       "model_id": "ca112becd54f4922a79509512d32ba27",
       "version_major": 2,
       "version_minor": 0
      },
      "text/plain": [
       "Batches:   0%|          | 0/23 [00:00<?, ?it/s]"
      ]
     },
     "metadata": {},
     "output_type": "display_data"
    },
    {
     "name": "stderr",
     "output_type": "stream",
     "text": [
      " 67%|██████████████████████████████████████████████████████████████████                                 | 2/3 [00:11<00:05,  5.63s/it]"
     ]
    },
    {
     "data": {
      "application/vnd.jupyter.widget-view+json": {
       "model_id": "c2507080db5341e5b439570d70a619c3",
       "version_major": 2,
       "version_minor": 0
      },
      "text/plain": [
       "Batches:   0%|          | 0/29 [00:00<?, ?it/s]"
      ]
     },
     "metadata": {},
     "output_type": "display_data"
    },
    {
     "name": "stderr",
     "output_type": "stream",
     "text": [
      "100%|███████████████████████████████████████████████████████████████████████████████████████████████████| 3/3 [00:17<00:00,  5.70s/it]\n"
     ]
    }
   ],
   "source": [
    "features = {k: {t: get_features(X[k], t) for t in embedding_types} for k, v in tqdm(X.items())}"
   ]
  },
  {
   "cell_type": "markdown",
   "id": "40eeffc2-ac7c-498c-96ca-0c3dc2894883",
   "metadata": {},
   "source": [
    "## Encode Labels"
   ]
  },
  {
   "cell_type": "code",
   "execution_count": 10,
   "id": "615581d7-9f3b-49a7-b51b-3c50ed2aabd9",
   "metadata": {},
   "outputs": [],
   "source": [
    "f = lambda x: [row[row == 1].index.tolist() for _, row in x.iterrows()]\n",
    "y = {k: f(v) for k, v in preprocessed_data.items()}\n",
    "label_encoders = {k: MultiLabelBinarizer().fit(v) for k, v in y.items()}\n",
    "y = {k: label_encoders[k].transform(v) for k, v in y.items()}"
   ]
  },
  {
   "cell_type": "markdown",
   "id": "a68f9692-29c8-492e-8d98-bfead127a012",
   "metadata": {},
   "source": [
    "## Training"
   ]
  },
  {
   "cell_type": "code",
   "execution_count": 11,
   "id": "12b981ca-b016-497b-b0e0-293513bfc88c",
   "metadata": {},
   "outputs": [],
   "source": [
    "def make_model(embs_type: Text) -> Pipeline:\n",
    "    assert isinstance(embs_type, Text)\n",
    "\n",
    "    if embs_type == \"tfidf\":\n",
    "        pipeline = Pipeline(steps=[\n",
    "            (\"vect\", TfidfVectorizer(token_pattern=r\"(?u)\\b\\w+\\b\", ngram_range=(1, 2))),\n",
    "            (\"clf\", OVRStrategy(LR(max_iter=1000, n_jobs=-1), n_jobs=-1))\n",
    "        ])\n",
    "    elif embs_type == \"sbert\":\n",
    "        pipeline = Pipeline(steps=[\n",
    "            (\"vect\", FunctionTransformer(sbert.encode)),\n",
    "            (\"clf\", OVRStrategy(LR(max_iter=1000, n_jobs=-1), n_jobs=-1))\n",
    "        ])\n",
    "    elif embs_type == \"phobert\":\n",
    "        pipeline = Pipeline(steps=[\n",
    "            (\"vect\", FunctionTransformer(phobert.encode)),\n",
    "            (\"clf\", OVRStrategy(LR(max_iter=1000, n_jobs=-1), n_jobs=-1))\n",
    "        ])\n",
    "    else:\n",
    "        raise ValueError(\"Current supported text encoders: ['tfidf', 'sbert', 'phobert']\")\n",
    "\n",
    "    return pipeline"
   ]
  },
  {
   "cell_type": "code",
   "execution_count": 12,
   "id": "1e758d4d-1e5a-40f3-8eb7-7d3cb8ac1cf5",
   "metadata": {},
   "outputs": [],
   "source": [
    "models = {k: {t: make_model(t) for t in embedding_types} for k in botid.keys()}"
   ]
  },
  {
   "cell_type": "code",
   "execution_count": 13,
   "id": "da8fe035-a447-4ee0-bd7a-19030deb7747",
   "metadata": {
    "collapsed": true,
    "jupyter": {
     "outputs_hidden": true
    },
    "tags": []
   },
   "outputs": [
    {
     "name": "stdout",
     "output_type": "stream",
     "text": [
      "{'giang.nguyen': {'phobert': Pipeline(steps=[('vect',\n",
      "                 FunctionTransformer(func=<bound method PhoBertWrapper.encode of <__main__.PhoBertWrapper object at 0x7fc4dc19f290>>)),\n",
      "                ('clf',\n",
      "                 OneVsRestClassifier(estimator=LogisticRegression(max_iter=1000,\n",
      "                                                                  n_jobs=-1),\n",
      "                                     n_jobs=-1))]),\n",
      "                  'sbert': Pipeline(steps=[('vect',\n",
      "                 FunctionTransformer(func=<bound method SentenceTransformer.encode of SentenceTransformer(\n",
      "  (0): Transformer({'max_seq_length': 256, 'do_lower_case': False}) with Transformer model: RobertaModel \n",
      "  (1): Pooling({'word_embedding_dimension': 768, 'pooling_mode_cls_token': False, 'pooling_mode_mean_tokens': True, 'pooling_mode_max_tokens': False, 'pooling_mode_mean_sqrt_len_tokens': False})\n",
      ")>)),\n",
      "                ('clf',\n",
      "                 OneVsRestClassifier(estimator=LogisticRegression(max_iter=1000,\n",
      "                                                                  n_jobs=-1),\n",
      "                                     n_jobs=-1))]),\n",
      "                  'tfidf': Pipeline(steps=[('vect',\n",
      "                 TfidfVectorizer(ngram_range=(1, 2),\n",
      "                                 token_pattern='(?u)\\\\b\\\\w+\\\\b')),\n",
      "                ('clf',\n",
      "                 OneVsRestClassifier(estimator=LogisticRegression(max_iter=1000,\n",
      "                                                                  n_jobs=-1),\n",
      "                                     n_jobs=-1))])},\n",
      " 'lamhaian': {'phobert': Pipeline(steps=[('vect',\n",
      "                 FunctionTransformer(func=<bound method PhoBertWrapper.encode of <__main__.PhoBertWrapper object at 0x7fc4dc19f290>>)),\n",
      "                ('clf',\n",
      "                 OneVsRestClassifier(estimator=LogisticRegression(max_iter=1000,\n",
      "                                                                  n_jobs=-1),\n",
      "                                     n_jobs=-1))]),\n",
      "              'sbert': Pipeline(steps=[('vect',\n",
      "                 FunctionTransformer(func=<bound method SentenceTransformer.encode of SentenceTransformer(\n",
      "  (0): Transformer({'max_seq_length': 256, 'do_lower_case': False}) with Transformer model: RobertaModel \n",
      "  (1): Pooling({'word_embedding_dimension': 768, 'pooling_mode_cls_token': False, 'pooling_mode_mean_tokens': True, 'pooling_mode_max_tokens': False, 'pooling_mode_mean_sqrt_len_tokens': False})\n",
      ")>)),\n",
      "                ('clf',\n",
      "                 OneVsRestClassifier(estimator=LogisticRegression(max_iter=1000,\n",
      "                                                                  n_jobs=-1),\n",
      "                                     n_jobs=-1))]),\n",
      "              'tfidf': Pipeline(steps=[('vect',\n",
      "                 TfidfVectorizer(ngram_range=(1, 2),\n",
      "                                 token_pattern='(?u)\\\\b\\\\w+\\\\b')),\n",
      "                ('clf',\n",
      "                 OneVsRestClassifier(estimator=LogisticRegression(max_iter=1000,\n",
      "                                                                  n_jobs=-1),\n",
      "                                     n_jobs=-1))])},\n",
      " 'panasonic': {'phobert': Pipeline(steps=[('vect',\n",
      "                 FunctionTransformer(func=<bound method PhoBertWrapper.encode of <__main__.PhoBertWrapper object at 0x7fc4dc19f290>>)),\n",
      "                ('clf',\n",
      "                 OneVsRestClassifier(estimator=LogisticRegression(max_iter=1000,\n",
      "                                                                  n_jobs=-1),\n",
      "                                     n_jobs=-1))]),\n",
      "               'sbert': Pipeline(steps=[('vect',\n",
      "                 FunctionTransformer(func=<bound method SentenceTransformer.encode of SentenceTransformer(\n",
      "  (0): Transformer({'max_seq_length': 256, 'do_lower_case': False}) with Transformer model: RobertaModel \n",
      "  (1): Pooling({'word_embedding_dimension': 768, 'pooling_mode_cls_token': False, 'pooling_mode_mean_tokens': True, 'pooling_mode_max_tokens': False, 'pooling_mode_mean_sqrt_len_tokens': False})\n",
      ")>)),\n",
      "                ('clf',\n",
      "                 OneVsRestClassifier(estimator=LogisticRegression(max_iter=1000,\n",
      "                                                                  n_jobs=-1),\n",
      "                                     n_jobs=-1))]),\n",
      "               'tfidf': Pipeline(steps=[('vect',\n",
      "                 TfidfVectorizer(ngram_range=(1, 2),\n",
      "                                 token_pattern='(?u)\\\\b\\\\w+\\\\b')),\n",
      "                ('clf',\n",
      "                 OneVsRestClassifier(estimator=LogisticRegression(max_iter=1000,\n",
      "                                                                  n_jobs=-1),\n",
      "                                     n_jobs=-1))])},\n",
      " 'sunlaw': {'phobert': Pipeline(steps=[('vect',\n",
      "                 FunctionTransformer(func=<bound method PhoBertWrapper.encode of <__main__.PhoBertWrapper object at 0x7fc4dc19f290>>)),\n",
      "                ('clf',\n",
      "                 OneVsRestClassifier(estimator=LogisticRegression(max_iter=1000,\n",
      "                                                                  n_jobs=-1),\n",
      "                                     n_jobs=-1))]),\n",
      "            'sbert': Pipeline(steps=[('vect',\n",
      "                 FunctionTransformer(func=<bound method SentenceTransformer.encode of SentenceTransformer(\n",
      "  (0): Transformer({'max_seq_length': 256, 'do_lower_case': False}) with Transformer model: RobertaModel \n",
      "  (1): Pooling({'word_embedding_dimension': 768, 'pooling_mode_cls_token': False, 'pooling_mode_mean_tokens': True, 'pooling_mode_max_tokens': False, 'pooling_mode_mean_sqrt_len_tokens': False})\n",
      ")>)),\n",
      "                ('clf',\n",
      "                 OneVsRestClassifier(estimator=LogisticRegression(max_iter=1000,\n",
      "                                                                  n_jobs=-1),\n",
      "                                     n_jobs=-1))]),\n",
      "            'tfidf': Pipeline(steps=[('vect',\n",
      "                 TfidfVectorizer(ngram_range=(1, 2),\n",
      "                                 token_pattern='(?u)\\\\b\\\\w+\\\\b')),\n",
      "                ('clf',\n",
      "                 OneVsRestClassifier(estimator=LogisticRegression(max_iter=1000,\n",
      "                                                                  n_jobs=-1),\n",
      "                                     n_jobs=-1))])},\n",
      " 'trung.quan': {'phobert': Pipeline(steps=[('vect',\n",
      "                 FunctionTransformer(func=<bound method PhoBertWrapper.encode of <__main__.PhoBertWrapper object at 0x7fc4dc19f290>>)),\n",
      "                ('clf',\n",
      "                 OneVsRestClassifier(estimator=LogisticRegression(max_iter=1000,\n",
      "                                                                  n_jobs=-1),\n",
      "                                     n_jobs=-1))]),\n",
      "                'sbert': Pipeline(steps=[('vect',\n",
      "                 FunctionTransformer(func=<bound method SentenceTransformer.encode of SentenceTransformer(\n",
      "  (0): Transformer({'max_seq_length': 256, 'do_lower_case': False}) with Transformer model: RobertaModel \n",
      "  (1): Pooling({'word_embedding_dimension': 768, 'pooling_mode_cls_token': False, 'pooling_mode_mean_tokens': True, 'pooling_mode_max_tokens': False, 'pooling_mode_mean_sqrt_len_tokens': False})\n",
      ")>)),\n",
      "                ('clf',\n",
      "                 OneVsRestClassifier(estimator=LogisticRegression(max_iter=1000,\n",
      "                                                                  n_jobs=-1),\n",
      "                                     n_jobs=-1))]),\n",
      "                'tfidf': Pipeline(steps=[('vect',\n",
      "                 TfidfVectorizer(ngram_range=(1, 2),\n",
      "                                 token_pattern='(?u)\\\\b\\\\w+\\\\b')),\n",
      "                ('clf',\n",
      "                 OneVsRestClassifier(estimator=LogisticRegression(max_iter=1000,\n",
      "                                                                  n_jobs=-1),\n",
      "                                     n_jobs=-1))])}}\n"
     ]
    }
   ],
   "source": [
    "pprint(models)"
   ]
  },
  {
   "cell_type": "code",
   "execution_count": 15,
   "id": "3fabc90a-87e5-417c-a4d5-10d8a08174a3",
   "metadata": {},
   "outputs": [],
   "source": [
    "f1_micro = {k: {t: None for t in embedding_types} for k in botid.keys()}"
   ]
  },
  {
   "cell_type": "code",
   "execution_count": 17,
   "id": "6eef08f9-0ab1-4cb4-a1fe-15fc0d9ec7f1",
   "metadata": {
    "tags": []
   },
   "outputs": [
    {
     "name": "stderr",
     "output_type": "stream",
     "text": [
      "  0%|                                                                                                                 | 0/5 [00:00<?, ?it/s]"
     ]
    },
    {
     "data": {
      "application/vnd.jupyter.widget-view+json": {
       "model_id": "8dad9b54f0854b318237672fd5f72b4a",
       "version_major": 2,
       "version_minor": 0
      },
      "text/plain": [
       "Batches:   0%|          | 0/23 [00:00<?, ?it/s]"
      ]
     },
     "metadata": {},
     "output_type": "display_data"
    },
    {
     "data": {
      "application/vnd.jupyter.widget-view+json": {
       "model_id": "4b4987b1d7cf4a60bd4ca9e2fce09ffe",
       "version_major": 2,
       "version_minor": 0
      },
      "text/plain": [
       "Batches:   0%|          | 0/3 [00:00<?, ?it/s]"
      ]
     },
     "metadata": {},
     "output_type": "display_data"
    },
    {
     "data": {
      "application/vnd.jupyter.widget-view+json": {
       "model_id": "350382c01aaf4542a52e177975f02199",
       "version_major": 2,
       "version_minor": 0
      },
      "text/plain": [
       "Batches:   0%|          | 0/23 [00:00<?, ?it/s]"
      ]
     },
     "metadata": {},
     "output_type": "display_data"
    },
    {
     "data": {
      "application/vnd.jupyter.widget-view+json": {
       "model_id": "4c081483842f4bc2b6fe9331719c199c",
       "version_major": 2,
       "version_minor": 0
      },
      "text/plain": [
       "Batches:   0%|          | 0/3 [00:00<?, ?it/s]"
      ]
     },
     "metadata": {},
     "output_type": "display_data"
    },
    {
     "data": {
      "application/vnd.jupyter.widget-view+json": {
       "model_id": "65a38ce7db344883a3fa42a4070a8387",
       "version_major": 2,
       "version_minor": 0
      },
      "text/plain": [
       "Batches:   0%|          | 0/23 [00:00<?, ?it/s]"
      ]
     },
     "metadata": {},
     "output_type": "display_data"
    },
    {
     "data": {
      "application/vnd.jupyter.widget-view+json": {
       "model_id": "aaea02fc5a324fa587c8d791d8b7b6c5",
       "version_major": 2,
       "version_minor": 0
      },
      "text/plain": [
       "Batches:   0%|          | 0/3 [00:00<?, ?it/s]"
      ]
     },
     "metadata": {},
     "output_type": "display_data"
    },
    {
     "data": {
      "application/vnd.jupyter.widget-view+json": {
       "model_id": "51864f174e9a479ca565f67cda639ac4",
       "version_major": 2,
       "version_minor": 0
      },
      "text/plain": [
       "Batches:   0%|          | 0/23 [00:00<?, ?it/s]"
      ]
     },
     "metadata": {},
     "output_type": "display_data"
    },
    {
     "data": {
      "application/vnd.jupyter.widget-view+json": {
       "model_id": "8985d6d7ad43438182e94edeca4ebc82",
       "version_major": 2,
       "version_minor": 0
      },
      "text/plain": [
       "Batches:   0%|          | 0/3 [00:00<?, ?it/s]"
      ]
     },
     "metadata": {},
     "output_type": "display_data"
    },
    {
     "data": {
      "application/vnd.jupyter.widget-view+json": {
       "model_id": "ea73848f235d45f6a1b1fca918c3ba53",
       "version_major": 2,
       "version_minor": 0
      },
      "text/plain": [
       "Batches:   0%|          | 0/23 [00:00<?, ?it/s]"
      ]
     },
     "metadata": {},
     "output_type": "display_data"
    },
    {
     "data": {
      "application/vnd.jupyter.widget-view+json": {
       "model_id": "a75691bd80604ac2b44e8c76e4639f43",
       "version_major": 2,
       "version_minor": 0
      },
      "text/plain": [
       "Batches:   0%|          | 0/3 [00:00<?, ?it/s]"
      ]
     },
     "metadata": {},
     "output_type": "display_data"
    },
    {
     "data": {
      "application/vnd.jupyter.widget-view+json": {
       "model_id": "cdb762d785a74d168bbc0c9b36ae99df",
       "version_major": 2,
       "version_minor": 0
      },
      "text/plain": [
       "Batches:   0%|          | 0/23 [00:00<?, ?it/s]"
      ]
     },
     "metadata": {},
     "output_type": "display_data"
    },
    {
     "data": {
      "application/vnd.jupyter.widget-view+json": {
       "model_id": "3289feb638b94610b0d450d181db7a16",
       "version_major": 2,
       "version_minor": 0
      },
      "text/plain": [
       "Batches:   0%|          | 0/3 [00:00<?, ?it/s]"
      ]
     },
     "metadata": {},
     "output_type": "display_data"
    },
    {
     "data": {
      "application/vnd.jupyter.widget-view+json": {
       "model_id": "2c1458426e454744a84f594383191a2a",
       "version_major": 2,
       "version_minor": 0
      },
      "text/plain": [
       "Batches:   0%|          | 0/23 [00:00<?, ?it/s]"
      ]
     },
     "metadata": {},
     "output_type": "display_data"
    },
    {
     "data": {
      "application/vnd.jupyter.widget-view+json": {
       "model_id": "5740f00f4ab84f84a9d785c3fb855366",
       "version_major": 2,
       "version_minor": 0
      },
      "text/plain": [
       "Batches:   0%|          | 0/3 [00:00<?, ?it/s]"
      ]
     },
     "metadata": {},
     "output_type": "display_data"
    },
    {
     "data": {
      "application/vnd.jupyter.widget-view+json": {
       "model_id": "dc9484e78deb42a8a96ec46607c2e047",
       "version_major": 2,
       "version_minor": 0
      },
      "text/plain": [
       "Batches:   0%|          | 0/23 [00:00<?, ?it/s]"
      ]
     },
     "metadata": {},
     "output_type": "display_data"
    },
    {
     "data": {
      "application/vnd.jupyter.widget-view+json": {
       "model_id": "e3aedc45a24a429a860129bf01dd4889",
       "version_major": 2,
       "version_minor": 0
      },
      "text/plain": [
       "Batches:   0%|          | 0/3 [00:00<?, ?it/s]"
      ]
     },
     "metadata": {},
     "output_type": "display_data"
    },
    {
     "data": {
      "application/vnd.jupyter.widget-view+json": {
       "model_id": "f34d7785f4e64e78811900aaa2ab87c1",
       "version_major": 2,
       "version_minor": 0
      },
      "text/plain": [
       "Batches:   0%|          | 0/23 [00:00<?, ?it/s]"
      ]
     },
     "metadata": {},
     "output_type": "display_data"
    },
    {
     "data": {
      "application/vnd.jupyter.widget-view+json": {
       "model_id": "6240266f49624834b6d1b061928fabc5",
       "version_major": 2,
       "version_minor": 0
      },
      "text/plain": [
       "Batches:   0%|          | 0/3 [00:00<?, ?it/s]"
      ]
     },
     "metadata": {},
     "output_type": "display_data"
    },
    {
     "data": {
      "application/vnd.jupyter.widget-view+json": {
       "model_id": "99e80837d0184182a1f8877eccc8a603",
       "version_major": 2,
       "version_minor": 0
      },
      "text/plain": [
       "Batches:   0%|          | 0/23 [00:00<?, ?it/s]"
      ]
     },
     "metadata": {},
     "output_type": "display_data"
    },
    {
     "data": {
      "application/vnd.jupyter.widget-view+json": {
       "model_id": "b75298d10cc949bea8c9f1b2eaa35d33",
       "version_major": 2,
       "version_minor": 0
      },
      "text/plain": [
       "Batches:   0%|          | 0/3 [00:00<?, ?it/s]"
      ]
     },
     "metadata": {},
     "output_type": "display_data"
    },
    {
     "name": "stderr",
     "output_type": "stream",
     "text": [
      " 20%|█████████████████████                                                                                    | 1/5 [01:08<04:35, 68.77s/it]"
     ]
    },
    {
     "data": {
      "application/vnd.jupyter.widget-view+json": {
       "model_id": "f88a3f09248a46e6b67d9e8064484e71",
       "version_major": 2,
       "version_minor": 0
      },
      "text/plain": [
       "Batches:   0%|          | 0/21 [00:00<?, ?it/s]"
      ]
     },
     "metadata": {},
     "output_type": "display_data"
    },
    {
     "data": {
      "application/vnd.jupyter.widget-view+json": {
       "model_id": "9c19f821b4614e42969f8925e04ee2a5",
       "version_major": 2,
       "version_minor": 0
      },
      "text/plain": [
       "Batches:   0%|          | 0/3 [00:00<?, ?it/s]"
      ]
     },
     "metadata": {},
     "output_type": "display_data"
    },
    {
     "data": {
      "application/vnd.jupyter.widget-view+json": {
       "model_id": "cf5888691a064dcebe183449ec131dfe",
       "version_major": 2,
       "version_minor": 0
      },
      "text/plain": [
       "Batches:   0%|          | 0/21 [00:00<?, ?it/s]"
      ]
     },
     "metadata": {},
     "output_type": "display_data"
    },
    {
     "data": {
      "application/vnd.jupyter.widget-view+json": {
       "model_id": "83cec27642e04f26b65a0fa57e30768c",
       "version_major": 2,
       "version_minor": 0
      },
      "text/plain": [
       "Batches:   0%|          | 0/3 [00:00<?, ?it/s]"
      ]
     },
     "metadata": {},
     "output_type": "display_data"
    },
    {
     "data": {
      "application/vnd.jupyter.widget-view+json": {
       "model_id": "341f3290b4a34e3bb949080238636532",
       "version_major": 2,
       "version_minor": 0
      },
      "text/plain": [
       "Batches:   0%|          | 0/21 [00:00<?, ?it/s]"
      ]
     },
     "metadata": {},
     "output_type": "display_data"
    },
    {
     "data": {
      "application/vnd.jupyter.widget-view+json": {
       "model_id": "d61c6930fbce4d72a72f3fc127224f5f",
       "version_major": 2,
       "version_minor": 0
      },
      "text/plain": [
       "Batches:   0%|          | 0/3 [00:00<?, ?it/s]"
      ]
     },
     "metadata": {},
     "output_type": "display_data"
    },
    {
     "data": {
      "application/vnd.jupyter.widget-view+json": {
       "model_id": "ea604f197e4043c7a9084394c7adf2d2",
       "version_major": 2,
       "version_minor": 0
      },
      "text/plain": [
       "Batches:   0%|          | 0/21 [00:00<?, ?it/s]"
      ]
     },
     "metadata": {},
     "output_type": "display_data"
    },
    {
     "data": {
      "application/vnd.jupyter.widget-view+json": {
       "model_id": "447f8579c6c6420d8c1999b336898746",
       "version_major": 2,
       "version_minor": 0
      },
      "text/plain": [
       "Batches:   0%|          | 0/3 [00:00<?, ?it/s]"
      ]
     },
     "metadata": {},
     "output_type": "display_data"
    },
    {
     "data": {
      "application/vnd.jupyter.widget-view+json": {
       "model_id": "3ba463ec099f4ae38f05eb2dc37fc53a",
       "version_major": 2,
       "version_minor": 0
      },
      "text/plain": [
       "Batches:   0%|          | 0/21 [00:00<?, ?it/s]"
      ]
     },
     "metadata": {},
     "output_type": "display_data"
    },
    {
     "data": {
      "application/vnd.jupyter.widget-view+json": {
       "model_id": "17471b7904084adda2abf6c2bd3641d0",
       "version_major": 2,
       "version_minor": 0
      },
      "text/plain": [
       "Batches:   0%|          | 0/3 [00:00<?, ?it/s]"
      ]
     },
     "metadata": {},
     "output_type": "display_data"
    },
    {
     "data": {
      "application/vnd.jupyter.widget-view+json": {
       "model_id": "6250a8b8b65140068c47732c629b1b7a",
       "version_major": 2,
       "version_minor": 0
      },
      "text/plain": [
       "Batches:   0%|          | 0/21 [00:00<?, ?it/s]"
      ]
     },
     "metadata": {},
     "output_type": "display_data"
    },
    {
     "data": {
      "application/vnd.jupyter.widget-view+json": {
       "model_id": "a1ff1946ec7340488186b69d9fda4862",
       "version_major": 2,
       "version_minor": 0
      },
      "text/plain": [
       "Batches:   0%|          | 0/3 [00:00<?, ?it/s]"
      ]
     },
     "metadata": {},
     "output_type": "display_data"
    },
    {
     "data": {
      "application/vnd.jupyter.widget-view+json": {
       "model_id": "a2397423c9c24551a66b4ea1bcdad326",
       "version_major": 2,
       "version_minor": 0
      },
      "text/plain": [
       "Batches:   0%|          | 0/21 [00:00<?, ?it/s]"
      ]
     },
     "metadata": {},
     "output_type": "display_data"
    },
    {
     "data": {
      "application/vnd.jupyter.widget-view+json": {
       "model_id": "44781c7e6e9741a78901669c5bd9c42e",
       "version_major": 2,
       "version_minor": 0
      },
      "text/plain": [
       "Batches:   0%|          | 0/3 [00:00<?, ?it/s]"
      ]
     },
     "metadata": {},
     "output_type": "display_data"
    },
    {
     "data": {
      "application/vnd.jupyter.widget-view+json": {
       "model_id": "1fdde9ee05ca41fca4423a22be1f5dcc",
       "version_major": 2,
       "version_minor": 0
      },
      "text/plain": [
       "Batches:   0%|          | 0/21 [00:00<?, ?it/s]"
      ]
     },
     "metadata": {},
     "output_type": "display_data"
    },
    {
     "data": {
      "application/vnd.jupyter.widget-view+json": {
       "model_id": "0fa684df487b4d79aa76995b43b893da",
       "version_major": 2,
       "version_minor": 0
      },
      "text/plain": [
       "Batches:   0%|          | 0/3 [00:00<?, ?it/s]"
      ]
     },
     "metadata": {},
     "output_type": "display_data"
    },
    {
     "data": {
      "application/vnd.jupyter.widget-view+json": {
       "model_id": "2b0a1cca1a824ebb817f07e0ad3c29ac",
       "version_major": 2,
       "version_minor": 0
      },
      "text/plain": [
       "Batches:   0%|          | 0/21 [00:00<?, ?it/s]"
      ]
     },
     "metadata": {},
     "output_type": "display_data"
    },
    {
     "data": {
      "application/vnd.jupyter.widget-view+json": {
       "model_id": "094ee15b807c4d9587bc4badd0664b29",
       "version_major": 2,
       "version_minor": 0
      },
      "text/plain": [
       "Batches:   0%|          | 0/3 [00:00<?, ?it/s]"
      ]
     },
     "metadata": {},
     "output_type": "display_data"
    },
    {
     "data": {
      "application/vnd.jupyter.widget-view+json": {
       "model_id": "efb004c7afd946ec8fe3cf0247701dec",
       "version_major": 2,
       "version_minor": 0
      },
      "text/plain": [
       "Batches:   0%|          | 0/21 [00:00<?, ?it/s]"
      ]
     },
     "metadata": {},
     "output_type": "display_data"
    },
    {
     "data": {
      "application/vnd.jupyter.widget-view+json": {
       "model_id": "891c0a8288a34f86b6c118606e425c50",
       "version_major": 2,
       "version_minor": 0
      },
      "text/plain": [
       "Batches:   0%|          | 0/3 [00:00<?, ?it/s]"
      ]
     },
     "metadata": {},
     "output_type": "display_data"
    },
    {
     "name": "stderr",
     "output_type": "stream",
     "text": [
      " 40%|██████████████████████████████████████████                                                               | 2/5 [02:06<03:06, 62.08s/it]"
     ]
    },
    {
     "data": {
      "application/vnd.jupyter.widget-view+json": {
       "model_id": "19cedc7a71af45488a0eb99464c96083",
       "version_major": 2,
       "version_minor": 0
      },
      "text/plain": [
       "Batches:   0%|          | 0/26 [00:00<?, ?it/s]"
      ]
     },
     "metadata": {},
     "output_type": "display_data"
    },
    {
     "data": {
      "application/vnd.jupyter.widget-view+json": {
       "model_id": "7c1b75eae86442eb8ceb83e16770c5a4",
       "version_major": 2,
       "version_minor": 0
      },
      "text/plain": [
       "Batches:   0%|          | 0/3 [00:00<?, ?it/s]"
      ]
     },
     "metadata": {},
     "output_type": "display_data"
    },
    {
     "data": {
      "application/vnd.jupyter.widget-view+json": {
       "model_id": "1d0949a33cae48219eb0c7c0f922ff90",
       "version_major": 2,
       "version_minor": 0
      },
      "text/plain": [
       "Batches:   0%|          | 0/26 [00:00<?, ?it/s]"
      ]
     },
     "metadata": {},
     "output_type": "display_data"
    },
    {
     "data": {
      "application/vnd.jupyter.widget-view+json": {
       "model_id": "337f7a830f0c4cecae6e9ed616a04dda",
       "version_major": 2,
       "version_minor": 0
      },
      "text/plain": [
       "Batches:   0%|          | 0/3 [00:00<?, ?it/s]"
      ]
     },
     "metadata": {},
     "output_type": "display_data"
    },
    {
     "data": {
      "application/vnd.jupyter.widget-view+json": {
       "model_id": "187e4a70626e4c59a55bcf9d3f4eee99",
       "version_major": 2,
       "version_minor": 0
      },
      "text/plain": [
       "Batches:   0%|          | 0/26 [00:00<?, ?it/s]"
      ]
     },
     "metadata": {},
     "output_type": "display_data"
    },
    {
     "data": {
      "application/vnd.jupyter.widget-view+json": {
       "model_id": "89bd692a4aaf4fde8ce9776197eaa019",
       "version_major": 2,
       "version_minor": 0
      },
      "text/plain": [
       "Batches:   0%|          | 0/3 [00:00<?, ?it/s]"
      ]
     },
     "metadata": {},
     "output_type": "display_data"
    },
    {
     "data": {
      "application/vnd.jupyter.widget-view+json": {
       "model_id": "161019cade944deeb95e854db600e7c5",
       "version_major": 2,
       "version_minor": 0
      },
      "text/plain": [
       "Batches:   0%|          | 0/26 [00:00<?, ?it/s]"
      ]
     },
     "metadata": {},
     "output_type": "display_data"
    },
    {
     "data": {
      "application/vnd.jupyter.widget-view+json": {
       "model_id": "ff7709346db14390b5ab1a846c361d11",
       "version_major": 2,
       "version_minor": 0
      },
      "text/plain": [
       "Batches:   0%|          | 0/3 [00:00<?, ?it/s]"
      ]
     },
     "metadata": {},
     "output_type": "display_data"
    },
    {
     "data": {
      "application/vnd.jupyter.widget-view+json": {
       "model_id": "b9111af320e74b96b7bf77e3ec2c92e8",
       "version_major": 2,
       "version_minor": 0
      },
      "text/plain": [
       "Batches:   0%|          | 0/26 [00:00<?, ?it/s]"
      ]
     },
     "metadata": {},
     "output_type": "display_data"
    },
    {
     "data": {
      "application/vnd.jupyter.widget-view+json": {
       "model_id": "caafffdc0efa475d8e99767bda037ef9",
       "version_major": 2,
       "version_minor": 0
      },
      "text/plain": [
       "Batches:   0%|          | 0/3 [00:00<?, ?it/s]"
      ]
     },
     "metadata": {},
     "output_type": "display_data"
    },
    {
     "data": {
      "application/vnd.jupyter.widget-view+json": {
       "model_id": "fef2310f5c53491f978f0cff0ecbb9f0",
       "version_major": 2,
       "version_minor": 0
      },
      "text/plain": [
       "Batches:   0%|          | 0/26 [00:00<?, ?it/s]"
      ]
     },
     "metadata": {},
     "output_type": "display_data"
    },
    {
     "data": {
      "application/vnd.jupyter.widget-view+json": {
       "model_id": "de8d40581a99481c8da07a4e27c74f31",
       "version_major": 2,
       "version_minor": 0
      },
      "text/plain": [
       "Batches:   0%|          | 0/3 [00:00<?, ?it/s]"
      ]
     },
     "metadata": {},
     "output_type": "display_data"
    },
    {
     "data": {
      "application/vnd.jupyter.widget-view+json": {
       "model_id": "47482aeb17b64fc985a19890e9882e97",
       "version_major": 2,
       "version_minor": 0
      },
      "text/plain": [
       "Batches:   0%|          | 0/26 [00:00<?, ?it/s]"
      ]
     },
     "metadata": {},
     "output_type": "display_data"
    },
    {
     "data": {
      "application/vnd.jupyter.widget-view+json": {
       "model_id": "296c1fe548ae47c68210ae7785ec9e7b",
       "version_major": 2,
       "version_minor": 0
      },
      "text/plain": [
       "Batches:   0%|          | 0/3 [00:00<?, ?it/s]"
      ]
     },
     "metadata": {},
     "output_type": "display_data"
    },
    {
     "data": {
      "application/vnd.jupyter.widget-view+json": {
       "model_id": "ee9f683fd0bb42deac6d2598a9fc778d",
       "version_major": 2,
       "version_minor": 0
      },
      "text/plain": [
       "Batches:   0%|          | 0/26 [00:00<?, ?it/s]"
      ]
     },
     "metadata": {},
     "output_type": "display_data"
    },
    {
     "data": {
      "application/vnd.jupyter.widget-view+json": {
       "model_id": "d8b5d13808144a62a18e30ab0f820917",
       "version_major": 2,
       "version_minor": 0
      },
      "text/plain": [
       "Batches:   0%|          | 0/3 [00:00<?, ?it/s]"
      ]
     },
     "metadata": {},
     "output_type": "display_data"
    },
    {
     "data": {
      "application/vnd.jupyter.widget-view+json": {
       "model_id": "6418a209dccb4cbba6a0830d30f33128",
       "version_major": 2,
       "version_minor": 0
      },
      "text/plain": [
       "Batches:   0%|          | 0/26 [00:00<?, ?it/s]"
      ]
     },
     "metadata": {},
     "output_type": "display_data"
    },
    {
     "data": {
      "application/vnd.jupyter.widget-view+json": {
       "model_id": "5d14ff574b1f4b7c83138d9a823522c7",
       "version_major": 2,
       "version_minor": 0
      },
      "text/plain": [
       "Batches:   0%|          | 0/3 [00:00<?, ?it/s]"
      ]
     },
     "metadata": {},
     "output_type": "display_data"
    },
    {
     "data": {
      "application/vnd.jupyter.widget-view+json": {
       "model_id": "a8e2ced919d149318b943e637d767abd",
       "version_major": 2,
       "version_minor": 0
      },
      "text/plain": [
       "Batches:   0%|          | 0/26 [00:00<?, ?it/s]"
      ]
     },
     "metadata": {},
     "output_type": "display_data"
    },
    {
     "data": {
      "application/vnd.jupyter.widget-view+json": {
       "model_id": "cc8e1774f65c4654a0fb99a8062f2b92",
       "version_major": 2,
       "version_minor": 0
      },
      "text/plain": [
       "Batches:   0%|          | 0/3 [00:00<?, ?it/s]"
      ]
     },
     "metadata": {},
     "output_type": "display_data"
    },
    {
     "name": "stderr",
     "output_type": "stream",
     "text": [
      " 60%|███████████████████████████████████████████████████████████████                                          | 3/5 [03:15<02:10, 65.35s/it]"
     ]
    },
    {
     "data": {
      "application/vnd.jupyter.widget-view+json": {
       "model_id": "bcd9e7ae1b6e4920929200dd7b159d18",
       "version_major": 2,
       "version_minor": 0
      },
      "text/plain": [
       "Batches:   0%|          | 0/45 [00:00<?, ?it/s]"
      ]
     },
     "metadata": {},
     "output_type": "display_data"
    },
    {
     "data": {
      "application/vnd.jupyter.widget-view+json": {
       "model_id": "273cbc5e052f4676b28e54c437150518",
       "version_major": 2,
       "version_minor": 0
      },
      "text/plain": [
       "Batches:   0%|          | 0/5 [00:00<?, ?it/s]"
      ]
     },
     "metadata": {},
     "output_type": "display_data"
    },
    {
     "data": {
      "application/vnd.jupyter.widget-view+json": {
       "model_id": "e655d7b3ce8e41d5b1929e718ca3bdf4",
       "version_major": 2,
       "version_minor": 0
      },
      "text/plain": [
       "Batches:   0%|          | 0/45 [00:00<?, ?it/s]"
      ]
     },
     "metadata": {},
     "output_type": "display_data"
    },
    {
     "data": {
      "application/vnd.jupyter.widget-view+json": {
       "model_id": "af55a65ca3d548e8a927ddd81b81b283",
       "version_major": 2,
       "version_minor": 0
      },
      "text/plain": [
       "Batches:   0%|          | 0/5 [00:00<?, ?it/s]"
      ]
     },
     "metadata": {},
     "output_type": "display_data"
    },
    {
     "data": {
      "application/vnd.jupyter.widget-view+json": {
       "model_id": "08bd06b8cf7842c883da0a57a57e0756",
       "version_major": 2,
       "version_minor": 0
      },
      "text/plain": [
       "Batches:   0%|          | 0/45 [00:00<?, ?it/s]"
      ]
     },
     "metadata": {},
     "output_type": "display_data"
    },
    {
     "data": {
      "application/vnd.jupyter.widget-view+json": {
       "model_id": "ec03b1ac2cde452f80cf0daf8be0c1c5",
       "version_major": 2,
       "version_minor": 0
      },
      "text/plain": [
       "Batches:   0%|          | 0/5 [00:00<?, ?it/s]"
      ]
     },
     "metadata": {},
     "output_type": "display_data"
    },
    {
     "data": {
      "application/vnd.jupyter.widget-view+json": {
       "model_id": "9697d9825fea4992a303fdaf7dfe89e5",
       "version_major": 2,
       "version_minor": 0
      },
      "text/plain": [
       "Batches:   0%|          | 0/45 [00:00<?, ?it/s]"
      ]
     },
     "metadata": {},
     "output_type": "display_data"
    },
    {
     "data": {
      "application/vnd.jupyter.widget-view+json": {
       "model_id": "1d75202162744bc2a93ce6ffb804f3bd",
       "version_major": 2,
       "version_minor": 0
      },
      "text/plain": [
       "Batches:   0%|          | 0/5 [00:00<?, ?it/s]"
      ]
     },
     "metadata": {},
     "output_type": "display_data"
    },
    {
     "data": {
      "application/vnd.jupyter.widget-view+json": {
       "model_id": "941743e542044eee9ef0afe6af01f39f",
       "version_major": 2,
       "version_minor": 0
      },
      "text/plain": [
       "Batches:   0%|          | 0/45 [00:00<?, ?it/s]"
      ]
     },
     "metadata": {},
     "output_type": "display_data"
    },
    {
     "data": {
      "application/vnd.jupyter.widget-view+json": {
       "model_id": "04b38aaabfd641d999c4d3c41cd7a4ba",
       "version_major": 2,
       "version_minor": 0
      },
      "text/plain": [
       "Batches:   0%|          | 0/5 [00:00<?, ?it/s]"
      ]
     },
     "metadata": {},
     "output_type": "display_data"
    },
    {
     "data": {
      "application/vnd.jupyter.widget-view+json": {
       "model_id": "88ded97bbde64b3aa56b75dac4b485d0",
       "version_major": 2,
       "version_minor": 0
      },
      "text/plain": [
       "Batches:   0%|          | 0/45 [00:00<?, ?it/s]"
      ]
     },
     "metadata": {},
     "output_type": "display_data"
    },
    {
     "data": {
      "application/vnd.jupyter.widget-view+json": {
       "model_id": "d55032f5f56849ee8c3f3d22c3b645f1",
       "version_major": 2,
       "version_minor": 0
      },
      "text/plain": [
       "Batches:   0%|          | 0/5 [00:00<?, ?it/s]"
      ]
     },
     "metadata": {},
     "output_type": "display_data"
    },
    {
     "data": {
      "application/vnd.jupyter.widget-view+json": {
       "model_id": "c3ad15a29a8f4786aef1ce4842f72821",
       "version_major": 2,
       "version_minor": 0
      },
      "text/plain": [
       "Batches:   0%|          | 0/45 [00:00<?, ?it/s]"
      ]
     },
     "metadata": {},
     "output_type": "display_data"
    },
    {
     "data": {
      "application/vnd.jupyter.widget-view+json": {
       "model_id": "c093c816f0334738b7ea276bc4a1743a",
       "version_major": 2,
       "version_minor": 0
      },
      "text/plain": [
       "Batches:   0%|          | 0/5 [00:00<?, ?it/s]"
      ]
     },
     "metadata": {},
     "output_type": "display_data"
    },
    {
     "data": {
      "application/vnd.jupyter.widget-view+json": {
       "model_id": "fa49934d16e5489cb5d6fda1665b46bf",
       "version_major": 2,
       "version_minor": 0
      },
      "text/plain": [
       "Batches:   0%|          | 0/45 [00:00<?, ?it/s]"
      ]
     },
     "metadata": {},
     "output_type": "display_data"
    },
    {
     "data": {
      "application/vnd.jupyter.widget-view+json": {
       "model_id": "d542be1a43394882a488b57ab4ad78aa",
       "version_major": 2,
       "version_minor": 0
      },
      "text/plain": [
       "Batches:   0%|          | 0/5 [00:00<?, ?it/s]"
      ]
     },
     "metadata": {},
     "output_type": "display_data"
    },
    {
     "data": {
      "application/vnd.jupyter.widget-view+json": {
       "model_id": "d8114bb07ee9438e8a7c7a89480c9979",
       "version_major": 2,
       "version_minor": 0
      },
      "text/plain": [
       "Batches:   0%|          | 0/45 [00:00<?, ?it/s]"
      ]
     },
     "metadata": {},
     "output_type": "display_data"
    },
    {
     "data": {
      "application/vnd.jupyter.widget-view+json": {
       "model_id": "5b0975498422489288047b06c1d081c6",
       "version_major": 2,
       "version_minor": 0
      },
      "text/plain": [
       "Batches:   0%|          | 0/5 [00:00<?, ?it/s]"
      ]
     },
     "metadata": {},
     "output_type": "display_data"
    },
    {
     "data": {
      "application/vnd.jupyter.widget-view+json": {
       "model_id": "da4a661caf5c42988376ee8589425478",
       "version_major": 2,
       "version_minor": 0
      },
      "text/plain": [
       "Batches:   0%|          | 0/45 [00:00<?, ?it/s]"
      ]
     },
     "metadata": {},
     "output_type": "display_data"
    },
    {
     "data": {
      "application/vnd.jupyter.widget-view+json": {
       "model_id": "96ff1778de14482eb1bfc058d643db7c",
       "version_major": 2,
       "version_minor": 0
      },
      "text/plain": [
       "Batches:   0%|          | 0/5 [00:00<?, ?it/s]"
      ]
     },
     "metadata": {},
     "output_type": "display_data"
    },
    {
     "name": "stderr",
     "output_type": "stream",
     "text": [
      " 80%|███████████████████████████████████████████████████████████████████████████████████▏                    | 4/5 [05:51<01:41, 101.36s/it]"
     ]
    },
    {
     "data": {
      "application/vnd.jupyter.widget-view+json": {
       "model_id": "edcbaf0a92cb487981cc8a6fcf456163",
       "version_major": 2,
       "version_minor": 0
      },
      "text/plain": [
       "Batches:   0%|          | 0/12 [00:00<?, ?it/s]"
      ]
     },
     "metadata": {},
     "output_type": "display_data"
    },
    {
     "data": {
      "application/vnd.jupyter.widget-view+json": {
       "model_id": "e2451fd7822947b2a5852a77b18d6747",
       "version_major": 2,
       "version_minor": 0
      },
      "text/plain": [
       "Batches:   0%|          | 0/2 [00:00<?, ?it/s]"
      ]
     },
     "metadata": {},
     "output_type": "display_data"
    },
    {
     "data": {
      "application/vnd.jupyter.widget-view+json": {
       "model_id": "a9163621ce0841bfb862ef7a1f11fdea",
       "version_major": 2,
       "version_minor": 0
      },
      "text/plain": [
       "Batches:   0%|          | 0/12 [00:00<?, ?it/s]"
      ]
     },
     "metadata": {},
     "output_type": "display_data"
    },
    {
     "data": {
      "application/vnd.jupyter.widget-view+json": {
       "model_id": "c7af0eb29dad438ca5fb4f346fc1104b",
       "version_major": 2,
       "version_minor": 0
      },
      "text/plain": [
       "Batches:   0%|          | 0/2 [00:00<?, ?it/s]"
      ]
     },
     "metadata": {},
     "output_type": "display_data"
    },
    {
     "data": {
      "application/vnd.jupyter.widget-view+json": {
       "model_id": "6cbc2137a90840d4876f203411284d06",
       "version_major": 2,
       "version_minor": 0
      },
      "text/plain": [
       "Batches:   0%|          | 0/12 [00:00<?, ?it/s]"
      ]
     },
     "metadata": {},
     "output_type": "display_data"
    },
    {
     "data": {
      "application/vnd.jupyter.widget-view+json": {
       "model_id": "651633a629e844bba0120f519a3a84bc",
       "version_major": 2,
       "version_minor": 0
      },
      "text/plain": [
       "Batches:   0%|          | 0/2 [00:00<?, ?it/s]"
      ]
     },
     "metadata": {},
     "output_type": "display_data"
    },
    {
     "data": {
      "application/vnd.jupyter.widget-view+json": {
       "model_id": "b80adc8c28ee4929ae7f1c367bdca8b7",
       "version_major": 2,
       "version_minor": 0
      },
      "text/plain": [
       "Batches:   0%|          | 0/12 [00:00<?, ?it/s]"
      ]
     },
     "metadata": {},
     "output_type": "display_data"
    },
    {
     "data": {
      "application/vnd.jupyter.widget-view+json": {
       "model_id": "126beb8f6f22455ba3820263a057aff0",
       "version_major": 2,
       "version_minor": 0
      },
      "text/plain": [
       "Batches:   0%|          | 0/2 [00:00<?, ?it/s]"
      ]
     },
     "metadata": {},
     "output_type": "display_data"
    },
    {
     "data": {
      "application/vnd.jupyter.widget-view+json": {
       "model_id": "ca3e8636b1194370af15553e47a1e980",
       "version_major": 2,
       "version_minor": 0
      },
      "text/plain": [
       "Batches:   0%|          | 0/12 [00:00<?, ?it/s]"
      ]
     },
     "metadata": {},
     "output_type": "display_data"
    },
    {
     "data": {
      "application/vnd.jupyter.widget-view+json": {
       "model_id": "b5a69beccb7e4555828fea60f5135376",
       "version_major": 2,
       "version_minor": 0
      },
      "text/plain": [
       "Batches:   0%|          | 0/2 [00:00<?, ?it/s]"
      ]
     },
     "metadata": {},
     "output_type": "display_data"
    },
    {
     "data": {
      "application/vnd.jupyter.widget-view+json": {
       "model_id": "91be72d70a3b41e594dbc61b80cefa49",
       "version_major": 2,
       "version_minor": 0
      },
      "text/plain": [
       "Batches:   0%|          | 0/12 [00:00<?, ?it/s]"
      ]
     },
     "metadata": {},
     "output_type": "display_data"
    },
    {
     "data": {
      "application/vnd.jupyter.widget-view+json": {
       "model_id": "2221650a8aad4b77aec8b7ba1458f68b",
       "version_major": 2,
       "version_minor": 0
      },
      "text/plain": [
       "Batches:   0%|          | 0/2 [00:00<?, ?it/s]"
      ]
     },
     "metadata": {},
     "output_type": "display_data"
    },
    {
     "data": {
      "application/vnd.jupyter.widget-view+json": {
       "model_id": "3b97725bcff94c498146bd031a610cd8",
       "version_major": 2,
       "version_minor": 0
      },
      "text/plain": [
       "Batches:   0%|          | 0/12 [00:00<?, ?it/s]"
      ]
     },
     "metadata": {},
     "output_type": "display_data"
    },
    {
     "data": {
      "application/vnd.jupyter.widget-view+json": {
       "model_id": "da4c065b03724d918d4400dee2f8dc0e",
       "version_major": 2,
       "version_minor": 0
      },
      "text/plain": [
       "Batches:   0%|          | 0/2 [00:00<?, ?it/s]"
      ]
     },
     "metadata": {},
     "output_type": "display_data"
    },
    {
     "data": {
      "application/vnd.jupyter.widget-view+json": {
       "model_id": "9e3b738d22b448dc87692814b975bacd",
       "version_major": 2,
       "version_minor": 0
      },
      "text/plain": [
       "Batches:   0%|          | 0/12 [00:00<?, ?it/s]"
      ]
     },
     "metadata": {},
     "output_type": "display_data"
    },
    {
     "data": {
      "application/vnd.jupyter.widget-view+json": {
       "model_id": "f188ab85a38147e1bfede9541f0c961c",
       "version_major": 2,
       "version_minor": 0
      },
      "text/plain": [
       "Batches:   0%|          | 0/2 [00:00<?, ?it/s]"
      ]
     },
     "metadata": {},
     "output_type": "display_data"
    },
    {
     "data": {
      "application/vnd.jupyter.widget-view+json": {
       "model_id": "366472f6e9e44887a036dc09a551fb8a",
       "version_major": 2,
       "version_minor": 0
      },
      "text/plain": [
       "Batches:   0%|          | 0/12 [00:00<?, ?it/s]"
      ]
     },
     "metadata": {},
     "output_type": "display_data"
    },
    {
     "data": {
      "application/vnd.jupyter.widget-view+json": {
       "model_id": "016044ee68d443d9b86906eb48e1db21",
       "version_major": 2,
       "version_minor": 0
      },
      "text/plain": [
       "Batches:   0%|          | 0/2 [00:00<?, ?it/s]"
      ]
     },
     "metadata": {},
     "output_type": "display_data"
    },
    {
     "data": {
      "application/vnd.jupyter.widget-view+json": {
       "model_id": "35c8d83bb854476f859881e2c374dae1",
       "version_major": 2,
       "version_minor": 0
      },
      "text/plain": [
       "Batches:   0%|          | 0/12 [00:00<?, ?it/s]"
      ]
     },
     "metadata": {},
     "output_type": "display_data"
    },
    {
     "data": {
      "application/vnd.jupyter.widget-view+json": {
       "model_id": "dec229850b014868b3fddab879e18f4e",
       "version_major": 2,
       "version_minor": 0
      },
      "text/plain": [
       "Batches:   0%|          | 0/2 [00:00<?, ?it/s]"
      ]
     },
     "metadata": {},
     "output_type": "display_data"
    },
    {
     "name": "stderr",
     "output_type": "stream",
     "text": [
      "100%|█████████████████████████████████████████████████████████████████████████████████████████████████████████| 5/5 [06:25<00:00, 77.03s/it]\n"
     ]
    }
   ],
   "source": [
    "KFOLD = 10 # https://cran.r-project.org/web/packages/cvms/vignettes/picking_the_number_of_folds_for_cross-validation.html#:~:text=When%20performing%20cross%2Dvalidation%2C%20it,common%20to%20use%2010%20folds.\n",
    "\n",
    "# Training\n",
    "for botname in tqdm(botid.keys()):\n",
    "    for emb_type in embedding_types:\n",
    "        model = models[botname][emb_type]\n",
    "        _X = X[botname]\n",
    "        _y = y[botname]\n",
    "        scores = cross_validate(model, _X, _y,\n",
    "                                scoring=(\"f1_micro\"),\n",
    "                                cv=KFOLD, n_jobs=1)\n",
    "        f1_micro[botname][emb_type] = scores[\"test_score\"].mean().round(2)\n",
    "        # f1_macro[botname][emb_type] = scores[\"test_f1_macro\"].mean().round(2)\n",
    "        # model.fit(X[botname], y[botname])\n",
    "        # models[botname][emb_type] = model"
   ]
  },
  {
   "cell_type": "code",
   "execution_count": 18,
   "id": "82914077-0b39-447b-b2d8-0325ff8a9a23",
   "metadata": {},
   "outputs": [
    {
     "data": {
      "text/plain": [
       "{'sunlaw': {'tfidf': 0.65, 'sbert': 0.81, 'phobert': 0.59},\n",
       " 'lamhaian': {'tfidf': 0.23, 'sbert': 0.39, 'phobert': 0.22},\n",
       " 'giang.nguyen': {'tfidf': 0.26, 'sbert': 0.48, 'phobert': 0.31},\n",
       " 'panasonic': {'tfidf': 0.35, 'sbert': 0.63, 'phobert': 0.3},\n",
       " 'trung.quan': {'tfidf': 0.69, 'sbert': 0.81, 'phobert': 0.68}}"
      ]
     },
     "execution_count": 18,
     "metadata": {},
     "output_type": "execute_result"
    }
   ],
   "source": [
    "f1_micro"
   ]
  },
  {
   "cell_type": "markdown",
   "id": "55371677-a6ed-4964-b08a-d130665e0674",
   "metadata": {},
   "source": [
    "### Visualize"
   ]
  },
  {
   "cell_type": "code",
   "execution_count": 35,
   "id": "9802e83e-f393-4dc6-8f9f-1c279ad2f31e",
   "metadata": {},
   "outputs": [
    {
     "data": {
      "text/html": [
       "<div class=\"bk-root\">\n",
       "        <a href=\"https://bokeh.org\" target=\"_blank\" class=\"bk-logo bk-logo-small bk-logo-notebook\"></a>\n",
       "        <span id=\"4114\">Loading BokehJS ...</span>\n",
       "    </div>\n"
      ]
     },
     "metadata": {},
     "output_type": "display_data"
    },
    {
     "data": {
      "application/javascript": [
       "(function(root) {\n",
       "  function now() {\n",
       "    return new Date();\n",
       "  }\n",
       "\n",
       "  const force = true;\n",
       "\n",
       "  if (typeof root._bokeh_onload_callbacks === \"undefined\" || force === true) {\n",
       "    root._bokeh_onload_callbacks = [];\n",
       "    root._bokeh_is_loading = undefined;\n",
       "  }\n",
       "\n",
       "const JS_MIME_TYPE = 'application/javascript';\n",
       "  const HTML_MIME_TYPE = 'text/html';\n",
       "  const EXEC_MIME_TYPE = 'application/vnd.bokehjs_exec.v0+json';\n",
       "  const CLASS_NAME = 'output_bokeh rendered_html';\n",
       "\n",
       "  /**\n",
       "   * Render data to the DOM node\n",
       "   */\n",
       "  function render(props, node) {\n",
       "    const script = document.createElement(\"script\");\n",
       "    node.appendChild(script);\n",
       "  }\n",
       "\n",
       "  /**\n",
       "   * Handle when an output is cleared or removed\n",
       "   */\n",
       "  function handleClearOutput(event, handle) {\n",
       "    const cell = handle.cell;\n",
       "\n",
       "    const id = cell.output_area._bokeh_element_id;\n",
       "    const server_id = cell.output_area._bokeh_server_id;\n",
       "    // Clean up Bokeh references\n",
       "    if (id != null && id in Bokeh.index) {\n",
       "      Bokeh.index[id].model.document.clear();\n",
       "      delete Bokeh.index[id];\n",
       "    }\n",
       "\n",
       "    if (server_id !== undefined) {\n",
       "      // Clean up Bokeh references\n",
       "      const cmd_clean = \"from bokeh.io.state import curstate; print(curstate().uuid_to_server['\" + server_id + \"'].get_sessions()[0].document.roots[0]._id)\";\n",
       "      cell.notebook.kernel.execute(cmd_clean, {\n",
       "        iopub: {\n",
       "          output: function(msg) {\n",
       "            const id = msg.content.text.trim();\n",
       "            if (id in Bokeh.index) {\n",
       "              Bokeh.index[id].model.document.clear();\n",
       "              delete Bokeh.index[id];\n",
       "            }\n",
       "          }\n",
       "        }\n",
       "      });\n",
       "      // Destroy server and session\n",
       "      const cmd_destroy = \"import bokeh.io.notebook as ion; ion.destroy_server('\" + server_id + \"')\";\n",
       "      cell.notebook.kernel.execute(cmd_destroy);\n",
       "    }\n",
       "  }\n",
       "\n",
       "  /**\n",
       "   * Handle when a new output is added\n",
       "   */\n",
       "  function handleAddOutput(event, handle) {\n",
       "    const output_area = handle.output_area;\n",
       "    const output = handle.output;\n",
       "\n",
       "    // limit handleAddOutput to display_data with EXEC_MIME_TYPE content only\n",
       "    if ((output.output_type != \"display_data\") || (!Object.prototype.hasOwnProperty.call(output.data, EXEC_MIME_TYPE))) {\n",
       "      return\n",
       "    }\n",
       "\n",
       "    const toinsert = output_area.element.find(\".\" + CLASS_NAME.split(' ')[0]);\n",
       "\n",
       "    if (output.metadata[EXEC_MIME_TYPE][\"id\"] !== undefined) {\n",
       "      toinsert[toinsert.length - 1].firstChild.textContent = output.data[JS_MIME_TYPE];\n",
       "      // store reference to embed id on output_area\n",
       "      output_area._bokeh_element_id = output.metadata[EXEC_MIME_TYPE][\"id\"];\n",
       "    }\n",
       "    if (output.metadata[EXEC_MIME_TYPE][\"server_id\"] !== undefined) {\n",
       "      const bk_div = document.createElement(\"div\");\n",
       "      bk_div.innerHTML = output.data[HTML_MIME_TYPE];\n",
       "      const script_attrs = bk_div.children[0].attributes;\n",
       "      for (let i = 0; i < script_attrs.length; i++) {\n",
       "        toinsert[toinsert.length - 1].firstChild.setAttribute(script_attrs[i].name, script_attrs[i].value);\n",
       "        toinsert[toinsert.length - 1].firstChild.textContent = bk_div.children[0].textContent\n",
       "      }\n",
       "      // store reference to server id on output_area\n",
       "      output_area._bokeh_server_id = output.metadata[EXEC_MIME_TYPE][\"server_id\"];\n",
       "    }\n",
       "  }\n",
       "\n",
       "  function register_renderer(events, OutputArea) {\n",
       "\n",
       "    function append_mime(data, metadata, element) {\n",
       "      // create a DOM node to render to\n",
       "      const toinsert = this.create_output_subarea(\n",
       "        metadata,\n",
       "        CLASS_NAME,\n",
       "        EXEC_MIME_TYPE\n",
       "      );\n",
       "      this.keyboard_manager.register_events(toinsert);\n",
       "      // Render to node\n",
       "      const props = {data: data, metadata: metadata[EXEC_MIME_TYPE]};\n",
       "      render(props, toinsert[toinsert.length - 1]);\n",
       "      element.append(toinsert);\n",
       "      return toinsert\n",
       "    }\n",
       "\n",
       "    /* Handle when an output is cleared or removed */\n",
       "    events.on('clear_output.CodeCell', handleClearOutput);\n",
       "    events.on('delete.Cell', handleClearOutput);\n",
       "\n",
       "    /* Handle when a new output is added */\n",
       "    events.on('output_added.OutputArea', handleAddOutput);\n",
       "\n",
       "    /**\n",
       "     * Register the mime type and append_mime function with output_area\n",
       "     */\n",
       "    OutputArea.prototype.register_mime_type(EXEC_MIME_TYPE, append_mime, {\n",
       "      /* Is output safe? */\n",
       "      safe: true,\n",
       "      /* Index of renderer in `output_area.display_order` */\n",
       "      index: 0\n",
       "    });\n",
       "  }\n",
       "\n",
       "  // register the mime type if in Jupyter Notebook environment and previously unregistered\n",
       "  if (root.Jupyter !== undefined) {\n",
       "    const events = require('base/js/events');\n",
       "    const OutputArea = require('notebook/js/outputarea').OutputArea;\n",
       "\n",
       "    if (OutputArea.prototype.mime_types().indexOf(EXEC_MIME_TYPE) == -1) {\n",
       "      register_renderer(events, OutputArea);\n",
       "    }\n",
       "  }\n",
       "  if (typeof (root._bokeh_timeout) === \"undefined\" || force === true) {\n",
       "    root._bokeh_timeout = Date.now() + 5000;\n",
       "    root._bokeh_failed_load = false;\n",
       "  }\n",
       "\n",
       "  const NB_LOAD_WARNING = {'data': {'text/html':\n",
       "     \"<div style='background-color: #fdd'>\\n\"+\n",
       "     \"<p>\\n\"+\n",
       "     \"BokehJS does not appear to have successfully loaded. If loading BokehJS from CDN, this \\n\"+\n",
       "     \"may be due to a slow or bad network connection. Possible fixes:\\n\"+\n",
       "     \"</p>\\n\"+\n",
       "     \"<ul>\\n\"+\n",
       "     \"<li>re-rerun `output_notebook()` to attempt to load from CDN again, or</li>\\n\"+\n",
       "     \"<li>use INLINE resources instead, as so:</li>\\n\"+\n",
       "     \"</ul>\\n\"+\n",
       "     \"<code>\\n\"+\n",
       "     \"from bokeh.resources import INLINE\\n\"+\n",
       "     \"output_notebook(resources=INLINE)\\n\"+\n",
       "     \"</code>\\n\"+\n",
       "     \"</div>\"}};\n",
       "\n",
       "  function display_loaded() {\n",
       "    const el = document.getElementById(\"4114\");\n",
       "    if (el != null) {\n",
       "      el.textContent = \"BokehJS is loading...\";\n",
       "    }\n",
       "    if (root.Bokeh !== undefined) {\n",
       "      if (el != null) {\n",
       "        el.textContent = \"BokehJS \" + root.Bokeh.version + \" successfully loaded.\";\n",
       "      }\n",
       "    } else if (Date.now() < root._bokeh_timeout) {\n",
       "      setTimeout(display_loaded, 100)\n",
       "    }\n",
       "  }\n",
       "\n",
       "  function run_callbacks() {\n",
       "    try {\n",
       "      root._bokeh_onload_callbacks.forEach(function(callback) {\n",
       "        if (callback != null)\n",
       "          callback();\n",
       "      });\n",
       "    } finally {\n",
       "      delete root._bokeh_onload_callbacks\n",
       "    }\n",
       "    console.debug(\"Bokeh: all callbacks have finished\");\n",
       "  }\n",
       "\n",
       "  function load_libs(css_urls, js_urls, callback) {\n",
       "    if (css_urls == null) css_urls = [];\n",
       "    if (js_urls == null) js_urls = [];\n",
       "\n",
       "    root._bokeh_onload_callbacks.push(callback);\n",
       "    if (root._bokeh_is_loading > 0) {\n",
       "      console.debug(\"Bokeh: BokehJS is being loaded, scheduling callback at\", now());\n",
       "      return null;\n",
       "    }\n",
       "    if (js_urls == null || js_urls.length === 0) {\n",
       "      run_callbacks();\n",
       "      return null;\n",
       "    }\n",
       "    console.debug(\"Bokeh: BokehJS not loaded, scheduling load and callback at\", now());\n",
       "    root._bokeh_is_loading = css_urls.length + js_urls.length;\n",
       "\n",
       "    function on_load() {\n",
       "      root._bokeh_is_loading--;\n",
       "      if (root._bokeh_is_loading === 0) {\n",
       "        console.debug(\"Bokeh: all BokehJS libraries/stylesheets loaded\");\n",
       "        run_callbacks()\n",
       "      }\n",
       "    }\n",
       "\n",
       "    function on_error(url) {\n",
       "      console.error(\"failed to load \" + url);\n",
       "    }\n",
       "\n",
       "    for (let i = 0; i < css_urls.length; i++) {\n",
       "      const url = css_urls[i];\n",
       "      const element = document.createElement(\"link\");\n",
       "      element.onload = on_load;\n",
       "      element.onerror = on_error.bind(null, url);\n",
       "      element.rel = \"stylesheet\";\n",
       "      element.type = \"text/css\";\n",
       "      element.href = url;\n",
       "      console.debug(\"Bokeh: injecting link tag for BokehJS stylesheet: \", url);\n",
       "      document.body.appendChild(element);\n",
       "    }\n",
       "\n",
       "    for (let i = 0; i < js_urls.length; i++) {\n",
       "      const url = js_urls[i];\n",
       "      const element = document.createElement('script');\n",
       "      element.onload = on_load;\n",
       "      element.onerror = on_error.bind(null, url);\n",
       "      element.async = false;\n",
       "      element.src = url;\n",
       "      console.debug(\"Bokeh: injecting script tag for BokehJS library: \", url);\n",
       "      document.head.appendChild(element);\n",
       "    }\n",
       "  };\n",
       "\n",
       "  function inject_raw_css(css) {\n",
       "    const element = document.createElement(\"style\");\n",
       "    element.appendChild(document.createTextNode(css));\n",
       "    document.body.appendChild(element);\n",
       "  }\n",
       "\n",
       "  const js_urls = [\"https://cdn.bokeh.org/bokeh/release/bokeh-2.4.3.min.js\", \"https://cdn.bokeh.org/bokeh/release/bokeh-gl-2.4.3.min.js\", \"https://cdn.bokeh.org/bokeh/release/bokeh-widgets-2.4.3.min.js\", \"https://cdn.bokeh.org/bokeh/release/bokeh-tables-2.4.3.min.js\", \"https://cdn.bokeh.org/bokeh/release/bokeh-mathjax-2.4.3.min.js\"];\n",
       "  const css_urls = [];\n",
       "\n",
       "  const inline_js = [    function(Bokeh) {\n",
       "      Bokeh.set_log_level(\"info\");\n",
       "    },\n",
       "function(Bokeh) {\n",
       "    }\n",
       "  ];\n",
       "\n",
       "  function run_inline_js() {\n",
       "    if (root.Bokeh !== undefined || force === true) {\n",
       "          for (let i = 0; i < inline_js.length; i++) {\n",
       "      inline_js[i].call(root, root.Bokeh);\n",
       "    }\n",
       "if (force === true) {\n",
       "        display_loaded();\n",
       "      }} else if (Date.now() < root._bokeh_timeout) {\n",
       "      setTimeout(run_inline_js, 100);\n",
       "    } else if (!root._bokeh_failed_load) {\n",
       "      console.log(\"Bokeh: BokehJS failed to load within specified timeout.\");\n",
       "      root._bokeh_failed_load = true;\n",
       "    } else if (force !== true) {\n",
       "      const cell = $(document.getElementById(\"4114\")).parents('.cell').data().cell;\n",
       "      cell.output_area.append_execute_result(NB_LOAD_WARNING)\n",
       "    }\n",
       "  }\n",
       "\n",
       "  if (root._bokeh_is_loading === 0) {\n",
       "    console.debug(\"Bokeh: BokehJS loaded, going straight to plotting\");\n",
       "    run_inline_js();\n",
       "  } else {\n",
       "    load_libs(css_urls, js_urls, function() {\n",
       "      console.debug(\"Bokeh: BokehJS plotting callback run at\", now());\n",
       "      run_inline_js();\n",
       "    });\n",
       "  }\n",
       "}(window));"
      ],
      "application/vnd.bokehjs_load.v0+json": "(function(root) {\n  function now() {\n    return new Date();\n  }\n\n  const force = true;\n\n  if (typeof root._bokeh_onload_callbacks === \"undefined\" || force === true) {\n    root._bokeh_onload_callbacks = [];\n    root._bokeh_is_loading = undefined;\n  }\n\n\n  if (typeof (root._bokeh_timeout) === \"undefined\" || force === true) {\n    root._bokeh_timeout = Date.now() + 5000;\n    root._bokeh_failed_load = false;\n  }\n\n  const NB_LOAD_WARNING = {'data': {'text/html':\n     \"<div style='background-color: #fdd'>\\n\"+\n     \"<p>\\n\"+\n     \"BokehJS does not appear to have successfully loaded. If loading BokehJS from CDN, this \\n\"+\n     \"may be due to a slow or bad network connection. Possible fixes:\\n\"+\n     \"</p>\\n\"+\n     \"<ul>\\n\"+\n     \"<li>re-rerun `output_notebook()` to attempt to load from CDN again, or</li>\\n\"+\n     \"<li>use INLINE resources instead, as so:</li>\\n\"+\n     \"</ul>\\n\"+\n     \"<code>\\n\"+\n     \"from bokeh.resources import INLINE\\n\"+\n     \"output_notebook(resources=INLINE)\\n\"+\n     \"</code>\\n\"+\n     \"</div>\"}};\n\n  function display_loaded() {\n    const el = document.getElementById(\"4114\");\n    if (el != null) {\n      el.textContent = \"BokehJS is loading...\";\n    }\n    if (root.Bokeh !== undefined) {\n      if (el != null) {\n        el.textContent = \"BokehJS \" + root.Bokeh.version + \" successfully loaded.\";\n      }\n    } else if (Date.now() < root._bokeh_timeout) {\n      setTimeout(display_loaded, 100)\n    }\n  }\n\n  function run_callbacks() {\n    try {\n      root._bokeh_onload_callbacks.forEach(function(callback) {\n        if (callback != null)\n          callback();\n      });\n    } finally {\n      delete root._bokeh_onload_callbacks\n    }\n    console.debug(\"Bokeh: all callbacks have finished\");\n  }\n\n  function load_libs(css_urls, js_urls, callback) {\n    if (css_urls == null) css_urls = [];\n    if (js_urls == null) js_urls = [];\n\n    root._bokeh_onload_callbacks.push(callback);\n    if (root._bokeh_is_loading > 0) {\n      console.debug(\"Bokeh: BokehJS is being loaded, scheduling callback at\", now());\n      return null;\n    }\n    if (js_urls == null || js_urls.length === 0) {\n      run_callbacks();\n      return null;\n    }\n    console.debug(\"Bokeh: BokehJS not loaded, scheduling load and callback at\", now());\n    root._bokeh_is_loading = css_urls.length + js_urls.length;\n\n    function on_load() {\n      root._bokeh_is_loading--;\n      if (root._bokeh_is_loading === 0) {\n        console.debug(\"Bokeh: all BokehJS libraries/stylesheets loaded\");\n        run_callbacks()\n      }\n    }\n\n    function on_error(url) {\n      console.error(\"failed to load \" + url);\n    }\n\n    for (let i = 0; i < css_urls.length; i++) {\n      const url = css_urls[i];\n      const element = document.createElement(\"link\");\n      element.onload = on_load;\n      element.onerror = on_error.bind(null, url);\n      element.rel = \"stylesheet\";\n      element.type = \"text/css\";\n      element.href = url;\n      console.debug(\"Bokeh: injecting link tag for BokehJS stylesheet: \", url);\n      document.body.appendChild(element);\n    }\n\n    for (let i = 0; i < js_urls.length; i++) {\n      const url = js_urls[i];\n      const element = document.createElement('script');\n      element.onload = on_load;\n      element.onerror = on_error.bind(null, url);\n      element.async = false;\n      element.src = url;\n      console.debug(\"Bokeh: injecting script tag for BokehJS library: \", url);\n      document.head.appendChild(element);\n    }\n  };\n\n  function inject_raw_css(css) {\n    const element = document.createElement(\"style\");\n    element.appendChild(document.createTextNode(css));\n    document.body.appendChild(element);\n  }\n\n  const js_urls = [\"https://cdn.bokeh.org/bokeh/release/bokeh-2.4.3.min.js\", \"https://cdn.bokeh.org/bokeh/release/bokeh-gl-2.4.3.min.js\", \"https://cdn.bokeh.org/bokeh/release/bokeh-widgets-2.4.3.min.js\", \"https://cdn.bokeh.org/bokeh/release/bokeh-tables-2.4.3.min.js\", \"https://cdn.bokeh.org/bokeh/release/bokeh-mathjax-2.4.3.min.js\"];\n  const css_urls = [];\n\n  const inline_js = [    function(Bokeh) {\n      Bokeh.set_log_level(\"info\");\n    },\nfunction(Bokeh) {\n    }\n  ];\n\n  function run_inline_js() {\n    if (root.Bokeh !== undefined || force === true) {\n          for (let i = 0; i < inline_js.length; i++) {\n      inline_js[i].call(root, root.Bokeh);\n    }\nif (force === true) {\n        display_loaded();\n      }} else if (Date.now() < root._bokeh_timeout) {\n      setTimeout(run_inline_js, 100);\n    } else if (!root._bokeh_failed_load) {\n      console.log(\"Bokeh: BokehJS failed to load within specified timeout.\");\n      root._bokeh_failed_load = true;\n    } else if (force !== true) {\n      const cell = $(document.getElementById(\"4114\")).parents('.cell').data().cell;\n      cell.output_area.append_execute_result(NB_LOAD_WARNING)\n    }\n  }\n\n  if (root._bokeh_is_loading === 0) {\n    console.debug(\"Bokeh: BokehJS loaded, going straight to plotting\");\n    run_inline_js();\n  } else {\n    load_libs(css_urls, js_urls, function() {\n      console.debug(\"Bokeh: BokehJS plotting callback run at\", now());\n      run_inline_js();\n    });\n  }\n}(window));"
     },
     "metadata": {},
     "output_type": "display_data"
    },
    {
     "data": {
      "text/html": [
       "\n",
       "  <div class=\"bk-root\" id=\"56bda743-8e2f-488b-82e1-304943339e64\" data-root-id=\"4116\"></div>\n"
      ]
     },
     "metadata": {},
     "output_type": "display_data"
    },
    {
     "data": {
      "application/javascript": [
       "(function(root) {\n",
       "  function embed_document(root) {\n",
       "  const docs_json = {\"58480240-b43c-45f7-bb0c-f503da499d8a\":{\"defs\":[],\"roots\":{\"references\":[{\"attributes\":{\"below\":[{\"id\":\"4127\"}],\"center\":[{\"id\":\"4129\"},{\"id\":\"4133\"},{\"id\":\"4151\"}],\"height\":450,\"left\":[{\"id\":\"4130\"}],\"renderers\":[{\"id\":\"4140\"},{\"id\":\"4158\"},{\"id\":\"4175\"}],\"title\":{\"id\":\"4117\"},\"toolbar\":{\"id\":\"4134\"},\"toolbar_location\":null,\"x_range\":{\"id\":\"4119\"},\"x_scale\":{\"id\":\"4123\"},\"y_range\":{\"id\":\"4121\"},\"y_scale\":{\"id\":\"4125\"}},\"id\":\"4116\",\"subtype\":\"Figure\",\"type\":\"Plot\"},{\"attributes\":{\"fill_color\":{\"value\":\"#e84d60\"},\"hatch_color\":{\"value\":\"#e84d60\"},\"line_color\":{\"value\":\"#e84d60\"},\"top\":{\"field\":\"phobert\"},\"width\":{\"value\":0.2},\"x\":{\"field\":\"botnames\",\"transform\":{\"id\":\"4170\"}}},\"id\":\"4172\",\"type\":\"VBar\"},{\"attributes\":{\"range\":{\"id\":\"4119\"},\"value\":-0.25},\"id\":\"4135\",\"type\":\"Dodge\"},{\"attributes\":{\"axis\":{\"id\":\"4127\"},\"coordinates\":null,\"grid_line_color\":null,\"group\":null,\"ticker\":null},\"id\":\"4129\",\"type\":\"Grid\"},{\"attributes\":{},\"id\":\"4145\",\"type\":\"AllLabels\"},{\"attributes\":{},\"id\":\"4125\",\"type\":\"LinearScale\"},{\"attributes\":{},\"id\":\"4147\",\"type\":\"CategoricalTickFormatter\"},{\"attributes\":{\"fill_alpha\":{\"value\":0.2},\"fill_color\":{\"value\":\"#e84d60\"},\"hatch_alpha\":{\"value\":0.2},\"hatch_color\":{\"value\":\"#e84d60\"},\"line_alpha\":{\"value\":0.2},\"line_color\":{\"value\":\"#e84d60\"},\"top\":{\"field\":\"phobert\"},\"width\":{\"value\":0.2},\"x\":{\"field\":\"botnames\",\"transform\":{\"id\":\"4170\"}}},\"id\":\"4174\",\"type\":\"VBar\"},{\"attributes\":{\"axis_label\":\"f1 micro\",\"coordinates\":null,\"formatter\":{\"id\":\"4144\"},\"group\":null,\"major_label_policy\":{\"id\":\"4145\"},\"ticker\":{\"id\":\"4131\"}},\"id\":\"4130\",\"type\":\"LinearAxis\"},{\"attributes\":{},\"id\":\"4144\",\"type\":\"BasicTickFormatter\"},{\"attributes\":{},\"id\":\"4148\",\"type\":\"AllLabels\"},{\"attributes\":{},\"id\":\"4149\",\"type\":\"UnionRenderers\"},{\"attributes\":{\"coordinates\":null,\"data_source\":{\"id\":\"4115\"},\"glyph\":{\"id\":\"4172\"},\"group\":null,\"hover_glyph\":null,\"muted_glyph\":{\"id\":\"4174\"},\"nonselection_glyph\":{\"id\":\"4173\"},\"view\":{\"id\":\"4176\"}},\"id\":\"4175\",\"type\":\"GlyphRenderer\"},{\"attributes\":{\"coordinates\":null,\"formatter\":{\"id\":\"4147\"},\"group\":null,\"major_label_policy\":{\"id\":\"4148\"},\"ticker\":{\"id\":\"4128\"}},\"id\":\"4127\",\"type\":\"CategoricalAxis\"},{\"attributes\":{\"factors\":[\"sunlaw\",\"lamhaian\",\"giang.nguyen\",\"panasonic\",\"trung.quan\"],\"range_padding\":0.1},\"id\":\"4119\",\"type\":\"FactorRange\"},{\"attributes\":{\"fill_alpha\":{\"value\":0.1},\"fill_color\":{\"value\":\"#e84d60\"},\"hatch_alpha\":{\"value\":0.1},\"hatch_color\":{\"value\":\"#e84d60\"},\"line_alpha\":{\"value\":0.1},\"line_color\":{\"value\":\"#e84d60\"},\"top\":{\"field\":\"phobert\"},\"width\":{\"value\":0.2},\"x\":{\"field\":\"botnames\",\"transform\":{\"id\":\"4170\"}}},\"id\":\"4173\",\"type\":\"VBar\"},{\"attributes\":{\"label\":{\"value\":\"PhoBERT-base (No FT)\"},\"renderers\":[{\"id\":\"4175\"}]},\"id\":\"4186\",\"type\":\"LegendItem\"},{\"attributes\":{},\"id\":\"4150\",\"type\":\"Selection\"},{\"attributes\":{\"source\":{\"id\":\"4115\"}},\"id\":\"4176\",\"type\":\"CDSView\"},{\"attributes\":{},\"id\":\"4131\",\"type\":\"BasicTicker\"},{\"attributes\":{\"range\":{\"id\":\"4119\"},\"value\":0.25},\"id\":\"4170\",\"type\":\"Dodge\"},{\"attributes\":{\"coordinates\":null,\"group\":null,\"items\":[{\"id\":\"4152\"},{\"id\":\"4169\"},{\"id\":\"4186\"}],\"location\":\"top_center\"},\"id\":\"4151\",\"type\":\"Legend\"},{\"attributes\":{\"label\":{\"value\":\"Vietnamese SBERT (No FT)\"},\"renderers\":[{\"id\":\"4158\"}]},\"id\":\"4169\",\"type\":\"LegendItem\"},{\"attributes\":{\"fill_color\":{\"value\":\"#c9d9d3\"},\"hatch_color\":{\"value\":\"#c9d9d3\"},\"line_color\":{\"value\":\"#c9d9d3\"},\"top\":{\"field\":\"tfidf\"},\"width\":{\"value\":0.2},\"x\":{\"field\":\"botnames\",\"transform\":{\"id\":\"4135\"}}},\"id\":\"4137\",\"type\":\"VBar\"},{\"attributes\":{},\"id\":\"4134\",\"type\":\"Toolbar\"},{\"attributes\":{\"coordinates\":null,\"data_source\":{\"id\":\"4115\"},\"glyph\":{\"id\":\"4137\"},\"group\":null,\"hover_glyph\":null,\"muted_glyph\":{\"id\":\"4139\"},\"nonselection_glyph\":{\"id\":\"4138\"},\"view\":{\"id\":\"4141\"}},\"id\":\"4140\",\"type\":\"GlyphRenderer\"},{\"attributes\":{\"range\":{\"id\":\"4119\"}},\"id\":\"4153\",\"type\":\"Dodge\"},{\"attributes\":{\"fill_color\":{\"value\":\"#718dbf\"},\"hatch_color\":{\"value\":\"#718dbf\"},\"line_color\":{\"value\":\"#718dbf\"},\"top\":{\"field\":\"sbert\"},\"width\":{\"value\":0.2},\"x\":{\"field\":\"botnames\",\"transform\":{\"id\":\"4153\"}}},\"id\":\"4155\",\"type\":\"VBar\"},{\"attributes\":{\"axis\":{\"id\":\"4130\"},\"coordinates\":null,\"dimension\":1,\"group\":null,\"ticker\":null},\"id\":\"4133\",\"type\":\"Grid\"},{\"attributes\":{},\"id\":\"4128\",\"type\":\"CategoricalTicker\"},{\"attributes\":{\"fill_alpha\":{\"value\":0.1},\"fill_color\":{\"value\":\"#c9d9d3\"},\"hatch_alpha\":{\"value\":0.1},\"hatch_color\":{\"value\":\"#c9d9d3\"},\"line_alpha\":{\"value\":0.1},\"line_color\":{\"value\":\"#c9d9d3\"},\"top\":{\"field\":\"tfidf\"},\"width\":{\"value\":0.2},\"x\":{\"field\":\"botnames\",\"transform\":{\"id\":\"4135\"}}},\"id\":\"4138\",\"type\":\"VBar\"},{\"attributes\":{\"fill_alpha\":{\"value\":0.2},\"fill_color\":{\"value\":\"#718dbf\"},\"hatch_alpha\":{\"value\":0.2},\"hatch_color\":{\"value\":\"#718dbf\"},\"line_alpha\":{\"value\":0.2},\"line_color\":{\"value\":\"#718dbf\"},\"top\":{\"field\":\"sbert\"},\"width\":{\"value\":0.2},\"x\":{\"field\":\"botnames\",\"transform\":{\"id\":\"4153\"}}},\"id\":\"4157\",\"type\":\"VBar\"},{\"attributes\":{\"data\":{\"botnames\":[\"sunlaw\",\"lamhaian\",\"giang.nguyen\",\"panasonic\",\"trung.quan\"],\"phobert\":[0.59,0.22,0.31,0.3,0.68],\"sbert\":[0.81,0.39,0.48,0.63,0.81],\"tfidf\":[0.65,0.23,0.26,0.35,0.69]},\"selected\":{\"id\":\"4150\"},\"selection_policy\":{\"id\":\"4149\"}},\"id\":\"4115\",\"type\":\"ColumnDataSource\"},{\"attributes\":{\"source\":{\"id\":\"4115\"}},\"id\":\"4141\",\"type\":\"CDSView\"},{\"attributes\":{},\"id\":\"4123\",\"type\":\"CategoricalScale\"},{\"attributes\":{\"coordinates\":null,\"data_source\":{\"id\":\"4115\"},\"glyph\":{\"id\":\"4155\"},\"group\":null,\"hover_glyph\":null,\"muted_glyph\":{\"id\":\"4157\"},\"nonselection_glyph\":{\"id\":\"4156\"},\"view\":{\"id\":\"4159\"}},\"id\":\"4158\",\"type\":\"GlyphRenderer\"},{\"attributes\":{\"fill_alpha\":{\"value\":0.2},\"fill_color\":{\"value\":\"#c9d9d3\"},\"hatch_alpha\":{\"value\":0.2},\"hatch_color\":{\"value\":\"#c9d9d3\"},\"line_alpha\":{\"value\":0.2},\"line_color\":{\"value\":\"#c9d9d3\"},\"top\":{\"field\":\"tfidf\"},\"width\":{\"value\":0.2},\"x\":{\"field\":\"botnames\",\"transform\":{\"id\":\"4135\"}}},\"id\":\"4139\",\"type\":\"VBar\"},{\"attributes\":{\"fill_alpha\":{\"value\":0.1},\"fill_color\":{\"value\":\"#718dbf\"},\"hatch_alpha\":{\"value\":0.1},\"hatch_color\":{\"value\":\"#718dbf\"},\"line_alpha\":{\"value\":0.1},\"line_color\":{\"value\":\"#718dbf\"},\"top\":{\"field\":\"sbert\"},\"width\":{\"value\":0.2},\"x\":{\"field\":\"botnames\",\"transform\":{\"id\":\"4153\"}}},\"id\":\"4156\",\"type\":\"VBar\"},{\"attributes\":{\"label\":{\"value\":\"TF-IDF (Baseline)\"},\"renderers\":[{\"id\":\"4140\"}]},\"id\":\"4152\",\"type\":\"LegendItem\"},{\"attributes\":{},\"id\":\"4121\",\"type\":\"Range1d\"},{\"attributes\":{\"source\":{\"id\":\"4115\"}},\"id\":\"4159\",\"type\":\"CDSView\"},{\"attributes\":{\"coordinates\":null,\"group\":null,\"text\":\"Models Benchmark (w/ diff vectorizer)\"},\"id\":\"4117\",\"type\":\"Title\"}],\"root_ids\":[\"4116\"]},\"title\":\"Bokeh Application\",\"version\":\"2.4.3\"}};\n",
       "  const render_items = [{\"docid\":\"58480240-b43c-45f7-bb0c-f503da499d8a\",\"root_ids\":[\"4116\"],\"roots\":{\"4116\":\"56bda743-8e2f-488b-82e1-304943339e64\"}}];\n",
       "  root.Bokeh.embed.embed_items_notebook(docs_json, render_items);\n",
       "  }\n",
       "  if (root.Bokeh !== undefined) {\n",
       "    embed_document(root);\n",
       "  } else {\n",
       "    let attempts = 0;\n",
       "    const timer = setInterval(function(root) {\n",
       "      if (root.Bokeh !== undefined) {\n",
       "        clearInterval(timer);\n",
       "        embed_document(root);\n",
       "      } else {\n",
       "        attempts++;\n",
       "        if (attempts > 100) {\n",
       "          clearInterval(timer);\n",
       "          console.log(\"Bokeh: ERROR: Unable to run BokehJS code because BokehJS library is missing\");\n",
       "        }\n",
       "      }\n",
       "    }, 10, root)\n",
       "  }\n",
       "})(window);"
      ],
      "application/vnd.bokehjs_exec.v0+json": ""
     },
     "metadata": {
      "application/vnd.bokehjs_exec.v0+json": {
       "id": "4116"
      }
     },
     "output_type": "display_data"
    }
   ],
   "source": [
    "# Ref: https://docs.bokeh.org/en/latest/docs/user_guide/categorical.html#visual-offset\n",
    "\n",
    "output_notebook()\n",
    "# output_file(\"./dodged_bars.html\")\n",
    "\n",
    "botnames = [botname for botname in botid.keys()]\n",
    "vis_tfidf = [f1_micro[botname][\"tfidf\"] for botname in botnames]\n",
    "vis_sbert = [f1_micro[botname][\"sbert\"] for botname in botnames]\n",
    "vis_phobert = [f1_micro[botname][\"phobert\"] for botname in botnames]\n",
    "\n",
    "vis_data = {\n",
    "    \"botnames\": botnames,\n",
    "    \"tfidf\": vis_tfidf,\n",
    "    \"sbert\": vis_sbert,\n",
    "    \"phobert\": vis_phobert\n",
    "}\n",
    "\n",
    "source = ColumnDataSource(data=vis_data)\n",
    "\n",
    "TITLE = \"Models Benchmark (w/ diff vectorizer)\"\n",
    "p = figure(x_range=botnames, y_range=(0, 1), height=40,\n",
    "           title=TITLE, toolbar_location=None, tools=\"\")\n",
    "\n",
    "p.vbar(x=dodge(\"botnames\", -0.25, range=p.x_range),\n",
    "       top=\"tfidf\", width=0.2, source=source,\n",
    "       color=\"#c9d9d3\", legend_label=\"TF-IDF (Baseline)\")\n",
    "\n",
    "p.vbar(x=dodge(\"botnames\", 0.0, range=p.x_range),\n",
    "       top=\"sbert\", width=0.2, source=source,\n",
    "       color=\"#718dbf\", legend_label=\"Vietnamese SBERT (No FT)\")\n",
    "\n",
    "p.vbar(x=dodge(\"botnames\", 0.25, range=p.x_range),\n",
    "       top=\"phobert\", width=0.2, source=source,\n",
    "       color=\"#e84d60\", legend_label=\"PhoBERT-base (No FT)\")\n",
    "\n",
    "p.x_range.range_padding = 0.1\n",
    "p.xgrid.grid_line_color = None\n",
    "p.yaxis.axis_label = \"f1 micro\"\n",
    "p.legend.orientation = \"vertical\"\n",
    "p.legend.location = \"top_center\"\n",
    "\n",
    "show(p)\n",
    "\n",
    "# p.background_fill_color = None\n",
    "# p.border_fill_color = None\n",
    "# export_png(p, filename=\"../imgs/emb_benchmark.png\")"
   ]
  },
  {
   "cell_type": "markdown",
   "id": "affb0093-8e04-43e2-a819-4190a47bb733",
   "metadata": {},
   "source": [
    "## Evaluate"
   ]
  },
  {
   "cell_type": "code",
   "execution_count": null,
   "id": "437f3830-0c94-4b21-9d85-579d0c9dff47",
   "metadata": {},
   "outputs": [],
   "source": []
  }
 ],
 "metadata": {
  "kernelspec": {
   "display_name": "Python 3 (ipykernel)",
   "language": "python",
   "name": "python3"
  },
  "language_info": {
   "codemirror_mode": {
    "name": "ipython",
    "version": 3
   },
   "file_extension": ".py",
   "mimetype": "text/x-python",
   "name": "python",
   "nbconvert_exporter": "python",
   "pygments_lexer": "ipython3",
   "version": "3.7.12"
  },
  "toc-autonumbering": true,
  "toc-showcode": false,
  "toc-showmarkdowntxt": false
 },
 "nbformat": 4,
 "nbformat_minor": 5
}
