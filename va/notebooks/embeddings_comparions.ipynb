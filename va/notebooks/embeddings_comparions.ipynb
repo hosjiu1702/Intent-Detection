{
 "cells": [
  {
   "cell_type": "code",
   "execution_count": 1,
   "id": "313b5b50-4e54-4872-9e9e-25e412e2cad5",
   "metadata": {},
   "outputs": [],
   "source": [
    "from pyvi import ViTokenizer\n",
    "from sklearn.linear_model import LogisticRegression\n",
    "from sklearn.feature_extraction.text import TfidfVectorizer\n",
    "\n",
    "from va.src.utils.data import load_va_data"
   ]
  },
  {
   "cell_type": "markdown",
   "id": "cbf03662-5321-4e02-a7bf-d6f6534a3a40",
   "metadata": {},
   "source": [
    "## Load Data"
   ]
  },
  {
   "cell_type": "code",
   "execution_count": 3,
   "id": "cc251d40-b617-49b8-b398-10c96723a1a6",
   "metadata": {},
   "outputs": [],
   "source": [
    "PATH = \"../data/trungquan/trainset.xlsx\"\n",
    "X, y = load_va_data(PATH)"
   ]
  },
  {
   "cell_type": "markdown",
   "id": "59b5a1bb-dad2-40f0-84b3-e49e2245a063",
   "metadata": {},
   "source": [
    "## Text Embedding"
   ]
  },
  {
   "cell_type": "markdown",
   "id": "de6a555c-a72a-4ed7-b92e-ef047e34aeb9",
   "metadata": {
    "tags": []
   },
   "source": [
    "### TF-IDF"
   ]
  },
  {
   "cell_type": "code",
   "execution_count": 8,
   "id": "f64c314a-268d-45a3-9840-75af36da9583",
   "metadata": {},
   "outputs": [],
   "source": [
    "tfidf = TfidfVectorizer(token_pattern=r\"(?u)\\b\\w+\\b\")"
   ]
  }
 ],
 "metadata": {
  "kernelspec": {
   "display_name": "Python 3 (ipykernel)",
   "language": "python",
   "name": "python3"
  },
  "language_info": {
   "codemirror_mode": {
    "name": "ipython",
    "version": 3
   },
   "file_extension": ".py",
   "mimetype": "text/x-python",
   "name": "python",
   "nbconvert_exporter": "python",
   "pygments_lexer": "ipython3",
   "version": "3.7.12"
  }
 },
 "nbformat": 4,
 "nbformat_minor": 5
}
