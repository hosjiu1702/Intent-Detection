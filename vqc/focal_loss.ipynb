{
 "cells": [
  {
   "cell_type": "markdown",
   "id": "59207dca",
   "metadata": {},
   "source": [
    "Some useful links:\n",
    "\n",
    "* [https://amaarora.github.io/2020/06/29/FocalLoss.html](https://amaarora.github.io/2020/06/29/FocalLoss.html)\n",
    "\n",
    "* [https://leimao.github.io/blog/Focal-Loss-Explained/](https://leimao.github.io/blog/Focal-Loss-Explained/)\n",
    "\n",
    "* [https://www.youtube.com/watch?v=44tlnmmt3h0](https://www.youtube.com/watch?v=44tlnmmt3h0)\n",
    "\n",
    "* [https://arxiv.org/pdf/1708.02002.pdf](https://arxiv.org/pdf/1708.02002.pdf) (original paper)\n",
    "* [https://github.com/facebookresearch/fvcore/blob/main/fvcore/nn/focal_loss.py](https://github.com/facebookresearch/fvcore/blob/main/fvcore/nn/focal_loss.py)"
   ]
  },
  {
   "cell_type": "code",
   "execution_count": null,
   "id": "8fb0104b",
   "metadata": {},
   "outputs": [],
   "source": [
    "def focal_loss(outputs, targets):\n",
    "    \"\"\" Focal Loss implementation from\n",
    "    https://arxiv.org/pdf/1708.02002.pdf\n",
    "    \"\"\"\n",
    "    "
   ]
  }
 ],
 "metadata": {
  "kernelspec": {
   "display_name": "Python 3 (ipykernel)",
   "language": "python",
   "name": "python3"
  },
  "language_info": {
   "codemirror_mode": {
    "name": "ipython",
    "version": 3
   },
   "file_extension": ".py",
   "mimetype": "text/x-python",
   "name": "python",
   "nbconvert_exporter": "python",
   "pygments_lexer": "ipython3",
   "version": "3.7.12"
  }
 },
 "nbformat": 4,
 "nbformat_minor": 5
}
